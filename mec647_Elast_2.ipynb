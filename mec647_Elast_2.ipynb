{
  "nbformat": 4,
  "nbformat_minor": 0,
  "metadata": {
    "colab": {
      "name": "mec647_Elast_2.ipynb",
      "provenance": [],
      "collapsed_sections": [],
      "authorship_tag": "ABX9TyMIWls966rxASM9l6qIo14P",
      "include_colab_link": true
    },
    "kernelspec": {
      "name": "python3",
      "display_name": "Python 3"
    },
    "language_info": {
      "name": "python"
    }
  },
  "cells": [
    {
      "cell_type": "markdown",
      "metadata": {
        "id": "view-in-github",
        "colab_type": "text"
      },
      "source": [
        "<a href=\"https://colab.research.google.com/github/kumiori/mec647/blob/main/mec647_Elast_2.ipynb\" target=\"_parent\"><img src=\"https://colab.research.google.com/assets/colab-badge.svg\" alt=\"Open In Colab\"/></a>"
      ]
    },
    {
      "cell_type": "code",
      "execution_count": 2,
      "metadata": {
        "id": "NudXugSpxSzy"
      },
      "outputs": [],
      "source": [
        "%%capture\n",
        "import sys\n",
        "\n",
        "try:\n",
        "    import google.colab  # noqa: F401\n",
        "except ImportError:\n",
        "    import ufl  # noqa: F401\n",
        "    import dolfinx  # noqa: F401\n",
        "else:\n",
        "    try:\n",
        "        import ufl\n",
        "        import dolfinx\n",
        "    except ImportError:\n",
        "        !wget \"https://fem-on-colab.github.io/releases/fenicsx-install.sh\" -O \"/tmp/fenicsx-install.sh\" && bash \"/tmp/fenicsx-install.sh\";\n",
        "        import ufl  # noqa: F401\n",
        "        import dolfinx  # noqa: F401"
      ]
    },
    {
      "cell_type": "code",
      "source": [
        "%%capture\n",
        "!sudo apt install libgl1-mesa-glx xvfb;\n",
        "!{sys.executable} -m pip install pythreejs;\n",
        "!{sys.executable} -m pip install ipygany;\n",
        "!{sys.executable} -m pip install --upgrade pyyaml\n",
        "try:\n",
        "    import google.colab\n",
        "except ImportError:\n",
        "    pass\n",
        "else:\n",
        "    pass\n",
        "    # google.colab.output.enable_custom_widget_manager();\n",
        "try:\n",
        "    import pyvista\n",
        "except ImportError:\n",
        "    !pip3 install --upgrade pyvista itkwidgets;\n",
        "    import pyvista  # noqa: F401"
      ],
      "metadata": {
        "id": "7Sfwa68oxYgh"
      },
      "execution_count": 3,
      "outputs": []
    },
    {
      "cell_type": "markdown",
      "source": [
        "# The problem of elasticity\n",
        "\n",
        "\n",
        "Let $\\Omega \\subset (0, L)^n$, with $L$ finite, and consider the energy $E(u)$ defined as\n",
        "$$\n",
        "E(u)=\\frac{1}{2}\\int_\\Omega A e(u): e(u) dx - \\int_\\Omega f.u dx$$\n",
        "we solve:\n",
        "$$min \\left\\{ E(u):  u \\in V_t\\right\\}$$ with $ V_t : H^1(\\Omega, R^n)$ plus boundary conditions. \n",
        "\n",
        "From a mechanical  standpoint, \n",
        "From a mathematical standpoint,\n",
        "\n",
        "Boundary conditions are such that equilibrium\n",
        "\n",
        "The interest of the above is that $E(u)$ ...\n"
      ],
      "metadata": {
        "id": "MU0B8LEU-soU"
      }
    },
    {
      "cell_type": "markdown",
      "source": [
        ""
      ],
      "metadata": {
        "id": "WaPqCJYyxDfO"
      }
    },
    {
      "cell_type": "code",
      "source": [
        "# library include\n",
        "\n",
        "\n",
        "import numpy as np\n",
        "import yaml\n",
        "import json\n",
        "import sys\n",
        "import os\n",
        "from pathlib import Path\n",
        "\n",
        "from mpi4py import MPI\n",
        "\n",
        "import petsc4py\n",
        "from petsc4py import PETSc\n",
        "\n",
        "import dolfinx\n",
        "import dolfinx.plot\n",
        "from dolfinx import log\n",
        "import ufl\n",
        "\n",
        "\n",
        "from dolfinx.io import XDMFFile\n",
        "# from meshes import gmsh_model_to_mesh\n"
      ],
      "metadata": {
        "id": "tZ9egFUuxEGq"
      },
      "execution_count": 5,
      "outputs": []
    },
    {
      "cell_type": "code",
      "source": [
        "try:\n",
        "  !git clone https://github.com/kumiori/mec647.git\n",
        "except:\n",
        "  pass"
      ],
      "metadata": {
        "id": "s9PP1aUIyUKC",
        "outputId": "f3819ab4-0f45-4296-ea5e-356c5005819b",
        "colab": {
          "base_uri": "https://localhost:8080/"
        }
      },
      "execution_count": 6,
      "outputs": [
        {
          "output_type": "stream",
          "name": "stdout",
          "text": [
            "Cloning into 'mec647'...\n",
            "remote: Enumerating objects: 350, done.\u001b[K\n",
            "remote: Counting objects: 100% (350/350), done.\u001b[K\n",
            "remote: Compressing objects: 100% (304/304), done.\u001b[K\n",
            "remote: Total 350 (delta 153), reused 91 (delta 29), pack-reused 0\u001b[K\n",
            "Receiving objects: 100% (350/350), 6.11 MiB | 10.86 MiB/s, done.\n",
            "Resolving deltas: 100% (153/153), done.\n"
          ]
        }
      ]
    },
    {
      "cell_type": "code",
      "source": [
        "sys.path.append('mec647/')\n"
      ],
      "metadata": {
        "id": "Vtzt6XEWybNf"
      },
      "execution_count": 7,
      "outputs": []
    },
    {
      "cell_type": "code",
      "source": [
        "\n",
        "# mesh\n",
        "\n",
        "# functional spaces\n",
        "\n",
        "# energy\n",
        "\n",
        "# specify external data \n",
        "# boundary conditions\n",
        "\n",
        "# solving\n",
        "\n",
        "# visualisation\n",
        "# postprocessing\n",
        "\n",
        "\n",
        "\n"
      ],
      "metadata": {
        "id": "4OWbuLZQ-rQC"
      },
      "execution_count": 4,
      "outputs": []
    }
  ]
}