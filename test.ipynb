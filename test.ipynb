{
  "nbformat": 4,
  "nbformat_minor": 0,
  "metadata": {
    "colab": {
      "name": "Untitled8.ipynb",
      "provenance": [],
      "authorship_tag": "ABX9TyM5tHxQJHFcirOq7A+bATE6",
      "include_colab_link": true
    },
    "kernelspec": {
      "name": "python3",
      "display_name": "Python 3"
    }
  },
  "cells": [
    {
      "cell_type": "markdown",
      "metadata": {
        "id": "view-in-github",
        "colab_type": "text"
      },
      "source": [
        "<a href=\"https://colab.research.google.com/github/kumiori/mec647/blob/main/test.ipynb\" target=\"_parent\"><img src=\"https://colab.research.google.com/assets/colab-badge.svg\" alt=\"Open In Colab\"/></a>"
      ]
    },
    {
      "cell_type": "code",
      "metadata": {
        "id": "56a4vTVsHGC8"
      },
      "source": [
        "import site\n",
        "import sys\n",
        "\n",
        "\n",
        "try : \n",
        "    from google.colab import files\n",
        "except:\n",
        "    pass\n",
        "    \n",
        "try:\n",
        "    from fenics import *; from mshr import *\n",
        "except ImportError as e:\n",
        "    !apt-get install software-properties-common\n",
        "    !add-apt-repository -y ppa:fenics-packages/fenics\n",
        "    !apt-get update -qq\n",
        "    !apt install -y fenics    \n",
        "    site.addsitedir('/usr/lib/petsc/lib/python3/dist-packages')  # Always appends to end\n",
        "\n",
        "    from fenics import *; from mshr import *\n",
        "    from ufl import replace\n",
        "\n",
        "!fenics-version"
      ],
      "execution_count": null,
      "outputs": []
    }
  ]
}