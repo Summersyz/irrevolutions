{
  "cells": [
    {
      "cell_type": "markdown",
      "metadata": {
        "id": "view-in-github",
        "colab_type": "text"
      },
      "source": [
        "<a href=\"https://colab.research.google.com/github/kumiori/mec647/blob/main/mec647_Banquise_11.ipynb\" target=\"_parent\"><img src=\"https://colab.research.google.com/assets/colab-badge.svg\" alt=\"Open In Colab\"/></a>"
      ]
    },
    {
      "cell_type": "markdown",
      "metadata": {
        "id": "QhlVFLnq4pnI"
      },
      "source": [
        "# Fracture de la Banquise Antartique\n",
        "\n",
        "\n",
        "Let $\\Omega \\subset (0, L)^2$, $L$ finite, being the (or one) characteristic length of the specimen.\n",
        "For any \n",
        "- displacement field $u\\in V_t : H^1(\\Omega, R^n) + bcs(t)$ with $n=1, 2$ or $3$, and\n",
        "- damage field $\\alpha \\in H^1(\\Omega, R)$,\n",
        "\n",
        "consider the energy $E(u, \\alpha)$ defined as\n",
        "$$\n",
        "E_\\ell(u, \\alpha)=\\frac{1}{2}\\int_\\Omega \\left( a(\\alpha) W(u) + k u.u \\right) dx + \\underbrace{\\frac{G_c}{c_w\\ell} \\int \\left(w(\\alpha) + \\ell^2 |\\nabla \\alpha|^2 \\right)dx}_{\\text{Surface energy}}- \\int_\\Omega g_t.u dx$$\n",
        "\n",
        "In practice, $\\ell \\ll L$.\n",
        "\n",
        "Above, $W$ is the elastic MEMBRANE energy density, reading (in linearised elasticity as) \n",
        "$$ \n",
        "W(u) = Ae(u):e(u) \n",
        "$$\n",
        "where $A$ is the 4-th order tensor of elasticity, in the isotropic and homogeneous case, it corresponds to a linear combination with two coefficients, say, $A_0$ the stiffness (dimensional), and $\\nu$ the Poisson ratio (non-dimensional), $k$ is the effective stiffness of the elastic foundation (Water/water). \n",
        "\n",
        "Above, $w(\\alpha)$ corresponds to the dissipated energy to damage, homogeneously, the specimen, the gradient term accounts for spatial variations.\n",
        "\n",
        "**Keypoint:** these two terms are weighted by $\\ell$, a parameter that is homogeneous to a length and is understood as a *material* quantity (as opposed to *numerical*).\n",
        "\n",
        "Define $D(\\alpha_0):=\\left\\{ \\alpha \\in H^1(\\Omega), \\alpha \\geq \\alpha_0 \\right\\}$, for some $\\alpha_0(x)\\geq 0$ pointwise. \n",
        "\n",
        "We solve two types of problems (by increasing difficulty):\n",
        "- **The static problem**: Given a load (boundary conditions) and an initial state of damage $\\alpha_0$, what is the equilibrium displacement and repartition of damage?\n",
        "In other terms:\n",
        " \n",
        "$\n",
        "\\text{ min loc} \\left\\{ E_\\ell(u, \\alpha):\n",
        " u \\in V_t, \\alpha \\in D(\\alpha_0) \\right\\}.\n",
        "$\n",
        "\n",
        "- **The evolution problem**: Given a load **history** (boundary conditions as a function of $t$) and an initial state of damage $\\alpha_0$, what is the *evolution* of equilibrium displacement and repartition of damage, i.e. \n",
        "the map $t\\mapsto (u_t, \\alpha_t)$, such that \n",
        "  - (Irrevers.) $\\alpha_t \\nearrow t$,\n",
        "  - (N-Stability) $y_t$ is stable only if there exists $\\bar h$ such that for $h\\in (0, \\bar h)$, \n",
        "  $$E_\\ell (y_t) \\leq E_\\ell(y_t + z), \\forall z \\in C_{t,0}^+, ||y_t+z||\\leq h$$\n",
        "  - (Power statement) (Ext. power) = (Internal energy flux)\n",
        "\n",
        "\n",
        "## Let'solve.\n",
        "\n",
        "\n",
        "### First, setup from a clean state"
      ]
    },
    {
      "cell_type": "code",
      "execution_count": 1,
      "metadata": {
        "id": "zC6dhNHJfgrb",
        "colab": {
          "base_uri": "https://localhost:8080/"
        },
        "outputId": "43e52f0a-624f-40f2-add5-8a306a5ed38c"
      },
      "outputs": [
        {
          "output_type": "stream",
          "name": "stdout",
          "text": [
            "CPU times: user 3.66 s, sys: 644 ms, total: 4.3 s\n",
            "Wall time: 5min 15s\n"
          ]
        }
      ],
      "source": [
        "%%time\n",
        "%%capture\n",
        "import sys\n",
        "\n",
        "try:\n",
        "    import google.colab  # noqa: F401\n",
        "except ImportError:\n",
        "    import ufl  # noqa: F401\n",
        "    import dolfinx  # noqa: F401\n",
        "else:\n",
        "    try:\n",
        "        import ufl\n",
        "        import dolfinx\n",
        "    except ImportError:\n",
        "        !wget \"https://fem-on-colab.github.io/releases/fenicsx-install.sh\" -O \"/tmp/fenicsx-install.sh\" && bash \"/tmp/fenicsx-install.sh\";\n",
        "        import ufl  # noqa: F401\n",
        "        import dolfinx  # noqa: F401\n",
        "\n",
        "try:\n",
        "    import pyvista\n",
        "except ImportError:\n",
        "    !{sys.executable} -m pip install --upgrade pyvista itkwidgets;\n",
        "    import pyvista  # noqa: F401\n",
        "    from pyvista.utilities import xvfb\n",
        "\n",
        "try:\n",
        "    import gmsh\n",
        "except ImportError:\n",
        "    !{sys.executable} -m pip install gmsh\n",
        "    import gmsh\n",
        "\n",
        "!sudo apt install libgl1-mesa-glx xvfb;\n",
        "!{sys.executable} -m pip install pip --upgrade;\n",
        "!{sys.executable} -m pip install pythreejs;\n",
        "!{sys.executable} -m pip install ipygany;\n",
        "!{sys.executable} -m pip install petsc4py;\n",
        "!{sys.executable} -m pip install --upgrade PyYAML;\n",
        "!{sys.executable} -m pip install --upgrade networkx;\n",
        "!{sys.executable} -m pip install --upgrade matplotlib==3.1.3;"
      ]
    },
    {
      "cell_type": "markdown",
      "metadata": {
        "id": "0xbfPIJ_4pnK"
      },
      "source": [
        "## Install our Code, codename: _________"
      ]
    },
    {
      "cell_type": "code",
      "execution_count": 2,
      "metadata": {
        "id": "fBRSF4i0fm5d",
        "colab": {
          "base_uri": "https://localhost:8080/"
        },
        "outputId": "1eb272a0-5ace-4b28-9a6a-f2a1bb23593c"
      },
      "outputs": [
        {
          "output_type": "stream",
          "name": "stdout",
          "text": [
            "Cloning into 'mec647'...\n",
            "remote: Enumerating objects: 1420, done.\u001b[K\n",
            "remote: Counting objects: 100% (153/153), done.\u001b[K\n",
            "remote: Compressing objects: 100% (72/72), done.\u001b[K\n",
            "remote: Total 1420 (delta 101), reused 106 (delta 77), pack-reused 1267\u001b[K\n",
            "Receiving objects: 100% (1420/1420), 24.77 MiB | 21.42 MiB/s, done.\n",
            "Resolving deltas: 100% (732/732), done.\n"
          ]
        },
        {
          "output_type": "stream",
          "name": "stderr",
          "text": [
            "CRITICAL:root:DOLFINx version: 0.5.1.0 based on GIT commit: e3d7b51746e259881c99f96ae329e8c358bac95d of https://github.com/FEniCS/dolfinx/\n"
          ]
        }
      ],
      "source": [
        "import matplotlib.pyplot as plt\n",
        "from petsc4py import PETSc\n",
        "import numpy as np\n",
        "from mpi4py import MPI\n",
        "comm = MPI.COMM_WORLD\n",
        "\n",
        "branch_name = 'main'\n",
        "\n",
        "!rm -rf mec647\n",
        "try:\n",
        "  !git clone -b {branch_name} https://github.com/kumiori/mec647.git\n",
        "  sys.path.append('mec647/')\n",
        "\n",
        "  import mec647\n",
        "  from mec647 import meshes\n",
        "  from mec647.meshes import primitives\n",
        "  from mec647.utils.viz import plot_mesh, plot_scalar, plot_vector\n",
        "\n",
        "except Exception as e:\n",
        "  print('Something went wrong', e)\n",
        "  !rm -rf mec647\n",
        "  !git clone https://github.com/kumiori/mec647.git\n",
        "\n"
      ]
    },
    {
      "cell_type": "markdown",
      "metadata": {
        "id": "ZCAPW6Rk4pnL"
      },
      "source": [
        "### Setup computational patch"
      ]
    },
    {
      "cell_type": "code",
      "execution_count": 7,
      "metadata": {
        "id": "onB6Cn24freZ"
      },
      "outputs": [],
      "source": [
        "%%capture\n",
        "from dolfinx.io import XDMFFile, gmshio\n",
        "from mpi4py import MPI\n",
        "from pathlib import Path\n",
        "gmsh.finalize()\n",
        "\n",
        "# We parametrise the domain (target) dimension, we solve 2D for now \n",
        "tdim = 2\n",
        "\n",
        "# Default mesh parameters are geometric\n",
        "\n",
        "if branch_name == 'andres-plates':\n",
        "  from mec647.meshes.ikea import mesh_ikea_real as slab_with_holes\n",
        "\n",
        "#   model, tdim, tag_names = mesh_function('perforated_slab',\n",
        "#                   geom_parameters={},\n",
        "#                   lc=.01,\n",
        "#                   tdim=2,\n",
        "#                   order=0,\n",
        "#                   msh_file='perforated_slab.msh'\n",
        "#                   )\n",
        "elif branch_name == 'main':\n",
        "  from mec647.meshes import primitives\n",
        "\n",
        "  default_parameters = {\n",
        "      'geometry': {\n",
        "          'geom_type': 'bar',\n",
        "          'Lx': 1.,\n",
        "          'Ly': 0.1\n",
        "      }\n",
        "  }\n",
        "\n",
        "\n",
        "  gmsh_model, tdim = primitives.mesh_bar_gmshapi(\n",
        "      default_parameters.get('geometry').get('geom_type'),\n",
        "      default_parameters.get('geometry').get('Lx'), \n",
        "      default_parameters.get('geometry').get('Ly'), \n",
        "      lc=0.03, \n",
        "      tdim=tdim)\n",
        "\n",
        "# Mesh on node model_rank and then distribute\n",
        "model_rank = 0\n",
        "\n",
        "# Get mesh and meshtags\n",
        "mesh, mts, fts = gmshio.model_to_mesh(gmsh_model, comm, model_rank, tdim)"
      ]
    },
    {
      "cell_type": "code",
      "execution_count": 8,
      "metadata": {
        "id": "bsZIi1mWf3AN",
        "colab": {
          "base_uri": "https://localhost:8080/",
          "height": 114
        },
        "outputId": "edbc0204-aa9f-4cc0-fa34-55c818d30d9c"
      },
      "outputs": [
        {
          "output_type": "execute_result",
          "data": {
            "text/plain": [
              "Text(0.5, 1.0, 'Mesh with parameters, dimension 2')"
            ]
          },
          "metadata": {},
          "execution_count": 8
        },
        {
          "output_type": "display_data",
          "data": {
            "text/plain": [
              "<Figure size 432x288 with 1 Axes>"
            ],
            "image/png": "[encoded data removed]"
          },
          "metadata": {
            "needs_background": "light"
          }
        }
      ],
      "source": [
        "# Viz the mesh\n",
        "\n",
        "plt.figure()\n",
        "ax = plot_mesh(mesh)\n",
        "fig = ax.get_figure()\n",
        "plt.title(f\"Mesh with parameters, dimension {tdim}\")\n",
        "# fig.savefig(f\"one_mesh.png\")"
      ]
    },
    {
      "cell_type": "code",
      "execution_count": null,
      "metadata": {
        "id": "G9MhYO5en-hY"
      },
      "outputs": [],
      "source": [
        "# Let's get the entire set of parameters\n",
        "import yaml\n",
        "\n",
        "with open(\"mec647/test/data/banquise/parameters.yml\") as f:\n",
        "    parameters = yaml.load(f, Loader=yaml.FullLoader)\n",
        "    "
      ]
    },
    {
      "cell_type": "code",
      "execution_count": 16,
      "metadata": {
        "id": "Ms8MFyxDnLZs"
      },
      "outputs": [],
      "source": [
        "# Functional Setting\n",
        "\n",
        "element_u = ufl.VectorElement(\"Lagrange\", mesh.ufl_cell(),\n",
        "                              degree=1, dim=2)\n",
        "\n",
        "element_alpha = ufl.FiniteElement(\"Lagrange\", mesh.ufl_cell(),\n",
        "                              degree=1)\n",
        "\n",
        "V_u = dolfinx.fem.FunctionSpace(mesh, element_u) \n",
        "V_alpha = dolfinx.fem.FunctionSpace(mesh, element_alpha) \n",
        "\n",
        "u = dolfinx.fem.Function(V_u, name=\"Displacement\")\n",
        "u_ = dolfinx.fem.Function(V_u, name=\"BoundaryDisplacement\")\n",
        "\n",
        "alpha = dolfinx.fem.Function(V_alpha, name=\"Damage\")\n",
        "\n",
        "# Pack state\n",
        "state = {\"u\": u, \"alpha\": alpha}\n",
        "\n",
        "# Bounds\n",
        "alpha_ub = dolfinx.fem.Function(V_alpha, name=\"UpperBoundDamage\")\n",
        "alpha_lb = dolfinx.fem.Function(V_alpha, name=\"LowerBoundDamage\")\n",
        "\n",
        "dx = ufl.Measure(\"dx\", domain = mesh)\n",
        "ds = ufl.Measure(\"ds\", domain = mesh)\n",
        "\n",
        "# Useful references\n",
        "Lx = parameters.get(\"geometry\").get(\"Lx\")\n",
        "Ly = parameters.get(\"geometry\").get(\"Ly\")"
      ]
    },
    {
      "cell_type": "code",
      "execution_count": 17,
      "metadata": {
        "id": "xnVFLN4Anavu"
      },
      "outputs": [],
      "source": [
        "# Boundary sets\n",
        "\n",
        "from dolfinx.fem import locate_dofs_geometrical, dirichletbc\n",
        "\n",
        "\n",
        "dofs_alpha_left = locate_dofs_geometrical(V_alpha, lambda x: np.isclose(x[0], 0.))\n",
        "dofs_alpha_right = locate_dofs_geometrical(V_alpha, lambda x: np.isclose(x[0], Lx))\n",
        "\n",
        "dofs_u_left = locate_dofs_geometrical(V_u, lambda x: np.isclose(x[0], 0.))\n",
        "dofs_u_right = locate_dofs_geometrical(V_u, lambda x: np.isclose(x[0], Lx))\n",
        "\n",
        "# Boundary data\n",
        "\n",
        "u_.interpolate(lambda x: (np.ones_like(x[0]), np.zeros_like(x[1])))\n",
        "\n",
        "# Bounds (nontrivial)\n",
        "\n",
        "alpha_lb.interpolate(lambda x: np.zeros_like(x[0]))\n",
        "alpha_ub.interpolate(lambda x: np.ones_like(x[0]))"
      ]
    },
    {
      "cell_type": "code",
      "execution_count": 18,
      "metadata": {
        "id": "C5vBUw8Knbtu"
      },
      "outputs": [],
      "source": [
        "# Boundary conditions\n",
        "\n",
        "bcs_u = [\n",
        "         dirichletbc(np.array([0., 0.], dtype=PETSc.ScalarType),\n",
        "                      dofs_u_left,\n",
        "                      V_u),\n",
        "         dirichletbc(u_, dofs_u_right)\n",
        "         ]\n",
        "\n",
        "bcs_alpha = [\n",
        "             dirichletbc(np.array(0., dtype = PETSc.ScalarType),\n",
        "                         np.concatenate([dofs_alpha_left, dofs_alpha_right]),\n",
        "                         V_alpha)\n",
        "]\n",
        "bcs = {\"bcs_u\": bcs_u, \"bcs_alpha\": bcs_alpha}\n"
      ]
    },
    {
      "cell_type": "code",
      "execution_count": 22,
      "metadata": {
        "id": "21ElBiFLoSpB"
      },
      "outputs": [],
      "source": [
        "import yaml\n",
        "\n",
        "\n",
        "# Material behaviour\n",
        "from models import BrittleMembraneOverElasticFoundation as Banquise\n",
        "\n",
        "parameters_str = '''\n",
        "# === Loading === #\n",
        "loading:\n",
        "    min: 0\n",
        "    max: 1.001\n",
        "    steps: 10\n",
        "\n",
        "#  === Geometry === #\n",
        "geometry:\n",
        "    geometric_dimension: 2\n",
        "    geom_type: \"banquise\"\n",
        "    Lx: 1.\n",
        "    Ly: .1\n",
        "    lc: 0.02\n",
        "#  === Model === #\n",
        "model:\n",
        "    ell: 0.1\n",
        "    ell_e: 0.3\n",
        "    model_dimension: 2\n",
        "    model_type: \"2D\"\n",
        "    # could be \"2D\"/ \"3D\" / \"plane_stress\" / \"plane_strain\"\n",
        "# === Solver === #\n",
        "solvers:\n",
        "    elasticity:\n",
        "        prefix: elasticity\n",
        "        snes:\n",
        "            snes_type: newtontr\n",
        "            snes_stol: 1e-8\n",
        "            snes_atol: 1e-8\n",
        "            snes_rtol: 1e-8\n",
        "            snes_max_it: 100\n",
        "            # snes_divergence_tolerance: -1.0\n",
        "            snes_monitor: \"\"\n",
        "            ksp_type: preonly\n",
        "            pc_type: lu\n",
        "            pc_factor_mat_solver_type: mumps\n",
        "\n",
        "    # Damage solver parameters\n",
        "    damage:\n",
        "        type: SNES\n",
        "        prefix: damage\n",
        "        snes:\n",
        "            # Options in the case of SNES solver\n",
        "            snes_type: vinewtonrsls\n",
        "            snes_linesearch_type: basic\n",
        "            ksp_type: preonly\n",
        "            pc_type: lu\n",
        "            pc_factor_mat_solver_type: mumps\n",
        "            snes_atol: 1.0e-5\n",
        "            snes_rtol: 1.0e-5\n",
        "            # snes_stol: 0.0\n",
        "            snes_max_it: 50\n",
        "            # snes_divergence_tolerance: -1.0\n",
        "            snes_monitor: \"\"\n",
        "        tao:\n",
        "            # Options in the case of TAO solver\n",
        "            tao_type: tron\n",
        "            tao_gpcg_maxpgits: 50\n",
        "            tao_max_it: 100\n",
        "            tao_steptol: 1.0e-7\n",
        "            tao_gatol: 1.0e-8\n",
        "            tao_grtol: 1.0e-8\n",
        "            tao_gttol: 1.0e-8\n",
        "            tao_catol: 0.\n",
        "            tao_crtol: 0.\n",
        "            tao_ls_ftol: 1e-5\n",
        "            tao_ls_gtol: 1e-5\n",
        "            tao_ls_rtol: 1e-5\n",
        "            ksp_rtol: 1e-6\n",
        "            tao_ls_stepmin: 1e-8\n",
        "            tao_ls_stepmax: 1e6\n",
        "            pc_type: lu\n",
        "            tao_monitor: \"\"\n",
        "\n",
        "    # Damage Elasticity Solver parameters\n",
        "    damage_elasticity:\n",
        "        max_it: 100\n",
        "        alpha_rtol: 1.0e-5\n",
        "        criterion: \"alpha_H1\"\n",
        "'''\n",
        "parameters = yaml.load(parameters_str, Loader=yaml.FullLoader)\n",
        "\n",
        "model = Banquise(parameters[\"model\"])\n",
        "\n",
        "\n",
        "# Energy functional\n",
        "from dolfinx.fem import (\n",
        "    Constant)\n",
        "\n",
        "# trace of geostrophic forces \n",
        "gt = dolfinx.fem.Function(V_u, name=\"Geostrophic\")\n",
        "# gt = Constant(mesh, np.array([0, 0], dtype=PETSc.ScalarType))\n",
        "external_work = ufl.dot(gt, state[\"u\"]) * dx\n",
        "total_energy = model.total_energy_density(state) * dx - external_work\n",
        "\n",
        "# total_energy = model.total_energy_density(state) * dx\n"
      ]
    },
    {
      "cell_type": "code",
      "execution_count": 20,
      "metadata": {
        "id": "Reb9FOGaochC"
      },
      "outputs": [],
      "source": [
        "# Evolution solver\n",
        "import algorithms\n",
        "from algorithms import am\n",
        "\n",
        "solver = am.AlternateMinimisation(total_energy,\n",
        "                         state,\n",
        "                         bcs,\n",
        "                         parameters.get(\"solvers\"),\n",
        "                         bounds=(alpha_lb, alpha_ub)\n",
        "                         )"
      ]
    },
    {
      "cell_type": "code",
      "execution_count": 28,
      "metadata": {
        "id": "1weih1fXol0x",
        "outputId": "c60835db-2c16-4ff3-b53d-5be4f90c62d6",
        "colab": {
          "base_uri": "https://localhost:8080/"
        }
      },
      "outputs": [
        {
          "output_type": "stream",
          "name": "stdout",
          "text": [
            "Solving timestep 0, load: 0.0\n",
            "  0 SNES Function norm 9.994088822004e-17 \n",
            "  0 SNES Function norm 7.869352932761e-06 \n",
            "Solved timestep 0, load: 0.0\n",
            "Elastic Energy 0.052, Surface energy: 0.00051\n",
            "\n",
            "\n",
            "\n",
            "Solving timestep 1, load: 0.11122222222222221\n",
            "  0 SNES Function norm 9.994088822004e-17 \n",
            "  0 SNES Function norm 7.869352932761e-06 \n",
            "Solved timestep 1, load: 0.11122222222222221\n",
            "Elastic Energy 0.052, Surface energy: 0.00051\n",
            "\n",
            "\n",
            "\n",
            "Solving timestep 2, load: 0.22244444444444442\n",
            "  0 SNES Function norm 9.994088822004e-17 \n",
            "  0 SNES Function norm 7.869352932761e-06 \n",
            "Solved timestep 2, load: 0.22244444444444442\n",
            "Elastic Energy 0.052, Surface energy: 0.00051\n",
            "\n",
            "\n",
            "\n",
            "Solving timestep 3, load: 0.3336666666666666\n",
            "  0 SNES Function norm 9.994088822004e-17 \n",
            "  0 SNES Function norm 7.869352932761e-06 \n",
            "Solved timestep 3, load: 0.3336666666666666\n",
            "Elastic Energy 0.052, Surface energy: 0.00051\n",
            "\n",
            "\n",
            "\n",
            "Solving timestep 4, load: 0.44488888888888883\n",
            "  0 SNES Function norm 9.994088822004e-17 \n",
            "  0 SNES Function norm 7.869352932761e-06 \n",
            "Solved timestep 4, load: 0.44488888888888883\n",
            "Elastic Energy 0.052, Surface energy: 0.00051\n",
            "\n",
            "\n",
            "\n",
            "Solving timestep 5, load: 0.556111111111111\n",
            "  0 SNES Function norm 9.994088822004e-17 \n",
            "  0 SNES Function norm 7.869352932761e-06 \n",
            "Solved timestep 5, load: 0.556111111111111\n",
            "Elastic Energy 0.052, Surface energy: 0.00051\n",
            "\n",
            "\n",
            "\n",
            "Solving timestep 6, load: 0.6673333333333332\n",
            "  0 SNES Function norm 9.994088822004e-17 \n",
            "  0 SNES Function norm 7.869352932761e-06 \n",
            "Solved timestep 6, load: 0.6673333333333332\n",
            "Elastic Energy 0.052, Surface energy: 0.00051\n",
            "\n",
            "\n",
            "\n",
            "Solving timestep 7, load: 0.7785555555555554\n",
            "  0 SNES Function norm 9.994088822004e-17 \n",
            "  0 SNES Function norm 7.869352932761e-06 \n",
            "Solved timestep 7, load: 0.7785555555555554\n",
            "Elastic Energy 0.052, Surface energy: 0.00051\n",
            "\n",
            "\n",
            "\n",
            "Solving timestep 8, load: 0.8897777777777777\n",
            "  0 SNES Function norm 9.994088822004e-17 \n",
            "  0 SNES Function norm 7.869352932761e-06 \n",
            "Solved timestep 8, load: 0.8897777777777777\n",
            "Elastic Energy 0.052, Surface energy: 0.00051\n",
            "\n",
            "\n",
            "\n",
            "Solving timestep 9, load: 1.001\n",
            "  0 SNES Function norm 9.994088822004e-17 \n",
            "  0 SNES Function norm 7.869352932761e-06 \n",
            "Solved timestep 9, load: 1.001\n",
            "Elastic Energy 0.052, Surface energy: 0.00051\n",
            "\n",
            "\n",
            "\n",
            "CPU times: user 5.07 s, sys: 1.18 s, total: 6.24 s\n",
            "Wall time: 24.3 s\n"
          ]
        }
      ],
      "source": [
        "%%time\n",
        "# Loop for evolution\n",
        "from dolfinx.fem import assemble_scalar\n",
        "\n",
        "\n",
        "loads = np.linspace(parameters.get(\"loading\").get(\"min\"),\n",
        "                    parameters.get(\"loading\").get(\"max\"),\n",
        "                    parameters.get(\"loading\").get(\"steps\"))\n",
        "\n",
        "data = {\n",
        "    'elastic': [],\n",
        "    'foundation': [],\n",
        "    'membrane': [],\n",
        "    'surface': [],\n",
        "    'total': [],\n",
        "    'load': []\n",
        "}\n",
        "for (i_t, t) in enumerate(loads):\n",
        "\n",
        "  # update loads (body)\n",
        "  gt.interpolate(lambda x: (t * np.ones_like(x[0]), np.zeros_like(x[1])))\n",
        "  gt.vector.ghostUpdate(addv=PETSc.InsertMode.INSERT,\n",
        "                        mode=PETSc.ScatterMode.FORWARD)\n",
        "\n",
        "  # update loads (boundary conditions)\n",
        "  u_.interpolate(lambda x: (0 * np.ones_like(x[0]), np.zeros_like(x[1])))\n",
        "  u_.vector.ghostUpdate(addv=PETSc.InsertMode.INSERT,\n",
        "                        mode=PETSc.ScatterMode.FORWARD)\n",
        "\n",
        "  # update lower bound for damage\n",
        "  alpha.vector.copy(alpha_lb.vector)\n",
        "  alpha.vector.ghostUpdate(addv=PETSc.InsertMode.INSERT,\n",
        "                        mode=PETSc.ScatterMode.FORWARD)\n",
        "\n",
        "  # solve for current load step\n",
        "  print(f\"Solving timestep {i_t}, load: {t}\")\n",
        "\n",
        "  solver.solve()\n",
        "\n",
        "  # postprocessing\n",
        "  # global\n",
        "\n",
        "  surface_energy = comm.allreduce(\n",
        "          assemble_scalar(\n",
        "            dolfinx.fem.form(model.damage_dissipation_density(state) * dx)),\n",
        "          op=MPI.SUM\n",
        "          )\n",
        "\n",
        "  foundation_energy = comm.allreduce(\n",
        "      assemble_scalar(dolfinx.fem.form(model.elastic_foundation_density(u) * dx)),\n",
        "      op=MPI.SUM,\n",
        "  )\n",
        "\n",
        "  elastic_energy = comm.allreduce(\n",
        "      assemble_scalar(\n",
        "        dolfinx.fem.form(model.elastic_energy_density(state) * dx)),\n",
        "          op=MPI.SUM\n",
        "        )\n",
        "  \n",
        "  data.get('elastic').append(elastic_energy)\n",
        "  data.get('surface').append(surface_energy)\n",
        "  data.get(\"foundation\").append(foundation_energy)\n",
        "  data.get(\"membrane\").append(elastic_energy - foundation_energy)\n",
        "  data.get('total').append(surface_energy+elastic_energy)\n",
        "  data.get('load').append(t)\n",
        "\n",
        "  print(f\"Solved timestep {i_t}, load: {t}\")\n",
        "  print(f\"Elastic Energy {elastic_energy:.3g}, Surface energy: {surface_energy:.3g}\")\n",
        "  print(\"\\n\\n\")\n",
        "\n",
        "  # savings?\n"
      ]
    },
    {
      "cell_type": "code",
      "execution_count": 29,
      "metadata": {
        "id": "lvlG7HjJorOu",
        "outputId": "4016bbd5-4a00-4135-a959-ff564524cb94",
        "colab": {
          "base_uri": "https://localhost:8080/",
          "height": 333
        }
      },
      "outputs": [
        {
          "output_type": "execute_result",
          "data": {
            "text/plain": [
              "([<matplotlib.axis.XTick at 0x7f032af3e890>,\n",
              "  <matplotlib.axis.XTick at 0x7f032af3e950>],\n",
              " [Text(0, 0, '0'), Text(0, 0, '1')])"
            ]
          },
          "metadata": {},
          "execution_count": 29
        },
        {
          "output_type": "display_data",
          "data": {
            "text/plain": [
              "<Figure size 432x288 with 1 Axes>"
            ],
            "image/png": "[encoded data removed]"
          },
          "metadata": {
            "needs_background": "light"
          }
        }
      ],
      "source": [
        "plt.plot(data.get('load'), data.get('surface'), label='surface', marker='o')\n",
        "plt.plot(data.get('load'), data.get('elastic'), label='elastic', marker='o')\n",
        "plt.plot(data.get('load'), [1./2. * t**2*Ly for t in data.get('load')], label='anal elast', ls=':', c='k')\n",
        "\n",
        "plt.title('Traction bar energetics')\n",
        "plt.legend()\n",
        "plt.yticks([0, 1/20], [0, '$1/2.\\sigma_c^2/E_0$'])\n",
        "plt.xticks([0, 1], [0, 1])"
      ]
    },
    {
      "cell_type": "code",
      "execution_count": null,
      "metadata": {
        "id": "hKRNyEaCouZR"
      },
      "outputs": [],
      "source": [
        "# experiments\n",
        "params0, data0 = parameters, data\n"
      ]
    },
    {
      "cell_type": "code",
      "execution_count": 33,
      "metadata": {
        "id": "hwbAa2wcoxS2",
        "outputId": "6e894fcb-9c12-4ab5-8bcc-502ed477b856",
        "colab": {
          "base_uri": "https://localhost:8080/",
          "height": 475
        }
      },
      "outputs": [
        {
          "output_type": "stream",
          "name": "stderr",
          "text": [
            "WARNING:py.warnings:/usr/local/lib/python3.7/dist-packages/pyvista/plotting/plotting.py:117: UserWarning: \n",
            "This system does not appear to be running an xserver.\n",
            "PyVista will likely segfault when rendering.\n",
            "\n",
            "Try starting a virtual frame buffer with xvfb, or using\n",
            "  ``pyvista.start_xvfb()``\n",
            "\n",
            "  '\\n'\n",
            "\n"
          ]
        },
        {
          "output_type": "execute_result",
          "data": {
            "text/plain": [
              "Text(0.5, 1.0, 'Traction bar damage profile')"
            ]
          },
          "metadata": {},
          "execution_count": 33
        },
        {
          "output_type": "display_data",
          "data": {
            "text/plain": [
              "<Figure size 432x288 with 1 Axes>"
            ],
            "image/png": "[encoded data removed]"
          },
          "metadata": {
            "needs_background": "light"
          }
        }
      ],
      "source": [
        "from mec647.utils.viz import plot_vector, plot_scalar, plot_profile\n",
        "plotter = pyvista.Plotter(\n",
        "    title=\"Damage profile\",\n",
        "    window_size=[800, 600],\n",
        "    shape=(1, 1),\n",
        ")\n",
        "_ell = parameters.get('model').get('ell')\n",
        "tol = 1e-3\n",
        "xs = np.linspace(0 + tol, Lx - tol, 101)\n",
        "points = np.zeros((3, 101))\n",
        "points[0] = xs\n",
        "\n",
        "_plt, data = plot_profile(\n",
        "    alpha,\n",
        "    points,\n",
        "    plotter,\n",
        "    subplot=(0, 0),\n",
        "    lineproperties={\n",
        "        \"c\": \"k\",\n",
        "        # \"label\": f\"$\\alpha$ with $\\ell$ = {_ell:.2f}\"\n",
        "        \"label\": f\"alpha ell = {_ell:.2f}\"\n",
        "    },\n",
        ")\n",
        "ax = _plt.gca()\n",
        "# ax.axvline(Lx/2 - 2*_ell, c=\"k\")\n",
        "# ax.axvline(Lx/2 + 2*_ell, c=\"k\", label='|supp|=$4\\ell$')\n",
        "ax.axvline(Lx/2 , c=\"k\", ls=':', label='$x_0$')\n",
        "_plt.legend()\n",
        "_plt.fill_between(data[0], data[1].reshape(len(data[1])))\n",
        "_plt.ylim([0,1])\n",
        "_plt.title(\"Traction bar damage profile\")\n"
      ]
    },
    {
      "cell_type": "code",
      "execution_count": null,
      "metadata": {
        "id": "TOP4SRL0o0ZV"
      },
      "outputs": [],
      "source": []
    }
  ],
  "metadata": {
    "colab": {
      "collapsed_sections": [],
      "name": "mec647_Banquise_11.ipynb",
      "provenance": [],
      "include_colab_link": true
    },
    "kernelspec": {
      "display_name": "Python 3",
      "name": "python3"
    },
    "language_info": {
      "name": "python"
    }
  },
  "nbformat": 4,
  "nbformat_minor": 0
}