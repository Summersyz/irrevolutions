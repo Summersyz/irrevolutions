{
  "cells": [
    {
      "cell_type": "markdown",
      "metadata": {
        "id": "view-in-github",
        "colab_type": "text"
      },
      "source": [
        "<a href=\"https://colab.research.google.com/github/kumiori/mec647/blob/main/mec647_Banquise_11.ipynb\" target=\"_parent\"><img src=\"https://colab.research.google.com/assets/colab-badge.svg\" alt=\"Open In Colab\"/></a>"
      ]
    },
    {
      "cell_type": "markdown",
      "metadata": {
        "id": "QhlVFLnq4pnI"
      },
      "source": [
        "# Fracture de la Banquise Antartique\n",
        "\n",
        "\n",
        "Let $\\Omega \\subset (0, L)^2$, $L$ finite, being the (or one) characteristic length of the specimen.\n",
        "For any \n",
        "- displacement field $u\\in V_t : H^1(\\Omega, R^n) + bcs(t)$ with $n=1, 2$ or $3$, and\n",
        "- damage field $\\alpha \\in H^1(\\Omega, R)$,\n",
        "\n",
        "consider the energy $E(u, \\alpha)$ defined as\n",
        "$$\n",
        "E_\\ell(u, \\alpha)=\\frac{1}{2}\\int_\\Omega \\left( a(\\alpha) W(u) + k u.u \\right) dx + \\underbrace{\\frac{G_c}{c_w\\ell} \\int \\left(w(\\alpha) + \\ell^2 |\\nabla \\alpha|^2 \\right)dx}_{\\text{Surface energy}}- \\int_\\Omega g_t.u dx$$\n",
        "\n",
        "In practice, $\\ell \\ll L$.\n",
        "\n",
        "Above, $W$ is the elastic MEMBRANE energy density, reading (in linearised elasticity as) \n",
        "$$ \n",
        "W(u) = Ae(u):e(u) \n",
        "$$\n",
        "where $A$ is the 4-th order tensor of elasticity, in the isotropic and homogeneous case, it corresponds to a linear combination with two coefficients, say, $A_0$ the stiffness (dimensional), and $\\nu$ the Poisson ratio (non-dimensional), $k$ is the effective stiffness of the elastic foundation (Water/water). \n",
        "\n",
        "Above, $w(\\alpha)$ corresponds to the dissipated energy to damage, homogeneously, the specimen, the gradient term accounts for spatial variations.\n",
        "\n",
        "**Keypoint:** these two terms are weighted by $\\ell$, a parameter that is homogeneous to a length and is understood as a *material* quantity (as opposed to *numerical*).\n",
        "\n",
        "Define $D(\\alpha_0):=\\left\\{ \\alpha \\in H^1(\\Omega), \\alpha \\geq \\alpha_0 \\right\\}$, for some $\\alpha_0(x)\\geq 0$ pointwise. \n",
        "\n",
        "We solve two types of problems (by increasing difficulty):\n",
        "- **The static problem**: Given a load (boundary conditions) and an initial state of damage $\\alpha_0$, what is the equilibrium displacement and repartition of damage?\n",
        "In other terms:\n",
        " \n",
        "$\n",
        "\\text{ min loc} \\left\\{ E_\\ell(u, \\alpha):\n",
        " u \\in V_t, \\alpha \\in D(\\alpha_0) \\right\\}.\n",
        "$\n",
        "\n",
        "- **The evolution problem**: Given a load **history** (boundary conditions as a function of $t$) and an initial state of damage $\\alpha_0$, what is the *evolution* of equilibrium displacement and repartition of damage, i.e. \n",
        "the map $t\\mapsto (u_t, \\alpha_t)$, such that \n",
        "  - (Irrevers.) $\\alpha_t \\nearrow t$,\n",
        "  - (N-Stability) $y_t$ is stable only if there exists $\\bar h$ such that for $h\\in (0, \\bar h)$, \n",
        "  $$E_\\ell (y_t) \\leq E_\\ell(y_t + z), \\forall z \\in C_{t,0}^+, ||y_t+z||\\leq h$$\n",
        "  - (Power statement) (Ext. power) = (Internal energy flux)\n",
        "\n",
        "\n",
        "## Let'solve.\n",
        "\n",
        "\n",
        "### First, setup from a clean state"
      ]
    },
    {
      "cell_type": "code",
      "execution_count": 30,
      "metadata": {
        "id": "zC6dhNHJfgrb",
        "colab": {
          "base_uri": "https://localhost:8080/"
        },
        "outputId": "a249be58-e85f-4679-c70a-8474abc5283a"
      },
      "outputs": [
        {
          "output_type": "stream",
          "name": "stdout",
          "text": [
            "CPU times: user 634 ms, sys: 171 ms, total: 805 ms\n",
            "Wall time: 57.6 s\n"
          ]
        }
      ],
      "source": [
        "%%time\n",
        "%%capture\n",
        "import sys\n",
        "\n",
        "try:\n",
        "    import google.colab  # noqa: F401\n",
        "except ImportError:\n",
        "    import ufl  # noqa: F401\n",
        "    import dolfinx  # noqa: F401\n",
        "else:\n",
        "    try:\n",
        "        import ufl\n",
        "        import dolfinx\n",
        "    except ImportError:\n",
        "        !wget \"https://fem-on-colab.github.io/releases/fenicsx-install.sh\" -O \"/tmp/fenicsx-install.sh\" && bash \"/tmp/fenicsx-install.sh\";\n",
        "        import ufl  # noqa: F401\n",
        "        import dolfinx  # noqa: F401\n",
        "\n",
        "try:\n",
        "    import pyvista\n",
        "except ImportError:\n",
        "    !{sys.executable} -m pip install --upgrade pyvista itkwidgets;\n",
        "    import pyvista  # noqa: F401\n",
        "    from pyvista.utilities import xvfb\n",
        "\n",
        "try:\n",
        "    import gmsh\n",
        "except ImportError:\n",
        "    !{sys.executable} -m pip install gmsh\n",
        "    import gmsh\n",
        "\n",
        "!sudo apt install libgl1-mesa-glx xvfb;\n",
        "!{sys.executable} -m pip install pip --upgrade;\n",
        "!{sys.executable} -m pip install pythreejs;\n",
        "!{sys.executable} -m pip install ipygany;\n",
        "!{sys.executable} -m pip install petsc4py;\n",
        "!{sys.executable} -m pip install --upgrade PyYAML;\n",
        "!{sys.executable} -m pip install --upgrade networkx;\n",
        "!{sys.executable} -m pip install --upgrade matplotlib==3.1.3;"
      ]
    },
    {
      "cell_type": "markdown",
      "metadata": {
        "id": "0xbfPIJ_4pnK"
      },
      "source": [
        "## Install our Code, codename: _________"
      ]
    },
    {
      "cell_type": "code",
      "execution_count": 31,
      "metadata": {
        "id": "fBRSF4i0fm5d",
        "colab": {
          "base_uri": "https://localhost:8080/"
        },
        "outputId": "2b24df5d-140b-4efa-efe5-a988c4102592"
      },
      "outputs": [
        {
          "output_type": "stream",
          "name": "stdout",
          "text": [
            "Cloning into 'mec647'...\n",
            "remote: Enumerating objects: 1400, done.\u001b[K\n",
            "remote: Counting objects: 100% (133/133), done.\u001b[K\n",
            "remote: Compressing objects: 100% (65/65), done.\u001b[K\n",
            "remote: Total 1400 (delta 95), reused 83 (delta 68), pack-reused 1267\u001b[K\n",
            "Receiving objects: 100% (1400/1400), 24.74 MiB | 17.42 MiB/s, done.\n",
            "Resolving deltas: 100% (726/726), done.\n",
            "Something went wrong cannot import name 'LocatableAxes' from 'mpl_toolkits.axes_grid1.axes_divider' (/usr/local/lib/python3.7/dist-packages/mpl_toolkits/axes_grid1/axes_divider.py)\n",
            "Cloning into 'mec647'...\n",
            "remote: Enumerating objects: 1400, done.\u001b[K\n",
            "remote: Counting objects: 100% (133/133), done.\u001b[K\n",
            "remote: Compressing objects: 100% (65/65), done.\u001b[K\n",
            "remote: Total 1400 (delta 95), reused 83 (delta 68), pack-reused 1267\u001b[K\n",
            "Receiving objects: 100% (1400/1400), 24.74 MiB | 4.61 MiB/s, done.\n",
            "Resolving deltas: 100% (726/726), done.\n"
          ]
        }
      ],
      "source": [
        "import matplotlib.pyplot as plt\n",
        "from petsc4py import PETSc\n",
        "import numpy as np\n",
        "from mpi4py import MPI\n",
        "comm = MPI.COMM_WORLD\n",
        "\n",
        "branch_name = 'main'\n",
        "\n",
        "!rm -rf mec647\n",
        "try:\n",
        "  !git clone -b {branch_name} https://github.com/kumiori/mec647.git\n",
        "  sys.path.append('mec647/')\n",
        "\n",
        "  import mec647\n",
        "  from mec647 import meshes\n",
        "  from mec647.meshes import primitives\n",
        "  from mec647.utils.viz import plot_mesh, plot_scalar, plot_vector\n",
        "\n",
        "except Exception as e:\n",
        "  print('Something went wrong', e)\n",
        "  !rm -rf mec647\n",
        "  !git clone https://github.com/kumiori/mec647.git\n",
        "\n"
      ]
    },
    {
      "cell_type": "markdown",
      "metadata": {
        "id": "ZCAPW6Rk4pnL"
      },
      "source": [
        "### Setup computational patch"
      ]
    },
    {
      "cell_type": "code",
      "execution_count": 32,
      "metadata": {
        "id": "onB6Cn24freZ"
      },
      "outputs": [],
      "source": [
        "%%capture\n",
        "from dolfinx.io import XDMFFile, gmshio\n",
        "from mpi4py import MPI\n",
        "from pathlib import Path\n",
        "gmsh.finalize()\n",
        "\n",
        "# We parametrise the domain (target) dimension, we solve 2D for now \n",
        "tdim = 2\n",
        "\n",
        "# Default mesh parameters are geometric\n",
        "\n",
        "if branch_name == 'andres-plates':\n",
        "  from mec647.meshes.ikea import mesh_ikea_real as slab_with_holes\n",
        "\n",
        "#   model, tdim, tag_names = mesh_function('perforated_slab',\n",
        "#                   geom_parameters={},\n",
        "#                   lc=.01,\n",
        "#                   tdim=2,\n",
        "#                   order=0,\n",
        "#                   msh_file='perforated_slab.msh'\n",
        "#                   )\n",
        "elif branch_name == 'main':\n",
        "  from mec647.meshes import primitives\n",
        "\n",
        "  default_parameters = {\n",
        "      'geometry': {\n",
        "          'geom_type': 'bar',\n",
        "          'Lx': 1.,\n",
        "          'Ly': 0.1\n",
        "      }\n",
        "  }\n",
        "\n",
        "\n",
        "  gmsh_model, tdim = primitives.mesh_bar_gmshapi(\n",
        "      default_parameters.get('geometry').get('geom_type'),\n",
        "      default_parameters.get('geometry').get('Lx'), \n",
        "      default_parameters.get('geometry').get('Ly'), \n",
        "      lc=0.03, \n",
        "      tdim=tdim)\n",
        "\n",
        "# Mesh on node model_rank and then distribute\n",
        "model_rank = 0\n",
        "\n",
        "# Get mesh and meshtags\n",
        "mesh, mts, fts = gmshio.model_to_mesh(gmsh_model, comm, model_rank, tdim)"
      ]
    },
    {
      "cell_type": "code",
      "execution_count": 33,
      "metadata": {
        "id": "bsZIi1mWf3AN",
        "colab": {
          "base_uri": "https://localhost:8080/",
          "height": 114
        },
        "outputId": "eab10b06-b037-4de9-fd83-c418e0a413a3"
      },
      "outputs": [
        {
          "output_type": "execute_result",
          "data": {
            "text/plain": [
              "Text(0.5, 1.0, 'Mesh with parameters, dimension 2')"
            ]
          },
          "metadata": {},
          "execution_count": 33
        },
        {
          "output_type": "display_data",
          "data": {
            "text/plain": [
              "<Figure size 432x288 with 1 Axes>"
            ],
            "image/png": "[encoded data removed]"
          },
          "metadata": {
            "needs_background": "light"
          }
        }
      ],
      "source": [
        "# Viz the mesh\n",
        "\n",
        "plt.figure()\n",
        "ax = plot_mesh(mesh)\n",
        "fig = ax.get_figure()\n",
        "plt.title(f\"Mesh with parameters, dimension {tdim}\")\n",
        "# fig.savefig(f\"one_mesh.png\")"
      ]
    },
    {
      "cell_type": "code",
      "execution_count": null,
      "metadata": {
        "id": "G9MhYO5en-hY"
      },
      "outputs": [],
      "source": [
        "# Let's get the entire set of parameters\n",
        "import yaml\n",
        "\n",
        "with open(\"mec647/test/data/banquise/parameters.yml\") as f:\n",
        "    parameters = yaml.load(f, Loader=yaml.FullLoader)\n",
        "    "
      ]
    },
    {
      "cell_type": "code",
      "execution_count": null,
      "metadata": {
        "id": "Ms8MFyxDnLZs"
      },
      "outputs": [],
      "source": [
        "# Functional Setting\n",
        "\n",
        "element_u = ufl.VectorElement(\"Lagrange\", mesh.ufl_cell(),\n",
        "                              degree=1, dim=2)\n",
        "\n",
        "element_alpha = ufl.FiniteElement(\"Lagrange\", mesh.ufl_cell(),\n",
        "                              degree=1)\n",
        "\n",
        "V_u = dolfinx.fem.FunctionSpace(mesh, element_u) \n",
        "V_alpha = dolfinx.fem.FunctionSpace(mesh, element_alpha) \n",
        "\n",
        "u = dolfinx.fem.Function(V_u, name=\"Displacement\")\n",
        "u_ = dolfinx.fem.Function(V_u, name=\"BoundaryDisplacement\")\n",
        "\n",
        "\n",
        "alpha = dolfinx.fem.Function(V_alpha, name=\"Damage\")\n",
        "\n",
        "# Pack state\n",
        "state = {\"u\": u, \"alpha\": alpha}\n",
        "\n",
        "# Bounds\n",
        "alpha_ub = dolfinx.fem.Function(V_alpha, name=\"UpperBoundDamage\")\n",
        "alpha_lb = dolfinx.fem.Function(V_alpha, name=\"LowerBoundDamage\")\n",
        "\n",
        "dx = ufl.Measure(\"dx\", domain = mesh)\n",
        "ds = ufl.Measure(\"ds\", domain = mesh)\n",
        "\n",
        "\n",
        "# Useful references\n",
        "Lx = parameters.get(\"geometry\").get(\"Lx\")\n",
        "Ly = parameters.get(\"geometry\").get(\"Ly\")"
      ]
    },
    {
      "cell_type": "code",
      "execution_count": null,
      "metadata": {
        "id": "xnVFLN4Anavu"
      },
      "outputs": [],
      "source": [
        "# Boundary sets\n",
        "\n",
        "from dolfinx.fem import locate_dofs_geometrical, dirichletbc\n",
        "\n",
        "\n",
        "dofs_alpha_left = locate_dofs_geometrical(V_alpha, lambda x: np.isclose(x[0], 0.))\n",
        "dofs_alpha_right = locate_dofs_geometrical(V_alpha, lambda x: np.isclose(x[0], Lx))\n",
        "\n",
        "dofs_u_left = locate_dofs_geometrical(V_u, lambda x: np.isclose(x[0], 0.))\n",
        "dofs_u_right = locate_dofs_geometrical(V_u, lambda x: np.isclose(x[0], Lx))\n",
        "\n",
        "# Boundary data\n",
        "\n",
        "u_.interpolate(lambda x: (np.ones_like(x[0]), np.zeros_like(x[1])))\n",
        "\n",
        "# Bounds (nontrivial)\n",
        "\n",
        "alpha_lb.interpolate(lambda x: np.zeros_like(x[0]))\n",
        "alpha_ub.interpolate(lambda x: np.ones_like(x[0]))"
      ]
    },
    {
      "cell_type": "code",
      "execution_count": null,
      "metadata": {
        "id": "C5vBUw8Knbtu"
      },
      "outputs": [],
      "source": [
        "# Boundary conditions\n",
        "\n",
        "bcs_u = [\n",
        "         dirichletbc(np.array([0., 0.], dtype=PETSc.ScalarType),\n",
        "                      dofs_u_left,\n",
        "                      V_u),\n",
        "         dirichletbc(u_, dofs_u_right)\n",
        "         ]\n",
        "\n",
        "bcs_alpha = [\n",
        "             dirichletbc(np.array(0., dtype = PETSc.ScalarType),\n",
        "                         np.concatenate([dofs_alpha_left, dofs_alpha_right]),\n",
        "                         V_alpha)\n",
        "]\n",
        "bcs = {\"bcs_u\": bcs_u, \"bcs_alpha\": bcs_alpha}\n"
      ]
    },
    {
      "cell_type": "code",
      "execution_count": null,
      "metadata": {
        "id": "21ElBiFLoSpB"
      },
      "outputs": [],
      "source": [
        "# Material behaviour\n",
        "from models import BrittleMembraneOverElasticFoundation as Banquise\n",
        "\n",
        "model = Banquise(parameters[\"model\"])\n",
        "\n",
        "\n",
        "# Energy functional\n",
        "from dolfinx.fem import (\n",
        "    Constant)\n",
        "\n",
        "# trace of geostrophic forces \n",
        "gt = Constant(mesh, np.array([0, 0], dtype=PETSc.ScalarType))\n",
        "external_work = ufl.dot(gt, state[\"u\"]) * dx\n",
        "total_energy = model.total_energy_density(state) * dx - external_work\n",
        "\n",
        "# total_energy = model.total_energy_density(state) * dx\n"
      ]
    },
    {
      "cell_type": "code",
      "execution_count": null,
      "metadata": {
        "id": "Reb9FOGaochC"
      },
      "outputs": [],
      "source": [
        "# Evolution solver\n",
        "import algorithms\n",
        "from algorithms import am\n",
        "\n",
        "solver = am.AlternateMinimisation(total_energy,\n",
        "                         state,\n",
        "                         bcs,\n",
        "                         parameters.get(\"solvers\"),\n",
        "                         bounds=(alpha_lb, alpha_ub)\n",
        "                         )"
      ]
    },
    {
      "cell_type": "code",
      "execution_count": null,
      "metadata": {
        "id": "1weih1fXol0x"
      },
      "outputs": [],
      "source": [
        "%%time\n",
        "# Loop for evolution\n",
        "from dolfinx.fem import assemble_scalar\n",
        "\n",
        "\n",
        "loads = np.linspace(parameters.get(\"loading\").get(\"min\"),\n",
        "                    parameters.get(\"loading\").get(\"max\"),\n",
        "                    parameters.get(\"loading\").get(\"steps\"))\n",
        "\n",
        "data = {\n",
        "    'elastic': [],\n",
        "    'foundation': [],\n",
        "    'surface': [],\n",
        "    'total': [],\n",
        "    'load': []\n",
        "}\n",
        "for (i_t, t) in enumerate(loads):\n",
        "\n",
        "  # update loads (body)\n",
        "  gt.interpolate(lambda x: (t * np.ones_like(x[0]), np.zeros_like(x[1])))\n",
        "  gt.vector.ghostUpdate(addv=PETSc.InsertMode.INSERT,\n",
        "                        mode=PETSc.ScatterMode.FORWARD)\n",
        "\n",
        "  # update loads (boundary conditions)\n",
        "  u_.interpolate(lambda x: (0 * np.ones_like(x[0]), np.zeros_like(x[1])))\n",
        "  u_.vector.ghostUpdate(addv=PETSc.InsertMode.INSERT,\n",
        "                        mode=PETSc.ScatterMode.FORWARD)\n",
        "\n",
        "  # update lower bound for damage\n",
        "  alpha.vector.copy(alpha_lb.vector)\n",
        "  alpha.vector.ghostUpdate(addv=PETSc.InsertMode.INSERT,\n",
        "                        mode=PETSc.ScatterMode.FORWARD)\n",
        "\n",
        "  # solve for current load step\n",
        "  print(f\"Solving timestep {i_t}, load: {t}\")\n",
        "\n",
        "  solver.solve()\n",
        "\n",
        "  # postprocessing\n",
        "  # global\n",
        "\n",
        "  surface_energy = comm.allreduce(\n",
        "          assemble_scalar(\n",
        "            dolfinx.fem.form(model.damage_dissipation_density(state) * dx)),\n",
        "          op=MPI.SUM\n",
        "          )\n",
        "\n",
        "  foundation_energy = comm.allreduce(\n",
        "      assemble_scalar(dolfinx.fem.form(model.elastic_foundation_density(u) * dx)),\n",
        "      op=MPI.SUM,\n",
        "  )\n",
        "\n",
        "  elastic_energy = comm.allreduce(\n",
        "      assemble_scalar(\n",
        "        dolfinx.fem.form(model.elastic_energy_density(state) * dx)),\n",
        "          op=MPI.SUM\n",
        "        )\n",
        "  \n",
        "  data.get('elastic').append(elastic_energy)\n",
        "  data.get('surface').append(surface_energy)\n",
        "  data.get(\"foundation\").append(foundation_energy)\n",
        "  data.get(\"membrane\").append(elastic_energy - foundation_energy)\n",
        "  data.get('total').append(surface_energy+elastic_energy)\n",
        "  data.get('load').append(t)\n",
        "\n",
        "  print(f\"Solved timestep {i_t}, load: {t}\")\n",
        "  print(f\"Elastic Energy {elastic_energy:.3g}, Surface energy: {surface_energy:.3g}\")\n",
        "  print(\"\\n\\n\")\n",
        "\n",
        "  # savings?\n"
      ]
    },
    {
      "cell_type": "code",
      "execution_count": null,
      "metadata": {
        "id": "lvlG7HjJorOu"
      },
      "outputs": [],
      "source": [
        "plt.plot(data.get('load'), data.get('surface'), label='surface', marker='o')\n",
        "plt.plot(data.get('load'), data.get('elastic'), label='elastic', marker='o')\n",
        "plt.plot(data.get('load'), [1./2. * t**2*Ly for t in data.get('load')], label='anal elast', ls=':', c='k')\n",
        "\n",
        "plt.title('Traction bar energetics')\n",
        "plt.legend()\n",
        "plt.yticks([0, 1/20], [0, '$1/2.\\sigma_c^2/E_0$'])\n",
        "plt.xticks([0, 1], [0, 1])"
      ]
    },
    {
      "cell_type": "code",
      "execution_count": null,
      "metadata": {
        "id": "hKRNyEaCouZR"
      },
      "outputs": [],
      "source": [
        "# experiments\n",
        "params0, data0 = parameters, data\n"
      ]
    },
    {
      "cell_type": "code",
      "execution_count": null,
      "metadata": {
        "id": "hwbAa2wcoxS2"
      },
      "outputs": [],
      "source": [
        "from mec647.utils.viz import plot_vector, plot_scalar, plot_profile\n",
        "plotter = pyvista.Plotter(\n",
        "    title=\"Damage profile\",\n",
        "    window_size=[800, 600],\n",
        "    shape=(1, 1),\n",
        ")\n",
        "_ell = parameters.get('model').get('ell')\n",
        "tol = 1e-3\n",
        "xs = np.linspace(0 + tol, Lx - tol, 101)\n",
        "points = np.zeros((3, 101))\n",
        "points[0] = xs\n",
        "\n",
        "_plt, data = plot_profile(\n",
        "    alpha,\n",
        "    points,\n",
        "    plotter,\n",
        "    subplot=(0, 0),\n",
        "    lineproperties={\n",
        "        \"c\": \"k\",\n",
        "        \"label\": f\"$\\alpha$ with $\\ell$ = {_ell:.2f}\"\n",
        "    },\n",
        ")\n",
        "ax = _plt.gca()\n",
        "ax.axvline(Lx/2 - 2*_ell, c=\"k\")\n",
        "ax.axvline(Lx/2 + 2*_ell, c=\"k\", label='|supp|=$4\\ell$')\n",
        "ax.axvline(Lx/2 , c=\"k\", ls=':', label='$x_0$')\n",
        "_plt.legend()\n",
        "_plt.fill_between(data[0], data[1].reshape(len(data[1])))\n",
        "_plt.title(\"Traction bar damage profile\")\n"
      ]
    },
    {
      "cell_type": "code",
      "execution_count": null,
      "metadata": {
        "id": "TOP4SRL0o0ZV"
      },
      "outputs": [],
      "source": []
    }
  ],
  "metadata": {
    "colab": {
      "collapsed_sections": [],
      "name": "mec647_Banquise_11.ipynb",
      "provenance": [],
      "include_colab_link": true
    },
    "kernelspec": {
      "display_name": "Python 3",
      "name": "python3"
    },
    "language_info": {
      "name": "python"
    }
  },
  "nbformat": 4,
  "nbformat_minor": 0
}