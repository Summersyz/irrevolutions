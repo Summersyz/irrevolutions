{
  "nbformat": 4,
  "nbformat_minor": 0,
  "metadata": {
    "colab": {
      "name": "Untitled0.ipynb",
      "provenance": [],
      "authorship_tag": "ABX9TyM7Mo/iQPSZuQVmMBUxZJtN",
      "include_colab_link": true
    },
    "kernelspec": {
      "name": "python3",
      "display_name": "Python 3"
    }
  },
  "cells": [
    {
      "cell_type": "markdown",
      "metadata": {
        "id": "view-in-github",
        "colab_type": "text"
      },
      "source": [
        "<a href=\"https://colab.research.google.com/github/kumiori/mec647/blob/main/test_ayoub.ipynb\" target=\"_parent\"><img src=\"https://colab.research.google.com/assets/colab-badge.svg\" alt=\"Open In Colab\"/></a>"
      ]
    },
    {
      "cell_type": "code",
      "metadata": {
        "colab": {
          "base_uri": "https://localhost:8080/"
        },
        "id": "H2cmMV64INZI",
        "outputId": "2aae871b-94b0-46fa-e569-ee67cae6bd10"
      },
      "source": [
        "import site\r\n",
        "import sys\r\n",
        "\r\n",
        "\r\n",
        "try : \r\n",
        "    from google.colab import files\r\n",
        "except:\r\n",
        "    pass\r\n",
        "    \r\n",
        "try:\r\n",
        "    from fenics import *; from mshr import *\r\n",
        "except ImportError as e:\r\n",
        "    !apt-get install software-properties-common\r\n",
        "    !add-apt-repository -y ppa:fenics-packages/fenics\r\n",
        "    !apt-get update -qq\r\n",
        "    !apt install -y fenics    \r\n",
        "    site.addsitedir('/usr/lib/petsc/lib/python3/dist-packages')  # Always appends to end\r\n",
        "\r\n",
        "    from fenics import *; from mshr import *\r\n",
        "    from ufl import replace\r\n",
        "\r\n",
        "!fenics-version"
      ],
      "execution_count": 17,
      "outputs": [
        {
          "output_type": "stream",
          "text": [
            "2019.2.0.dev0\n"
          ],
          "name": "stdout"
        }
      ]
    },
    {
      "cell_type": "code",
      "metadata": {
        "id": "PDVC_IVeoXP8"
      },
      "source": [
        "import matplotlib.pyplot as plt;\n",
        "import numpy as np;\n",
        "import math  \n",
        "from IPython.display import clear_output, display, update_display; import time; \n",
        "# import dolfin.common.plotting as fenicsplot \n",
        "import time\n",
        "%matplotlib inline\n",
        "plt.rcParams['image.cmap'] = 'viridis'"
      ],
      "execution_count": 24,
      "outputs": []
    },
    {
      "cell_type": "code",
      "metadata": {
        "id": "4ZZZ2u8QpiBI",
        "outputId": "3283aec4-ca04-4996-c493-d11646fbe63b",
        "colab": {
          "base_uri": "https://localhost:8080/",
          "height": 265
        }
      },
      "source": [
        "L = 1.; H = .5\n",
        "a=.1\n",
        "P1= Point ((L/2-a),0)\n",
        "P2= Point (L/2,a)\n",
        "P3= Point ((L/2+a),0)\n",
        "geom_1= (P1,P2,P3)\n",
        "cell_size = 0.02\n",
        "nel = int(L/cell_size)\n",
        "b= Point ((L/2-a),a)\n",
        "geom= Rectangle(Point(0., 0.), Point(L, H))\n",
        "mesh = generate_mesh(geom, nel)\n",
        "plot(mesh)"
      ],
      "execution_count": 30,
      "outputs": [
        {
          "output_type": "error",
          "ename": "NameError",
          "evalue": "ignored",
          "traceback": [
            "\u001b[0;31m---------------------------------------------------------------------------\u001b[0m",
            "\u001b[0;31mNameError\u001b[0m                                 Traceback (most recent call last)",
            "\u001b[0;32m<ipython-input-30-fd45abc19153>\u001b[0m in \u001b[0;36m<module>\u001b[0;34m()\u001b[0m\n\u001b[1;32m      4\u001b[0m \u001b[0mP2\u001b[0m\u001b[0;34m=\u001b[0m \u001b[0mPoint\u001b[0m \u001b[0;34m(\u001b[0m\u001b[0mL\u001b[0m\u001b[0;34m/\u001b[0m\u001b[0;36m2\u001b[0m\u001b[0;34m,\u001b[0m\u001b[0ma\u001b[0m\u001b[0;34m)\u001b[0m\u001b[0;34m\u001b[0m\u001b[0;34m\u001b[0m\u001b[0m\n\u001b[1;32m      5\u001b[0m \u001b[0mP3\u001b[0m\u001b[0;34m=\u001b[0m \u001b[0mPoint\u001b[0m \u001b[0;34m(\u001b[0m\u001b[0;34m(\u001b[0m\u001b[0mL\u001b[0m\u001b[0;34m/\u001b[0m\u001b[0;36m2\u001b[0m\u001b[0;34m+\u001b[0m\u001b[0ma\u001b[0m\u001b[0;34m)\u001b[0m\u001b[0;34m,\u001b[0m\u001b[0;36m0\u001b[0m\u001b[0;34m)\u001b[0m\u001b[0;34m\u001b[0m\u001b[0;34m\u001b[0m\u001b[0m\n\u001b[0;32m----> 6\u001b[0;31m \u001b[0mgeom_1\u001b[0m\u001b[0;34m=\u001b[0m \u001b[0mTriangle\u001b[0m\u001b[0;34m(\u001b[0m\u001b[0mP1\u001b[0m\u001b[0;34m,\u001b[0m\u001b[0mP2\u001b[0m\u001b[0;34m,\u001b[0m\u001b[0mP3\u001b[0m\u001b[0;34m)\u001b[0m\u001b[0;34m\u001b[0m\u001b[0;34m\u001b[0m\u001b[0m\n\u001b[0m\u001b[1;32m      7\u001b[0m \u001b[0mcell_size\u001b[0m \u001b[0;34m=\u001b[0m \u001b[0;36m0.02\u001b[0m\u001b[0;34m\u001b[0m\u001b[0;34m\u001b[0m\u001b[0m\n\u001b[1;32m      8\u001b[0m \u001b[0mnel\u001b[0m \u001b[0;34m=\u001b[0m \u001b[0mint\u001b[0m\u001b[0;34m(\u001b[0m\u001b[0mL\u001b[0m\u001b[0;34m/\u001b[0m\u001b[0mcell_size\u001b[0m\u001b[0;34m)\u001b[0m\u001b[0;34m\u001b[0m\u001b[0;34m\u001b[0m\u001b[0m\n",
            "\u001b[0;31mNameError\u001b[0m: name 'Triangle' is not defined"
          ]
        }
      ]
    }
  ]
}