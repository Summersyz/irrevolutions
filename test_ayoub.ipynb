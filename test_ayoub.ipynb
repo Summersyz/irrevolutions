{
  "nbformat": 4,
  "nbformat_minor": 0,
  "metadata": {
    "colab": {
      "name": "Untitled0.ipynb",
      "provenance": [],
      "authorship_tag": "ABX9TyP5JKEnN7TGKPxzzHFaoBtF",
      "include_colab_link": true
    },
    "kernelspec": {
      "name": "python3",
      "display_name": "Python 3"
    }
  },
  "cells": [
    {
      "cell_type": "markdown",
      "metadata": {
        "id": "view-in-github",
        "colab_type": "text"
      },
      "source": [
        "<a href=\"https://colab.research.google.com/github/kumiori/mec647/blob/main/test_ayoub.ipynb\" target=\"_parent\"><img src=\"https://colab.research.google.com/assets/colab-badge.svg\" alt=\"Open In Colab\"/></a>"
      ]
    },
    {
      "cell_type": "code",
      "metadata": {
        "colab": {
          "base_uri": "https://localhost:8080/"
        },
        "id": "H2cmMV64INZI",
        "outputId": "2aae871b-94b0-46fa-e569-ee67cae6bd10"
      },
      "source": [
        "import site\r\n",
        "import sys\r\n",
        "\r\n",
        "\r\n",
        "try : \r\n",
        "    from google.colab import files\r\n",
        "except:\r\n",
        "    pass\r\n",
        "    \r\n",
        "try:\r\n",
        "    from fenics import *; from mshr import *\r\n",
        "except ImportError as e:\r\n",
        "    !apt-get install software-properties-common\r\n",
        "    !add-apt-repository -y ppa:fenics-packages/fenics\r\n",
        "    !apt-get update -qq\r\n",
        "    !apt install -y fenics    \r\n",
        "    site.addsitedir('/usr/lib/petsc/lib/python3/dist-packages')  # Always appends to end\r\n",
        "\r\n",
        "    from fenics import *; from mshr import *\r\n",
        "    from ufl import replace\r\n",
        "\r\n",
        "!fenics-version"
      ],
      "execution_count": 17,
      "outputs": [
        {
          "output_type": "stream",
          "text": [
            "2019.2.0.dev0\n"
          ],
          "name": "stdout"
        }
      ]
    },
    {
      "cell_type": "code",
      "metadata": {
        "id": "PDVC_IVeoXP8"
      },
      "source": [
        "import matplotlib.pyplot as plt;\n",
        "import numpy as np;\n",
        "import math \n",
        "from IPython.display import clear_output, display, update_display; import time; \n",
        "# import dolfin.common.plotting as fenicsplot \n",
        "import time\n",
        "%matplotlib inline\n",
        "plt.rcParams['image.cmap'] = 'viridis'"
      ],
      "execution_count": 21,
      "outputs": []
    }
  ]
}