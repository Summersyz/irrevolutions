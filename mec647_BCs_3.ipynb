{
  "nbformat": 4,
  "nbformat_minor": 0,
  "metadata": {
    "colab": {
      "name": "mec647_BCs_3.ipynb",
      "provenance": [],
      "authorship_tag": "ABX9TyN5bxwL5SVaMXfJwcyzEk8x",
      "include_colab_link": true
    },
    "kernelspec": {
      "name": "python3",
      "display_name": "Python 3"
    },
    "language_info": {
      "name": "python"
    }
  },
  "cells": [
    {
      "cell_type": "markdown",
      "metadata": {
        "id": "view-in-github",
        "colab_type": "text"
      },
      "source": [
        "<a href=\"https://colab.research.google.com/github/kumiori/mec647/blob/main/mec647_BCs_3.ipynb\" target=\"_parent\"><img src=\"https://colab.research.google.com/assets/colab-badge.svg\" alt=\"Open In Colab\"/></a>"
      ]
    },
    {
      "cell_type": "code",
      "execution_count": 1,
      "metadata": {
        "id": "bhqKfbydhqlU"
      },
      "outputs": [],
      "source": [
        "%%capture\n",
        "import sys\n",
        "\n",
        "try:\n",
        "    import google.colab  # noqa: F401\n",
        "except ImportError:\n",
        "    import ufl  # noqa: F401\n",
        "    import dolfinx  # noqa: F401\n",
        "else:\n",
        "    try:\n",
        "        import ufl\n",
        "        import dolfinx\n",
        "    except ImportError:\n",
        "        !wget \"https://fem-on-colab.github.io/releases/fenicsx-install.sh\" -O \"/tmp/fenicsx-install.sh\" && bash \"/tmp/fenicsx-install.sh\";\n",
        "        import ufl  # noqa: F401\n",
        "        import dolfinx  # noqa: F401"
      ]
    },
    {
      "cell_type": "code",
      "source": [
        "%%capture\n",
        "!sudo apt install libgl1-mesa-glx xvfb;\n",
        "!{sys.executable} -m pip install pythreejs;\n",
        "!{sys.executable} -m pip install ipygany;\n",
        "!{sys.executable} -m pip install --upgrade pyyaml\n",
        "try:\n",
        "    import google.colab\n",
        "except ImportError:\n",
        "    pass\n",
        "else:\n",
        "    pass\n",
        "    # google.colab.output.enable_custom_widget_manager();\n",
        "try:\n",
        "    import pyvista\n",
        "except ImportError:\n",
        "    !pip3 install --upgrade pyvista itkwidgets;\n",
        "    import pyvista  # noqa: F401\n",
        "    from pyvista.utilities import xvfb\n",
        "\n",
        "try:\n",
        "    import gmsh\n",
        "except ImportError:\n",
        "    !{sys.executable} -m pip install gmsh\n",
        "    import gmsh"
      ],
      "metadata": {
        "id": "giEEacK0h89B"
      },
      "execution_count": 2,
      "outputs": []
    },
    {
      "cell_type": "code",
      "source": [
        "!rm -rf mec647\n",
        "\n",
        "try:\n",
        "  !git clone https://github.com/kumiori/mec647.git\n",
        "except Exception:\n",
        "  print('Something went wrong')\n",
        "\n",
        "  !rm -rf mec647\n",
        "  !git clone https://github.com/kumiori/mec647.git\n"
      ],
      "metadata": {
        "colab": {
          "base_uri": "https://localhost:8080/"
        },
        "id": "tIu0L3Ixh9bn",
        "outputId": "ec2ad8f8-f946-4c50-f090-634c5b052e66"
      },
      "execution_count": 3,
      "outputs": [
        {
          "output_type": "stream",
          "name": "stdout",
          "text": [
            "Cloning into 'mec647'...\n",
            "remote: Enumerating objects: 495, done.\u001b[K\n",
            "remote: Counting objects: 100% (495/495), done.\u001b[K\n",
            "remote: Compressing objects: 100% (403/403), done.\u001b[K\n",
            "remote: Total 495 (delta 208), reused 221 (delta 74), pack-reused 0\u001b[K\n",
            "Receiving objects: 100% (495/495), 7.12 MiB | 11.59 MiB/s, done.\n",
            "Resolving deltas: 100% (208/208), done.\n"
          ]
        }
      ]
    },
    {
      "cell_type": "code",
      "source": [
        "sys.path.append('mec647/')\n"
      ],
      "metadata": {
        "id": "OFxOqEgOiIO-"
      },
      "execution_count": 4,
      "outputs": []
    },
    {
      "cell_type": "code",
      "source": [
        "\n",
        "# meshes\n",
        "import meshes\n",
        "from meshes import primitives\n",
        "\n",
        "# visualisation\n",
        "from utils import viz\n",
        "import matplotlib.pyplot as plt\n",
        "from utils.viz import plot_mesh"
      ],
      "metadata": {
        "id": "7HOLzr6EimhX"
      },
      "execution_count": 5,
      "outputs": []
    },
    {
      "cell_type": "code",
      "source": [
        "# Parameters\n",
        "\n",
        "parameters = {\n",
        "    'loading': {\n",
        "        'min': 0,\n",
        "        'max': 1\n",
        "    },\n",
        "    'geometry': {\n",
        "        'geom_type': 'bar',\n",
        "        'Lx': 1.,\n",
        "        'Ly': 0.1\n",
        "    }\n",
        "}\n",
        "\n",
        "# parameters.get('loading')\n",
        "\n"
      ],
      "metadata": {
        "id": "lytYYgfoipnb"
      },
      "execution_count": 6,
      "outputs": []
    },
    {
      "cell_type": "markdown",
      "source": [
        "## Mesh 1"
      ],
      "metadata": {
        "id": "cGGdnId4i3es"
      }
    },
    {
      "cell_type": "code",
      "source": [
        ""
      ],
      "metadata": {
        "id": "eGewK6iSiyIj"
      },
      "execution_count": null,
      "outputs": []
    },
    {
      "cell_type": "markdown",
      "source": [
        "## Mesh 2"
      ],
      "metadata": {
        "id": "QEf3rGuUi_CJ"
      }
    },
    {
      "cell_type": "code",
      "source": [
        ""
      ],
      "metadata": {
        "id": "IX2nXOYrjABv"
      },
      "execution_count": null,
      "outputs": []
    },
    {
      "cell_type": "markdown",
      "source": [
        "## Mesh 3"
      ],
      "metadata": {
        "id": "s_7F55yUjBmH"
      }
    },
    {
      "cell_type": "code",
      "source": [
        ""
      ],
      "metadata": {
        "id": "z66da9jRjCOD"
      },
      "execution_count": null,
      "outputs": []
    }
  ]
}