{
 "cells": [
  {
   "cell_type": "code",
   "execution_count": 2,
   "metadata": {},
   "outputs": [
    {
     "name": "stdout",
     "output_type": "stream",
     "text": [
      "postproc\n"
     ]
    }
   ],
   "source": [
    "# Testing Pacman\n",
    "import postprocess as pp\n",
    "import plots as plots\n",
    "import sympy as sp\n",
    "import numpy as np\n",
    "import matplotlib.pyplot as plt\n",
    "from mpl_toolkits.axes_grid1.inset_locator import zoomed_inset_axes, inset_axes\n",
    "\n",
    "from pathlib import Path "
   ]
  },
  {
   "cell_type": "markdown",
   "metadata": {},
   "source": [
    "$$\n",
    "E(u):=\\frac{1}{2} \\int_0^1 a(\\alpha)u'^2 dx + w_1 \\int_0^1 w(\\alpha) + \\ell^2 (\\alpha')^2 dx\n",
    "$$"
   ]
  },
  {
   "cell_type": "markdown",
   "metadata": {},
   "source": [
    "$$\n",
    "w(\\alpha):= \\alpha, \\qquad a(\\alpha):= (1-\\alpha)^2 =: a_{AT_1}\n",
    "$$"
   ]
  },
  {
   "cell_type": "code",
   "execution_count": 33,
   "metadata": {},
   "outputs": [
    {
     "name": "stdout",
     "output_type": "stream",
     "text": [
      "no sig file found\n"
     ]
    }
   ],
   "source": [
    "experiment = '../../practice/output/pacman-cone'\n",
    "params, data, signature = pp.load_data(experiment)\n"
   ]
  },
  {
   "cell_type": "code",
   "execution_count": 34,
   "metadata": {},
   "outputs": [],
   "source": [
    "_uni = [0 if d==True else np.nan for d in data[\"uniqueness\"]]\n",
    "_uni;"
   ]
  },
  {
   "cell_type": "code",
   "execution_count": 35,
   "metadata": {},
   "outputs": [
    {
     "name": "stderr",
     "output_type": "stream",
     "text": [
      "/var/folders/9t/b79vbddd6cz3hhc20g8hk86m0000gn/T/ipykernel_83475/2143328973.py:2: VisibleDeprecationWarning: Creating an ndarray from ragged nested sequences (which is a list-or-tuple of lists-or-tuples-or ndarrays with different lengths or shapes) is deprecated. If you meant to do this, you must specify 'dtype=object' when creating the ndarray.\n",
      "  _asd = np.array([step[\"lambda_0\"] for step in data[\"cone_data\"]])\n"
     ]
    },
    {
     "data": {
      "text/plain": [
       "<matplotlib.legend.Legend at 0x14e734eb0>"
      ]
     },
     "execution_count": 35,
     "metadata": {},
     "output_type": "execute_result"
    },
    {
     "data": {
      "image/png": "[encoded data removed]",
      "text/plain": [
       "<Figure size 864x648 with 1 Axes>"
      ]
     },
     "metadata": {},
     "output_type": "display_data"
    }
   ],
   "source": [
    "figure, axis = plt.subplots(1, 1, figsize=(12, 9))\n",
    "_asd = np.array([step[\"lambda_0\"] for step in data[\"cone_data\"]])\n",
    "_lambda_0 = [np.nan if type(a) is list else a for a in _asd ]\n",
    "__lambda_0 = [e[0] for e in data['eigs']]\n",
    "\n",
    "axis.scatter(data.load, __lambda_0, cmap='RdYlGn_r', marker='+', alpha=.8, label='space', c='C2', s=200)\n",
    "axis.plot(data.load, _lambda_0, marker='o', ls='', label=f\"$\\lambda_0$\")\n",
    "axis.plot(data.load, _uni, marker='d', ls='', label=f\"uniq\")\n",
    "axis.axhline(1e-5, c='k')\n",
    "\n",
    "axis.axhline(0, c='k')\n",
    "\n",
    "axis.set_title('Inf of the K-spectrum and stability')\n",
    "\n",
    "axis.legend(loc=2)\n"
   ]
  },
  {
   "cell_type": "code",
   "execution_count": null,
   "metadata": {},
   "outputs": [],
   "source": []
  }
 ],
 "metadata": {
  "kernelspec": {
   "display_name": "Python 3",
   "language": "python",
   "name": "python3"
  },
  "language_info": {
   "codemirror_mode": {
    "name": "ipython",
    "version": 3
   },
   "file_extension": ".py",
   "mimetype": "text/x-python",
   "name": "python",
   "nbconvert_exporter": "python",
   "pygments_lexer": "ipython3",
   "version": "3.9.13"
  },
  "orig_nbformat": 4
 },
 "nbformat": 4,
 "nbformat_minor": 2
}
