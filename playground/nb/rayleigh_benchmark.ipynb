{
 "cells": [
  {
   "cell_type": "code",
   "execution_count": 18,
   "metadata": {},
   "outputs": [],
   "source": [
    "import sympy as sp\n",
    "import numpy as np\n",
    "import matplotlib.pyplot as plt\n",
    "import postprocess as pp\n",
    "# import plots\n",
    "import os"
   ]
  },
  {
   "cell_type": "code",
   "execution_count": 19,
   "metadata": {},
   "outputs": [],
   "source": [
    "\n",
    "def l2_norm(components):\n",
    "    \"\"\"\n",
    "    Compute the L2 norm of a vector field defined by components on their respective domains.\n",
    "\n",
    "    Parameters:\n",
    "        components (list): List of tuples (x, f) where x is the mesh coordinates and f is the field values.\n",
    "\n",
    "    Returns:\n",
    "        float: L2 norm of the vector field.\n",
    "    \"\"\"\n",
    "    norms = []\n",
    "\n",
    "    for x, f in components:\n",
    "        # Compute the square of the field values\n",
    "        squared_values = f**2\n",
    "\n",
    "        # Compute the integral using the trapezoidal rule\n",
    "        integral = np.trapz(squared_values, x)\n",
    "\n",
    "        # Take the square root to get the L2 norm\n",
    "        component_norm = np.sqrt(integral)\n",
    "        norms.append(component_norm)\n",
    "\n",
    "    # Compute the vector norm by summing the squared norms and taking the square root\n",
    "    vector_norm = np.sqrt(np.sum(np.array(norms)**2))\n",
    "\n",
    "    return vector_norm"
   ]
  },
  {
   "cell_type": "code",
   "execution_count": 20,
   "metadata": {},
   "outputs": [
    {
     "name": "stdout",
     "output_type": "stream",
     "text": [
      "File 'time_data.json' not found. Handle this case accordingly.\n",
      "no sig file found\n"
     ]
    }
   ],
   "source": [
    "experiment = '../../test/output/rayleigh-benchmark/MPI-1/e9276db499c49b725dbe8cb8ac8c9521'\n",
    "params, data, signature = pp.load_data(experiment)\n"
   ]
  },
  {
   "cell_type": "code",
   "execution_count": 21,
   "metadata": {},
   "outputs": [],
   "source": [
    "modes_data = np.load(os.path.join(experiment, 'mode_shapes_data.npz'), allow_pickle=True)\n"
   ]
  },
  {
   "cell_type": "code",
   "execution_count": 22,
   "metadata": {},
   "outputs": [
    {
     "ename": "KeyError",
     "evalue": "'mesh is not a file in the archive'",
     "output_type": "error",
     "traceback": [
      "\u001b[0;31m---------------------------------------------------------------------------\u001b[0m",
      "\u001b[0;31mKeyError\u001b[0m                                  Traceback (most recent call last)",
      "Cell \u001b[0;32mIn[22], line 1\u001b[0m\n\u001b[0;32m----> 1\u001b[0m mode \u001b[39m=\u001b[39m pp\u001b[39m.\u001b[39;49mread_mode_data_from_npz(modes_data, time_step\u001b[39m=\u001b[39;49m\u001b[39m0\u001b[39;49m, num_modes\u001b[39m=\u001b[39;49m\u001b[39m1\u001b[39;49m, num_points\u001b[39m=\u001b[39;49m\u001b[39m10\u001b[39;49m)\n\u001b[1;32m      2\u001b[0m _fig, _axes \u001b[39m=\u001b[39m pp\u001b[39m.\u001b[39mplot_fields_for_time_step(mode)\n",
      "File \u001b[0;32m~/Documents/WIP/Nature/mec647/playground/nb/postprocess.py:375\u001b[0m, in \u001b[0;36mread_mode_data_from_npz\u001b[0;34m(npz_file, time_step, num_points, num_modes)\u001b[0m\n\u001b[1;32m    362\u001b[0m \u001b[39m\u001b[39m\u001b[39m\"\"\"\u001b[39;00m\n\u001b[1;32m    363\u001b[0m \u001b[39mRead mode data for a given timestep and x_values from an npz file.\u001b[39;00m\n\u001b[1;32m    364\u001b[0m \n\u001b[0;32m   (...)\u001b[0m\n\u001b[1;32m    372\u001b[0m \u001b[39m- mode_data (dict): A dictionary containing mode-specific fields for the given timestep.\u001b[39;00m\n\u001b[1;32m    373\u001b[0m \u001b[39m\"\"\"\u001b[39;00m\n\u001b[1;32m    374\u001b[0m mode_data \u001b[39m=\u001b[39m {}\n\u001b[0;32m--> 375\u001b[0m mode_data[\u001b[39m\"\u001b[39m\u001b[39mmesh\u001b[39m\u001b[39m\"\u001b[39m] \u001b[39m=\u001b[39m npz_file[\u001b[39m\"\u001b[39;49m\u001b[39mmesh\u001b[39;49m\u001b[39m\"\u001b[39;49m]\n\u001b[1;32m    376\u001b[0m \u001b[39mif\u001b[39;00m \u001b[39m'\u001b[39m\u001b[39mtime_steps\u001b[39m\u001b[39m'\u001b[39m \u001b[39mnot\u001b[39;00m \u001b[39min\u001b[39;00m npz_file \u001b[39mor\u001b[39;00m time_step \u001b[39mnot\u001b[39;00m \u001b[39min\u001b[39;00m npz_file[\u001b[39m'\u001b[39m\u001b[39mtime_steps\u001b[39m\u001b[39m'\u001b[39m]:\n\u001b[1;32m    377\u001b[0m     \u001b[39mprint\u001b[39m(\u001b[39mf\u001b[39m\u001b[39m\"\u001b[39m\u001b[39mNo data available for timestep \u001b[39m\u001b[39m{\u001b[39;00mtime_step\u001b[39m}\u001b[39;00m\u001b[39m.\u001b[39m\u001b[39m\"\u001b[39m)\n",
      "File \u001b[0;32m/opt/homebrew/lib/python3.11/site-packages/numpy/lib/npyio.py:263\u001b[0m, in \u001b[0;36mNpzFile.__getitem__\u001b[0;34m(self, key)\u001b[0m\n\u001b[1;32m    261\u001b[0m         \u001b[39mreturn\u001b[39;00m \u001b[39mself\u001b[39m\u001b[39m.\u001b[39mzip\u001b[39m.\u001b[39mread(key)\n\u001b[1;32m    262\u001b[0m \u001b[39melse\u001b[39;00m:\n\u001b[0;32m--> 263\u001b[0m     \u001b[39mraise\u001b[39;00m \u001b[39mKeyError\u001b[39;00m(\u001b[39mf\u001b[39m\u001b[39m\"\u001b[39m\u001b[39m{\u001b[39;00mkey\u001b[39m}\u001b[39;00m\u001b[39m is not a file in the archive\u001b[39m\u001b[39m\"\u001b[39m)\n",
      "\u001b[0;31mKeyError\u001b[0m: 'mesh is not a file in the archive'"
     ]
    }
   ],
   "source": [
    "mode = pp.read_mode_data_from_npz(modes_data, time_step=0, num_modes=1, num_points=10)\n",
    "_fig, _axes = pp.plot_fields_for_time_step(mode)"
   ]
  },
  {
   "cell_type": "markdown",
   "metadata": {},
   "source": [
    "## Parametric Rayleigh benchmark"
   ]
  },
  {
   "cell_type": "code",
   "execution_count": 23,
   "metadata": {},
   "outputs": [
    {
     "name": "stdout",
     "output_type": "stream",
     "text": [
      "\u001b[1m\u001b[36m66d30348817e47f8539938b25ede889f\u001b[m\u001b[m\n"
     ]
    }
   ],
   "source": [
    "import os\n",
    "cwd = os.getcwd()\n",
    "path_components = cwd.split(os.path.sep)\n",
    "path_components = path_components[0:-2]\n",
    "dirroot =  '/' + os.path.join(*path_components, 'test', 'output', 'rayleigh-benchmark-parametric', 'MPI-1')\n",
    "\n",
    "!ls $dirroot\n"
   ]
  },
  {
   "cell_type": "code",
   "execution_count": 24,
   "metadata": {},
   "outputs": [
    {
     "name": "stdout",
     "output_type": "stream",
     "text": [
      "/Users/kumiori3/Documents/WIP/Nature/mec647/test/output/rayleigh-benchmark-parametric/MPI-1/66d30348817e47f8539938b25ede889f\n",
      "File 'time_data.json' not found. Handle this case accordingly.\n"
     ]
    }
   ],
   "source": [
    "for subdir, dirs, files in os.walk(dirroot):\n",
    "    if not os.path.isfile(subdir + \"/signature.md5\"):\n",
    "        continue\n",
    "    print(subdir)\n",
    "    modes_data = np.load(os.path.join(subdir, 'mode_shapes_data.npz'), allow_pickle=True)\n",
    "    mode = pp.read_mode_data_from_npz(modes_data, time_step=0, num_modes=1, num_points=-1)\n",
    "    params, data, signature = pp.load_data(subdir)\n",
    "\n",
    "    # params, data, signature = pp.load_data(subdir)\n",
    "    # cone_data = data[\"solver_KS_data\"][[isinstance(d[\"iterations\"], int) for d in data[\"solver_KS_data\"]]]\n",
    "    # _offset = sum([not isinstance(d[\"iterations\"], int) for d in data[\"solver_KS_data\"]])\n",
    "\n",
    "    # _ell = params['model']['ell']\n",
    "    # print(f\" scaling = {params['stability']['cone']['scaling']}\")\n",
    "    # pd.DataFrame(cone_data)\n",
    "    # for entry in cone_data:\n",
    "        # plt.plot(entry[\"lambda_0\"])\n"
   ]
  },
  {
   "cell_type": "code",
   "execution_count": 25,
   "metadata": {},
   "outputs": [
    {
     "name": "stdout",
     "output_type": "stream",
     "text": [
      "0.6229402944338904\n"
     ]
    }
   ],
   "source": [
    "import numpy as np\n",
    "\n",
    "# Example usage\n",
    "mesh_coordinates = np.linspace(0, 1, 100)  # Adjust the number of points as needed\n",
    "field_values = np.sin(np.pi * mesh_coordinates)  # Replace with your field values\n",
    "field_values = np.sin(np.sin(np.pi * mesh_coordinates))  # Replace with your field values\n",
    "# field_values = np.ones(len(mesh_coordinates))  # Replace with your field values\n",
    "result = l2_norm([(mesh_coordinates, field_values)])\n",
    "print(result)\n"
   ]
  },
  {
   "cell_type": "code",
   "execution_count": 26,
   "metadata": {},
   "outputs": [
    {
     "data": {
      "text/plain": [
       "{'mesh': array([0.001  , 0.01098, 0.02096, 0.03094, 0.04092, 0.0509 , 0.06088,\n",
       "        0.07086, 0.08084, 0.09082, 0.1008 , 0.11078, 0.12076, 0.13074,\n",
       "        0.14072, 0.1507 , 0.16068, 0.17066, 0.18064, 0.19062, 0.2006 ,\n",
       "        0.21058, 0.22056, 0.23054, 0.24052, 0.2505 , 0.26048, 0.27046,\n",
       "        0.28044, 0.29042, 0.3004 , 0.31038, 0.32036, 0.33034, 0.34032,\n",
       "        0.3503 , 0.36028, 0.37026, 0.38024, 0.39022, 0.4002 , 0.41018,\n",
       "        0.42016, 0.43014, 0.44012, 0.4501 , 0.46008, 0.47006, 0.48004,\n",
       "        0.49002, 0.5    , 0.50998, 0.51996, 0.52994, 0.53992, 0.5499 ,\n",
       "        0.55988, 0.56986, 0.57984, 0.58982, 0.5998 , 0.60978, 0.61976,\n",
       "        0.62974, 0.63972, 0.6497 , 0.65968, 0.66966, 0.67964, 0.68962,\n",
       "        0.6996 , 0.70958, 0.71956, 0.72954, 0.73952, 0.7495 , 0.75948,\n",
       "        0.76946, 0.77944, 0.78942, 0.7994 , 0.80938, 0.81936, 0.82934,\n",
       "        0.83932, 0.8493 , 0.85928, 0.86926, 0.87924, 0.88922, 0.8992 ,\n",
       "        0.90918, 0.91916, 0.92914, 0.93912, 0.9491 , 0.95908, 0.96906,\n",
       "        0.97904, 0.98902, 0.999  ]),\n",
       " 'fields': {'bifurcation_β': array([ 8.42866805e-02,  8.41332973e-02,  8.39799142e-02,  8.38265310e-02,\n",
       "          8.34660777e-02,  8.30403008e-02,  8.26145240e-02,  8.20761876e-02,\n",
       "          8.13825229e-02,  8.06888582e-02,  7.99743158e-02,  7.90202027e-02,\n",
       "          7.80660896e-02,  7.71119765e-02,  7.59727101e-02,  7.47684395e-02,\n",
       "          7.35641688e-02,  7.22650151e-02,  7.08236158e-02,  6.93822165e-02,\n",
       "          6.79275003e-02,  6.62645962e-02,  6.46016920e-02,  6.29387879e-02,\n",
       "          6.11293726e-02,  5.92630109e-02,  5.73966493e-02,  5.54606604e-02,\n",
       "          5.34111143e-02,  5.13615682e-02,  4.93055729e-02,  4.70951192e-02,\n",
       "          4.48846656e-02,  4.26742119e-02,  4.03679395e-02,  3.80206150e-02,\n",
       "          3.56732905e-02,  3.32858786e-02,  3.08272169e-02,  2.83685552e-02,\n",
       "          2.59081984e-02,  2.33649507e-02,  2.08217030e-02,  1.82784553e-02,\n",
       "          1.56965074e-02,  1.30963499e-02,  1.04961923e-02,  7.88630658e-03,\n",
       "          5.25753772e-03,  2.62876886e-03,  2.01981791e-17, -2.62876886e-03,\n",
       "         -5.25753772e-03, -7.88630658e-03, -1.04961923e-02, -1.30963499e-02,\n",
       "         -1.56965074e-02, -1.82784553e-02, -2.08217030e-02, -2.33649507e-02,\n",
       "         -2.59081984e-02, -2.83685552e-02, -3.08272169e-02, -3.32858786e-02,\n",
       "         -3.56732905e-02, -3.80206150e-02, -4.03679395e-02, -4.26742119e-02,\n",
       "         -4.48846656e-02, -4.70951192e-02, -4.93055729e-02, -5.13615682e-02,\n",
       "         -5.34111143e-02, -5.54606604e-02, -5.73966493e-02, -5.92630109e-02,\n",
       "         -6.11293726e-02, -6.29387879e-02, -6.46016920e-02, -6.62645962e-02,\n",
       "         -6.79275003e-02, -6.93822165e-02, -7.08236158e-02, -7.22650151e-02,\n",
       "         -7.35641688e-02, -7.47684395e-02, -7.59727101e-02, -7.71119765e-02,\n",
       "         -7.80660896e-02, -7.90202027e-02, -7.99743158e-02, -8.06888582e-02,\n",
       "         -8.13825229e-02, -8.20761876e-02, -8.26145240e-02, -8.30403008e-02,\n",
       "         -8.34660777e-02, -8.38265310e-02, -8.39799142e-02, -8.41332973e-02,\n",
       "         -8.42866805e-02]),\n",
       "  'bifurcation_v': array([0.00076348, 0.00838306, 0.01600263, 0.02362221, 0.0311755 ,\n",
       "         0.03870788, 0.04624026, 0.05370158, 0.06106486, 0.06842815,\n",
       "         0.07577145, 0.08288555, 0.08999965, 0.09711375, 0.10398614,\n",
       "         0.11077366, 0.11756119, 0.12418848, 0.13057557, 0.13696266,\n",
       "         0.14332149, 0.14923864, 0.15515578, 0.16107292, 0.16660526,\n",
       "         0.17198805, 0.17737083, 0.18252824, 0.18731807, 0.1921079 ,\n",
       "         0.19687187, 0.20101659, 0.20516131, 0.20930604, 0.21296755,\n",
       "         0.21642203, 0.21987652, 0.22306894, 0.22579557, 0.2285222 ,\n",
       "         0.23123365, 0.23320274, 0.23517183, 0.23714091, 0.23858026,\n",
       "         0.23977036, 0.24096045, 0.24188127, 0.24227942, 0.24267756,\n",
       "         0.24307571, 0.24267756, 0.24227942, 0.24188127, 0.24096045,\n",
       "         0.23977036, 0.23858026, 0.23714091, 0.23517183, 0.23320274,\n",
       "         0.23123365, 0.2285222 , 0.22579557, 0.22306894, 0.21987652,\n",
       "         0.21642203, 0.21296755, 0.20930604, 0.20516131, 0.20101659,\n",
       "         0.19687187, 0.1921079 , 0.18731807, 0.18252824, 0.17737083,\n",
       "         0.17198805, 0.16660526, 0.16107292, 0.15515578, 0.14923864,\n",
       "         0.14332149, 0.13696266, 0.13057557, 0.12418848, 0.11756119,\n",
       "         0.11077366, 0.10398614, 0.09711375, 0.08999965, 0.08288555,\n",
       "         0.07577145, 0.06842815, 0.06106486, 0.05370158, 0.04624026,\n",
       "         0.03870788, 0.0311755 , 0.02362221, 0.01600263, 0.00838306,\n",
       "         0.00076348]),\n",
       "  'stability_β': array([0.11194765, 0.11158323, 0.1112188 , 0.11085438, 0.1100739 ,\n",
       "         0.10916216, 0.10825042, 0.10711957, 0.10568634, 0.10425311,\n",
       "         0.10278146, 0.10086885, 0.09895624, 0.09704362, 0.09481873,\n",
       "         0.09248421, 0.09014968, 0.08767498, 0.08499013, 0.08230528,\n",
       "         0.07960443, 0.07665346, 0.07370249, 0.07075151, 0.06767733,\n",
       "         0.06455526, 0.06143319, 0.05828557, 0.05509628, 0.05190699,\n",
       "         0.04871944, 0.04557355, 0.04242765, 0.03928176, 0.03624684,\n",
       "         0.03325948, 0.03027211, 0.0273841 , 0.02467267, 0.02196123,\n",
       "         0.01925769, 0.01693965, 0.01462162, 0.01230358, 0.01033155,\n",
       "         0.00852231, 0.00671307, 0.0051147 , 0.00392563, 0.00273656,\n",
       "         0.00154749, 0.00108417, 0.00062085, 0.00015753, 0.        ,\n",
       "         0.        , 0.        , 0.        , 0.        , 0.        ,\n",
       "         0.        , 0.        , 0.        , 0.        , 0.        ,\n",
       "         0.        , 0.        , 0.        , 0.        , 0.        ,\n",
       "         0.        , 0.        , 0.        , 0.        , 0.        ,\n",
       "         0.        , 0.        , 0.        , 0.        , 0.        ,\n",
       "         0.        , 0.        , 0.        , 0.        , 0.        ,\n",
       "         0.        , 0.        , 0.        , 0.        , 0.        ,\n",
       "         0.        , 0.        , 0.        , 0.        , 0.        ,\n",
       "         0.        , 0.        , 0.        , 0.        , 0.        ,\n",
       "         0.        ]),\n",
       "  'stability_v': array([0.00103605, 0.01137577, 0.0217155 , 0.03205523, 0.04222492,\n",
       "         0.05234096, 0.06245701, 0.07239718, 0.08209466, 0.09179214,\n",
       "         0.10144134, 0.1105366 , 0.11963186, 0.12872712, 0.13725284,\n",
       "         0.14557862, 0.15390439, 0.16186383, 0.16927405, 0.17668427,\n",
       "         0.1840322 , 0.19040632, 0.19678043, 0.20315455, 0.20871681,\n",
       "         0.21396352, 0.21921023, 0.22400601, 0.22806638, 0.23212674,\n",
       "         0.23613859, 0.23898841, 0.24183823, 0.24468805, 0.24669892,\n",
       "         0.24835037, 0.25000181, 0.25123956, 0.25174201, 0.25224446,\n",
       "         0.25272561, 0.25216571, 0.2516058 , 0.25104589, 0.24984733,\n",
       "         0.24834826, 0.24684919, 0.24508461, 0.24280467, 0.24052472,\n",
       "         0.23824478, 0.23537522, 0.23250565, 0.22963609, 0.22649183,\n",
       "         0.22320606, 0.21992028, 0.21652653, 0.21290332, 0.20928012,\n",
       "         0.20565691, 0.20172142, 0.19777954, 0.19383766, 0.1897049 ,\n",
       "         0.18546476, 0.18122462, 0.1769016 , 0.17238514, 0.16786869,\n",
       "         0.16335223, 0.15859299, 0.1538236 , 0.14905422, 0.14414335,\n",
       "         0.13914573, 0.13414811, 0.12909385, 0.12389387, 0.11869388,\n",
       "         0.1134939 , 0.10812903, 0.1027536 , 0.09737818, 0.09191421,\n",
       "         0.08639118, 0.08086814, 0.07531418, 0.06967213, 0.06403008,\n",
       "         0.05838803, 0.05266338, 0.04693152, 0.04119967, 0.03543295,\n",
       "         0.02964096, 0.02384898, 0.01804976, 0.01222764, 0.00640551,\n",
       "         0.00058338])},\n",
       " 'time_step': 0,\n",
       " 'lambda_bifurcation': nan,\n",
       " 'lambda_stability': nan}"
      ]
     },
     "execution_count": 26,
     "metadata": {},
     "output_type": "execute_result"
    }
   ],
   "source": [
    "mode"
   ]
  },
  {
   "cell_type": "code",
   "execution_count": 27,
   "metadata": {},
   "outputs": [
    {
     "data": {
      "image/png": "[encoded data removed]",
      "text/plain": [
       "<Figure size 1000x500 with 2 Axes>"
      ]
     },
     "metadata": {},
     "output_type": "display_data"
    }
   ],
   "source": [
    "mode = pp.read_mode_data_from_npz(modes_data, time_step=0, num_modes=1, num_points=10)\n",
    "_fig, _axes = pp.plot_fields_for_time_step(mode)"
   ]
  },
  {
   "cell_type": "code",
   "execution_count": 28,
   "metadata": {},
   "outputs": [
    {
     "data": {
      "text/plain": [
       "0.18171983239793219"
      ]
     },
     "execution_count": 28,
     "metadata": {},
     "output_type": "execute_result"
    }
   ],
   "source": [
    "l2_norm([\n",
    "    (mode['mesh'], mode['fields']['bifurcation_v']),\n",
    "    (mode['mesh'], mode['fields']['bifurcation_β'])\n",
    "    ])"
   ]
  },
  {
   "cell_type": "code",
   "execution_count": 29,
   "metadata": {},
   "outputs": [
    {
     "data": {
      "text/plain": [
       "0.2430757059374186"
      ]
     },
     "execution_count": 29,
     "metadata": {},
     "output_type": "execute_result"
    }
   ],
   "source": [
    "max(mode['fields']['bifurcation_v'])"
   ]
  },
  {
   "cell_type": "code",
   "execution_count": 30,
   "metadata": {},
   "outputs": [
    {
     "data": {
      "text/plain": [
       "{'geometry': {'Lx': 1.0,\n",
       "  'Ly': 0.1,\n",
       "  'N': 10,\n",
       "  'geom_type': 'infinite-dimensional-unit-test',\n",
       "  'geometric_dimension': 2,\n",
       "  'lc': 0.02,\n",
       "  'mesh_size_factor': 4},\n",
       " 'loading': {'max': 1.001, 'min': 0, 'steps': 10},\n",
       " 'model': {'a': 1, 'b': 1, 'c': 8, 'model_dimension': 1, 'model_type': '1D'},\n",
       " 'solvers': {'damage': {'prefix': 'damage',\n",
       "   'snes': {'ksp_type': 'preonly',\n",
       "    'pc_factor_mat_solver_type': 'mumps',\n",
       "    'pc_type': 'lu',\n",
       "    'snes_atol': 1e-08,\n",
       "    'snes_linesearch_type': 'basic',\n",
       "    'snes_max_it': 50,\n",
       "    'snes_monitor': '',\n",
       "    'snes_rtol': 1e-08,\n",
       "    'snes_type': 'vinewtonrsls'},\n",
       "   'tao': {'ksp_rtol': '1e-6',\n",
       "    'pc_type': 'lu',\n",
       "    'tao_catol': 0.0,\n",
       "    'tao_crtol': 0.0,\n",
       "    'tao_gatol': 1e-08,\n",
       "    'tao_gpcg_maxpgits': 50,\n",
       "    'tao_grtol': 1e-08,\n",
       "    'tao_gttol': 1e-08,\n",
       "    'tao_ls_ftol': '1e-5',\n",
       "    'tao_ls_gtol': '1e-5',\n",
       "    'tao_ls_rtol': '1e-5',\n",
       "    'tao_ls_stepmax': '1e6',\n",
       "    'tao_ls_stepmin': '1e-8',\n",
       "    'tao_max_it': 100,\n",
       "    'tao_monitor': '',\n",
       "    'tao_steptol': 1e-07,\n",
       "    'tao_type': 'tron'},\n",
       "   'type': 'SNES'},\n",
       "  'damage_elasticity': {'alpha_rtol': 0.0001,\n",
       "   'criterion': 'alpha_H1',\n",
       "   'max_it': 200},\n",
       "  'elasticity': {'prefix': 'elasticity',\n",
       "   'snes': {'ksp_type': 'preonly',\n",
       "    'pc_factor_mat_solver_type': 'mumps',\n",
       "    'pc_type': 'lu',\n",
       "    'snes_atol': '1e-8',\n",
       "    'snes_max_it': 200,\n",
       "    'snes_monitor': '',\n",
       "    'snes_rtol': '1e-8',\n",
       "    'snes_stol': '1e-8',\n",
       "    'snes_type': 'newtontr'}},\n",
       "  'newton': {'linesearch_damping': 0.5,\n",
       "   'snes_atol': 1e-08,\n",
       "   'snes_linesearch_type': 'basic',\n",
       "   'snes_max_it': 30,\n",
       "   'snes_monitor': '',\n",
       "   'snes_rtol': 1e-08,\n",
       "   'snes_type': 'vinewtonrsls'}},\n",
       " 'stability': {'checkstability': 'True',\n",
       "  'cone': {'cone_atol': 1e-08,\n",
       "   'cone_max_it': 400000,\n",
       "   'cone_rtol': 1e-08,\n",
       "   'maxmodes': 3,\n",
       "   'scaling': 0.01},\n",
       "  'cont_rtol': 1e-10,\n",
       "  'continuation': 'False',\n",
       "  'eigen': {'eig_rtol': 1e-08,\n",
       "   'eps_max_it': 100,\n",
       "   'eps_tol': 1e-05,\n",
       "   'eps_type': 'krylovschur'},\n",
       "  'inactiveset_gatol': 0.1,\n",
       "  'inactiveset_pwtol': 1e-06,\n",
       "  'inertia': {'ksp_type': 'preonly',\n",
       "   'mat_mumps_icntl_13': 1,\n",
       "   'mat_mumps_icntl_24': 1,\n",
       "   'pc_factor_mat_solver_type': 'mumps',\n",
       "   'pc_type': 'cholesky'},\n",
       "  'is_elastic_tol': 1e-06,\n",
       "  'linesearch': {'method': 'min', 'order': 4},\n",
       "  'maxmodes': 10,\n",
       "  'order': 3}}"
      ]
     },
     "execution_count": 30,
     "metadata": {},
     "output_type": "execute_result"
    }
   ],
   "source": [
    "params"
   ]
  },
  {
   "cell_type": "code",
   "execution_count": 31,
   "metadata": {},
   "outputs": [
    {
     "data": {
      "text/plain": [
       "{'a': 1, 'b': 1, 'c': 8}"
      ]
     },
     "execution_count": 31,
     "metadata": {},
     "output_type": "execute_result"
    }
   ],
   "source": [
    "a = params['model']['a']\n",
    "b = params['model']['b']\n",
    "c = params['model']['c']\n",
    "\n",
    "parameters = {\"a\": a, \"b\": b, \"c\": c}\n",
    "\n",
    "parameters"
   ]
  },
  {
   "cell_type": "markdown",
   "metadata": {},
   "source": [
    "## From the book of the numbers..."
   ]
  },
  {
   "cell_type": "code",
   "execution_count": 32,
   "metadata": {},
   "outputs": [],
   "source": [
    "import eigenspace as eig"
   ]
  },
  {
   "cell_type": "code",
   "execution_count": 33,
   "metadata": {},
   "outputs": [
    {
     "name": "stdout",
     "output_type": "stream",
     "text": [
      "case 2\n",
      "[{A, x}, {A, x}]\n",
      "sqrt(A**2/2 + 32*A**2/pi**2) True False\n",
      "depends_on_A\n",
      "case 2\n",
      "sqrt(0.125*sin(1.0*pi**1.0)*cos(1.0*pi**1.0)/pi**0.333333333333333 + 0.125*pi**0.666666666666667*sin(1.0*pi**1.0)**2 + 0.5*sin(1.0*pi**1.0)/pi**0.333333333333333 + 0.125*pi**0.666666666666667*cos(1.0*pi**1.0)**2 + 0.25*pi**0.666666666666667)*sqrt(C**2)\n",
      "depends_on_C\n"
     ]
    }
   ],
   "source": [
    "eigenspace_v, _normalisation_v = eig.solve_eigenspace_vector(parameters)\n",
    "eigenspace_k, _normalisation_k = eig.solve_eigenspace_cone(parameters)\n"
   ]
  },
  {
   "cell_type": "code",
   "execution_count": 34,
   "metadata": {},
   "outputs": [
    {
     "data": {
      "text/plain": [
       "({'v': -8*sqrt(2)*sin(pi*x)/sqrt(pi**2 + 64),\n",
       "  'β': -sqrt(2)*pi*cos(pi*x)/sqrt(pi**2 + 64),\n",
       "  'D': 0},\n",
       " {A: -sqrt(2)*pi/sqrt(pi**2 + 64)})"
      ]
     },
     "execution_count": 34,
     "metadata": {},
     "output_type": "execute_result"
    }
   ],
   "source": [
    "eigenspace_v, _normalisation_v"
   ]
  },
  {
   "cell_type": "code",
   "execution_count": 35,
   "metadata": {},
   "outputs": [
    {
     "data": {
      "text/plain": [
       "({'v': 0,\n",
       "  'β': Piecewise((1.11498170631978*cos(4.0*pi**0.333333333333333*x) + 1.11498170631978, (x >= 0) & (x <= 0.25*pi**0.666666666666667)), (0, True)),\n",
       "  'D': 0.25*pi**0.666666666666667},\n",
       " {C: 1.11498170631978})"
      ]
     },
     "execution_count": 35,
     "metadata": {},
     "output_type": "execute_result"
    }
   ],
   "source": [
    "eigenspace_k, _normalisation_k"
   ]
  },
  {
   "cell_type": "code",
   "execution_count": 36,
   "metadata": {},
   "outputs": [
    {
     "ename": "AttributeError",
     "evalue": "module 'eigenspace' has no attribute 'plot_eigenspace'",
     "output_type": "error",
     "traceback": [
      "\u001b[0;31m---------------------------------------------------------------------------\u001b[0m",
      "\u001b[0;31mAttributeError\u001b[0m                            Traceback (most recent call last)",
      "Cell \u001b[0;32mIn[36], line 1\u001b[0m\n\u001b[0;32m----> 1\u001b[0m eig\u001b[39m.\u001b[39;49mplot_eigenspace(eigenspace_v, _normalisation_v)\n",
      "\u001b[0;31mAttributeError\u001b[0m: module 'eigenspace' has no attribute 'plot_eigenspace'"
     ]
    }
   ],
   "source": [
    "eig.plot_eigenspace(eigenspace_v, _normalisation_v)"
   ]
  },
  {
   "cell_type": "code",
   "execution_count": 37,
   "metadata": {},
   "outputs": [],
   "source": [
    "\n",
    "def solve_eigenspace_vector(parameters, idx = 0):\n",
    "    \"\"\"\n",
    "    Solve for the eigenspace in a vector space.\n",
    "\n",
    "    Parameters:\n",
    "        parameters (dict): A dictionary containing the values for 'a', 'b', and 'c'.\n",
    "        idx (int): Index to choose the appropriate solution in case of multiple solutions.\n",
    "\n",
    "    Returns:\n",
    "        dict: A dictionary containing 'v', 'β', and 'D'.\n",
    "    \"\"\"\n",
    "    x = sp.symbols('x', real=True)\n",
    "    v = sp.Function('v', real=True)(x)\n",
    "    β = sp.Function('β', real=True)(x)\n",
    "    C, A = sp.symbols('C A')\n",
    "    \n",
    "    a = parameters[\"a\"]\n",
    "    b = parameters[\"b\"]\n",
    "    c = parameters[\"c\"]    \n",
    "    \n",
    "    if b * c**2 < sp.pi**2 * a:\n",
    "        print('case 1')\n",
    "        _subs = {A: 0}\n",
    "        A = 0\n",
    "    elif b * c**2 > sp.pi**2 * a:\n",
    "        print('case 2')\n",
    "        _subs = {C: 0}\n",
    "        C = 0\n",
    "    \n",
    "    \n",
    "    β = C + A*sp.cos(sp.pi * x)\n",
    "    v = c * A / sp.pi * sp.sin(sp.pi * x)\n",
    "\n",
    "    depends_on_A = np.any([sp.symbols('A') in expression.free_symbols for expression in [v, β]])\n",
    "    depends_on_C = np.any([sp.symbols('C') in expression.free_symbols for expression in [v, β]])\n",
    "    \n",
    "    _norm = sp.sqrt(np.sum([sp.integrate(eigenfunction**2, (x, 0, 1)) for eigenfunction in (v, β)]))\n",
    "\n",
    "    print([expression.free_symbols for expression in [v, β]])\n",
    "    print(_norm, depends_on_A, depends_on_C)\n",
    "    \n",
    "    if depends_on_A:\n",
    "        print('depends_on_A')\n",
    "        _normalise = [{sp.symbols('A'): ay} for ay in sp.solve(_norm - 1, A)]\n",
    "    elif depends_on_C:\n",
    "        print('depends_on_C')\n",
    "        _normalise = [{sp.symbols('C'): cy} for cy in sp.solve(_norm - 1, C)]\n",
    "        \n",
    "    return {\"v\": v.subs(_normalise[idx]), \"β\": β.subs(_normalise[idx]), \"D\": 0}, _normalise[idx]\n"
   ]
  },
  {
   "cell_type": "code",
   "execution_count": 40,
   "metadata": {},
   "outputs": [
    {
     "data": {
      "text/plain": [
       "{'bifurcation_β': array([ 8.42866805e-02,  8.41332973e-02,  8.39799142e-02,  8.38265310e-02,\n",
       "         8.34660777e-02,  8.30403008e-02,  8.26145240e-02,  8.20761876e-02,\n",
       "         8.13825229e-02,  8.06888582e-02,  7.99743158e-02,  7.90202027e-02,\n",
       "         7.80660896e-02,  7.71119765e-02,  7.59727101e-02,  7.47684395e-02,\n",
       "         7.35641688e-02,  7.22650151e-02,  7.08236158e-02,  6.93822165e-02,\n",
       "         6.79275003e-02,  6.62645962e-02,  6.46016920e-02,  6.29387879e-02,\n",
       "         6.11293726e-02,  5.92630109e-02,  5.73966493e-02,  5.54606604e-02,\n",
       "         5.34111143e-02,  5.13615682e-02,  4.93055729e-02,  4.70951192e-02,\n",
       "         4.48846656e-02,  4.26742119e-02,  4.03679395e-02,  3.80206150e-02,\n",
       "         3.56732905e-02,  3.32858786e-02,  3.08272169e-02,  2.83685552e-02,\n",
       "         2.59081984e-02,  2.33649507e-02,  2.08217030e-02,  1.82784553e-02,\n",
       "         1.56965074e-02,  1.30963499e-02,  1.04961923e-02,  7.88630658e-03,\n",
       "         5.25753772e-03,  2.62876886e-03,  2.01981791e-17, -2.62876886e-03,\n",
       "        -5.25753772e-03, -7.88630658e-03, -1.04961923e-02, -1.30963499e-02,\n",
       "        -1.56965074e-02, -1.82784553e-02, -2.08217030e-02, -2.33649507e-02,\n",
       "        -2.59081984e-02, -2.83685552e-02, -3.08272169e-02, -3.32858786e-02,\n",
       "        -3.56732905e-02, -3.80206150e-02, -4.03679395e-02, -4.26742119e-02,\n",
       "        -4.48846656e-02, -4.70951192e-02, -4.93055729e-02, -5.13615682e-02,\n",
       "        -5.34111143e-02, -5.54606604e-02, -5.73966493e-02, -5.92630109e-02,\n",
       "        -6.11293726e-02, -6.29387879e-02, -6.46016920e-02, -6.62645962e-02,\n",
       "        -6.79275003e-02, -6.93822165e-02, -7.08236158e-02, -7.22650151e-02,\n",
       "        -7.35641688e-02, -7.47684395e-02, -7.59727101e-02, -7.71119765e-02,\n",
       "        -7.80660896e-02, -7.90202027e-02, -7.99743158e-02, -8.06888582e-02,\n",
       "        -8.13825229e-02, -8.20761876e-02, -8.26145240e-02, -8.30403008e-02,\n",
       "        -8.34660777e-02, -8.38265310e-02, -8.39799142e-02, -8.41332973e-02,\n",
       "        -8.42866805e-02]),\n",
       " 'bifurcation_v': array([0.00076348, 0.00838306, 0.01600263, 0.02362221, 0.0311755 ,\n",
       "        0.03870788, 0.04624026, 0.05370158, 0.06106486, 0.06842815,\n",
       "        0.07577145, 0.08288555, 0.08999965, 0.09711375, 0.10398614,\n",
       "        0.11077366, 0.11756119, 0.12418848, 0.13057557, 0.13696266,\n",
       "        0.14332149, 0.14923864, 0.15515578, 0.16107292, 0.16660526,\n",
       "        0.17198805, 0.17737083, 0.18252824, 0.18731807, 0.1921079 ,\n",
       "        0.19687187, 0.20101659, 0.20516131, 0.20930604, 0.21296755,\n",
       "        0.21642203, 0.21987652, 0.22306894, 0.22579557, 0.2285222 ,\n",
       "        0.23123365, 0.23320274, 0.23517183, 0.23714091, 0.23858026,\n",
       "        0.23977036, 0.24096045, 0.24188127, 0.24227942, 0.24267756,\n",
       "        0.24307571, 0.24267756, 0.24227942, 0.24188127, 0.24096045,\n",
       "        0.23977036, 0.23858026, 0.23714091, 0.23517183, 0.23320274,\n",
       "        0.23123365, 0.2285222 , 0.22579557, 0.22306894, 0.21987652,\n",
       "        0.21642203, 0.21296755, 0.20930604, 0.20516131, 0.20101659,\n",
       "        0.19687187, 0.1921079 , 0.18731807, 0.18252824, 0.17737083,\n",
       "        0.17198805, 0.16660526, 0.16107292, 0.15515578, 0.14923864,\n",
       "        0.14332149, 0.13696266, 0.13057557, 0.12418848, 0.11756119,\n",
       "        0.11077366, 0.10398614, 0.09711375, 0.08999965, 0.08288555,\n",
       "        0.07577145, 0.06842815, 0.06106486, 0.05370158, 0.04624026,\n",
       "        0.03870788, 0.0311755 , 0.02362221, 0.01600263, 0.00838306,\n",
       "        0.00076348]),\n",
       " 'stability_β': array([0.11194765, 0.11158323, 0.1112188 , 0.11085438, 0.1100739 ,\n",
       "        0.10916216, 0.10825042, 0.10711957, 0.10568634, 0.10425311,\n",
       "        0.10278146, 0.10086885, 0.09895624, 0.09704362, 0.09481873,\n",
       "        0.09248421, 0.09014968, 0.08767498, 0.08499013, 0.08230528,\n",
       "        0.07960443, 0.07665346, 0.07370249, 0.07075151, 0.06767733,\n",
       "        0.06455526, 0.06143319, 0.05828557, 0.05509628, 0.05190699,\n",
       "        0.04871944, 0.04557355, 0.04242765, 0.03928176, 0.03624684,\n",
       "        0.03325948, 0.03027211, 0.0273841 , 0.02467267, 0.02196123,\n",
       "        0.01925769, 0.01693965, 0.01462162, 0.01230358, 0.01033155,\n",
       "        0.00852231, 0.00671307, 0.0051147 , 0.00392563, 0.00273656,\n",
       "        0.00154749, 0.00108417, 0.00062085, 0.00015753, 0.        ,\n",
       "        0.        , 0.        , 0.        , 0.        , 0.        ,\n",
       "        0.        , 0.        , 0.        , 0.        , 0.        ,\n",
       "        0.        , 0.        , 0.        , 0.        , 0.        ,\n",
       "        0.        , 0.        , 0.        , 0.        , 0.        ,\n",
       "        0.        , 0.        , 0.        , 0.        , 0.        ,\n",
       "        0.        , 0.        , 0.        , 0.        , 0.        ,\n",
       "        0.        , 0.        , 0.        , 0.        , 0.        ,\n",
       "        0.        , 0.        , 0.        , 0.        , 0.        ,\n",
       "        0.        , 0.        , 0.        , 0.        , 0.        ,\n",
       "        0.        ]),\n",
       " 'stability_v': array([0.00103605, 0.01137577, 0.0217155 , 0.03205523, 0.04222492,\n",
       "        0.05234096, 0.06245701, 0.07239718, 0.08209466, 0.09179214,\n",
       "        0.10144134, 0.1105366 , 0.11963186, 0.12872712, 0.13725284,\n",
       "        0.14557862, 0.15390439, 0.16186383, 0.16927405, 0.17668427,\n",
       "        0.1840322 , 0.19040632, 0.19678043, 0.20315455, 0.20871681,\n",
       "        0.21396352, 0.21921023, 0.22400601, 0.22806638, 0.23212674,\n",
       "        0.23613859, 0.23898841, 0.24183823, 0.24468805, 0.24669892,\n",
       "        0.24835037, 0.25000181, 0.25123956, 0.25174201, 0.25224446,\n",
       "        0.25272561, 0.25216571, 0.2516058 , 0.25104589, 0.24984733,\n",
       "        0.24834826, 0.24684919, 0.24508461, 0.24280467, 0.24052472,\n",
       "        0.23824478, 0.23537522, 0.23250565, 0.22963609, 0.22649183,\n",
       "        0.22320606, 0.21992028, 0.21652653, 0.21290332, 0.20928012,\n",
       "        0.20565691, 0.20172142, 0.19777954, 0.19383766, 0.1897049 ,\n",
       "        0.18546476, 0.18122462, 0.1769016 , 0.17238514, 0.16786869,\n",
       "        0.16335223, 0.15859299, 0.1538236 , 0.14905422, 0.14414335,\n",
       "        0.13914573, 0.13414811, 0.12909385, 0.12389387, 0.11869388,\n",
       "        0.1134939 , 0.10812903, 0.1027536 , 0.09737818, 0.09191421,\n",
       "        0.08639118, 0.08086814, 0.07531418, 0.06967213, 0.06403008,\n",
       "        0.05838803, 0.05266338, 0.04693152, 0.04119967, 0.03543295,\n",
       "        0.02964096, 0.02384898, 0.01804976, 0.01222764, 0.00640551,\n",
       "        0.00058338])}"
      ]
     },
     "execution_count": 40,
     "metadata": {},
     "output_type": "execute_result"
    }
   ],
   "source": [
    "mode['fields']"
   ]
  },
  {
   "cell_type": "code",
   "execution_count": 41,
   "metadata": {},
   "outputs": [
    {
     "data": {
      "text/plain": [
       "0.18171983239793219"
      ]
     },
     "execution_count": 41,
     "metadata": {},
     "output_type": "execute_result"
    }
   ],
   "source": [
    "l2_norm([\n",
    "    (mode['mesh'], mode['fields']['bifurcation_v']),\n",
    "    (mode['mesh'], mode['fields']['bifurcation_β'])\n",
    "    ])\n",
    "\n",
    "\n"
   ]
  },
  {
   "cell_type": "code",
   "execution_count": 44,
   "metadata": {},
   "outputs": [
    {
     "data": {
      "text/plain": [
       "{'bifurcation_β': array([ 8.42866805e-02,  8.41332973e-02,  8.39799142e-02,  8.38265310e-02,\n",
       "         8.34660777e-02,  8.30403008e-02,  8.26145240e-02,  8.20761876e-02,\n",
       "         8.13825229e-02,  8.06888582e-02,  7.99743158e-02,  7.90202027e-02,\n",
       "         7.80660896e-02,  7.71119765e-02,  7.59727101e-02,  7.47684395e-02,\n",
       "         7.35641688e-02,  7.22650151e-02,  7.08236158e-02,  6.93822165e-02,\n",
       "         6.79275003e-02,  6.62645962e-02,  6.46016920e-02,  6.29387879e-02,\n",
       "         6.11293726e-02,  5.92630109e-02,  5.73966493e-02,  5.54606604e-02,\n",
       "         5.34111143e-02,  5.13615682e-02,  4.93055729e-02,  4.70951192e-02,\n",
       "         4.48846656e-02,  4.26742119e-02,  4.03679395e-02,  3.80206150e-02,\n",
       "         3.56732905e-02,  3.32858786e-02,  3.08272169e-02,  2.83685552e-02,\n",
       "         2.59081984e-02,  2.33649507e-02,  2.08217030e-02,  1.82784553e-02,\n",
       "         1.56965074e-02,  1.30963499e-02,  1.04961923e-02,  7.88630658e-03,\n",
       "         5.25753772e-03,  2.62876886e-03,  2.01981791e-17, -2.62876886e-03,\n",
       "        -5.25753772e-03, -7.88630658e-03, -1.04961923e-02, -1.30963499e-02,\n",
       "        -1.56965074e-02, -1.82784553e-02, -2.08217030e-02, -2.33649507e-02,\n",
       "        -2.59081984e-02, -2.83685552e-02, -3.08272169e-02, -3.32858786e-02,\n",
       "        -3.56732905e-02, -3.80206150e-02, -4.03679395e-02, -4.26742119e-02,\n",
       "        -4.48846656e-02, -4.70951192e-02, -4.93055729e-02, -5.13615682e-02,\n",
       "        -5.34111143e-02, -5.54606604e-02, -5.73966493e-02, -5.92630109e-02,\n",
       "        -6.11293726e-02, -6.29387879e-02, -6.46016920e-02, -6.62645962e-02,\n",
       "        -6.79275003e-02, -6.93822165e-02, -7.08236158e-02, -7.22650151e-02,\n",
       "        -7.35641688e-02, -7.47684395e-02, -7.59727101e-02, -7.71119765e-02,\n",
       "        -7.80660896e-02, -7.90202027e-02, -7.99743158e-02, -8.06888582e-02,\n",
       "        -8.13825229e-02, -8.20761876e-02, -8.26145240e-02, -8.30403008e-02,\n",
       "        -8.34660777e-02, -8.38265310e-02, -8.39799142e-02, -8.41332973e-02,\n",
       "        -8.42866805e-02]),\n",
       " 'bifurcation_v': array([0.00076348, 0.00838306, 0.01600263, 0.02362221, 0.0311755 ,\n",
       "        0.03870788, 0.04624026, 0.05370158, 0.06106486, 0.06842815,\n",
       "        0.07577145, 0.08288555, 0.08999965, 0.09711375, 0.10398614,\n",
       "        0.11077366, 0.11756119, 0.12418848, 0.13057557, 0.13696266,\n",
       "        0.14332149, 0.14923864, 0.15515578, 0.16107292, 0.16660526,\n",
       "        0.17198805, 0.17737083, 0.18252824, 0.18731807, 0.1921079 ,\n",
       "        0.19687187, 0.20101659, 0.20516131, 0.20930604, 0.21296755,\n",
       "        0.21642203, 0.21987652, 0.22306894, 0.22579557, 0.2285222 ,\n",
       "        0.23123365, 0.23320274, 0.23517183, 0.23714091, 0.23858026,\n",
       "        0.23977036, 0.24096045, 0.24188127, 0.24227942, 0.24267756,\n",
       "        0.24307571, 0.24267756, 0.24227942, 0.24188127, 0.24096045,\n",
       "        0.23977036, 0.23858026, 0.23714091, 0.23517183, 0.23320274,\n",
       "        0.23123365, 0.2285222 , 0.22579557, 0.22306894, 0.21987652,\n",
       "        0.21642203, 0.21296755, 0.20930604, 0.20516131, 0.20101659,\n",
       "        0.19687187, 0.1921079 , 0.18731807, 0.18252824, 0.17737083,\n",
       "        0.17198805, 0.16660526, 0.16107292, 0.15515578, 0.14923864,\n",
       "        0.14332149, 0.13696266, 0.13057557, 0.12418848, 0.11756119,\n",
       "        0.11077366, 0.10398614, 0.09711375, 0.08999965, 0.08288555,\n",
       "        0.07577145, 0.06842815, 0.06106486, 0.05370158, 0.04624026,\n",
       "        0.03870788, 0.0311755 , 0.02362221, 0.01600263, 0.00838306,\n",
       "        0.00076348]),\n",
       " 'stability_β': array([0.11194765, 0.11158323, 0.1112188 , 0.11085438, 0.1100739 ,\n",
       "        0.10916216, 0.10825042, 0.10711957, 0.10568634, 0.10425311,\n",
       "        0.10278146, 0.10086885, 0.09895624, 0.09704362, 0.09481873,\n",
       "        0.09248421, 0.09014968, 0.08767498, 0.08499013, 0.08230528,\n",
       "        0.07960443, 0.07665346, 0.07370249, 0.07075151, 0.06767733,\n",
       "        0.06455526, 0.06143319, 0.05828557, 0.05509628, 0.05190699,\n",
       "        0.04871944, 0.04557355, 0.04242765, 0.03928176, 0.03624684,\n",
       "        0.03325948, 0.03027211, 0.0273841 , 0.02467267, 0.02196123,\n",
       "        0.01925769, 0.01693965, 0.01462162, 0.01230358, 0.01033155,\n",
       "        0.00852231, 0.00671307, 0.0051147 , 0.00392563, 0.00273656,\n",
       "        0.00154749, 0.00108417, 0.00062085, 0.00015753, 0.        ,\n",
       "        0.        , 0.        , 0.        , 0.        , 0.        ,\n",
       "        0.        , 0.        , 0.        , 0.        , 0.        ,\n",
       "        0.        , 0.        , 0.        , 0.        , 0.        ,\n",
       "        0.        , 0.        , 0.        , 0.        , 0.        ,\n",
       "        0.        , 0.        , 0.        , 0.        , 0.        ,\n",
       "        0.        , 0.        , 0.        , 0.        , 0.        ,\n",
       "        0.        , 0.        , 0.        , 0.        , 0.        ,\n",
       "        0.        , 0.        , 0.        , 0.        , 0.        ,\n",
       "        0.        , 0.        , 0.        , 0.        , 0.        ,\n",
       "        0.        ]),\n",
       " 'stability_v': array([0.00103605, 0.01137577, 0.0217155 , 0.03205523, 0.04222492,\n",
       "        0.05234096, 0.06245701, 0.07239718, 0.08209466, 0.09179214,\n",
       "        0.10144134, 0.1105366 , 0.11963186, 0.12872712, 0.13725284,\n",
       "        0.14557862, 0.15390439, 0.16186383, 0.16927405, 0.17668427,\n",
       "        0.1840322 , 0.19040632, 0.19678043, 0.20315455, 0.20871681,\n",
       "        0.21396352, 0.21921023, 0.22400601, 0.22806638, 0.23212674,\n",
       "        0.23613859, 0.23898841, 0.24183823, 0.24468805, 0.24669892,\n",
       "        0.24835037, 0.25000181, 0.25123956, 0.25174201, 0.25224446,\n",
       "        0.25272561, 0.25216571, 0.2516058 , 0.25104589, 0.24984733,\n",
       "        0.24834826, 0.24684919, 0.24508461, 0.24280467, 0.24052472,\n",
       "        0.23824478, 0.23537522, 0.23250565, 0.22963609, 0.22649183,\n",
       "        0.22320606, 0.21992028, 0.21652653, 0.21290332, 0.20928012,\n",
       "        0.20565691, 0.20172142, 0.19777954, 0.19383766, 0.1897049 ,\n",
       "        0.18546476, 0.18122462, 0.1769016 , 0.17238514, 0.16786869,\n",
       "        0.16335223, 0.15859299, 0.1538236 , 0.14905422, 0.14414335,\n",
       "        0.13914573, 0.13414811, 0.12909385, 0.12389387, 0.11869388,\n",
       "        0.1134939 , 0.10812903, 0.1027536 , 0.09737818, 0.09191421,\n",
       "        0.08639118, 0.08086814, 0.07531418, 0.06967213, 0.06403008,\n",
       "        0.05838803, 0.05266338, 0.04693152, 0.04119967, 0.03543295,\n",
       "        0.02964096, 0.02384898, 0.01804976, 0.01222764, 0.00640551,\n",
       "        0.00058338])}"
      ]
     },
     "execution_count": 44,
     "metadata": {},
     "output_type": "execute_result"
    }
   ],
   "source": [
    "mode['fields']"
   ]
  },
  {
   "cell_type": "code",
   "execution_count": 45,
   "metadata": {},
   "outputs": [
    {
     "data": {
      "text/plain": [
       "0.18178827993811614"
      ]
     },
     "execution_count": 45,
     "metadata": {},
     "output_type": "execute_result"
    }
   ],
   "source": [
    "l2_norm([\n",
    "    (mode['mesh'], mode['fields']['stability_v']),\n",
    "    (mode['mesh'], mode['fields']['stability_β'])\n",
    "    ])\n",
    "\n",
    "\n"
   ]
  },
  {
   "cell_type": "code",
   "execution_count": 47,
   "metadata": {},
   "outputs": [
    {
     "name": "stdout",
     "output_type": "stream",
     "text": [
      "case 2\n",
      "[{A, x}, {A, x}]\n",
      "sqrt(A**2/2 + 32*A**2/pi**2) True False\n",
      "depends_on_A\n",
      "case 2\n",
      "sqrt(0.125*sin(1.0*pi**1.0)*cos(1.0*pi**1.0)/pi**0.333333333333333 + 0.125*pi**0.666666666666667*sin(1.0*pi**1.0)**2 + 0.5*sin(1.0*pi**1.0)/pi**0.333333333333333 + 0.125*pi**0.666666666666667*cos(1.0*pi**1.0)**2 + 0.25*pi**0.666666666666667)*sqrt(C**2)\n",
      "depends_on_C\n"
     ]
    },
    {
     "data": {
      "text/plain": [
       "[<matplotlib.axis.XTick at 0x13c15f710>,\n",
       " <matplotlib.axis.XTick at 0x16739aad0>]"
      ]
     },
     "execution_count": 47,
     "metadata": {},
     "output_type": "execute_result"
    },
    {
     "data": {
      "image/png": "[encoded data removed]",
      "text/plain": [
       "<Figure size 1000x500 with 2 Axes>"
      ]
     },
     "metadata": {},
     "output_type": "display_data"
    }
   ],
   "source": [
    "_fig, _axes = pp.plot_fields_for_time_step(mode)\n",
    "_fig.suptitle(f\"Rayleigh eigenproblem with parameters {parameters}\")\n",
    "\n",
    "coeff_v = l2_norm([\n",
    "    (mode['mesh'], mode['fields']['bifurcation_v']),\n",
    "    (mode['mesh'], mode['fields']['bifurcation_β'])\n",
    "    ])\n",
    "\n",
    "coeff_k = l2_norm([\n",
    "    (mode['mesh'], mode['fields']['stability_v']),\n",
    "    (mode['mesh'], mode['fields']['stability_β'])\n",
    "    ])\n",
    "\n",
    "eigenspace_v, _normalisation_v = eig.solve_eigenspace_vector(parameters, idx=1)\n",
    "eigenspace_k, _normalisation_k = eig.solve_eigenspace_cone(parameters)\n",
    "\n",
    "v, β = eigenspace_v[\"v\"], eigenspace_v[\"β\"]\n",
    "\n",
    "x_values = np.linspace(0, 1, 100)\n",
    "v_function = sp.lambdify('x', v)\n",
    "β_function = sp.lambdify('x', β)\n",
    "\n",
    "v_values = [v_function(x) for x in x_values]\n",
    "β_values = [β_function(x) for x in x_values]\n",
    "\n",
    "_axes[0].plot(x_values, np.array(β_values)*coeff_v, label=r'$\\beta(x)$', c='k')\n",
    "_axes[0].plot(x_values, np.array(v_values)*coeff_v, label=r'$v(x)$', c='k')\n",
    "\n",
    "v, β = eigenspace_k[\"v\"], eigenspace_k[\"β\"]\n",
    "D = eigenspace_k[\"D\"]\n",
    "x_values = np.linspace(0, 1, 100)\n",
    "v_function = sp.lambdify('x', v)\n",
    "β_function = sp.lambdify('x', β)\n",
    "v_values = [v_function(x) for x in x_values]\n",
    "β_values = [β_function(x) for x in x_values]\n",
    "\n",
    "_axes[1].plot(x_values, np.array(β_values)*coeff_k, label=r'$\\beta(x)$', c='k')\n",
    "_axes[1].plot(x_values, np.array(v_values)*coeff_k, label=r'$v(x)$', c='k')\n",
    "_axes[1].set_xticks([0, float(sp.N(D))], [0, \"$D$\"])\n",
    "\n"
   ]
  },
  {
   "cell_type": "code",
   "execution_count": 56,
   "metadata": {},
   "outputs": [
    {
     "data": {
      "text/plain": [
       "1.0"
      ]
     },
     "execution_count": 56,
     "metadata": {},
     "output_type": "execute_result"
    }
   ],
   "source": [
    "l2_norm([\n",
    "    (x_values, np.array(v_values)),\n",
    "    (x_values, np.array(β_values))\n",
    "    ])"
   ]
  },
  {
   "cell_type": "code",
   "execution_count": 94,
   "metadata": {},
   "outputs": [
    {
     "name": "stderr",
     "output_type": "stream",
     "text": [
      "/var/folders/ht/z8sb7wsd1bg0qpmyyfyq2rcm0000gr/T/ipykernel_50626/1247390959.py:17: UserWarning: The following kwargs were not used by contour: 'label'\n",
      "  plt.contour(a, bc_squared, result, levels=[1], colors='white', linestyles='dashed', label=r'$\\mathsf{R}^*= 1$')\n"
     ]
    },
    {
     "data": {
      "image/png": "[encoded data removed]",
      "text/plain": [
       "<Figure size 800x600 with 2 Axes>"
      ]
     },
     "metadata": {},
     "output_type": "display_data"
    }
   ],
   "source": [
    "\n",
    "# Define the parameter ranges\n",
    "bc_squared_values = np.linspace(0, 10, 100)\n",
    "a_values = np.linspace(0, 10, 100)\n",
    "\n",
    "# Create a meshgrid for the parameters\n",
    "bc_squared, a = np.meshgrid(bc_squared_values, a_values)\n",
    "# a, bc_squared = np.meshgrid(a_values, bc_squared_values)\n",
    "\n",
    "# Compute the function value for each combination of parameters\n",
    "result = np.minimum(bc_squared, np.pi**2 * a)\n",
    "\n",
    "# Create a contour plot\n",
    "plt.figure(figsize=(8, 6))\n",
    "contour = plt.contourf(a, bc_squared, result, cmap='viridis', levels=10)\n",
    "plt.colorbar(contour, label='Minimum Value')\n",
    "plt.plot(a_values, np.pi**2 * a_values, color='red', label=r'$bc^2 = \\pi^2 a$')\n",
    "plt.contour(a, bc_squared, result, levels=[1], colors='white', linestyles='dashed', label=r'$\\mathsf{R}^*= 1$')\n",
    "\n",
    "plt.ylim([0, 10])\n",
    "plt.xlim([0, 4])\n",
    "\n",
    "plt.xlabel(r'$bc^2$')\n",
    "plt.ylabel(r'$\\pi^2 a$')\n",
    "\n",
    "plt.title(r'$\\mathsf{R}^*= \\min(bc^2, \\pi^2 a)$ in vector space')\n",
    "\n",
    "plt.legend()\n",
    "# Show the plot\n",
    "plt.show()"
   ]
  },
  {
   "cell_type": "code",
   "execution_count": 95,
   "metadata": {},
   "outputs": [
    {
     "data": {
      "text/plain": [
       "array([[ 0.       ,  0.1010101,  0.2020202, ...,  9.7979798,  9.8989899,\n",
       "        10.       ],\n",
       "       [ 0.       ,  0.1010101,  0.2020202, ...,  9.7979798,  9.8989899,\n",
       "        10.       ],\n",
       "       [ 0.       ,  0.1010101,  0.2020202, ...,  9.7979798,  9.8989899,\n",
       "        10.       ],\n",
       "       ...,\n",
       "       [ 0.       ,  0.1010101,  0.2020202, ...,  9.7979798,  9.8989899,\n",
       "        10.       ],\n",
       "       [ 0.       ,  0.1010101,  0.2020202, ...,  9.7979798,  9.8989899,\n",
       "        10.       ],\n",
       "       [ 0.       ,  0.1010101,  0.2020202, ...,  9.7979798,  9.8989899,\n",
       "        10.       ]])"
      ]
     },
     "execution_count": 95,
     "metadata": {},
     "output_type": "execute_result"
    }
   ],
   "source": [
    "bc_squared"
   ]
  },
  {
   "cell_type": "code",
   "execution_count": null,
   "metadata": {},
   "outputs": [],
   "source": [
    "\n",
    "# Define the parameter ranges\n",
    "bc_squared_values = np.linspace(0, 10, 100)\n",
    "a_values = np.linspace(0, 10, 100)\n",
    "\n",
    "# Create a meshgrid for the parameters\n",
    "bc_squared, a = np.meshgrid(bc_squared_values, a_values)\n",
    "# a, bc_squared = np.meshgrid(a_values, bc_squared_values)\n",
    "\n",
    "# Compute the function value for each combination of parameters\n",
    "result = np.minimum(bc_squared, np.pi**2 * a)\n",
    "\n",
    "# Create a contour plot\n",
    "plt.figure(figsize=(8, 6))\n",
    "contour = plt.contourf(a, bc_squared, result, cmap='viridis', levels=10)\n",
    "plt.colorbar(contour, label='Minimum Value')\n",
    "plt.plot(a_values, np.pi**2 * a_values, color='red', label=r'$bc^2 = \\pi^2 a$')\n",
    "plt.contour(a, bc_squared, result, levels=[1], colors='white', linestyles='dashed', label=r'$\\mathsf{R}^*= 1$')\n",
    "\n",
    "plt.ylim([0, 10])\n",
    "plt.xlim([0, 4])\n",
    "\n",
    "plt.xlabel(r'$bc^2$')\n",
    "plt.ylabel(r'$\\pi^2 a$')\n",
    "\n",
    "plt.title(r'$\\mathsf{R}^*= \\min(bc^2, \\pi^2 a)$ in vector space')\n",
    "\n",
    "plt.legend()\n",
    "# Show the plot\n",
    "plt.show()"
   ]
  },
  {
   "cell_type": "markdown",
   "metadata": {},
   "source": [
    "## Phase space computations\n"
   ]
  },
  {
   "cell_type": "markdown",
   "metadata": {},
   "source": []
  },
  {
   "cell_type": "code",
   "execution_count": 10,
   "metadata": {},
   "outputs": [
    {
     "name": "stdout",
     "output_type": "stream",
     "text": [
      "\u001b[1m\u001b[36m1886c43ceb7f7b33293e7718baadb80f\u001b[m\u001b[m \u001b[1m\u001b[36m77a89ece3426e790a56e6940e78cf1a7\u001b[m\u001b[m\n",
      "\u001b[1m\u001b[36m26bbaa4b0607bbe85afb0a9daf9e6b4d\u001b[m\u001b[m \u001b[1m\u001b[36m8fe224a5e96c0d9085c9cba0471be443\u001b[m\u001b[m\n",
      "\u001b[1m\u001b[36m2b8cc196b9e91bd99b8bd6d1cd601a41\u001b[m\u001b[m \u001b[1m\u001b[36ma34f942db5e46624e9ea3eefa3e0e85c\u001b[m\u001b[m\n",
      "\u001b[1m\u001b[36m35dc528686badfde6e535184026e2c38\u001b[m\u001b[m \u001b[1m\u001b[36mac534c4c1dbbe6a1207c15d186d48888\u001b[m\u001b[m\n",
      "\u001b[1m\u001b[36m3f6ee8d6ea68cadc4693189cd016895a\u001b[m\u001b[m \u001b[1m\u001b[36mc0dbb31f479bf79ff9eca6507f6df6d5\u001b[m\u001b[m\n",
      "\u001b[1m\u001b[36m5799bad12159810af586ca258331254f\u001b[m\u001b[m \u001b[1m\u001b[36mdb96dbfd262ff2e5a5980c74dc9ca846\u001b[m\u001b[m\n",
      "\u001b[1m\u001b[36m62a2522ac6885818c04a6a78eae11bfa\u001b[m\u001b[m \u001b[1m\u001b[36mdbf4f01eb6ee4d83dfc6aa2f5783c662\u001b[m\u001b[m\n",
      "\u001b[1m\u001b[36m64fcd459f19718fd498c98901bedd243\u001b[m\u001b[m \u001b[1m\u001b[36me9276db499c49b725dbe8cb8ac8c9521\u001b[m\u001b[m\n",
      "\u001b[1m\u001b[36m70df91fae5b5c6004f37eabb3a8916a5\u001b[m\u001b[m\n"
     ]
    }
   ],
   "source": [
    "import os\n",
    "cwd = os.getcwd()\n",
    "path_components = cwd.split(os.path.sep)\n",
    "path_components = path_components[0:-2]\n",
    "dirroot =  '/' + os.path.join(*path_components, 'test', 'output', 'rayleigh-benchmark', 'MPI-1')\n",
    "\n",
    "!ls $dirroot\n"
   ]
  },
  {
   "cell_type": "code",
   "execution_count": 39,
   "metadata": {},
   "outputs": [
    {
     "name": "stderr",
     "output_type": "stream",
     "text": [
      "/var/folders/ht/z8sb7wsd1bg0qpmyyfyq2rcm0000gr/T/ipykernel_71911/1728680788.py:16: RuntimeWarning: divide by zero encountered in divide\n",
      "  D_values = (np.pi**2 * a / bcsq)**(1/3)\n",
      "/var/folders/ht/z8sb7wsd1bg0qpmyyfyq2rcm0000gr/T/ipykernel_71911/1728680788.py:16: RuntimeWarning: invalid value encountered in divide\n",
      "  D_values = (np.pi**2 * a / bcsq)**(1/3)\n"
     ]
    },
    {
     "data": {
      "image/png": "[encoded data removed]",
      "text/plain": [
       "<Figure size 640x480 with 1 Axes>"
      ]
     },
     "metadata": {},
     "output_type": "display_data"
    }
   ],
   "source": [
    "import os\n",
    "import yaml\n",
    "import matplotlib.pyplot as plt\n",
    "\n",
    "def load_parameters(directory):\n",
    "    parameters_file = os.path.join(directory, 'parameters.yaml')\n",
    "    if os.path.exists(parameters_file):\n",
    "        with open(parameters_file, 'r') as f:\n",
    "            parameters = yaml.safe_load(f)\n",
    "        return parameters\n",
    "    else:\n",
    "        return None\n",
    "    \n",
    "def compute_contour(a_values, bc_square_values):\n",
    "    a, bcsq = np.meshgrid(a_values, bc_square_values)\n",
    "    D_values = (np.pi**2 * a / bcsq)**(1/3)\n",
    "    return a, bcsq, D_values\n",
    "\n",
    "def plot_phase_space(rootdir):\n",
    "    successful_points = []\n",
    "    unsuccessful_points = []\n",
    "    points_count = {}\n",
    "\n",
    "    for subdir, _, _ in os.walk(rootdir):\n",
    "        parameters = load_parameters(subdir)\n",
    "        if parameters is not None:\n",
    "            a = parameters.get('model', {}).get('a')\n",
    "            b = parameters.get('model', {}).get('b')\n",
    "            c = parameters.get('model', {}).get('c')\n",
    "\n",
    "            # Check if the computation is successful based on the existence of mode_shapes_data.npz\n",
    "            success_file = os.path.join(subdir, 'mode_shapes_data.npz')\n",
    "            datapoint = (np.pi**2 * a, b*c**2)\n",
    "            \n",
    "            if os.path.exists(success_file):\n",
    "                successful_points.append(datapoint)\n",
    "            else:\n",
    "                unsuccessful_points.append(datapoint)\n",
    "\n",
    "            points_count[datapoint] = points_count.get(datapoint, 0) + 1\n",
    "\n",
    "    for datapoint, count in points_count.items():\n",
    "        # plt.scatter(*datapoint, label=f'Multiplicity: {count}', marker='')\n",
    "        # plt.scatter(*datapoint, marker='')\n",
    "        plt.annotate(f'\\#{count}', datapoint, textcoords=\"offset points\", xytext=(0, -15), ha='center')\n",
    "\n",
    "    # Create the plot\n",
    "    plt.scatter(*zip(*unsuccessful_points), label='Unsuccessful', marker='x')\n",
    "    plt.scatter(*zip(*successful_points), label='Successful', marker='.', s=200)\n",
    "    plt.xlabel('$\\pi^2 a$')\n",
    "    plt.ylabel('$bc^2$')\n",
    "    plt.legend()\n",
    "    a_values = np.linspace(0, 100, 100)\n",
    "    bc_sq_values = np.linspace(0, 100, 100)\n",
    "    a, bc_sq, D_values = compute_contour(a_values, bc_sq_values)\n",
    "    plt.contour(bc_sq, a , D_values, levels=5, colors='black', linestyles='dashed')\n",
    "\n",
    "    plt.show()\n",
    "\n",
    "# Example usage\n",
    "plot_phase_space(dirroot)\n"
   ]
  },
  {
   "cell_type": "code",
   "execution_count": 20,
   "metadata": {},
   "outputs": [],
   "source": [
    "successful_points = []\n",
    "unsuccessful_points = []\n",
    "\n",
    "for subdir, _, _ in os.walk(dirroot):\n",
    "    parameters = load_parameters(subdir)\n",
    "    if parameters is not None:\n",
    "        a = parameters.get('model', {}).get('a')\n",
    "        b = parameters.get('model', {}).get('b')\n",
    "        c = parameters.get('model', {}).get('c')\n",
    "        # Check if the computation is successful based on the existence of mode_shapes_data.npz\n",
    "        success_file = os.path.join(subdir, 'mode_shapes_data.npz')\n",
    "        if os.path.exists(success_file):\n",
    "            successful_points.append((a, b*c**2))\n",
    "        else:\n",
    "            unsuccessful_points.append((a, b*c**2))\n"
   ]
  },
  {
   "cell_type": "code",
   "execution_count": 16,
   "metadata": {},
   "outputs": [
    {
     "data": {
      "text/plain": [
       "'/Users/kumiori3/Documents/WIP/Nature/mec647/test/output/rayleigh-benchmark/MPI-1'"
      ]
     },
     "execution_count": 16,
     "metadata": {},
     "output_type": "execute_result"
    }
   ],
   "source": [
    "dirroot"
   ]
  },
  {
   "cell_type": "code",
   "execution_count": 17,
   "metadata": {},
   "outputs": [
    {
     "ename": "NameError",
     "evalue": "name 'eig' is not defined",
     "output_type": "error",
     "traceback": [
      "\u001b[0;31m---------------------------------------------------------------------------\u001b[0m",
      "\u001b[0;31mNameError\u001b[0m                                 Traceback (most recent call last)",
      "Cell \u001b[0;32mIn[17], line 2\u001b[0m\n\u001b[1;32m      1\u001b[0m num_points \u001b[39m=\u001b[39m \u001b[39m100\u001b[39m\n\u001b[0;32m----> 2\u001b[0m points \u001b[39m=\u001b[39m [eig\u001b[39m.\u001b[39;49mbook_of_the_numbers() \u001b[39mfor\u001b[39;49;00m _ \u001b[39min\u001b[39;49;00m \u001b[39mrange\u001b[39;49m(num_points)]\n",
      "Cell \u001b[0;32mIn[17], line 2\u001b[0m, in \u001b[0;36m<listcomp>\u001b[0;34m(.0)\u001b[0m\n\u001b[1;32m      1\u001b[0m num_points \u001b[39m=\u001b[39m \u001b[39m100\u001b[39m\n\u001b[0;32m----> 2\u001b[0m points \u001b[39m=\u001b[39m [eig\u001b[39m.\u001b[39mbook_of_the_numbers() \u001b[39mfor\u001b[39;00m _ \u001b[39min\u001b[39;00m \u001b[39mrange\u001b[39m(num_points)]\n",
      "\u001b[0;31mNameError\u001b[0m: name 'eig' is not defined"
     ]
    }
   ],
   "source": [
    "num_points = 100\n",
    "points = [eig.book_of_the_numbers() for _ in range(num_points)]\n"
   ]
  },
  {
   "cell_type": "code",
   "execution_count": null,
   "metadata": {},
   "outputs": [],
   "source": []
  }
 ],
 "metadata": {
  "kernelspec": {
   "display_name": "Python 3",
   "language": "python",
   "name": "python3"
  },
  "language_info": {
   "codemirror_mode": {
    "name": "ipython",
    "version": 3
   },
   "file_extension": ".py",
   "mimetype": "text/x-python",
   "name": "python",
   "nbconvert_exporter": "python",
   "pygments_lexer": "ipython3",
   "version": "3.11.6"
  },
  "orig_nbformat": 4
 },
 "nbformat": 4,
 "nbformat_minor": 2
}
