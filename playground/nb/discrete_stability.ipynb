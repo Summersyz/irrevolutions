{
  "cells": [
    {
      "cell_type": "markdown",
      "metadata": {
        "id": "view-in-github",
        "colab_type": "text"
      },
      "source": [
        "<a href=\"https://colab.research.google.com/github/kumiori/mec647/blob/andres-conerecipe/playground/nb/discrete_stability.ipynb\" target=\"_parent\"><img src=\"https://colab.research.google.com/assets/colab-badge.svg\" alt=\"Open In Colab\"/></a>"
      ]
    },
    {
      "cell_type": "code",
      "execution_count": 26,
      "metadata": {
        "id": "0fnr9Vinc8H_"
      },
      "outputs": [],
      "source": [
        "import sympy as sp\n",
        "import numpy as np\n",
        "import matplotlib.pyplot as plt\n",
        "import json\n",
        "import pandas as pd\n",
        "import os\n",
        "\n",
        "import yaml\n",
        "import hashlib\n",
        "\n",
        "def load_data(rootdir):\n",
        "\n",
        "\t# with open(rootdir + '/parameters.pkl', 'r') as f:\n",
        "\t# \tparams = json.load(f)\n",
        "\n",
        "\twith open(rootdir + '/parameters.yaml') as f:\n",
        "\t\tparams = yaml.load(f, Loader=yaml.FullLoader)\n",
        "\n",
        "\twith open(rootdir + '/time_data.json', 'r') as f:\n",
        "\t\tdata = json.load(f)\n",
        "\t\tdataf = pd.DataFrame(data).sort_values('load')\n",
        "\n",
        "\tif os.path.isfile(rootdir + '/signature.md5'):\n",
        "#         print('sig file found')\n",
        "\t\twith open(rootdir + '/signature.md5', 'r') as f:\n",
        "\t\t\tsignature = f.read()\n",
        "\telse:\n",
        "\t\tprint('no sig file found')\n",
        "\t\tsignature = hashlib.md5(str(params).encode('utf-8')).hexdigest()\n",
        "\n",
        "\treturn params, dataf, signature "
      ]
    },
    {
      "cell_type": "code",
      "execution_count": 17,
      "metadata": {
        "id": "ElWqa5T7mXGJ",
        "outputId": "19ec9613-8096-4f45-aaec-1d3ea6dbb71e",
        "colab": {
          "base_uri": "https://localhost:8080/"
        }
      },
      "outputs": [
        {
          "output_type": "stream",
          "name": "stdout",
          "text": [
            "Cloning into 'mec647'...\n",
            "remote: Enumerating objects: 2089, done.\u001b[K\n",
            "remote: Counting objects: 100% (822/822), done.\u001b[K\n",
            "remote: Compressing objects: 100% (324/324), done.\u001b[K\n",
            "remote: Total 2089 (delta 511), reused 759 (delta 464), pack-reused 1267\u001b[K\n",
            "Receiving objects: 100% (2089/2089), 95.45 MiB | 25.85 MiB/s, done.\n",
            "Resolving deltas: 100% (1142/1142), done.\n"
          ]
        }
      ],
      "source": [
        "\n",
        "branch_name = 'main'\n",
        "branch_name = 'andres-conerecipe'\n",
        "\n",
        "!rm -rf mec647\n",
        "try:\n",
        "  !git clone -b {branch_name} https://github.com/kumiori/mec647.git\n",
        "#   sys.path.append('mec647/')\n",
        "\n",
        "except Exception as e:\n",
        "  print('Something went wrong', e)\n",
        "  !rm -rf mec647\n",
        "  !git clone https://github.com/kumiori/mec647.git\n",
        "\n"
      ]
    },
    {
      "cell_type": "code",
      "execution_count": 18,
      "metadata": {
        "id": "YN4LaYRRmXGJ"
      },
      "outputs": [],
      "source": [
        "## Simple Analytic \n",
        "α, α1, α2, e1, e2 = sp.symbols('α α1 α2 e1 e2')\n",
        "u1, u2 = sp.symbols('u1 u2')\n",
        "K1, K2 = sp.symbols('K1 K2', positive=True)\n",
        "s1, s2 = sp.symbols('s1 s2', positive=True)\n",
        "μ, N = sp.symbols('μ N', positive=True)\n",
        "w1 = sp.symbols('w1', positive=True)\n",
        "t = sp.Symbol('t', positive=True)\n",
        "k = sp.Symbol('k', positive=True)\n",
        "\n",
        "# _N = 2\n",
        "\n",
        "K = lambda α: (1-α)/(1+(k-1)*α)\n",
        "s = lambda α: 1/K(α)\n",
        "\n",
        "U = 1/2*μ*(K1*u1**2 + K2*(t-u1)**2) * N\n",
        "\n",
        "S = w1*(α1 + α2) / N\n",
        "\n",
        "sol_u = sp.solve(U.diff(u1), u1)\n",
        "\n"
      ]
    },
    {
      "cell_type": "code",
      "source": [
        "!ls mec647/practice/output"
      ],
      "metadata": {
        "id": "ugxO2Esomftj",
        "outputId": "7f3e2508-06d9-422d-88fc-8377e8ea09bc",
        "colab": {
          "base_uri": "https://localhost:8080/"
        }
      },
      "execution_count": 19,
      "outputs": [
        {
          "output_type": "stream",
          "name": "stdout",
          "text": [
            "discrete-atk-N2\n"
          ]
        }
      ]
    },
    {
      "cell_type": "markdown",
      "metadata": {
        "id": "yeaU_CFemXGJ"
      },
      "source": [
        "### Example: material parameters"
      ]
    },
    {
      "cell_type": "code",
      "execution_count": 27,
      "metadata": {
        "id": "PJQse550mXGK",
        "outputId": "27aa67b5-b486-4be4-945e-9c4c83597dda",
        "colab": {
          "base_uri": "https://localhost:8080/"
        }
      },
      "outputs": [
        {
          "output_type": "execute_result",
          "data": {
            "text/plain": [
              "{k: 3, w1: 1, N: 2, μ: 1}"
            ]
          },
          "metadata": {},
          "execution_count": 27
        }
      ],
      "source": [
        "_params = {\n",
        "    'N': 2,\n",
        "    'k': 3,\n",
        "    'k_res': 0.0001,\n",
        "    'model_dimension': 1,\n",
        "    'model_type': '1D-discrete',\n",
        "    'mu': 1,\n",
        "    'w1': 1}\n",
        "\n",
        "\n",
        "experiment = 'mec647/practice/output/discrete-atk-N2'\n",
        "params, data, signature = load_data(experiment)\n",
        "model_parameters = params.get(\"model\")\n",
        "\n",
        "_mu, _w1, _k, _N = model_parameters.get(\"mu\"), model_parameters.get(\"w1\"), model_parameters.get(\"k\"), model_parameters[\"N\"]\n",
        "\n",
        "# _mu, _w1, _k, _N = _params.get(\"mu\"), _params.get(\"w1\"), _params.get(\"k\"), _params[\"N\"]\n",
        "\n",
        "matpar = {k: _k, w1: _w1, N: _N, μ: _mu}\n",
        "matpar"
      ]
    },
    {
      "cell_type": "code",
      "execution_count": 28,
      "metadata": {
        "id": "BupsKhASmXGK",
        "outputId": "90433a1b-fd3c-4053-f58a-cd12be8797f9",
        "colab": {
          "base_uri": "https://localhost:8080/",
          "height": 56
        }
      },
      "outputs": [
        {
          "output_type": "execute_result",
          "data": {
            "text/plain": [
              "0.5*K1*K2*N*t**2*μ/(K1 + K2)"
            ],
            "text/latex": "$\\displaystyle \\frac{0.5 K_{1} K_{2} N t^{2} μ}{K_{1} + K_{2}}$"
          },
          "metadata": {},
          "execution_count": 28
        }
      ],
      "source": [
        "E=U.subs(u1, sol_u[0]).simplify()\n",
        "E"
      ]
    },
    {
      "cell_type": "markdown",
      "metadata": {
        "id": "ynzNFJ75mXGK"
      },
      "source": [
        "## Homogeneous response\n"
      ]
    },
    {
      "cell_type": "code",
      "execution_count": 29,
      "metadata": {
        "id": "Uxzd-uyzmXGK",
        "outputId": "2e49b53d-617d-4064-8d8d-b7873b2bc57c",
        "colab": {
          "base_uri": "https://localhost:8080/",
          "height": 58
        }
      },
      "outputs": [
        {
          "output_type": "execute_result",
          "data": {
            "text/plain": [
              "0.25*N*t**2*μ*(1 - α)/(α*(k - 1) + 1)"
            ],
            "text/latex": "$\\displaystyle \\frac{0.25 N t^{2} μ \\left(1 - α\\right)}{α \\left(k - 1\\right) + 1}$"
          },
          "metadata": {},
          "execution_count": 29
        }
      ],
      "source": [
        "\n",
        "_E = E.subs({K1: 1/s(α), K2: 1/s(α)})\n",
        "_E"
      ]
    },
    {
      "cell_type": "code",
      "execution_count": 30,
      "metadata": {
        "id": "_Ts5UCAHmXGK",
        "outputId": "7038aecb-e3b1-42dd-f545-644fd5e9b7ba",
        "colab": {
          "base_uri": "https://localhost:8080/",
          "height": 58
        }
      },
      "outputs": [
        {
          "output_type": "execute_result",
          "data": {
            "text/plain": [
              "0.25*N*t**2*μ*(1 - α)/(α*(k - 1) + 1) + 2*w1*α/N"
            ],
            "text/latex": "$\\displaystyle \\frac{0.25 N t^{2} μ \\left(1 - α\\right)}{α \\left(k - 1\\right) + 1} + \\frac{2 w_{1} α}{N}$"
          },
          "metadata": {},
          "execution_count": 30
        }
      ],
      "source": [
        "F = (E+S)\n",
        "F = (E+S).subs({K1: 1/s(α), K2: 1/s(α), α1: α, α2: α})\n",
        "\n",
        "F"
      ]
    },
    {
      "cell_type": "markdown",
      "metadata": {
        "id": "_RPJPeiamXGL"
      },
      "source": [
        "### Critical damage load"
      ]
    },
    {
      "cell_type": "code",
      "execution_count": 31,
      "metadata": {
        "id": "Af3R_x1jmXGL",
        "outputId": "55b1e35b-8bcd-4c1f-cd84-3ba6fa6a6a1a",
        "colab": {
          "base_uri": "https://localhost:8080/",
          "height": 61
        }
      },
      "outputs": [
        {
          "output_type": "execute_result",
          "data": {
            "text/plain": [
              "-0.25*N*k*t**2*μ/(k*α - α + 1)**2 + 2*w1/N"
            ],
            "text/latex": "$\\displaystyle - \\frac{0.25 N k t^{2} μ}{\\left(k α - α + 1\\right)^{2}} + \\frac{2 w_{1}}{N}$"
          },
          "metadata": {},
          "execution_count": 31
        }
      ],
      "source": [
        "Fa = F.diff(α).simplify()\n",
        "Fa"
      ]
    },
    {
      "cell_type": "code",
      "execution_count": 32,
      "metadata": {
        "id": "ffgo1EYamXGL",
        "outputId": "cdf053c8-eb5d-47bf-fbb0-360ada919ebc",
        "colab": {
          "base_uri": "https://localhost:8080/",
          "height": 51
        }
      },
      "outputs": [
        {
          "output_type": "execute_result",
          "data": {
            "text/plain": [
              "-0.25*N*k*t**2*μ + 2*w1/N"
            ],
            "text/latex": "$\\displaystyle - 0.25 N k t^{2} μ + \\frac{2 w_{1}}{N}$"
          },
          "metadata": {},
          "execution_count": 32
        }
      ],
      "source": [
        "Fa.subs({α: 0})"
      ]
    },
    {
      "cell_type": "code",
      "execution_count": 33,
      "metadata": {
        "id": "ZmJ-56yEmXGL",
        "outputId": "29107ae9-7473-4aea-c20a-5b850d8dc7e7",
        "colab": {
          "base_uri": "https://localhost:8080/",
          "height": 61
        }
      },
      "outputs": [
        {
          "output_type": "execute_result",
          "data": {
            "text/plain": [
              "2.82842712474619*sqrt(w1)/(N*sqrt(k)*sqrt(μ))"
            ],
            "text/latex": "$\\displaystyle \\frac{2.82842712474619 \\sqrt{w_{1}}}{N \\sqrt{k} \\sqrt{μ}}$"
          },
          "metadata": {},
          "execution_count": 33
        }
      ],
      "source": [
        "sp.solve(Fa, t)[1].subs({α: 0})"
      ]
    },
    {
      "cell_type": "code",
      "execution_count": 34,
      "metadata": {
        "id": "BTXnxuuxmXGL",
        "outputId": "fbd9be68-2858-4f9c-c583-9351b2e6ffb5",
        "colab": {
          "base_uri": "https://localhost:8080/"
        }
      },
      "outputs": [
        {
          "output_type": "execute_result",
          "data": {
            "text/plain": [
              "4.5"
            ]
          },
          "metadata": {},
          "execution_count": 34
        }
      ],
      "source": [
        "_F = sp.lambdify((α, t), F.subs(matpar), 'numpy')\n",
        "_F(0, 3)"
      ]
    },
    {
      "cell_type": "code",
      "execution_count": 35,
      "metadata": {
        "id": "LlRq60zomXGL",
        "outputId": "78d77c60-71d4-4576-e878-0cef864034b7",
        "colab": {
          "base_uri": "https://localhost:8080/",
          "height": 61
        }
      },
      "outputs": [
        {
          "output_type": "execute_result",
          "data": {
            "text/plain": [
              "2.82842712474619*sqrt(w1)/(N*sqrt(k)*sqrt(μ))"
            ],
            "text/latex": "$\\displaystyle \\frac{2.82842712474619 \\sqrt{w_{1}}}{N \\sqrt{k} \\sqrt{μ}}$"
          },
          "metadata": {},
          "execution_count": 35
        }
      ],
      "source": [
        "\n",
        "tc = sp.solve(Fa, t)[1].subs({α: 0})\n",
        "tc"
      ]
    },
    {
      "cell_type": "code",
      "execution_count": 36,
      "metadata": {
        "id": "UEnYuh59mXGL",
        "outputId": "7016c317-3539-4263-cea2-e9a4731e53bb",
        "colab": {
          "base_uri": "https://localhost:8080/",
          "height": 37
        }
      },
      "outputs": [
        {
          "output_type": "execute_result",
          "data": {
            "text/plain": [
              "0.816496580927726"
            ],
            "text/latex": "$\\displaystyle 0.816496580927726$"
          },
          "metadata": {},
          "execution_count": 36
        }
      ],
      "source": [
        "_tc = sp.N(tc.subs(matpar))\n",
        "_tc"
      ]
    },
    {
      "cell_type": "code",
      "execution_count": 38,
      "metadata": {
        "id": "nFnbEv9cmXGL",
        "outputId": "276cc904-fdd1-47cd-cfa8-7984ea3399e9",
        "colab": {
          "base_uri": "https://localhost:8080/",
          "height": 447
        }
      },
      "outputs": [
        {
          "output_type": "execute_result",
          "data": {
            "text/plain": [
              "[<matplotlib.lines.Line2D at 0x7f3e9a2542b0>]"
            ]
          },
          "metadata": {},
          "execution_count": 38
        },
        {
          "output_type": "display_data",
          "data": {
            "text/plain": [
              "<Figure size 640x480 with 1 Axes>"
            ],
            "image/png": "[encoded data removed]"
          },
          "metadata": {}
        }
      ],
      "source": [
        "plt.plot(np.linspace(0., 2.), _F(0, np.linspace(0., 2.)))\n",
        "plt.axvline(_tc, c='k')\n",
        "plt.plot(data.load, _F(0, data.load.values))\n",
        "plt.plot(data.load, data.elastic_energy, ls='dotted', lw=4)\n"
      ]
    },
    {
      "cell_type": "code",
      "execution_count": null,
      "metadata": {
        "id": "ekD2F6tMmXGM"
      },
      "outputs": [],
      "source": []
    }
  ],
  "metadata": {
    "colab": {
      "provenance": [],
      "include_colab_link": true
    },
    "kernelspec": {
      "display_name": "Python 3",
      "name": "python3"
    },
    "language_info": {
      "codemirror_mode": {
        "name": "ipython",
        "version": 3
      },
      "file_extension": ".py",
      "mimetype": "text/x-python",
      "name": "python",
      "nbconvert_exporter": "python",
      "pygments_lexer": "ipython3",
      "version": "3.9.13"
    }
  },
  "nbformat": 4,
  "nbformat_minor": 0
}