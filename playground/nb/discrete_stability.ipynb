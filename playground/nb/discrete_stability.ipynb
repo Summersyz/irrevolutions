{
  "cells": [
    {
      "cell_type": "markdown",
      "metadata": {
        "colab_type": "text",
        "id": "view-in-github"
      },
      "source": [
        "<a href=\"https://colab.research.google.com/github/kumiori/mec647/blob/andres-conerecipe/playground/nb/discrete_stability.ipynb\" target=\"_parent\"><img src=\"https://colab.research.google.com/assets/colab-badge.svg\" alt=\"Open In Colab\"/></a>"
      ]
    },
    {
      "cell_type": "code",
      "execution_count": 1,
      "metadata": {
        "id": "0fnr9Vinc8H_"
      },
      "outputs": [],
      "source": [
        "import sympy as sp\n",
        "import numpy as np\n",
        "import matplotlib.pyplot as plt"
      ]
    },
    {
      "cell_type": "code",
      "execution_count": 2,
      "metadata": {},
      "outputs": [],
      "source": [
        "## Simple Analytic \n",
        "α, α1, α2, e1, e2 = sp.symbols('α α1 α2 e1 e2')\n",
        "u1, u2 = sp.symbols('u1 u2')\n",
        "K1, K2 = sp.symbols('K1 K2', positive=True)\n",
        "s1, s2 = sp.symbols('s1 s2', positive=True)\n",
        "μ, N = sp.symbols('μ N', positive=True)\n",
        "w1 = sp.symbols('w1', positive=True)\n",
        "t = sp.Symbol('t', positive=True)\n",
        "k = sp.Symbol('k', positive=True)\n",
        "\n",
        "# _N = 2\n",
        "\n",
        "K = lambda α: (1-α)/(1+(k-1)*α)\n",
        "s = lambda α: 1/K(α)\n",
        "\n",
        "U = 1/2*μ*(K1*u1**2 + K2*(t-u1)**2) * N\n",
        "\n",
        "S = w1*(α1 + α2) / N\n",
        "\n",
        "sol_u = sp.solve(U.diff(u1), u1)\n",
        "\n"
      ]
    },
    {
      "cell_type": "code",
      "execution_count": null,
      "metadata": {},
      "outputs": [],
      "source": []
    }
  ],
  "metadata": {
    "colab": {
      "authorship_tag": "ABX9TyM5sqGttt4V4dnzNq4srf19",
      "include_colab_link": true,
      "provenance": []
    },
    "kernelspec": {
      "display_name": "Python 3",
      "name": "python3"
    },
    "language_info": {
      "codemirror_mode": {
        "name": "ipython",
        "version": 3
      },
      "file_extension": ".py",
      "mimetype": "text/x-python",
      "name": "python",
      "nbconvert_exporter": "python",
      "pygments_lexer": "ipython3",
      "version": "3.9.13"
    }
  },
  "nbformat": 4,
  "nbformat_minor": 0
}
