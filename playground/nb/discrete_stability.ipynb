{
  "cells": [
    {
      "cell_type": "markdown",
      "metadata": {
        "id": "view-in-github",
        "colab_type": "text"
      },
      "source": [
        "<a href=\"https://colab.research.google.com/github/kumiori/mec647/blob/andres-conerecipe/playground/nb/discrete_stability.ipynb\" target=\"_parent\"><img src=\"https://colab.research.google.com/assets/colab-badge.svg\" alt=\"Open In Colab\"/></a>"
      ]
    },
    {
      "cell_type": "code",
      "execution_count": 1,
      "metadata": {
        "id": "0fnr9Vinc8H_"
      },
      "outputs": [],
      "source": [
        "import sympy as sp\n",
        "import numpy as np\n",
        "import matplotlib.pyplot as plt\n",
        "import json\n",
        "import pandas as pd\n",
        "import os\n",
        "\n",
        "import yaml\n",
        "import hashlib\n",
        "\n",
        "def load_data(rootdir):\n",
        "\n",
        "\t# with open(rootdir + '/parameters.pkl', 'r') as f:\n",
        "\t# \tparams = json.load(f)\n",
        "\n",
        "\twith open(rootdir + '/parameters.yaml') as f:\n",
        "\t\tparams = yaml.load(f, Loader=yaml.FullLoader)\n",
        "\n",
        "\twith open(rootdir + '/time_data.json', 'r') as f:\n",
        "\t\tdata = json.load(f)\n",
        "\t\tdataf = pd.DataFrame(data).sort_values('load')\n",
        "\n",
        "\tif os.path.isfile(rootdir + '/signature.md5'):\n",
        "#         print('sig file found')\n",
        "\t\twith open(rootdir + '/signature.md5', 'r') as f:\n",
        "\t\t\tsignature = f.read()\n",
        "\telse:\n",
        "\t\tprint('no sig file found')\n",
        "\t\tsignature = hashlib.md5(str(params).encode('utf-8')).hexdigest()\n",
        "\n",
        "\treturn params, dataf, signature "
      ]
    },
    {
      "cell_type": "code",
      "execution_count": 7,
      "metadata": {
        "id": "ElWqa5T7mXGJ",
        "outputId": "6079b169-1986-4fc3-b46f-c6fb4d5de0cc",
        "colab": {
          "base_uri": "https://localhost:8080/"
        }
      },
      "outputs": [
        {
          "output_type": "stream",
          "name": "stdout",
          "text": [
            "Cloning into 'mec647'...\n",
            "remote: Enumerating objects: 2167, done.\u001b[K\n",
            "remote: Counting objects: 100% (900/900), done.\u001b[K\n",
            "remote: Compressing objects: 100% (364/364), done.\u001b[K\n",
            "remote: Total 2167 (delta 555), reused 821 (delta 494), pack-reused 1267\u001b[K\n",
            "Receiving objects: 100% (2167/2167), 96.76 MiB | 19.55 MiB/s, done.\n",
            "Resolving deltas: 100% (1186/1186), done.\n"
          ]
        }
      ],
      "source": [
        "\n",
        "branch_name = 'main'\n",
        "branch_name = 'andres-conerecipe'\n",
        "\n",
        "!rm -rf mec647\n",
        "try:\n",
        "  !git clone -b {branch_name} https://github.com/kumiori/mec647.git\n",
        "#   sys.path.append('mec647/')\n",
        "\n",
        "except Exception as e:\n",
        "  print('Something went wrong', e)\n",
        "  !rm -rf mec647\n",
        "  !git clone https://github.com/kumiori/mec647.git\n",
        "\n"
      ]
    },
    {
      "cell_type": "code",
      "execution_count": 5,
      "metadata": {
        "id": "YN4LaYRRmXGJ"
      },
      "outputs": [],
      "source": [
        "## Simple Analytic \n",
        "α, α1, α2, e1, e2 = sp.symbols('α α1 α2 e1 e2')\n",
        "u1, u2 = sp.symbols('u1 u2')\n",
        "K1, K2 = sp.symbols('K1 K2', positive=True)\n",
        "s1, s2 = sp.symbols('s1 s2', positive=True)\n",
        "μ, N = sp.symbols('μ N', positive=True)\n",
        "w1 = sp.symbols('w1', positive=True)\n",
        "t = sp.Symbol('t', positive=True)\n",
        "k = sp.Symbol('k', positive=True)\n",
        "\n",
        "# _N = 2\n",
        "\n",
        "K = lambda α: (1-α)/(1+(k-1)*α)\n",
        "s = lambda α: 1/K(α)\n",
        "\n",
        "U = 1/2*μ*(K1*u1**2 + K2*(t-u1)**2) * N\n",
        "\n",
        "S = w1*(α1 + α2) / N\n",
        "\n",
        "sol_u = sp.solve(U.diff(u1), u1)\n",
        "\n"
      ]
    },
    {
      "cell_type": "code",
      "source": [
        "!ls mec647/practice/output"
      ],
      "metadata": {
        "id": "ugxO2Esomftj",
        "outputId": "497f87ea-37b9-4c6c-97c0-f28b85e7454a",
        "colab": {
          "base_uri": "https://localhost:8080/"
        }
      },
      "execution_count": 8,
      "outputs": [
        {
          "output_type": "stream",
          "name": "stdout",
          "text": [
            "discrete-atk-N2  discrete-atk-N3\n"
          ]
        }
      ]
    },
    {
      "cell_type": "markdown",
      "metadata": {
        "id": "yeaU_CFemXGJ"
      },
      "source": [
        "### Example: material parameters"
      ]
    },
    {
      "cell_type": "code",
      "source": [
        "model_parameters"
      ],
      "metadata": {
        "id": "we9GWTkFsFt5",
        "outputId": "711ecf2a-2a12-4dc6-bbd4-b5eec08ac1e4",
        "colab": {
          "base_uri": "https://localhost:8080/"
        }
      },
      "execution_count": 10,
      "outputs": [
        {
          "output_type": "execute_result",
          "data": {
            "text/plain": [
              "{'N': 2,\n",
              " 'ell': 0.1,\n",
              " 'k': 3,\n",
              " 'k_res': 0.0001,\n",
              " 'model_dimension': 1,\n",
              " 'model_type': '1D',\n",
              " 'mu': 1,\n",
              " 'w1': 1}"
            ]
          },
          "metadata": {},
          "execution_count": 10
        }
      ]
    },
    {
      "cell_type": "code",
      "execution_count": 11,
      "metadata": {
        "id": "PJQse550mXGK",
        "outputId": "02b0131f-a9b4-40c3-b4a5-35967580de1a",
        "colab": {
          "base_uri": "https://localhost:8080/"
        }
      },
      "outputs": [
        {
          "output_type": "execute_result",
          "data": {
            "text/plain": [
              "{k: 3, w1: 1, N: 2, μ: 1}"
            ]
          },
          "metadata": {},
          "execution_count": 11
        }
      ],
      "source": [
        "_params = {\n",
        "    'N': 2,\n",
        "    'k': 4,\n",
        "    'k_res': 0.0001,\n",
        "    'model_dimension': 1,\n",
        "    'model_type': '1D-discrete',\n",
        "    'mu': 1,\n",
        "    'w1': 2}\n",
        "\n",
        "\n",
        "experiment = 'mec647/practice/output/discrete-atk-N2'\n",
        "params, data, signature = load_data(experiment)\n",
        "model_parameters = params.get(\"model\")\n",
        "\n",
        "_mu, _w1, _k, _N = model_parameters.get(\"mu\"), model_parameters.get(\"w1\"), model_parameters.get(\"k\"), model_parameters[\"N\"]\n",
        "\n",
        "# _mu, _w1, _k, _N = _params.get(\"mu\"), _params.get(\"w1\"), _params.get(\"k\"), _params[\"N\"]\n",
        "\n",
        "matpar = {k: _k, w1: _w1, N: _N, μ: _mu}\n",
        "matpar"
      ]
    },
    {
      "cell_type": "code",
      "execution_count": 13,
      "metadata": {
        "id": "BupsKhASmXGK",
        "outputId": "674a2df3-d2e5-4714-ee17-7fbb7fc8a971",
        "colab": {
          "base_uri": "https://localhost:8080/",
          "height": 56
        }
      },
      "outputs": [
        {
          "output_type": "execute_result",
          "data": {
            "text/plain": [
              "0.5*K1*K2*N*t**2*μ/(K1 + K2)"
            ],
            "text/latex": "$\\displaystyle \\frac{0.5 K_{1} K_{2} N t^{2} μ}{K_{1} + K_{2}}$"
          },
          "metadata": {},
          "execution_count": 13
        }
      ],
      "source": [
        "E=U.subs(u1, sol_u[0]).simplify()\n",
        "E"
      ]
    },
    {
      "cell_type": "markdown",
      "metadata": {
        "id": "ynzNFJ75mXGK"
      },
      "source": [
        "## Homogeneous response\n"
      ]
    },
    {
      "cell_type": "code",
      "execution_count": 14,
      "metadata": {
        "id": "Uxzd-uyzmXGK",
        "outputId": "56e383be-a2c5-4af0-972b-31485b3201ad",
        "colab": {
          "base_uri": "https://localhost:8080/",
          "height": 58
        }
      },
      "outputs": [
        {
          "output_type": "execute_result",
          "data": {
            "text/plain": [
              "0.25*N*t**2*μ*(1 - α)/(α*(k - 1) + 1)"
            ],
            "text/latex": "$\\displaystyle \\frac{0.25 N t^{2} μ \\left(1 - α\\right)}{α \\left(k - 1\\right) + 1}$"
          },
          "metadata": {},
          "execution_count": 14
        }
      ],
      "source": [
        "\n",
        "_E = E.subs({K1: 1/s(α), K2: 1/s(α)})\n",
        "_E"
      ]
    },
    {
      "cell_type": "code",
      "execution_count": 15,
      "metadata": {
        "id": "_Ts5UCAHmXGK",
        "outputId": "4c6598e6-d56e-4032-d446-ba427583e8f6",
        "colab": {
          "base_uri": "https://localhost:8080/",
          "height": 58
        }
      },
      "outputs": [
        {
          "output_type": "execute_result",
          "data": {
            "text/plain": [
              "0.25*N*t**2*μ*(1 - α)/(α*(k - 1) + 1) + 2*w1*α/N"
            ],
            "text/latex": "$\\displaystyle \\frac{0.25 N t^{2} μ \\left(1 - α\\right)}{α \\left(k - 1\\right) + 1} + \\frac{2 w_{1} α}{N}$"
          },
          "metadata": {},
          "execution_count": 15
        }
      ],
      "source": [
        "F = (E+S)\n",
        "F = (E+S).subs({K1: 1/s(α), K2: 1/s(α), α1: α, α2: α})\n",
        "\n",
        "F"
      ]
    },
    {
      "cell_type": "markdown",
      "metadata": {
        "id": "_RPJPeiamXGL"
      },
      "source": [
        "### Critical damage load"
      ]
    },
    {
      "cell_type": "code",
      "execution_count": 16,
      "metadata": {
        "id": "Af3R_x1jmXGL",
        "outputId": "bce028cd-9213-4a7d-e6c4-b98d73274bfb",
        "colab": {
          "base_uri": "https://localhost:8080/",
          "height": 61
        }
      },
      "outputs": [
        {
          "data": {
            "text/latex": "$\\displaystyle - \\frac{0.25 N k t^{2} μ}{\\left(k α - α + 1\\right)^{2}} + \\frac{2 w_{1}}{N}$",
            "text/plain": [
              "-0.25*N*k*t**2*μ/(k*α - α + 1)**2 + 2*w1/N"
            ]
          },
          "execution_count": 16,
          "metadata": {},
          "output_type": "execute_result"
        }
      ],
      "source": [
        "Fa = F.diff(α).simplify()\n",
        "Fa"
      ]
    },
    {
      "cell_type": "code",
      "execution_count": 17,
      "metadata": {
        "id": "ffgo1EYamXGL",
        "outputId": "482597de-44f6-4141-ca2a-12f97697718b",
        "colab": {
          "base_uri": "https://localhost:8080/",
          "height": 51
        }
      },
      "outputs": [
        {
          "data": {
            "text/latex": "$\\displaystyle - 0.25 N k t^{2} μ + \\frac{2 w_{1}}{N}$",
            "text/plain": [
              "-0.25*N*k*t**2*μ + 2*w1/N"
            ]
          },
          "execution_count": 17,
          "metadata": {},
          "output_type": "execute_result"
        }
      ],
      "source": [
        "Fa.subs({α: 0})"
      ]
    },
    {
      "cell_type": "code",
      "execution_count": 18,
      "metadata": {
        "id": "ZmJ-56yEmXGL",
        "outputId": "ae6b222b-776e-43c1-b70c-30f8fe18d4e5",
        "colab": {
          "base_uri": "https://localhost:8080/",
          "height": 61
        }
      },
      "outputs": [
        {
          "data": {
            "text/latex": "$\\displaystyle \\frac{2.82842712474619 \\sqrt{w_{1}}}{N \\sqrt{k} \\sqrt{μ}}$",
            "text/plain": [
              "2.82842712474619*sqrt(w1)/(N*sqrt(k)*sqrt(μ))"
            ]
          },
          "execution_count": 18,
          "metadata": {},
          "output_type": "execute_result"
        }
      ],
      "source": [
        "sp.solve(Fa, t)[1].subs({α: 0})"
      ]
    },
    {
      "cell_type": "code",
      "execution_count": 22,
      "metadata": {
        "id": "BTXnxuuxmXGL",
        "outputId": "5fdc409e-a0a7-4e7d-c24b-b5e3fe984458",
        "colab": {
          "base_uri": "https://localhost:8080/"
        }
      },
      "outputs": [
        {
          "output_type": "execute_result",
          "data": {
            "text/plain": [
              "4.5"
            ]
          },
          "metadata": {},
          "execution_count": 22
        }
      ],
      "source": [
        "_F = sp.lambdify((α, t), F.subs(matpar), 'numpy')\n",
        "_F(0, 3)"
      ]
    },
    {
      "cell_type": "code",
      "execution_count": 23,
      "metadata": {
        "id": "LlRq60zomXGL",
        "outputId": "5a4bb9d9-da5c-438d-cad2-134fde9c6f71",
        "colab": {
          "base_uri": "https://localhost:8080/",
          "height": 61
        }
      },
      "outputs": [
        {
          "output_type": "execute_result",
          "data": {
            "text/plain": [
              "2.82842712474619*sqrt(w1)/(N*sqrt(k)*sqrt(μ))"
            ],
            "text/latex": "$\\displaystyle \\frac{2.82842712474619 \\sqrt{w_{1}}}{N \\sqrt{k} \\sqrt{μ}}$"
          },
          "metadata": {},
          "execution_count": 23
        }
      ],
      "source": [
        "\n",
        "tc = sp.solve(Fa, t)[1].subs({α: 0})\n",
        "tc"
      ]
    },
    {
      "cell_type": "code",
      "execution_count": 24,
      "metadata": {
        "id": "UEnYuh59mXGL",
        "outputId": "27edbb0e-a953-4f25-eee3-f6dece211983",
        "colab": {
          "base_uri": "https://localhost:8080/",
          "height": 37
        }
      },
      "outputs": [
        {
          "output_type": "execute_result",
          "data": {
            "text/plain": [
              "0.816496580927726"
            ],
            "text/latex": "$\\displaystyle 0.816496580927726$"
          },
          "metadata": {},
          "execution_count": 24
        }
      ],
      "source": [
        "_tc = sp.N(tc.subs(matpar))\n",
        "_tc"
      ]
    },
    {
      "cell_type": "code",
      "execution_count": 25,
      "metadata": {
        "id": "nFnbEv9cmXGL",
        "outputId": "195e556c-1d1f-4c97-c2fd-247351d91dd5",
        "colab": {
          "base_uri": "https://localhost:8080/",
          "height": 448
        }
      },
      "outputs": [
        {
          "output_type": "execute_result",
          "data": {
            "text/plain": [
              "[<matplotlib.lines.Line2D at 0x7f3ee7d1f0d0>]"
            ]
          },
          "metadata": {},
          "execution_count": 25
        },
        {
          "output_type": "display_data",
          "data": {
            "text/plain": [
              "<Figure size 640x480 with 1 Axes>"
            ],
            "image/png": "[encoded data removed]"
          },
          "metadata": {}
        }
      ],
      "source": [
        "plt.plot(np.linspace(0., 2.), _F(0, np.linspace(0., 2.)))\n",
        "plt.axvline(_tc, c='k')\n",
        "plt.plot(data.load, _F(0, data.load.values))\n",
        "plt.plot(data.load, data.elastic_energy, ls='dotted', lw=4)\n"
      ]
    },
    {
      "cell_type": "markdown",
      "source": [
        "### TODO"
      ],
      "metadata": {
        "id": "6a3aRhWRsizJ"
      }
    },
    {
      "cell_type": "markdown",
      "source": [
        "Verify cone-stability against the NLB theorem, devised by N based on some (few) numerical experiments featuring around 1m shots (each) into the uppermost-right quadrant. \n",
        "\n",
        "For some, those shots were random. \n",
        "\n",
        "We say: they were shot in the _target direction_, with a little bit of spice.\n",
        "\n",
        "\n",
        "Targeting Abstract\n",
        "\n",
        "FEniCSX conference\n",
        "\n",
        "Pula (CA)\n",
        "\n",
        "_thanks for choosing_\n",
        "\n",
        "1. Verify homogeneous solution vs. N=2, 3, 4 computations\n",
        "  1. compute analytic solution (_)\n",
        "  1. extract displacement from system\n",
        "  1. compute cone-stability of $H(\\alpha)$ as a bilinear operator\n",
        "  (which turns out to have ... entries if [and/or] only if the state is cone-stable. NLB Exp~theorem)\n",
        "1. connect KR\n",
        "1. target application: Ice Ice Baby (seek numerical collab) \n",
        "1. condense abstract\n",
        "  1. make more abstract\n",
        "  1. select a far-fetched appication or Antartica\n",
        "1. double check with GL, FI, VC, PLC\n",
        "  1. if Very good: triple check with QC, YCdB, LN\n",
        "  1. else: submit"
      ],
      "metadata": {
        "id": "HAT5AQzoslYJ"
      }
    },
    {
      "cell_type": "code",
      "execution_count": null,
      "metadata": {
        "id": "ekD2F6tMmXGM"
      },
      "outputs": [],
      "source": []
    }
  ],
  "metadata": {
    "colab": {
      "provenance": [],
      "include_colab_link": true
    },
    "kernelspec": {
      "display_name": "Python 3",
      "name": "python3"
    },
    "language_info": {
      "codemirror_mode": {
        "name": "ipython",
        "version": 3
      },
      "file_extension": ".py",
      "mimetype": "text/x-python",
      "name": "python",
      "nbconvert_exporter": "python",
      "pygments_lexer": "ipython3",
      "version": "3.9.13"
    }
  },
  "nbformat": 4,
  "nbformat_minor": 0
}