{
 "cells": [
  {
   "cell_type": "code",
   "execution_count": 1,
   "metadata": {},
   "outputs": [
    {
     "name": "stdout",
     "output_type": "stream",
     "text": [
      "postproc\n"
     ]
    }
   ],
   "source": [
    "import sympy as sp\n",
    "import numpy as np\n",
    "import matplotlib.pyplot as plt\n",
    "import postprocess as pp\n",
    "import plots"
   ]
  },
  {
   "cell_type": "markdown",
   "metadata": {},
   "source": [
    "# Investigating the fundamental traction\n",
    "\n",
    "\n",
    "We study fundamental problem of a one-dimensional variational evolution,\n",
    "which features non-trivial stability properties\n",
    "such as:\n",
    "    -\n",
    "    -\n",
    "    -\n",
    "\n",
    "The problem is as follows:\n",
    "\n",
    "Find $y_t$ such that:\n",
    "\n",
    "GS)\n",
    "$$\n",
    "E(y_t)\\leq E(z), \\quad \\forall z \\in A(y_t)\n",
    "$$\n",
    "\n",
    "LS) \n",
    "$\\exists \\bar h: $\n",
    "$$\n",
    "E(y_t)\\leq E(y_t + z), \\quad \\forall z \\in .., ||z||\\leq h\n",
    "$$\n"
   ]
  },
  {
   "cell_type": "code",
   "execution_count": 2,
   "metadata": {},
   "outputs": [],
   "source": [
    "experiment = '../../test/output/one-dimensional-bar/10/579b0480063ed1a07a662e52e4913408'\n",
    "params, data, signature = pp.load_data(experiment)\n"
   ]
  },
  {
   "cell_type": "code",
   "execution_count": 3,
   "metadata": {},
   "outputs": [
    {
     "name": "stdout",
     "output_type": "stream",
     "text": [
      "history_data.json            traction-bar.h5\n",
      "parameters.yaml              traction-bar.xdmf\n",
      "signature.md5                traction-bar_energies.pdf\n",
      "simulation_results.h5        traction-bar_it_load.pdf\n",
      "simulation_results.xdmf      traction-bar_stress-load.pdf\n",
      "time_data.json\n"
     ]
    }
   ],
   "source": [
    "!ls ../../test/output/one-dimensional-bar/10/579b0480063ed1a07a662e52e4913408"
   ]
  },
  {
   "cell_type": "code",
   "execution_count": 4,
   "metadata": {},
   "outputs": [
    {
     "data": {
      "text/plain": [
       "0     [0.9788696740969283, 1.0000000000000002, 1.000...\n",
       "1     [0.9788696740969283, 1.0000000000000002, 1.000...\n",
       "2     [0.9788696740969283, 1.0000000000000002, 1.000...\n",
       "3     [0.9788696740969283, 1.0000000000000002, 1.000...\n",
       "4     [0.9788696740969283, 1.0000000000000002, 1.000...\n",
       "5     [0.9788696740969283, 1.0000000000000002, 1.000...\n",
       "6     [0.9788696740969283, 1.0000000000000002, 1.000...\n",
       "7     [0.9788696740969283, 1.0000000000000002, 1.000...\n",
       "8     [0.9788696740969283, 1.0000000000000002, 1.000...\n",
       "9     [0.9788696740969283, 1.0000000000000002, 1.000...\n",
       "10    [0.9788696740969283, 1.0000000000000002, 1.000...\n",
       "11    [0.9788696740969283, 1.0000000000000002, 1.000...\n",
       "12    [0.9788696740969283, 1.0000000000000002, 1.000...\n",
       "13    [0.9788696740969283, 1.0000000000000002, 1.000...\n",
       "14    [0.9788696740969283, 1.0000000000000002, 1.000...\n",
       "15    [0.9788696740969283, 1.0000000000000002, 1.000...\n",
       "16    [0.9788696740969283, 1.0000000000000002, 1.000...\n",
       "17    [0.9788696740969283, 1.0000000000000002, 1.000...\n",
       "18    [0.9788696740969283, 1.0000000000000002, 1.000...\n",
       "19    [0.9788696740969283, 1.0000000000000002, 1.000...\n",
       "20    [-0.14618990340922344, 0.014073785003908476, 0...\n",
       "21    [-0.154751765441332, -0.008000171702867105, 0....\n",
       "22    [-0.1610935413710355, -0.0298342395439943, 0.1...\n",
       "23    [-0.16529661263985512, -0.05092373325085308, 0...\n",
       "24    [-0.16752717046395552, -0.07082061324365457, 0...\n",
       "25    [-0.16800165365736483, -0.08914725715632128, 0...\n",
       "26    [-0.1669582270153832, -0.10561693049544425, 0....\n",
       "27    [-0.16463623156240434, -0.12004500865832195, 0...\n",
       "28    [-0.1612630700180231, -0.13234762824071541, 0....\n",
       "29    [-0.15704694079565792, -0.14252991175800855, 0...\n",
       "Name: eigs, dtype: object"
      ]
     },
     "execution_count": 4,
     "metadata": {},
     "output_type": "execute_result"
    }
   ],
   "source": [
    "data['eigs']\n"
   ]
  },
  {
   "cell_type": "code",
   "execution_count": 5,
   "metadata": {},
   "outputs": [
    {
     "data": {
      "text/plain": [
       "0                      [nan]\n",
       "1                      [nan]\n",
       "2                      [nan]\n",
       "3                      [nan]\n",
       "4                      [nan]\n",
       "5                      [nan]\n",
       "6                      [nan]\n",
       "7                      [nan]\n",
       "8                      [nan]\n",
       "9                      [nan]\n",
       "10                     [nan]\n",
       "11                     [nan]\n",
       "12                     [nan]\n",
       "13                     [nan]\n",
       "14                     [nan]\n",
       "15                     [nan]\n",
       "16                     [nan]\n",
       "17                     [nan]\n",
       "18                     [nan]\n",
       "19                     [nan]\n",
       "20      [1.5188968542869146]\n",
       "21    [-0.15475176544133165]\n",
       "22    [-0.16109354137103538]\n",
       "23      [1.2818468812005657]\n",
       "24      [1.1886218883641266]\n",
       "25       [1.096625586156198]\n",
       "26      [1.0086736043284217]\n",
       "27    [-0.16463623156240537]\n",
       "28      [0.8507693240629146]\n",
       "29      [0.7819401355292432]\n",
       "Name: cone-eig, dtype: object"
      ]
     },
     "execution_count": 5,
     "metadata": {},
     "output_type": "execute_result"
    }
   ],
   "source": [
    "data['cone-eig']"
   ]
  },
  {
   "cell_type": "code",
   "execution_count": 8,
   "metadata": {},
   "outputs": [
    {
     "data": {
      "text/plain": [
       "[0.9788696740969283,\n",
       " 0.9788696740969283,\n",
       " 0.9788696740969283,\n",
       " 0.9788696740969283,\n",
       " 0.9788696740969283,\n",
       " 0.9788696740969283,\n",
       " 0.9788696740969283,\n",
       " 0.9788696740969283,\n",
       " 0.9788696740969283,\n",
       " 0.9788696740969283,\n",
       " 0.9788696740969283,\n",
       " 0.9788696740969283,\n",
       " 0.9788696740969283,\n",
       " 0.9788696740969283,\n",
       " 0.9788696740969283,\n",
       " 0.9788696740969283,\n",
       " 0.9788696740969283,\n",
       " 0.9788696740969283,\n",
       " 0.9788696740969283,\n",
       " 0.9788696740969283,\n",
       " -0.14618990340922344,\n",
       " -0.154751765441332,\n",
       " -0.1610935413710355,\n",
       " -0.16529661263985512,\n",
       " -0.16752717046395552,\n",
       " -0.16800165365736483,\n",
       " -0.1669582270153832,\n",
       " -0.16463623156240434,\n",
       " -0.1612630700180231,\n",
       " -0.15704694079565792]"
      ]
     },
     "execution_count": 8,
     "metadata": {},
     "output_type": "execute_result"
    }
   ],
   "source": [
    "[e[0] if len(e)>0 else np.nan for e in data['eigs']]"
   ]
  },
  {
   "cell_type": "code",
   "execution_count": 10,
   "metadata": {},
   "outputs": [
    {
     "data": {
      "text/plain": [
       "[nan,\n",
       " nan,\n",
       " nan,\n",
       " nan,\n",
       " nan,\n",
       " nan,\n",
       " nan,\n",
       " nan,\n",
       " nan,\n",
       " nan,\n",
       " nan,\n",
       " nan,\n",
       " nan,\n",
       " nan,\n",
       " nan,\n",
       " nan,\n",
       " nan,\n",
       " nan,\n",
       " nan,\n",
       " nan,\n",
       " nan,\n",
       " nan,\n",
       " nan,\n",
       " nan,\n",
       " nan,\n",
       " nan,\n",
       " nan,\n",
       " nan,\n",
       " nan,\n",
       " nan]"
      ]
     },
     "execution_count": 10,
     "metadata": {},
     "output_type": "execute_result"
    }
   ],
   "source": [
    "[np.nan if type(a) is list else a for a in data[\"cone-eig\"]]"
   ]
  },
  {
   "cell_type": "code",
   "execution_count": 7,
   "metadata": {},
   "outputs": [
    {
     "name": "stderr",
     "output_type": "stream",
     "text": [
      "/Users/kumiori/Documents/WIP/m4s-MEC647/mec647/playground/nb/postprocess.py:346: UserWarning: No data for colormapping provided via 'c'. Parameters 'cmap' will be ignored\n",
      "  axis.scatter(data.load, np.array(__lambda_0)/scale, cmap = 'seismic', alpha=.8, label='space')\n"
     ]
    },
    {
     "data": {
      "text/plain": [
       "(-1.0, 1.2)"
      ]
     },
     "execution_count": 7,
     "metadata": {},
     "output_type": "execute_result"
    },
    {
     "data": {
      "image/png": "[encoded data removed]",
      "text/plain": [
       "<Figure size 640x480 with 1 Axes>"
      ]
     },
     "metadata": {},
     "output_type": "display_data"
    }
   ],
   "source": [
    "fig, ax = pp._plot_spectrum(data)\n",
    "ax.set_ylim(-1, 1.2)"
   ]
  },
  {
   "cell_type": "markdown",
   "metadata": {},
   "source": [
    "## Analytical treatment"
   ]
  },
  {
   "cell_type": "code",
   "execution_count": null,
   "metadata": {},
   "outputs": [],
   "source": []
  },
  {
   "cell_type": "code",
   "execution_count": null,
   "metadata": {},
   "outputs": [],
   "source": []
  }
 ],
 "metadata": {
  "interpreter": {
   "hash": "b0fa6594d8f4cbf19f97940f81e996739fb7646882a419484c72d19e05852a7e"
  },
  "kernelspec": {
   "display_name": "Python 3.9.13 64-bit",
   "language": "python",
   "name": "python3"
  },
  "language_info": {
   "codemirror_mode": {
    "name": "ipython",
    "version": 3
   },
   "file_extension": ".py",
   "mimetype": "text/x-python",
   "name": "python",
   "nbconvert_exporter": "python",
   "pygments_lexer": "ipython3",
   "version": "3.11.6"
  },
  "orig_nbformat": 4
 },
 "nbformat": 4,
 "nbformat_minor": 2
}
