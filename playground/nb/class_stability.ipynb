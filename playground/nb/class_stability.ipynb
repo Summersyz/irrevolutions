{
 "cells": [
  {
   "cell_type": "code",
   "execution_count": 1,
   "metadata": {},
   "outputs": [
    {
     "name": "stdout",
     "output_type": "stream",
     "text": [
      "postproc\n"
     ]
    }
   ],
   "source": [
    "# Testing Pacman\n",
    "import postprocess as pp\n",
    "import plots as plots\n",
    "import sympy as sp\n",
    "import numpy as np\n",
    "import matplotlib.pyplot as plt\n",
    "# %matplotlib inline\n",
    "\n",
    "from pathlib import Path "
   ]
  },
  {
   "cell_type": "code",
   "execution_count": 3,
   "metadata": {},
   "outputs": [],
   "source": [
    "# import matplotlib as mpl\n",
    "# mpl.rcParams.update(mpl.rcParamsDefault)\n"
   ]
  },
  {
   "cell_type": "markdown",
   "metadata": {},
   "source": [
    "## Analyis helps"
   ]
  },
  {
   "cell_type": "code",
   "execution_count": 4,
   "metadata": {},
   "outputs": [],
   "source": [
    "def _critical_load(matpar):\n",
    "    _mu, _k, _w1, _N = matpar[\"mu\"], matpar[\"k\"], matpar[\"w1\"], matpar[\"N\"]\n",
    "    return np.sqrt(8*_w1 / (_mu*_k)/4)\n",
    "    # independent of _N**2\n",
    "\n",
    "\n",
    "def _homogeneous_state(t, matpar):\n",
    "    \"\"\"docstring for _homogeneous_state\"\"\"\n",
    "    _mu, _k, _w1, _N = matpar[\"mu\"], matpar[\"k\"], matpar[\"w1\"], matpar[\"N\"]\n",
    "\n",
    "\n",
    "    # _tc = np.sqrt(matpar/k)\n",
    "    # _a = (tau - 1) / (_k - 1)\n",
    "\n",
    "    _tc = _critical_load(params[\"model\"])\n",
    "    _uh = [0 for i in range(0, _N+1)]\n",
    "    \n",
    "    if t <= _tc:\n",
    "        # elastic\n",
    "        _alphah = [0. for i in range(0, _N)]\n",
    "        _uh = [i*t/_N for i in range(0, _N+1)]\n",
    "    else:   \n",
    "        # damaging\n",
    "        _α = (t/_tc - 1) / (_k - 1)\n",
    "        _alphah = [_α for i in range(0, _N)]\n",
    "\n",
    "        # _S = reduce(lambda a, b: a+b, list(map(a_atk, _alphah)))\n",
    "        \n",
    "        _S = _N*a_atk(_α)\n",
    "\n",
    "        _e = t / _N\n",
    "        for i in range(0, _N+1):\n",
    "            if i == 0:\n",
    "                _uh[i] = 0\n",
    "            else: \n",
    "                _uh[i] = _e * i\n",
    "        # _uh = [a_atk(_α) / (_N*a_atk(_α)) * i/_N for i in range(0, _N+1)]\n",
    "        # print(t, _e)\n",
    "    return _alphah, _uh"
   ]
  },
  {
   "cell_type": "code",
   "execution_count": 5,
   "metadata": {},
   "outputs": [],
   "source": [
    "class DefaultDamage:\n",
    "    def __init__(self, state, matpar, name = \"Default damage model: atk aka JJK aka LS\"):\n",
    "        self.state = state\n",
    "        self.matpar = matpar\n",
    "        self.str = name\n",
    "\n",
    "    def _a(self, α):\n",
    "        _α = state[α]\n",
    "        # _α = α\n",
    "        # _E0 = self.matpar[E0]\n",
    "        _k = self.matpar[k]\n",
    "\n",
    "        return (1 - α) / ((_k-1) * α + 1)\n",
    "\n",
    "    def _w(self, _α):\n",
    "        _α = α\n",
    "        # _w1 = self.matpar[w1]\n",
    "\n",
    "        return _α\n",
    "\n",
    "    def energy(self, state):\n",
    "        \"\"\"Total energy\"\"\"\n",
    "        return self._elastic(state) + self._damage(state) - self.work(state)\n",
    "\n",
    "    def work(self, state):\n",
    "        return 0\n",
    "\n",
    "    def _elastic(self, state):\n",
    "        _E0 = self.matpar[E0]\n",
    "        _u = state[u]\n",
    "        _α = state[α]\n",
    "\n",
    "        return 1./2. * _E0 * self._a(_α) * sp.diff(_u, x)**2 \n",
    "\n",
    "    def _damage(self, state):\n",
    "        _α = state[α]\n",
    "        _w1 = matpar[w1]\n",
    "        _η = matpar[η]\n",
    "\n",
    "        return _w1 * (self._w(_α) + matpar[η]**2 * sp.diff(_α, x)) \n",
    "\n",
    "\n",
    "    def __str__(self):\n",
    "     return self.str\n",
    "\n",
    "\n",
    "class DamageATSN(DefaultDamage):\n",
    "    \"\"\"docstring for Model\"\"\"\n",
    "    def __init__(self, state, matpar, name = \"ATk Damage Model, Seb Neukirch\"):\n",
    "        super(DefaultDamage, self).__init__(matpar, name = \"Damage Model\")\n",
    "\n",
    "    def _a(self, state):\n",
    "        α = state[α]\n",
    "        _E0 = self.matpar[E0]\n",
    "\n",
    "        # return (1 - α)**2\n",
    "\n",
    "    def _w(self, _α):\n",
    "        _α = α\n",
    "        _n = self.matpar[n]\n",
    "        return 1-(1.-_α)**2\n",
    "\n",
    "\n",
    "class DamageATn(DefaultDamage):\n",
    "    \"\"\"docstring for Model\"\"\"\n",
    "    def __init__(self, state, matpar, name = \"ATn Damage Model\"):\n",
    "        super(DamageATn, self).__init__(state, matpar, name = \"Damage Model\")\n",
    "\n",
    "    def _a(self, α):\n",
    "        return (1 - α)**2\n",
    "\n",
    "    def _w(self, _α):\n",
    "        _α = α\n",
    "        _n = self.matpar[n]\n",
    "        return _α**_n\n",
    "\n",
    "\n",
    "class DamagePQ(DefaultDamage):\n",
    "    \"\"\"Particularly interesting model, as per marigo-2012\"\"\"\n",
    "    def __init__(self, state, matpar = {}, name = \"PQ Damage Model\"):\n",
    "        if matpar == {}:\n",
    "            p, q, E0, L, w1, η, σc = sp.symbols('p q E0 L w1 η σc')\n",
    "            _matpar = {p: p, q: q, E0: E0, w1: w1, η: η, L: L, σc: σc}\n",
    "            self._matpar = _matpar\n",
    "            # TODO: fix redundancies, like below\n",
    "            # self.matpar = _matpar\n",
    "\n",
    "        super(DamagePQ, self).__init__(state, _matpar, name = \"PQ Damage Model\")\n",
    "\n",
    "    def _a(self, α):\n",
    "        _q = self._matpar[q]\n",
    "        _p = self._matpar[p]\n",
    "\n",
    "        return (1 - α)**_q / (1 + α)**_p  \n",
    "\n",
    "    def _w(self, _α):\n",
    "        \n",
    "        \n",
    "        _α = α\n",
    "        _q = self._matpar[q]\n",
    "        _p = self._matpar[p]\n",
    "        _σc = self._matpar[σc]\n",
    "        _E0 = self._matpar[E0]\n",
    "\n",
    "        return (_p+_q) * _α * _σc**2 / _E0\n",
    "\n",
    "\n",
    "class DamagePQ2(DefaultDamage):\n",
    "    \"\"\"Particularly interesting other model, as per marigo-2012, \n",
    "        Requires: q > p > 0\n",
    "    \"\"\"\n",
    "    def __init__(self, state, matpar = {}, name = \"PQ Damage Model\"):\n",
    "        if matpar == {}:\n",
    "            p, q, E0, L, w1, η, σc = sp.symbols('p q E0 L w1 η σc')\n",
    "            _matpar = {p: p, q: q, E0: E0, w1: w1, η: η, L: L, σc: σc}\n",
    "            self._matpar = _matpar\n",
    "            # TODO: fix redundancies, like below\n",
    "            # self.matpar = _matpar\n",
    "\n",
    "        super(DamagePQ, self).__init__(state, _matpar, name = \"PQ Damage Model\")\n",
    "\n",
    "    def _a(self, α):\n",
    "        _q = self._matpar[q]\n",
    "        _p = self._matpar[p]\n",
    "\n",
    "        return (1 - α)**_q \n",
    "\n",
    "    def _w(self, _α):\n",
    "        \n",
    "        _α = α\n",
    "        _q = self._matpar[q]\n",
    "        _p = self._matpar[p]\n",
    "        _σc = self._matpar[σc]\n",
    "        _E0 = self._matpar[E0]\n",
    "\n",
    "        return _q * _σc**2 / (2.* _p * _E0)  * (1.-(1.-_α)**_p)\n",
    "\n",
    "\n",
    "class PerfectBrittle(DefaultDamage):\n",
    "    \"\"\"Perfectly brittle model, as per marigo-2012, \n",
    "        w'/E' is constant\n",
    "    \"\"\"\n",
    "    def __init__(self, state, matpar = {}, name = \"PQ Damage Model\"):\n",
    "        if matpar == {}:\n",
    "            p, q, E0, L, w1, η, σc = sp.symbols('p q E0 L w1 η σc')\n",
    "            _matpar = {p: p, q: q, E0: E0, w1: w1, η: η, L: L, σc: σc}\n",
    "            self._matpar = _matpar\n",
    "            # TODO: fix redundancies, like below\n",
    "            # self.matpar = _matpar\n",
    "\n",
    "        super(DamagePQ, self).__init__(state, _matpar, name = \"PQ Damage Model\")\n",
    "\n",
    "    def _a(self, α):\n",
    "        _q = self._matpar[q]\n",
    "        _p = self._matpar[p]\n",
    "\n",
    "        # return (1 - α)**_q \n",
    "        # return ?\n",
    "\n",
    "    def _w(self, _α):\n",
    "        \n",
    "        _α = α\n",
    "        _σc = self._matpar[σc]\n",
    "        _E0 = self._matpar[E0]\n",
    "        _ec = _σc / _E0\n",
    "\n",
    "        return _E0 * (1 - self._a) * _ec**2 /2.\n"
   ]
  },
  {
   "cell_type": "code",
   "execution_count": 6,
   "metadata": {},
   "outputs": [],
   "source": [
    "## Simple Analytic \n",
    "# import visuals\n",
    "E0, L, w1, η, σc = sp.symbols('E0 L w1 η σc')\n",
    "# k = sp.symbols('k', integer = True)\n",
    "x, t = sp.symbols('x t')\n",
    "α = sp.Function('α')(x)\n",
    "u = sp.Function('u')(x)\n"
   ]
  },
  {
   "cell_type": "markdown",
   "metadata": {},
   "source": [
    "### Homogeneous sound solution\n",
    "<!-- u = tx -->\n",
    "<!-- alpha = 0 -->"
   ]
  },
  {
   "cell_type": "code",
   "execution_count": 35,
   "metadata": {},
   "outputs": [],
   "source": [
    "class ModelAnalysis:\n",
    "    \"\"\"Helper class to analyse stability properties of a model\"\"\"\n",
    "    def __init__(self, model):\n",
    "        self.model = model\n",
    "        self.state = model.state\n",
    "        self.matpar = model.matpar\n",
    "\n",
    "        self._s = 1/self.model._a(state[α])\n",
    "        self._sp = sp.diff(self._s, state[α], 1)\n",
    "        self._spp = sp.diff(self._s, state[α], 2)\n",
    "\n",
    "        self._a = self.model._a(state[α])\n",
    "        self._ap = sp.diff(self._a, state[α], 1)\n",
    "        self._app = sp.diff(self._a, state[α], 2)\n",
    "\n",
    "        self._w = self.model._w(state[α])\n",
    "        self._wp = sp.diff(self.model._w(state[α]), state[α])\n",
    "\n",
    "    def criterion(self):\n",
    "        \"\"\"Damage onset\"\"\"\n",
    "        model, state = self.model, self.state\n",
    "\n",
    "        _u0 = t*x/L\n",
    "        _alpha0 = 0 \n",
    "\n",
    "        _crit = sp.diff(model.energy(state), α) \\\n",
    "            .subs({u: _u0, α: _alpha0})         \\\n",
    "            .simplify()\n",
    "            # .subs(matpar).simplify()\n",
    "        \n",
    "\n",
    "        # _ts = np.array(sp.solve(_crit, t))\n",
    "        # return np.where(_ts > 0)\n",
    "        self.crit = _crit\n",
    "\n",
    "        return _crit\n",
    "\n",
    "    def _homogeneous_energy(self, _matpar):\n",
    "        state, (_uf, _af) = self._homogeneous_state(_matpar)\n",
    "\n",
    "        _u = state[0]\n",
    "        _alpha = state[1]\n",
    "\n",
    "        return\n",
    "\n",
    "    def critical_load(self):\n",
    "        return sp.solve(self.crit, t**2, 0)\n",
    "\n",
    "    def critical_load_N(self, _matpar = {}):\n",
    "        _crits = sp.solve(t**2 - self.critical_load()[0][t**2], t)\n",
    "        _crit_loads = np.where(np.array([sp.N(tc.subs(_matpar)) for tc in _crits]) > 0)\n",
    "        return _crit_loads\n",
    "\n",
    "    def _check_constitutive(self):\n",
    "        _a = 1\n",
    "        # a -> E(a) decreasing\n",
    "        # a -> w(a) increasing\n",
    "        # a -> -w'/E' increasing\n",
    "        # a -> -w'/s' decreasing\n",
    "        return\n",
    "\n",
    "    def _homogeneous_alpha(self):\n",
    "        _u0 = t*x/L\n",
    "\n",
    "        try:\n",
    "            _eq = sp.diff(self.model.energy(state), α) \\\n",
    "                .subs({u: _u0, α: α})         \\\n",
    "                .simplify()\n",
    "\n",
    "            _ah = sp.solve(_eq, α)\n",
    "\n",
    "        except NotImplementedError as e:\n",
    "            _eq = sp.diff(ana.model.energy(state), α)   \\\n",
    "                .subs({u: _u0, α: α})                   \\\n",
    "                .subs(self.matpar)                   \\\n",
    "                .simplify()\n",
    "    \n",
    "            _ah = sp.solve(_eq, α)\n",
    "\n",
    "        return _ah\n",
    "\n",
    "    def plot_homogeneous_alpha(self, _matpar = {}):\n",
    "        ah = self._homogeneous_alpha()\n",
    "        _tc = self.critical_load_N(_matpar)[0][0]\n",
    "\n",
    "        fig, axis = plt.subplots(1, 1, figsize=(8, 6))\n",
    "\n",
    "        # Plot the zero range\n",
    "        subcritical_times = np.linspace(0., _tc)\n",
    "        axis.plot(subcritical_times, [0 for t in subcritical_times], c=\"C0\")\n",
    "\n",
    "\n",
    "        supercritical_times = np.linspace(_tc, 3)\n",
    "\n",
    "        for _a in ah:\n",
    "            _af = sp.lambdify(t, _a.subs(_matpar), \"numpy\")\n",
    "\n",
    "            axis.plot(supercritical_times, [_af(t) for t in supercritical_times], c=\"C0\")\n",
    "            # plt.plot()\n",
    "\n",
    "\n",
    "        axis.set_xlim(0, 3)\n",
    "        axis.set_ylim(0, 1)\n",
    "\n",
    "        plt.axvline(_tc, c='k')\n",
    "        plt.axhline(1, c='k')\n",
    "\n",
    "        return fig, axis\n",
    "\n",
    "    def plot_homogeneous_stress(self, _matpar = {}):\n",
    "        ah = self._homogeneous_alpha()\n",
    "        _tc = self.critical_load_N(_matpar)[0][0]\n",
    "\n",
    "        fig, axis = plt.subplots(1, 1, figsize=(8, 6))\n",
    "\n",
    "        # Plot the zero range\n",
    "        times = np.linspace(0, 3)\n",
    "\n",
    "        _sf = sp.lambdify(t, self._stress.subs(_matpar), \"numpy\")\n",
    "\n",
    "        # axis.plot(np.linspace(0, 3), [_sf(t) for t in times], c=\"C0\")\n",
    "        axis.plot(_times, [_sf(t) for t in _times], c=\"C0\")\n",
    "\n",
    "        plt.axvline(_tc, c='k')\n",
    "        plt.axhline(1, c='k')\n",
    "\n",
    "        axis.set_xlim(0, 3)\n",
    "        axis.set_ylim(0, 1)\n",
    "\n",
    "        return fig, axis\n",
    "\n",
    "    def _homogeneous_state(self, _matpar = {}):\n",
    "        ah = self._homogeneous_alpha()\n",
    "        _tc = self.critical_load_N(_matpar)[0][0]\n",
    "        x, t = sp.symbols('x t')\n",
    "\n",
    "        _homogeneous_alpha = sp.Piecewise((ah[0], t >= _tc), (0, t < _tc))\n",
    "        _homogeneous_u =  t * x / L\n",
    "\n",
    "        _uf = sp.lambdify((t, x), _homogeneous_u.subs(_matpar), \"numpy\")\n",
    "        _af = sp.lambdify(t, _homogeneous_alpha.subs(_matpar), \"numpy\")\n",
    "\n",
    "        state = (_homogeneous_u, _homogeneous_alpha)\n",
    "\n",
    "        return state, (_uf, _af)\n",
    "\n",
    "    def plot_homogeneous_energies(self, _matpar):\n",
    "\n",
    "        _homog_state, (_uf, _af) = self._homogeneous_state(_matpar)\n",
    "\n",
    "        _en_h = sp.lambdify(t, at1.energy(_homog_state).subs({α: _homog_state[1]}).subs(_matpar), \"numpy\")\n",
    "        _en_dam_h = sp.lambdify(t, at1._damage(_homog_state).subs({α: _homog_state[1]}).subs(_matpar), \"numpy\")\n",
    "        _en_ela_h = sp.lambdify(t, at1._elastic(_homog_state).subs({α: _homog_state[1]}).subs(_matpar), \"numpy\")\n",
    "        fig, axis = plt.subplots(1, 1, figsize=(8, 6))\n",
    "\n",
    "        plt.plot(np.linspace(0., 3.), [_en_h(t) for t in np.linspace(0., 3.)], c=\"C0\")\n",
    "        plt.plot(np.linspace(0., 3.), [_en_dam_h(t) for t in np.linspace(0., 3.)], c=\"C1\")\n",
    "        plt.plot(np.linspace(0., 3.), [_en_ela_h(t) for t in np.linspace(0., 3.)], c=\"C2\")\n",
    "\n",
    "        return fig, axis\n",
    "\n",
    "    def plot_material(self):\n",
    "        _damage = np.linspace(0., 1.)\n",
    "\n",
    "        _af = sp.lambdify(α, self._a.simplify().subs(_matpar), \"numpy\")\n",
    "        _apf = sp.lambdify(α, self._ap.simplify().subs(_matpar), \"numpy\")\n",
    "        _appf = sp.lambdify(α, self._app.simplify().subs(_matpar), \"numpy\")\n",
    "\n",
    "        # _apf = sp.lambdify(t, ana.)ap.subs(_matpar), \"numpy\")\n",
    "        # _apf\n",
    "\n",
    "        figure, axis = plt.subplots(1, 2, figsize=(8, 6))\n",
    "        _ax = axis[0]\n",
    "        _ax.axhline(0, c='k')\n",
    "        _ax.plot(_damage, [_af(α) for α in _damage], label = \"a\")\n",
    "        _ax.legend(loc=2)\n",
    "        # _ax.twiny()\n",
    "        _ax.plot(_damage, [_apf(α) for α in _damage], label = \"a'\", c='r')\n",
    "        _ax.plot(_damage, [_appf(α) for α in _damage], label = \"a''\")\n",
    "        _ax.set_xlim(0, 1)\n",
    "        _ax.legend()\n",
    "\n",
    "\n",
    "        _sf = sp.lambdify(α, self._s.simplify().subs(_matpar), \"numpy\")\n",
    "        _spf = sp.lambdify(α, self._sp.simplify().subs(_matpar), \"numpy\")\n",
    "        _sppf = sp.lambdify(α, self._spp.simplify().subs(_matpar), \"numpy\")\n",
    "\n",
    "\n",
    "        _ax = axis[1]\n",
    "\n",
    "        _ax.plot( _damage, [_sf(α) for α in _damage], label = \"s\")\n",
    "        _ax.legend(loc=2)\n",
    "        _ax.axhline(0, c='k')\n",
    "        _ax.twinx()\n",
    "        _ax.plot( _damage, [_spf(α) for α in _damage], label = \"s'\")\n",
    "        _ax.plot( _damage, [_sppf(α) for α in _damage], label = \"s''\")\n",
    "        _ax.set_xlim(0, 1)\n",
    "        _ax.set_ylim(0, 10)\n",
    "        _ax.legend(loc=1)\n",
    "        figure.suptitle(f\"Behaviour of {self.model.__str__()} is Material\")\n",
    "\n",
    "    def _hypotheses1(self):\n",
    "        \"\"\"As per marigo-2012, HP1: w'/S' decreasing wrt alpha\"\"\"\n",
    "\n",
    "        _hp1 = self._sp / self._wp\n",
    "        return _hp1\n",
    "\n",
    "    def _H_damage_profile(self):\n",
    "        \"\"\"A function of sigma and beta constructs localisation profiles\"\"\"\n",
    "        # _H = (2 w(beta) - sigma**2 * (S(beta) - 1/E0) ) / E0\n",
    "        return       \n",
    "\n",
    "    def _stress(self):\n",
    "        _homog_state, (_uf, _af) = self._homogeneous_state(_matpar)\n",
    "        _ah = _homog_state[1]\n",
    "        _tc = self.critical_load_N(_matpar)[0][0]\n",
    "\n",
    "        stress_alpha = sp.Piecewise(\n",
    "            (sp.sqrt( 2* self._wp / self._sp).subs({α: _ah}), t >= _tc), \n",
    "            # sigma = E(alpha=0) u'\n",
    "            (sp.diff(_homog_state[0], x).subs(_matpar), t < _tc))\n",
    "            \n",
    "        # return sp.sqrt( 2* self._wp / self._sp).subs({α: _ah})\n",
    "        return stress_alpha\n",
    "\n",
    "    def _Dc(self):\n",
    "        \"\"\"Half length of the localisation at the onset\"\"\"\n",
    "        _αh = self._homogeneous_alpha()\n",
    "        _E0 = self.model._matpar[E0]\n",
    "        _D = np.pi * η * sp.sqrt(2 * _E0 / (σ * self._spp - 2.*self._wpp)).subs({α: 0})\n",
    "\n",
    "    def _deps_1_d_dσ(self):\n",
    "        _α = self.model.state[α]\n",
    "        _E0 = self.model._matpar[E0]\n",
    "        _σc = self.model._matpar[σc]\n",
    "        \n",
    "\n",
    "        _sp = self._sp\n",
    "        _w = self._w\n",
    "        \n",
    "        return - (np.pi * 2**(5/2) * ((_sp).subs({α: 0}) )**2 * _σc**2 * _E0**1/2) / \\\n",
    "            (sp.diff(_sp, _α, 2).subs({α: 0})  * _σc**2 - 2.* sp.diff(_w, _α, 2).subs({α: 0})) ** (3/2)\n",
    "\n",
    "    # check: dependence of localisation zone wrt stress\n",
    "    # check: global maccro response\n"
   ]
  },
  {
   "cell_type": "code",
   "execution_count": 8,
   "metadata": {},
   "outputs": [
    {
     "data": {
      "text/latex": [
       "$\\displaystyle 1.0 w_{1} - \\frac{0.5 k t^{2}}{L^{2}}$"
      ],
      "text/plain": [
       "1.0*w1 - 0.5*k*t**2/L**2"
      ]
     },
     "execution_count": 8,
     "metadata": {},
     "output_type": "execute_result"
    }
   ],
   "source": [
    "E0, L, w1, η, σc = sp.symbols('E0 L w1 η σc')\n",
    "k = sp.symbols('k', integer = True)\n",
    "\n",
    "x, t = sp.symbols('x t')\n",
    "α = sp.Function('α')(x)\n",
    "u = sp.Function('u')(x)\n",
    "\n",
    "state = {u: u, α: α}\n",
    "_matpar = {k: 2, E0: 1, w1: 1, η: η, L: 1}\n",
    "matpar = {k: k, E0: 1, w1: w1, η: η, L: L}\n",
    "\n",
    "_u0 = t*x/L\n",
    "_alpha0 = 0 \n",
    "\n",
    "atk = DefaultDamage(state, matpar)\n",
    "# ana.criterion()\n",
    "\n",
    "\n",
    "\n",
    "ana = ModelAnalysis(atk)\n",
    "_crit = sp.diff(atk.energy(state), α).subs({u: _u0, α: _alpha0}).simplify()\n",
    "_crit\n",
    "\n",
    "\n",
    "# sp.diff(atk.elastic(state), α).subs({u: _u0}).simplify()\n",
    "\n"
   ]
  },
  {
   "cell_type": "code",
   "execution_count": 8,
   "metadata": {},
   "outputs": [],
   "source": [
    "# _times = np.linspace(0., atk.matpar)\n",
    "_times = np.linspace(0., 3.)\n",
    "_damage = np.linspace(0., 1.)\n"
   ]
  },
  {
   "cell_type": "markdown",
   "metadata": {},
   "source": [
    "### ATk"
   ]
  },
  {
   "cell_type": "code",
   "execution_count": 11,
   "metadata": {},
   "outputs": [],
   "source": [
    "state = {u: u, α: α}\n",
    "_matpar = {k: 2, E0: 1, w1: 1, η: η, L: 1}"
   ]
  },
  {
   "cell_type": "code",
   "execution_count": 12,
   "metadata": {},
   "outputs": [
    {
     "data": {
      "text/latex": [
       "$\\displaystyle 1.0 w_{1} - \\frac{0.5 k t^{2}}{L^{2}}$"
      ],
      "text/plain": [
       "1.0*w1 - 0.5*k*t**2/L**2"
      ]
     },
     "execution_count": 12,
     "metadata": {},
     "output_type": "execute_result"
    }
   ],
   "source": [
    "atk = DefaultDamage(state, matpar)\n",
    "ana = ModelAnalysis(atk)\n",
    "ana.criterion()\n"
   ]
  },
  {
   "cell_type": "code",
   "execution_count": 13,
   "metadata": {},
   "outputs": [
    {
     "data": {
      "text/plain": [
       "1"
      ]
     },
     "execution_count": 13,
     "metadata": {},
     "output_type": "execute_result"
    }
   ],
   "source": [
    "ana.critical_load_N(_matpar)[0][0]"
   ]
  },
  {
   "cell_type": "code",
   "execution_count": 14,
   "metadata": {},
   "outputs": [],
   "source": [
    "_asd = ana.criterion()"
   ]
  },
  {
   "cell_type": "code",
   "execution_count": 15,
   "metadata": {},
   "outputs": [
    {
     "data": {
      "text/plain": [
       "{k: k, E0: 1, w1: w1, η: η, L: L}"
      ]
     },
     "execution_count": 15,
     "metadata": {},
     "output_type": "execute_result"
    }
   ],
   "source": [
    "matpar"
   ]
  },
  {
   "cell_type": "code",
   "execution_count": 189,
   "metadata": {},
   "outputs": [
    {
     "data": {
      "text/latex": [
       "$\\displaystyle 1.0 w_{1} - \\frac{0.5 k t^{2}}{L^{2}}$"
      ],
      "text/plain": [
       "1.0*w1 - 0.5*k*t**2/L**2"
      ]
     },
     "execution_count": 189,
     "metadata": {},
     "output_type": "execute_result"
    }
   ],
   "source": [
    "ana.criterion().subs(matpar)\n"
   ]
  },
  {
   "cell_type": "code",
   "execution_count": 199,
   "metadata": {},
   "outputs": [
    {
     "data": {
      "text/latex": [
       "$\\displaystyle w_{1} - \\frac{0.5 k t^{2}}{L^{2} \\left(k α{\\left(x \\right)} - α{\\left(x \\right)} + 1\\right)^{2}}$"
      ],
      "text/plain": [
       "w1 - 0.5*k*t**2/(L**2*(k*α(x) - α(x) + 1)**2)"
      ]
     },
     "execution_count": 199,
     "metadata": {},
     "output_type": "execute_result"
    }
   ],
   "source": [
    "sp.diff(atk.energy(state), α) \\\n",
    "    .subs({u: _u0, α: α}) \\\n",
    "    .simplify()"
   ]
  },
  {
   "cell_type": "code",
   "execution_count": 188,
   "metadata": {},
   "outputs": [
    {
     "data": {
      "text/latex": [
       "$\\displaystyle 1.0 - 1.0 t^{2}$"
      ],
      "text/plain": [
       "1.0 - 1.0*t**2"
      ]
     },
     "execution_count": 188,
     "metadata": {},
     "output_type": "execute_result"
    }
   ],
   "source": [
    "ana.criterion().subs(_matpar)"
   ]
  },
  {
   "cell_type": "code",
   "execution_count": 198,
   "metadata": {},
   "outputs": [
    {
     "data": {
      "text/plain": [
       "(0.0, 2.0)"
      ]
     },
     "execution_count": 198,
     "metadata": {},
     "output_type": "execute_result"
    },
    {
     "data": {
      "image/png": "[encoded data removed]",
      "text/plain": [
       "<Figure size 640x480 with 1 Axes>"
      ]
     },
     "metadata": {},
     "output_type": "display_data"
    }
   ],
   "source": [
    "_eq = sp.diff(atk.energy(state), α) \\\n",
    "    .subs({u: _u0, α: α}) \\\n",
    "    .simplify()\n",
    "\n",
    "_ah = sp.solve(_eq, α)\n",
    "\n",
    "\n",
    "_ah_f = [sp.lambdify(t, a.subs(_matpar), \"numpy\") for a in _ah]\n",
    "\n",
    "# _ahp = sp.lambdify(t, _ah_sub[0].subs(_matpar), \"numpy\")\n",
    "\n",
    "_times = np.linspace(0., 3)\n",
    "\n",
    "for _a in _ah_f:\n",
    "    plt.plot([_a(t)+2 for t in _times], _times)\n",
    "\n",
    "plt.xlim(0, _matpar[k])\n",
    "# plt.plot()"
   ]
  },
  {
   "cell_type": "markdown",
   "metadata": {},
   "source": [
    "### ATn"
   ]
  },
  {
   "cell_type": "code",
   "execution_count": 38,
   "metadata": {},
   "outputs": [],
   "source": [
    "## Simple Analytic \n",
    "# import visuals\n",
    "\n",
    "E0, L, w1, η, σc = sp.symbols('E0 L w1 η σc')\n",
    "x, t = sp.symbols('x t')\n",
    "α = sp.Function('α')(x)\n",
    "u = sp.Function('u')(x)\n",
    "\n",
    "n = sp.symbols('n')\n"
   ]
  },
  {
   "cell_type": "markdown",
   "metadata": {},
   "source": [
    "#### ATn, n=1 => AT1"
   ]
  },
  {
   "cell_type": "code",
   "execution_count": 39,
   "metadata": {},
   "outputs": [
    {
     "data": {
      "text/latex": [
       "$\\displaystyle 1 - \\frac{1.0 t^{2}}{L^{2}}$"
      ],
      "text/plain": [
       "1 - 1.0*t**2/L**2"
      ]
     },
     "execution_count": 39,
     "metadata": {},
     "output_type": "execute_result"
    }
   ],
   "source": [
    "state = {u: u, α: α}\n",
    "matpar = {n: 1, E0: 1, w1: 1, η: η}\n",
    "_matpar = {n: 1, L: 1, E0: 1, w1: 1, η: η}\n",
    "\n",
    "at1 = DamageATn(state, matpar={n: 1, E0: 1, w1: w1, η: η, L: L}, name=\"at1\")\n",
    "ana = ModelAnalysis(model = at1)\n",
    "ana.criterion()\n"
   ]
  },
  {
   "cell_type": "code",
   "execution_count": 40,
   "metadata": {},
   "outputs": [
    {
     "data": {
      "text/plain": [
       "[{t**2: L**2}]"
      ]
     },
     "execution_count": 40,
     "metadata": {},
     "output_type": "execute_result"
    }
   ],
   "source": [
    "ana.critical_load()"
   ]
  },
  {
   "cell_type": "code",
   "execution_count": 41,
   "metadata": {},
   "outputs": [
    {
     "data": {
      "text/plain": [
       "[-L, L]"
      ]
     },
     "execution_count": 41,
     "metadata": {},
     "output_type": "execute_result"
    }
   ],
   "source": [
    "sp.solve(t**2 - ana.critical_load()[0][t**2], t)"
   ]
  },
  {
   "cell_type": "code",
   "execution_count": 42,
   "metadata": {},
   "outputs": [
    {
     "data": {
      "text/plain": [
       "(array([1]),)"
      ]
     },
     "execution_count": 42,
     "metadata": {},
     "output_type": "execute_result"
    }
   ],
   "source": [
    "ana.critical_load_N(_matpar)"
   ]
  },
  {
   "cell_type": "code",
   "execution_count": 43,
   "metadata": {},
   "outputs": [
    {
     "data": {
      "text/plain": [
       "[-L**2/t**2 + 1.0]"
      ]
     },
     "execution_count": 43,
     "metadata": {},
     "output_type": "execute_result"
    }
   ],
   "source": [
    "ana._homogeneous_alpha()"
   ]
  },
  {
   "cell_type": "code",
   "execution_count": 45,
   "metadata": {},
   "outputs": [
    {
     "data": {
      "text/plain": [
       "(-0.1, 1.0)"
      ]
     },
     "execution_count": 45,
     "metadata": {},
     "output_type": "execute_result"
    },
    {
     "data": {
      "image/png": "[encoded data removed]",
      "text/plain": [
       "<Figure size 576x432 with 1 Axes>"
      ]
     },
     "metadata": {},
     "output_type": "display_data"
    }
   ],
   "source": [
    "\n",
    "fig, ax = ana.plot_homogeneous_alpha(_matpar)\n",
    "ax.set_ylim(-0.1, 1)\n"
   ]
  },
  {
   "cell_type": "code",
   "execution_count": 46,
   "metadata": {},
   "outputs": [
    {
     "data": {
      "text/plain": [
       "[-L**2/t**2 + 1.0]"
      ]
     },
     "execution_count": 46,
     "metadata": {},
     "output_type": "execute_result"
    }
   ],
   "source": [
    "\n",
    "fig, ax = ana.plot_homogeneous_stress(_matpar)\n"
   ]
  },
  {
   "cell_type": "code",
   "execution_count": 23,
   "metadata": {},
   "outputs": [],
   "source": [
    "_ah = ana._homogeneous_alpha()[0]\n",
    "_s = sp.sqrt( 2* ana._wp / ana._sp).subs({α: _ah})\n",
    "\n",
    "_sn = sp.lambdify(t, _s.subs(_matpar), \"numpy\")\n"
   ]
  },
  {
   "cell_type": "code",
   "execution_count": 51,
   "metadata": {},
   "outputs": [
    {
     "name": "stderr",
     "output_type": "stream",
     "text": [
      "<lambdifygenerated-43>:2: RuntimeWarning: divide by zero encountered in double_scalars\n",
      "  return select([greater_equal(t, 1),True], [sqrt((1 - select([greater_equal(t, 1),True], [1.0 - 1/t**2,0], default=nan))**3),t], default=nan)\n"
     ]
    },
    {
     "data": {
      "text/plain": [
       "[<matplotlib.lines.Line2D at 0x1348f48b0>]"
      ]
     },
     "execution_count": 51,
     "metadata": {},
     "output_type": "execute_result"
    },
    {
     "data": {
      "image/png": "[encoded data removed]",
      "text/plain": [
       "<Figure size 432x288 with 1 Axes>"
      ]
     },
     "metadata": {},
     "output_type": "display_data"
    }
   ],
   "source": [
    "_sh = ana._stress()\n",
    "_sn = sp.lambdify(t, _sh.subs(_matpar), \"numpy\")\n",
    "plt.plot(_times, [_sn(t) for t in _times])\n"
   ]
  },
  {
   "cell_type": "code",
   "execution_count": 20,
   "metadata": {},
   "outputs": [
    {
     "data": {
      "text/plain": [
       "<function _lambdifygenerated(t)>"
      ]
     },
     "execution_count": 20,
     "metadata": {},
     "output_type": "execute_result"
    }
   ],
   "source": [
    "\n",
    "_homog_state, (_uf, _af) = ana._homogeneous_state(_matpar)\n",
    "# ax.set_ylim(-0.1, 1)\n",
    "\n",
    "_af\n",
    "# ax.draw()\n",
    "# fig.show()"
   ]
  },
  {
   "cell_type": "code",
   "execution_count": 34,
   "metadata": {},
   "outputs": [],
   "source": [
    "(_homog, _homog_f) = ana._homogeneous_state(_matpar)"
   ]
  },
  {
   "cell_type": "code",
   "execution_count": 22,
   "metadata": {},
   "outputs": [],
   "source": [
    "_u = _homog[0]\n",
    "_alpha = _homog[1]\n",
    "\n",
    "\n",
    "_homog_state = {α: _homog[1], u: _homog[0]}"
   ]
  },
  {
   "cell_type": "code",
   "execution_count": 23,
   "metadata": {},
   "outputs": [
    {
     "data": {
      "text/latex": [
       "$\\displaystyle \\begin{cases} - \\frac{L^{2}}{t^{2}} + 1.0 & \\text{for}\\: t \\geq 1 \\\\0 & \\text{otherwise} \\end{cases} + \\frac{0.5 t^{2} \\left(1 - \\begin{cases} - \\frac{L^{2}}{t^{2}} + 1.0 & \\text{for}\\: t \\geq 1 \\\\0 & \\text{otherwise} \\end{cases}\\right)^{2}}{L^{2}}$"
      ],
      "text/plain": [
       "Piecewise((-L**2/t**2 + 1.0, t >= 1), (0, True)) + 0.5*t**2*(1 - Piecewise((-L**2/t**2 + 1.0, t >= 1), (0, True)))**2/L**2"
      ]
     },
     "execution_count": 23,
     "metadata": {},
     "output_type": "execute_result"
    }
   ],
   "source": [
    "at1.energy(_homog_state).subs({α: _homog[1]})"
   ]
  },
  {
   "cell_type": "code",
   "execution_count": 24,
   "metadata": {},
   "outputs": [
    {
     "name": "stderr",
     "output_type": "stream",
     "text": [
      "<lambdifygenerated-8>:2: RuntimeWarning: divide by zero encountered in double_scalars\n",
      "  return 0.5*t**2*(1 - select([greater_equal(t, 1),True], [1.0 - 1/t**2,0], default=nan))**2 + select([greater_equal(t, 1),True], [1.0 - 1/t**2,0], default=nan)\n",
      "<lambdifygenerated-9>:2: RuntimeWarning: divide by zero encountered in double_scalars\n",
      "  return select([greater_equal(t, 1),True], [1.0 - 1/t**2,0], default=nan)\n",
      "<lambdifygenerated-10>:2: RuntimeWarning: divide by zero encountered in double_scalars\n",
      "  return 0.5*t**2*(1 - select([greater_equal(t, 1),True], [1.0 - 1/t**2,0], default=nan))**2\n"
     ]
    },
    {
     "data": {
      "text/plain": [
       "[<matplotlib.lines.Line2D at 0x13b0d08b0>]"
      ]
     },
     "execution_count": 24,
     "metadata": {},
     "output_type": "execute_result"
    }
   ],
   "source": [
    "_en_h = sp.lambdify(t, at1.energy(_homog_state).subs({α: _homog[1]}).subs(_matpar), \"numpy\")\n",
    "_en_dam_h = sp.lambdify(t, at1._damage(_homog_state).subs({α: _homog[1]}).subs(_matpar), \"numpy\")\n",
    "_en_ela_h = sp.lambdify(t, at1._elastic(_homog_state).subs({α: _homog[1]}).subs(_matpar), \"numpy\")\n",
    "\n",
    "plt.plot(np.linspace(0., 3.), [_en_h(t) for t in np.linspace(0., 3.)], c=\"C0\")\n",
    "plt.plot(np.linspace(0., 3.), [_en_dam_h(t) for t in np.linspace(0., 3.)], c=\"C1\")\n",
    "plt.plot(np.linspace(0., 3.), [_en_ela_h(t) for t in np.linspace(0., 3.)], c=\"C2\")\n"
   ]
  },
  {
   "cell_type": "code",
   "execution_count": 55,
   "metadata": {},
   "outputs": [
    {
     "name": "stderr",
     "output_type": "stream",
     "text": [
      "<lambdifygenerated-13>:2: RuntimeWarning: divide by zero encountered in double_scalars\n",
      "  return (_Dummy_330 - 1)**(-2.0)\n",
      "<lambdifygenerated-14>:2: RuntimeWarning: divide by zero encountered in double_scalars\n",
      "  return -2/(_Dummy_331 - 1)**3\n",
      "<lambdifygenerated-15>:2: RuntimeWarning: divide by zero encountered in double_scalars\n",
      "  return 6/(_Dummy_332 - 1)**4\n"
     ]
    },
    {
     "data": {
      "image/png": "[encoded data removed]",
      "text/plain": [
       "<Figure size 576x432 with 3 Axes>"
      ]
     },
     "metadata": {},
     "output_type": "display_data"
    }
   ],
   "source": [
    "ana.plot_material()"
   ]
  },
  {
   "cell_type": "code",
   "execution_count": null,
   "metadata": {},
   "outputs": [],
   "source": [
    "# Localised branches\n",
    "••"
   ]
  },
  {
   "cell_type": "code",
   "execution_count": 66,
   "metadata": {},
   "outputs": [],
   "source": [
    "ah = ana._homogeneous_alpha()\n",
    "_tc = ana.critical_load_N(_matpar)[0][0]\n",
    "\n",
    "# _af = sp.lambdify(t, ah[0].subs(_matpar), \"numpy\")\n",
    "\n",
    "_homogeneous_alpha = sp.Piecewise((ah[0], t >= _tc), (0, t < _tc))\n",
    "\n",
    "_af = sp.lambdify(t, _homogeneous_alpha.subs(_matpar), \"numpy\")\n",
    "\n"
   ]
  },
  {
   "cell_type": "code",
   "execution_count": 69,
   "metadata": {},
   "outputs": [
    {
     "name": "stderr",
     "output_type": "stream",
     "text": [
      "<lambdifygenerated-20>:2: RuntimeWarning: divide by zero encountered in double_scalars\n",
      "  return select([greater_equal(t, 1),True], [1.0 - 1/t**2,0], default=nan)\n"
     ]
    },
    {
     "data": {
      "text/plain": [
       "[<matplotlib.lines.Line2D at 0x161d2cbb0>]"
      ]
     },
     "execution_count": 69,
     "metadata": {},
     "output_type": "execute_result"
    },
    {
     "data": {
      "image/png": "[encoded data removed]",
      "text/plain": [
       "<Figure size 432x288 with 1 Axes>"
      ]
     },
     "metadata": {},
     "output_type": "display_data"
    }
   ],
   "source": [
    "plt.plot(np.linspace(0., 3., 100), [_af(t) for t in np.linspace(0., 3., 100)], c=\"C0\")\n"
   ]
  },
  {
   "cell_type": "markdown",
   "metadata": {},
   "source": [
    "### PQ"
   ]
  },
  {
   "cell_type": "code",
   "execution_count": 156,
   "metadata": {},
   "outputs": [
    {
     "data": {
      "text/latex": [
       "$\\displaystyle \\frac{\\left(p + q\\right) \\left(- \\frac{0.5 E_{0}^{2} t^{2}}{L^{2}} + σc^{2}\\right)}{E_{0}}$"
      ],
      "text/plain": [
       "(p + q)*(-0.5*E0**2*t**2/L**2 + σc**2)/E0"
      ]
     },
     "execution_count": 156,
     "metadata": {},
     "output_type": "execute_result"
    }
   ],
   "source": [
    "state = {u: u, α: α}\n",
    "p, q, E0, L, w1, η, σc = sp.symbols('p q E0 L w1 η σc')\n",
    "\n",
    "# _matpar = {n: 1, L: 1, E0: 1, w1: 1, η: η}\n",
    "\n",
    "dpq = DamagePQ(state, matpar={}, name=\"pq\")\n",
    "ana = ModelAnalysis(model = dpq)\n",
    "ana.criterion()\n"
   ]
  },
  {
   "cell_type": "code",
   "execution_count": 151,
   "metadata": {},
   "outputs": [
    {
     "data": {
      "text/latex": [
       "$\\displaystyle p + q$"
      ],
      "text/plain": [
       "p + q"
      ]
     },
     "execution_count": 151,
     "metadata": {},
     "output_type": "execute_result"
    }
   ],
   "source": [
    "_sp.subs({α: 0})"
   ]
  },
  {
   "cell_type": "code",
   "execution_count": 157,
   "metadata": {},
   "outputs": [
    {
     "data": {
      "text/latex": [
       "$\\displaystyle - \\frac{8.88576587631673 E_{0} σc^{2} \\left(p + q\\right)^{2}}{\\left(σc^{2} \\left(p^{3} + 3 p^{2} q - 3 p^{2} + 3 p q^{2} + 2 p + q^{3} + 3 q^{2} + 2 q\\right)\\right)^{1.5}}$"
      ],
      "text/plain": [
       "-8.88576587631673*E0*σc**2*(p + q)**2/(σc**2*(p**3 + 3*p**2*q - 3*p**2 + 3*p*q**2 + 2*p + q**3 + 3*q**2 + 2*q))**1.5"
      ]
     },
     "execution_count": 157,
     "metadata": {},
     "output_type": "execute_result"
    }
   ],
   "source": [
    "ana._deps_1_d_dσ()"
   ]
  },
  {
   "cell_type": "code",
   "execution_count": 159,
   "metadata": {},
   "outputs": [
    {
     "data": {
      "text/latex": [
       "$\\displaystyle - \\frac{8.88576587631673 \\left(p + q\\right)^{2}}{\\left(p^{3} + 3 p^{2} q - 3 p^{2} + 3 p q^{2} + 2 p + q^{3} + 3 q^{2} + 2 q\\right)^{1.5}}$"
      ],
      "text/plain": [
       "-8.88576587631673*(p + q)**2/(p**3 + 3*p**2*q - 3*p**2 + 3*p*q**2 + 2*p + q**3 + 3*q**2 + 2*q)**1.5"
      ]
     },
     "execution_count": 159,
     "metadata": {},
     "output_type": "execute_result"
    }
   ],
   "source": [
    "ana._deps_1_d_dσ() \\\n",
    "    .subs({E0: 1, σc: 1})"
   ]
  },
  {
   "cell_type": "code",
   "execution_count": 174,
   "metadata": {},
   "outputs": [],
   "source": [
    "_u0 = t*x/L\n",
    "\n",
    "_eq = sp.diff(ana.model.energy(state), α)   \\\n",
    "    .subs({u: _u0, α: α})                   \\\n",
    "    .subs({E0: 1, w1: 1, p:2, q: 2, σc:1, L:1 })                   \\\n",
    "    .simplify()\n",
    "\n",
    "_eq.simplify()\n",
    "\n",
    "_ans = sp.solve(_eq, α)"
   ]
  },
  {
   "cell_type": "code",
   "execution_count": 190,
   "metadata": {},
   "outputs": [
    {
     "ename": "NotImplementedError",
     "evalue": "multiple generators [(1 - _X0)**q, (_X0 + 1)**p, _X0]\nNo algorithms are implemented to solve equation E0**2*p*t**2*(1 - _X0)**(q + 1)*(_X0 + 1)**p/(2*L**2) + E0**2*q*t**2*(1 - _X0)**q*(_X0 + 1)**(p + 1)/(2*L**2) + σc**2*(_X0 - 1)*(_X0 + 1)**(2*p + 1)*(p + q)",
     "output_type": "error",
     "traceback": [
      "\u001b[0;31m---------------------------------------------------------------------------\u001b[0m",
      "\u001b[0;31mNotImplementedError\u001b[0m                       Traceback (most recent call last)",
      "\u001b[1;32m/Users/kumiori/Documents/WIP/m4s-MEC647/mec647/playground/nb/class_stability.ipynb Cell 54'\u001b[0m in \u001b[0;36m<cell line: 1>\u001b[0;34m()\u001b[0m\n\u001b[0;32m----> <a href='vscode-notebook-cell:/Users/kumiori/Documents/WIP/m4s-MEC647/mec647/playground/nb/class_stability.ipynb#ch0000068?line=0'>1</a>\u001b[0m ah \u001b[39m=\u001b[39m ana\u001b[39m.\u001b[39;49m_homogeneous_alpha()\n",
      "\u001b[1;32m/Users/kumiori/Documents/WIP/m4s-MEC647/mec647/playground/nb/class_stability.ipynb Cell 9'\u001b[0m in \u001b[0;36mModelAnalysis._homogeneous_alpha\u001b[0;34m(self)\u001b[0m\n\u001b[1;32m     <a href='vscode-notebook-cell:/Users/kumiori/Documents/WIP/m4s-MEC647/mec647/playground/nb/class_stability.ipynb#ch0000009?line=56'>57</a>\u001b[0m _eq \u001b[39m=\u001b[39m sp\u001b[39m.\u001b[39mdiff(\u001b[39mself\u001b[39m\u001b[39m.\u001b[39mmodel\u001b[39m.\u001b[39menergy(state), α) \\\n\u001b[1;32m     <a href='vscode-notebook-cell:/Users/kumiori/Documents/WIP/m4s-MEC647/mec647/playground/nb/class_stability.ipynb#ch0000009?line=57'>58</a>\u001b[0m     \u001b[39m.\u001b[39msubs({u: _u0, α: α})         \\\n\u001b[1;32m     <a href='vscode-notebook-cell:/Users/kumiori/Documents/WIP/m4s-MEC647/mec647/playground/nb/class_stability.ipynb#ch0000009?line=58'>59</a>\u001b[0m     \u001b[39m.\u001b[39msimplify()\n\u001b[1;32m     <a href='vscode-notebook-cell:/Users/kumiori/Documents/WIP/m4s-MEC647/mec647/playground/nb/class_stability.ipynb#ch0000009?line=59'>60</a>\u001b[0m \u001b[39m# return sp.solve(self.crit, t**2, 0)\u001b[39;00m\n\u001b[0;32m---> <a href='vscode-notebook-cell:/Users/kumiori/Documents/WIP/m4s-MEC647/mec647/playground/nb/class_stability.ipynb#ch0000009?line=61'>62</a>\u001b[0m _ah \u001b[39m=\u001b[39m sp\u001b[39m.\u001b[39;49msolve(_eq, α)\n\u001b[1;32m     <a href='vscode-notebook-cell:/Users/kumiori/Documents/WIP/m4s-MEC647/mec647/playground/nb/class_stability.ipynb#ch0000009?line=62'>63</a>\u001b[0m \u001b[39mreturn\u001b[39;00m _ah\n",
      "File \u001b[0;32m/opt/homebrew/lib/python3.9/site-packages/sympy/solvers/solvers.py:1106\u001b[0m, in \u001b[0;36msolve\u001b[0;34m(f, *symbols, **flags)\u001b[0m\n\u001b[1;32m   <a href='file:///opt/homebrew/lib/python3.9/site-packages/sympy/solvers/solvers.py?line=1101'>1102</a>\u001b[0m \u001b[39m#\u001b[39;00m\n\u001b[1;32m   <a href='file:///opt/homebrew/lib/python3.9/site-packages/sympy/solvers/solvers.py?line=1102'>1103</a>\u001b[0m \u001b[39m# try to get a solution\u001b[39;00m\n\u001b[1;32m   <a href='file:///opt/homebrew/lib/python3.9/site-packages/sympy/solvers/solvers.py?line=1103'>1104</a>\u001b[0m \u001b[39m###########################################################################\u001b[39;00m\n\u001b[1;32m   <a href='file:///opt/homebrew/lib/python3.9/site-packages/sympy/solvers/solvers.py?line=1104'>1105</a>\u001b[0m \u001b[39mif\u001b[39;00m bare_f:\n\u001b[0;32m-> <a href='file:///opt/homebrew/lib/python3.9/site-packages/sympy/solvers/solvers.py?line=1105'>1106</a>\u001b[0m     solution \u001b[39m=\u001b[39m _solve(f[\u001b[39m0\u001b[39;49m], \u001b[39m*\u001b[39;49msymbols, \u001b[39m*\u001b[39;49m\u001b[39m*\u001b[39;49mflags)\n\u001b[1;32m   <a href='file:///opt/homebrew/lib/python3.9/site-packages/sympy/solvers/solvers.py?line=1106'>1107</a>\u001b[0m \u001b[39melse\u001b[39;00m:\n\u001b[1;32m   <a href='file:///opt/homebrew/lib/python3.9/site-packages/sympy/solvers/solvers.py?line=1107'>1108</a>\u001b[0m     solution \u001b[39m=\u001b[39m _solve_system(f, symbols, \u001b[39m*\u001b[39m\u001b[39m*\u001b[39mflags)\n",
      "File \u001b[0;32m/opt/homebrew/lib/python3.9/site-packages/sympy/solvers/solvers.py:1394\u001b[0m, in \u001b[0;36m_solve\u001b[0;34m(f, *symbols, **flags)\u001b[0m\n\u001b[1;32m   <a href='file:///opt/homebrew/lib/python3.9/site-packages/sympy/solvers/solvers.py?line=1391'>1392</a>\u001b[0m         result \u001b[39m=\u001b[39m \u001b[39mset\u001b[39m()\n\u001b[1;32m   <a href='file:///opt/homebrew/lib/python3.9/site-packages/sympy/solvers/solvers.py?line=1392'>1393</a>\u001b[0m         \u001b[39mbreak\u001b[39;00m\n\u001b[0;32m-> <a href='file:///opt/homebrew/lib/python3.9/site-packages/sympy/solvers/solvers.py?line=1393'>1394</a>\u001b[0m     soln \u001b[39m=\u001b[39m _solve(m, symbol, \u001b[39m*\u001b[39;49m\u001b[39m*\u001b[39;49mflags)\n\u001b[1;32m   <a href='file:///opt/homebrew/lib/python3.9/site-packages/sympy/solvers/solvers.py?line=1394'>1395</a>\u001b[0m     result\u001b[39m.\u001b[39mupdate(\u001b[39mset\u001b[39m(soln))\n\u001b[1;32m   <a href='file:///opt/homebrew/lib/python3.9/site-packages/sympy/solvers/solvers.py?line=1395'>1396</a>\u001b[0m result \u001b[39m=\u001b[39m \u001b[39mlist\u001b[39m(result)\n",
      "File \u001b[0;32m/opt/homebrew/lib/python3.9/site-packages/sympy/solvers/solvers.py:1720\u001b[0m, in \u001b[0;36m_solve\u001b[0;34m(f, *symbols, **flags)\u001b[0m\n\u001b[1;32m   <a href='file:///opt/homebrew/lib/python3.9/site-packages/sympy/solvers/solvers.py?line=1716'>1717</a>\u001b[0m \u001b[39m# ----------- end of fallback ----------------------------\u001b[39;00m\n\u001b[1;32m   <a href='file:///opt/homebrew/lib/python3.9/site-packages/sympy/solvers/solvers.py?line=1718'>1719</a>\u001b[0m \u001b[39mif\u001b[39;00m result \u001b[39mis\u001b[39;00m \u001b[39mFalse\u001b[39;00m:\n\u001b[0;32m-> <a href='file:///opt/homebrew/lib/python3.9/site-packages/sympy/solvers/solvers.py?line=1719'>1720</a>\u001b[0m     \u001b[39mraise\u001b[39;00m \u001b[39mNotImplementedError\u001b[39;00m(\u001b[39m'\u001b[39m\u001b[39m\\n\u001b[39;00m\u001b[39m'\u001b[39m\u001b[39m.\u001b[39mjoin([msg, not_impl_msg \u001b[39m%\u001b[39m f]))\n\u001b[1;32m   <a href='file:///opt/homebrew/lib/python3.9/site-packages/sympy/solvers/solvers.py?line=1721'>1722</a>\u001b[0m \u001b[39mif\u001b[39;00m flags\u001b[39m.\u001b[39mget(\u001b[39m'\u001b[39m\u001b[39msimplify\u001b[39m\u001b[39m'\u001b[39m, \u001b[39mTrue\u001b[39;00m):\n\u001b[1;32m   <a href='file:///opt/homebrew/lib/python3.9/site-packages/sympy/solvers/solvers.py?line=1722'>1723</a>\u001b[0m     result \u001b[39m=\u001b[39m \u001b[39mlist\u001b[39m(\u001b[39mmap\u001b[39m(simplify, result))\n",
      "\u001b[0;31mNotImplementedError\u001b[0m: multiple generators [(1 - _X0)**q, (_X0 + 1)**p, _X0]\nNo algorithms are implemented to solve equation E0**2*p*t**2*(1 - _X0)**(q + 1)*(_X0 + 1)**p/(2*L**2) + E0**2*q*t**2*(1 - _X0)**q*(_X0 + 1)**(p + 1)/(2*L**2) + σc**2*(_X0 - 1)*(_X0 + 1)**(2*p + 1)*(p + q)"
     ]
    }
   ],
   "source": [
    "ah = ana._homogeneous_alpha()\n"
   ]
  },
  {
   "cell_type": "code",
   "execution_count": 180,
   "metadata": {},
   "outputs": [
    {
     "data": {
      "text/plain": [
       "3"
      ]
     },
     "execution_count": 180,
     "metadata": {},
     "output_type": "execute_result"
    }
   ],
   "source": [
    "len(_ans)"
   ]
  },
  {
   "cell_type": "code",
   "execution_count": 185,
   "metadata": {},
   "outputs": [
    {
     "name": "stderr",
     "output_type": "stream",
     "text": [
      "<lambdifygenerated-48>:2: RuntimeWarning: invalid value encountered in double_scalars\n",
      "  return 0.209986841649146*t**2/(-t**2 + sqrt(0.0185185185185185*t**6 + t**4))**(1/3) - 0.7937005259841*(-t**2 + sqrt(0.0185185185185185*t**6 + t**4))**(1/3) - 1.0\n",
      "<lambdifygenerated-49>:2: RuntimeWarning: invalid value encountered in cdouble_scalars\n",
      "  return 0.209986841649146*t**2*(-0.5 - 0.866025403784439*1j)/(-t**2 + sqrt(0.0185185185185185*t**6 + t**4))**(1/3) - 0.7937005259841*(-0.5 + 0.866025403784439*1j)*(-t**2 + sqrt(0.0185185185185185*t**6 + t**4))**(1/3) - 1.0\n",
      "/opt/homebrew/lib/python3.9/site-packages/matplotlib/cbook/__init__.py:1298: ComplexWarning: Casting complex values to real discards the imaginary part\n",
      "  return np.asarray(x, float)\n",
      "<lambdifygenerated-50>:2: RuntimeWarning: invalid value encountered in cdouble_scalars\n",
      "  return 0.209986841649146*t**2*(-0.5 + 0.866025403784439*1j)/(-t**2 + sqrt(0.0185185185185185*t**6 + t**4))**(1/3) - 0.7937005259841*(-0.5 - 0.866025403784439*1j)*(-t**2 + sqrt(0.0185185185185185*t**6 + t**4))**(1/3) - 1.0\n",
      "/opt/homebrew/lib/python3.9/site-packages/matplotlib/cbook/__init__.py:1298: ComplexWarning: Casting complex values to real discards the imaginary part\n",
      "  return np.asarray(x, float)\n"
     ]
    },
    {
     "data": {
      "text/plain": [
       "<matplotlib.legend.Legend at 0x165a66b80>"
      ]
     },
     "execution_count": 185,
     "metadata": {},
     "output_type": "execute_result"
    },
    {
     "data": {
      "image/png": "[encoded data removed]",
      "text/plain": [
       "<Figure size 432x288 with 1 Axes>"
      ]
     },
     "metadata": {},
     "output_type": "display_data"
    }
   ],
   "source": [
    "for i, _a in enumerate(_ans):\n",
    "    _af = sp.lambdify(t, _a, \"numpy\")\n",
    "    plt.plot(np.linspace(0., 3.), [_af(t) for t in np.linspace(0., 3.)], label=f\"{i}\")\n",
    "\n",
    "plt.legend()\n"
   ]
  },
  {
   "cell_type": "code",
   "execution_count": 189,
   "metadata": {},
   "outputs": [
    {
     "name": "stderr",
     "output_type": "stream",
     "text": [
      "<lambdifygenerated-54>:2: RuntimeWarning: invalid value encountered in double_scalars\n",
      "  return 0.209986841649146*t**2/(-t**2 + sqrt(0.0185185185185185*t**6 + t**4))**(1/3) - 0.7937005259841*(-t**2 + sqrt(0.0185185185185185*t**6 + t**4))**(1/3) - 1.0\n"
     ]
    },
    {
     "data": {
      "text/plain": [
       "<matplotlib.legend.Legend at 0x165bdff40>"
      ]
     },
     "execution_count": 189,
     "metadata": {},
     "output_type": "execute_result"
    },
    {
     "data": {
      "image/png": "[encoded data removed]",
      "text/plain": [
       "<Figure size 432x288 with 1 Axes>"
      ]
     },
     "metadata": {},
     "output_type": "display_data"
    }
   ],
   "source": [
    "_af = sp.lambdify(t, _ans[0], \"numpy\")\n",
    "plt.plot(np.linspace(0., 3.), [_af(t) for t in np.linspace(0., 3.)], label=f\"{i}\")\n",
    "\n",
    "plt.legend()\n"
   ]
  },
  {
   "cell_type": "code",
   "execution_count": null,
   "metadata": {},
   "outputs": [],
   "source": []
  }
 ],
 "metadata": {
  "interpreter": {
   "hash": "b0fa6594d8f4cbf19f97940f81e996739fb7646882a419484c72d19e05852a7e"
  },
  "kernelspec": {
   "display_name": "Python 3.9.13 64-bit",
   "language": "python",
   "name": "python3"
  },
  "language_info": {
   "codemirror_mode": {
    "name": "ipython",
    "version": 3
   },
   "file_extension": ".py",
   "mimetype": "text/x-python",
   "name": "python",
   "nbconvert_exporter": "python",
   "pygments_lexer": "ipython3",
   "version": "3.9.13"
  },
  "orig_nbformat": 4
 },
 "nbformat": 4,
 "nbformat_minor": 2
}
