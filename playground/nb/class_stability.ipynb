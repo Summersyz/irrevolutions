{
 "cells": [
  {
   "cell_type": "code",
   "execution_count": 1,
   "metadata": {},
   "outputs": [
    {
     "name": "stdout",
     "output_type": "stream",
     "text": [
      "postproc\n"
     ]
    }
   ],
   "source": [
    "# Testing Pacman\n",
    "import postprocess as pp\n",
    "import plots as plots\n",
    "import sympy as sp\n",
    "import numpy as np\n",
    "import matplotlib.pyplot as plt\n",
    "# %matplotlib inline\n",
    "\n",
    "from pathlib import Path "
   ]
  },
  {
   "cell_type": "code",
   "execution_count": 2,
   "metadata": {},
   "outputs": [],
   "source": [
    "# import matplotlib as mpl\n",
    "# mpl.rcParams.update(mpl.rcParamsDefault)\n"
   ]
  },
  {
   "cell_type": "markdown",
   "metadata": {},
   "source": [
    "## Analyis helps"
   ]
  },
  {
   "cell_type": "code",
   "execution_count": 3,
   "metadata": {},
   "outputs": [],
   "source": [
    "def _critical_load(matpar):\n",
    "    _mu, _k, _w1, _N = matpar[\"mu\"], matpar[\"k\"], matpar[\"w1\"], matpar[\"N\"]\n",
    "    return np.sqrt(8*_w1 / (_mu*_k)/4)\n",
    "    # independent of _N**2\n",
    "\n",
    "\n",
    "def _homogeneous_state(t, matpar):\n",
    "    \"\"\"docstring for _homogeneous_state\"\"\"\n",
    "    _mu, _k, _w1, _N = matpar[\"mu\"], matpar[\"k\"], matpar[\"w1\"], matpar[\"N\"]\n",
    "\n",
    "\n",
    "    # _tc = np.sqrt(matpar/k)\n",
    "    # _a = (tau - 1) / (_k - 1)\n",
    "\n",
    "    _tc = _critical_load(params[\"model\"])\n",
    "    _uh = [0 for i in range(0, _N+1)]\n",
    "    \n",
    "    if t <= _tc:\n",
    "        # elastic\n",
    "        _alphah = [0. for i in range(0, _N)]\n",
    "        _uh = [i*t/_N for i in range(0, _N+1)]\n",
    "    else:   \n",
    "        # damaging\n",
    "        _α = (t/_tc - 1) / (_k - 1)\n",
    "        _alphah = [_α for i in range(0, _N)]\n",
    "\n",
    "        # _S = reduce(lambda a, b: a+b, list(map(a_atk, _alphah)))\n",
    "        \n",
    "        _S = _N*a_atk(_α)\n",
    "\n",
    "        _e = t / _N\n",
    "        for i in range(0, _N+1):\n",
    "            if i == 0:\n",
    "                _uh[i] = 0\n",
    "            else: \n",
    "                _uh[i] = _e * i\n",
    "        # _uh = [a_atk(_α) / (_N*a_atk(_α)) * i/_N for i in range(0, _N+1)]\n",
    "        # print(t, _e)\n",
    "    return _alphah, _uh"
   ]
  },
  {
   "cell_type": "code",
   "execution_count": 4,
   "metadata": {},
   "outputs": [],
   "source": [
    "class DefaultDamage:\n",
    "    def __init__(self, state, matpar, name = \"Default damage model: atk aka JJK aka LS\"):\n",
    "        self.state = state\n",
    "        self.matpar = matpar\n",
    "        self.str = name\n",
    "\n",
    "    def _a(self, α):\n",
    "        _α = self.state[α]\n",
    "        # _α = α\n",
    "        # _E0 = self.matpar[E0]\n",
    "        _k = self.matpar[k]\n",
    "\n",
    "        return (1 - α) / ((_k-1) * α + 1)\n",
    "\n",
    "    def _w(self, _α):\n",
    "        _α = α\n",
    "        # _w1 = self.matpar[w1]\n",
    "\n",
    "        return _α\n",
    "\n",
    "    def energy(self, state):\n",
    "        \"\"\"Total energy\"\"\"\n",
    "        return self._elastic(state) + self._damage(state) - self.work(state)\n",
    "\n",
    "    def work(self, state):\n",
    "        return 0\n",
    "\n",
    "    def _elastic(self, state):\n",
    "        _E0 = self.matpar[E0]\n",
    "        _u = state[u]\n",
    "        _α = state[α]\n",
    "\n",
    "        return 1./2. * _E0 * self._a(_α) * sp.diff(_u, x)**2 \n",
    "\n",
    "    def _damage(self, state):\n",
    "        _α = state[α]\n",
    "        _w1 = matpar[w1]\n",
    "        _η = matpar[η]\n",
    "\n",
    "        return _w1 * (self._w(_α) + matpar[η]**2 * sp.diff(_α, x)) \n",
    "\n",
    "\n",
    "    def __str__(self):\n",
    "     return self.str\n",
    "\n",
    "\n",
    "class DamageATSN(DefaultDamage):\n",
    "    \"\"\"docstring for Model\"\"\"\n",
    "    def __init__(self, state, matpar, name = \"ATk Damage Model, Seb Neukirch\"):\n",
    "        super(DefaultDamage, self).__init__(matpar, name = \"Damage Model\")\n",
    "\n",
    "    def _a(self, state):\n",
    "        α = state[α]\n",
    "        _E0 = self.matpar[E0]\n",
    "\n",
    "        # return (1 - α)**2\n",
    "\n",
    "    def _w(self, _α):\n",
    "        _α = α\n",
    "        _n = self.matpar[n]\n",
    "        return 1-(1.-_α)**2\n",
    "\n",
    "\n",
    "class DamageATn(DefaultDamage):\n",
    "    \"\"\"docstring for Model\"\"\"\n",
    "    def __init__(self, state, matpar, name = \"ATn Damage Model\"):\n",
    "        super(DamageATn, self).__init__(state, matpar, name = \"Damage Model\")\n",
    "\n",
    "    def _a(self, α):\n",
    "        return (1 - α)**2\n",
    "\n",
    "    def _w(self, _α):\n",
    "        _α = α\n",
    "        _n = self.matpar[n]\n",
    "        return _α**_n\n",
    "\n",
    "\n",
    "class DamagePQ(DefaultDamage):\n",
    "    \"\"\"Particularly interesting model, as per marigo-2012\"\"\"\n",
    "    def __init__(self, state, matpar = {}, name = \"PQ Damage Model\"):\n",
    "        if matpar == {}:\n",
    "            p, q, E0, L, w1, η, σc = sp.symbols('p q E0 L w1 η σc')\n",
    "            _matpar = {p: p, q: q, E0: E0, w1: w1, η: η, L: L, σc: σc}\n",
    "            self._matpar = _matpar\n",
    "            # TODO: fix redundancies, like below\n",
    "            # self.matpar = _matpar\n",
    "\n",
    "        super(DamagePQ, self).__init__(state, _matpar, name = \"PQ Damage Model\")\n",
    "\n",
    "    def _a(self, α):\n",
    "        _q = self._matpar[q]\n",
    "        _p = self._matpar[p]\n",
    "\n",
    "        return (1 - α)**_q / (1 + α)**_p  \n",
    "\n",
    "    def _w(self, _α):\n",
    "        \n",
    "        \n",
    "        _α = α\n",
    "        _q = self._matpar[q]\n",
    "        _p = self._matpar[p]\n",
    "        _σc = self._matpar[σc]\n",
    "        _E0 = self._matpar[E0]\n",
    "\n",
    "        return (_p+_q) * _α * _σc**2 / _E0\n",
    "\n",
    "\n",
    "class DamagePQ2(DefaultDamage):\n",
    "    \"\"\"Particularly interesting other model, as per marigo-2012, \n",
    "        Requires: q > p > 0\n",
    "    \"\"\"\n",
    "    def __init__(self, state, matpar = {}, name = \"PQ Damage Model\"):\n",
    "        if matpar == {}:\n",
    "            p, q, E0, L, w1, η, σc = sp.symbols('p q E0 L w1 η σc')\n",
    "            _matpar = {p: p, q: q, E0: E0, w1: w1, η: η, L: L, σc: σc}\n",
    "            self._matpar = _matpar\n",
    "            # TODO: fix redundancies, like below\n",
    "            # self.matpar = _matpar\n",
    "\n",
    "        super(DamagePQ, self).__init__(state, _matpar, name = \"PQ Damage Model\")\n",
    "\n",
    "    def _a(self, α):\n",
    "        _q = self._matpar[q]\n",
    "        _p = self._matpar[p]\n",
    "\n",
    "        return (1 - α)**_q \n",
    "\n",
    "    def _w(self, _α):\n",
    "        \n",
    "        _α = α\n",
    "        _q = self._matpar[q]\n",
    "        _p = self._matpar[p]\n",
    "        _σc = self._matpar[σc]\n",
    "        _E0 = self._matpar[E0]\n",
    "\n",
    "        return _q * _σc**2 / (2.* _p * _E0)  * (1.-(1.-_α)**_p)\n",
    "\n",
    "\n",
    "class PerfectBrittle(DefaultDamage):\n",
    "    \"\"\"Perfectly brittle model, as per marigo-2012, \n",
    "        w'/E' is constant\n",
    "    \"\"\"\n",
    "    def __init__(self, state, matpar = {}, name = \"PQ Damage Model\"):\n",
    "        if matpar == {}:\n",
    "            p, q, E0, L, w1, η, σc = sp.symbols('p q E0 L w1 η σc')\n",
    "            _matpar = {p: p, q: q, E0: E0, w1: w1, η: η, L: L, σc: σc}\n",
    "            self._matpar = _matpar\n",
    "            # TODO: fix redundancies, like below\n",
    "            # self.matpar = _matpar\n",
    "\n",
    "        super(DamagePQ, self).__init__(state, _matpar, name = \"PQ Damage Model\")\n",
    "\n",
    "    def _a(self, α):\n",
    "        _q = self._matpar[q]\n",
    "        _p = self._matpar[p]\n",
    "\n",
    "        # return (1 - α)**_q \n",
    "        # return ?\n",
    "\n",
    "    def _w(self, _α):\n",
    "        \n",
    "        _α = α\n",
    "        _σc = self._matpar[σc]\n",
    "        _E0 = self._matpar[E0]\n",
    "        _ec = _σc / _E0\n",
    "\n",
    "        return _E0 * (1 - self._a) * _ec**2 /2.\n"
   ]
  },
  {
   "cell_type": "code",
   "execution_count": 5,
   "metadata": {},
   "outputs": [],
   "source": [
    "## Simple Analytic \n",
    "# import visuals\n",
    "E0, L, w1, η, σc = sp.symbols('E0 L w1 η σc')\n",
    "# k = sp.symbols('k', integer = True)\n",
    "x, t = sp.symbols('x t')\n",
    "α = sp.Function('α')(x)\n",
    "u = sp.Function('u')(x)\n"
   ]
  },
  {
   "cell_type": "markdown",
   "metadata": {},
   "source": [
    "### Homogeneous sound solution\n",
    "<!-- u = tx -->\n",
    "<!-- alpha = 0 -->"
   ]
  },
  {
   "cell_type": "code",
   "execution_count": 36,
   "metadata": {},
   "outputs": [],
   "source": [
    "class ModelAnalysis:\n",
    "    \"\"\"Helper class to analyse stability properties of a model\"\"\"\n",
    "    def __init__(self, model):\n",
    "        self.model = model\n",
    "        self.state = model.state\n",
    "        self.matpar = model.matpar\n",
    "\n",
    "        self._s = 1/self.model._a(state[α])\n",
    "        self._sp = sp.diff(self._s, state[α], 1)\n",
    "        self._spp = sp.diff(self._s, state[α], 2)\n",
    "\n",
    "        self._a = self.model._a(state[α])\n",
    "        self._ap = sp.diff(self._a, state[α], 1)\n",
    "        self._app = sp.diff(self._a, state[α], 2)\n",
    "\n",
    "        self._w = self.model._w(state[α])\n",
    "        self._wp = sp.diff(self._w, state[α])\n",
    "        self._wpp = sp.diff(self._w, state[α], 2)\n",
    "\n",
    "    def criterion(self):\n",
    "        \"\"\"Damage onset\"\"\"\n",
    "        model, state = self.model, self.state\n",
    "\n",
    "        _u0 = t*x/L\n",
    "        _alpha0 = 0 \n",
    "\n",
    "        _crit = sp.diff(model.energy(state), α) \\\n",
    "            .subs({u: _u0, α: _alpha0})         \\\n",
    "            .simplify()\n",
    "            # .subs(matpar).simplify()\n",
    "        \n",
    "\n",
    "        # _ts = np.array(sp.solve(_crit, t))\n",
    "        # return np.where(_ts > 0)\n",
    "        self.crit = _crit\n",
    "\n",
    "        return _crit\n",
    "\n",
    "    def _homogeneous_energy(self, _matpar):\n",
    "        state, (_uf, _af) = self._homogeneous_state(_matpar)\n",
    "\n",
    "        _u = state[0]\n",
    "        _alpha = state[1]\n",
    "\n",
    "        return\n",
    "\n",
    "    def critical_load(self):\n",
    "        return sp.solve(self.crit, t**2, 0)\n",
    "\n",
    "    def critical_load_N(self, _matpar = {}):\n",
    "        _crits = sp.solve(t**2 - self.critical_load()[0][t**2], t)\n",
    "        _crit_loads = np.where(np.array([sp.N(tc.subs(_matpar)) for tc in _crits]) > 0)\n",
    "        return _crit_loads\n",
    "\n",
    "    def set_critical_load(self, _critical_load):\n",
    "        self._critical_load = _critical_load\n",
    "\n",
    "    def _check_constitutive(self):\n",
    "        _a = 1\n",
    "        # a -> E(a) decreasing\n",
    "        # a -> w(a) increasing\n",
    "        # a -> -w'/E' increasing\n",
    "        # a -> -w'/s' decreasing\n",
    "        return\n",
    "\n",
    "    def _homogeneous_alpha(self):\n",
    "        _u0 = t*x/L\n",
    "\n",
    "        try:\n",
    "            _eq = sp.diff(self.model.energy(state), α) \\\n",
    "                .subs({u: _u0, α: α})         \\\n",
    "                .simplify()\n",
    "\n",
    "            _ah = sp.solve(_eq, α)\n",
    "\n",
    "        except NotImplementedError as e:\n",
    "            _eq = sp.diff(ana.model.energy(state), α)   \\\n",
    "                .subs({u: _u0, α: α})                   \\\n",
    "                .subs(self.matpar)                   \\\n",
    "                .simplify()\n",
    "    \n",
    "            _ah = sp.solve(_eq, α)\n",
    "\n",
    "        return _ah\n",
    "\n",
    "    def plot_homogeneous_alpha(self, _matpar = {}):\n",
    "        ah = self._homogeneous_alpha()\n",
    "        _tc = self.critical_load_N(_matpar)[0][0]\n",
    "\n",
    "        fig, axis = plt.subplots(1, 1, figsize=(8, 6))\n",
    "\n",
    "        # Plot the zero range\n",
    "        subcritical_times = np.linspace(0., _tc)\n",
    "        axis.plot(subcritical_times, [0 for t in subcritical_times], c=\"C0\")\n",
    "\n",
    "\n",
    "        supercritical_times = np.linspace(_tc, 3)\n",
    "\n",
    "        for _a in ah:\n",
    "            _af = sp.lambdify(t, _a.subs(_matpar), \"numpy\")\n",
    "\n",
    "            axis.plot(supercritical_times, [_af(t) for t in supercritical_times], c=\"C0\")\n",
    "            # plt.plot()\n",
    "\n",
    "\n",
    "        axis.set_xlim(0, 3)\n",
    "        axis.set_ylim(0, 1)\n",
    "\n",
    "        plt.axvline(_tc, c='k')\n",
    "        plt.axhline(1, c='k')\n",
    "\n",
    "        return fig, axis\n",
    "\n",
    "    def plot_homogeneous_stress(self, _matpar = {}):\n",
    "        ah = self._homogeneous_alpha()\n",
    "        _tc = self.critical_load_N(_matpar)[0][0]\n",
    "\n",
    "        fig, axis = plt.subplots(1, 1, figsize=(8, 6))\n",
    "\n",
    "        # Plot the zero range\n",
    "        times = np.linspace(0, 3, 30)\n",
    "\n",
    "        _sf = sp.lambdify(t, self._stress().subs(_matpar), \"numpy\")\n",
    "\n",
    "        # axis.plot(np.linspace(0, 3), [_sf(t) for t in times], c=\"C0\")\n",
    "        axis.plot(_times, [_sf(t) for t in _times], c=\"C0\")\n",
    "\n",
    "        plt.axvline(_tc, c='k')\n",
    "        plt.axhline(1, c='k')\n",
    "\n",
    "        axis.set_xlim(0, 3)\n",
    "        axis.set_ylim(0, 1)\n",
    "\n",
    "        return fig, axis\n",
    "\n",
    "    def _homogeneous_state(self, _matpar = {}, ah = None):\n",
    "        if ah is None:\n",
    "            # Good luck with the first solution\n",
    "            _ah = self._homogeneous_alpha()[0]\n",
    "        else:\n",
    "            _ah = ah\n",
    "        try:\n",
    "            _tc = self.critical_load_N(_matpar)[0][0]\n",
    "        except:\n",
    "            _tc = self._critical_load\n",
    "\n",
    "        x, t = sp.symbols('x t')\n",
    "        print(_tc)\n",
    "        _homogeneous_alpha = sp.Piecewise((_ah, t >= _tc), (0, t < _tc))\n",
    "        _homogeneous_u =  t * x / L\n",
    "\n",
    "        _uf = sp.lambdify((t, x), _homogeneous_u.subs(_matpar), \"numpy\")\n",
    "        _af = sp.lambdify(t, _homogeneous_alpha.subs(_matpar), \"numpy\")\n",
    "\n",
    "        state = {u: _homogeneous_u, α: _homogeneous_alpha}\n",
    "\n",
    "        return state, (_uf, _af)\n",
    "\n",
    "    def _set_homogeneous_alpha(self, ah):\n",
    "        self.homogeneous_alpha = ah\n",
    "        \n",
    "        return\n",
    "\n",
    "    def plot_homogeneous_energies(self, _matpar):\n",
    "\n",
    "        _homog_state, (_uf, _af) = self._homogeneous_state(_matpar)\n",
    "\n",
    "        _en_h = sp.lambdify(t, at1.energy(_homog_state).subs({α: _homog_state[1]}).subs(_matpar), \"numpy\")\n",
    "        _en_dam_h = sp.lambdify(t, at1._damage(_homog_state).subs({α: _homog_state[1]}).subs(_matpar), \"numpy\")\n",
    "        _en_ela_h = sp.lambdify(t, at1._elastic(_homog_state).subs({α: _homog_state[1]}).subs(_matpar), \"numpy\")\n",
    "        fig, axis = plt.subplots(1, 1, figsize=(8, 6))\n",
    "\n",
    "        plt.plot(np.linspace(0., 3.), [_en_h(t) for t in np.linspace(0., 3.)], c=\"C0\")\n",
    "        plt.plot(np.linspace(0., 3.), [_en_dam_h(t) for t in np.linspace(0., 3.)], c=\"C1\")\n",
    "        plt.plot(np.linspace(0., 3.), [_en_ela_h(t) for t in np.linspace(0., 3.)], c=\"C2\")\n",
    "\n",
    "        return fig, axis\n",
    "\n",
    "    def plot_material(self):\n",
    "        _damage = np.linspace(0., 1.)\n",
    "\n",
    "        _af = sp.lambdify(α, self._a.simplify().subs(_matpar), \"numpy\")\n",
    "        _apf = sp.lambdify(α, self._ap.simplify().subs(_matpar), \"numpy\")\n",
    "        _appf = sp.lambdify(α, self._app.simplify().subs(_matpar), \"numpy\")\n",
    "\n",
    "        # _apf = sp.lambdify(t, ana.)ap.subs(_matpar), \"numpy\")\n",
    "        # _apf\n",
    "\n",
    "        figure, axis = plt.subplots(1, 2, figsize=(8, 6))\n",
    "        _ax = axis[0]\n",
    "        _ax.axhline(0, c='k')\n",
    "        _ax.plot(_damage, [_af(α) for α in _damage], label = \"a\")\n",
    "        _ax.legend(loc=2)\n",
    "        # _ax.twiny()\n",
    "        _ax.plot(_damage, [_apf(α) for α in _damage], label = \"a'\", c='r')\n",
    "        _ax.plot(_damage, [_appf(α) for α in _damage], label = \"a''\")\n",
    "        _ax.set_xlim(0, 1)\n",
    "        _ax.legend()\n",
    "\n",
    "\n",
    "        _sf = sp.lambdify(α, self._s.simplify().subs(_matpar), \"numpy\")\n",
    "        _spf = sp.lambdify(α, self._sp.simplify().subs(_matpar), \"numpy\")\n",
    "        _sppf = sp.lambdify(α, self._spp.simplify().subs(_matpar), \"numpy\")\n",
    "\n",
    "\n",
    "        _ax = axis[1]\n",
    "\n",
    "        _ax.plot( _damage, [_sf(α) for α in _damage], label = \"s\")\n",
    "        _ax.legend(loc=2)\n",
    "        _ax.axhline(0, c='k')\n",
    "        _ax.twinx()\n",
    "        _ax.plot( _damage, [_spf(α) for α in _damage], label = \"s'\")\n",
    "        _ax.plot( _damage, [_sppf(α) for α in _damage], label = \"s''\")\n",
    "        _ax.set_xlim(0, 1)\n",
    "        _ax.set_ylim(0, 10)\n",
    "        _ax.legend(loc=1)\n",
    "        figure.suptitle(f\"Behaviour of {self.model.__str__()} is Material\")\n",
    "\n",
    "    def _hypotheses1(self):\n",
    "        \"\"\"As per marigo-2012, HP1: w'/S' decreasing wrt alpha\"\"\"\n",
    "\n",
    "        _hp1 = self._sp / self._wp\n",
    "        return _hp1\n",
    "\n",
    "    def _H_damage_profile(self):\n",
    "        \"\"\"A function of sigma and beta constructs localisation profiles\"\"\"\n",
    "        _σ = sp.symbols('σ')\n",
    "        _β = sp.symbols('β')\n",
    "        \n",
    "        _Hf = 1/E0*(2*ana._w - _σ**2 * (ana._s - 1/E0)).subs({α: _β})\n",
    "        # _spf = sp.lambdify(α, self._sp.simplify().subs(_matpar), \"numpy\")\n",
    "\n",
    "        # ana._H_damage_profile().subs(_matpar).subs({α: _β})\n",
    "        return _Hf      \n",
    "\n",
    "    def _α_max(self, σ):\n",
    "        _β = sp.symbols('β')\n",
    "        _σ = sp.symbols('σ')\n",
    "        _matpar = self.matpar\n",
    "        _Hσβ = self._H_damage_profile().subs(_matpar)\n",
    "\n",
    "        _Hβ = _Hσβ.subs({_σ: σ})\n",
    "        _sol = sp.solve(_Hβ, _β, (0, 1), solver='bisect')\n",
    "        print(_sol)\n",
    "        αmax = _sol[1][0]\n",
    "\n",
    "        return αmax\n",
    "\n",
    "    def _stress(self, ah = None):\n",
    "        _homog_state, (_uf, _af) = self._homogeneous_state(_matpar, ah = ah)\n",
    "        \n",
    "        _ah = _homog_state[α]\n",
    "        \n",
    "        _tc = self.critical_load_N(_matpar)[0][0]\n",
    "\n",
    "        stress_alpha = sp.Piecewise(\n",
    "            (sp.sqrt( 2* self._wp / self._sp).subs({α: _ah}), t >= _tc), \n",
    "            # sigma = E(alpha=0) u'\n",
    "            (sp.diff(_homog_state[u], x).subs(_matpar), t < _tc))\n",
    "            \n",
    "        # return sp.sqrt( 2* self._wp / self._sp).subs({α: _ah})\n",
    "        return stress_alpha\n",
    "\n",
    "    def _Dσ(self, σ):\n",
    "        \"\"\"Half length of the localisation as a function of σ\"\"\"\n",
    "        _αh = self._homogeneous_alpha()\n",
    "        _β = sp.symbols('β')\n",
    "        _αmax = self._α_max(σ)\n",
    "\n",
    "\n",
    "        _E0 = self.model._matpar[E0]\n",
    "        _η = self.model._matpar[η]\n",
    "\n",
    "        _f = 1/self._H_damage_profile()\n",
    "        \n",
    "        _Dσ = _η *  sp.integrate(_f, (_β, 0, _αmax))\n",
    "\n",
    "    def _Dc(self):\n",
    "        \"\"\"Half length of the localisation at the onset\"\"\"\n",
    "        _αh = self._homogeneous_alpha()\n",
    "        _E0 = self.model._matpar[E0]\n",
    "        _D = np.pi * η * sp.sqrt(2 * _E0 / (σ * self._spp - 2.*self._wpp)).subs({α: 0})\n",
    "\n",
    "    def _deps_1_d_dσ(self):\n",
    "        _α = self.model.state[α]\n",
    "        _E0 = self.model.matpar[E0]\n",
    "        # _σc = self.model.matpar[σc]\n",
    "        _σc = 1.\n",
    "        \n",
    "\n",
    "        _sp = self._sp\n",
    "        _w = self._w\n",
    "        \n",
    "        return - ((np.pi * 2**(5/2) * ((_sp) )**2 * _σc**2 * _E0**1/2) / \\\n",
    "            (self._spp  * _σc**2 - 2.* self._wpp) ** (3/2)).subs({α: 0})\n",
    "\n",
    "    # check: dependence of localisation zone wrt stress\n",
    "    # check: global maccro response\n"
   ]
  },
  {
   "cell_type": "code",
   "execution_count": 49,
   "metadata": {},
   "outputs": [],
   "source": [
    "E0, L, w1, η, σc = sp.symbols('E0 L w1 η σc')\n",
    "k = sp.symbols('k', integer = True)\n",
    "\n",
    "x, t = sp.symbols('x t')\n",
    "α = sp.Function('α')(x)\n",
    "u = sp.Function('u')(x)\n",
    "\n",
    "state = {u: u, α: α}\n",
    "\n",
    "# sp.diff(atk.elastic(state), α).subs({u: _u0}).simplify()\n",
    "\n"
   ]
  },
  {
   "cell_type": "code",
   "execution_count": 50,
   "metadata": {},
   "outputs": [],
   "source": [
    "# _times = np.linspace(0., atk.matpar)\n",
    "_times = np.linspace(0., 3.)\n",
    "_damage = np.linspace(0., 1.)\n"
   ]
  },
  {
   "cell_type": "markdown",
   "metadata": {},
   "source": [
    "### ATk"
   ]
  },
  {
   "cell_type": "code",
   "execution_count": 70,
   "metadata": {},
   "outputs": [
    {
     "data": {
      "text/latex": [
       "$\\displaystyle w_{1} - \\frac{1.0 t^{2}}{L^{2}}$"
      ],
      "text/plain": [
       "w1 - 1.0*t**2/L**2"
      ]
     },
     "execution_count": 70,
     "metadata": {},
     "output_type": "execute_result"
    }
   ],
   "source": [
    "state = {u: u, α: α}\n",
    "_matpar = {k: 2, E0: 1, w1: 1, η: η, L: 1}\n",
    "matpar = {k: k, E0: 1, w1: w1, η: η, L: L}\n",
    "\n",
    "_u0 = t*x/L\n",
    "_alpha0 = 0 \n",
    "\n",
    "atk = DefaultDamage(state, _matpar)\n",
    "\n",
    "\n",
    "ana = ModelAnalysis(atk)\n",
    "_crit = sp.diff(atk.energy(state), α).subs({u: _u0, α: _alpha0}).simplify()\n",
    "_crit\n",
    "\n",
    "\n"
   ]
  },
  {
   "cell_type": "code",
   "execution_count": 71,
   "metadata": {},
   "outputs": [
    {
     "data": {
      "text/latex": [
       "$\\displaystyle w_{1} - \\frac{1.0 t^{2}}{L^{2}}$"
      ],
      "text/plain": [
       "w1 - 1.0*t**2/L**2"
      ]
     },
     "execution_count": 71,
     "metadata": {},
     "output_type": "execute_result"
    }
   ],
   "source": [
    "# atk = DefaultDamage(state, matpar)\n",
    "ana = ModelAnalysis(atk)\n",
    "ana.criterion()\n"
   ]
  },
  {
   "cell_type": "code",
   "execution_count": 72,
   "metadata": {},
   "outputs": [
    {
     "data": {
      "text/plain": [
       "1"
      ]
     },
     "execution_count": 72,
     "metadata": {},
     "output_type": "execute_result"
    }
   ],
   "source": [
    "ana.critical_load_N(_matpar)[0][0]"
   ]
  },
  {
   "cell_type": "code",
   "execution_count": 73,
   "metadata": {},
   "outputs": [],
   "source": [
    "ana.set_critical_load(ana.critical_load_N(_matpar)[0][0])\n",
    "# ana._critical_load"
   ]
  },
  {
   "cell_type": "code",
   "execution_count": 74,
   "metadata": {},
   "outputs": [
    {
     "data": {
      "text/latex": [
       "$\\displaystyle \\frac{1.0 w_{1} α^{2}{\\left(x \\right)} + 2.0 w_{1} α{\\left(x \\right)} + 1.0 w_{1} - \\frac{1.0 t^{2}}{L^{2}}}{1.0 α^{2}{\\left(x \\right)} + 2.0 α{\\left(x \\right)} + 1.0}$"
      ],
      "text/plain": [
       "(1.0*w1*α(x)**2 + 2.0*w1*α(x) + 1.0*w1 - 1.0*t**2/L**2)/(1.0*α(x)**2 + 2.0*α(x) + 1.0)"
      ]
     },
     "execution_count": 74,
     "metadata": {},
     "output_type": "execute_result"
    }
   ],
   "source": [
    "sp.diff(atk.energy(state), α) \\\n",
    "    .subs({u: _u0, α: α}) \\\n",
    "    .simplify()"
   ]
  },
  {
   "cell_type": "code",
   "execution_count": 76,
   "metadata": {},
   "outputs": [
    {
     "name": "stdout",
     "output_type": "stream",
     "text": [
      "1\n"
     ]
    },
    {
     "data": {
      "text/plain": [
       "({u(x): t*x/L, α(x): Piecewise((-1.0 + t/(L*sqrt(w1)), t >= 1), (0, True))},\n",
       " (<function _lambdifygenerated(t, x)>, <function _lambdifygenerated(t)>))"
      ]
     },
     "execution_count": 76,
     "metadata": {},
     "output_type": "execute_result"
    }
   ],
   "source": [
    "ana._homogeneous_state(ah = ana._homogeneous_alpha()[1])"
   ]
  },
  {
   "cell_type": "code",
   "execution_count": 56,
   "metadata": {},
   "outputs": [
    {
     "data": {
      "text/plain": [
       "(0.0, 2.0)"
      ]
     },
     "execution_count": 56,
     "metadata": {},
     "output_type": "execute_result"
    },
    {
     "data": {
      "image/png": "[encoded data removed]",
      "text/plain": [
       "<Figure size 432x288 with 1 Axes>"
      ]
     },
     "metadata": {},
     "output_type": "display_data"
    }
   ],
   "source": [
    "_eq = sp.diff(atk.energy(state), α) \\\n",
    "    .subs({u: _u0, α: α}) \\\n",
    "    .simplify()\n",
    "\n",
    "_ah = sp.solve(_eq, α)\n",
    "\n",
    "\n",
    "_ah_f = [sp.lambdify(t, a.subs(_matpar), \"numpy\") for a in _ah]\n",
    "\n",
    "# _ahp = sp.lambdify(t, _ah_sub[0].subs(_matpar), \"numpy\")\n",
    "\n",
    "_times = np.linspace(0., 3)\n",
    "\n",
    "for _a in _ah_f:\n",
    "    plt.plot(_times, [_a(t) for t in _times])\n",
    "\n",
    "plt.axhline(0, c='k')\n",
    "plt.xlim(0, _matpar[k])\n",
    "# plt.plot()"
   ]
  },
  {
   "cell_type": "markdown",
   "metadata": {},
   "source": [
    "## Check if multiple solutions"
   ]
  },
  {
   "cell_type": "code",
   "execution_count": 57,
   "metadata": {},
   "outputs": [
    {
     "data": {
      "text/plain": [
       "[-1.0 - t/(L*sqrt(w1)), -1.0 + t/(L*sqrt(w1))]"
      ]
     },
     "execution_count": 57,
     "metadata": {},
     "output_type": "execute_result"
    }
   ],
   "source": [
    "ana._homogeneous_alpha()"
   ]
  },
  {
   "cell_type": "code",
   "execution_count": 58,
   "metadata": {},
   "outputs": [
    {
     "name": "stdout",
     "output_type": "stream",
     "text": [
      "1\n"
     ]
    }
   ],
   "source": [
    "state, (_uf, _af) = ana._homogeneous_state(ah = ana._homogeneous_alpha()[1])"
   ]
  },
  {
   "cell_type": "code",
   "execution_count": 59,
   "metadata": {},
   "outputs": [
    {
     "data": {
      "text/plain": [
       "array(0.)"
      ]
     },
     "execution_count": 59,
     "metadata": {},
     "output_type": "execute_result"
    }
   ],
   "source": [
    "_a = state[α]\n",
    "\n",
    "_ah_f = sp.lambdify(t, _a.subs(ana.model.matpar), \"numpy\")\n",
    "_ah_f(0)"
   ]
  },
  {
   "cell_type": "code",
   "execution_count": 60,
   "metadata": {},
   "outputs": [
    {
     "data": {
      "text/plain": [
       "(0.0, 2.0)"
      ]
     },
     "execution_count": 60,
     "metadata": {},
     "output_type": "execute_result"
    },
    {
     "data": {
      "image/png": "[encoded data removed]",
      "text/plain": [
       "<Figure size 432x288 with 1 Axes>"
      ]
     },
     "metadata": {},
     "output_type": "display_data"
    }
   ],
   "source": [
    "plt.plot(_times, [_ah_f(t) for t in _times])\n",
    "\n",
    "plt.axhline(0, c='k')\n",
    "plt.xlim(0, _matpar[k])\n",
    "# plt.plot()"
   ]
  },
  {
   "cell_type": "code",
   "execution_count": 68,
   "metadata": {},
   "outputs": [
    {
     "data": {
      "text/plain": [
       "(0.0, 2.0)"
      ]
     },
     "execution_count": 68,
     "metadata": {},
     "output_type": "execute_result"
    },
    {
     "data": {
      "image/png": "[encoded data removed]",
      "text/plain": [
       "<Figure size 576x432 with 1 Axes>"
      ]
     },
     "metadata": {},
     "output_type": "display_data"
    }
   ],
   "source": [
    "\n",
    "fig, ax = ana.plot_homogeneous_alpha(_matpar)\n",
    "ax.set_ylim(-0.1, 1.2)\n",
    "ax.set_xlim(0, _matpar[k])\n"
   ]
  },
  {
   "cell_type": "code",
   "execution_count": 69,
   "metadata": {},
   "outputs": [
    {
     "name": "stdout",
     "output_type": "stream",
     "text": [
      "1\n"
     ]
    },
    {
     "data": {
      "text/plain": [
       "(0.0, 2.0)"
      ]
     },
     "execution_count": 69,
     "metadata": {},
     "output_type": "execute_result"
    },
    {
     "data": {
      "image/png": "[encoded data removed]",
      "text/plain": [
       "<Figure size 576x432 with 1 Axes>"
      ]
     },
     "metadata": {},
     "output_type": "display_data"
    }
   ],
   "source": [
    "\n",
    "fig, ax = ana.plot_homogeneous_stress(_matpar)\n",
    "ax.set_ylim(-0.1, 12)\n",
    "ax.set_xlim(0, _matpar[k])\n"
   ]
  },
  {
   "cell_type": "code",
   "execution_count": 76,
   "metadata": {},
   "outputs": [
    {
     "data": {
      "text/latex": [
       "$\\displaystyle \\begin{cases} \\frac{- L w_{1} - 0.707106781186548 t \\sqrt{k w_{1}}}{L w_{1} \\left(k - 1.0\\right)} & \\text{for}\\: t \\geq 1 \\\\0 & \\text{otherwise} \\end{cases}$"
      ],
      "text/plain": [
       "Piecewise(((-L*w1 - 0.707106781186548*t*sqrt(k*w1))/(L*w1*(k - 1.0)), t >= 1), (0, True))"
      ]
     },
     "execution_count": 76,
     "metadata": {},
     "output_type": "execute_result"
    }
   ],
   "source": [
    "_homog_state, (_uf, _af) = ana._homogeneous_state(_matpar)\n",
    "_homog_state[α]\n"
   ]
  },
  {
   "cell_type": "code",
   "execution_count": 77,
   "metadata": {},
   "outputs": [
    {
     "ename": "KeyError",
     "evalue": "Piecewise(((-L*w1 - 0.707106781186548*t*sqrt(k*w1))/(L*w1*(k - 1.0)), t >= 1), (0, True))",
     "output_type": "error",
     "traceback": [
      "\u001b[0;31m---------------------------------------------------------------------------\u001b[0m",
      "\u001b[0;31mKeyError\u001b[0m                                  Traceback (most recent call last)",
      "\u001b[1;32m/Users/kumiori/Documents/WIP/m4s-MEC647/mec647/playground/nb/class_stability.ipynb Cell 21'\u001b[0m in \u001b[0;36m<cell line: 1>\u001b[0;34m()\u001b[0m\n\u001b[0;32m----> <a href='vscode-notebook-cell:/Users/kumiori/Documents/WIP/m4s-MEC647/mec647/playground/nb/class_stability.ipynb#ch0000104?line=0'>1</a>\u001b[0m atk\u001b[39m.\u001b[39;49menergy({u: _homog_state[u], α: _homog_state[α]})\n",
      "\u001b[1;32m/Users/kumiori/Documents/WIP/m4s-MEC647/mec647/playground/nb/class_stability.ipynb Cell 5'\u001b[0m in \u001b[0;36mDefaultDamage.energy\u001b[0;34m(self, state)\u001b[0m\n\u001b[1;32m     <a href='vscode-notebook-cell:/Users/kumiori/Documents/WIP/m4s-MEC647/mec647/playground/nb/class_stability.ipynb#ch0000005?line=20'>21</a>\u001b[0m \u001b[39mdef\u001b[39;00m \u001b[39menergy\u001b[39m(\u001b[39mself\u001b[39m, state):\n\u001b[1;32m     <a href='vscode-notebook-cell:/Users/kumiori/Documents/WIP/m4s-MEC647/mec647/playground/nb/class_stability.ipynb#ch0000005?line=21'>22</a>\u001b[0m     \u001b[39m\"\"\"Total energy\"\"\"\u001b[39;00m\n\u001b[0;32m---> <a href='vscode-notebook-cell:/Users/kumiori/Documents/WIP/m4s-MEC647/mec647/playground/nb/class_stability.ipynb#ch0000005?line=22'>23</a>\u001b[0m     \u001b[39mreturn\u001b[39;00m \u001b[39mself\u001b[39;49m\u001b[39m.\u001b[39;49m_elastic(state) \u001b[39m+\u001b[39m \u001b[39mself\u001b[39m\u001b[39m.\u001b[39m_damage(state) \u001b[39m-\u001b[39m \u001b[39mself\u001b[39m\u001b[39m.\u001b[39mwork(state)\n",
      "\u001b[1;32m/Users/kumiori/Documents/WIP/m4s-MEC647/mec647/playground/nb/class_stability.ipynb Cell 5'\u001b[0m in \u001b[0;36mDefaultDamage._elastic\u001b[0;34m(self, state)\u001b[0m\n\u001b[1;32m     <a href='vscode-notebook-cell:/Users/kumiori/Documents/WIP/m4s-MEC647/mec647/playground/nb/class_stability.ipynb#ch0000005?line=29'>30</a>\u001b[0m _u \u001b[39m=\u001b[39m state[u]\n\u001b[1;32m     <a href='vscode-notebook-cell:/Users/kumiori/Documents/WIP/m4s-MEC647/mec647/playground/nb/class_stability.ipynb#ch0000005?line=30'>31</a>\u001b[0m _α \u001b[39m=\u001b[39m state[α]\n\u001b[0;32m---> <a href='vscode-notebook-cell:/Users/kumiori/Documents/WIP/m4s-MEC647/mec647/playground/nb/class_stability.ipynb#ch0000005?line=32'>33</a>\u001b[0m \u001b[39mreturn\u001b[39;00m \u001b[39m1.\u001b[39m\u001b[39m/\u001b[39m\u001b[39m2.\u001b[39m \u001b[39m*\u001b[39m _E0 \u001b[39m*\u001b[39m \u001b[39mself\u001b[39;49m\u001b[39m.\u001b[39;49m_a(_α) \u001b[39m*\u001b[39m sp\u001b[39m.\u001b[39mdiff(_u, x)\u001b[39m*\u001b[39m\u001b[39m*\u001b[39m\u001b[39m2\u001b[39m\n",
      "\u001b[1;32m/Users/kumiori/Documents/WIP/m4s-MEC647/mec647/playground/nb/class_stability.ipynb Cell 5'\u001b[0m in \u001b[0;36mDefaultDamage._a\u001b[0;34m(self, α)\u001b[0m\n\u001b[1;32m      <a href='vscode-notebook-cell:/Users/kumiori/Documents/WIP/m4s-MEC647/mec647/playground/nb/class_stability.ipynb#ch0000005?line=6'>7</a>\u001b[0m \u001b[39mdef\u001b[39;00m \u001b[39m_a\u001b[39m(\u001b[39mself\u001b[39m, α):\n\u001b[0;32m----> <a href='vscode-notebook-cell:/Users/kumiori/Documents/WIP/m4s-MEC647/mec647/playground/nb/class_stability.ipynb#ch0000005?line=7'>8</a>\u001b[0m     _α \u001b[39m=\u001b[39m \u001b[39mself\u001b[39;49m\u001b[39m.\u001b[39;49mstate[α]\n\u001b[1;32m      <a href='vscode-notebook-cell:/Users/kumiori/Documents/WIP/m4s-MEC647/mec647/playground/nb/class_stability.ipynb#ch0000005?line=8'>9</a>\u001b[0m     \u001b[39m# _α = α\u001b[39;00m\n\u001b[1;32m     <a href='vscode-notebook-cell:/Users/kumiori/Documents/WIP/m4s-MEC647/mec647/playground/nb/class_stability.ipynb#ch0000005?line=9'>10</a>\u001b[0m     \u001b[39m# _E0 = self.matpar[E0]\u001b[39;00m\n\u001b[1;32m     <a href='vscode-notebook-cell:/Users/kumiori/Documents/WIP/m4s-MEC647/mec647/playground/nb/class_stability.ipynb#ch0000005?line=10'>11</a>\u001b[0m     _k \u001b[39m=\u001b[39m \u001b[39mself\u001b[39m\u001b[39m.\u001b[39mmatpar[k]\n",
      "\u001b[0;31mKeyError\u001b[0m: Piecewise(((-L*w1 - 0.707106781186548*t*sqrt(k*w1))/(L*w1*(k - 1.0)), t >= 1), (0, True))"
     ]
    }
   ],
   "source": [
    "atk.energy({u: _homog_state[u], α: _homog_state[α]})"
   ]
  },
  {
   "cell_type": "code",
   "execution_count": 78,
   "metadata": {},
   "outputs": [
    {
     "ename": "KeyError",
     "evalue": "Piecewise(((-L*w1 - 0.707106781186548*t*sqrt(k*w1))/(L*w1*(k - 1.0)), t >= 1), (0, True))",
     "output_type": "error",
     "traceback": [
      "\u001b[0;31m---------------------------------------------------------------------------\u001b[0m",
      "\u001b[0;31mKeyError\u001b[0m                                  Traceback (most recent call last)",
      "\u001b[1;32m/Users/kumiori/Documents/WIP/m4s-MEC647/mec647/playground/nb/class_stability.ipynb Cell 22'\u001b[0m in \u001b[0;36m<cell line: 1>\u001b[0;34m()\u001b[0m\n\u001b[0;32m----> <a href='vscode-notebook-cell:/Users/kumiori/Documents/WIP/m4s-MEC647/mec647/playground/nb/class_stability.ipynb#ch0000105?line=0'>1</a>\u001b[0m _en_h \u001b[39m=\u001b[39m sp\u001b[39m.\u001b[39mlambdify(t, atk\u001b[39m.\u001b[39;49menergy(_homog_state)\u001b[39m.\u001b[39msubs({α: _homog_state[α]})\u001b[39m.\u001b[39msubs(_matpar), \u001b[39m\"\u001b[39m\u001b[39mnumpy\u001b[39m\u001b[39m\"\u001b[39m)\n\u001b[1;32m      <a href='vscode-notebook-cell:/Users/kumiori/Documents/WIP/m4s-MEC647/mec647/playground/nb/class_stability.ipynb#ch0000105?line=1'>2</a>\u001b[0m _en_dam_h \u001b[39m=\u001b[39m sp\u001b[39m.\u001b[39mlambdify(t, atk\u001b[39m.\u001b[39m_damage(_homog_state)\u001b[39m.\u001b[39msubs({α: _homog_state[α]})\u001b[39m.\u001b[39msubs(_matpar), \u001b[39m\"\u001b[39m\u001b[39mnumpy\u001b[39m\u001b[39m\"\u001b[39m)\n\u001b[1;32m      <a href='vscode-notebook-cell:/Users/kumiori/Documents/WIP/m4s-MEC647/mec647/playground/nb/class_stability.ipynb#ch0000105?line=2'>3</a>\u001b[0m _en_ela_h \u001b[39m=\u001b[39m sp\u001b[39m.\u001b[39mlambdify(t, atk\u001b[39m.\u001b[39m_elastic(_homog_state)\u001b[39m.\u001b[39msubs({α: _homog_state[α]})\u001b[39m.\u001b[39msubs(_matpar), \u001b[39m\"\u001b[39m\u001b[39mnumpy\u001b[39m\u001b[39m\"\u001b[39m)\n",
      "\u001b[1;32m/Users/kumiori/Documents/WIP/m4s-MEC647/mec647/playground/nb/class_stability.ipynb Cell 5'\u001b[0m in \u001b[0;36mDefaultDamage.energy\u001b[0;34m(self, state)\u001b[0m\n\u001b[1;32m     <a href='vscode-notebook-cell:/Users/kumiori/Documents/WIP/m4s-MEC647/mec647/playground/nb/class_stability.ipynb#ch0000005?line=20'>21</a>\u001b[0m \u001b[39mdef\u001b[39;00m \u001b[39menergy\u001b[39m(\u001b[39mself\u001b[39m, state):\n\u001b[1;32m     <a href='vscode-notebook-cell:/Users/kumiori/Documents/WIP/m4s-MEC647/mec647/playground/nb/class_stability.ipynb#ch0000005?line=21'>22</a>\u001b[0m     \u001b[39m\"\"\"Total energy\"\"\"\u001b[39;00m\n\u001b[0;32m---> <a href='vscode-notebook-cell:/Users/kumiori/Documents/WIP/m4s-MEC647/mec647/playground/nb/class_stability.ipynb#ch0000005?line=22'>23</a>\u001b[0m     \u001b[39mreturn\u001b[39;00m \u001b[39mself\u001b[39;49m\u001b[39m.\u001b[39;49m_elastic(state) \u001b[39m+\u001b[39m \u001b[39mself\u001b[39m\u001b[39m.\u001b[39m_damage(state) \u001b[39m-\u001b[39m \u001b[39mself\u001b[39m\u001b[39m.\u001b[39mwork(state)\n",
      "\u001b[1;32m/Users/kumiori/Documents/WIP/m4s-MEC647/mec647/playground/nb/class_stability.ipynb Cell 5'\u001b[0m in \u001b[0;36mDefaultDamage._elastic\u001b[0;34m(self, state)\u001b[0m\n\u001b[1;32m     <a href='vscode-notebook-cell:/Users/kumiori/Documents/WIP/m4s-MEC647/mec647/playground/nb/class_stability.ipynb#ch0000005?line=29'>30</a>\u001b[0m _u \u001b[39m=\u001b[39m state[u]\n\u001b[1;32m     <a href='vscode-notebook-cell:/Users/kumiori/Documents/WIP/m4s-MEC647/mec647/playground/nb/class_stability.ipynb#ch0000005?line=30'>31</a>\u001b[0m _α \u001b[39m=\u001b[39m state[α]\n\u001b[0;32m---> <a href='vscode-notebook-cell:/Users/kumiori/Documents/WIP/m4s-MEC647/mec647/playground/nb/class_stability.ipynb#ch0000005?line=32'>33</a>\u001b[0m \u001b[39mreturn\u001b[39;00m \u001b[39m1.\u001b[39m\u001b[39m/\u001b[39m\u001b[39m2.\u001b[39m \u001b[39m*\u001b[39m _E0 \u001b[39m*\u001b[39m \u001b[39mself\u001b[39;49m\u001b[39m.\u001b[39;49m_a(_α) \u001b[39m*\u001b[39m sp\u001b[39m.\u001b[39mdiff(_u, x)\u001b[39m*\u001b[39m\u001b[39m*\u001b[39m\u001b[39m2\u001b[39m\n",
      "\u001b[1;32m/Users/kumiori/Documents/WIP/m4s-MEC647/mec647/playground/nb/class_stability.ipynb Cell 5'\u001b[0m in \u001b[0;36mDefaultDamage._a\u001b[0;34m(self, α)\u001b[0m\n\u001b[1;32m      <a href='vscode-notebook-cell:/Users/kumiori/Documents/WIP/m4s-MEC647/mec647/playground/nb/class_stability.ipynb#ch0000005?line=6'>7</a>\u001b[0m \u001b[39mdef\u001b[39;00m \u001b[39m_a\u001b[39m(\u001b[39mself\u001b[39m, α):\n\u001b[0;32m----> <a href='vscode-notebook-cell:/Users/kumiori/Documents/WIP/m4s-MEC647/mec647/playground/nb/class_stability.ipynb#ch0000005?line=7'>8</a>\u001b[0m     _α \u001b[39m=\u001b[39m \u001b[39mself\u001b[39;49m\u001b[39m.\u001b[39;49mstate[α]\n\u001b[1;32m      <a href='vscode-notebook-cell:/Users/kumiori/Documents/WIP/m4s-MEC647/mec647/playground/nb/class_stability.ipynb#ch0000005?line=8'>9</a>\u001b[0m     \u001b[39m# _α = α\u001b[39;00m\n\u001b[1;32m     <a href='vscode-notebook-cell:/Users/kumiori/Documents/WIP/m4s-MEC647/mec647/playground/nb/class_stability.ipynb#ch0000005?line=9'>10</a>\u001b[0m     \u001b[39m# _E0 = self.matpar[E0]\u001b[39;00m\n\u001b[1;32m     <a href='vscode-notebook-cell:/Users/kumiori/Documents/WIP/m4s-MEC647/mec647/playground/nb/class_stability.ipynb#ch0000005?line=10'>11</a>\u001b[0m     _k \u001b[39m=\u001b[39m \u001b[39mself\u001b[39m\u001b[39m.\u001b[39mmatpar[k]\n",
      "\u001b[0;31mKeyError\u001b[0m: Piecewise(((-L*w1 - 0.707106781186548*t*sqrt(k*w1))/(L*w1*(k - 1.0)), t >= 1), (0, True))"
     ]
    }
   ],
   "source": [
    "_en_h = sp.lambdify(t, atk.energy(_homog_state).subs({α: _homog_state[α]}).subs(_matpar), \"numpy\")\n",
    "_en_dam_h = sp.lambdify(t, atk._damage(_homog_state).subs({α: _homog_state[α]}).subs(_matpar), \"numpy\")\n",
    "_en_ela_h = sp.lambdify(t, atk._elastic(_homog_state).subs({α: _homog_state[α]}).subs(_matpar), \"numpy\")\n",
    "\n",
    "plt.plot(np.linspace(0., 3.), [_en_h(t) for t in np.linspace(0., 3.)], c=\"C0\")\n",
    "plt.plot(np.linspace(0., 3.), [_en_dam_h(t) for t in np.linspace(0., 3.)], c=\"C1\")\n",
    "plt.plot(np.linspace(0., 3.), [_en_ela_h(t) for t in np.linspace(0., 3.)], c=\"C2\")\n"
   ]
  },
  {
   "cell_type": "code",
   "execution_count": 79,
   "metadata": {},
   "outputs": [
    {
     "name": "stderr",
     "output_type": "stream",
     "text": [
      "<lambdifygenerated-73>:2: RuntimeWarning: divide by zero encountered in double_scalars\n",
      "  return (-_Dummy_1269 - 1)/(_Dummy_1269 - 1)\n",
      "<lambdifygenerated-74>:2: RuntimeWarning: divide by zero encountered in double_scalars\n",
      "  return 2/(_Dummy_1270**2 - 2*_Dummy_1270 + 1)\n",
      "<lambdifygenerated-75>:2: RuntimeWarning: divide by zero encountered in double_scalars\n",
      "  return -4/(_Dummy_1271**3 - 3*_Dummy_1271**2 + 3*_Dummy_1271 - 1)\n"
     ]
    },
    {
     "data": {
      "image/png": "[encoded data removed]",
      "text/plain": [
       "<Figure size 576x432 with 3 Axes>"
      ]
     },
     "metadata": {},
     "output_type": "display_data"
    }
   ],
   "source": [
    "ana.plot_material()"
   ]
  },
  {
   "cell_type": "code",
   "execution_count": 80,
   "metadata": {},
   "outputs": [
    {
     "data": {
      "text/plain": [
       "(((k - 1)*α(x) + 1)/(1 - α(x)),\n",
       " k/(α(x)**2 - 2*α(x) + 1),\n",
       " -2*k/(α(x)**3 - 3*α(x)**2 + 3*α(x) - 1))"
      ]
     },
     "execution_count": 80,
     "metadata": {},
     "output_type": "execute_result"
    }
   ],
   "source": [
    "# Localised branches\n",
    "ana._s, ana._sp.simplify(), ana._spp.simplify()"
   ]
  },
  {
   "cell_type": "code",
   "execution_count": 82,
   "metadata": {},
   "outputs": [
    {
     "data": {
      "text/plain": [
       "[<matplotlib.lines.Line2D at 0x147a783a0>]"
      ]
     },
     "execution_count": 82,
     "metadata": {},
     "output_type": "execute_result"
    },
    {
     "data": {
      "image/png": "[encoded data removed]",
      "text/plain": [
       "<Figure size 432x288 with 1 Axes>"
      ]
     },
     "metadata": {},
     "output_type": "display_data"
    }
   ],
   "source": [
    "_homog_state, (_uf, _af) = ana._homogeneous_state(_matpar)\n",
    "\n",
    "\n",
    "_s = ana._s.subs({α: _homog_state[α]}).subs(_matpar)\n",
    "_sf = sp.lambdify(t, _s, \"numpy\")\n",
    "\n",
    "plt.plot(_times, [_sf(t) for t in _times], c=\"C0\")\n"
   ]
  },
  {
   "cell_type": "code",
   "execution_count": 83,
   "metadata": {},
   "outputs": [
    {
     "data": {
      "text/plain": [
       "[<matplotlib.lines.Line2D at 0x1456eb0d0>]"
      ]
     },
     "execution_count": 83,
     "metadata": {},
     "output_type": "execute_result"
    },
    {
     "data": {
      "image/png": "[encoded data removed]",
      "text/plain": [
       "<Figure size 432x288 with 1 Axes>"
      ]
     },
     "metadata": {},
     "output_type": "display_data"
    }
   ],
   "source": [
    "_homog_state, (_uf, _af) = ana._homogeneous_state(_matpar)\n",
    "\n",
    "\n",
    "_w = ana._w.subs({α: _homog_state[α]}).subs(_matpar)\n",
    "_wf = sp.lambdify(t, _w, \"numpy\")\n",
    "\n",
    "plt.plot(_times, [_wf(t) for t in _times], c=\"C0\")\n"
   ]
  },
  {
   "cell_type": "code",
   "execution_count": 84,
   "metadata": {},
   "outputs": [
    {
     "name": "stderr",
     "output_type": "stream",
     "text": [
      "<lambdifygenerated-85>:2: RuntimeWarning: divide by zero encountered in double_scalars\n",
      "  return 2*β + 0.9801 - 0.9801*(β + 1)/(1 - β)\n",
      "<lambdifygenerated-86>:2: RuntimeWarning: divide by zero encountered in double_scalars\n",
      "  return 2*β + 0.814004938271605 - 0.814004938271605*(β + 1)/(1 - β)\n",
      "<lambdifygenerated-87>:2: RuntimeWarning: divide by zero encountered in double_scalars\n",
      "  return 2*β + 0.66331975308642 - 0.66331975308642*(β + 1)/(1 - β)\n",
      "<lambdifygenerated-88>:2: RuntimeWarning: divide by zero encountered in double_scalars\n",
      "  return 2*β + 0.528044444444444 - 0.528044444444444*(β + 1)/(1 - β)\n",
      "<lambdifygenerated-89>:2: RuntimeWarning: divide by zero encountered in double_scalars\n",
      "  return 2*β + 0.408179012345679 - 0.408179012345679*(β + 1)/(1 - β)\n",
      "<lambdifygenerated-90>:2: RuntimeWarning: divide by zero encountered in double_scalars\n",
      "  return 2*β + 0.303723456790123 - 0.303723456790123*(β + 1)/(1 - β)\n",
      "<lambdifygenerated-91>:2: RuntimeWarning: divide by zero encountered in double_scalars\n",
      "  return 2*β + 0.214677777777778 - 0.214677777777778*(β + 1)/(1 - β)\n",
      "<lambdifygenerated-92>:2: RuntimeWarning: divide by zero encountered in double_scalars\n",
      "  return 2*β + 0.141041975308642 - 0.141041975308642*(β + 1)/(1 - β)\n",
      "<lambdifygenerated-93>:2: RuntimeWarning: divide by zero encountered in double_scalars\n",
      "  return 2*β + 0.082816049382716 - 0.082816049382716*(β + 1)/(1 - β)\n",
      "<lambdifygenerated-94>:2: RuntimeWarning: divide by zero encountered in double_scalars\n",
      "  return 2*β + 0.04 - 0.04*(β + 1)/(1 - β)\n"
     ]
    },
    {
     "data": {
      "text/plain": [
       "(-1.0, 1.0)"
      ]
     },
     "execution_count": 84,
     "metadata": {},
     "output_type": "execute_result"
    },
    {
     "data": {
      "image/png": "[encoded data removed]",
      "text/plain": [
       "<Figure size 432x288 with 1 Axes>"
      ]
     },
     "metadata": {},
     "output_type": "display_data"
    }
   ],
   "source": [
    "_Hσβ = ana._H_damage_profile().subs(_matpar)\n",
    "\n",
    "_σ = sp.symbols('σ')\n",
    "_β = sp.symbols('β')\n",
    "\n",
    "\n",
    "\n",
    "for k in np.linspace(.99, .2, 10):\n",
    "# for k in np.arange(2, 5):\n",
    "    _Hβ = _Hσβ.subs({_σ: k})\n",
    "    # _Hβ = _Hσβ.subs({_σ: 1./k})\n",
    "    _Hβf = sp.lambdify(_β, _Hβ, \"numpy\")\n",
    "    _sol = sp.solve(_Hβ, _β, (0, 1), solver='bisect') \n",
    "    αmax = _sol[1][0]\n",
    "    plt.plot(_damage, [_Hβf(β) for β in _damage], label = f\"$\\sigma/\\sigma_0$  = {k:.2f}\")\n",
    "    # plt.plot(_damage, [_Hβf(β) for β in _damage], label = f\"$\\sigma/\\sigma_0$  = 1/{k:d}\")\n",
    "    plt.axvline(αmax, c='k', lw=1)\n",
    "\n",
    "\n",
    "plt.legend()\n",
    "plt.axhline(0, c=\"k\")\n",
    "plt.ylim(-1, 1)\n"
   ]
  },
  {
   "cell_type": "code",
   "execution_count": 85,
   "metadata": {},
   "outputs": [
    {
     "name": "stdout",
     "output_type": "stream",
     "text": [
      "[(0.0, _X1)]\n"
     ]
    },
    {
     "ename": "IndexError",
     "evalue": "list index out of range",
     "output_type": "error",
     "traceback": [
      "\u001b[0;31m---------------------------------------------------------------------------\u001b[0m",
      "\u001b[0;31mIndexError\u001b[0m                                Traceback (most recent call last)",
      "\u001b[1;32m/Users/kumiori/Documents/WIP/m4s-MEC647/mec647/playground/nb/class_stability.ipynb Cell 28'\u001b[0m in \u001b[0;36m<cell line: 2>\u001b[0;34m()\u001b[0m\n\u001b[1;32m      <a href='vscode-notebook-cell:/Users/kumiori/Documents/WIP/m4s-MEC647/mec647/playground/nb/class_stability.ipynb#ch0000111?line=0'>1</a>\u001b[0m amax \u001b[39m=\u001b[39m []\n\u001b[1;32m      <a href='vscode-notebook-cell:/Users/kumiori/Documents/WIP/m4s-MEC647/mec647/playground/nb/class_stability.ipynb#ch0000111?line=1'>2</a>\u001b[0m \u001b[39mfor\u001b[39;00m i \u001b[39min\u001b[39;00m np\u001b[39m.\u001b[39mlinspace(\u001b[39m.99\u001b[39m, \u001b[39m.2\u001b[39m, \u001b[39m10\u001b[39m):\n\u001b[0;32m----> <a href='vscode-notebook-cell:/Users/kumiori/Documents/WIP/m4s-MEC647/mec647/playground/nb/class_stability.ipynb#ch0000111?line=2'>3</a>\u001b[0m     amax\u001b[39m.\u001b[39mappend(ana\u001b[39m.\u001b[39;49m_α_max(i))\n\u001b[1;32m      <a href='vscode-notebook-cell:/Users/kumiori/Documents/WIP/m4s-MEC647/mec647/playground/nb/class_stability.ipynb#ch0000111?line=5'>6</a>\u001b[0m plt\u001b[39m.\u001b[39mplot(amax, np\u001b[39m.\u001b[39mlinspace(\u001b[39m1\u001b[39m, \u001b[39m.0\u001b[39m, \u001b[39m10\u001b[39m), marker\u001b[39m=\u001b[39m\u001b[39m'\u001b[39m\u001b[39mo\u001b[39m\u001b[39m'\u001b[39m)\n\u001b[1;32m      <a href='vscode-notebook-cell:/Users/kumiori/Documents/WIP/m4s-MEC647/mec647/playground/nb/class_stability.ipynb#ch0000111?line=6'>7</a>\u001b[0m plt\u001b[39m.\u001b[39mxlabel(\u001b[39m'\u001b[39m\u001b[39m$\u001b[39m\u001b[39m\\\\\u001b[39;00m\u001b[39mbar \u001b[39m\u001b[39m\\\\\u001b[39;00m\u001b[39malpha$\u001b[39m\u001b[39m'\u001b[39m)\n",
      "\u001b[1;32m/Users/kumiori/Documents/WIP/m4s-MEC647/mec647/playground/nb/class_stability.ipynb Cell 8'\u001b[0m in \u001b[0;36mModelAnalysis._α_max\u001b[0;34m(self, σ)\u001b[0m\n\u001b[1;32m    <a href='vscode-notebook-cell:/Users/kumiori/Documents/WIP/m4s-MEC647/mec647/playground/nb/class_stability.ipynb#ch0000008?line=226'>227</a>\u001b[0m _sol \u001b[39m=\u001b[39m sp\u001b[39m.\u001b[39msolve(_Hβ, _β, (\u001b[39m0\u001b[39m, \u001b[39m1\u001b[39m), solver\u001b[39m=\u001b[39m\u001b[39m'\u001b[39m\u001b[39mbisect\u001b[39m\u001b[39m'\u001b[39m)\n\u001b[1;32m    <a href='vscode-notebook-cell:/Users/kumiori/Documents/WIP/m4s-MEC647/mec647/playground/nb/class_stability.ipynb#ch0000008?line=227'>228</a>\u001b[0m \u001b[39mprint\u001b[39m(_sol)\n\u001b[0;32m--> <a href='vscode-notebook-cell:/Users/kumiori/Documents/WIP/m4s-MEC647/mec647/playground/nb/class_stability.ipynb#ch0000008?line=228'>229</a>\u001b[0m αmax \u001b[39m=\u001b[39m _sol[\u001b[39m1\u001b[39;49m][\u001b[39m0\u001b[39m]\n\u001b[1;32m    <a href='vscode-notebook-cell:/Users/kumiori/Documents/WIP/m4s-MEC647/mec647/playground/nb/class_stability.ipynb#ch0000008?line=230'>231</a>\u001b[0m \u001b[39mreturn\u001b[39;00m αmax\n",
      "\u001b[0;31mIndexError\u001b[0m: list index out of range"
     ]
    }
   ],
   "source": [
    "\n",
    "\n",
    "\n",
    "amax = []\n",
    "for i in np.linspace(.99, .2, 10):\n",
    "    amax.append(ana._α_max(i))\n",
    "\n",
    "\n",
    "plt.plot(amax, np.linspace(1, .0, 10), marker='o')\n",
    "plt.xlabel('$\\\\bar \\\\alpha$')\n",
    "plt.ylabel('$\\\\sigma/\\\\sigma_0$')\n",
    "plt.xlim(0., 1.)\n",
    "# plt.plot(np.linspace(-.99, -.2, 10), amax)"
   ]
  },
  {
   "cell_type": "markdown",
   "metadata": {},
   "source": [
    "### ATn"
   ]
  },
  {
   "cell_type": "code",
   "execution_count": 11,
   "metadata": {},
   "outputs": [],
   "source": [
    "## Simple Analytic \n",
    "# import visuals\n",
    "\n",
    "E0, L, w1, η, σc = sp.symbols('E0 L w1 η σc')\n",
    "x, t = sp.symbols('x t')\n",
    "α = sp.Function('α')(x)\n",
    "u = sp.Function('u')(x)\n",
    "\n",
    "n = sp.symbols('n')\n"
   ]
  },
  {
   "cell_type": "markdown",
   "metadata": {},
   "source": [
    "#### ATn, n=1 => AT1"
   ]
  },
  {
   "cell_type": "code",
   "execution_count": 12,
   "metadata": {},
   "outputs": [
    {
     "data": {
      "text/latex": [
       "$\\displaystyle 1 - \\frac{1.0 t^{2}}{L^{2}}$"
      ],
      "text/plain": [
       "1 - 1.0*t**2/L**2"
      ]
     },
     "execution_count": 12,
     "metadata": {},
     "output_type": "execute_result"
    }
   ],
   "source": [
    "state = {u: u, α: α}\n",
    "matpar = {n: 1, E0: 1, w1: 1, η: η}\n",
    "_matpar = {n: 1, L: 1, E0: 1, w1: 1, η: η}\n",
    "\n",
    "at1 = DamageATn(state, matpar={n: 1, E0: 1, w1: w1, η: η, L: L}, name=\"at1\")\n",
    "ana = ModelAnalysis(model = at1)\n",
    "\n",
    "\n",
    "ana.criterion(), ana.critical_load(), ana._homogeneous_alpha()\n"
   ]
  },
  {
   "cell_type": "code",
   "execution_count": 13,
   "metadata": {},
   "outputs": [
    {
     "data": {
      "text/plain": [
       "(-0.1, 1.0)"
      ]
     },
     "execution_count": 13,
     "metadata": {},
     "output_type": "execute_result"
    },
    {
     "data": {
      "image/png": "[encoded data removed]",
      "text/plain": [
       "<Figure size 576x432 with 1 Axes>"
      ]
     },
     "metadata": {},
     "output_type": "display_data"
    }
   ],
   "source": [
    "\n",
    "fig, ax = ana.plot_homogeneous_alpha(_matpar)\n",
    "ax.set_ylim(-0.1, 1)\n"
   ]
  },
  {
   "cell_type": "code",
   "execution_count": 14,
   "metadata": {},
   "outputs": [
    {
     "name": "stderr",
     "output_type": "stream",
     "text": [
      "<lambdifygenerated-4>:2: RuntimeWarning: divide by zero encountered in double_scalars\n",
      "  return select([greater_equal(t, 1),True], [sqrt((1 - select([greater_equal(t, 1),True], [1.0 - 1/t**2,0], default=nan))**3),t], default=nan)\n"
     ]
    },
    {
     "data": {
      "image/png": "[encoded data removed]",
      "text/plain": [
       "<Figure size 576x432 with 1 Axes>"
      ]
     },
     "metadata": {},
     "output_type": "display_data"
    }
   ],
   "source": [
    "\n",
    "fig, ax = ana.plot_homogeneous_stress(_matpar)\n"
   ]
  },
  {
   "cell_type": "code",
   "execution_count": 15,
   "metadata": {},
   "outputs": [
    {
     "data": {
      "text/latex": [
       "$\\displaystyle \\begin{cases} - \\frac{L^{2}}{t^{2}} + 1.0 & \\text{for}\\: t \\geq 1 \\\\0 & \\text{otherwise} \\end{cases}$"
      ],
      "text/plain": [
       "Piecewise((-L**2/t**2 + 1.0, t >= 1), (0, True))"
      ]
     },
     "execution_count": 15,
     "metadata": {},
     "output_type": "execute_result"
    }
   ],
   "source": [
    "_homog_state, (_uf, _af) = ana._homogeneous_state(_matpar)\n",
    "_homog_state[α]\n"
   ]
  },
  {
   "cell_type": "code",
   "execution_count": 16,
   "metadata": {},
   "outputs": [
    {
     "data": {
      "text/latex": [
       "$\\displaystyle α{\\left(x \\right)} + \\frac{0.5 t^{2} \\left(1 - \\begin{cases} - \\frac{L^{2}}{t^{2}} + 1.0 & \\text{for}\\: t \\geq 1 \\\\0 & \\text{otherwise} \\end{cases}\\right)^{2}}{L^{2}}$"
      ],
      "text/plain": [
       "α(x) + 0.5*t**2*(1 - Piecewise((-L**2/t**2 + 1.0, t >= 1), (0, True)))**2/L**2"
      ]
     },
     "execution_count": 16,
     "metadata": {},
     "output_type": "execute_result"
    }
   ],
   "source": [
    "at1.energy({u: _homog_state[u], α: _homog_state[α]})"
   ]
  },
  {
   "cell_type": "code",
   "execution_count": 17,
   "metadata": {},
   "outputs": [
    {
     "name": "stderr",
     "output_type": "stream",
     "text": [
      "<lambdifygenerated-7>:2: RuntimeWarning: divide by zero encountered in double_scalars\n",
      "  return 0.5*t**2*(1 - select([greater_equal(t, 1),True], [1.0 - 1/t**2,0], default=nan))**2 + select([greater_equal(t, 1),True], [1.0 - 1/t**2,0], default=nan)\n",
      "<lambdifygenerated-8>:2: RuntimeWarning: divide by zero encountered in double_scalars\n",
      "  return select([greater_equal(t, 1),True], [1.0 - 1/t**2,0], default=nan)\n",
      "<lambdifygenerated-9>:2: RuntimeWarning: divide by zero encountered in double_scalars\n",
      "  return 0.5*t**2*(1 - select([greater_equal(t, 1),True], [1.0 - 1/t**2,0], default=nan))**2\n"
     ]
    },
    {
     "data": {
      "text/plain": [
       "[<matplotlib.lines.Line2D at 0x145058c70>]"
      ]
     },
     "execution_count": 17,
     "metadata": {},
     "output_type": "execute_result"
    },
    {
     "data": {
      "image/png": "[encoded data removed]",
      "text/plain": [
       "<Figure size 432x288 with 1 Axes>"
      ]
     },
     "metadata": {},
     "output_type": "display_data"
    }
   ],
   "source": [
    "_en_h = sp.lambdify(t, at1.energy(_homog_state).subs({α: _homog_state[α]}).subs(_matpar), \"numpy\")\n",
    "_en_dam_h = sp.lambdify(t, at1._damage(_homog_state).subs({α: _homog_state[α]}).subs(_matpar), \"numpy\")\n",
    "_en_ela_h = sp.lambdify(t, at1._elastic(_homog_state).subs({α: _homog_state[α]}).subs(_matpar), \"numpy\")\n",
    "\n",
    "plt.plot(np.linspace(0., 3.), [_en_h(t) for t in np.linspace(0., 3.)], c=\"C0\")\n",
    "plt.plot(np.linspace(0., 3.), [_en_dam_h(t) for t in np.linspace(0., 3.)], c=\"C1\")\n",
    "plt.plot(np.linspace(0., 3.), [_en_ela_h(t) for t in np.linspace(0., 3.)], c=\"C2\")\n"
   ]
  },
  {
   "cell_type": "code",
   "execution_count": 18,
   "metadata": {},
   "outputs": [
    {
     "name": "stderr",
     "output_type": "stream",
     "text": [
      "<lambdifygenerated-13>:2: RuntimeWarning: divide by zero encountered in double_scalars\n",
      "  return (_Dummy_111 - 1)**(-2.0)\n",
      "<lambdifygenerated-14>:2: RuntimeWarning: divide by zero encountered in double_scalars\n",
      "  return -2/(_Dummy_112 - 1)**3\n",
      "<lambdifygenerated-15>:2: RuntimeWarning: divide by zero encountered in double_scalars\n",
      "  return 6/(_Dummy_113 - 1)**4\n"
     ]
    },
    {
     "data": {
      "image/png": "[encoded data removed]",
      "text/plain": [
       "<Figure size 576x432 with 3 Axes>"
      ]
     },
     "metadata": {},
     "output_type": "display_data"
    }
   ],
   "source": [
    "ana.plot_material()"
   ]
  },
  {
   "cell_type": "code",
   "execution_count": 21,
   "metadata": {},
   "outputs": [
    {
     "data": {
      "text/plain": [
       "((1 - α(x))**(-2), -2/(α(x) - 1)**3, 6/(α(x) - 1)**4)"
      ]
     },
     "execution_count": 21,
     "metadata": {},
     "output_type": "execute_result"
    }
   ],
   "source": [
    "# Localised branches\n",
    "ana._s, ana._sp.simplify(), ana._spp.simplify()"
   ]
  },
  {
   "cell_type": "code",
   "execution_count": 21,
   "metadata": {},
   "outputs": [
    {
     "name": "stderr",
     "output_type": "stream",
     "text": [
      "<lambdifygenerated-18>:2: RuntimeWarning: divide by zero encountered in double_scalars\n",
      "  return 2/(1 - select([greater_equal(t, 1),True], [1.0 - 1/t**2,0], default=nan))**3\n"
     ]
    },
    {
     "data": {
      "text/plain": [
       "[<matplotlib.lines.Line2D at 0x11d971760>]"
      ]
     },
     "execution_count": 21,
     "metadata": {},
     "output_type": "execute_result"
    },
    {
     "data": {
      "image/png": "[encoded data removed]",
      "text/plain": [
       "<Figure size 432x288 with 1 Axes>"
      ]
     },
     "metadata": {},
     "output_type": "display_data"
    }
   ],
   "source": [
    "_homog_state, (_uf, _af) = ana._homogeneous_state(_matpar)\n",
    "\n",
    "\n",
    "_s = ana._sp.subs({α: _homog_state[α]}).subs(_matpar)\n",
    "_sf = sp.lambdify(t, _s, \"numpy\")\n",
    "\n",
    "plt.plot(_times, [_sf(t) for t in _times], c=\"C0\")\n"
   ]
  },
  {
   "cell_type": "code",
   "execution_count": 22,
   "metadata": {},
   "outputs": [
    {
     "name": "stderr",
     "output_type": "stream",
     "text": [
      "<lambdifygenerated-18>:2: RuntimeWarning: divide by zero encountered in double_scalars\n",
      "  return select([greater_equal(t, 1),True], [1.0 - 1/t**2,0], default=nan)\n"
     ]
    },
    {
     "data": {
      "text/plain": [
       "[<matplotlib.lines.Line2D at 0x1451f89a0>]"
      ]
     },
     "execution_count": 22,
     "metadata": {},
     "output_type": "execute_result"
    },
    {
     "data": {
      "image/png": "[encoded data removed]",
      "text/plain": [
       "<Figure size 432x288 with 1 Axes>"
      ]
     },
     "metadata": {},
     "output_type": "display_data"
    }
   ],
   "source": [
    "_homog_state, (_uf, _af) = ana._homogeneous_state(_matpar)\n",
    "\n",
    "\n",
    "_w = ana._w.subs({α: _homog_state[α]}).subs(_matpar)\n",
    "_wf = sp.lambdify(t, _w, \"numpy\")\n",
    "\n",
    "plt.plot(_times, [_wf(t) for t in _times], c=\"C0\")\n"
   ]
  },
  {
   "cell_type": "markdown",
   "metadata": {},
   "source": [
    "$$E_0 H(\\sigma, \\beta) = 2w(\\beta) - \\sigma^2 (S(\\beta)-S_0))$$"
   ]
  },
  {
   "cell_type": "markdown",
   "metadata": {},
   "source": [
    "with\n",
    "$$\\eta^2 \\alpha'(x)^2 = H(\\sigma, \\alpha(x)) \\qquad \\qquad x\\in S_i$$"
   ]
  },
  {
   "cell_type": "markdown",
   "metadata": {},
   "source": [
    "$$e_\\text{loc}(\\sigma)=\\int_0^{\\bar \\alpha(\\sigma)} \\frac{S(\\beta)-S_0}{\\sqrt{2w(\\beta) - \\sigma^2(S(\\beta)-S_0))}}d\\beta$$"
   ]
  },
  {
   "cell_type": "markdown",
   "metadata": {},
   "source": []
  },
  {
   "cell_type": "code",
   "execution_count": 30,
   "metadata": {},
   "outputs": [
    {
     "data": {
      "text/latex": [
       "$\\displaystyle \\frac{1}{\\left(1 - α{\\left(x \\right)}\\right)^{2}}$"
      ],
      "text/plain": [
       "(1 - α(x))**(-2)"
      ]
     },
     "execution_count": 30,
     "metadata": {},
     "output_type": "execute_result"
    }
   ],
   "source": [
    "ana._s"
   ]
  },
  {
   "cell_type": "code",
   "execution_count": 31,
   "metadata": {},
   "outputs": [
    {
     "data": {
      "text/latex": [
       "$\\displaystyle 2$"
      ],
      "text/plain": [
       "2"
      ]
     },
     "execution_count": 31,
     "metadata": {},
     "output_type": "execute_result"
    }
   ],
   "source": [
    "sp.diff(ana._s, α) \\\n",
    "    .subs({α: 0})"
   ]
  },
  {
   "cell_type": "code",
   "execution_count": 23,
   "metadata": {},
   "outputs": [
    {
     "name": "stderr",
     "output_type": "stream",
     "text": [
      "<lambdifygenerated-19>:2: RuntimeWarning: divide by zero encountered in double_scalars\n",
      "  return 2*β + 0.9801 - 0.9801/(1 - β)**2\n",
      "<lambdifygenerated-20>:2: RuntimeWarning: divide by zero encountered in double_scalars\n",
      "  return 2*β + 0.814004938271605 - 0.814004938271605/(1 - β)**2\n",
      "<lambdifygenerated-21>:2: RuntimeWarning: divide by zero encountered in double_scalars\n",
      "  return 2*β + 0.66331975308642 - 0.66331975308642/(1 - β)**2\n",
      "<lambdifygenerated-22>:2: RuntimeWarning: divide by zero encountered in double_scalars\n",
      "  return 2*β + 0.528044444444444 - 0.528044444444444/(1 - β)**2\n",
      "<lambdifygenerated-23>:2: RuntimeWarning: divide by zero encountered in double_scalars\n",
      "  return 2*β + 0.408179012345679 - 0.408179012345679/(1 - β)**2\n",
      "<lambdifygenerated-24>:2: RuntimeWarning: divide by zero encountered in double_scalars\n",
      "  return 2*β + 0.303723456790123 - 0.303723456790123/(1 - β)**2\n",
      "<lambdifygenerated-25>:2: RuntimeWarning: divide by zero encountered in double_scalars\n",
      "  return 2*β + 0.214677777777778 - 0.214677777777778/(1 - β)**2\n",
      "<lambdifygenerated-26>:2: RuntimeWarning: divide by zero encountered in double_scalars\n",
      "  return 2*β + 0.141041975308642 - 0.141041975308642/(1 - β)**2\n",
      "<lambdifygenerated-27>:2: RuntimeWarning: divide by zero encountered in double_scalars\n",
      "  return 2*β + 0.082816049382716 - 0.082816049382716/(1 - β)**2\n",
      "<lambdifygenerated-28>:2: RuntimeWarning: divide by zero encountered in double_scalars\n",
      "  return 2*β + 0.04 - 0.04/(1 - β)**2\n"
     ]
    },
    {
     "data": {
      "text/plain": [
       "(-1.0, 1.0)"
      ]
     },
     "execution_count": 23,
     "metadata": {},
     "output_type": "execute_result"
    },
    {
     "data": {
      "image/png": "[encoded data removed]",
      "text/plain": [
       "<Figure size 432x288 with 1 Axes>"
      ]
     },
     "metadata": {},
     "output_type": "display_data"
    }
   ],
   "source": [
    "_Hσβ = ana._H_damage_profile().subs(_matpar)\n",
    "\n",
    "_σ = sp.symbols('σ')\n",
    "_β = sp.symbols('β')\n",
    "\n",
    "\n",
    "\n",
    "for k in np.linspace(.99, .2, 10):\n",
    "# for k in np.arange(2, 5):\n",
    "    _Hβ = _Hσβ.subs({_σ: k})\n",
    "    # _Hβ = _Hσβ.subs({_σ: 1./k})\n",
    "    _Hβf = sp.lambdify(_β, _Hβ, \"numpy\")\n",
    "    _sol = sp.solve(_Hβ, _β, (0, 1), solver='bisect') \n",
    "    αmax = _sol[1][0]\n",
    "    plt.plot(_damage, [_Hβf(β) for β in _damage], label = f\"$\\sigma/\\sigma_0$  = {k:.2f}\")\n",
    "    # plt.plot(_damage, [_Hβf(β) for β in _damage], label = f\"$\\sigma/\\sigma_0$  = 1/{k:d}\")\n",
    "    plt.axvline(αmax, c='k', lw=1)\n",
    "\n",
    "\n",
    "plt.legend()\n",
    "plt.axhline(0, c=\"k\")\n",
    "plt.ylim(-1, 1)\n"
   ]
  },
  {
   "cell_type": "code",
   "execution_count": 34,
   "metadata": {},
   "outputs": [
    {
     "data": {
      "text/plain": [
       "array([1.        , 0.97959184, 0.95918367, 0.93877551, 0.91836735,\n",
       "       0.89795918, 0.87755102, 0.85714286, 0.83673469, 0.81632653,\n",
       "       0.79591837, 0.7755102 , 0.75510204, 0.73469388, 0.71428571,\n",
       "       0.69387755, 0.67346939, 0.65306122, 0.63265306, 0.6122449 ,\n",
       "       0.59183673, 0.57142857, 0.55102041, 0.53061224, 0.51020408,\n",
       "       0.48979592, 0.46938776, 0.44897959, 0.42857143, 0.40816327,\n",
       "       0.3877551 , 0.36734694, 0.34693878, 0.32653061, 0.30612245,\n",
       "       0.28571429, 0.26530612, 0.24489796, 0.2244898 , 0.20408163,\n",
       "       0.18367347, 0.16326531, 0.14285714, 0.12244898, 0.10204082,\n",
       "       0.08163265, 0.06122449, 0.04081633, 0.02040816, 0.        ])"
      ]
     },
     "execution_count": 34,
     "metadata": {},
     "output_type": "execute_result"
    }
   ],
   "source": [
    "\n",
    "np.linspace(1., 0.)"
   ]
  },
  {
   "cell_type": "code",
   "execution_count": 158,
   "metadata": {},
   "outputs": [
    {
     "name": "stdout",
     "output_type": "stream",
     "text": [
      "[(0.0, (0.0, 1.0)), (0.578464834591373, (0.0, 1.0)), (1.29653516540863, (0.0, 1.0))]\n"
     ]
    },
    {
     "data": {
      "text/latex": [
       "$\\displaystyle \\frac{\\sqrt{2}}{2 \\sqrt{β + 0.125 - \\frac{0.125}{\\left(1 - β\\right)^{2}}}}$"
      ],
      "text/plain": [
       "sqrt(2)/(2*sqrt(β + 0.125 - 0.125/(1 - β)**2))"
      ]
     },
     "execution_count": 158,
     "metadata": {},
     "output_type": "execute_result"
    }
   ],
   "source": [
    "\n",
    "\n",
    "σv = .5\n",
    "_β = sp.symbols('β')\n",
    "_αmax = ana._α_max(σv)\n",
    "\n",
    "\n",
    "_E0 = ana.model.matpar[E0]\n",
    "_η = ana.model.matpar[η]\n",
    "\n",
    "_f = 1/sp.sqrt(ana._H_damage_profile()).subs({_σ: σv}).subs(ana.model.matpar)\n",
    "\n",
    "# _Dσ =  sp.integrate(_f, (_β, 0, _αmax))\n",
    "# ana.model.matpar\n",
    "# _αmax\n",
    "# 1/_f\n",
    "\n",
    "(0, _αmax)\n",
    "_f\n",
    "# sp.N(_Dσ)"
   ]
  },
  {
   "cell_type": "code",
   "execution_count": 162,
   "metadata": {},
   "outputs": [
    {
     "data": {
      "text/latex": [
       "$\\displaystyle 0.578464834591373$"
      ],
      "text/plain": [
       "0.578464834591373"
      ]
     },
     "execution_count": 162,
     "metadata": {},
     "output_type": "execute_result"
    }
   ],
   "source": [
    "_αmax"
   ]
  },
  {
   "cell_type": "code",
   "execution_count": 154,
   "metadata": {},
   "outputs": [
    {
     "data": {
      "text/latex": [
       "$\\displaystyle \\frac{0.05 \\sqrt{2}}{\\sqrt{β + 0.32 - \\frac{0.32}{\\left(1 - β\\right)^{2}}}}$"
      ],
      "text/plain": [
       "0.05*sqrt(2)/sqrt(β + 0.32 - 0.32/(1 - β)**2)"
      ]
     },
     "execution_count": 154,
     "metadata": {},
     "output_type": "execute_result"
    }
   ],
   "source": [
    "_f = (_η*1/sp.sqrt(ana._H_damage_profile())).subs(ana.model.matpar).subs({_σ: σv, η: .1})\n",
    "_f"
   ]
  },
  {
   "cell_type": "code",
   "execution_count": 161,
   "metadata": {},
   "outputs": [
    {
     "data": {
      "text/latex": [
       "$\\displaystyle 577.350413531778 \\sqrt{2}$"
      ],
      "text/plain": [
       "577.350413531778*sqrt(2)"
      ]
     },
     "execution_count": 161,
     "metadata": {},
     "output_type": "execute_result"
    }
   ],
   "source": [
    "_f.subs({_β: 0.000001})"
   ]
  },
  {
   "cell_type": "code",
   "execution_count": 147,
   "metadata": {},
   "outputs": [
    {
     "name": "stderr",
     "output_type": "stream",
     "text": [
      "<lambdifygenerated-95>:2: RuntimeWarning: divide by zero encountered in double_scalars\n",
      "  return 0.05*sqrt(2)/sqrt(β + 0.405 - 0.405/(1 - β)**2)\n"
     ]
    },
    {
     "data": {
      "text/plain": [
       "[inf,\n",
       " 1.4198445928507244,\n",
       " 1.062902744821545,\n",
       " 0.9281524075913692,\n",
       " 0.8716905883783043,\n",
       " 0.862790575573251,\n",
       " 0.9000066083189326,\n",
       " 1.0097065589173468,\n",
       " 1.3213082406217636,\n",
       " inf]"
      ]
     },
     "execution_count": 147,
     "metadata": {},
     "output_type": "execute_result"
    }
   ],
   "source": [
    "_fv = sp.lambdify(_β, _f, \"numpy\")\n",
    "_beta = np.linspace(0., np.float64(_αmax), 10)\n",
    "# _beta\n",
    "[_fv(b) for b in _beta]"
   ]
  },
  {
   "cell_type": "code",
   "execution_count": 148,
   "metadata": {},
   "outputs": [
    {
     "data": {
      "text/plain": [
       "inf"
      ]
     },
     "execution_count": 148,
     "metadata": {},
     "output_type": "execute_result"
    }
   ],
   "source": [
    "\n",
    "np.trapz([_fv(b) for b in _beta], _beta)"
   ]
  },
  {
   "cell_type": "code",
   "execution_count": 48,
   "metadata": {},
   "outputs": [],
   "source": [
    "\n",
    "amax = []\n",
    "for i in np.arange(2, 8):\n",
    "    amax.append(ana._α_max(1/i))"
   ]
  },
  {
   "cell_type": "code",
   "execution_count": 171,
   "metadata": {},
   "outputs": [
    {
     "data": {
      "text/plain": [
       "{n: 1, E0: 1, w1: w1, η: η, L: L}"
      ]
     },
     "execution_count": 171,
     "metadata": {},
     "output_type": "execute_result"
    }
   ],
   "source": [
    "ana.model.matpar"
   ]
  },
  {
   "cell_type": "code",
   "execution_count": 184,
   "metadata": {},
   "outputs": [
    {
     "name": "stdout",
     "output_type": "stream",
     "text": [
      "[(0.0, (0.0, 1.0)), (0.129663006415488, (0.0, 1.0)), (1.46533699358451, (0.0, 1.0))]\n"
     ]
    },
    {
     "data": {
      "text/latex": [
       "$\\displaystyle 0.129663006415488$"
      ],
      "text/plain": [
       "0.129663006415488"
      ]
     },
     "execution_count": 184,
     "metadata": {},
     "output_type": "execute_result"
    }
   ],
   "source": [
    "ana._α_max(.9)"
   ]
  },
  {
   "cell_type": "code",
   "execution_count": 231,
   "metadata": {},
   "outputs": [
    {
     "data": {
      "text/latex": [
       "$\\displaystyle \\frac{1}{\\left(1 - α{\\left(x \\right)}\\right)^{2}} - \\frac{1}{E_{0}}$"
      ],
      "text/plain": [
       "(1 - α(x))**(-2) - 1/E0"
      ]
     },
     "execution_count": 231,
     "metadata": {},
     "output_type": "execute_result"
    }
   ],
   "source": []
  },
  {
   "cell_type": "code",
   "execution_count": 244,
   "metadata": {},
   "outputs": [
    {
     "name": "stdout",
     "output_type": "stream",
     "text": [
      "[(0.0, (0.0, 1.0)), (0.129663006415488, (0.0, 1.0)), (1.46533699358451, (0.0, 1.0))]\n"
     ]
    },
    {
     "data": {
      "text/latex": [
       "$\\displaystyle \\frac{1 - \\left(β - 1\\right)^{2}}{\\sqrt{\\frac{- σ^{2} + \\left(β - 1\\right)^{2} \\cdot \\left(2 β + σ^{2}\\right)}{\\left(β - 1\\right)^{2}}} \\left(β - 1\\right)^{2}}$"
      ],
      "text/plain": [
       "(1 - (β - 1)**2)/(sqrt((-σ**2 + (β - 1)**2*(2*β + σ**2))/(β - 1)**2)*(β - 1)**2)"
      ]
     },
     "execution_count": 244,
     "metadata": {},
     "output_type": "execute_result"
    }
   ],
   "source": [
    "def _eps_1_d(sigma):\n",
    "    _α_max = ana._α_max(sigma)\n",
    "    _f = (ana._s - 1/E0).subs(α, _β)/sp.sqrt(ana._H_damage_profile())   \\\n",
    "        .simplify()\n",
    "    # \\\n",
    "            # .subs(ana.model.matpar)         \\\n",
    "            # .subs({_σ: sigma})\n",
    "\n",
    "\n",
    "    return (_f) \n",
    "\n",
    "_integrand = _eps_1_d(.9)\n",
    "\n",
    "_integrand.subs(ana.model.matpar).simplify()\n",
    "\n",
    "\n"
   ]
  },
  {
   "cell_type": "code",
   "execution_count": 246,
   "metadata": {},
   "outputs": [],
   "source": [
    "__integrandv = sp.lambdify(_β, _integrand, \"numpy\")\n",
    "__integrandv(0.)\n"
   ]
  },
  {
   "cell_type": "markdown",
   "metadata": {},
   "source": [
    "Behaviour around $\\beta=0$\n",
    "\n",
    "$$\\frac{\\partial f}{\\partial \\beta}|_{\\beta=0}$$\n",
    "\n",
    "with $f = 1/\\sqrt{H(\\sigma, \\beta)}$"
   ]
  },
  {
   "cell_type": "code",
   "execution_count": 196,
   "metadata": {},
   "outputs": [
    {
     "data": {
      "text/latex": [
       "$\\displaystyle \\frac{E_{0} \\cdot \\left(1 - σ^{2}\\right)}{σ^{2} \\sqrt{- \\frac{σ^{2} \\left(E_{0} - 1\\right)}{E_{0}^{2}}} \\left(E_{0} - 1\\right)}$"
      ],
      "text/plain": [
       "E0*(1 - σ**2)/(σ**2*sqrt(-σ**2*(E0 - 1)/E0**2)*(E0 - 1))"
      ]
     },
     "execution_count": 196,
     "metadata": {},
     "output_type": "execute_result"
    }
   ],
   "source": [
    "sp.diff(_f, _β).simplify().subs({ _β: 0})"
   ]
  },
  {
   "cell_type": "code",
   "execution_count": 197,
   "metadata": {},
   "outputs": [
    {
     "data": {
      "text/latex": [
       "$\\displaystyle \\frac{\\tilde{\\infty} \\left(1 - σ^{2}\\right)}{σ^{2}}$"
      ],
      "text/plain": [
       "zoo*(1 - σ**2)/σ**2"
      ]
     },
     "execution_count": 197,
     "metadata": {},
     "output_type": "execute_result"
    }
   ],
   "source": [
    "sp.diff(_f, _β).simplify().subs({ _β: 0}).subs(ana.model.matpar)"
   ]
  },
  {
   "cell_type": "code",
   "execution_count": 42,
   "metadata": {},
   "outputs": [
    {
     "name": "stdout",
     "output_type": "stream",
     "text": [
      "0.252122461732037\n"
     ]
    },
    {
     "name": "stderr",
     "output_type": "stream",
     "text": [
      "<lambdifygenerated-38>:2: RuntimeWarning: invalid value encountered in sqrt\n",
      "  return (1/2)*sqrt(2)*(-1 + (1 - β)**(-2.0))/sqrt(β + 0.32 - 0.32/(1 - β)**2)\n"
     ]
    },
    {
     "data": {
      "text/plain": [
       "array([ 1.05031703,  1.09049072,  1.13178395,  1.17430101,  1.21815408,\n",
       "        1.26346467,  1.31036524,  1.35900097,  1.409532  ,  1.4621359 ,\n",
       "        1.51701067,  1.57437833,  1.63448927,  1.69762748,  1.76411707,\n",
       "        1.83433032,  1.90869767,  1.98772056,  2.07198761,  2.16219576,\n",
       "        2.25917793,  2.36393978,  2.47770953,  2.60200646,  2.73873726,\n",
       "        2.89033447,  3.05996084,  3.2518203 ,  3.47164825,  3.72751809,\n",
       "        4.0312376 ,  4.40092493,  4.86615951,  5.47943802,  6.34572512,\n",
       "        7.7178545 , 10.45474401, 22.97158974,         nan,         nan,\n",
       "               nan,         nan,         nan,         nan,         nan,\n",
       "               nan,         nan,         nan,         nan,         nan])"
      ]
     },
     "execution_count": 42,
     "metadata": {},
     "output_type": "execute_result"
    }
   ],
   "source": [
    "_σ = sp.symbols('σ')\n",
    "_β = sp.symbols('β')\n",
    "sigmav = .8\n",
    "\n",
    "_f = ((ana._s - 1/E0).subs({α: _β}) * 1/sp.sqrt(ana._H_damage_profile()))    \\\n",
    "    .subs(ana.model.matpar)                                                \\\n",
    "    .subs({_σ: sigmav, η: .1})\n",
    "_fvβ = sp.lambdify(_β, _f, \"numpy\")\n",
    "\n",
    "\n",
    "# _α_max = ana._α_max(sigmav)\n",
    "# \n",
    "print(_α_max.subs(ana.model.matpar))\n",
    "\n",
    "_x = np.linspace(0.1, .3)\n",
    "_fvβ(_x)\n",
    "\n",
    "\n",
    "# np"
   ]
  },
  {
   "cell_type": "code",
   "execution_count": 205,
   "metadata": {},
   "outputs": [
    {
     "data": {
      "text/plain": [
       "{n: 1, E0: 1, w1: w1, η: η, L: L}"
      ]
     },
     "execution_count": 205,
     "metadata": {},
     "output_type": "execute_result"
    }
   ],
   "source": [
    "ana.model.matpar\n"
   ]
  },
  {
   "cell_type": "code",
   "execution_count": 222,
   "metadata": {},
   "outputs": [
    {
     "data": {
      "text/latex": [
       "$\\displaystyle -2.41839915231229$"
      ],
      "text/plain": [
       "-2.41839915231229"
      ]
     },
     "execution_count": 222,
     "metadata": {},
     "output_type": "execute_result"
    }
   ],
   "source": [
    "ana._deps_1_d_dσ()"
   ]
  },
  {
   "cell_type": "code",
   "execution_count": 67,
   "metadata": {},
   "outputs": [
    {
     "data": {
      "text/plain": [
       "(0.0, 1.0)"
      ]
     },
     "execution_count": 67,
     "metadata": {},
     "output_type": "execute_result"
    },
    {
     "data": {
      "image/png": "[encoded data removed]",
      "text/plain": [
       "<Figure size 432x288 with 1 Axes>"
      ]
     },
     "metadata": {},
     "output_type": "display_data"
    }
   ],
   "source": [
    "\n",
    "\n",
    "\n",
    "amax = []\n",
    "for i in np.linspace(.99, .2, 10):\n",
    "    amax.append(ana._α_max(i))\n",
    "\n",
    "\n",
    "plt.plot(amax, np.linspace(1, .0, 10), marker='o')\n",
    "plt.xlabel('$\\\\bar \\\\alpha$')\n",
    "plt.ylabel('$\\\\sigma/\\\\sigma_0$')\n",
    "plt.xlim(0., 1.)\n",
    "# plt.plot(np.linspace(-.99, -.2, 10), amax)"
   ]
  },
  {
   "cell_type": "code",
   "execution_count": 221,
   "metadata": {},
   "outputs": [
    {
     "data": {
      "text/latex": [
       "$\\displaystyle -4.83679830462458$"
      ],
      "text/plain": [
       "-4.83679830462458"
      ]
     },
     "execution_count": 221,
     "metadata": {},
     "output_type": "execute_result"
    }
   ],
   "source": [
    "- np.pi * 2**(5/2) * (ana._sp**2 / (ana._spp - 2*ana._wpp)**(3/2)).subs({α: 0})\n",
    "# return - ((np.pi * 2**(5/2) * ((_sp) )**2 * _σc**2 * _E0**1/2) / \\\n",
    "#     (self._spp  * _σc**2 - 2.* self._wpp) ** (3/2)).subs({α: 0})"
   ]
  },
  {
   "cell_type": "markdown",
   "metadata": {},
   "source": [
    "### PQ"
   ]
  },
  {
   "cell_type": "code",
   "execution_count": 223,
   "metadata": {},
   "outputs": [
    {
     "data": {
      "text/latex": [
       "$\\displaystyle \\frac{\\left(p + q\\right) \\left(- \\frac{0.5 E_{0}^{2} t^{2}}{L^{2}} + σc^{2}\\right)}{E_{0}}$"
      ],
      "text/plain": [
       "(p + q)*(-0.5*E0**2*t**2/L**2 + σc**2)/E0"
      ]
     },
     "execution_count": 223,
     "metadata": {},
     "output_type": "execute_result"
    }
   ],
   "source": [
    "state = {u: u, α: α}\n",
    "p, q, E0, L, w1, η, σc = sp.symbols('p q E0 L w1 η σc')\n",
    "\n",
    "# _matpar = {n: 1, L: 1, E0: 1, w1: 1, η: η}\n",
    "\n",
    "dpq = DamagePQ(state, matpar={}, name=\"pq\")\n",
    "ana = ModelAnalysis(model = dpq)\n",
    "ana.criterion()\n"
   ]
  },
  {
   "cell_type": "code",
   "execution_count": 225,
   "metadata": {},
   "outputs": [
    {
     "data": {
      "text/latex": [
       "$\\displaystyle - \\frac{8.88576587631673 E_{0} \\left(p + q\\right)^{2}}{\\left(2 p q + p \\left(p - 1\\right) + q \\left(q + 1\\right)\\right)^{1.5}}$"
      ],
      "text/plain": [
       "-8.88576587631673*E0*(p + q)**2/(2*p*q + p*(p - 1) + q*(q + 1))**1.5"
      ]
     },
     "execution_count": 225,
     "metadata": {},
     "output_type": "execute_result"
    }
   ],
   "source": [
    "ana._deps_1_d_dσ()"
   ]
  },
  {
   "cell_type": "code",
   "execution_count": 159,
   "metadata": {},
   "outputs": [
    {
     "data": {
      "text/latex": [
       "$\\displaystyle - \\frac{8.88576587631673 \\left(p + q\\right)^{2}}{\\left(p^{3} + 3 p^{2} q - 3 p^{2} + 3 p q^{2} + 2 p + q^{3} + 3 q^{2} + 2 q\\right)^{1.5}}$"
      ],
      "text/plain": [
       "-8.88576587631673*(p + q)**2/(p**3 + 3*p**2*q - 3*p**2 + 3*p*q**2 + 2*p + q**3 + 3*q**2 + 2*q)**1.5"
      ]
     },
     "execution_count": 159,
     "metadata": {},
     "output_type": "execute_result"
    }
   ],
   "source": [
    "ana._deps_1_d_dσ() \\\n",
    "    .subs({E0: 1, σc: 1})"
   ]
  }
 ],
 "metadata": {
  "interpreter": {
   "hash": "b0fa6594d8f4cbf19f97940f81e996739fb7646882a419484c72d19e05852a7e"
  },
  "kernelspec": {
   "display_name": "Python 3.9.13 64-bit",
   "language": "python",
   "name": "python3"
  },
  "language_info": {
   "codemirror_mode": {
    "name": "ipython",
    "version": 3
   },
   "file_extension": ".py",
   "mimetype": "text/x-python",
   "name": "python",
   "nbconvert_exporter": "python",
   "pygments_lexer": "ipython3",
   "version": "3.9.13"
  },
  "orig_nbformat": 4
 },
 "nbformat": 4,
 "nbformat_minor": 2
}
