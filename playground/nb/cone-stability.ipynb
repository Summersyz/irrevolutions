{
 "cells": [
  {
   "cell_type": "code",
   "execution_count": 1,
   "metadata": {},
   "outputs": [
    {
     "name": "stdout",
     "output_type": "stream",
     "text": [
      "postproc\n"
     ]
    }
   ],
   "source": [
    "# Testing Pacman\n",
    "import postprocess as pp\n",
    "import plots as plots\n"
   ]
  },
  {
   "cell_type": "code",
   "execution_count": 2,
   "metadata": {},
   "outputs": [],
   "source": [
    "import sympy as sp\n",
    "import numpy as np\n",
    "import matplotlib.pyplot as plt\n",
    "from pathlib import Path "
   ]
  },
  {
   "cell_type": "markdown",
   "metadata": {},
   "source": [
    "## Stability of a discrete system"
   ]
  },
  {
   "cell_type": "code",
   "execution_count": 8,
   "metadata": {},
   "outputs": [],
   "source": [
    "# Run the simulation:\n",
    "\n",
    "# !../practice/discrete-atk.py -N 2\n",
    "# !../practice/discrete-atk.py -N 3"
   ]
  },
  {
   "cell_type": "markdown",
   "metadata": {},
   "source": [
    "## N=2"
   ]
  },
  {
   "cell_type": "code",
   "execution_count": 9,
   "metadata": {},
   "outputs": [],
   "source": [
    "experiment = '../../practice/output/discrete-atk-N2'\n",
    "params, data, signature = pp.load_data(experiment)\n",
    "model_parameters = params.get(\"model\")\n",
    "\n",
    "_mu, _w1, _k, _N = model_parameters.get(\"mu\"), model_parameters.get(\n",
    "    \"w1\"), model_parameters.get(\"k\"), model_parameters[\"N\"]\n"
   ]
  },
  {
   "cell_type": "code",
   "execution_count": 10,
   "metadata": {},
   "outputs": [
    {
     "data": {
      "text/plain": [
       "{'N': 2,\n",
       " 'ell': 0.1,\n",
       " 'k': 3,\n",
       " 'k_res': 0.0001,\n",
       " 'model_dimension': 1,\n",
       " 'model_type': '1D',\n",
       " 'mu': 1,\n",
       " 'w1': 1}"
      ]
     },
     "execution_count": 10,
     "metadata": {},
     "output_type": "execute_result"
    }
   ],
   "source": [
    "model_parameters"
   ]
  },
  {
   "cell_type": "code",
   "execution_count": 11,
   "metadata": {},
   "outputs": [
    {
     "data": {
      "text/plain": [
       "30"
      ]
     },
     "execution_count": 11,
     "metadata": {},
     "output_type": "execute_result"
    }
   ],
   "source": [
    "len(data.cone_data)"
   ]
  },
  {
   "cell_type": "markdown",
   "metadata": {},
   "source": [
    "$$\n",
    "E(u):=\\frac{1}{2} N\\mu\\sum_{i=1}^N a(\\alpha_i)(u_{i}-u_{i-1})^2 + \\frac{w_1}{N} \\sum_{i=1}^N w(\\alpha_i)\n",
    "$$"
   ]
  },
  {
   "cell_type": "markdown",
   "metadata": {},
   "source": [
    "### Analytic solution"
   ]
  },
  {
   "cell_type": "code",
   "execution_count": 12,
   "metadata": {},
   "outputs": [],
   "source": [
    "## Simple Analytic \n",
    "α, α1, α2, e1, e2 = sp.symbols('α α1 α2 e1 e2')\n",
    "u1, u2 = sp.symbols('u1 u2')\n",
    "K1, K2 = sp.symbols('K1 K2', positive=True)\n",
    "s1, s2 = sp.symbols('s1 s2', positive=True)\n",
    "μ, N = sp.symbols('μ N', positive=True)\n",
    "w1 = sp.symbols('w1', positive=True)\n",
    "t = sp.Symbol('t', positive=True)\n",
    "k = sp.Symbol('k', positive=True)\n",
    "\n",
    "# _N = 2\n",
    "\n",
    "K = lambda α: (1-α)/(1+(k-1)*α)\n",
    "s = lambda α: 1/K(α)\n",
    "\n",
    "U = 1/2*μ*(K1*u1**2 + K2*(t-u1)**2) * N\n",
    "\n",
    "S = w1*(α1 + α2) / N\n",
    "\n",
    "sol_u = sp.solve(U.diff(u1), u1)\n",
    "\n",
    "\n",
    "matpar = {k: _k, w1: _w1, N: _N, μ: _mu}\n"
   ]
  },
  {
   "cell_type": "code",
   "execution_count": 13,
   "metadata": {},
   "outputs": [
    {
     "data": {
      "text/latex": [
       "$\\displaystyle 0.5 N μ \\left(K_{1} u_{1}^{2} + K_{2} \\left(t - u_{1}\\right)^{2}\\right)$"
      ],
      "text/plain": [
       "0.5*N*μ*(K1*u1**2 + K2*(t - u1)**2)"
      ]
     },
     "execution_count": 13,
     "metadata": {},
     "output_type": "execute_result"
    }
   ],
   "source": [
    "U"
   ]
  },
  {
   "cell_type": "code",
   "execution_count": 14,
   "metadata": {},
   "outputs": [
    {
     "data": {
      "text/latex": [
       "$\\displaystyle \\frac{K_{2} t}{K_{1} + K_{2}}$"
      ],
      "text/plain": [
       "K2*t/(K1 + K2)"
      ]
     },
     "execution_count": 14,
     "metadata": {},
     "output_type": "execute_result"
    }
   ],
   "source": [
    "sp.simplify(sol_u[0])"
   ]
  },
  {
   "cell_type": "code",
   "execution_count": 15,
   "metadata": {},
   "outputs": [
    {
     "data": {
      "text/latex": [
       "$\\displaystyle \\frac{t}{2}$"
      ],
      "text/plain": [
       "t/2"
      ]
     },
     "execution_count": 15,
     "metadata": {},
     "output_type": "execute_result"
    }
   ],
   "source": [
    "sp.simplify(sol_u[0]).subs({K1: 1/s(α), K2: 1/s(α)})"
   ]
  },
  {
   "cell_type": "code",
   "execution_count": 16,
   "metadata": {},
   "outputs": [
    {
     "data": {
      "text/latex": [
       "$\\displaystyle \\frac{0.5 K_{1} K_{2} N t^{2} μ}{K_{1} + K_{2}}$"
      ],
      "text/plain": [
       "0.5*K1*K2*N*t**2*μ/(K1 + K2)"
      ]
     },
     "execution_count": 16,
     "metadata": {},
     "output_type": "execute_result"
    }
   ],
   "source": [
    "E=U.subs(u1, sol_u[0]).simplify()\n",
    "E"
   ]
  },
  {
   "cell_type": "code",
   "execution_count": 17,
   "metadata": {},
   "outputs": [
    {
     "data": {
      "text/latex": [
       "$\\displaystyle \\frac{0.25 N t^{2} μ \\left(1 - α\\right)}{α \\left(k - 1\\right) + 1}$"
      ],
      "text/plain": [
       "0.25*N*t**2*μ*(1 - α)/(α*(k - 1) + 1)"
      ]
     },
     "execution_count": 17,
     "metadata": {},
     "output_type": "execute_result"
    }
   ],
   "source": [
    "E.subs({K1: 1/s(α), K2: 1/s(α)})"
   ]
  },
  {
   "cell_type": "code",
   "execution_count": 18,
   "metadata": {},
   "outputs": [
    {
     "data": {
      "text/latex": [
       "$\\displaystyle \\frac{0.5 N t^{2} μ}{s_{1} + s_{2}}$"
      ],
      "text/plain": [
       "0.5*N*t**2*μ/(s1 + s2)"
      ]
     },
     "execution_count": 18,
     "metadata": {},
     "output_type": "execute_result"
    }
   ],
   "source": [
    "E.subs({K1: 1/s1, K2: 1/s2}).simplify()"
   ]
  },
  {
   "cell_type": "code",
   "execution_count": 19,
   "metadata": {},
   "outputs": [
    {
     "data": {
      "text/latex": [
       "$\\displaystyle \\frac{0.25 N t^{2} μ \\left(1 - α\\right)}{α \\left(k - 1\\right) + 1}$"
      ],
      "text/plain": [
       "0.25*N*t**2*μ*(1 - α)/(α*(k - 1) + 1)"
      ]
     },
     "execution_count": 19,
     "metadata": {},
     "output_type": "execute_result"
    }
   ],
   "source": [
    "_E = E.subs({K1: 1/s(α), K2: 1/s(α)})\n",
    "_E"
   ]
  },
  {
   "cell_type": "code",
   "execution_count": 20,
   "metadata": {},
   "outputs": [
    {
     "data": {
      "text/latex": [
       "$\\displaystyle \\frac{0.25 N t^{2} μ \\left(1 - α\\right)}{α \\left(k - 1\\right) + 1} + \\frac{2 w_{1} α}{N}$"
      ],
      "text/plain": [
       "0.25*N*t**2*μ*(1 - α)/(α*(k - 1) + 1) + 2*w1*α/N"
      ]
     },
     "execution_count": 20,
     "metadata": {},
     "output_type": "execute_result"
    }
   ],
   "source": [
    "F = (E+S)\n",
    "# .subs({K1: 1/s(α), K2: 1/s(α)}).subs({})\n",
    "F = (E+S).subs({K1: 1/s(α), K2: 1/s(α), α1: α, α2: α})\n",
    "\n",
    "F"
   ]
  },
  {
   "cell_type": "code",
   "execution_count": 21,
   "metadata": {},
   "outputs": [
    {
     "data": {
      "text/latex": [
       "$\\displaystyle - \\frac{0.25 N k t^{2} μ}{\\left(k α - α + 1\\right)^{2}} + \\frac{2 w_{1}}{N}$"
      ],
      "text/plain": [
       "-0.25*N*k*t**2*μ/(k*α - α + 1)**2 + 2*w1/N"
      ]
     },
     "execution_count": 21,
     "metadata": {},
     "output_type": "execute_result"
    }
   ],
   "source": [
    "Fa = F.diff(α).simplify()\n",
    "Fa"
   ]
  },
  {
   "cell_type": "code",
   "execution_count": 22,
   "metadata": {},
   "outputs": [
    {
     "data": {
      "text/latex": [
       "$\\displaystyle - 0.25 N k t^{2} μ + \\frac{2 w_{1}}{N}$"
      ],
      "text/plain": [
       "-0.25*N*k*t**2*μ + 2*w1/N"
      ]
     },
     "execution_count": 22,
     "metadata": {},
     "output_type": "execute_result"
    }
   ],
   "source": [
    "Fa.subs({α: 0})"
   ]
  },
  {
   "cell_type": "code",
   "execution_count": 23,
   "metadata": {},
   "outputs": [
    {
     "data": {
      "text/latex": [
       "$\\displaystyle \\frac{2.82842712474619 \\sqrt{w_{1}}}{N \\sqrt{k} \\sqrt{μ}}$"
      ],
      "text/plain": [
       "2.82842712474619*sqrt(w1)/(N*sqrt(k)*sqrt(μ))"
      ]
     },
     "execution_count": 23,
     "metadata": {},
     "output_type": "execute_result"
    }
   ],
   "source": [
    "sp.solve(Fa, t)[1].subs({α: 0})"
   ]
  },
  {
   "cell_type": "code",
   "execution_count": 24,
   "metadata": {},
   "outputs": [
    {
     "data": {
      "text/plain": [
       "<function _lambdifygenerated(α, t)>"
      ]
     },
     "execution_count": 24,
     "metadata": {},
     "output_type": "execute_result"
    }
   ],
   "source": [
    "sp.lambdify((α, t), F, 'numpy')"
   ]
  },
  {
   "cell_type": "code",
   "execution_count": 25,
   "metadata": {},
   "outputs": [
    {
     "data": {
      "text/latex": [
       "$\\displaystyle \\frac{0.25 N t^{2} μ \\left(1 - α\\right)}{α \\left(k - 1\\right) + 1} + \\frac{2 w_{1} α}{N}$"
      ],
      "text/plain": [
       "0.25*N*t**2*μ*(1 - α)/(α*(k - 1) + 1) + 2*w1*α/N"
      ]
     },
     "execution_count": 25,
     "metadata": {},
     "output_type": "execute_result"
    }
   ],
   "source": [
    "F"
   ]
  },
  {
   "cell_type": "code",
   "execution_count": 26,
   "metadata": {},
   "outputs": [
    {
     "data": {
      "text/latex": [
       "$\\displaystyle \\frac{0.5 t^{2} \\cdot \\left(1 - α\\right)}{2 α + 1} + α$"
      ],
      "text/plain": [
       "0.5*t**2*(1 - α)/(2*α + 1) + α"
      ]
     },
     "execution_count": 26,
     "metadata": {},
     "output_type": "execute_result"
    }
   ],
   "source": [
    "F.subs(matpar)"
   ]
  },
  {
   "cell_type": "code",
   "execution_count": 27,
   "metadata": {},
   "outputs": [
    {
     "data": {
      "text/plain": [
       "0.5"
      ]
     },
     "execution_count": 27,
     "metadata": {},
     "output_type": "execute_result"
    }
   ],
   "source": [
    "_F = sp.lambdify((α, t), F.subs(matpar), 'numpy')\n",
    "_F(0, 1)"
   ]
  },
  {
   "cell_type": "code",
   "execution_count": 28,
   "metadata": {},
   "outputs": [],
   "source": [
    "data.load;"
   ]
  },
  {
   "cell_type": "markdown",
   "metadata": {},
   "source": [
    "### Verification"
   ]
  },
  {
   "cell_type": "code",
   "execution_count": 29,
   "metadata": {},
   "outputs": [
    {
     "data": {
      "text/plain": [
       "[<matplotlib.lines.Line2D at 0x1345a0ca0>]"
      ]
     },
     "execution_count": 29,
     "metadata": {},
     "output_type": "execute_result"
    },
    {
     "data": {
      "image/png": "[encoded data removed]",
      "text/plain": [
       "<Figure size 432x288 with 1 Axes>"
      ]
     },
     "metadata": {},
     "output_type": "display_data"
    }
   ],
   "source": [
    "plt.plot(data.load, _F(0, data.load.values))\n",
    "plt.plot(data.load, data.elastic_energy, ls='dotted', lw=4)"
   ]
  },
  {
   "cell_type": "code",
   "execution_count": 30,
   "metadata": {},
   "outputs": [
    {
     "data": {
      "text/latex": [
       "$\\displaystyle \\frac{2.82842712474619 \\sqrt{w_{1}}}{N \\sqrt{k} \\sqrt{μ}}$"
      ],
      "text/plain": [
       "2.82842712474619*sqrt(w1)/(N*sqrt(k)*sqrt(μ))"
      ]
     },
     "execution_count": 30,
     "metadata": {},
     "output_type": "execute_result"
    }
   ],
   "source": [
    "_tc = sp.solve(Fa, t)[1].subs({α: 0})\n",
    "_tc\n",
    "# __tc = _tc.subs(matpar)\n",
    "# sp.N(__tc)"
   ]
  },
  {
   "cell_type": "code",
   "execution_count": 31,
   "metadata": {},
   "outputs": [
    {
     "data": {
      "text/latex": [
       "$\\displaystyle 0.816496580927726$"
      ],
      "text/plain": [
       "0.816496580927726"
      ]
     },
     "execution_count": 31,
     "metadata": {},
     "output_type": "execute_result"
    }
   ],
   "source": [
    "sp.N(_tc.subs(matpar))"
   ]
  },
  {
   "cell_type": "code",
   "execution_count": 105,
   "metadata": {},
   "outputs": [
    {
     "ename": "NameError",
     "evalue": "name 'axis' is not defined",
     "output_type": "error",
     "traceback": [
      "\u001b[0;31m---------------------------------------------------------------------------\u001b[0m",
      "\u001b[0;31mNameError\u001b[0m                                 Traceback (most recent call last)",
      "\u001b[1;32m/Users/kumiori/Documents/WIP/m4s-MEC647/mec647/playground/nb/cone-stability.ipynb Cell 32'\u001b[0m in \u001b[0;36m<cell line: 1>\u001b[0;34m()\u001b[0m\n\u001b[0;32m----> <a href='vscode-notebook-cell:/Users/kumiori/Documents/WIP/m4s-MEC647/mec647/playground/nb/cone-stability.ipynb#ch0000072?line=0'>1</a>\u001b[0m axis\n",
      "\u001b[0;31mNameError\u001b[0m: name 'axis' is not defined"
     ]
    }
   ],
   "source": [
    "axis"
   ]
  },
  {
   "cell_type": "code",
   "execution_count": 125,
   "metadata": {},
   "outputs": [
    {
     "data": {
      "image/png": "[encoded data removed]",
      "text/plain": [
       "<Figure size 864x648 with 5 Axes>"
      ]
     },
     "metadata": {},
     "output_type": "display_data"
    }
   ],
   "source": [
    "def _postprocess_stability(data):\n",
    "    \"\"\"docstring for _postprocess_stability\"\"\"\n",
    "    figure, axis = plt.subplots(2, 2, figsize=(12, 9))\n",
    "\n",
    "\n",
    "    # axis[0, 0].plot(X, Y1)\n",
    "    _ax = axis[0, 0]\n",
    "    _ax.plot(data.load, data.fracture_energy, label = 'damage')\n",
    "    _ax.plot(data.load, data.elastic_energy, label = 'elastic')\n",
    "    _total = data.fracture_energy + data.elastic_energy\n",
    "    _ax.plot(data.load, _total, label = 'total')\n",
    "    _ax.legend()\n",
    "    _ax.set_xlabel('load')\n",
    "    _ax.set_ylabel('Energy')\n",
    "\n",
    "    _ax = axis[0, 1]\n",
    "\n",
    "    _ax.plot(data.load, data.F, label = 'stress')\n",
    "    _ax.legend()\n",
    "    _ax.set_xlabel('load')\n",
    "    _ax.set_ylabel('stress')\n",
    "\n",
    "    _ax = axis[1, 0]\n",
    "\n",
    "    for k in range(model_parameters[\"N\"]+1):\n",
    "        _ax.plot(data.load, [u[k] for u in data.u_t], label=f'$u_{k}$', c='C1')\n",
    "    # _ax.plot(data.load, 1/_mu*data.load/2, label=f'$u^*$', ls='dotted', lw=4)\n",
    "\n",
    "    _ax.legend()\n",
    "    _ax.set_title(\"$u$\")\n",
    "\n",
    "    _ax2 = _ax.twinx()\n",
    "\n",
    "    for k in range(model_parameters[\"N\"]):\n",
    "        _ax2.plot(data.load, [a[k] for a in data.alpha_t], label=f'$\\\\alpha_{k}$', lw=3, c='C2')\n",
    "\n",
    "    _ax2.set_title(\"$\\\\alpha$\")\n",
    "    _ax2.legend(loc=4)\n",
    "    _ax2.axhline(1, c='k')\n",
    "\n",
    "\n",
    "    for _ax in axis.reshape(-1):\n",
    "        _ax.axvline(_tc.subs(matpar), c='k', lw=1)\n",
    "\n",
    "    plt.show()\n",
    "\n",
    "\n",
    "_postprocess_stability(data)"
   ]
  },
  {
   "cell_type": "code",
   "execution_count": 33,
   "metadata": {},
   "outputs": [
    {
     "data": {
      "text/plain": [
       "Text(0.5, 1.0, 'N=2, k=3')"
      ]
     },
     "execution_count": 33,
     "metadata": {},
     "output_type": "execute_result"
    },
    {
     "data": {
      "image/png": "[encoded data removed]",
      "text/plain": [
       "<Figure size 432x288 with 1 Axes>"
      ]
     },
     "metadata": {},
     "output_type": "display_data"
    }
   ],
   "source": [
    "# params, data, signature = pp.load_data(experiment)\n",
    "\n",
    "plt.plot(data.load, data.fracture_energy, label = 'damage')\n",
    "plt.plot(data.load, data.elastic_energy, label = 'elastic')\n",
    "_total = data.fracture_energy + data.elastic_energy\n",
    "plt.plot(data.load, _total, label = 'total')\n",
    "# plt.axvline(__tc, c='k')\n",
    "plt.axvline(_tc.subs(matpar), c='k', lw=1)\n",
    "plt.legend()\n",
    "plt.xlabel('load')\n",
    "plt.ylabel('Energy')\n",
    "\n",
    "plt.plot(data.load, _F(0, data.load.values), ls = 'dotted')\n",
    "# plt.plot(data.load, 2*Ef(0, data.load.values), ls = 'dotted')\n",
    "\n",
    "\n",
    "plt.xticks([_tc.subs(matpar), _k], ['$t_c$', '$k$'])\n",
    "plt.title(f'N={_N}, k={_k}')\n",
    "\n"
   ]
  },
  {
   "cell_type": "code",
   "execution_count": 112,
   "metadata": {},
   "outputs": [
    {
     "data": {
      "text/html": [
       "<div>\n",
       "<style scoped>\n",
       "    .dataframe tbody tr th:only-of-type {\n",
       "        vertical-align: middle;\n",
       "    }\n",
       "\n",
       "    .dataframe tbody tr th {\n",
       "        vertical-align: top;\n",
       "    }\n",
       "\n",
       "    .dataframe thead th {\n",
       "        text-align: right;\n",
       "    }\n",
       "</style>\n",
       "<table border=\"1\" class=\"dataframe\">\n",
       "  <thead>\n",
       "    <tr style=\"text-align: right;\">\n",
       "      <th></th>\n",
       "      <th>load</th>\n",
       "      <th>elastic_energy</th>\n",
       "      <th>fracture_energy</th>\n",
       "      <th>total_energy</th>\n",
       "      <th>solver_data</th>\n",
       "      <th>cone_data</th>\n",
       "      <th>eigs</th>\n",
       "      <th>cone-stable</th>\n",
       "      <th>non-bifurcation</th>\n",
       "      <th>F</th>\n",
       "      <th>alpha_t</th>\n",
       "      <th>u_t</th>\n",
       "    </tr>\n",
       "  </thead>\n",
       "  <tbody>\n",
       "    <tr>\n",
       "      <th>0</th>\n",
       "      <td>0.000000</td>\n",
       "      <td>0.000000</td>\n",
       "      <td>0.000000</td>\n",
       "      <td>0.000000</td>\n",
       "      <td>{'iteration': [0], 'error_alpha_L2': [0.0], 'e...</td>\n",
       "      <td>{'iterations': [], 'error_x_L2': [], 'lambda_k...</td>\n",
       "      <td>[0.9999999999999997, 0.9999999999999999, 4.000...</td>\n",
       "      <td>True</td>\n",
       "      <td>False</td>\n",
       "      <td>0.000000</td>\n",
       "      <td>[0.0, 0.0]</td>\n",
       "      <td>[0.0, 0.0, 0.0]</td>\n",
       "    </tr>\n",
       "    <tr>\n",
       "      <th>1</th>\n",
       "      <td>0.103448</td>\n",
       "      <td>0.005351</td>\n",
       "      <td>0.000000</td>\n",
       "      <td>0.005351</td>\n",
       "      <td>{'iteration': [0], 'error_alpha_L2': [0.0], 'e...</td>\n",
       "      <td>{'iterations': [], 'error_x_L2': [], 'lambda_k...</td>\n",
       "      <td>[0.9999999999999997, 0.9999999999999999, 4.000...</td>\n",
       "      <td>True</td>\n",
       "      <td>False</td>\n",
       "      <td>0.051724</td>\n",
       "      <td>[0.0, 0.0]</td>\n",
       "      <td>[0.0, 0.05172413793103448, 0.10344827586206896]</td>\n",
       "    </tr>\n",
       "    <tr>\n",
       "      <th>2</th>\n",
       "      <td>0.206897</td>\n",
       "      <td>0.021403</td>\n",
       "      <td>0.000000</td>\n",
       "      <td>0.021403</td>\n",
       "      <td>{'iteration': [0], 'error_alpha_L2': [0.0], 'e...</td>\n",
       "      <td>{'iterations': [], 'error_x_L2': [], 'lambda_k...</td>\n",
       "      <td>[0.9999999999999997, 0.9999999999999999, 4.000...</td>\n",
       "      <td>True</td>\n",
       "      <td>False</td>\n",
       "      <td>0.103448</td>\n",
       "      <td>[0.0, 0.0]</td>\n",
       "      <td>[0.0, 0.10344827586206896, 0.20689655172413793]</td>\n",
       "    </tr>\n",
       "    <tr>\n",
       "      <th>3</th>\n",
       "      <td>0.310345</td>\n",
       "      <td>0.048157</td>\n",
       "      <td>0.000000</td>\n",
       "      <td>0.048157</td>\n",
       "      <td>{'iteration': [0], 'error_alpha_L2': [0.0], 'e...</td>\n",
       "      <td>{'iterations': [], 'error_x_L2': [], 'lambda_k...</td>\n",
       "      <td>[0.9999999999999997, 0.9999999999999999, 4.000...</td>\n",
       "      <td>True</td>\n",
       "      <td>False</td>\n",
       "      <td>0.155172</td>\n",
       "      <td>[0.0, 0.0]</td>\n",
       "      <td>[0.0, 0.15517241379310345, 0.3103448275862069]</td>\n",
       "    </tr>\n",
       "    <tr>\n",
       "      <th>4</th>\n",
       "      <td>0.413793</td>\n",
       "      <td>0.085612</td>\n",
       "      <td>0.000000</td>\n",
       "      <td>0.085612</td>\n",
       "      <td>{'iteration': [0], 'error_alpha_L2': [0.0], 'e...</td>\n",
       "      <td>{'iterations': [], 'error_x_L2': [], 'lambda_k...</td>\n",
       "      <td>[0.9999999999999997, 0.9999999999999999, 4.000...</td>\n",
       "      <td>True</td>\n",
       "      <td>False</td>\n",
       "      <td>0.206897</td>\n",
       "      <td>[0.0, 0.0]</td>\n",
       "      <td>[0.0, 0.20689655172413793, 0.41379310344827586]</td>\n",
       "    </tr>\n",
       "    <tr>\n",
       "      <th>5</th>\n",
       "      <td>0.517241</td>\n",
       "      <td>0.133769</td>\n",
       "      <td>0.000000</td>\n",
       "      <td>0.133769</td>\n",
       "      <td>{'iteration': [0], 'error_alpha_L2': [0.0], 'e...</td>\n",
       "      <td>{'iterations': [], 'error_x_L2': [], 'lambda_k...</td>\n",
       "      <td>[0.9999999999999997, 0.9999999999999999, 4.000...</td>\n",
       "      <td>True</td>\n",
       "      <td>False</td>\n",
       "      <td>0.258621</td>\n",
       "      <td>[0.0, 0.0]</td>\n",
       "      <td>[0.0, 0.25862068965517243, 0.5172413793103449]</td>\n",
       "    </tr>\n",
       "    <tr>\n",
       "      <th>6</th>\n",
       "      <td>0.620690</td>\n",
       "      <td>0.192628</td>\n",
       "      <td>0.000000</td>\n",
       "      <td>0.192628</td>\n",
       "      <td>{'iteration': [0], 'error_alpha_L2': [0.0], 'e...</td>\n",
       "      <td>{'iterations': [], 'error_x_L2': [], 'lambda_k...</td>\n",
       "      <td>[0.9999999999999997, 0.9999999999999999, 4.000...</td>\n",
       "      <td>True</td>\n",
       "      <td>False</td>\n",
       "      <td>0.310345</td>\n",
       "      <td>[0.0, 0.0]</td>\n",
       "      <td>[0.0, 0.3103448275862069, 0.6206896551724138]</td>\n",
       "    </tr>\n",
       "    <tr>\n",
       "      <th>7</th>\n",
       "      <td>0.724138</td>\n",
       "      <td>0.262188</td>\n",
       "      <td>0.000000</td>\n",
       "      <td>0.262188</td>\n",
       "      <td>{'iteration': [0], 'error_alpha_L2': [0.0], 'e...</td>\n",
       "      <td>{'iterations': [], 'error_x_L2': [], 'lambda_k...</td>\n",
       "      <td>[0.9999999999999997, 0.9999999999999999, 4.000...</td>\n",
       "      <td>True</td>\n",
       "      <td>False</td>\n",
       "      <td>0.362069</td>\n",
       "      <td>[0.0, 0.0]</td>\n",
       "      <td>[0.0, 0.3620689655172414, 0.7241379310344828]</td>\n",
       "    </tr>\n",
       "    <tr>\n",
       "      <th>8</th>\n",
       "      <td>0.827586</td>\n",
       "      <td>0.335566</td>\n",
       "      <td>0.006791</td>\n",
       "      <td>0.342357</td>\n",
       "      <td>{'iteration': [0, 1], 'error_alpha_L2': [0.006...</td>\n",
       "      <td>{'iterations': 134, 'error_x_L2': [1, 0.999999...</td>\n",
       "      <td>[-0.6071437143439314, 0.9999999999999999, 0.99...</td>\n",
       "      <td>True</td>\n",
       "      <td>True</td>\n",
       "      <td>0.405476</td>\n",
       "      <td>[0.006790981265476318, 0.006790981265476318]</td>\n",
       "      <td>[0.0, 0.41379310344827586, 0.8275862068965517]</td>\n",
       "    </tr>\n",
       "    <tr>\n",
       "      <th>9</th>\n",
       "      <td>0.931034</td>\n",
       "      <td>0.353434</td>\n",
       "      <td>0.070140</td>\n",
       "      <td>0.423573</td>\n",
       "      <td>{'iteration': [0, 1], 'error_alpha_L2': [0.063...</td>\n",
       "      <td>{'iterations': 150, 'error_x_L2': [1, 1.0, 0.1...</td>\n",
       "      <td>[-0.6221894019211488, 0.9999999999999997, 0.99...</td>\n",
       "      <td>True</td>\n",
       "      <td>True</td>\n",
       "      <td>0.379614</td>\n",
       "      <td>[0.07013985392357351, 0.07013985392357351]</td>\n",
       "      <td>[0.0, 0.46551724137931033, 0.9310344827586207]</td>\n",
       "    </tr>\n",
       "    <tr>\n",
       "      <th>10</th>\n",
       "      <td>1.034483</td>\n",
       "      <td>0.365950</td>\n",
       "      <td>0.133489</td>\n",
       "      <td>0.499439</td>\n",
       "      <td>{'iteration': [0, 1], 'error_alpha_L2': [0.063...</td>\n",
       "      <td>{'iterations': 166, 'error_x_L2': [1, 0.999999...</td>\n",
       "      <td>[-0.6375690101282074, 0.9999999999999999, 0.99...</td>\n",
       "      <td>True</td>\n",
       "      <td>True</td>\n",
       "      <td>0.353752</td>\n",
       "      <td>[0.1334887265818357, 0.1334887265818357]</td>\n",
       "      <td>[0.0, 0.5172413793103449, 1.0344827586206897]</td>\n",
       "    </tr>\n",
       "    <tr>\n",
       "      <th>11</th>\n",
       "      <td>1.137931</td>\n",
       "      <td>0.373116</td>\n",
       "      <td>0.196838</td>\n",
       "      <td>0.569953</td>\n",
       "      <td>{'iteration': [0, 1], 'error_alpha_L2': [0.063...</td>\n",
       "      <td>{'iterations': 181, 'error_x_L2': [1, 1.000000...</td>\n",
       "      <td>[-0.6532650532366159, 0.9999999999999994, 0.99...</td>\n",
       "      <td>True</td>\n",
       "      <td>True</td>\n",
       "      <td>0.327890</td>\n",
       "      <td>[0.19683759924003694, 0.19683759924003694]</td>\n",
       "      <td>[0.0, 0.5689655172413793, 1.1379310344827587]</td>\n",
       "    </tr>\n",
       "    <tr>\n",
       "      <th>12</th>\n",
       "      <td>1.241379</td>\n",
       "      <td>0.374931</td>\n",
       "      <td>0.260186</td>\n",
       "      <td>0.635117</td>\n",
       "      <td>{'iteration': [0, 1], 'error_alpha_L2': [0.063...</td>\n",
       "      <td>{'iterations': 196, 'error_x_L2': [1, 1.000000...</td>\n",
       "      <td>[-0.6692572759981509, 0.9999999999999999, 0.99...</td>\n",
       "      <td>False</td>\n",
       "      <td>True</td>\n",
       "      <td>0.302028</td>\n",
       "      <td>[0.26018647189822636, 0.26018647189822636]</td>\n",
       "      <td>[0.0, 0.6206896551724138, 1.2413793103448276]</td>\n",
       "    </tr>\n",
       "    <tr>\n",
       "      <th>13</th>\n",
       "      <td>1.344828</td>\n",
       "      <td>0.371395</td>\n",
       "      <td>0.323535</td>\n",
       "      <td>0.694930</td>\n",
       "      <td>{'iteration': [0, 1], 'error_alpha_L2': [0.063...</td>\n",
       "      <td>{'iterations': 210, 'error_x_L2': [1, 1.0, 0.1...</td>\n",
       "      <td>[-0.6855227620335338, 0.9999999999999997, 1.00...</td>\n",
       "      <td>False</td>\n",
       "      <td>True</td>\n",
       "      <td>0.276166</td>\n",
       "      <td>[0.3235353445564129, 0.3235353445564129]</td>\n",
       "      <td>[0.0, 0.6724137931034483, 1.3448275862068966]</td>\n",
       "    </tr>\n",
       "    <tr>\n",
       "      <th>14</th>\n",
       "      <td>1.448276</td>\n",
       "      <td>0.362508</td>\n",
       "      <td>0.386884</td>\n",
       "      <td>0.749393</td>\n",
       "      <td>{'iteration': [0, 1], 'error_alpha_L2': [0.063...</td>\n",
       "      <td>{'iterations': 224, 'error_x_L2': [1, 1.0, 0.1...</td>\n",
       "      <td>[-0.7020361091832108, 0.9999999999999997, 0.99...</td>\n",
       "      <td>False</td>\n",
       "      <td>True</td>\n",
       "      <td>0.250303</td>\n",
       "      <td>[0.38688421721459887, 0.38688421721459887]</td>\n",
       "      <td>[0.0, 0.7241379310344828, 1.4482758620689655]</td>\n",
       "    </tr>\n",
       "    <tr>\n",
       "      <th>15</th>\n",
       "      <td>1.551724</td>\n",
       "      <td>0.348271</td>\n",
       "      <td>0.450233</td>\n",
       "      <td>0.798504</td>\n",
       "      <td>{'iteration': [0, 1], 'error_alpha_L2': [0.063...</td>\n",
       "      <td>{'iterations': 236, 'error_x_L2': [1, 0.999999...</td>\n",
       "      <td>[-0.7187696732691973, 0.9999999999999999, 0.99...</td>\n",
       "      <td>False</td>\n",
       "      <td>True</td>\n",
       "      <td>0.224441</td>\n",
       "      <td>[0.4502330841077626, 0.4502330841077626]</td>\n",
       "      <td>[0.0, 0.7758620689655172, 1.5517241379310345]</td>\n",
       "    </tr>\n",
       "    <tr>\n",
       "      <th>16</th>\n",
       "      <td>1.655172</td>\n",
       "      <td>0.328683</td>\n",
       "      <td>0.513582</td>\n",
       "      <td>0.842265</td>\n",
       "      <td>{'iteration': [0, 1], 'error_alpha_L2': [0.063...</td>\n",
       "      <td>{'iterations': 247, 'error_x_L2': [1, 1.000000...</td>\n",
       "      <td>[-0.7356938563969196, 0.9866000460696424, 0.99...</td>\n",
       "      <td>False</td>\n",
       "      <td>True</td>\n",
       "      <td>0.198579</td>\n",
       "      <td>[0.5135819588386891, 0.5135819588386891]</td>\n",
       "      <td>[0.0, 0.8275862068965517, 1.6551724137931034]</td>\n",
       "    </tr>\n",
       "    <tr>\n",
       "      <th>17</th>\n",
       "      <td>1.758621</td>\n",
       "      <td>0.303744</td>\n",
       "      <td>0.576931</td>\n",
       "      <td>0.880675</td>\n",
       "      <td>{'iteration': [0, 1], 'error_alpha_L2': [0.063...</td>\n",
       "      <td>{'iterations': 258, 'error_x_L2': [1, 1.000000...</td>\n",
       "      <td>[-0.7527774829972335, 0.9285647453763104, 0.99...</td>\n",
       "      <td>False</td>\n",
       "      <td>True</td>\n",
       "      <td>0.172717</td>\n",
       "      <td>[0.5769308327605635, 0.5769308327605635]</td>\n",
       "      <td>[0.0, 0.8793103448275862, 1.7586206896551724]</td>\n",
       "    </tr>\n",
       "    <tr>\n",
       "      <th>18</th>\n",
       "      <td>1.862069</td>\n",
       "      <td>0.273455</td>\n",
       "      <td>0.640280</td>\n",
       "      <td>0.913734</td>\n",
       "      <td>{'iteration': [0, 1], 'error_alpha_L2': [0.063...</td>\n",
       "      <td>{'iterations': 267, 'error_x_L2': [1, 1.0, 0.1...</td>\n",
       "      <td>[-0.769988178041584, 0.8769778129183707, 0.999...</td>\n",
       "      <td>False</td>\n",
       "      <td>True</td>\n",
       "      <td>0.146855</td>\n",
       "      <td>[0.6402797062117394, 0.6402797062117394]</td>\n",
       "      <td>[0.0, 0.9310344827586207, 1.8620689655172413]</td>\n",
       "    </tr>\n",
       "    <tr>\n",
       "      <th>19</th>\n",
       "      <td>1.965517</td>\n",
       "      <td>0.237814</td>\n",
       "      <td>0.703629</td>\n",
       "      <td>0.941443</td>\n",
       "      <td>{'iteration': [0, 1], 'error_alpha_L2': [0.063...</td>\n",
       "      <td>{'iterations': 274, 'error_x_L2': [1, 1.0, 0.1...</td>\n",
       "      <td>[-0.7872927958150886, 0.8308210846772388, 0.99...</td>\n",
       "      <td>False</td>\n",
       "      <td>True</td>\n",
       "      <td>0.120993</td>\n",
       "      <td>[0.7036285793804846, 0.7036285793804846]</td>\n",
       "      <td>[0.0, 0.9827586206896551, 1.9655172413793103]</td>\n",
       "    </tr>\n",
       "    <tr>\n",
       "      <th>20</th>\n",
       "      <td>2.068966</td>\n",
       "      <td>0.196823</td>\n",
       "      <td>0.766977</td>\n",
       "      <td>0.963800</td>\n",
       "      <td>{'iteration': [0, 1], 'error_alpha_L2': [0.063...</td>\n",
       "      <td>{'iterations': 1, 'error_x_L2': [1, 0.99999999...</td>\n",
       "      <td>[-0.8046578569457961, 0.789280029704086, 1.000...</td>\n",
       "      <td>True</td>\n",
       "      <td>True</td>\n",
       "      <td>0.095131</td>\n",
       "      <td>[0.7669774523750352, 0.7669774523750352]</td>\n",
       "      <td>[0.0, 1.0344827586206897, 2.0689655172413794]</td>\n",
       "    </tr>\n",
       "    <tr>\n",
       "      <th>21</th>\n",
       "      <td>2.172414</td>\n",
       "      <td>0.150481</td>\n",
       "      <td>0.830326</td>\n",
       "      <td>0.980807</td>\n",
       "      <td>{'iteration': [0, 1], 'error_alpha_L2': [0.063...</td>\n",
       "      <td>{'iterations': 1, 'error_x_L2': [1, 1.0], 'lam...</td>\n",
       "      <td>[-0.8220499839640826, 0.751695265934492, 0.999...</td>\n",
       "      <td>True</td>\n",
       "      <td>True</td>\n",
       "      <td>0.069269</td>\n",
       "      <td>[0.8303263252594598, 0.8303263252594598]</td>\n",
       "      <td>[0.0, 1.0862068965517242, 2.1724137931034484]</td>\n",
       "    </tr>\n",
       "    <tr>\n",
       "      <th>22</th>\n",
       "      <td>2.275862</td>\n",
       "      <td>0.098788</td>\n",
       "      <td>0.893675</td>\n",
       "      <td>0.992463</td>\n",
       "      <td>{'iteration': [0, 1], 'error_alpha_L2': [0.063...</td>\n",
       "      <td>{'iterations': 1, 'error_x_L2': [1, 0.99999999...</td>\n",
       "      <td>[-0.8394363208651866, 0.7175272990202614, 0.99...</td>\n",
       "      <td>True</td>\n",
       "      <td>True</td>\n",
       "      <td>0.043407</td>\n",
       "      <td>[0.8936751980726939, 0.8936751980726939]</td>\n",
       "      <td>[0.0, 1.1379310344827587, 2.2758620689655173]</td>\n",
       "    </tr>\n",
       "    <tr>\n",
       "      <th>23</th>\n",
       "      <td>2.379310</td>\n",
       "      <td>0.041745</td>\n",
       "      <td>0.957024</td>\n",
       "      <td>0.998769</td>\n",
       "      <td>{'iteration': [0, 1], 'error_alpha_L2': [0.063...</td>\n",
       "      <td>{'iterations': 1, 'error_x_L2': [1, 1.00000000...</td>\n",
       "      <td>[-0.8567849236107672, 0.686330459753512, 0.999...</td>\n",
       "      <td>True</td>\n",
       "      <td>True</td>\n",
       "      <td>0.017545</td>\n",
       "      <td>[0.9570240708389668, 0.9570240708389668]</td>\n",
       "      <td>[0.0, 1.1896551724137931, 2.3793103448275863]</td>\n",
       "    </tr>\n",
       "    <tr>\n",
       "      <th>24</th>\n",
       "      <td>2.482759</td>\n",
       "      <td>0.000000</td>\n",
       "      <td>1.000000</td>\n",
       "      <td>1.000000</td>\n",
       "      <td>{'iteration': [0, 1], 'error_alpha_L2': [0.042...</td>\n",
       "      <td>{'iterations': [], 'error_x_L2': [], 'lambda_k...</td>\n",
       "      <td>[0.0, 0.9999999999999997, 1.0000000000000002]</td>\n",
       "      <td>False</td>\n",
       "      <td>True</td>\n",
       "      <td>0.000000</td>\n",
       "      <td>[1.0, 1.0]</td>\n",
       "      <td>[0.0, 1.2413793103448276, 2.4827586206896552]</td>\n",
       "    </tr>\n",
       "    <tr>\n",
       "      <th>25</th>\n",
       "      <td>2.586207</td>\n",
       "      <td>0.000000</td>\n",
       "      <td>1.000000</td>\n",
       "      <td>1.000000</td>\n",
       "      <td>{'iteration': [0], 'error_alpha_L2': [0.0], 'e...</td>\n",
       "      <td>{'iterations': [], 'error_x_L2': [], 'lambda_k...</td>\n",
       "      <td>[0.0, 0.9999999999999997, 1.0000000000000002]</td>\n",
       "      <td>False</td>\n",
       "      <td>True</td>\n",
       "      <td>0.000000</td>\n",
       "      <td>[1.0, 1.0]</td>\n",
       "      <td>[0.0, 1.2413793103448276, 2.586206896551724]</td>\n",
       "    </tr>\n",
       "    <tr>\n",
       "      <th>26</th>\n",
       "      <td>2.689655</td>\n",
       "      <td>0.000000</td>\n",
       "      <td>1.000000</td>\n",
       "      <td>1.000000</td>\n",
       "      <td>{'iteration': [0], 'error_alpha_L2': [0.0], 'e...</td>\n",
       "      <td>{'iterations': [], 'error_x_L2': [], 'lambda_k...</td>\n",
       "      <td>[0.0, 0.9999999999999997, 1.0000000000000002]</td>\n",
       "      <td>False</td>\n",
       "      <td>True</td>\n",
       "      <td>0.000000</td>\n",
       "      <td>[1.0, 1.0]</td>\n",
       "      <td>[0.0, 1.2413793103448276, 2.689655172413793]</td>\n",
       "    </tr>\n",
       "    <tr>\n",
       "      <th>27</th>\n",
       "      <td>2.793103</td>\n",
       "      <td>0.000000</td>\n",
       "      <td>1.000000</td>\n",
       "      <td>1.000000</td>\n",
       "      <td>{'iteration': [0], 'error_alpha_L2': [0.0], 'e...</td>\n",
       "      <td>{'iterations': [], 'error_x_L2': [], 'lambda_k...</td>\n",
       "      <td>[0.0, 0.9999999999999997, 1.0000000000000002]</td>\n",
       "      <td>False</td>\n",
       "      <td>True</td>\n",
       "      <td>0.000000</td>\n",
       "      <td>[1.0, 1.0]</td>\n",
       "      <td>[0.0, 1.2413793103448276, 2.793103448275862]</td>\n",
       "    </tr>\n",
       "    <tr>\n",
       "      <th>28</th>\n",
       "      <td>2.896552</td>\n",
       "      <td>0.000000</td>\n",
       "      <td>1.000000</td>\n",
       "      <td>1.000000</td>\n",
       "      <td>{'iteration': [0], 'error_alpha_L2': [0.0], 'e...</td>\n",
       "      <td>{'iterations': [], 'error_x_L2': [], 'lambda_k...</td>\n",
       "      <td>[0.0, 0.9999999999999997, 1.0000000000000002]</td>\n",
       "      <td>False</td>\n",
       "      <td>True</td>\n",
       "      <td>0.000000</td>\n",
       "      <td>[1.0, 1.0]</td>\n",
       "      <td>[0.0, 1.2413793103448276, 2.896551724137931]</td>\n",
       "    </tr>\n",
       "    <tr>\n",
       "      <th>29</th>\n",
       "      <td>3.000000</td>\n",
       "      <td>0.000000</td>\n",
       "      <td>1.000000</td>\n",
       "      <td>1.000000</td>\n",
       "      <td>{'iteration': [0], 'error_alpha_L2': [0.0], 'e...</td>\n",
       "      <td>{'iterations': [], 'error_x_L2': [], 'lambda_k...</td>\n",
       "      <td>[0.0, 0.9999999999999997, 1.0000000000000002]</td>\n",
       "      <td>False</td>\n",
       "      <td>True</td>\n",
       "      <td>0.000000</td>\n",
       "      <td>[1.0, 1.0]</td>\n",
       "      <td>[0.0, 1.2413793103448276, 3.0]</td>\n",
       "    </tr>\n",
       "  </tbody>\n",
       "</table>\n",
       "</div>"
      ],
      "text/plain": [
       "        load  elastic_energy  fracture_energy  total_energy  \\\n",
       "0   0.000000        0.000000         0.000000      0.000000   \n",
       "1   0.103448        0.005351         0.000000      0.005351   \n",
       "2   0.206897        0.021403         0.000000      0.021403   \n",
       "3   0.310345        0.048157         0.000000      0.048157   \n",
       "4   0.413793        0.085612         0.000000      0.085612   \n",
       "5   0.517241        0.133769         0.000000      0.133769   \n",
       "6   0.620690        0.192628         0.000000      0.192628   \n",
       "7   0.724138        0.262188         0.000000      0.262188   \n",
       "8   0.827586        0.335566         0.006791      0.342357   \n",
       "9   0.931034        0.353434         0.070140      0.423573   \n",
       "10  1.034483        0.365950         0.133489      0.499439   \n",
       "11  1.137931        0.373116         0.196838      0.569953   \n",
       "12  1.241379        0.374931         0.260186      0.635117   \n",
       "13  1.344828        0.371395         0.323535      0.694930   \n",
       "14  1.448276        0.362508         0.386884      0.749393   \n",
       "15  1.551724        0.348271         0.450233      0.798504   \n",
       "16  1.655172        0.328683         0.513582      0.842265   \n",
       "17  1.758621        0.303744         0.576931      0.880675   \n",
       "18  1.862069        0.273455         0.640280      0.913734   \n",
       "19  1.965517        0.237814         0.703629      0.941443   \n",
       "20  2.068966        0.196823         0.766977      0.963800   \n",
       "21  2.172414        0.150481         0.830326      0.980807   \n",
       "22  2.275862        0.098788         0.893675      0.992463   \n",
       "23  2.379310        0.041745         0.957024      0.998769   \n",
       "24  2.482759        0.000000         1.000000      1.000000   \n",
       "25  2.586207        0.000000         1.000000      1.000000   \n",
       "26  2.689655        0.000000         1.000000      1.000000   \n",
       "27  2.793103        0.000000         1.000000      1.000000   \n",
       "28  2.896552        0.000000         1.000000      1.000000   \n",
       "29  3.000000        0.000000         1.000000      1.000000   \n",
       "\n",
       "                                          solver_data  \\\n",
       "0   {'iteration': [0], 'error_alpha_L2': [0.0], 'e...   \n",
       "1   {'iteration': [0], 'error_alpha_L2': [0.0], 'e...   \n",
       "2   {'iteration': [0], 'error_alpha_L2': [0.0], 'e...   \n",
       "3   {'iteration': [0], 'error_alpha_L2': [0.0], 'e...   \n",
       "4   {'iteration': [0], 'error_alpha_L2': [0.0], 'e...   \n",
       "5   {'iteration': [0], 'error_alpha_L2': [0.0], 'e...   \n",
       "6   {'iteration': [0], 'error_alpha_L2': [0.0], 'e...   \n",
       "7   {'iteration': [0], 'error_alpha_L2': [0.0], 'e...   \n",
       "8   {'iteration': [0, 1], 'error_alpha_L2': [0.006...   \n",
       "9   {'iteration': [0, 1], 'error_alpha_L2': [0.063...   \n",
       "10  {'iteration': [0, 1], 'error_alpha_L2': [0.063...   \n",
       "11  {'iteration': [0, 1], 'error_alpha_L2': [0.063...   \n",
       "12  {'iteration': [0, 1], 'error_alpha_L2': [0.063...   \n",
       "13  {'iteration': [0, 1], 'error_alpha_L2': [0.063...   \n",
       "14  {'iteration': [0, 1], 'error_alpha_L2': [0.063...   \n",
       "15  {'iteration': [0, 1], 'error_alpha_L2': [0.063...   \n",
       "16  {'iteration': [0, 1], 'error_alpha_L2': [0.063...   \n",
       "17  {'iteration': [0, 1], 'error_alpha_L2': [0.063...   \n",
       "18  {'iteration': [0, 1], 'error_alpha_L2': [0.063...   \n",
       "19  {'iteration': [0, 1], 'error_alpha_L2': [0.063...   \n",
       "20  {'iteration': [0, 1], 'error_alpha_L2': [0.063...   \n",
       "21  {'iteration': [0, 1], 'error_alpha_L2': [0.063...   \n",
       "22  {'iteration': [0, 1], 'error_alpha_L2': [0.063...   \n",
       "23  {'iteration': [0, 1], 'error_alpha_L2': [0.063...   \n",
       "24  {'iteration': [0, 1], 'error_alpha_L2': [0.042...   \n",
       "25  {'iteration': [0], 'error_alpha_L2': [0.0], 'e...   \n",
       "26  {'iteration': [0], 'error_alpha_L2': [0.0], 'e...   \n",
       "27  {'iteration': [0], 'error_alpha_L2': [0.0], 'e...   \n",
       "28  {'iteration': [0], 'error_alpha_L2': [0.0], 'e...   \n",
       "29  {'iteration': [0], 'error_alpha_L2': [0.0], 'e...   \n",
       "\n",
       "                                            cone_data  \\\n",
       "0   {'iterations': [], 'error_x_L2': [], 'lambda_k...   \n",
       "1   {'iterations': [], 'error_x_L2': [], 'lambda_k...   \n",
       "2   {'iterations': [], 'error_x_L2': [], 'lambda_k...   \n",
       "3   {'iterations': [], 'error_x_L2': [], 'lambda_k...   \n",
       "4   {'iterations': [], 'error_x_L2': [], 'lambda_k...   \n",
       "5   {'iterations': [], 'error_x_L2': [], 'lambda_k...   \n",
       "6   {'iterations': [], 'error_x_L2': [], 'lambda_k...   \n",
       "7   {'iterations': [], 'error_x_L2': [], 'lambda_k...   \n",
       "8   {'iterations': 134, 'error_x_L2': [1, 0.999999...   \n",
       "9   {'iterations': 150, 'error_x_L2': [1, 1.0, 0.1...   \n",
       "10  {'iterations': 166, 'error_x_L2': [1, 0.999999...   \n",
       "11  {'iterations': 181, 'error_x_L2': [1, 1.000000...   \n",
       "12  {'iterations': 196, 'error_x_L2': [1, 1.000000...   \n",
       "13  {'iterations': 210, 'error_x_L2': [1, 1.0, 0.1...   \n",
       "14  {'iterations': 224, 'error_x_L2': [1, 1.0, 0.1...   \n",
       "15  {'iterations': 236, 'error_x_L2': [1, 0.999999...   \n",
       "16  {'iterations': 247, 'error_x_L2': [1, 1.000000...   \n",
       "17  {'iterations': 258, 'error_x_L2': [1, 1.000000...   \n",
       "18  {'iterations': 267, 'error_x_L2': [1, 1.0, 0.1...   \n",
       "19  {'iterations': 274, 'error_x_L2': [1, 1.0, 0.1...   \n",
       "20  {'iterations': 1, 'error_x_L2': [1, 0.99999999...   \n",
       "21  {'iterations': 1, 'error_x_L2': [1, 1.0], 'lam...   \n",
       "22  {'iterations': 1, 'error_x_L2': [1, 0.99999999...   \n",
       "23  {'iterations': 1, 'error_x_L2': [1, 1.00000000...   \n",
       "24  {'iterations': [], 'error_x_L2': [], 'lambda_k...   \n",
       "25  {'iterations': [], 'error_x_L2': [], 'lambda_k...   \n",
       "26  {'iterations': [], 'error_x_L2': [], 'lambda_k...   \n",
       "27  {'iterations': [], 'error_x_L2': [], 'lambda_k...   \n",
       "28  {'iterations': [], 'error_x_L2': [], 'lambda_k...   \n",
       "29  {'iterations': [], 'error_x_L2': [], 'lambda_k...   \n",
       "\n",
       "                                                 eigs  cone-stable  \\\n",
       "0   [0.9999999999999997, 0.9999999999999999, 4.000...         True   \n",
       "1   [0.9999999999999997, 0.9999999999999999, 4.000...         True   \n",
       "2   [0.9999999999999997, 0.9999999999999999, 4.000...         True   \n",
       "3   [0.9999999999999997, 0.9999999999999999, 4.000...         True   \n",
       "4   [0.9999999999999997, 0.9999999999999999, 4.000...         True   \n",
       "5   [0.9999999999999997, 0.9999999999999999, 4.000...         True   \n",
       "6   [0.9999999999999997, 0.9999999999999999, 4.000...         True   \n",
       "7   [0.9999999999999997, 0.9999999999999999, 4.000...         True   \n",
       "8   [-0.6071437143439314, 0.9999999999999999, 0.99...         True   \n",
       "9   [-0.6221894019211488, 0.9999999999999997, 0.99...         True   \n",
       "10  [-0.6375690101282074, 0.9999999999999999, 0.99...         True   \n",
       "11  [-0.6532650532366159, 0.9999999999999994, 0.99...         True   \n",
       "12  [-0.6692572759981509, 0.9999999999999999, 0.99...        False   \n",
       "13  [-0.6855227620335338, 0.9999999999999997, 1.00...        False   \n",
       "14  [-0.7020361091832108, 0.9999999999999997, 0.99...        False   \n",
       "15  [-0.7187696732691973, 0.9999999999999999, 0.99...        False   \n",
       "16  [-0.7356938563969196, 0.9866000460696424, 0.99...        False   \n",
       "17  [-0.7527774829972335, 0.9285647453763104, 0.99...        False   \n",
       "18  [-0.769988178041584, 0.8769778129183707, 0.999...        False   \n",
       "19  [-0.7872927958150886, 0.8308210846772388, 0.99...        False   \n",
       "20  [-0.8046578569457961, 0.789280029704086, 1.000...         True   \n",
       "21  [-0.8220499839640826, 0.751695265934492, 0.999...         True   \n",
       "22  [-0.8394363208651866, 0.7175272990202614, 0.99...         True   \n",
       "23  [-0.8567849236107672, 0.686330459753512, 0.999...         True   \n",
       "24      [0.0, 0.9999999999999997, 1.0000000000000002]        False   \n",
       "25      [0.0, 0.9999999999999997, 1.0000000000000002]        False   \n",
       "26      [0.0, 0.9999999999999997, 1.0000000000000002]        False   \n",
       "27      [0.0, 0.9999999999999997, 1.0000000000000002]        False   \n",
       "28      [0.0, 0.9999999999999997, 1.0000000000000002]        False   \n",
       "29      [0.0, 0.9999999999999997, 1.0000000000000002]        False   \n",
       "\n",
       "    non-bifurcation         F                                       alpha_t  \\\n",
       "0             False  0.000000                                    [0.0, 0.0]   \n",
       "1             False  0.051724                                    [0.0, 0.0]   \n",
       "2             False  0.103448                                    [0.0, 0.0]   \n",
       "3             False  0.155172                                    [0.0, 0.0]   \n",
       "4             False  0.206897                                    [0.0, 0.0]   \n",
       "5             False  0.258621                                    [0.0, 0.0]   \n",
       "6             False  0.310345                                    [0.0, 0.0]   \n",
       "7             False  0.362069                                    [0.0, 0.0]   \n",
       "8              True  0.405476  [0.006790981265476318, 0.006790981265476318]   \n",
       "9              True  0.379614    [0.07013985392357351, 0.07013985392357351]   \n",
       "10             True  0.353752      [0.1334887265818357, 0.1334887265818357]   \n",
       "11             True  0.327890    [0.19683759924003694, 0.19683759924003694]   \n",
       "12             True  0.302028    [0.26018647189822636, 0.26018647189822636]   \n",
       "13             True  0.276166      [0.3235353445564129, 0.3235353445564129]   \n",
       "14             True  0.250303    [0.38688421721459887, 0.38688421721459887]   \n",
       "15             True  0.224441      [0.4502330841077626, 0.4502330841077626]   \n",
       "16             True  0.198579      [0.5135819588386891, 0.5135819588386891]   \n",
       "17             True  0.172717      [0.5769308327605635, 0.5769308327605635]   \n",
       "18             True  0.146855      [0.6402797062117394, 0.6402797062117394]   \n",
       "19             True  0.120993      [0.7036285793804846, 0.7036285793804846]   \n",
       "20             True  0.095131      [0.7669774523750352, 0.7669774523750352]   \n",
       "21             True  0.069269      [0.8303263252594598, 0.8303263252594598]   \n",
       "22             True  0.043407      [0.8936751980726939, 0.8936751980726939]   \n",
       "23             True  0.017545      [0.9570240708389668, 0.9570240708389668]   \n",
       "24             True  0.000000                                    [1.0, 1.0]   \n",
       "25             True  0.000000                                    [1.0, 1.0]   \n",
       "26             True  0.000000                                    [1.0, 1.0]   \n",
       "27             True  0.000000                                    [1.0, 1.0]   \n",
       "28             True  0.000000                                    [1.0, 1.0]   \n",
       "29             True  0.000000                                    [1.0, 1.0]   \n",
       "\n",
       "                                                u_t  \n",
       "0                                   [0.0, 0.0, 0.0]  \n",
       "1   [0.0, 0.05172413793103448, 0.10344827586206896]  \n",
       "2   [0.0, 0.10344827586206896, 0.20689655172413793]  \n",
       "3    [0.0, 0.15517241379310345, 0.3103448275862069]  \n",
       "4   [0.0, 0.20689655172413793, 0.41379310344827586]  \n",
       "5    [0.0, 0.25862068965517243, 0.5172413793103449]  \n",
       "6     [0.0, 0.3103448275862069, 0.6206896551724138]  \n",
       "7     [0.0, 0.3620689655172414, 0.7241379310344828]  \n",
       "8    [0.0, 0.41379310344827586, 0.8275862068965517]  \n",
       "9    [0.0, 0.46551724137931033, 0.9310344827586207]  \n",
       "10    [0.0, 0.5172413793103449, 1.0344827586206897]  \n",
       "11    [0.0, 0.5689655172413793, 1.1379310344827587]  \n",
       "12    [0.0, 0.6206896551724138, 1.2413793103448276]  \n",
       "13    [0.0, 0.6724137931034483, 1.3448275862068966]  \n",
       "14    [0.0, 0.7241379310344828, 1.4482758620689655]  \n",
       "15    [0.0, 0.7758620689655172, 1.5517241379310345]  \n",
       "16    [0.0, 0.8275862068965517, 1.6551724137931034]  \n",
       "17    [0.0, 0.8793103448275862, 1.7586206896551724]  \n",
       "18    [0.0, 0.9310344827586207, 1.8620689655172413]  \n",
       "19    [0.0, 0.9827586206896551, 1.9655172413793103]  \n",
       "20    [0.0, 1.0344827586206897, 2.0689655172413794]  \n",
       "21    [0.0, 1.0862068965517242, 2.1724137931034484]  \n",
       "22    [0.0, 1.1379310344827587, 2.2758620689655173]  \n",
       "23    [0.0, 1.1896551724137931, 2.3793103448275863]  \n",
       "24    [0.0, 1.2413793103448276, 2.4827586206896552]  \n",
       "25     [0.0, 1.2413793103448276, 2.586206896551724]  \n",
       "26     [0.0, 1.2413793103448276, 2.689655172413793]  \n",
       "27     [0.0, 1.2413793103448276, 2.793103448275862]  \n",
       "28     [0.0, 1.2413793103448276, 2.896551724137931]  \n",
       "29                   [0.0, 1.2413793103448276, 3.0]  "
      ]
     },
     "execution_count": 112,
     "metadata": {},
     "output_type": "execute_result"
    }
   ],
   "source": [
    "data"
   ]
  },
  {
   "cell_type": "code",
   "execution_count": 34,
   "metadata": {},
   "outputs": [
    {
     "data": {
      "text/plain": [
       "Text(0.5, 1.0, 'N=2, k=3')"
      ]
     },
     "execution_count": 34,
     "metadata": {},
     "output_type": "execute_result"
    },
    {
     "data": {
      "image/png": "[encoded data removed]",
      "text/plain": [
       "<Figure size 432x288 with 1 Axes>"
      ]
     },
     "metadata": {},
     "output_type": "display_data"
    }
   ],
   "source": [
    "plt.plot(data.load, data.F, label = 'stress')\n",
    "# plt.plot(data.load, data.elastic_energy, label = 'elastic')\n",
    "# _total = data.fracture_energy + data.elastic_energy\n",
    "# plt.plot(data.load, _total, label = 'total')\n",
    "plt.legend()\n",
    "plt.xlabel('load')\n",
    "plt.ylabel('stress')\n",
    "# plt.axhline(_σc/2, c='k')\n",
    "\n",
    "plt.axvline(_tc.subs(matpar), c='k', lw=1)\n",
    "\n",
    "plt.xticks([_tc.subs(matpar), _k], ['$t_c$', '$k$'])\n",
    "plt.title(f'N={_N}, k={_k}')\n"
   ]
  },
  {
   "cell_type": "code",
   "execution_count": 35,
   "metadata": {},
   "outputs": [
    {
     "data": {
      "text/plain": [
       "Text(0.5, 1.0, 'N=2, k=3')"
      ]
     },
     "execution_count": 35,
     "metadata": {},
     "output_type": "execute_result"
    },
    {
     "data": {
      "image/png": "[encoded data removed]",
      "text/plain": [
       "<Figure size 432x288 with 1 Axes>"
      ]
     },
     "metadata": {},
     "output_type": "display_data"
    }
   ],
   "source": [
    "for k in range(model_parameters[\"N\"]):\n",
    "    plt.plot(data.load, [a[k] for a in data.alpha_t], label=f'$\\\\alpha_{k}$')\n",
    "\n",
    "plt.title(\"$\\\\alpha$\")\n",
    "plt.legend()\n",
    "plt.axhline(1, c='k')\n",
    "\n",
    "plt.axvline(_tc.subs(matpar), c='k', lw=1)\n",
    "\n",
    "plt.xticks([_tc.subs(matpar), _k], ['$t_c$', '$k$'])\n",
    "plt.title(f'N={_N}, k={_k}')\n"
   ]
  },
  {
   "cell_type": "code",
   "execution_count": 36,
   "metadata": {},
   "outputs": [
    {
     "data": {
      "text/plain": [
       "Text(0.5, 1.0, 'N=2, k=3')"
      ]
     },
     "execution_count": 36,
     "metadata": {},
     "output_type": "execute_result"
    },
    {
     "data": {
      "image/png": "[encoded data removed]",
      "text/plain": [
       "<Figure size 432x288 with 1 Axes>"
      ]
     },
     "metadata": {},
     "output_type": "display_data"
    }
   ],
   "source": [
    "for k in range(model_parameters[\"N\"]+1):\n",
    "    plt.plot(data.load, [u[k] for u in data.u_t], label=f'$u_{k}$')\n",
    "plt.plot(data.load, 1/_mu*data.load/2, label=f'$u^*$', ls='dotted', lw=4)\n",
    "\n",
    "plt.legend()\n",
    "plt.title(\"$u$\")\n",
    "plt.axhline(data.load.values[-1], c='k')\n",
    "\n",
    "plt.axvline(_tc.subs(matpar), c='k', lw=1)\n",
    "plt.axvline(_k, c='k', lw=1)\n",
    "\n",
    "plt.xticks([_tc.subs(matpar), _k], ['$t_c$', '$k$'])\n",
    "plt.title(f'N={_N}, k={_k}')\n"
   ]
  },
  {
   "cell_type": "code",
   "execution_count": 37,
   "metadata": {},
   "outputs": [
    {
     "data": {
      "text/plain": [
       "Text(0, 0.5, '$||\\\\Delta x_k||_{L^2}$')"
      ]
     },
     "execution_count": 37,
     "metadata": {},
     "output_type": "execute_result"
    },
    {
     "data": {
      "image/png": "[encoded data removed]",
      "text/plain": [
       "<Figure size 432x288 with 1 Axes>"
      ]
     },
     "metadata": {},
     "output_type": "display_data"
    }
   ],
   "source": [
    "for i in range(len(data.cone_data)):\n",
    "    plt.plot(data.cone_data[i]['error_x_L2'], label=f'step {i}')\n",
    "plt.semilogy()\n",
    "# plt.legend()\n",
    "plt.xlabel('iterations')\n",
    "plt.ylabel('$||\\Delta x_k||_{L^2}$')\n"
   ]
  },
  {
   "cell_type": "code",
   "execution_count": 38,
   "metadata": {},
   "outputs": [
    {
     "data": {
      "text/plain": [
       "dict_keys(['iterations', 'error_x_L2', 'lambda_k', 'lambda_0', 'y_norm_L2'])"
      ]
     },
     "execution_count": 38,
     "metadata": {},
     "output_type": "execute_result"
    }
   ],
   "source": [
    "data.cone_data[3].keys()"
   ]
  },
  {
   "cell_type": "code",
   "execution_count": 67,
   "metadata": {},
   "outputs": [],
   "source": [
    "_stab_cnd = [0 if data[\"cone-stable\"][i]==True else 1 for i in range(len(data))]\n",
    "_stab_cnd;"
   ]
  },
  {
   "cell_type": "code",
   "execution_count": 39,
   "metadata": {},
   "outputs": [
    {
     "data": {
      "text/plain": [
       "Text(0, 0.5, '$||y_k||_{L^2}$')"
      ]
     },
     "execution_count": 39,
     "metadata": {},
     "output_type": "execute_result"
    },
    {
     "data": {
      "image/png": "[encoded data removed]",
      "text/plain": [
       "<Figure size 432x288 with 1 Axes>"
      ]
     },
     "metadata": {},
     "output_type": "display_data"
    }
   ],
   "source": [
    "for i in range(len(data.cone_data)):\n",
    "    plt.plot(data.cone_data[i]['y_norm_L2'], label=f'step {i}')\n",
    "# plt.semilogy()\n",
    "# plt.legend()\n",
    "plt.axhline(0, c='k')\n",
    "plt.xlabel('iterations')\n",
    "plt.ylabel('$||y_k||_{L^2}$')\n"
   ]
  },
  {
   "cell_type": "code",
   "execution_count": 40,
   "metadata": {},
   "outputs": [
    {
     "data": {
      "text/plain": [
       "Text(0.5, 0, 'iterations')"
      ]
     },
     "execution_count": 40,
     "metadata": {},
     "output_type": "execute_result"
    },
    {
     "data": {
      "image/png": "[encoded data removed]",
      "text/plain": [
       "<Figure size 432x288 with 1 Axes>"
      ]
     },
     "metadata": {},
     "output_type": "display_data"
    }
   ],
   "source": [
    "for i in range(len(data.cone_data)):\n",
    "    plt.plot(data.cone_data[i]['lambda_k'], label=f'step {i}')\n",
    "plt.axhline(0, c='k')\n",
    "plt.title('Convergence of eigenvalues')\n",
    "plt.xlabel('iterations')\n"
   ]
  },
  {
   "cell_type": "code",
   "execution_count": 75,
   "metadata": {},
   "outputs": [
    {
     "name": "stderr",
     "output_type": "stream",
     "text": [
      "/var/folders/9t/b79vbddd6cz3hhc20g8hk86m0000gn/T/ipykernel_43826/3995412873.py:1: VisibleDeprecationWarning: Creating an ndarray from ragged nested sequences (which is a list-or-tuple of lists-or-tuples-or ndarrays with different lengths or shapes) is deprecated. If you meant to do this, you must specify 'dtype=object' when creating the ndarray.\n",
      "  _asd = np.array([step[\"lambda_0\"] for step in data[\"cone_data\"]])\n"
     ]
    },
    {
     "data": {
      "text/plain": [
       "Text(0.5, 1.0, 'Minimum eigenvalue and stability')"
      ]
     },
     "execution_count": 75,
     "metadata": {},
     "output_type": "execute_result"
    },
    {
     "data": {
      "image/png": "[encoded data removed]",
      "text/plain": [
       "<Figure size 432x288 with 1 Axes>"
      ]
     },
     "metadata": {},
     "output_type": "display_data"
    }
   ],
   "source": [
    "_asd = np.array([step[\"lambda_0\"] for step in data[\"cone_data\"]])\n",
    "# [0 if x==3 for x in _asd]\n",
    "_lambda_0 = [np.nan if type(a) is list else a for a in _asd ]\n",
    "plt.plot(data.load, _lambda_0, marker='o', ls='')\n",
    "plt.axhline(0, c='k')\n",
    "# plt.ylim([0, 1.])\n",
    "plt.xlim([0, _k])\n",
    "\n",
    "plt.axvline(_tc.subs(matpar), c='k', lw=1)\n",
    "plt.axvline(_k, c='k', lw=1)\n",
    "\n",
    "plt.xticks([_tc.subs(matpar), _k], ['$t_c$', '$k$'])\n",
    "plt.fill_between(data.load, 0, 1, where=[not s for s in _stab_cnd], color='green', alpha=0.5)\n",
    "plt.fill_between(data.load, 0, 1, where=_stab_cnd,color='red', alpha=0.5)\n",
    "\n",
    "plt.title('Minimum eigenvalue and stability')"
   ]
  },
  {
   "cell_type": "code",
   "execution_count": 91,
   "metadata": {},
   "outputs": [
    {
     "data": {
      "text/plain": [
       "Text(0.5, 1.0, 'Stability, minimum K-eigen')"
      ]
     },
     "execution_count": 91,
     "metadata": {},
     "output_type": "execute_result"
    },
    {
     "data": {
      "image/png": "[encoded data removed]",
      "text/plain": [
       "<Figure size 432x288 with 1 Axes>"
      ]
     },
     "metadata": {},
     "output_type": "display_data"
    }
   ],
   "source": [
    "plt.scatter(data.load, _lambda_0, c=_stab_cnd, cmap='RdYlGn_r', alpha=.8)\n",
    "plt.xlim([0, _k])\n",
    "plt.ylim([-1, 1])\n",
    "plt.axhline(0, c='k')\n",
    "\n",
    "plt.title('Stability, minimum K-eigen')"
   ]
  },
  {
   "cell_type": "code",
   "execution_count": 93,
   "metadata": {},
   "outputs": [
    {
     "data": {
      "text/html": [
       "<div>\n",
       "<style scoped>\n",
       "    .dataframe tbody tr th:only-of-type {\n",
       "        vertical-align: middle;\n",
       "    }\n",
       "\n",
       "    .dataframe tbody tr th {\n",
       "        vertical-align: top;\n",
       "    }\n",
       "\n",
       "    .dataframe thead th {\n",
       "        text-align: right;\n",
       "    }\n",
       "</style>\n",
       "<table border=\"1\" class=\"dataframe\">\n",
       "  <thead>\n",
       "    <tr style=\"text-align: right;\">\n",
       "      <th></th>\n",
       "      <th>load</th>\n",
       "      <th>elastic_energy</th>\n",
       "      <th>fracture_energy</th>\n",
       "      <th>total_energy</th>\n",
       "      <th>solver_data</th>\n",
       "      <th>cone_data</th>\n",
       "      <th>eigs</th>\n",
       "      <th>cone-stable</th>\n",
       "      <th>non-bifurcation</th>\n",
       "      <th>F</th>\n",
       "      <th>alpha_t</th>\n",
       "      <th>u_t</th>\n",
       "    </tr>\n",
       "  </thead>\n",
       "  <tbody>\n",
       "    <tr>\n",
       "      <th>0</th>\n",
       "      <td>0.000000</td>\n",
       "      <td>0.000000</td>\n",
       "      <td>0.000000</td>\n",
       "      <td>0.000000</td>\n",
       "      <td>{'iteration': [0], 'error_alpha_L2': [0.0], 'e...</td>\n",
       "      <td>{'iterations': [], 'error_x_L2': [], 'lambda_k...</td>\n",
       "      <td>[0.9999999999999997, 0.9999999999999999, 4.000...</td>\n",
       "      <td>True</td>\n",
       "      <td>False</td>\n",
       "      <td>0.000000</td>\n",
       "      <td>[0.0, 0.0]</td>\n",
       "      <td>[0.0, 0.0, 0.0]</td>\n",
       "    </tr>\n",
       "    <tr>\n",
       "      <th>1</th>\n",
       "      <td>0.103448</td>\n",
       "      <td>0.005351</td>\n",
       "      <td>0.000000</td>\n",
       "      <td>0.005351</td>\n",
       "      <td>{'iteration': [0], 'error_alpha_L2': [0.0], 'e...</td>\n",
       "      <td>{'iterations': [], 'error_x_L2': [], 'lambda_k...</td>\n",
       "      <td>[0.9999999999999997, 0.9999999999999999, 4.000...</td>\n",
       "      <td>True</td>\n",
       "      <td>False</td>\n",
       "      <td>0.051724</td>\n",
       "      <td>[0.0, 0.0]</td>\n",
       "      <td>[0.0, 0.05172413793103448, 0.10344827586206896]</td>\n",
       "    </tr>\n",
       "    <tr>\n",
       "      <th>2</th>\n",
       "      <td>0.206897</td>\n",
       "      <td>0.021403</td>\n",
       "      <td>0.000000</td>\n",
       "      <td>0.021403</td>\n",
       "      <td>{'iteration': [0], 'error_alpha_L2': [0.0], 'e...</td>\n",
       "      <td>{'iterations': [], 'error_x_L2': [], 'lambda_k...</td>\n",
       "      <td>[0.9999999999999997, 0.9999999999999999, 4.000...</td>\n",
       "      <td>True</td>\n",
       "      <td>False</td>\n",
       "      <td>0.103448</td>\n",
       "      <td>[0.0, 0.0]</td>\n",
       "      <td>[0.0, 0.10344827586206896, 0.20689655172413793]</td>\n",
       "    </tr>\n",
       "    <tr>\n",
       "      <th>3</th>\n",
       "      <td>0.310345</td>\n",
       "      <td>0.048157</td>\n",
       "      <td>0.000000</td>\n",
       "      <td>0.048157</td>\n",
       "      <td>{'iteration': [0], 'error_alpha_L2': [0.0], 'e...</td>\n",
       "      <td>{'iterations': [], 'error_x_L2': [], 'lambda_k...</td>\n",
       "      <td>[0.9999999999999997, 0.9999999999999999, 4.000...</td>\n",
       "      <td>True</td>\n",
       "      <td>False</td>\n",
       "      <td>0.155172</td>\n",
       "      <td>[0.0, 0.0]</td>\n",
       "      <td>[0.0, 0.15517241379310345, 0.3103448275862069]</td>\n",
       "    </tr>\n",
       "    <tr>\n",
       "      <th>4</th>\n",
       "      <td>0.413793</td>\n",
       "      <td>0.085612</td>\n",
       "      <td>0.000000</td>\n",
       "      <td>0.085612</td>\n",
       "      <td>{'iteration': [0], 'error_alpha_L2': [0.0], 'e...</td>\n",
       "      <td>{'iterations': [], 'error_x_L2': [], 'lambda_k...</td>\n",
       "      <td>[0.9999999999999997, 0.9999999999999999, 4.000...</td>\n",
       "      <td>True</td>\n",
       "      <td>False</td>\n",
       "      <td>0.206897</td>\n",
       "      <td>[0.0, 0.0]</td>\n",
       "      <td>[0.0, 0.20689655172413793, 0.41379310344827586]</td>\n",
       "    </tr>\n",
       "    <tr>\n",
       "      <th>5</th>\n",
       "      <td>0.517241</td>\n",
       "      <td>0.133769</td>\n",
       "      <td>0.000000</td>\n",
       "      <td>0.133769</td>\n",
       "      <td>{'iteration': [0], 'error_alpha_L2': [0.0], 'e...</td>\n",
       "      <td>{'iterations': [], 'error_x_L2': [], 'lambda_k...</td>\n",
       "      <td>[0.9999999999999997, 0.9999999999999999, 4.000...</td>\n",
       "      <td>True</td>\n",
       "      <td>False</td>\n",
       "      <td>0.258621</td>\n",
       "      <td>[0.0, 0.0]</td>\n",
       "      <td>[0.0, 0.25862068965517243, 0.5172413793103449]</td>\n",
       "    </tr>\n",
       "    <tr>\n",
       "      <th>6</th>\n",
       "      <td>0.620690</td>\n",
       "      <td>0.192628</td>\n",
       "      <td>0.000000</td>\n",
       "      <td>0.192628</td>\n",
       "      <td>{'iteration': [0], 'error_alpha_L2': [0.0], 'e...</td>\n",
       "      <td>{'iterations': [], 'error_x_L2': [], 'lambda_k...</td>\n",
       "      <td>[0.9999999999999997, 0.9999999999999999, 4.000...</td>\n",
       "      <td>True</td>\n",
       "      <td>False</td>\n",
       "      <td>0.310345</td>\n",
       "      <td>[0.0, 0.0]</td>\n",
       "      <td>[0.0, 0.3103448275862069, 0.6206896551724138]</td>\n",
       "    </tr>\n",
       "    <tr>\n",
       "      <th>7</th>\n",
       "      <td>0.724138</td>\n",
       "      <td>0.262188</td>\n",
       "      <td>0.000000</td>\n",
       "      <td>0.262188</td>\n",
       "      <td>{'iteration': [0], 'error_alpha_L2': [0.0], 'e...</td>\n",
       "      <td>{'iterations': [], 'error_x_L2': [], 'lambda_k...</td>\n",
       "      <td>[0.9999999999999997, 0.9999999999999999, 4.000...</td>\n",
       "      <td>True</td>\n",
       "      <td>False</td>\n",
       "      <td>0.362069</td>\n",
       "      <td>[0.0, 0.0]</td>\n",
       "      <td>[0.0, 0.3620689655172414, 0.7241379310344828]</td>\n",
       "    </tr>\n",
       "    <tr>\n",
       "      <th>8</th>\n",
       "      <td>0.827586</td>\n",
       "      <td>0.335566</td>\n",
       "      <td>0.006791</td>\n",
       "      <td>0.342357</td>\n",
       "      <td>{'iteration': [0, 1], 'error_alpha_L2': [0.006...</td>\n",
       "      <td>{'iterations': 134, 'error_x_L2': [1, 0.999999...</td>\n",
       "      <td>[-0.6071437143439314, 0.9999999999999999, 0.99...</td>\n",
       "      <td>True</td>\n",
       "      <td>True</td>\n",
       "      <td>0.405476</td>\n",
       "      <td>[0.006790981265476318, 0.006790981265476318]</td>\n",
       "      <td>[0.0, 0.41379310344827586, 0.8275862068965517]</td>\n",
       "    </tr>\n",
       "    <tr>\n",
       "      <th>9</th>\n",
       "      <td>0.931034</td>\n",
       "      <td>0.353434</td>\n",
       "      <td>0.070140</td>\n",
       "      <td>0.423573</td>\n",
       "      <td>{'iteration': [0, 1], 'error_alpha_L2': [0.063...</td>\n",
       "      <td>{'iterations': 150, 'error_x_L2': [1, 1.0, 0.1...</td>\n",
       "      <td>[-0.6221894019211488, 0.9999999999999997, 0.99...</td>\n",
       "      <td>True</td>\n",
       "      <td>True</td>\n",
       "      <td>0.379614</td>\n",
       "      <td>[0.07013985392357351, 0.07013985392357351]</td>\n",
       "      <td>[0.0, 0.46551724137931033, 0.9310344827586207]</td>\n",
       "    </tr>\n",
       "    <tr>\n",
       "      <th>10</th>\n",
       "      <td>1.034483</td>\n",
       "      <td>0.365950</td>\n",
       "      <td>0.133489</td>\n",
       "      <td>0.499439</td>\n",
       "      <td>{'iteration': [0, 1], 'error_alpha_L2': [0.063...</td>\n",
       "      <td>{'iterations': 166, 'error_x_L2': [1, 0.999999...</td>\n",
       "      <td>[-0.6375690101282074, 0.9999999999999999, 0.99...</td>\n",
       "      <td>True</td>\n",
       "      <td>True</td>\n",
       "      <td>0.353752</td>\n",
       "      <td>[0.1334887265818357, 0.1334887265818357]</td>\n",
       "      <td>[0.0, 0.5172413793103449, 1.0344827586206897]</td>\n",
       "    </tr>\n",
       "    <tr>\n",
       "      <th>11</th>\n",
       "      <td>1.137931</td>\n",
       "      <td>0.373116</td>\n",
       "      <td>0.196838</td>\n",
       "      <td>0.569953</td>\n",
       "      <td>{'iteration': [0, 1], 'error_alpha_L2': [0.063...</td>\n",
       "      <td>{'iterations': 181, 'error_x_L2': [1, 1.000000...</td>\n",
       "      <td>[-0.6532650532366159, 0.9999999999999994, 0.99...</td>\n",
       "      <td>True</td>\n",
       "      <td>True</td>\n",
       "      <td>0.327890</td>\n",
       "      <td>[0.19683759924003694, 0.19683759924003694]</td>\n",
       "      <td>[0.0, 0.5689655172413793, 1.1379310344827587]</td>\n",
       "    </tr>\n",
       "    <tr>\n",
       "      <th>12</th>\n",
       "      <td>1.241379</td>\n",
       "      <td>0.374931</td>\n",
       "      <td>0.260186</td>\n",
       "      <td>0.635117</td>\n",
       "      <td>{'iteration': [0, 1], 'error_alpha_L2': [0.063...</td>\n",
       "      <td>{'iterations': 196, 'error_x_L2': [1, 1.000000...</td>\n",
       "      <td>[-0.6692572759981509, 0.9999999999999999, 0.99...</td>\n",
       "      <td>False</td>\n",
       "      <td>True</td>\n",
       "      <td>0.302028</td>\n",
       "      <td>[0.26018647189822636, 0.26018647189822636]</td>\n",
       "      <td>[0.0, 0.6206896551724138, 1.2413793103448276]</td>\n",
       "    </tr>\n",
       "    <tr>\n",
       "      <th>13</th>\n",
       "      <td>1.344828</td>\n",
       "      <td>0.371395</td>\n",
       "      <td>0.323535</td>\n",
       "      <td>0.694930</td>\n",
       "      <td>{'iteration': [0, 1], 'error_alpha_L2': [0.063...</td>\n",
       "      <td>{'iterations': 210, 'error_x_L2': [1, 1.0, 0.1...</td>\n",
       "      <td>[-0.6855227620335338, 0.9999999999999997, 1.00...</td>\n",
       "      <td>False</td>\n",
       "      <td>True</td>\n",
       "      <td>0.276166</td>\n",
       "      <td>[0.3235353445564129, 0.3235353445564129]</td>\n",
       "      <td>[0.0, 0.6724137931034483, 1.3448275862068966]</td>\n",
       "    </tr>\n",
       "    <tr>\n",
       "      <th>14</th>\n",
       "      <td>1.448276</td>\n",
       "      <td>0.362508</td>\n",
       "      <td>0.386884</td>\n",
       "      <td>0.749393</td>\n",
       "      <td>{'iteration': [0, 1], 'error_alpha_L2': [0.063...</td>\n",
       "      <td>{'iterations': 224, 'error_x_L2': [1, 1.0, 0.1...</td>\n",
       "      <td>[-0.7020361091832108, 0.9999999999999997, 0.99...</td>\n",
       "      <td>False</td>\n",
       "      <td>True</td>\n",
       "      <td>0.250303</td>\n",
       "      <td>[0.38688421721459887, 0.38688421721459887]</td>\n",
       "      <td>[0.0, 0.7241379310344828, 1.4482758620689655]</td>\n",
       "    </tr>\n",
       "    <tr>\n",
       "      <th>15</th>\n",
       "      <td>1.551724</td>\n",
       "      <td>0.348271</td>\n",
       "      <td>0.450233</td>\n",
       "      <td>0.798504</td>\n",
       "      <td>{'iteration': [0, 1], 'error_alpha_L2': [0.063...</td>\n",
       "      <td>{'iterations': 236, 'error_x_L2': [1, 0.999999...</td>\n",
       "      <td>[-0.7187696732691973, 0.9999999999999999, 0.99...</td>\n",
       "      <td>False</td>\n",
       "      <td>True</td>\n",
       "      <td>0.224441</td>\n",
       "      <td>[0.4502330841077626, 0.4502330841077626]</td>\n",
       "      <td>[0.0, 0.7758620689655172, 1.5517241379310345]</td>\n",
       "    </tr>\n",
       "    <tr>\n",
       "      <th>16</th>\n",
       "      <td>1.655172</td>\n",
       "      <td>0.328683</td>\n",
       "      <td>0.513582</td>\n",
       "      <td>0.842265</td>\n",
       "      <td>{'iteration': [0, 1], 'error_alpha_L2': [0.063...</td>\n",
       "      <td>{'iterations': 247, 'error_x_L2': [1, 1.000000...</td>\n",
       "      <td>[-0.7356938563969196, 0.9866000460696424, 0.99...</td>\n",
       "      <td>False</td>\n",
       "      <td>True</td>\n",
       "      <td>0.198579</td>\n",
       "      <td>[0.5135819588386891, 0.5135819588386891]</td>\n",
       "      <td>[0.0, 0.8275862068965517, 1.6551724137931034]</td>\n",
       "    </tr>\n",
       "    <tr>\n",
       "      <th>17</th>\n",
       "      <td>1.758621</td>\n",
       "      <td>0.303744</td>\n",
       "      <td>0.576931</td>\n",
       "      <td>0.880675</td>\n",
       "      <td>{'iteration': [0, 1], 'error_alpha_L2': [0.063...</td>\n",
       "      <td>{'iterations': 258, 'error_x_L2': [1, 1.000000...</td>\n",
       "      <td>[-0.7527774829972335, 0.9285647453763104, 0.99...</td>\n",
       "      <td>False</td>\n",
       "      <td>True</td>\n",
       "      <td>0.172717</td>\n",
       "      <td>[0.5769308327605635, 0.5769308327605635]</td>\n",
       "      <td>[0.0, 0.8793103448275862, 1.7586206896551724]</td>\n",
       "    </tr>\n",
       "    <tr>\n",
       "      <th>18</th>\n",
       "      <td>1.862069</td>\n",
       "      <td>0.273455</td>\n",
       "      <td>0.640280</td>\n",
       "      <td>0.913734</td>\n",
       "      <td>{'iteration': [0, 1], 'error_alpha_L2': [0.063...</td>\n",
       "      <td>{'iterations': 267, 'error_x_L2': [1, 1.0, 0.1...</td>\n",
       "      <td>[-0.769988178041584, 0.8769778129183707, 0.999...</td>\n",
       "      <td>False</td>\n",
       "      <td>True</td>\n",
       "      <td>0.146855</td>\n",
       "      <td>[0.6402797062117394, 0.6402797062117394]</td>\n",
       "      <td>[0.0, 0.9310344827586207, 1.8620689655172413]</td>\n",
       "    </tr>\n",
       "    <tr>\n",
       "      <th>19</th>\n",
       "      <td>1.965517</td>\n",
       "      <td>0.237814</td>\n",
       "      <td>0.703629</td>\n",
       "      <td>0.941443</td>\n",
       "      <td>{'iteration': [0, 1], 'error_alpha_L2': [0.063...</td>\n",
       "      <td>{'iterations': 274, 'error_x_L2': [1, 1.0, 0.1...</td>\n",
       "      <td>[-0.7872927958150886, 0.8308210846772388, 0.99...</td>\n",
       "      <td>False</td>\n",
       "      <td>True</td>\n",
       "      <td>0.120993</td>\n",
       "      <td>[0.7036285793804846, 0.7036285793804846]</td>\n",
       "      <td>[0.0, 0.9827586206896551, 1.9655172413793103]</td>\n",
       "    </tr>\n",
       "    <tr>\n",
       "      <th>20</th>\n",
       "      <td>2.068966</td>\n",
       "      <td>0.196823</td>\n",
       "      <td>0.766977</td>\n",
       "      <td>0.963800</td>\n",
       "      <td>{'iteration': [0, 1], 'error_alpha_L2': [0.063...</td>\n",
       "      <td>{'iterations': 1, 'error_x_L2': [1, 0.99999999...</td>\n",
       "      <td>[-0.8046578569457961, 0.789280029704086, 1.000...</td>\n",
       "      <td>True</td>\n",
       "      <td>True</td>\n",
       "      <td>0.095131</td>\n",
       "      <td>[0.7669774523750352, 0.7669774523750352]</td>\n",
       "      <td>[0.0, 1.0344827586206897, 2.0689655172413794]</td>\n",
       "    </tr>\n",
       "    <tr>\n",
       "      <th>21</th>\n",
       "      <td>2.172414</td>\n",
       "      <td>0.150481</td>\n",
       "      <td>0.830326</td>\n",
       "      <td>0.980807</td>\n",
       "      <td>{'iteration': [0, 1], 'error_alpha_L2': [0.063...</td>\n",
       "      <td>{'iterations': 1, 'error_x_L2': [1, 1.0], 'lam...</td>\n",
       "      <td>[-0.8220499839640826, 0.751695265934492, 0.999...</td>\n",
       "      <td>True</td>\n",
       "      <td>True</td>\n",
       "      <td>0.069269</td>\n",
       "      <td>[0.8303263252594598, 0.8303263252594598]</td>\n",
       "      <td>[0.0, 1.0862068965517242, 2.1724137931034484]</td>\n",
       "    </tr>\n",
       "    <tr>\n",
       "      <th>22</th>\n",
       "      <td>2.275862</td>\n",
       "      <td>0.098788</td>\n",
       "      <td>0.893675</td>\n",
       "      <td>0.992463</td>\n",
       "      <td>{'iteration': [0, 1], 'error_alpha_L2': [0.063...</td>\n",
       "      <td>{'iterations': 1, 'error_x_L2': [1, 0.99999999...</td>\n",
       "      <td>[-0.8394363208651866, 0.7175272990202614, 0.99...</td>\n",
       "      <td>True</td>\n",
       "      <td>True</td>\n",
       "      <td>0.043407</td>\n",
       "      <td>[0.8936751980726939, 0.8936751980726939]</td>\n",
       "      <td>[0.0, 1.1379310344827587, 2.2758620689655173]</td>\n",
       "    </tr>\n",
       "    <tr>\n",
       "      <th>23</th>\n",
       "      <td>2.379310</td>\n",
       "      <td>0.041745</td>\n",
       "      <td>0.957024</td>\n",
       "      <td>0.998769</td>\n",
       "      <td>{'iteration': [0, 1], 'error_alpha_L2': [0.063...</td>\n",
       "      <td>{'iterations': 1, 'error_x_L2': [1, 1.00000000...</td>\n",
       "      <td>[-0.8567849236107672, 0.686330459753512, 0.999...</td>\n",
       "      <td>True</td>\n",
       "      <td>True</td>\n",
       "      <td>0.017545</td>\n",
       "      <td>[0.9570240708389668, 0.9570240708389668]</td>\n",
       "      <td>[0.0, 1.1896551724137931, 2.3793103448275863]</td>\n",
       "    </tr>\n",
       "    <tr>\n",
       "      <th>24</th>\n",
       "      <td>2.482759</td>\n",
       "      <td>0.000000</td>\n",
       "      <td>1.000000</td>\n",
       "      <td>1.000000</td>\n",
       "      <td>{'iteration': [0, 1], 'error_alpha_L2': [0.042...</td>\n",
       "      <td>{'iterations': [], 'error_x_L2': [], 'lambda_k...</td>\n",
       "      <td>[0.0, 0.9999999999999997, 1.0000000000000002]</td>\n",
       "      <td>False</td>\n",
       "      <td>True</td>\n",
       "      <td>0.000000</td>\n",
       "      <td>[1.0, 1.0]</td>\n",
       "      <td>[0.0, 1.2413793103448276, 2.4827586206896552]</td>\n",
       "    </tr>\n",
       "    <tr>\n",
       "      <th>25</th>\n",
       "      <td>2.586207</td>\n",
       "      <td>0.000000</td>\n",
       "      <td>1.000000</td>\n",
       "      <td>1.000000</td>\n",
       "      <td>{'iteration': [0], 'error_alpha_L2': [0.0], 'e...</td>\n",
       "      <td>{'iterations': [], 'error_x_L2': [], 'lambda_k...</td>\n",
       "      <td>[0.0, 0.9999999999999997, 1.0000000000000002]</td>\n",
       "      <td>False</td>\n",
       "      <td>True</td>\n",
       "      <td>0.000000</td>\n",
       "      <td>[1.0, 1.0]</td>\n",
       "      <td>[0.0, 1.2413793103448276, 2.586206896551724]</td>\n",
       "    </tr>\n",
       "    <tr>\n",
       "      <th>26</th>\n",
       "      <td>2.689655</td>\n",
       "      <td>0.000000</td>\n",
       "      <td>1.000000</td>\n",
       "      <td>1.000000</td>\n",
       "      <td>{'iteration': [0], 'error_alpha_L2': [0.0], 'e...</td>\n",
       "      <td>{'iterations': [], 'error_x_L2': [], 'lambda_k...</td>\n",
       "      <td>[0.0, 0.9999999999999997, 1.0000000000000002]</td>\n",
       "      <td>False</td>\n",
       "      <td>True</td>\n",
       "      <td>0.000000</td>\n",
       "      <td>[1.0, 1.0]</td>\n",
       "      <td>[0.0, 1.2413793103448276, 2.689655172413793]</td>\n",
       "    </tr>\n",
       "    <tr>\n",
       "      <th>27</th>\n",
       "      <td>2.793103</td>\n",
       "      <td>0.000000</td>\n",
       "      <td>1.000000</td>\n",
       "      <td>1.000000</td>\n",
       "      <td>{'iteration': [0], 'error_alpha_L2': [0.0], 'e...</td>\n",
       "      <td>{'iterations': [], 'error_x_L2': [], 'lambda_k...</td>\n",
       "      <td>[0.0, 0.9999999999999997, 1.0000000000000002]</td>\n",
       "      <td>False</td>\n",
       "      <td>True</td>\n",
       "      <td>0.000000</td>\n",
       "      <td>[1.0, 1.0]</td>\n",
       "      <td>[0.0, 1.2413793103448276, 2.793103448275862]</td>\n",
       "    </tr>\n",
       "    <tr>\n",
       "      <th>28</th>\n",
       "      <td>2.896552</td>\n",
       "      <td>0.000000</td>\n",
       "      <td>1.000000</td>\n",
       "      <td>1.000000</td>\n",
       "      <td>{'iteration': [0], 'error_alpha_L2': [0.0], 'e...</td>\n",
       "      <td>{'iterations': [], 'error_x_L2': [], 'lambda_k...</td>\n",
       "      <td>[0.0, 0.9999999999999997, 1.0000000000000002]</td>\n",
       "      <td>False</td>\n",
       "      <td>True</td>\n",
       "      <td>0.000000</td>\n",
       "      <td>[1.0, 1.0]</td>\n",
       "      <td>[0.0, 1.2413793103448276, 2.896551724137931]</td>\n",
       "    </tr>\n",
       "    <tr>\n",
       "      <th>29</th>\n",
       "      <td>3.000000</td>\n",
       "      <td>0.000000</td>\n",
       "      <td>1.000000</td>\n",
       "      <td>1.000000</td>\n",
       "      <td>{'iteration': [0], 'error_alpha_L2': [0.0], 'e...</td>\n",
       "      <td>{'iterations': [], 'error_x_L2': [], 'lambda_k...</td>\n",
       "      <td>[0.0, 0.9999999999999997, 1.0000000000000002]</td>\n",
       "      <td>False</td>\n",
       "      <td>True</td>\n",
       "      <td>0.000000</td>\n",
       "      <td>[1.0, 1.0]</td>\n",
       "      <td>[0.0, 1.2413793103448276, 3.0]</td>\n",
       "    </tr>\n",
       "  </tbody>\n",
       "</table>\n",
       "</div>"
      ],
      "text/plain": [
       "        load  elastic_energy  fracture_energy  total_energy  \\\n",
       "0   0.000000        0.000000         0.000000      0.000000   \n",
       "1   0.103448        0.005351         0.000000      0.005351   \n",
       "2   0.206897        0.021403         0.000000      0.021403   \n",
       "3   0.310345        0.048157         0.000000      0.048157   \n",
       "4   0.413793        0.085612         0.000000      0.085612   \n",
       "5   0.517241        0.133769         0.000000      0.133769   \n",
       "6   0.620690        0.192628         0.000000      0.192628   \n",
       "7   0.724138        0.262188         0.000000      0.262188   \n",
       "8   0.827586        0.335566         0.006791      0.342357   \n",
       "9   0.931034        0.353434         0.070140      0.423573   \n",
       "10  1.034483        0.365950         0.133489      0.499439   \n",
       "11  1.137931        0.373116         0.196838      0.569953   \n",
       "12  1.241379        0.374931         0.260186      0.635117   \n",
       "13  1.344828        0.371395         0.323535      0.694930   \n",
       "14  1.448276        0.362508         0.386884      0.749393   \n",
       "15  1.551724        0.348271         0.450233      0.798504   \n",
       "16  1.655172        0.328683         0.513582      0.842265   \n",
       "17  1.758621        0.303744         0.576931      0.880675   \n",
       "18  1.862069        0.273455         0.640280      0.913734   \n",
       "19  1.965517        0.237814         0.703629      0.941443   \n",
       "20  2.068966        0.196823         0.766977      0.963800   \n",
       "21  2.172414        0.150481         0.830326      0.980807   \n",
       "22  2.275862        0.098788         0.893675      0.992463   \n",
       "23  2.379310        0.041745         0.957024      0.998769   \n",
       "24  2.482759        0.000000         1.000000      1.000000   \n",
       "25  2.586207        0.000000         1.000000      1.000000   \n",
       "26  2.689655        0.000000         1.000000      1.000000   \n",
       "27  2.793103        0.000000         1.000000      1.000000   \n",
       "28  2.896552        0.000000         1.000000      1.000000   \n",
       "29  3.000000        0.000000         1.000000      1.000000   \n",
       "\n",
       "                                          solver_data  \\\n",
       "0   {'iteration': [0], 'error_alpha_L2': [0.0], 'e...   \n",
       "1   {'iteration': [0], 'error_alpha_L2': [0.0], 'e...   \n",
       "2   {'iteration': [0], 'error_alpha_L2': [0.0], 'e...   \n",
       "3   {'iteration': [0], 'error_alpha_L2': [0.0], 'e...   \n",
       "4   {'iteration': [0], 'error_alpha_L2': [0.0], 'e...   \n",
       "5   {'iteration': [0], 'error_alpha_L2': [0.0], 'e...   \n",
       "6   {'iteration': [0], 'error_alpha_L2': [0.0], 'e...   \n",
       "7   {'iteration': [0], 'error_alpha_L2': [0.0], 'e...   \n",
       "8   {'iteration': [0, 1], 'error_alpha_L2': [0.006...   \n",
       "9   {'iteration': [0, 1], 'error_alpha_L2': [0.063...   \n",
       "10  {'iteration': [0, 1], 'error_alpha_L2': [0.063...   \n",
       "11  {'iteration': [0, 1], 'error_alpha_L2': [0.063...   \n",
       "12  {'iteration': [0, 1], 'error_alpha_L2': [0.063...   \n",
       "13  {'iteration': [0, 1], 'error_alpha_L2': [0.063...   \n",
       "14  {'iteration': [0, 1], 'error_alpha_L2': [0.063...   \n",
       "15  {'iteration': [0, 1], 'error_alpha_L2': [0.063...   \n",
       "16  {'iteration': [0, 1], 'error_alpha_L2': [0.063...   \n",
       "17  {'iteration': [0, 1], 'error_alpha_L2': [0.063...   \n",
       "18  {'iteration': [0, 1], 'error_alpha_L2': [0.063...   \n",
       "19  {'iteration': [0, 1], 'error_alpha_L2': [0.063...   \n",
       "20  {'iteration': [0, 1], 'error_alpha_L2': [0.063...   \n",
       "21  {'iteration': [0, 1], 'error_alpha_L2': [0.063...   \n",
       "22  {'iteration': [0, 1], 'error_alpha_L2': [0.063...   \n",
       "23  {'iteration': [0, 1], 'error_alpha_L2': [0.063...   \n",
       "24  {'iteration': [0, 1], 'error_alpha_L2': [0.042...   \n",
       "25  {'iteration': [0], 'error_alpha_L2': [0.0], 'e...   \n",
       "26  {'iteration': [0], 'error_alpha_L2': [0.0], 'e...   \n",
       "27  {'iteration': [0], 'error_alpha_L2': [0.0], 'e...   \n",
       "28  {'iteration': [0], 'error_alpha_L2': [0.0], 'e...   \n",
       "29  {'iteration': [0], 'error_alpha_L2': [0.0], 'e...   \n",
       "\n",
       "                                            cone_data  \\\n",
       "0   {'iterations': [], 'error_x_L2': [], 'lambda_k...   \n",
       "1   {'iterations': [], 'error_x_L2': [], 'lambda_k...   \n",
       "2   {'iterations': [], 'error_x_L2': [], 'lambda_k...   \n",
       "3   {'iterations': [], 'error_x_L2': [], 'lambda_k...   \n",
       "4   {'iterations': [], 'error_x_L2': [], 'lambda_k...   \n",
       "5   {'iterations': [], 'error_x_L2': [], 'lambda_k...   \n",
       "6   {'iterations': [], 'error_x_L2': [], 'lambda_k...   \n",
       "7   {'iterations': [], 'error_x_L2': [], 'lambda_k...   \n",
       "8   {'iterations': 134, 'error_x_L2': [1, 0.999999...   \n",
       "9   {'iterations': 150, 'error_x_L2': [1, 1.0, 0.1...   \n",
       "10  {'iterations': 166, 'error_x_L2': [1, 0.999999...   \n",
       "11  {'iterations': 181, 'error_x_L2': [1, 1.000000...   \n",
       "12  {'iterations': 196, 'error_x_L2': [1, 1.000000...   \n",
       "13  {'iterations': 210, 'error_x_L2': [1, 1.0, 0.1...   \n",
       "14  {'iterations': 224, 'error_x_L2': [1, 1.0, 0.1...   \n",
       "15  {'iterations': 236, 'error_x_L2': [1, 0.999999...   \n",
       "16  {'iterations': 247, 'error_x_L2': [1, 1.000000...   \n",
       "17  {'iterations': 258, 'error_x_L2': [1, 1.000000...   \n",
       "18  {'iterations': 267, 'error_x_L2': [1, 1.0, 0.1...   \n",
       "19  {'iterations': 274, 'error_x_L2': [1, 1.0, 0.1...   \n",
       "20  {'iterations': 1, 'error_x_L2': [1, 0.99999999...   \n",
       "21  {'iterations': 1, 'error_x_L2': [1, 1.0], 'lam...   \n",
       "22  {'iterations': 1, 'error_x_L2': [1, 0.99999999...   \n",
       "23  {'iterations': 1, 'error_x_L2': [1, 1.00000000...   \n",
       "24  {'iterations': [], 'error_x_L2': [], 'lambda_k...   \n",
       "25  {'iterations': [], 'error_x_L2': [], 'lambda_k...   \n",
       "26  {'iterations': [], 'error_x_L2': [], 'lambda_k...   \n",
       "27  {'iterations': [], 'error_x_L2': [], 'lambda_k...   \n",
       "28  {'iterations': [], 'error_x_L2': [], 'lambda_k...   \n",
       "29  {'iterations': [], 'error_x_L2': [], 'lambda_k...   \n",
       "\n",
       "                                                 eigs  cone-stable  \\\n",
       "0   [0.9999999999999997, 0.9999999999999999, 4.000...         True   \n",
       "1   [0.9999999999999997, 0.9999999999999999, 4.000...         True   \n",
       "2   [0.9999999999999997, 0.9999999999999999, 4.000...         True   \n",
       "3   [0.9999999999999997, 0.9999999999999999, 4.000...         True   \n",
       "4   [0.9999999999999997, 0.9999999999999999, 4.000...         True   \n",
       "5   [0.9999999999999997, 0.9999999999999999, 4.000...         True   \n",
       "6   [0.9999999999999997, 0.9999999999999999, 4.000...         True   \n",
       "7   [0.9999999999999997, 0.9999999999999999, 4.000...         True   \n",
       "8   [-0.6071437143439314, 0.9999999999999999, 0.99...         True   \n",
       "9   [-0.6221894019211488, 0.9999999999999997, 0.99...         True   \n",
       "10  [-0.6375690101282074, 0.9999999999999999, 0.99...         True   \n",
       "11  [-0.6532650532366159, 0.9999999999999994, 0.99...         True   \n",
       "12  [-0.6692572759981509, 0.9999999999999999, 0.99...        False   \n",
       "13  [-0.6855227620335338, 0.9999999999999997, 1.00...        False   \n",
       "14  [-0.7020361091832108, 0.9999999999999997, 0.99...        False   \n",
       "15  [-0.7187696732691973, 0.9999999999999999, 0.99...        False   \n",
       "16  [-0.7356938563969196, 0.9866000460696424, 0.99...        False   \n",
       "17  [-0.7527774829972335, 0.9285647453763104, 0.99...        False   \n",
       "18  [-0.769988178041584, 0.8769778129183707, 0.999...        False   \n",
       "19  [-0.7872927958150886, 0.8308210846772388, 0.99...        False   \n",
       "20  [-0.8046578569457961, 0.789280029704086, 1.000...         True   \n",
       "21  [-0.8220499839640826, 0.751695265934492, 0.999...         True   \n",
       "22  [-0.8394363208651866, 0.7175272990202614, 0.99...         True   \n",
       "23  [-0.8567849236107672, 0.686330459753512, 0.999...         True   \n",
       "24      [0.0, 0.9999999999999997, 1.0000000000000002]        False   \n",
       "25      [0.0, 0.9999999999999997, 1.0000000000000002]        False   \n",
       "26      [0.0, 0.9999999999999997, 1.0000000000000002]        False   \n",
       "27      [0.0, 0.9999999999999997, 1.0000000000000002]        False   \n",
       "28      [0.0, 0.9999999999999997, 1.0000000000000002]        False   \n",
       "29      [0.0, 0.9999999999999997, 1.0000000000000002]        False   \n",
       "\n",
       "    non-bifurcation         F                                       alpha_t  \\\n",
       "0             False  0.000000                                    [0.0, 0.0]   \n",
       "1             False  0.051724                                    [0.0, 0.0]   \n",
       "2             False  0.103448                                    [0.0, 0.0]   \n",
       "3             False  0.155172                                    [0.0, 0.0]   \n",
       "4             False  0.206897                                    [0.0, 0.0]   \n",
       "5             False  0.258621                                    [0.0, 0.0]   \n",
       "6             False  0.310345                                    [0.0, 0.0]   \n",
       "7             False  0.362069                                    [0.0, 0.0]   \n",
       "8              True  0.405476  [0.006790981265476318, 0.006790981265476318]   \n",
       "9              True  0.379614    [0.07013985392357351, 0.07013985392357351]   \n",
       "10             True  0.353752      [0.1334887265818357, 0.1334887265818357]   \n",
       "11             True  0.327890    [0.19683759924003694, 0.19683759924003694]   \n",
       "12             True  0.302028    [0.26018647189822636, 0.26018647189822636]   \n",
       "13             True  0.276166      [0.3235353445564129, 0.3235353445564129]   \n",
       "14             True  0.250303    [0.38688421721459887, 0.38688421721459887]   \n",
       "15             True  0.224441      [0.4502330841077626, 0.4502330841077626]   \n",
       "16             True  0.198579      [0.5135819588386891, 0.5135819588386891]   \n",
       "17             True  0.172717      [0.5769308327605635, 0.5769308327605635]   \n",
       "18             True  0.146855      [0.6402797062117394, 0.6402797062117394]   \n",
       "19             True  0.120993      [0.7036285793804846, 0.7036285793804846]   \n",
       "20             True  0.095131      [0.7669774523750352, 0.7669774523750352]   \n",
       "21             True  0.069269      [0.8303263252594598, 0.8303263252594598]   \n",
       "22             True  0.043407      [0.8936751980726939, 0.8936751980726939]   \n",
       "23             True  0.017545      [0.9570240708389668, 0.9570240708389668]   \n",
       "24             True  0.000000                                    [1.0, 1.0]   \n",
       "25             True  0.000000                                    [1.0, 1.0]   \n",
       "26             True  0.000000                                    [1.0, 1.0]   \n",
       "27             True  0.000000                                    [1.0, 1.0]   \n",
       "28             True  0.000000                                    [1.0, 1.0]   \n",
       "29             True  0.000000                                    [1.0, 1.0]   \n",
       "\n",
       "                                                u_t  \n",
       "0                                   [0.0, 0.0, 0.0]  \n",
       "1   [0.0, 0.05172413793103448, 0.10344827586206896]  \n",
       "2   [0.0, 0.10344827586206896, 0.20689655172413793]  \n",
       "3    [0.0, 0.15517241379310345, 0.3103448275862069]  \n",
       "4   [0.0, 0.20689655172413793, 0.41379310344827586]  \n",
       "5    [0.0, 0.25862068965517243, 0.5172413793103449]  \n",
       "6     [0.0, 0.3103448275862069, 0.6206896551724138]  \n",
       "7     [0.0, 0.3620689655172414, 0.7241379310344828]  \n",
       "8    [0.0, 0.41379310344827586, 0.8275862068965517]  \n",
       "9    [0.0, 0.46551724137931033, 0.9310344827586207]  \n",
       "10    [0.0, 0.5172413793103449, 1.0344827586206897]  \n",
       "11    [0.0, 0.5689655172413793, 1.1379310344827587]  \n",
       "12    [0.0, 0.6206896551724138, 1.2413793103448276]  \n",
       "13    [0.0, 0.6724137931034483, 1.3448275862068966]  \n",
       "14    [0.0, 0.7241379310344828, 1.4482758620689655]  \n",
       "15    [0.0, 0.7758620689655172, 1.5517241379310345]  \n",
       "16    [0.0, 0.8275862068965517, 1.6551724137931034]  \n",
       "17    [0.0, 0.8793103448275862, 1.7586206896551724]  \n",
       "18    [0.0, 0.9310344827586207, 1.8620689655172413]  \n",
       "19    [0.0, 0.9827586206896551, 1.9655172413793103]  \n",
       "20    [0.0, 1.0344827586206897, 2.0689655172413794]  \n",
       "21    [0.0, 1.0862068965517242, 2.1724137931034484]  \n",
       "22    [0.0, 1.1379310344827587, 2.2758620689655173]  \n",
       "23    [0.0, 1.1896551724137931, 2.3793103448275863]  \n",
       "24    [0.0, 1.2413793103448276, 2.4827586206896552]  \n",
       "25     [0.0, 1.2413793103448276, 2.586206896551724]  \n",
       "26     [0.0, 1.2413793103448276, 2.689655172413793]  \n",
       "27     [0.0, 1.2413793103448276, 2.793103448275862]  \n",
       "28     [0.0, 1.2413793103448276, 2.896551724137931]  \n",
       "29                   [0.0, 1.2413793103448276, 3.0]  "
      ]
     },
     "execution_count": 93,
     "metadata": {},
     "output_type": "execute_result"
    }
   ],
   "source": [
    "data"
   ]
  },
  {
   "cell_type": "code",
   "execution_count": 123,
   "metadata": {},
   "outputs": [
    {
     "data": {
      "text/plain": [
       "<matplotlib.collections.PolyCollection at 0x1685553d0>"
      ]
     },
     "execution_count": 123,
     "metadata": {},
     "output_type": "execute_result"
    },
    {
     "data": {
      "image/png": "[encoded data removed]",
      "text/plain": [
       "<Figure size 432x288 with 1 Axes>"
      ]
     },
     "metadata": {},
     "output_type": "display_data"
    }
   ],
   "source": [
    "\n",
    "\n",
    "# plt.plot(_stab_cnd)\n",
    "plt.plot(data.load, data.fracture_energy)\n",
    "plt.fill_between(data.load, 0, 1, where=_stab_cnd,color='red', alpha=0.5)\n",
    "plt.fill_between(data.load, 0, 1, where=[not s for s in _stab_cnd], color='green', alpha=0.5)"
   ]
  },
  {
   "cell_type": "code",
   "execution_count": 129,
   "metadata": {},
   "outputs": [
    {
     "data": {
      "text/plain": [
       "Text(0.5, 1.0, 'N=2, k=3')"
      ]
     },
     "execution_count": 129,
     "metadata": {},
     "output_type": "execute_result"
    },
    {
     "data": {
      "image/png": "[encoded data removed]",
      "text/plain": [
       "<Figure size 432x288 with 1 Axes>"
      ]
     },
     "metadata": {},
     "output_type": "display_data"
    }
   ],
   "source": [
    "plt.plot(data.load, data.F, label = 'stress')\n",
    "plt.fill_between(data.load, 0, .1, where=_stab_cnd,color='red', alpha=0.5)\n",
    "plt.fill_between(data.load, 0, .1, where=[not s for s in _stab_cnd], color='green', alpha=0.5)\n",
    "plt.legend()\n",
    "\n",
    "plt.axvline(_tc.subs(matpar), c='k', lw=1)\n",
    "plt.axvline(_k, c='k', lw=1)\n",
    "plt.axvline(_k/2, c='k', lw=1)\n",
    "\n",
    "plt.xticks([_tc.subs(matpar), _k/2, _k], ['$t_c$', '$k/2$', '$k$'])\n",
    "plt.title(f'N={_N}, k={_k}')\n",
    "\n"
   ]
  },
  {
   "cell_type": "code",
   "execution_count": 88,
   "metadata": {},
   "outputs": [
    {
     "data": {
      "text/plain": [
       "[[],\n",
       " [],\n",
       " [],\n",
       " [],\n",
       " [],\n",
       " [],\n",
       " [],\n",
       " [],\n",
       " 134,\n",
       " 150,\n",
       " 166,\n",
       " 181,\n",
       " 196,\n",
       " 210,\n",
       " 224,\n",
       " 236,\n",
       " 247,\n",
       " 258,\n",
       " 267,\n",
       " 274,\n",
       " 1,\n",
       " 1,\n",
       " 1,\n",
       " 1,\n",
       " [],\n",
       " [],\n",
       " [],\n",
       " [],\n",
       " [],\n",
       " []]"
      ]
     },
     "execution_count": 88,
     "metadata": {},
     "output_type": "execute_result"
    }
   ],
   "source": [
    "[converged['iterations'] for converged in data.cone_data]\n",
    "# [converged['lambda_k'] for converged in data.cone_data]"
   ]
  },
  {
   "cell_type": "code",
   "execution_count": 89,
   "metadata": {},
   "outputs": [
    {
     "data": {
      "text/plain": [
       "array([ 0.34113716,  0.23129344,  0.13907438,  0.0594894 , -0.01077217,\n",
       "       -0.07398274, -0.13174358, -0.18520541, -0.23520715, -0.28236635,\n",
       "       -0.32714041, -0.36986936,  0.78928003,  0.75169527,  0.7175273 ,\n",
       "        0.68633046])"
      ]
     },
     "execution_count": 89,
     "metadata": {},
     "output_type": "execute_result"
    }
   ],
   "source": [
    "asd = np.array([converged['lambda_k'][-1] for converged in data.cone_data if isinstance(converged['iterations'], int)])\n",
    "asd\n",
    "# plt.plot(asd)"
   ]
  },
  {
   "cell_type": "code",
   "execution_count": 90,
   "metadata": {},
   "outputs": [
    {
     "data": {
      "text/plain": [
       "[0.3411371555836197,\n",
       " 0.23129344224964782,\n",
       " 0.13907438470579842,\n",
       " 0.059489395425055866,\n",
       " -0.010772171956834753,\n",
       " -0.07398273855966868,\n",
       " -0.1317435780675608,\n",
       " -0.18520540756690793,\n",
       " -0.2352071464717317,\n",
       " -0.2823663522505975,\n",
       " -0.3271404074606041,\n",
       " -0.3698693593850898,\n",
       " 0.7892800297040861,\n",
       " 0.7516952659344921,\n",
       " 0.7175272990202609,\n",
       " 0.6863304597535119]"
      ]
     },
     "execution_count": 90,
     "metadata": {},
     "output_type": "execute_result"
    }
   ],
   "source": [
    "[converged['lambda_k'][-1] for converged in data.cone_data if len(converged['lambda_k'])>0]"
   ]
  },
  {
   "cell_type": "markdown",
   "metadata": {},
   "source": [
    "## N=3"
   ]
  },
  {
   "cell_type": "markdown",
   "metadata": {},
   "source": [
    "Vivo alla base, ho  srotolato solo hardcore / mi alleno co' Alien D: pronto Ensi  per i lividi / . Missione Speciale: FeasterRootsConnect. _Complete_ co' un risultato universale..:"
   ]
  },
  {
   "cell_type": "code",
   "execution_count": 127,
   "metadata": {},
   "outputs": [
    {
     "data": {
      "text/plain": [
       "{'N': 3,\n",
       " 'ell': 0.1,\n",
       " 'k': 3,\n",
       " 'k_res': 0.0001,\n",
       " 'model_dimension': 1,\n",
       " 'model_type': '1D',\n",
       " 'mu': 1,\n",
       " 'w1': 1}"
      ]
     },
     "execution_count": 127,
     "metadata": {},
     "output_type": "execute_result"
    }
   ],
   "source": [
    "experiment = '../../practice/output/discrete-atk-N3'\n",
    "params, data, signature = pp.load_data(experiment)\n",
    "model_parameters = params.get(\"model\")\n",
    "\n",
    "_mu, _w1, _k, _N = model_parameters.get(\"mu\"), model_parameters.get(\n",
    "    \"w1\"), model_parameters.get(\"k\"), model_parameters[\"N\"]\n",
    "\n",
    "model_parameters"
   ]
  },
  {
   "cell_type": "code",
   "execution_count": 128,
   "metadata": {},
   "outputs": [
    {
     "data": {
      "image/png": "[encoded data removed]",
      "text/plain": [
       "<Figure size 864x648 with 5 Axes>"
      ]
     },
     "metadata": {},
     "output_type": "display_data"
    }
   ],
   "source": [
    "_postprocess_stability(data)"
   ]
  },
  {
   "cell_type": "code",
   "execution_count": 137,
   "metadata": {},
   "outputs": [],
   "source": [
    "def _postprocess_stability2(data):\n",
    "\n",
    "    \"\"\"docstring for _postprocess_stability\"\"\"\n",
    "    figure, axis = plt.subplots(2, 2, figsize=(12, 9))\n",
    "    \n",
    "    _asd = np.array([step[\"lambda_0\"] for step in data[\"cone_data\"]])\n",
    "    _lambda_0 = [np.nan if type(a) is list else a for a in _asd ]\n",
    "\n",
    "    _ax = axis[0, 0]\n",
    "    \n",
    "    for i in range(len(data.cone_data)):\n",
    "        _ax.plot(data.cone_data[i]['error_x_L2'], label=f'step {i}')\n",
    "    _ax.semilogy()\n",
    "    _ax.legend()\n",
    "    _ax.set_xlabel('iterations')\n",
    "    _ax.set_ylabel('$||\\Delta x_k||_{L^2}$')\n",
    "\n",
    "    _ax = axis[0, 1]\n",
    "\n",
    "    _ax.scatter(data.load, _lambda_0, c=_stab_cnd, cmap='RdYlGn_r', alpha=.8)\n",
    "    _ax.set_xlim([0, _k])\n",
    "    _ax.set_ylim([-1, 1])\n",
    "    _ax.axhline(0, c='k')\n",
    "\n",
    "    _ax.set_title('Stability, minimum K-eigen')\n",
    "    _ax.legend()\n",
    "    _ax.set_xlabel('load')\n",
    "    _ax.set_ylabel('min \\sigma_K')\n",
    "\n",
    "    _ax = axis[1, 0]\n",
    "    # [0 if x==3 for x in _asd]\n",
    "    _ax.plot(data.load, _lambda_0, marker='o', ls='')\n",
    "    _ax.axhline(0, c='k')\n",
    "    # _ax.ylim([0, 1.])\n",
    "    _ax.set_xlim([0, _k])\n",
    "\n",
    "    _ax.axvline(_tc.subs(matpar), c='k', lw=1)\n",
    "    _ax.axvline(_k, c='k', lw=1)\n",
    "\n",
    "    _ax.xticks([_tc.subs(matpar), _k], ['$t_c$', '$k$'])\n",
    "    _ax.fill_between(data.load, 0, 1, where=[not s for s in _stab_cnd], color='green', alpha=0.5)\n",
    "    _ax.fill_between(data.load, 0, 1, where=_stab_cnd,color='red', alpha=0.5)\n",
    "    _ax.set_title('Minimum eigenvalue and stability')\n",
    "\n",
    "    _ax.legend()\n",
    "\n",
    "    _ax = axis[1, 1]\n",
    "    _ax.plot(data.load, data.F, label = 'stress')\n",
    "    _ax.fill_between(data.load, 0, .1, where=_stab_cnd,color='red', alpha=0.5)\n",
    "    _ax.fill_between(data.load, 0, .1, where=[not s for s in _stab_cnd], color='green', alpha=0.5)\n",
    "    _ax.legend()\n",
    "\n",
    "    _ax.axvline(_tc.subs(matpar), c='k', lw=1)\n",
    "    _ax.axvline(_k, c='k', lw=1)\n",
    "    _ax.axvline(_k/2, c='k', lw=1)\n",
    "\n",
    "    _ax.xticks([_tc.subs(matpar), _k/2, _k], ['$t_c$', '$k/2$', '$k$'])\n",
    "    _ax.set_title(f'N={_N}, k={_k}')\n",
    "\n",
    "\n",
    "    for _ax in axis.reshape(-1):\n",
    "        _ax.axvline(_tc.subs(matpar), c='k', lw=1)\n",
    "\n",
    "    plt.show()\n",
    "\n",
    "\n"
   ]
  },
  {
   "cell_type": "code",
   "execution_count": 139,
   "metadata": {},
   "outputs": [
    {
     "data": {
      "text/plain": [
       "<AxesSubplot:>"
      ]
     },
     "execution_count": 139,
     "metadata": {},
     "output_type": "execute_result"
    }
   ],
   "source": [
    "_ax.set_x"
   ]
  },
  {
   "cell_type": "code",
   "execution_count": 138,
   "metadata": {},
   "outputs": [
    {
     "name": "stderr",
     "output_type": "stream",
     "text": [
      "/var/folders/9t/b79vbddd6cz3hhc20g8hk86m0000gn/T/ipykernel_43826/2983979745.py:6: VisibleDeprecationWarning: Creating an ndarray from ragged nested sequences (which is a list-or-tuple of lists-or-tuples-or ndarrays with different lengths or shapes) is deprecated. If you meant to do this, you must specify 'dtype=object' when creating the ndarray.\n",
      "  _asd = np.array([step[\"lambda_0\"] for step in data[\"cone_data\"]])\n"
     ]
    },
    {
     "data": {
      "image/png": "[encoded data removed]",
      "text/plain": [
       "<Figure size 864x648 with 4 Axes>"
      ]
     },
     "metadata": {},
     "output_type": "display_data"
    }
   ],
   "source": [
    "_ax = _postprocess_stability2(data)"
   ]
  },
  {
   "cell_type": "markdown",
   "metadata": {},
   "source": [
    "## Stability of a short bar"
   ]
  },
  {
   "cell_type": "code",
   "execution_count": null,
   "metadata": {},
   "outputs": [],
   "source": [
    "!ls ../../playground/"
   ]
  },
  {
   "cell_type": "code",
   "execution_count": null,
   "metadata": {},
   "outputs": [],
   "source": [
    "experiment = '../../practice/output/traction_cone'\n",
    "params, data, signature = pp.load_data(experiment)\n"
   ]
  },
  {
   "cell_type": "code",
   "execution_count": null,
   "metadata": {},
   "outputs": [],
   "source": [
    "data.cone_data[6]"
   ]
  },
  {
   "cell_type": "code",
   "execution_count": null,
   "metadata": {},
   "outputs": [],
   "source": [
    "[data.cone_data[i]['iterations'] for i in range(len(data.cone_data))]"
   ]
  },
  {
   "cell_type": "markdown",
   "metadata": {},
   "source": [
    "$$\n",
    "s:= t + \\int_0^t ||\\dot \\alpha||_{1, 2} dx\n",
    "$$"
   ]
  },
  {
   "cell_type": "code",
   "execution_count": null,
   "metadata": {},
   "outputs": [],
   "source": [
    "data.get(\"rate_12_norm\")"
   ]
  },
  {
   "cell_type": "code",
   "execution_count": null,
   "metadata": {},
   "outputs": [],
   "source": [
    "import numpy as np\n",
    "import matplotlib.pyplot as plt"
   ]
  },
  {
   "cell_type": "code",
   "execution_count": null,
   "metadata": {},
   "outputs": [],
   "source": [
    "params.get(\"geometry\").get(\"Ly\")"
   ]
  },
  {
   "cell_type": "code",
   "execution_count": null,
   "metadata": {},
   "outputs": [],
   "source": [
    "sell = []\n",
    "_dt = (params.get(\"loading\").get(\"max\") - params.get(\"loading\").get(\"min\")) /params.get(\"loading\").get(\"steps\")\n",
    "for i, t in enumerate(data.get(\"load\")):\n",
    "    sell.append(np.trapz(data.get(\"rate_12_norm\")[0:i], data.get(\"load\")[0:i])/_dt)\n",
    "\n",
    "s0 = []\n",
    "_dt = (params.get(\"loading\").get(\"max\") - params.get(\"loading\").get(\"min\")) /params.get(\"loading\").get(\"steps\")\n",
    "for i, t in enumerate(data.get(\"load\")):\n",
    "    s0.append(np.trapz(data.get(\"rate_12_norm_unscaled\")[0:i], data.get(\"load\")[0:i])/_dt)\n",
    "    \n",
    "# s = data.get(\"load\") + s0"
   ]
  },
  {
   "cell_type": "code",
   "execution_count": null,
   "metadata": {},
   "outputs": [],
   "source": [
    "plt.title(\"Evolution Jumps?\")\n",
    "# plt.plot(data.get(\"load\"), s, marker = 'o', label='s')\n",
    "plt.plot(data.get(\"load\"), sell, marker = 'o', label='$s_\\ell$')\n",
    "plt.plot(data.get(\"load\"), s0, marker = 'o', label='$s_0$')\n",
    "plt.plot(data.get(\"load\"), data.get(\"load\"), marker = 'o', label='t')\n",
    "plt.ylabel('$t, s_0, s$')\n",
    "plt.xlabel('t')\n",
    "plt.legend()\n",
    "plt.twinx()\n",
    "plt.plot(data.get(\"load\"), data.get(\"fracture_energy\")/params.get(\"geometry\").get(\"Ly\"),\n",
    "    marker = 's', c='k', label='fracture')\n",
    "plt.ylabel('energy')\n",
    "plt.legend(loc=4)\n",
    "plt.savefig('jumps_evo_multifiss.png')"
   ]
  },
  {
   "cell_type": "code",
   "execution_count": null,
   "metadata": {},
   "outputs": [],
   "source": [
    "plt.plot(data.get(\"load\"), sell, marker = 'o', label='$s_\\ell$')\n",
    "plt.twinx()\n",
    "plt.plot(np.diff(np.array(sell)), label=\"\")\n",
    "plt.xlabel('t')\n"
   ]
  },
  {
   "cell_type": "code",
   "execution_count": null,
   "metadata": {},
   "outputs": [],
   "source": []
  }
 ],
 "metadata": {
  "interpreter": {
   "hash": "b0fa6594d8f4cbf19f97940f81e996739fb7646882a419484c72d19e05852a7e"
  },
  "kernelspec": {
   "display_name": "Python 3.9.13 64-bit",
   "language": "python",
   "name": "python3"
  },
  "language_info": {
   "codemirror_mode": {
    "name": "ipython",
    "version": 3
   },
   "file_extension": ".py",
   "mimetype": "text/x-python",
   "name": "python",
   "nbconvert_exporter": "python",
   "pygments_lexer": "ipython3",
   "version": "3.9.13"
  },
  "orig_nbformat": 4
 },
 "nbformat": 4,
 "nbformat_minor": 2
}
