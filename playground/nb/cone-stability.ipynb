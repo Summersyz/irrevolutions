{
 "cells": [
  {
   "cell_type": "code",
   "execution_count": 1,
   "metadata": {},
   "outputs": [
    {
     "name": "stdout",
     "output_type": "stream",
     "text": [
      "postproc\n"
     ]
    }
   ],
   "source": [
    "# Testing Pacman\n",
    "import postprocess as pp\n",
    "import plots as plots\n"
   ]
  },
  {
   "cell_type": "code",
   "execution_count": 2,
   "metadata": {},
   "outputs": [],
   "source": [
    "import sympy as sp\n",
    "import numpy as np\n",
    "import matplotlib.pyplot as plt"
   ]
  },
  {
   "cell_type": "markdown",
   "metadata": {},
   "source": [
    "## Stability of a discrete system"
   ]
  },
  {
   "cell_type": "code",
   "execution_count": null,
   "metadata": {},
   "outputs": [],
   "source": [
    "# Run the simulation:\n",
    "\n",
    "# !../practice/discrete-atk.py -N 2"
   ]
  },
  {
   "cell_type": "code",
   "execution_count": null,
   "metadata": {},
   "outputs": [],
   "source": [
    "N"
   ]
  },
  {
   "cell_type": "code",
   "execution_count": 5,
   "metadata": {},
   "outputs": [],
   "source": [
    "experiment = '../../practice/output/discrete-atk-N2'\n",
    "params, data, signature = pp.load_data(experiment)\n",
    "model_parameters = params.get(\"model\")\n",
    "\n",
    "_mu, _w1, _k, _N = model_parameters.get(\"mu\"), model_parameters.get(\"w1\"), model_parameters.get(\"k\"), model_parameters[\"N\"]\n"
   ]
  },
  {
   "cell_type": "code",
   "execution_count": null,
   "metadata": {},
   "outputs": [],
   "source": [
    "data;"
   ]
  },
  {
   "cell_type": "code",
   "execution_count": null,
   "metadata": {},
   "outputs": [],
   "source": [
    "len(data.cone_data)"
   ]
  },
  {
   "cell_type": "markdown",
   "metadata": {},
   "source": [
    "## N=2"
   ]
  },
  {
   "cell_type": "code",
   "execution_count": null,
   "metadata": {},
   "outputs": [],
   "source": [
    "import sympy as sp"
   ]
  },
  {
   "cell_type": "code",
   "execution_count": 32,
   "metadata": {},
   "outputs": [],
   "source": [
    "## Simple Analytic \n",
    "α, α1, α2, e1, e2 = sp.symbols('α α1 α2 e1 e2')\n",
    "u1, u2 = sp.symbols('u1 u2')\n",
    "K1, K2 = sp.symbols('K1 K2', positive=True)\n",
    "s1, s2 = sp.symbols('s1 s2', positive=True)\n",
    "μ, N = sp.symbols('μ N', positive=True)\n",
    "w1 = sp.symbols('w1', positive=True)\n",
    "t = sp.Symbol('t', positive=True)\n",
    "k = sp.Symbol('k', positive=True)\n",
    "\n",
    "# _N = 2\n",
    "\n",
    "K = lambda α: (1-α)/(1+(k-1)*α)\n",
    "s = lambda α: 1/K(α)\n",
    "\n",
    "U = 1/2*μ*(K1*u1**2 + K2*(t-u1)**2) * N\n",
    "\n",
    "S = w1*(α1 + α2) / N\n",
    "\n",
    "sol_u = sp.solve(U.diff(u1), u1)\n",
    "\n",
    "\n",
    "matpar = {k: _k, w1: _w1, N: _N, μ: _mu}\n"
   ]
  },
  {
   "cell_type": "code",
   "execution_count": 33,
   "metadata": {},
   "outputs": [
    {
     "data": {
      "text/latex": [
       "$\\displaystyle 0.5 N μ \\left(K_{1} u_{1}^{2} + K_{2} \\left(t - u_{1}\\right)^{2}\\right)$"
      ],
      "text/plain": [
       "0.5*N*μ*(K1*u1**2 + K2*(t - u1)**2)"
      ]
     },
     "execution_count": 33,
     "metadata": {},
     "output_type": "execute_result"
    }
   ],
   "source": [
    "U"
   ]
  },
  {
   "cell_type": "code",
   "execution_count": 34,
   "metadata": {},
   "outputs": [
    {
     "data": {
      "text/latex": [
       "$\\displaystyle \\frac{K_{2} t}{K_{1} + K_{2}}$"
      ],
      "text/plain": [
       "K2*t/(K1 + K2)"
      ]
     },
     "execution_count": 34,
     "metadata": {},
     "output_type": "execute_result"
    }
   ],
   "source": [
    "sp.simplify(sol_u[0])"
   ]
  },
  {
   "cell_type": "code",
   "execution_count": 35,
   "metadata": {},
   "outputs": [
    {
     "data": {
      "text/latex": [
       "$\\displaystyle \\frac{t}{2}$"
      ],
      "text/plain": [
       "t/2"
      ]
     },
     "execution_count": 35,
     "metadata": {},
     "output_type": "execute_result"
    }
   ],
   "source": [
    "sp.simplify(sol_u[0]).subs({K1: 1/s(α), K2: 1/s(α)})"
   ]
  },
  {
   "cell_type": "code",
   "execution_count": 19,
   "metadata": {},
   "outputs": [
    {
     "data": {
      "text/latex": [
       "$\\displaystyle \\frac{0.5 K_{1} K_{2} N t^{2} μ}{K_{1} + K_{2}}$"
      ],
      "text/plain": [
       "0.5*K1*K2*N*t**2*μ/(K1 + K2)"
      ]
     },
     "execution_count": 19,
     "metadata": {},
     "output_type": "execute_result"
    }
   ],
   "source": [
    "E=U.subs(u1, sol_u[0]).simplify()\n",
    "E"
   ]
  },
  {
   "cell_type": "code",
   "execution_count": 20,
   "metadata": {},
   "outputs": [
    {
     "data": {
      "text/latex": [
       "$\\displaystyle \\frac{0.5 N t^{2} μ}{s_{1} + s_{2}}$"
      ],
      "text/plain": [
       "0.5*N*t**2*μ/(s1 + s2)"
      ]
     },
     "execution_count": 20,
     "metadata": {},
     "output_type": "execute_result"
    }
   ],
   "source": [
    "E.subs({K1: 1/s1, K2: 1/s2}).simplify()"
   ]
  },
  {
   "cell_type": "code",
   "execution_count": 21,
   "metadata": {},
   "outputs": [
    {
     "data": {
      "text/latex": [
       "$\\displaystyle \\frac{0.25 N t^{2} μ \\left(1 - α\\right)}{α \\left(k - 1\\right) + 1}$"
      ],
      "text/plain": [
       "0.25*N*t**2*μ*(1 - α)/(α*(k - 1) + 1)"
      ]
     },
     "execution_count": 21,
     "metadata": {},
     "output_type": "execute_result"
    }
   ],
   "source": [
    "_E = E.subs({K1: 1/s(α), K2: 1/s(α)})\n",
    "_E"
   ]
  },
  {
   "cell_type": "code",
   "execution_count": 22,
   "metadata": {},
   "outputs": [
    {
     "data": {
      "text/latex": [
       "$\\displaystyle \\frac{0.25 N t^{2} μ \\left(1 - α\\right)}{α \\left(k - 1\\right) + 1} + \\frac{2 w_{1} α}{N}$"
      ],
      "text/plain": [
       "0.25*N*t**2*μ*(1 - α)/(α*(k - 1) + 1) + 2*w1*α/N"
      ]
     },
     "execution_count": 22,
     "metadata": {},
     "output_type": "execute_result"
    }
   ],
   "source": [
    "F = (E+S)\n",
    "# .subs({K1: 1/s(α), K2: 1/s(α)}).subs({})\n",
    "F = (E+S).subs({K1: 1/s(α), K2: 1/s(α), α1: α, α2: α})\n",
    "\n",
    "F"
   ]
  },
  {
   "cell_type": "code",
   "execution_count": 23,
   "metadata": {},
   "outputs": [
    {
     "data": {
      "text/latex": [
       "$\\displaystyle - \\frac{0.25 N k t^{2} μ}{\\left(k α - α + 1\\right)^{2}} + \\frac{2 w_{1}}{N}$"
      ],
      "text/plain": [
       "-0.25*N*k*t**2*μ/(k*α - α + 1)**2 + 2*w1/N"
      ]
     },
     "execution_count": 23,
     "metadata": {},
     "output_type": "execute_result"
    }
   ],
   "source": [
    "Fa = F.diff(α).simplify()\n",
    "Fa"
   ]
  },
  {
   "cell_type": "code",
   "execution_count": 24,
   "metadata": {},
   "outputs": [
    {
     "data": {
      "text/latex": [
       "$\\displaystyle - 0.25 N k t^{2} μ + \\frac{2 w_{1}}{N}$"
      ],
      "text/plain": [
       "-0.25*N*k*t**2*μ + 2*w1/N"
      ]
     },
     "execution_count": 24,
     "metadata": {},
     "output_type": "execute_result"
    }
   ],
   "source": [
    "Fa.subs({α: 0})"
   ]
  },
  {
   "cell_type": "code",
   "execution_count": 26,
   "metadata": {},
   "outputs": [
    {
     "data": {
      "text/latex": [
       "$\\displaystyle \\frac{2.82842712474619 \\sqrt{w_{1}}}{N \\sqrt{k} \\sqrt{μ}}$"
      ],
      "text/plain": [
       "2.82842712474619*sqrt(w1)/(N*sqrt(k)*sqrt(μ))"
      ]
     },
     "execution_count": 26,
     "metadata": {},
     "output_type": "execute_result"
    }
   ],
   "source": [
    "sp.solve(Fa, t)[1].subs({α: 0})"
   ]
  },
  {
   "cell_type": "code",
   "execution_count": 27,
   "metadata": {},
   "outputs": [
    {
     "data": {
      "text/plain": [
       "array([0.        , 0.06896552, 0.13793103, 0.20689655, 0.27586207,\n",
       "       0.34482759, 0.4137931 , 0.48275862, 0.55172414, 0.62068966,\n",
       "       0.68965517, 0.75862069, 0.82758621, 0.89655172, 0.96551724,\n",
       "       1.03448276, 1.10344828, 1.17241379, 1.24137931, 1.31034483,\n",
       "       1.37931034, 1.44827586, 1.51724138, 1.5862069 , 1.65517241,\n",
       "       1.72413793, 1.79310345, 1.86206897, 1.93103448, 2.        ])"
      ]
     },
     "execution_count": 27,
     "metadata": {},
     "output_type": "execute_result"
    }
   ],
   "source": [
    "data.load.values"
   ]
  },
  {
   "cell_type": "code",
   "execution_count": 29,
   "metadata": {},
   "outputs": [
    {
     "ename": "NameError",
     "evalue": "name 'matpar' is not defined",
     "output_type": "error",
     "traceback": [
      "\u001b[0;31m---------------------------------------------------------------------------\u001b[0m",
      "\u001b[0;31mNameError\u001b[0m                                 Traceback (most recent call last)",
      "\u001b[1;32m/Users/kumiori/Documents/WIP/m4s-MEC647/mec647/playground/nb/cone-stability.ipynb Cell 22'\u001b[0m in \u001b[0;36m<cell line: 1>\u001b[0;34m()\u001b[0m\n\u001b[0;32m----> <a href='vscode-notebook-cell:/Users/kumiori/Documents/WIP/m4s-MEC647/mec647/playground/nb/cone-stability.ipynb#ch0000074?line=0'>1</a>\u001b[0m F\u001b[39m.\u001b[39msubs(matpar)\n",
      "\u001b[0;31mNameError\u001b[0m: name 'matpar' is not defined"
     ]
    }
   ],
   "source": [
    "F.subs(matpar)"
   ]
  },
  {
   "cell_type": "code",
   "execution_count": null,
   "metadata": {},
   "outputs": [],
   "source": [
    "Ef = sp.lambdify((α, t), F.subs(matpar), 'numpy')\n",
    "Ef\n",
    "# Ef(0, data.load.values)\n"
   ]
  },
  {
   "cell_type": "code",
   "execution_count": null,
   "metadata": {},
   "outputs": [],
   "source": [
    "plt.plot(data.load, Ef(0, data.load.values))\n",
    "plt.plot(data.load, data.elastic_energy)\n",
    "plt.plot(data.load, _mu / 2. * data.load**2*1. / (s(0)+s(0)), ls='dotted', lw=4)\n",
    "# plt.plot(data.load, _mu / 2. * data.load**2*1. / (s(0)+s(0)), ls='dotted', lw=4)"
   ]
  },
  {
   "cell_type": "markdown",
   "metadata": {},
   "source": [
    "### Elasticity and Verification"
   ]
  },
  {
   "cell_type": "code",
   "execution_count": null,
   "metadata": {},
   "outputs": [],
   "source": []
  },
  {
   "cell_type": "code",
   "execution_count": null,
   "metadata": {},
   "outputs": [],
   "source": [
    "# model_parameters = params.get(\"model\")\n",
    "# _σc = np.sqrt(2*_mu*_w1/_k)\n",
    "# _tc = np.sqrt(8*_w1/(_k*_mu)/_N**2)\n",
    "# __tc = _tc.subs({_N: N})\n",
    "# print(f'σ_c = {_σc}')\n",
    "# print(f't_c = {_tc}')\n"
   ]
  },
  {
   "cell_type": "code",
   "execution_count": null,
   "metadata": {},
   "outputs": [],
   "source": [
    "_tc = sp.solve(Ea, t)[1].subs({α: 0})\n",
    "_tc\n",
    "# __tc = _tc.subs(matpar)\n",
    "# sp.N(__tc)"
   ]
  },
  {
   "cell_type": "code",
   "execution_count": null,
   "metadata": {},
   "outputs": [],
   "source": [
    "sp.N(1/N*sp.sqrt(w1/k/μ).subs(matpar))"
   ]
  },
  {
   "cell_type": "code",
   "execution_count": null,
   "metadata": {},
   "outputs": [],
   "source": [
    "print(_mu, _w1, _k)"
   ]
  },
  {
   "cell_type": "code",
   "execution_count": null,
   "metadata": {},
   "outputs": [],
   "source": [
    "params, data, signature = pp.load_data(experiment)\n",
    "\n",
    "plt.plot(data.load, data.fracture_energy, label = 'fractuc')\n",
    "plt.plot(data.load, data.elastic_energy, label = 'elastic')\n",
    "_total = data.fracture_energy + data.elastic_energy\n",
    "plt.plot(data.load, _total, label = 'total')\n",
    "plt.axvline(__tc, c='k')\n",
    "# plt.axvline(_tc/2, c='k', ls='dotted')\n",
    "plt.legend()\n",
    "plt.xlabel('load')\n",
    "plt.ylabel('Energy')\n",
    "\n",
    "plt.plot(data.load, Ef(0, data.load.values), ls = 'dotted')\n",
    "# plt.plot(data.load, 2*Ef(0, data.load.values), ls = 'dotted')\n",
    "\n"
   ]
  },
  {
   "cell_type": "code",
   "execution_count": null,
   "metadata": {},
   "outputs": [],
   "source": [
    "plt.plot(data.load, data.F, label = 'stress')\n",
    "# plt.plot(data.load, data.elastic_energy, label = 'elastic')\n",
    "# _total = data.fracture_energy + data.elastic_energy\n",
    "# plt.plot(data.load, _total, label = 'total')\n",
    "plt.legend()\n",
    "plt.xlabel('load')\n",
    "plt.ylabel('stress')\n",
    "# plt.axhline(_σc/2, c='k')"
   ]
  },
  {
   "cell_type": "code",
   "execution_count": null,
   "metadata": {},
   "outputs": [],
   "source": []
  },
  {
   "cell_type": "code",
   "execution_count": null,
   "metadata": {},
   "outputs": [],
   "source": [
    "for k in range(model_parameters[\"N\"]):\n",
    "    plt.plot(data.load, [a[k] for a in data.alpha_t], label=f'$\\\\alpha_{k}$')\n",
    "\n",
    "plt.title(\"$\\\\alpha$\")\n",
    "plt.legend()\n",
    "plt.axhline(1, c='k')"
   ]
  },
  {
   "cell_type": "code",
   "execution_count": null,
   "metadata": {},
   "outputs": [],
   "source": [
    "for k in range(model_parameters[\"N\"]+1):\n",
    "    plt.plot(data.load, [u[k] for u in data.u_t], label=f'$u_{k}$')\n",
    "plt.plot(data.load, 1/_mu*data.load/2, label=f'$u^*$', ls='dotted', lw=4)\n",
    "\n",
    "plt.legend()\n",
    "plt.title(\"$u$\")\n",
    "plt.axhline(data.load.values[-1], c='k')"
   ]
  },
  {
   "cell_type": "code",
   "execution_count": null,
   "metadata": {},
   "outputs": [],
   "source": [
    "params;"
   ]
  },
  {
   "cell_type": "code",
   "execution_count": null,
   "metadata": {},
   "outputs": [],
   "source": [
    "for i in range(len(data.cone_data)):\n",
    "    plt.plot(data.cone_data[i]['error_x_L2'], label=f'step {i}')\n",
    "plt.semilogy()\n",
    "# plt.legend()\n",
    "plt.xlabel('iterations')\n",
    "plt.ylabel('$||\\Delta x_k||_{L^2}$')\n"
   ]
  },
  {
   "cell_type": "code",
   "execution_count": null,
   "metadata": {},
   "outputs": [],
   "source": [
    "data.cone_data[3].keys()"
   ]
  },
  {
   "cell_type": "code",
   "execution_count": null,
   "metadata": {},
   "outputs": [],
   "source": [
    "for i in range(len(data.cone_data)):\n",
    "    plt.plot(data.cone_data[i]['y_norm_L2'], label=f'step {i}')\n",
    "# plt.semilogy()\n",
    "# plt.legend()\n",
    "plt.axhline(0, c='k')\n",
    "plt.xlabel('iterations')\n",
    "plt.ylabel('$||y_k||_{L^2}$')\n"
   ]
  },
  {
   "cell_type": "code",
   "execution_count": null,
   "metadata": {},
   "outputs": [],
   "source": [
    "for i in range(len(data.cone_data)):\n",
    "    plt.plot(data.cone_data[i]['lambda_k'], label=f'step {i}')\n",
    "plt.axhline(0, c='k')\n",
    "plt.title('Convergence of eigenvalues')\n",
    "plt.xlabel('iterations')\n"
   ]
  },
  {
   "cell_type": "code",
   "execution_count": null,
   "metadata": {},
   "outputs": [],
   "source": [
    "data.cone_data"
   ]
  },
  {
   "cell_type": "code",
   "execution_count": null,
   "metadata": {},
   "outputs": [],
   "source": [
    "data.cone_data[3]['iterations']"
   ]
  },
  {
   "cell_type": "code",
   "execution_count": null,
   "metadata": {},
   "outputs": [],
   "source": [
    "[converged['iterations'] for converged in data.cone_data]\n",
    "# [converged['lambda_k'] for converged in data.cone_data]"
   ]
  },
  {
   "cell_type": "code",
   "execution_count": null,
   "metadata": {},
   "outputs": [],
   "source": [
    "asd = np.array([converged['lambda_k'][-1] for converged in data.cone_data if isinstance(converged['iterations'], int)])\n",
    "asd\n",
    "# plt.plot(asd)"
   ]
  },
  {
   "cell_type": "code",
   "execution_count": null,
   "metadata": {},
   "outputs": [],
   "source": [
    "[converged['lambda_k'][-1] for converged in data.cone_data if len(converged['lambda_k'])>0]"
   ]
  },
  {
   "cell_type": "markdown",
   "metadata": {},
   "source": [
    "## Stability of a short bar"
   ]
  },
  {
   "cell_type": "code",
   "execution_count": null,
   "metadata": {},
   "outputs": [],
   "source": [
    "!ls ../../playground/"
   ]
  },
  {
   "cell_type": "code",
   "execution_count": null,
   "metadata": {},
   "outputs": [],
   "source": [
    "experiment = '../../practice/output/traction_cone'\n",
    "params, data, signature = pp.load_data(experiment)\n"
   ]
  },
  {
   "cell_type": "code",
   "execution_count": null,
   "metadata": {},
   "outputs": [],
   "source": [
    "data.cone_data[6]"
   ]
  },
  {
   "cell_type": "code",
   "execution_count": null,
   "metadata": {},
   "outputs": [],
   "source": [
    "[data.cone_data[i]['iterations'] for i in range(len(data.cone_data))]"
   ]
  },
  {
   "cell_type": "markdown",
   "metadata": {},
   "source": [
    "$$\n",
    "s:= t + \\int_0^t ||\\dot \\alpha||_{1, 2} dx\n",
    "$$"
   ]
  },
  {
   "cell_type": "code",
   "execution_count": null,
   "metadata": {},
   "outputs": [],
   "source": [
    "data.get(\"rate_12_norm\")"
   ]
  },
  {
   "cell_type": "code",
   "execution_count": null,
   "metadata": {},
   "outputs": [],
   "source": [
    "import numpy as np\n",
    "import matplotlib.pyplot as plt"
   ]
  },
  {
   "cell_type": "code",
   "execution_count": null,
   "metadata": {},
   "outputs": [],
   "source": [
    "params.get(\"geometry\").get(\"Ly\")"
   ]
  },
  {
   "cell_type": "code",
   "execution_count": null,
   "metadata": {},
   "outputs": [],
   "source": [
    "sell = []\n",
    "_dt = (params.get(\"loading\").get(\"max\") - params.get(\"loading\").get(\"min\")) /params.get(\"loading\").get(\"steps\")\n",
    "for i, t in enumerate(data.get(\"load\")):\n",
    "    sell.append(np.trapz(data.get(\"rate_12_norm\")[0:i], data.get(\"load\")[0:i])/_dt)\n",
    "\n",
    "s0 = []\n",
    "_dt = (params.get(\"loading\").get(\"max\") - params.get(\"loading\").get(\"min\")) /params.get(\"loading\").get(\"steps\")\n",
    "for i, t in enumerate(data.get(\"load\")):\n",
    "    s0.append(np.trapz(data.get(\"rate_12_norm_unscaled\")[0:i], data.get(\"load\")[0:i])/_dt)\n",
    "    \n",
    "# s = data.get(\"load\") + s0"
   ]
  },
  {
   "cell_type": "code",
   "execution_count": null,
   "metadata": {},
   "outputs": [],
   "source": [
    "plt.title(\"Evolution Jumps?\")\n",
    "# plt.plot(data.get(\"load\"), s, marker = 'o', label='s')\n",
    "plt.plot(data.get(\"load\"), sell, marker = 'o', label='$s_\\ell$')\n",
    "plt.plot(data.get(\"load\"), s0, marker = 'o', label='$s_0$')\n",
    "plt.plot(data.get(\"load\"), data.get(\"load\"), marker = 'o', label='t')\n",
    "plt.ylabel('$t, s_0, s$')\n",
    "plt.xlabel('t')\n",
    "plt.legend()\n",
    "plt.twinx()\n",
    "plt.plot(data.get(\"load\"), data.get(\"fracture_energy\")/params.get(\"geometry\").get(\"Ly\"),\n",
    "    marker = 's', c='k', label='fracture')\n",
    "plt.ylabel('energy')\n",
    "plt.legend(loc=4)\n",
    "plt.savefig('jumps_evo_multifiss.png')"
   ]
  },
  {
   "cell_type": "code",
   "execution_count": null,
   "metadata": {},
   "outputs": [],
   "source": [
    "plt.plot(data.get(\"load\"), sell, marker = 'o', label='$s_\\ell$')\n",
    "plt.twinx()\n",
    "plt.plot(np.diff(np.array(sell)), label=\"\")\n",
    "plt.xlabel('t')\n"
   ]
  },
  {
   "cell_type": "code",
   "execution_count": null,
   "metadata": {},
   "outputs": [],
   "source": []
  }
 ],
 "metadata": {
  "interpreter": {
   "hash": "b0fa6594d8f4cbf19f97940f81e996739fb7646882a419484c72d19e05852a7e"
  },
  "kernelspec": {
   "display_name": "Python 3.9.13 64-bit",
   "language": "python",
   "name": "python3"
  },
  "language_info": {
   "codemirror_mode": {
    "name": "ipython",
    "version": 3
   },
   "file_extension": ".py",
   "mimetype": "text/x-python",
   "name": "python",
   "nbconvert_exporter": "python",
   "pygments_lexer": "ipython3",
   "version": "3.9.13"
  },
  "orig_nbformat": 4
 },
 "nbformat": 4,
 "nbformat_minor": 2
}
