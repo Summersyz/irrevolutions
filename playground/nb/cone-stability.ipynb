{
 "cells": [
  {
   "cell_type": "code",
   "execution_count": 1,
   "metadata": {},
   "outputs": [
    {
     "name": "stdout",
     "output_type": "stream",
     "text": [
      "postproc\n"
     ]
    }
   ],
   "source": [
    "# Testing Pacman\n",
    "import postprocess as pp\n",
    "import plots as plots\n"
   ]
  },
  {
   "cell_type": "code",
   "execution_count": 2,
   "metadata": {},
   "outputs": [],
   "source": [
    "import sympy as sp\n",
    "import numpy as np\n",
    "import matplotlib.pyplot as plt\n",
    "from pathlib import Path "
   ]
  },
  {
   "cell_type": "markdown",
   "metadata": {},
   "source": [
    "## Stability of a discrete system"
   ]
  },
  {
   "cell_type": "code",
   "execution_count": 3,
   "metadata": {},
   "outputs": [],
   "source": [
    "# Run the simulation:\n",
    "\n",
    "# !../practice/discrete-atk.py -N 2\n",
    "# !../practice/discrete-atk.py -N 3"
   ]
  },
  {
   "cell_type": "markdown",
   "metadata": {},
   "source": [
    "## Postprocessing"
   ]
  },
  {
   "cell_type": "code",
   "execution_count": 4,
   "metadata": {},
   "outputs": [],
   "source": [
    "# Postprocessing capabilities\n",
    "\n",
    "def plot_energy_spectrum(_data, inset_xbounds=[.5, 1.1]):\n",
    "    \"\"\"docstring for plot_energy_spectrum\"\"\"\n",
    "\n",
    "    figure, axis = plt.subplots(1, 1, figsize=(8, 6))\n",
    "    \n",
    "    _asd = np.array([step[\"lambda_0\"] for step in _data[\"cone_data\"]])\n",
    "    _lambda_0 = [np.nan if type(a) is list else a for a in _asd ]\n",
    "\n",
    "    axis.plot(_data.load, _data.fracture_energy, lw=7, label = 'damage', marker='o')\n",
    "    axis.plot(_data.load, _data.elastic_energy, lw=7, label = 'elastic')\n",
    "    _total = _data.fracture_energy + _data.elastic_energy\n",
    "    axis.plot(_data.load, _total, lw=5, label = 'total', zorder=.1)\n",
    "    # plt.axvline(__tc, c='k')\n",
    "    # plt.axvline(_tc, c='k', lw=1)\n",
    "    axis.legend()\n",
    "    axis.set_xlabel('load', fontsize=24, color='k')\n",
    "    axis.set_ylabel('Energy', fontsize=24, color='k')\n",
    "    plt.tight_layout()\n",
    "\n",
    "    _ax = plt.gca()\n",
    "\n",
    "    zax = inset_axes(_ax,  width='40%', height='40%', loc=3,\n",
    "        bbox_to_anchor=(.1,1-.6,1,1), bbox_transform=_ax.transAxes)\n",
    "    # plot again (PLOT AGAIN) the same stuff as before in the new axes\n",
    "    zax.plot(_data.load, _lambda_0, marker=\"o\", alpha = .7, ls='', ms=10)\n",
    "    zax.axhline(0, c='grey')\n",
    "    zax.set_title('K-spectrum')\n",
    "\n",
    "    zax.set_xlim((inset_xbounds[0], inset_xbounds[1])) ; \n",
    "    _ts_i = np.where(np.array(_lambda_0) < 0)[0][0]\n",
    "    _ts = _data.load[_ts_i]\n",
    "    _tr = np.where(np.abs(np.diff(_data.elastic_energy))>.02)\n",
    "\n",
    "    rectpatch, connects= _ax.indicate_inset_zoom(zax, lw=2, ec='none', alpha=.7, capstyle='butt', edgecolor='grey')\n",
    "    zax.set_facecolor((1.0, 1., 1.))\n",
    "\n",
    "    connects[0].set_visible(True)\n",
    "    connects[1].set_visible(False)\n",
    "    connects[2].set_visible(True)\n",
    "    connects[3].set_visible(True)\n",
    "\n",
    "    _ax.set_xticks([0., _data.load[_tr[0]].values[0], 1, _ts], [\"$$0=t_c$$\", \"$$t_?$$\", \"1\", \"$$t_s$$\"])\n",
    "    zax.set_xticks([1, _ts], [\"$$1$$\", \"$$t_s$$\"])\n",
    "    zax.set_yticks([0], [\"$$0$$\"])\n",
    "    _ax.set_yticks([0], [\"$$0$$\"])\n",
    "    _ax.set_title(\"Evolution of a brittle bar with an elastic phase\")\n",
    "\n",
    "    _ax.spines['top'].set_visible(False)\n",
    "    _ax.spines['right'].set_visible(False)\n",
    "\n",
    "    return figure, (_ax, zax)\n",
    "\n",
    "\n",
    "def _plot_min_sigmaKappa(data, axis=None, params=None):\n",
    "    \"\"\"docstring for _plot_min_sigmaKappa\"\"\"\n",
    "     \n",
    "    if axis is None:\n",
    "        figure, axis = plt.subplots(1, 1, figsize=(12, 9))\n",
    "    \n",
    "    _asd = np.array([step[\"lambda_0\"] for step in data[\"cone_data\"]])\n",
    "    _lambda_0 = [np.nan if type(a) is list else a for a in _asd ]\n",
    "    _stab_cnd = [0 if data[\"cone-stable\"][i]==True else 1 for i in range(len(data))]\n",
    "\n",
    "\n",
    "    if params is None:\n",
    "        _params = matpar\n",
    "    else:\n",
    "        _params = params\n",
    "        _tc = _critical_load(params)\n",
    "    # print(_tc)\n",
    "    \n",
    "    _ax = axis\n",
    "    # [0 if x==3 for x in _asd]\n",
    "    _ax.plot(data.load, _lambda_0, marker='o', ls='', label=f\"N={params['N']}\")\n",
    "    _ax.axhline(0, c='k')\n",
    "    # _ax.ylim([0, 1.])\n",
    "    _ax.set_xlim([0, _k])\n",
    "\n",
    "    _ax.axvline(_tc, c='k', lw=1)\n",
    "    # _ax.axvline(_tc.subs(_params), c='k', lw=1)\n",
    "    _ax.axvline(_k, c='k', lw=1)\n",
    "\n",
    "    _ax.set_xticks([_tc, _k], ['$t_c$', '$k$'])\n",
    "    # _ax.set_xticks([_tc.subs(_params), _k], ['$t_c$', '$k$'])\n",
    "    # _ax.fill_between(data.load, 0, 1, where=[not s for s in _stab_cnd], color='green', alpha=0.2)\n",
    "    _ax.fill_between(data.load, 0, 1, where=_stab_cnd,color='red', alpha=0.2)\n",
    "    _ax.set_title('Inf of the K-spectrum and stability')\n",
    "\n",
    "    _ax.legend(loc=2)\n",
    "\n",
    "    return _ax\n",
    "\n",
    "\n",
    "def _postprocess_stability(data):\n",
    "    \"\"\"docstring for _postprocess_stability\"\"\"\n",
    "    figure, axis = plt.subplots(2, 2, figsize=(12, 9))\n",
    "\n",
    "\n",
    "    # axis[0, 0].plot(X, Y1)\n",
    "    _ax = axis[0, 0]\n",
    "    _ax.plot(data.load, data.fracture_energy, label = 'damage')\n",
    "    _ax.plot(data.load, data.elastic_energy, label = 'elastic')\n",
    "    _total = data.fracture_energy + data.elastic_energy\n",
    "    _ax.plot(data.load, _total, label = 'total')\n",
    "    _ax.legend()\n",
    "    _ax.set_xlabel('load')\n",
    "    _ax.set_ylabel('Energy')\n",
    "\n",
    "    _ax = axis[0, 1]\n",
    "\n",
    "    _ax.plot(data.load, data.F, label = 'stress')\n",
    "    _ax.legend()\n",
    "    _ax.set_xlabel('load')\n",
    "    _ax.set_ylabel('stress')\n",
    "\n",
    "    _ax = axis[1, 0]\n",
    "\n",
    "    for k in range(model_parameters[\"N\"]+1):\n",
    "        _ax.plot(data.load, [u[k] for u in data.u_t], label=f'$u_{k}$', c='C1')\n",
    "    # _ax.plot(data.load, 1/_mu*data.load/2, label=f'$u^*$', ls='dotted', lw=4)\n",
    "\n",
    "    _ax.legend()\n",
    "    _ax.set_title(\"$u$\")\n",
    "\n",
    "    _ax2 = _ax.twinx()\n",
    "\n",
    "    for k in range(model_parameters[\"N\"]):\n",
    "        _ax2.plot(data.load, [a[k] for a in data.alpha_t], label=f'$\\\\alpha_{k}$', lw=3, c='C2')\n",
    "\n",
    "    _ax2.set_title(\"$\\\\alpha$\")\n",
    "    _ax2.legend(loc=4)\n",
    "    _ax2.axhline(1, c='k')\n",
    "\n",
    "    _ax = axis[1, 1]\n",
    "    # params.get(\"loading\")\n",
    "    # \n",
    "    s0 = []\n",
    "    \n",
    "    # _dt = (params.get(\"loading\").get(\"max\") - params.get(\"loading\").get(\"min\")) /params.get(\"loading\").get(\"steps\")\n",
    "    _dt = data.load[1]-data.load[0]\n",
    "\n",
    "    for i, t in enumerate(data.get(\"load\")):\n",
    "        s0.append(np.trapz(data.get(\"rate_12_norm\")[0:i], data.get(\"load\")[0:i])/_dt)\n",
    "        \n",
    "    s = data.get(\"load\") + s0\n",
    "\n",
    "    _ax.plot(data.get(\"load\"), s, marker = 'o', label='s')\n",
    "    _ax.plot(data.get(\"load\"), s0, marker = 'o', label='s0')\n",
    "    _ax.set_title(\"Rate norms\")\n",
    "    _ax2 = _ax.twinx()\n",
    "    _ax2.plot(data.get(\"load\"), data.get(\"fracture_energy\"), marker = 's', c='k', label='fra')\n",
    "    _ax2.set_ylabel(\"Energies\")\n",
    "    _ax.legend()\n",
    "    \n",
    "    for _ax in axis.reshape(-1):\n",
    "        _ax.axvline(_tc.subs(matpar), c='k', lw=1)\n",
    "\n",
    "    plt.show()\n",
    "\n",
    "def _postprocess_stability2(data):\n",
    "\n",
    "    \"\"\"docstring for _postprocess_stability\"\"\"\n",
    "    figure, axis = plt.subplots(2, 2, figsize=(12, 9))\n",
    "    \n",
    "    _asd = np.array([step[\"lambda_0\"] for step in data[\"cone_data\"]])\n",
    "    _lambda_0 = [np.nan if type(a) is list else a for a in _asd ]\n",
    "    _stab_cnd = [0 if data[\"cone-stable\"][i]==True else 1 for i in range(len(data))]\n",
    "\n",
    "    _ax = axis[0, 0]\n",
    "    \n",
    "    for i in range(len(data.cone_data)):\n",
    "        _ax.plot(data.cone_data[i]['error_x_L2'], label=f'step {i}')\n",
    "    _ax.semilogy()\n",
    "    # _ax.legend()\n",
    "    _ax.set_xlabel('iterations')\n",
    "    _ax.set_ylabel('$||\\Delta x_k||_{L^2}$')\n",
    "\n",
    "    _ax = axis[0, 1]\n",
    "\n",
    "    _ax.scatter(data.load, _lambda_0, c=_stab_cnd, cmap='RdYlGn_r', alpha=.8)\n",
    "    _ax.set_xlim([0, _k])\n",
    "    _ax.set_ylim([-1, 1])\n",
    "    _ax.axhline(0, c='k')\n",
    "\n",
    "    _ax.set_title('Stability, minimum K-eigen')\n",
    "    _ax.legend()\n",
    "    _ax.set_xlabel('load')\n",
    "    _ax.set_ylabel('$min \\\\sigma_K$')\n",
    "\n",
    "    _ax = axis[1, 0]\n",
    "    # [0 if x==3 for x in _asd]\n",
    "    _ax.plot(data.load, _lambda_0, marker='o', ls='')\n",
    "    _ax.axhline(0, c='k')\n",
    "    # _ax.ylim([0, 1.])\n",
    "    _ax.set_xlim([0, _k])\n",
    "\n",
    "    _ax.axvline(_tc.subs(matpar), c='k', lw=1)\n",
    "    _ax.axvline(_k, c='k', lw=1)\n",
    "\n",
    "    _ax.set_xticks([_tc.subs(matpar), _k], ['$t_c$', '$k$'])\n",
    "    _ax.fill_between(data.load, 0, 1, where=[not s for s in _stab_cnd], color='green', alpha=0.5)\n",
    "    _ax.fill_between(data.load, 0, 1, where=_stab_cnd,color='red', alpha=0.5)\n",
    "    _ax.set_title('Minimum eigenvalue and stability')\n",
    "\n",
    "    _ax.legend()\n",
    "\n",
    "    _ax = axis[1, 1]\n",
    "    _ax.plot(data.load, data.F, label = 'stress')\n",
    "    _ax.fill_between(data.load, 0, .1, where=_stab_cnd,color='red', alpha=0.5)\n",
    "    _ax.fill_between(data.load, 0, .1, where=[not s for s in _stab_cnd], color='green', alpha=0.5)\n",
    "    _ax.legend()\n",
    "\n",
    "    _ax.axvline(_tc.subs(matpar), c='k', lw=1)\n",
    "    _ax.axvline(_k, c='k', lw=1)\n",
    "    _ax.axvline(_k/2, c='k', lw=1)\n",
    "\n",
    "    _ax.set_xticks([_tc.subs(matpar), _k/2, _k], ['$t_c$', '$k/2$', '$k$'])\n",
    "    _ax.set_title(f'N={_N}, k={_k}')\n",
    "\n",
    "\n",
    "    for _ax in axis.reshape(-1):\n",
    "        _ax.axvline(_tc.subs(matpar), c='k', lw=1)\n",
    "\n",
    "    plt.show()\n",
    "\n",
    "_stab_cnd = lambda data: [0 if data[\"cone-stable\"][i]==True else 1 for i in range(len(data))]\n",
    "\n",
    "def plotSpaceVsCone(data):\n",
    "    _stab_cnd = lambda data: [0 if data[\"cone-stable\"][i]==True else 1 for i in range(len(data))]\n",
    "\n",
    "    \"\"\"docstring for plotSpaceVsCone\"\"\"\n",
    "    figure, axis = plt.subplots(1, 1)\n",
    "    __lambda_0 = [e[0] for e in data['eigs']]\n",
    "\n",
    "    axis.scatter(data.load, _lambda_0, c=_stab_cnd(data), cmap='RdYlGn_r', alpha=.8, marker=\"*\", s=200, label='cone')\n",
    "    axis.scatter(data.load, __lambda_0, c=_stab_cnd(data), cmap='RdYlGn_r', alpha=.8, label='space')\n",
    "    axis.axhline(0., c='k')\n",
    "    axis.set_title('Min eig in cone vs. space')\n",
    "    axis.legend()\n"
   ]
  },
  {
   "cell_type": "markdown",
   "metadata": {},
   "source": [
    "## N=2"
   ]
  },
  {
   "cell_type": "code",
   "execution_count": 5,
   "metadata": {},
   "outputs": [],
   "source": [
    "# experiment = '../../practice/output/discrete-atk-N2'\n",
    "experiment = '../../test/output/discrete-atk-N2'\n",
    "params, data, signature = pp.load_data(experiment)\n",
    "model_parameters = params.get(\"model\")\n",
    "\n",
    "_mu, _w1, _k, _N = model_parameters.get(\"mu\"), model_parameters.get(\n",
    "    \"w1\"), model_parameters.get(\"k\"), model_parameters[\"N\"]\n"
   ]
  },
  {
   "cell_type": "code",
   "execution_count": 6,
   "metadata": {},
   "outputs": [
    {
     "ename": "NameError",
     "evalue": "name '_tc' is not defined",
     "output_type": "error",
     "traceback": [
      "\u001b[0;31m---------------------------------------------------------------------------\u001b[0m",
      "\u001b[0;31mNameError\u001b[0m                                 Traceback (most recent call last)",
      "\u001b[1;32m/Users/kumiori/Documents/WIP/m4s-MEC647/mec647/playground/nb/cone-stability.ipynb Cell 9'\u001b[0m in \u001b[0;36m<cell line: 1>\u001b[0;34m()\u001b[0m\n\u001b[0;32m----> <a href='vscode-notebook-cell:/Users/kumiori/Documents/WIP/m4s-MEC647/mec647/playground/nb/cone-stability.ipynb#ch0000008?line=0'>1</a>\u001b[0m _postprocess_stability(data)\n\u001b[1;32m      <a href='vscode-notebook-cell:/Users/kumiori/Documents/WIP/m4s-MEC647/mec647/playground/nb/cone-stability.ipynb#ch0000008?line=1'>2</a>\u001b[0m _postprocess_stability2(data)\n",
      "\u001b[1;32m/Users/kumiori/Documents/WIP/m4s-MEC647/mec647/playground/nb/cone-stability.ipynb Cell 6'\u001b[0m in \u001b[0;36m_postprocess_stability\u001b[0;34m(data)\u001b[0m\n\u001b[1;32m    <a href='vscode-notebook-cell:/Users/kumiori/Documents/WIP/m4s-MEC647/mec647/playground/nb/cone-stability.ipynb#ch0000005?line=154'>155</a>\u001b[0m _ax\u001b[39m.\u001b[39mlegend()\n\u001b[1;32m    <a href='vscode-notebook-cell:/Users/kumiori/Documents/WIP/m4s-MEC647/mec647/playground/nb/cone-stability.ipynb#ch0000005?line=156'>157</a>\u001b[0m \u001b[39mfor\u001b[39;00m _ax \u001b[39min\u001b[39;00m axis\u001b[39m.\u001b[39mreshape(\u001b[39m-\u001b[39m\u001b[39m1\u001b[39m):\n\u001b[0;32m--> <a href='vscode-notebook-cell:/Users/kumiori/Documents/WIP/m4s-MEC647/mec647/playground/nb/cone-stability.ipynb#ch0000005?line=157'>158</a>\u001b[0m     _ax\u001b[39m.\u001b[39maxvline(_tc\u001b[39m.\u001b[39msubs(matpar), c\u001b[39m=\u001b[39m\u001b[39m'\u001b[39m\u001b[39mk\u001b[39m\u001b[39m'\u001b[39m, lw\u001b[39m=\u001b[39m\u001b[39m1\u001b[39m)\n\u001b[1;32m    <a href='vscode-notebook-cell:/Users/kumiori/Documents/WIP/m4s-MEC647/mec647/playground/nb/cone-stability.ipynb#ch0000005?line=159'>160</a>\u001b[0m plt\u001b[39m.\u001b[39mshow()\n",
      "\u001b[0;31mNameError\u001b[0m: name '_tc' is not defined"
     ]
    },
    {
     "ename": "FileNotFoundError",
     "evalue": "missing font metrics file: cmr17",
     "output_type": "error",
     "traceback": [
      "\u001b[0;31m---------------------------------------------------------------------------\u001b[0m",
      "\u001b[0;31mFileNotFoundError\u001b[0m                         Traceback (most recent call last)",
      "File \u001b[0;32m/opt/homebrew/lib/python3.9/site-packages/IPython/core/formatters.py:339\u001b[0m, in \u001b[0;36mBaseFormatter.__call__\u001b[0;34m(self, obj)\u001b[0m\n\u001b[1;32m    <a href='file:///opt/homebrew/lib/python3.9/site-packages/IPython/core/formatters.py?line=336'>337</a>\u001b[0m     \u001b[39mpass\u001b[39;00m\n\u001b[1;32m    <a href='file:///opt/homebrew/lib/python3.9/site-packages/IPython/core/formatters.py?line=337'>338</a>\u001b[0m \u001b[39melse\u001b[39;00m:\n\u001b[0;32m--> <a href='file:///opt/homebrew/lib/python3.9/site-packages/IPython/core/formatters.py?line=338'>339</a>\u001b[0m     \u001b[39mreturn\u001b[39;00m printer(obj)\n\u001b[1;32m    <a href='file:///opt/homebrew/lib/python3.9/site-packages/IPython/core/formatters.py?line=339'>340</a>\u001b[0m \u001b[39m# Finally look for special method names\u001b[39;00m\n\u001b[1;32m    <a href='file:///opt/homebrew/lib/python3.9/site-packages/IPython/core/formatters.py?line=340'>341</a>\u001b[0m method \u001b[39m=\u001b[39m get_real_method(obj, \u001b[39mself\u001b[39m\u001b[39m.\u001b[39mprint_method)\n",
      "File \u001b[0;32m/opt/homebrew/lib/python3.9/site-packages/IPython/core/pylabtools.py:151\u001b[0m, in \u001b[0;36mprint_figure\u001b[0;34m(fig, fmt, bbox_inches, base64, **kwargs)\u001b[0m\n\u001b[1;32m    <a href='file:///opt/homebrew/lib/python3.9/site-packages/IPython/core/pylabtools.py?line=147'>148</a>\u001b[0m     \u001b[39mfrom\u001b[39;00m \u001b[39mmatplotlib\u001b[39;00m\u001b[39m.\u001b[39;00m\u001b[39mbackend_bases\u001b[39;00m \u001b[39mimport\u001b[39;00m FigureCanvasBase\n\u001b[1;32m    <a href='file:///opt/homebrew/lib/python3.9/site-packages/IPython/core/pylabtools.py?line=148'>149</a>\u001b[0m     FigureCanvasBase(fig)\n\u001b[0;32m--> <a href='file:///opt/homebrew/lib/python3.9/site-packages/IPython/core/pylabtools.py?line=150'>151</a>\u001b[0m fig\u001b[39m.\u001b[39;49mcanvas\u001b[39m.\u001b[39;49mprint_figure(bytes_io, \u001b[39m*\u001b[39;49m\u001b[39m*\u001b[39;49mkw)\n\u001b[1;32m    <a href='file:///opt/homebrew/lib/python3.9/site-packages/IPython/core/pylabtools.py?line=151'>152</a>\u001b[0m data \u001b[39m=\u001b[39m bytes_io\u001b[39m.\u001b[39mgetvalue()\n\u001b[1;32m    <a href='file:///opt/homebrew/lib/python3.9/site-packages/IPython/core/pylabtools.py?line=152'>153</a>\u001b[0m \u001b[39mif\u001b[39;00m fmt \u001b[39m==\u001b[39m \u001b[39m'\u001b[39m\u001b[39msvg\u001b[39m\u001b[39m'\u001b[39m:\n",
      "File \u001b[0;32m/opt/homebrew/lib/python3.9/site-packages/matplotlib/backend_bases.py:2295\u001b[0m, in \u001b[0;36mFigureCanvasBase.print_figure\u001b[0;34m(self, filename, dpi, facecolor, edgecolor, orientation, format, bbox_inches, pad_inches, bbox_extra_artists, backend, **kwargs)\u001b[0m\n\u001b[1;32m   <a href='file:///opt/homebrew/lib/python3.9/site-packages/matplotlib/backend_bases.py?line=2288'>2289</a>\u001b[0m     renderer \u001b[39m=\u001b[39m _get_renderer(\n\u001b[1;32m   <a href='file:///opt/homebrew/lib/python3.9/site-packages/matplotlib/backend_bases.py?line=2289'>2290</a>\u001b[0m         \u001b[39mself\u001b[39m\u001b[39m.\u001b[39mfigure,\n\u001b[1;32m   <a href='file:///opt/homebrew/lib/python3.9/site-packages/matplotlib/backend_bases.py?line=2290'>2291</a>\u001b[0m         functools\u001b[39m.\u001b[39mpartial(\n\u001b[1;32m   <a href='file:///opt/homebrew/lib/python3.9/site-packages/matplotlib/backend_bases.py?line=2291'>2292</a>\u001b[0m             print_method, orientation\u001b[39m=\u001b[39morientation)\n\u001b[1;32m   <a href='file:///opt/homebrew/lib/python3.9/site-packages/matplotlib/backend_bases.py?line=2292'>2293</a>\u001b[0m     )\n\u001b[1;32m   <a href='file:///opt/homebrew/lib/python3.9/site-packages/matplotlib/backend_bases.py?line=2293'>2294</a>\u001b[0m     \u001b[39mwith\u001b[39;00m \u001b[39mgetattr\u001b[39m(renderer, \u001b[39m\"\u001b[39m\u001b[39m_draw_disabled\u001b[39m\u001b[39m\"\u001b[39m, nullcontext)():\n\u001b[0;32m-> <a href='file:///opt/homebrew/lib/python3.9/site-packages/matplotlib/backend_bases.py?line=2294'>2295</a>\u001b[0m         \u001b[39mself\u001b[39;49m\u001b[39m.\u001b[39;49mfigure\u001b[39m.\u001b[39;49mdraw(renderer)\n\u001b[1;32m   <a href='file:///opt/homebrew/lib/python3.9/site-packages/matplotlib/backend_bases.py?line=2296'>2297</a>\u001b[0m \u001b[39mif\u001b[39;00m bbox_inches:\n\u001b[1;32m   <a href='file:///opt/homebrew/lib/python3.9/site-packages/matplotlib/backend_bases.py?line=2297'>2298</a>\u001b[0m     \u001b[39mif\u001b[39;00m bbox_inches \u001b[39m==\u001b[39m \u001b[39m\"\u001b[39m\u001b[39mtight\u001b[39m\u001b[39m\"\u001b[39m:\n",
      "File \u001b[0;32m/opt/homebrew/lib/python3.9/site-packages/matplotlib/artist.py:73\u001b[0m, in \u001b[0;36m_finalize_rasterization.<locals>.draw_wrapper\u001b[0;34m(artist, renderer, *args, **kwargs)\u001b[0m\n\u001b[1;32m     <a href='file:///opt/homebrew/lib/python3.9/site-packages/matplotlib/artist.py?line=70'>71</a>\u001b[0m \u001b[39m@wraps\u001b[39m(draw)\n\u001b[1;32m     <a href='file:///opt/homebrew/lib/python3.9/site-packages/matplotlib/artist.py?line=71'>72</a>\u001b[0m \u001b[39mdef\u001b[39;00m \u001b[39mdraw_wrapper\u001b[39m(artist, renderer, \u001b[39m*\u001b[39margs, \u001b[39m*\u001b[39m\u001b[39m*\u001b[39mkwargs):\n\u001b[0;32m---> <a href='file:///opt/homebrew/lib/python3.9/site-packages/matplotlib/artist.py?line=72'>73</a>\u001b[0m     result \u001b[39m=\u001b[39m draw(artist, renderer, \u001b[39m*\u001b[39;49margs, \u001b[39m*\u001b[39;49m\u001b[39m*\u001b[39;49mkwargs)\n\u001b[1;32m     <a href='file:///opt/homebrew/lib/python3.9/site-packages/matplotlib/artist.py?line=73'>74</a>\u001b[0m     \u001b[39mif\u001b[39;00m renderer\u001b[39m.\u001b[39m_rasterizing:\n\u001b[1;32m     <a href='file:///opt/homebrew/lib/python3.9/site-packages/matplotlib/artist.py?line=74'>75</a>\u001b[0m         renderer\u001b[39m.\u001b[39mstop_rasterizing()\n",
      "File \u001b[0;32m/opt/homebrew/lib/python3.9/site-packages/matplotlib/artist.py:50\u001b[0m, in \u001b[0;36mallow_rasterization.<locals>.draw_wrapper\u001b[0;34m(artist, renderer)\u001b[0m\n\u001b[1;32m     <a href='file:///opt/homebrew/lib/python3.9/site-packages/matplotlib/artist.py?line=46'>47</a>\u001b[0m     \u001b[39mif\u001b[39;00m artist\u001b[39m.\u001b[39mget_agg_filter() \u001b[39mis\u001b[39;00m \u001b[39mnot\u001b[39;00m \u001b[39mNone\u001b[39;00m:\n\u001b[1;32m     <a href='file:///opt/homebrew/lib/python3.9/site-packages/matplotlib/artist.py?line=47'>48</a>\u001b[0m         renderer\u001b[39m.\u001b[39mstart_filter()\n\u001b[0;32m---> <a href='file:///opt/homebrew/lib/python3.9/site-packages/matplotlib/artist.py?line=49'>50</a>\u001b[0m     \u001b[39mreturn\u001b[39;00m draw(artist, renderer)\n\u001b[1;32m     <a href='file:///opt/homebrew/lib/python3.9/site-packages/matplotlib/artist.py?line=50'>51</a>\u001b[0m \u001b[39mfinally\u001b[39;00m:\n\u001b[1;32m     <a href='file:///opt/homebrew/lib/python3.9/site-packages/matplotlib/artist.py?line=51'>52</a>\u001b[0m     \u001b[39mif\u001b[39;00m artist\u001b[39m.\u001b[39mget_agg_filter() \u001b[39mis\u001b[39;00m \u001b[39mnot\u001b[39;00m \u001b[39mNone\u001b[39;00m:\n",
      "File \u001b[0;32m/opt/homebrew/lib/python3.9/site-packages/matplotlib/figure.py:2810\u001b[0m, in \u001b[0;36mFigure.draw\u001b[0;34m(self, renderer)\u001b[0m\n\u001b[1;32m   <a href='file:///opt/homebrew/lib/python3.9/site-packages/matplotlib/figure.py?line=2806'>2807</a>\u001b[0m         \u001b[39m# ValueError can occur when resizing a window.\u001b[39;00m\n\u001b[1;32m   <a href='file:///opt/homebrew/lib/python3.9/site-packages/matplotlib/figure.py?line=2808'>2809</a>\u001b[0m \u001b[39mself\u001b[39m\u001b[39m.\u001b[39mpatch\u001b[39m.\u001b[39mdraw(renderer)\n\u001b[0;32m-> <a href='file:///opt/homebrew/lib/python3.9/site-packages/matplotlib/figure.py?line=2809'>2810</a>\u001b[0m mimage\u001b[39m.\u001b[39;49m_draw_list_compositing_images(\n\u001b[1;32m   <a href='file:///opt/homebrew/lib/python3.9/site-packages/matplotlib/figure.py?line=2810'>2811</a>\u001b[0m     renderer, \u001b[39mself\u001b[39;49m, artists, \u001b[39mself\u001b[39;49m\u001b[39m.\u001b[39;49msuppressComposite)\n\u001b[1;32m   <a href='file:///opt/homebrew/lib/python3.9/site-packages/matplotlib/figure.py?line=2812'>2813</a>\u001b[0m \u001b[39mfor\u001b[39;00m sfig \u001b[39min\u001b[39;00m \u001b[39mself\u001b[39m\u001b[39m.\u001b[39msubfigs:\n\u001b[1;32m   <a href='file:///opt/homebrew/lib/python3.9/site-packages/matplotlib/figure.py?line=2813'>2814</a>\u001b[0m     sfig\u001b[39m.\u001b[39mdraw(renderer)\n",
      "File \u001b[0;32m/opt/homebrew/lib/python3.9/site-packages/matplotlib/image.py:132\u001b[0m, in \u001b[0;36m_draw_list_compositing_images\u001b[0;34m(renderer, parent, artists, suppress_composite)\u001b[0m\n\u001b[1;32m    <a href='file:///opt/homebrew/lib/python3.9/site-packages/matplotlib/image.py?line=129'>130</a>\u001b[0m \u001b[39mif\u001b[39;00m not_composite \u001b[39mor\u001b[39;00m \u001b[39mnot\u001b[39;00m has_images:\n\u001b[1;32m    <a href='file:///opt/homebrew/lib/python3.9/site-packages/matplotlib/image.py?line=130'>131</a>\u001b[0m     \u001b[39mfor\u001b[39;00m a \u001b[39min\u001b[39;00m artists:\n\u001b[0;32m--> <a href='file:///opt/homebrew/lib/python3.9/site-packages/matplotlib/image.py?line=131'>132</a>\u001b[0m         a\u001b[39m.\u001b[39;49mdraw(renderer)\n\u001b[1;32m    <a href='file:///opt/homebrew/lib/python3.9/site-packages/matplotlib/image.py?line=132'>133</a>\u001b[0m \u001b[39melse\u001b[39;00m:\n\u001b[1;32m    <a href='file:///opt/homebrew/lib/python3.9/site-packages/matplotlib/image.py?line=133'>134</a>\u001b[0m     \u001b[39m# Composite any adjacent images together\u001b[39;00m\n\u001b[1;32m    <a href='file:///opt/homebrew/lib/python3.9/site-packages/matplotlib/image.py?line=134'>135</a>\u001b[0m     image_group \u001b[39m=\u001b[39m []\n",
      "File \u001b[0;32m/opt/homebrew/lib/python3.9/site-packages/matplotlib/artist.py:50\u001b[0m, in \u001b[0;36mallow_rasterization.<locals>.draw_wrapper\u001b[0;34m(artist, renderer)\u001b[0m\n\u001b[1;32m     <a href='file:///opt/homebrew/lib/python3.9/site-packages/matplotlib/artist.py?line=46'>47</a>\u001b[0m     \u001b[39mif\u001b[39;00m artist\u001b[39m.\u001b[39mget_agg_filter() \u001b[39mis\u001b[39;00m \u001b[39mnot\u001b[39;00m \u001b[39mNone\u001b[39;00m:\n\u001b[1;32m     <a href='file:///opt/homebrew/lib/python3.9/site-packages/matplotlib/artist.py?line=47'>48</a>\u001b[0m         renderer\u001b[39m.\u001b[39mstart_filter()\n\u001b[0;32m---> <a href='file:///opt/homebrew/lib/python3.9/site-packages/matplotlib/artist.py?line=49'>50</a>\u001b[0m     \u001b[39mreturn\u001b[39;00m draw(artist, renderer)\n\u001b[1;32m     <a href='file:///opt/homebrew/lib/python3.9/site-packages/matplotlib/artist.py?line=50'>51</a>\u001b[0m \u001b[39mfinally\u001b[39;00m:\n\u001b[1;32m     <a href='file:///opt/homebrew/lib/python3.9/site-packages/matplotlib/artist.py?line=51'>52</a>\u001b[0m     \u001b[39mif\u001b[39;00m artist\u001b[39m.\u001b[39mget_agg_filter() \u001b[39mis\u001b[39;00m \u001b[39mnot\u001b[39;00m \u001b[39mNone\u001b[39;00m:\n",
      "File \u001b[0;32m/opt/homebrew/lib/python3.9/site-packages/matplotlib/axes/_base.py:3082\u001b[0m, in \u001b[0;36m_AxesBase.draw\u001b[0;34m(self, renderer)\u001b[0m\n\u001b[1;32m   <a href='file:///opt/homebrew/lib/python3.9/site-packages/matplotlib/axes/_base.py?line=3078'>3079</a>\u001b[0m         a\u001b[39m.\u001b[39mdraw(renderer)\n\u001b[1;32m   <a href='file:///opt/homebrew/lib/python3.9/site-packages/matplotlib/axes/_base.py?line=3079'>3080</a>\u001b[0m     renderer\u001b[39m.\u001b[39mstop_rasterizing()\n\u001b[0;32m-> <a href='file:///opt/homebrew/lib/python3.9/site-packages/matplotlib/axes/_base.py?line=3081'>3082</a>\u001b[0m mimage\u001b[39m.\u001b[39;49m_draw_list_compositing_images(\n\u001b[1;32m   <a href='file:///opt/homebrew/lib/python3.9/site-packages/matplotlib/axes/_base.py?line=3082'>3083</a>\u001b[0m     renderer, \u001b[39mself\u001b[39;49m, artists, \u001b[39mself\u001b[39;49m\u001b[39m.\u001b[39;49mfigure\u001b[39m.\u001b[39;49msuppressComposite)\n\u001b[1;32m   <a href='file:///opt/homebrew/lib/python3.9/site-packages/matplotlib/axes/_base.py?line=3084'>3085</a>\u001b[0m renderer\u001b[39m.\u001b[39mclose_group(\u001b[39m'\u001b[39m\u001b[39maxes\u001b[39m\u001b[39m'\u001b[39m)\n\u001b[1;32m   <a href='file:///opt/homebrew/lib/python3.9/site-packages/matplotlib/axes/_base.py?line=3085'>3086</a>\u001b[0m \u001b[39mself\u001b[39m\u001b[39m.\u001b[39mstale \u001b[39m=\u001b[39m \u001b[39mFalse\u001b[39;00m\n",
      "File \u001b[0;32m/opt/homebrew/lib/python3.9/site-packages/matplotlib/image.py:132\u001b[0m, in \u001b[0;36m_draw_list_compositing_images\u001b[0;34m(renderer, parent, artists, suppress_composite)\u001b[0m\n\u001b[1;32m    <a href='file:///opt/homebrew/lib/python3.9/site-packages/matplotlib/image.py?line=129'>130</a>\u001b[0m \u001b[39mif\u001b[39;00m not_composite \u001b[39mor\u001b[39;00m \u001b[39mnot\u001b[39;00m has_images:\n\u001b[1;32m    <a href='file:///opt/homebrew/lib/python3.9/site-packages/matplotlib/image.py?line=130'>131</a>\u001b[0m     \u001b[39mfor\u001b[39;00m a \u001b[39min\u001b[39;00m artists:\n\u001b[0;32m--> <a href='file:///opt/homebrew/lib/python3.9/site-packages/matplotlib/image.py?line=131'>132</a>\u001b[0m         a\u001b[39m.\u001b[39;49mdraw(renderer)\n\u001b[1;32m    <a href='file:///opt/homebrew/lib/python3.9/site-packages/matplotlib/image.py?line=132'>133</a>\u001b[0m \u001b[39melse\u001b[39;00m:\n\u001b[1;32m    <a href='file:///opt/homebrew/lib/python3.9/site-packages/matplotlib/image.py?line=133'>134</a>\u001b[0m     \u001b[39m# Composite any adjacent images together\u001b[39;00m\n\u001b[1;32m    <a href='file:///opt/homebrew/lib/python3.9/site-packages/matplotlib/image.py?line=134'>135</a>\u001b[0m     image_group \u001b[39m=\u001b[39m []\n",
      "File \u001b[0;32m/opt/homebrew/lib/python3.9/site-packages/matplotlib/artist.py:50\u001b[0m, in \u001b[0;36mallow_rasterization.<locals>.draw_wrapper\u001b[0;34m(artist, renderer)\u001b[0m\n\u001b[1;32m     <a href='file:///opt/homebrew/lib/python3.9/site-packages/matplotlib/artist.py?line=46'>47</a>\u001b[0m     \u001b[39mif\u001b[39;00m artist\u001b[39m.\u001b[39mget_agg_filter() \u001b[39mis\u001b[39;00m \u001b[39mnot\u001b[39;00m \u001b[39mNone\u001b[39;00m:\n\u001b[1;32m     <a href='file:///opt/homebrew/lib/python3.9/site-packages/matplotlib/artist.py?line=47'>48</a>\u001b[0m         renderer\u001b[39m.\u001b[39mstart_filter()\n\u001b[0;32m---> <a href='file:///opt/homebrew/lib/python3.9/site-packages/matplotlib/artist.py?line=49'>50</a>\u001b[0m     \u001b[39mreturn\u001b[39;00m draw(artist, renderer)\n\u001b[1;32m     <a href='file:///opt/homebrew/lib/python3.9/site-packages/matplotlib/artist.py?line=50'>51</a>\u001b[0m \u001b[39mfinally\u001b[39;00m:\n\u001b[1;32m     <a href='file:///opt/homebrew/lib/python3.9/site-packages/matplotlib/artist.py?line=51'>52</a>\u001b[0m     \u001b[39mif\u001b[39;00m artist\u001b[39m.\u001b[39mget_agg_filter() \u001b[39mis\u001b[39;00m \u001b[39mnot\u001b[39;00m \u001b[39mNone\u001b[39;00m:\n",
      "File \u001b[0;32m/opt/homebrew/lib/python3.9/site-packages/matplotlib/axis.py:1159\u001b[0m, in \u001b[0;36mAxis.draw\u001b[0;34m(self, renderer, *args, **kwargs)\u001b[0m\n\u001b[1;32m   <a href='file:///opt/homebrew/lib/python3.9/site-packages/matplotlib/axis.py?line=1155'>1156</a>\u001b[0m renderer\u001b[39m.\u001b[39mopen_group(\u001b[39m__name__\u001b[39m, gid\u001b[39m=\u001b[39m\u001b[39mself\u001b[39m\u001b[39m.\u001b[39mget_gid())\n\u001b[1;32m   <a href='file:///opt/homebrew/lib/python3.9/site-packages/matplotlib/axis.py?line=1157'>1158</a>\u001b[0m ticks_to_draw \u001b[39m=\u001b[39m \u001b[39mself\u001b[39m\u001b[39m.\u001b[39m_update_ticks()\n\u001b[0;32m-> <a href='file:///opt/homebrew/lib/python3.9/site-packages/matplotlib/axis.py?line=1158'>1159</a>\u001b[0m ticklabelBoxes, ticklabelBoxes2 \u001b[39m=\u001b[39m \u001b[39mself\u001b[39;49m\u001b[39m.\u001b[39;49m_get_tick_bboxes(ticks_to_draw,\n\u001b[1;32m   <a href='file:///opt/homebrew/lib/python3.9/site-packages/matplotlib/axis.py?line=1159'>1160</a>\u001b[0m                                                         renderer)\n\u001b[1;32m   <a href='file:///opt/homebrew/lib/python3.9/site-packages/matplotlib/axis.py?line=1161'>1162</a>\u001b[0m \u001b[39mfor\u001b[39;00m tick \u001b[39min\u001b[39;00m ticks_to_draw:\n\u001b[1;32m   <a href='file:///opt/homebrew/lib/python3.9/site-packages/matplotlib/axis.py?line=1162'>1163</a>\u001b[0m     tick\u001b[39m.\u001b[39mdraw(renderer)\n",
      "File \u001b[0;32m/opt/homebrew/lib/python3.9/site-packages/matplotlib/axis.py:1085\u001b[0m, in \u001b[0;36mAxis._get_tick_bboxes\u001b[0;34m(self, ticks, renderer)\u001b[0m\n\u001b[1;32m   <a href='file:///opt/homebrew/lib/python3.9/site-packages/matplotlib/axis.py?line=1082'>1083</a>\u001b[0m \u001b[39mdef\u001b[39;00m \u001b[39m_get_tick_bboxes\u001b[39m(\u001b[39mself\u001b[39m, ticks, renderer):\n\u001b[1;32m   <a href='file:///opt/homebrew/lib/python3.9/site-packages/matplotlib/axis.py?line=1083'>1084</a>\u001b[0m     \u001b[39m\"\"\"Return lists of bboxes for ticks' label1's and label2's.\"\"\"\u001b[39;00m\n\u001b[0;32m-> <a href='file:///opt/homebrew/lib/python3.9/site-packages/matplotlib/axis.py?line=1084'>1085</a>\u001b[0m     \u001b[39mreturn\u001b[39;00m ([tick\u001b[39m.\u001b[39mlabel1\u001b[39m.\u001b[39mget_window_extent(renderer)\n\u001b[1;32m   <a href='file:///opt/homebrew/lib/python3.9/site-packages/matplotlib/axis.py?line=1085'>1086</a>\u001b[0m              \u001b[39mfor\u001b[39;00m tick \u001b[39min\u001b[39;00m ticks \u001b[39mif\u001b[39;00m tick\u001b[39m.\u001b[39mlabel1\u001b[39m.\u001b[39mget_visible()],\n\u001b[1;32m   <a href='file:///opt/homebrew/lib/python3.9/site-packages/matplotlib/axis.py?line=1086'>1087</a>\u001b[0m             [tick\u001b[39m.\u001b[39mlabel2\u001b[39m.\u001b[39mget_window_extent(renderer)\n\u001b[1;32m   <a href='file:///opt/homebrew/lib/python3.9/site-packages/matplotlib/axis.py?line=1087'>1088</a>\u001b[0m              \u001b[39mfor\u001b[39;00m tick \u001b[39min\u001b[39;00m ticks \u001b[39mif\u001b[39;00m tick\u001b[39m.\u001b[39mlabel2\u001b[39m.\u001b[39mget_visible()])\n",
      "File \u001b[0;32m/opt/homebrew/lib/python3.9/site-packages/matplotlib/axis.py:1085\u001b[0m, in \u001b[0;36m<listcomp>\u001b[0;34m(.0)\u001b[0m\n\u001b[1;32m   <a href='file:///opt/homebrew/lib/python3.9/site-packages/matplotlib/axis.py?line=1082'>1083</a>\u001b[0m \u001b[39mdef\u001b[39;00m \u001b[39m_get_tick_bboxes\u001b[39m(\u001b[39mself\u001b[39m, ticks, renderer):\n\u001b[1;32m   <a href='file:///opt/homebrew/lib/python3.9/site-packages/matplotlib/axis.py?line=1083'>1084</a>\u001b[0m     \u001b[39m\"\"\"Return lists of bboxes for ticks' label1's and label2's.\"\"\"\u001b[39;00m\n\u001b[0;32m-> <a href='file:///opt/homebrew/lib/python3.9/site-packages/matplotlib/axis.py?line=1084'>1085</a>\u001b[0m     \u001b[39mreturn\u001b[39;00m ([tick\u001b[39m.\u001b[39;49mlabel1\u001b[39m.\u001b[39;49mget_window_extent(renderer)\n\u001b[1;32m   <a href='file:///opt/homebrew/lib/python3.9/site-packages/matplotlib/axis.py?line=1085'>1086</a>\u001b[0m              \u001b[39mfor\u001b[39;00m tick \u001b[39min\u001b[39;00m ticks \u001b[39mif\u001b[39;00m tick\u001b[39m.\u001b[39mlabel1\u001b[39m.\u001b[39mget_visible()],\n\u001b[1;32m   <a href='file:///opt/homebrew/lib/python3.9/site-packages/matplotlib/axis.py?line=1086'>1087</a>\u001b[0m             [tick\u001b[39m.\u001b[39mlabel2\u001b[39m.\u001b[39mget_window_extent(renderer)\n\u001b[1;32m   <a href='file:///opt/homebrew/lib/python3.9/site-packages/matplotlib/axis.py?line=1087'>1088</a>\u001b[0m              \u001b[39mfor\u001b[39;00m tick \u001b[39min\u001b[39;00m ticks \u001b[39mif\u001b[39;00m tick\u001b[39m.\u001b[39mlabel2\u001b[39m.\u001b[39mget_visible()])\n",
      "File \u001b[0;32m/opt/homebrew/lib/python3.9/site-packages/matplotlib/text.py:910\u001b[0m, in \u001b[0;36mText.get_window_extent\u001b[0;34m(self, renderer, dpi)\u001b[0m\n\u001b[1;32m    <a href='file:///opt/homebrew/lib/python3.9/site-packages/matplotlib/text.py?line=906'>907</a>\u001b[0m     \u001b[39mraise\u001b[39;00m \u001b[39mRuntimeError\u001b[39;00m(\u001b[39m'\u001b[39m\u001b[39mCannot get window extent w/o renderer\u001b[39m\u001b[39m'\u001b[39m)\n\u001b[1;32m    <a href='file:///opt/homebrew/lib/python3.9/site-packages/matplotlib/text.py?line=908'>909</a>\u001b[0m \u001b[39mwith\u001b[39;00m cbook\u001b[39m.\u001b[39m_setattr_cm(\u001b[39mself\u001b[39m\u001b[39m.\u001b[39mfigure, dpi\u001b[39m=\u001b[39mdpi):\n\u001b[0;32m--> <a href='file:///opt/homebrew/lib/python3.9/site-packages/matplotlib/text.py?line=909'>910</a>\u001b[0m     bbox, info, descent \u001b[39m=\u001b[39m \u001b[39mself\u001b[39;49m\u001b[39m.\u001b[39;49m_get_layout(\u001b[39mself\u001b[39;49m\u001b[39m.\u001b[39;49m_renderer)\n\u001b[1;32m    <a href='file:///opt/homebrew/lib/python3.9/site-packages/matplotlib/text.py?line=910'>911</a>\u001b[0m     x, y \u001b[39m=\u001b[39m \u001b[39mself\u001b[39m\u001b[39m.\u001b[39mget_unitless_position()\n\u001b[1;32m    <a href='file:///opt/homebrew/lib/python3.9/site-packages/matplotlib/text.py?line=911'>912</a>\u001b[0m     x, y \u001b[39m=\u001b[39m \u001b[39mself\u001b[39m\u001b[39m.\u001b[39mget_transform()\u001b[39m.\u001b[39mtransform((x, y))\n",
      "File \u001b[0;32m/opt/homebrew/lib/python3.9/site-packages/matplotlib/text.py:309\u001b[0m, in \u001b[0;36mText._get_layout\u001b[0;34m(self, renderer)\u001b[0m\n\u001b[1;32m    <a href='file:///opt/homebrew/lib/python3.9/site-packages/matplotlib/text.py?line=305'>306</a>\u001b[0m ys \u001b[39m=\u001b[39m []\n\u001b[1;32m    <a href='file:///opt/homebrew/lib/python3.9/site-packages/matplotlib/text.py?line=307'>308</a>\u001b[0m \u001b[39m# Full vertical extent of font, including ascenders and descenders:\u001b[39;00m\n\u001b[0;32m--> <a href='file:///opt/homebrew/lib/python3.9/site-packages/matplotlib/text.py?line=308'>309</a>\u001b[0m _, lp_h, lp_d \u001b[39m=\u001b[39m renderer\u001b[39m.\u001b[39;49mget_text_width_height_descent(\n\u001b[1;32m    <a href='file:///opt/homebrew/lib/python3.9/site-packages/matplotlib/text.py?line=309'>310</a>\u001b[0m     \u001b[39m\"\u001b[39;49m\u001b[39mlp\u001b[39;49m\u001b[39m\"\u001b[39;49m, \u001b[39mself\u001b[39;49m\u001b[39m.\u001b[39;49m_fontproperties,\n\u001b[1;32m    <a href='file:///opt/homebrew/lib/python3.9/site-packages/matplotlib/text.py?line=310'>311</a>\u001b[0m     ismath\u001b[39m=\u001b[39;49m\u001b[39m\"\u001b[39;49m\u001b[39mTeX\u001b[39;49m\u001b[39m\"\u001b[39;49m \u001b[39mif\u001b[39;49;00m \u001b[39mself\u001b[39;49m\u001b[39m.\u001b[39;49mget_usetex() \u001b[39melse\u001b[39;49;00m \u001b[39mFalse\u001b[39;49;00m)\n\u001b[1;32m    <a href='file:///opt/homebrew/lib/python3.9/site-packages/matplotlib/text.py?line=311'>312</a>\u001b[0m min_dy \u001b[39m=\u001b[39m (lp_h \u001b[39m-\u001b[39m lp_d) \u001b[39m*\u001b[39m \u001b[39mself\u001b[39m\u001b[39m.\u001b[39m_linespacing\n\u001b[1;32m    <a href='file:///opt/homebrew/lib/python3.9/site-packages/matplotlib/text.py?line=313'>314</a>\u001b[0m \u001b[39mfor\u001b[39;00m i, line \u001b[39min\u001b[39;00m \u001b[39menumerate\u001b[39m(lines):\n",
      "File \u001b[0;32m/opt/homebrew/lib/python3.9/site-packages/matplotlib/backends/backend_agg.py:259\u001b[0m, in \u001b[0;36mRendererAgg.get_text_width_height_descent\u001b[0;34m(self, s, prop, ismath)\u001b[0m\n\u001b[1;32m    <a href='file:///opt/homebrew/lib/python3.9/site-packages/matplotlib/backends/backend_agg.py?line=256'>257</a>\u001b[0m     texmanager \u001b[39m=\u001b[39m \u001b[39mself\u001b[39m\u001b[39m.\u001b[39mget_texmanager()\n\u001b[1;32m    <a href='file:///opt/homebrew/lib/python3.9/site-packages/matplotlib/backends/backend_agg.py?line=257'>258</a>\u001b[0m     fontsize \u001b[39m=\u001b[39m prop\u001b[39m.\u001b[39mget_size_in_points()\n\u001b[0;32m--> <a href='file:///opt/homebrew/lib/python3.9/site-packages/matplotlib/backends/backend_agg.py?line=258'>259</a>\u001b[0m     w, h, d \u001b[39m=\u001b[39m texmanager\u001b[39m.\u001b[39;49mget_text_width_height_descent(\n\u001b[1;32m    <a href='file:///opt/homebrew/lib/python3.9/site-packages/matplotlib/backends/backend_agg.py?line=259'>260</a>\u001b[0m         s, fontsize, renderer\u001b[39m=\u001b[39;49m\u001b[39mself\u001b[39;49m)\n\u001b[1;32m    <a href='file:///opt/homebrew/lib/python3.9/site-packages/matplotlib/backends/backend_agg.py?line=260'>261</a>\u001b[0m     \u001b[39mreturn\u001b[39;00m w, h, d\n\u001b[1;32m    <a href='file:///opt/homebrew/lib/python3.9/site-packages/matplotlib/backends/backend_agg.py?line=262'>263</a>\u001b[0m \u001b[39mif\u001b[39;00m ismath:\n",
      "File \u001b[0;32m/opt/homebrew/lib/python3.9/site-packages/matplotlib/texmanager.py:338\u001b[0m, in \u001b[0;36mTexManager.get_text_width_height_descent\u001b[0;34m(self, tex, fontsize, renderer)\u001b[0m\n\u001b[1;32m    <a href='file:///opt/homebrew/lib/python3.9/site-packages/matplotlib/texmanager.py?line=335'>336</a>\u001b[0m dpi_fraction \u001b[39m=\u001b[39m renderer\u001b[39m.\u001b[39mpoints_to_pixels(\u001b[39m1.\u001b[39m) \u001b[39mif\u001b[39;00m renderer \u001b[39melse\u001b[39;00m \u001b[39m1\u001b[39m\n\u001b[1;32m    <a href='file:///opt/homebrew/lib/python3.9/site-packages/matplotlib/texmanager.py?line=336'>337</a>\u001b[0m \u001b[39mwith\u001b[39;00m dviread\u001b[39m.\u001b[39mDvi(dvifile, \u001b[39m72\u001b[39m \u001b[39m*\u001b[39m dpi_fraction) \u001b[39mas\u001b[39;00m dvi:\n\u001b[0;32m--> <a href='file:///opt/homebrew/lib/python3.9/site-packages/matplotlib/texmanager.py?line=337'>338</a>\u001b[0m     page, \u001b[39m=\u001b[39m dvi\n\u001b[1;32m    <a href='file:///opt/homebrew/lib/python3.9/site-packages/matplotlib/texmanager.py?line=338'>339</a>\u001b[0m \u001b[39m# A total height (including the descent) needs to be returned.\u001b[39;00m\n\u001b[1;32m    <a href='file:///opt/homebrew/lib/python3.9/site-packages/matplotlib/texmanager.py?line=339'>340</a>\u001b[0m \u001b[39mreturn\u001b[39;00m page\u001b[39m.\u001b[39mwidth, page\u001b[39m.\u001b[39mheight \u001b[39m+\u001b[39m page\u001b[39m.\u001b[39mdescent, page\u001b[39m.\u001b[39mdescent\n",
      "File \u001b[0;32m/opt/homebrew/lib/python3.9/site-packages/matplotlib/dviread.py:237\u001b[0m, in \u001b[0;36mDvi.__iter__\u001b[0;34m(self)\u001b[0m\n\u001b[1;32m    <a href='file:///opt/homebrew/lib/python3.9/site-packages/matplotlib/dviread.py?line=220'>221</a>\u001b[0m \u001b[39mdef\u001b[39;00m \u001b[39m__iter__\u001b[39m(\u001b[39mself\u001b[39m):\n\u001b[1;32m    <a href='file:///opt/homebrew/lib/python3.9/site-packages/matplotlib/dviread.py?line=221'>222</a>\u001b[0m     \u001b[39m\"\"\"\u001b[39;00m\n\u001b[1;32m    <a href='file:///opt/homebrew/lib/python3.9/site-packages/matplotlib/dviread.py?line=222'>223</a>\u001b[0m \u001b[39m    Iterate through the pages of the file.\u001b[39;00m\n\u001b[1;32m    <a href='file:///opt/homebrew/lib/python3.9/site-packages/matplotlib/dviread.py?line=223'>224</a>\u001b[0m \n\u001b[0;32m   (...)\u001b[0m\n\u001b[1;32m    <a href='file:///opt/homebrew/lib/python3.9/site-packages/matplotlib/dviread.py?line=234'>235</a>\u001b[0m \u001b[39m        integers.\u001b[39;00m\n\u001b[1;32m    <a href='file:///opt/homebrew/lib/python3.9/site-packages/matplotlib/dviread.py?line=235'>236</a>\u001b[0m \u001b[39m    \"\"\"\u001b[39;00m\n\u001b[0;32m--> <a href='file:///opt/homebrew/lib/python3.9/site-packages/matplotlib/dviread.py?line=236'>237</a>\u001b[0m     \u001b[39mwhile\u001b[39;00m \u001b[39mself\u001b[39;49m\u001b[39m.\u001b[39;49m_read():\n\u001b[1;32m    <a href='file:///opt/homebrew/lib/python3.9/site-packages/matplotlib/dviread.py?line=237'>238</a>\u001b[0m         \u001b[39myield\u001b[39;00m \u001b[39mself\u001b[39m\u001b[39m.\u001b[39m_output()\n",
      "File \u001b[0;32m/opt/homebrew/lib/python3.9/site-packages/matplotlib/dviread.py:316\u001b[0m, in \u001b[0;36mDvi._read\u001b[0;34m(self)\u001b[0m\n\u001b[1;32m    <a href='file:///opt/homebrew/lib/python3.9/site-packages/matplotlib/dviread.py?line=313'>314</a>\u001b[0m \u001b[39mwhile\u001b[39;00m \u001b[39mTrue\u001b[39;00m:\n\u001b[1;32m    <a href='file:///opt/homebrew/lib/python3.9/site-packages/matplotlib/dviread.py?line=314'>315</a>\u001b[0m     byte \u001b[39m=\u001b[39m \u001b[39mself\u001b[39m\u001b[39m.\u001b[39mfile\u001b[39m.\u001b[39mread(\u001b[39m1\u001b[39m)[\u001b[39m0\u001b[39m]\n\u001b[0;32m--> <a href='file:///opt/homebrew/lib/python3.9/site-packages/matplotlib/dviread.py?line=315'>316</a>\u001b[0m     \u001b[39mself\u001b[39;49m\u001b[39m.\u001b[39;49m_dtable[byte](\u001b[39mself\u001b[39;49m, byte)\n\u001b[1;32m    <a href='file:///opt/homebrew/lib/python3.9/site-packages/matplotlib/dviread.py?line=316'>317</a>\u001b[0m     name \u001b[39m=\u001b[39m \u001b[39mself\u001b[39m\u001b[39m.\u001b[39m_dtable[byte]\u001b[39m.\u001b[39m\u001b[39m__name__\u001b[39m\n\u001b[1;32m    <a href='file:///opt/homebrew/lib/python3.9/site-packages/matplotlib/dviread.py?line=317'>318</a>\u001b[0m     \u001b[39mif\u001b[39;00m name \u001b[39m==\u001b[39m \u001b[39m\"\u001b[39m\u001b[39m_push\u001b[39m\u001b[39m\"\u001b[39m:\n",
      "File \u001b[0;32m/opt/homebrew/lib/python3.9/site-packages/matplotlib/dviread.py:166\u001b[0m, in \u001b[0;36m_dispatch.<locals>.decorate.<locals>.wrapper\u001b[0;34m(self, byte)\u001b[0m\n\u001b[1;32m    <a href='file:///opt/homebrew/lib/python3.9/site-packages/matplotlib/dviread.py?line=163'>164</a>\u001b[0m \u001b[39mif\u001b[39;00m state \u001b[39mis\u001b[39;00m \u001b[39mnot\u001b[39;00m \u001b[39mNone\u001b[39;00m \u001b[39mand\u001b[39;00m \u001b[39mself\u001b[39m\u001b[39m.\u001b[39mstate \u001b[39m!=\u001b[39m state:\n\u001b[1;32m    <a href='file:///opt/homebrew/lib/python3.9/site-packages/matplotlib/dviread.py?line=164'>165</a>\u001b[0m     \u001b[39mraise\u001b[39;00m \u001b[39mValueError\u001b[39;00m(\u001b[39m\"\u001b[39m\u001b[39mstate precondition failed\u001b[39m\u001b[39m\"\u001b[39m)\n\u001b[0;32m--> <a href='file:///opt/homebrew/lib/python3.9/site-packages/matplotlib/dviread.py?line=165'>166</a>\u001b[0m \u001b[39mreturn\u001b[39;00m method(\u001b[39mself\u001b[39;49m, \u001b[39m*\u001b[39;49m[f(\u001b[39mself\u001b[39;49m, byte\u001b[39m-\u001b[39;49m\u001b[39mmin\u001b[39;49m) \u001b[39mfor\u001b[39;49;00m f \u001b[39min\u001b[39;49;00m get_args])\n",
      "File \u001b[0;32m/opt/homebrew/lib/python3.9/site-packages/matplotlib/dviread.py:467\u001b[0m, in \u001b[0;36mDvi._fnt_def\u001b[0;34m(self, k, c, s, d, a, l)\u001b[0m\n\u001b[1;32m    <a href='file:///opt/homebrew/lib/python3.9/site-packages/matplotlib/dviread.py?line=464'>465</a>\u001b[0m \u001b[39m@_dispatch\u001b[39m(\u001b[39mmin\u001b[39m\u001b[39m=\u001b[39m\u001b[39m243\u001b[39m, \u001b[39mmax\u001b[39m\u001b[39m=\u001b[39m\u001b[39m246\u001b[39m, args\u001b[39m=\u001b[39m(\u001b[39m'\u001b[39m\u001b[39molen1\u001b[39m\u001b[39m'\u001b[39m, \u001b[39m'\u001b[39m\u001b[39mu4\u001b[39m\u001b[39m'\u001b[39m, \u001b[39m'\u001b[39m\u001b[39mu4\u001b[39m\u001b[39m'\u001b[39m, \u001b[39m'\u001b[39m\u001b[39mu4\u001b[39m\u001b[39m'\u001b[39m, \u001b[39m'\u001b[39m\u001b[39mu1\u001b[39m\u001b[39m'\u001b[39m, \u001b[39m'\u001b[39m\u001b[39mu1\u001b[39m\u001b[39m'\u001b[39m))\n\u001b[1;32m    <a href='file:///opt/homebrew/lib/python3.9/site-packages/matplotlib/dviread.py?line=465'>466</a>\u001b[0m \u001b[39mdef\u001b[39;00m \u001b[39m_fnt_def\u001b[39m(\u001b[39mself\u001b[39m, k, c, s, d, a, l):\n\u001b[0;32m--> <a href='file:///opt/homebrew/lib/python3.9/site-packages/matplotlib/dviread.py?line=466'>467</a>\u001b[0m     \u001b[39mself\u001b[39;49m\u001b[39m.\u001b[39;49m_fnt_def_real(k, c, s, d, a, l)\n",
      "File \u001b[0;32m/opt/homebrew/lib/python3.9/site-packages/matplotlib/dviread.py:474\u001b[0m, in \u001b[0;36mDvi._fnt_def_real\u001b[0;34m(self, k, c, s, d, a, l)\u001b[0m\n\u001b[1;32m    <a href='file:///opt/homebrew/lib/python3.9/site-packages/matplotlib/dviread.py?line=471'>472</a>\u001b[0m tfm \u001b[39m=\u001b[39m _tfmfile(fontname)\n\u001b[1;32m    <a href='file:///opt/homebrew/lib/python3.9/site-packages/matplotlib/dviread.py?line=472'>473</a>\u001b[0m \u001b[39mif\u001b[39;00m tfm \u001b[39mis\u001b[39;00m \u001b[39mNone\u001b[39;00m:\n\u001b[0;32m--> <a href='file:///opt/homebrew/lib/python3.9/site-packages/matplotlib/dviread.py?line=473'>474</a>\u001b[0m     \u001b[39mraise\u001b[39;00m \u001b[39mFileNotFoundError\u001b[39;00m(\u001b[39m\"\u001b[39m\u001b[39mmissing font metrics file: \u001b[39m\u001b[39m%s\u001b[39;00m\u001b[39m\"\u001b[39m \u001b[39m%\u001b[39m fontname)\n\u001b[1;32m    <a href='file:///opt/homebrew/lib/python3.9/site-packages/matplotlib/dviread.py?line=474'>475</a>\u001b[0m \u001b[39mif\u001b[39;00m c \u001b[39m!=\u001b[39m \u001b[39m0\u001b[39m \u001b[39mand\u001b[39;00m tfm\u001b[39m.\u001b[39mchecksum \u001b[39m!=\u001b[39m \u001b[39m0\u001b[39m \u001b[39mand\u001b[39;00m c \u001b[39m!=\u001b[39m tfm\u001b[39m.\u001b[39mchecksum:\n\u001b[1;32m    <a href='file:///opt/homebrew/lib/python3.9/site-packages/matplotlib/dviread.py?line=475'>476</a>\u001b[0m     \u001b[39mraise\u001b[39;00m \u001b[39mValueError\u001b[39;00m(\u001b[39m'\u001b[39m\u001b[39mtfm checksum mismatch: \u001b[39m\u001b[39m%s\u001b[39;00m\u001b[39m'\u001b[39m \u001b[39m%\u001b[39m n)\n",
      "\u001b[0;31mFileNotFoundError\u001b[0m: missing font metrics file: cmr17"
     ]
    },
    {
     "data": {
      "text/plain": [
       "<Figure size 864x648 with 6 Axes>"
      ]
     },
     "metadata": {},
     "output_type": "display_data"
    }
   ],
   "source": [
    "_postprocess_stability(data)\n",
    "_postprocess_stability2(data)"
   ]
  },
  {
   "cell_type": "markdown",
   "metadata": {},
   "source": [
    "$$\n",
    "E(u):=\\frac{1}{2} N\\mu\\sum_{i=1}^N a_k(\\alpha_i)(u_{i}-u_{i-1})^2 + \\frac{w_1}{N} \\sum_{i=1}^N w(\\alpha_i)\n",
    "$$"
   ]
  },
  {
   "cell_type": "markdown",
   "metadata": {},
   "source": [
    "$$\n",
    "w(\\alpha):= \\alpha, \\qquad a_k(\\alpha):= \\frac{1-\\alpha}{\\alpha(k-1)+1}\n",
    "$$"
   ]
  },
  {
   "cell_type": "markdown",
   "metadata": {},
   "source": [
    "## Analytic solution"
   ]
  },
  {
   "cell_type": "code",
   "execution_count": 7,
   "metadata": {},
   "outputs": [],
   "source": [
    "## Simple Analytic \n",
    "α, α1, α2, e1, e2 = sp.symbols('α α1 α2 e1 e2')\n",
    "u1, u2 = sp.symbols('u1 u2')\n",
    "K1, K2 = sp.symbols('K1 K2', positive=True)\n",
    "s1, s2 = sp.symbols('s1 s2', positive=True)\n",
    "μ, N = sp.symbols('μ N', positive=True)\n",
    "w1 = sp.symbols('w1', positive=True)\n",
    "t = sp.Symbol('t', positive=True)\n",
    "k = sp.Symbol('k', positive=True)\n",
    "\n",
    "# _N = 2\n",
    "\n",
    "K = lambda α: (1-α)/(1+(k-1)*α)\n",
    "s = lambda α: 1/K(α)\n",
    "\n",
    "U = 1/2*μ*(K1*u1**2 + K2*(t-u1)**2)\n",
    "\n",
    "S = w1*(α1 + α2) / N**2\n",
    "\n",
    "sol_u = sp.solve(U.diff(u1), u1)\n",
    "\n"
   ]
  },
  {
   "cell_type": "code",
   "execution_count": 8,
   "metadata": {},
   "outputs": [
    {
     "data": {
      "text/latex": [
       "$\\displaystyle 0.5 μ \\left(K_{1} u_{1}^{2} + K_{2} \\left(t - u_{1}\\right)^{2}\\right)$"
      ],
      "text/plain": [
       "0.5*μ*(K1*u1**2 + K2*(t - u1)**2)"
      ]
     },
     "execution_count": 8,
     "metadata": {},
     "output_type": "execute_result"
    }
   ],
   "source": [
    "U"
   ]
  },
  {
   "cell_type": "code",
   "execution_count": 9,
   "metadata": {},
   "outputs": [
    {
     "data": {
      "text/plain": [
       "'0.5 μ \\\\left(K_{1} u_{1}^{2} + K_{2} \\\\left(t - u_{1}\\\\right)^{2}\\\\right)'"
      ]
     },
     "execution_count": 9,
     "metadata": {},
     "output_type": "execute_result"
    }
   ],
   "source": [
    "sp.latex(U)"
   ]
  },
  {
   "cell_type": "code",
   "execution_count": 10,
   "metadata": {},
   "outputs": [
    {
     "data": {
      "text/latex": [
       "$\\displaystyle \\frac{K_{2} t}{K_{1} + K_{2}}$"
      ],
      "text/plain": [
       "K2*t/(K1 + K2)"
      ]
     },
     "execution_count": 10,
     "metadata": {},
     "output_type": "execute_result"
    }
   ],
   "source": [
    "sp.simplify(sol_u[0])"
   ]
  },
  {
   "cell_type": "code",
   "execution_count": 11,
   "metadata": {},
   "outputs": [
    {
     "data": {
      "text/latex": [
       "$\\displaystyle \\frac{t}{2}$"
      ],
      "text/plain": [
       "t/2"
      ]
     },
     "execution_count": 11,
     "metadata": {},
     "output_type": "execute_result"
    }
   ],
   "source": [
    "sp.simplify(sol_u[0]).subs({K1: 1/s(α), K2: 1/s(α)})"
   ]
  },
  {
   "cell_type": "code",
   "execution_count": 12,
   "metadata": {},
   "outputs": [
    {
     "data": {
      "text/latex": [
       "$\\displaystyle \\frac{0.5 K_{1} K_{2} t^{2} μ}{K_{1} + K_{2}}$"
      ],
      "text/plain": [
       "0.5*K1*K2*t**2*μ/(K1 + K2)"
      ]
     },
     "execution_count": 12,
     "metadata": {},
     "output_type": "execute_result"
    }
   ],
   "source": [
    "E=U.subs(u1, sol_u[0]).simplify()\n",
    "E"
   ]
  },
  {
   "cell_type": "code",
   "execution_count": 13,
   "metadata": {},
   "outputs": [
    {
     "data": {
      "text/latex": [
       "$\\displaystyle \\frac{0.25 t^{2} μ \\left(1 - α\\right)}{α \\left(k - 1\\right) + 1}$"
      ],
      "text/plain": [
       "0.25*t**2*μ*(1 - α)/(α*(k - 1) + 1)"
      ]
     },
     "execution_count": 13,
     "metadata": {},
     "output_type": "execute_result"
    }
   ],
   "source": [
    "E.subs({K1: 1/s(α), K2: 1/s(α)})"
   ]
  },
  {
   "cell_type": "code",
   "execution_count": 14,
   "metadata": {},
   "outputs": [
    {
     "data": {
      "text/latex": [
       "$\\displaystyle \\frac{0.5 t^{2} μ}{s_{1} + s_{2}}$"
      ],
      "text/plain": [
       "0.5*t**2*μ/(s1 + s2)"
      ]
     },
     "execution_count": 14,
     "metadata": {},
     "output_type": "execute_result"
    }
   ],
   "source": [
    "E.subs({K1: 1/s1, K2: 1/s2}).simplify()"
   ]
  },
  {
   "cell_type": "code",
   "execution_count": 15,
   "metadata": {},
   "outputs": [
    {
     "data": {
      "text/latex": [
       "$\\displaystyle \\frac{0.25 t^{2} μ \\left(1 - α\\right)}{α \\left(k - 1\\right) + 1}$"
      ],
      "text/plain": [
       "0.25*t**2*μ*(1 - α)/(α*(k - 1) + 1)"
      ]
     },
     "execution_count": 15,
     "metadata": {},
     "output_type": "execute_result"
    }
   ],
   "source": [
    "_E = E.subs({K1: 1/s(α), K2: 1/s(α)})\n",
    "_E"
   ]
  },
  {
   "cell_type": "code",
   "execution_count": 16,
   "metadata": {},
   "outputs": [
    {
     "data": {
      "text/latex": [
       "$\\displaystyle \\frac{0.5 t^{2} μ}{s_{1} s_{2} \\cdot \\left(\\frac{1}{s_{2}} + \\frac{1}{s_{1}}\\right)} + \\frac{w_{1} \\left(α_{1} + α_{2}\\right)}{N^{2}}$"
      ],
      "text/plain": [
       "0.5*t**2*μ/(s1*s2*(1/s2 + 1/s1)) + w1*(α1 + α2)/N**2"
      ]
     },
     "execution_count": 16,
     "metadata": {},
     "output_type": "execute_result"
    }
   ],
   "source": [
    "F = (E+S)\n",
    "# .subs({K1: 1/s(α), K2: 1/s(α)}).subs({})\n",
    "F = (E+S).subs({K1: 1/s1, K2: 1/s2})\n",
    "\n",
    "F"
   ]
  },
  {
   "cell_type": "code",
   "execution_count": 17,
   "metadata": {},
   "outputs": [],
   "source": [
    "# F.subs({K1: 1/s1, K2: 1/s2}).simplify()"
   ]
  },
  {
   "cell_type": "code",
   "execution_count": 18,
   "metadata": {},
   "outputs": [
    {
     "data": {
      "text/latex": [
       "$\\displaystyle - \\frac{0.25 k t^{2} μ}{\\left(k α - α + 1\\right)^{2}} + \\frac{2 w_{1}}{N^{2}}$"
      ],
      "text/plain": [
       "-0.25*k*t**2*μ/(k*α - α + 1)**2 + 2*w1/N**2"
      ]
     },
     "execution_count": 18,
     "metadata": {},
     "output_type": "execute_result"
    }
   ],
   "source": [
    "F = (E+S).subs({K1: 1/s(α), K2: 1/s(α), α1: α, α2: α})\n",
    "\n",
    "Fa = F.diff(α).simplify()\n",
    "Fa"
   ]
  },
  {
   "cell_type": "code",
   "execution_count": 19,
   "metadata": {},
   "outputs": [
    {
     "data": {
      "text/latex": [
       "$\\displaystyle - 0.25 k t^{2} μ + \\frac{2 w_{1}}{N^{2}}$"
      ],
      "text/plain": [
       "-0.25*k*t**2*μ + 2*w1/N**2"
      ]
     },
     "execution_count": 19,
     "metadata": {},
     "output_type": "execute_result"
    }
   ],
   "source": [
    "Fa.subs({α: 0})"
   ]
  },
  {
   "cell_type": "code",
   "execution_count": 22,
   "metadata": {},
   "outputs": [
    {
     "ename": "NameError",
     "evalue": "name 'matpar' is not defined",
     "output_type": "error",
     "traceback": [
      "\u001b[0;31m---------------------------------------------------------------------------\u001b[0m",
      "\u001b[0;31mNameError\u001b[0m                                 Traceback (most recent call last)",
      "\u001b[1;32m/Users/kumiori/Documents/WIP/m4s-MEC647/mec647/playground/nb/cone-stability.ipynb Cell 26'\u001b[0m in \u001b[0;36m<cell line: 1>\u001b[0;34m()\u001b[0m\n\u001b[0;32m----> <a href='vscode-notebook-cell:/Users/kumiori/Documents/WIP/m4s-MEC647/mec647/playground/nb/cone-stability.ipynb#ch0000025?line=0'>1</a>\u001b[0m sp\u001b[39m.\u001b[39msolve(Fa\u001b[39m.\u001b[39msubs(matpar)\u001b[39m.\u001b[39msubs({α: \u001b[39m0\u001b[39m}), t)\n",
      "\u001b[0;31mNameError\u001b[0m: name 'matpar' is not defined"
     ]
    }
   ],
   "source": [
    "sp.solve(Fa.subs(matpar).subs({α: 0}), t)"
   ]
  },
  {
   "cell_type": "code",
   "execution_count": null,
   "metadata": {},
   "outputs": [
    {
     "data": {
      "text/latex": [
       "$\\displaystyle - 0.25 k t^{2} μ + \\frac{2 w_{1}}{N^{2}}$"
      ],
      "text/plain": [
       "-0.25*k*t**2*μ + 2*w1/N**2"
      ]
     },
     "execution_count": 21,
     "metadata": {},
     "output_type": "execute_result"
    }
   ],
   "source": [
    "Fa.subs({α: 0})"
   ]
  },
  {
   "cell_type": "code",
   "execution_count": 23,
   "metadata": {},
   "outputs": [
    {
     "data": {
      "text/latex": [
       "$\\displaystyle \\frac{8.0 w_{1}}{N^{2} k μ}$"
      ],
      "text/plain": [
       "8.0*w1/(N**2*k*μ)"
      ]
     },
     "execution_count": 23,
     "metadata": {},
     "output_type": "execute_result"
    }
   ],
   "source": [
    "sp.solve(-1./4.*k*t*μ + 2*w1/N**2, t)[0]"
   ]
  },
  {
   "cell_type": "code",
   "execution_count": 24,
   "metadata": {},
   "outputs": [
    {
     "data": {
      "text/plain": [
       "'\\\\frac{8.0 w_{1}}{N^{2} k μ}'"
      ]
     },
     "execution_count": 24,
     "metadata": {},
     "output_type": "execute_result"
    }
   ],
   "source": [
    "sp.latex(sp.solve(-1./4.*k*t*μ + 2*w1/N**2, t)[0])"
   ]
  },
  {
   "cell_type": "markdown",
   "metadata": {},
   "source": []
  },
  {
   "cell_type": "code",
   "execution_count": 25,
   "metadata": {},
   "outputs": [
    {
     "data": {
      "text/latex": [
       "$\\displaystyle \\frac{2.82842712474619 \\sqrt{w_{1}}}{N \\sqrt{k} \\sqrt{μ}}$"
      ],
      "text/plain": [
       "2.82842712474619*sqrt(w1)/(N*sqrt(k)*sqrt(μ))"
      ]
     },
     "execution_count": 25,
     "metadata": {},
     "output_type": "execute_result"
    }
   ],
   "source": [
    "sp.solve(Fa, t)[1].subs({α: 0})"
   ]
  },
  {
   "cell_type": "code",
   "execution_count": 26,
   "metadata": {},
   "outputs": [
    {
     "data": {
      "text/plain": [
       "<function _lambdifygenerated(α, t)>"
      ]
     },
     "execution_count": 26,
     "metadata": {},
     "output_type": "execute_result"
    }
   ],
   "source": [
    "sp.lambdify((α, t), F, 'numpy')"
   ]
  },
  {
   "cell_type": "code",
   "execution_count": 27,
   "metadata": {},
   "outputs": [
    {
     "data": {
      "text/latex": [
       "$\\displaystyle \\frac{0.25 t^{2} μ \\left(1 - α\\right)}{α \\left(k - 1\\right) + 1} + \\frac{2 w_{1} α}{N^{2}}$"
      ],
      "text/plain": [
       "0.25*t**2*μ*(1 - α)/(α*(k - 1) + 1) + 2*w1*α/N**2"
      ]
     },
     "execution_count": 27,
     "metadata": {},
     "output_type": "execute_result"
    }
   ],
   "source": [
    "F"
   ]
  },
  {
   "cell_type": "code",
   "execution_count": 28,
   "metadata": {},
   "outputs": [],
   "source": [
    "\n",
    "matpar = {k: _k, w1: _w1, N: _N, μ: _mu}\n",
    "\n"
   ]
  },
  {
   "cell_type": "code",
   "execution_count": 29,
   "metadata": {},
   "outputs": [
    {
     "data": {
      "text/plain": [
       "0.25"
      ]
     },
     "execution_count": 29,
     "metadata": {},
     "output_type": "execute_result"
    }
   ],
   "source": [
    "_F = sp.lambdify((α, t), F.subs(matpar), 'numpy')\n",
    "_F(0, 1)"
   ]
  },
  {
   "cell_type": "code",
   "execution_count": 30,
   "metadata": {},
   "outputs": [
    {
     "data": {
      "text/latex": [
       "$\\displaystyle \\frac{2 \\left(k - 1 - \\frac{α \\left(k - 1\\right) + 1}{α - 1}\\right)}{\\left(α - 1\\right)^{2}}$"
      ],
      "text/plain": [
       "2*(k - 1 - (α*(k - 1) + 1)/(α - 1))/(α - 1)**2"
      ]
     },
     "execution_count": 30,
     "metadata": {},
     "output_type": "execute_result"
    }
   ],
   "source": [
    "s(α).diff(α, 2)"
   ]
  },
  {
   "cell_type": "code",
   "execution_count": 31,
   "metadata": {},
   "outputs": [],
   "source": [
    "\n",
    "α = sp.symbols('α')\n",
    "t, N, k = sp.symbols('t N k')\n",
    "τ = sp.Symbol('τ', positive=True)\n",
    "\n",
    "_α0 = (τ-1)/(k-1)\n",
    "_Ηeye = t**2/(N*s(α))**2 * ((s(α).diff(α))**2 / (N*s(α)) - 1./2.*s(α).diff(α, 2)) \n",
    "_Ηout = t**2*(s(α).diff(α))**2 / (N*s(α))**3\n",
    "\n",
    "\n",
    "# Ηeye = sp.lambdify(τ, _Ηeye.subs(matpar), 'numpy')\n",
    "# Ηout = sp.lambdify(τ, _Ηout.subs(matpar), 'numpy')\n"
   ]
  },
  {
   "cell_type": "code",
   "execution_count": 32,
   "metadata": {},
   "outputs": [
    {
     "data": {
      "text/latex": [
       "$\\displaystyle \\frac{t^{2} \\left(α \\left(k - 1\\right) + \\left(1 - k\\right) \\left(α - 1\\right) + 1\\right) \\left(1.0 N \\left(α \\left(k - 1\\right) + 1\\right) - α \\left(k - 1\\right) - \\left(1 - k\\right) \\left(α - 1\\right) - 1\\right)}{N^{3} \\left(α - 1\\right) \\left(α \\left(k - 1\\right) + 1\\right)^{3}}$"
      ],
      "text/plain": [
       "t**2*(α*(k - 1) + (1 - k)*(α - 1) + 1)*(1.0*N*(α*(k - 1) + 1) - α*(k - 1) - (1 - k)*(α - 1) - 1)/(N**3*(α - 1)*(α*(k - 1) + 1)**3)"
      ]
     },
     "execution_count": 32,
     "metadata": {},
     "output_type": "execute_result"
    }
   ],
   "source": [
    "_Ηeye.simplify()"
   ]
  },
  {
   "cell_type": "code",
   "execution_count": 33,
   "metadata": {},
   "outputs": [
    {
     "data": {
      "text/latex": [
       "$\\displaystyle \\frac{t^{2} \\left(1 - α\\right)^{3} \\left(\\frac{k - 1}{1 - α} + \\frac{α \\left(k - 1\\right) + 1}{\\left(1 - α\\right)^{2}}\\right)^{2}}{N^{3} \\left(α \\left(k - 1\\right) + 1\\right)^{3}}$"
      ],
      "text/plain": [
       "t**2*(1 - α)**3*((k - 1)/(1 - α) + (α*(k - 1) + 1)/(1 - α)**2)**2/(N**3*(α*(k - 1) + 1)**3)"
      ]
     },
     "execution_count": 33,
     "metadata": {},
     "output_type": "execute_result"
    }
   ],
   "source": [
    "_Ηout"
   ]
  },
  {
   "cell_type": "code",
   "execution_count": 34,
   "metadata": {},
   "outputs": [
    {
     "data": {
      "text/latex": [
       "$\\displaystyle \\frac{1.0 k t^{2} \\left(- N k τ + N τ + k^{2} - k\\right)}{N^{3} τ^{3} \\left(k - τ\\right)}$"
      ],
      "text/plain": [
       "1.0*k*t**2*(-N*k*τ + N*τ + k**2 - k)/(N**3*τ**3*(k - τ))"
      ]
     },
     "execution_count": 34,
     "metadata": {},
     "output_type": "execute_result"
    }
   ],
   "source": [
    "_Ηeye.subs({α: _α0}).simplify()"
   ]
  },
  {
   "cell_type": "code",
   "execution_count": 35,
   "metadata": {},
   "outputs": [
    {
     "data": {
      "text/latex": [
       "$\\displaystyle \\frac{0.125 k t^{2} \\cdot \\left(1.0 k^{2} - 2.0 k τ - 1.0 k + 2.0 τ\\right)}{τ^{3} \\left(k - τ\\right)}$"
      ],
      "text/plain": [
       "0.125*k*t**2*(1.0*k**2 - 2.0*k*τ - 1.0*k + 2.0*τ)/(τ**3*(k - τ))"
      ]
     },
     "execution_count": 35,
     "metadata": {},
     "output_type": "execute_result"
    }
   ],
   "source": [
    "_Ηeye.subs({α: _α0, N: 2}).simplify()"
   ]
  },
  {
   "cell_type": "code",
   "execution_count": 36,
   "metadata": {},
   "outputs": [
    {
     "ename": "NameError",
     "evalue": "name 'a_atk' is not defined",
     "output_type": "error",
     "traceback": [
      "\u001b[0;31m---------------------------------------------------------------------------\u001b[0m",
      "\u001b[0;31mNameError\u001b[0m                                 Traceback (most recent call last)",
      "\u001b[1;32m/Users/kumiori/Documents/WIP/m4s-MEC647/mec647/playground/nb/cone-stability.ipynb Cell 42'\u001b[0m in \u001b[0;36m<cell line: 1>\u001b[0;34m()\u001b[0m\n\u001b[0;32m----> <a href='vscode-notebook-cell:/Users/kumiori/Documents/WIP/m4s-MEC647/mec647/playground/nb/cone-stability.ipynb#ch0000041?line=0'>1</a>\u001b[0m a_atk(α)\u001b[39m.\u001b[39msubs({α: _α0})\n",
      "\u001b[0;31mNameError\u001b[0m: name 'a_atk' is not defined"
     ]
    }
   ],
   "source": [
    "a_atk(α).subs({α: _α0})"
   ]
  },
  {
   "cell_type": "code",
   "execution_count": 37,
   "metadata": {},
   "outputs": [
    {
     "data": {
      "text/latex": [
       "$\\displaystyle \\frac{τ}{1 - \\frac{τ - 1}{k - 1}}$"
      ],
      "text/plain": [
       "τ/(1 - (τ - 1)/(k - 1))"
      ]
     },
     "execution_count": 37,
     "metadata": {},
     "output_type": "execute_result"
    }
   ],
   "source": [
    "s(α).subs({α: _α0})"
   ]
  },
  {
   "cell_type": "code",
   "execution_count": 38,
   "metadata": {},
   "outputs": [
    {
     "data": {
      "text/latex": [
       "$\\displaystyle \\frac{k \\left(k - 1\\right)^{2}}{\\left(k - τ\\right)^{2}}$"
      ],
      "text/plain": [
       "k*(k - 1)**2/(k - τ)**2"
      ]
     },
     "execution_count": 38,
     "metadata": {},
     "output_type": "execute_result"
    }
   ],
   "source": [
    "s(α).diff(α).subs({α: _α0}).simplify()"
   ]
  },
  {
   "cell_type": "code",
   "execution_count": 39,
   "metadata": {},
   "outputs": [
    {
     "data": {
      "text/latex": [
       "$\\displaystyle \\frac{2 \\left(k - 1\\right)^{2} \\left(τ \\left(k - 1\\right) - \\left(1 - k\\right) \\left(k - τ\\right)\\right)}{\\left(k - τ\\right)^{3}}$"
      ],
      "text/plain": [
       "2*(k - 1)**2*(τ*(k - 1) - (1 - k)*(k - τ))/(k - τ)**3"
      ]
     },
     "execution_count": 39,
     "metadata": {},
     "output_type": "execute_result"
    }
   ],
   "source": [
    "s(α).diff(α, 2).subs({α: _α0}).simplify()"
   ]
  },
  {
   "cell_type": "markdown",
   "metadata": {},
   "source": [
    "Stability condition\n",
    "\n",
    "$$\n",
    " \\frac{s'(\\alpha_0)^2}{Ns_0} - \\frac{s''(\\alpha_0)}{2}<0\n",
    "$$"
   ]
  },
  {
   "cell_type": "code",
   "execution_count": 40,
   "metadata": {},
   "outputs": [
    {
     "data": {
      "text/latex": [
       "$\\displaystyle - \\frac{k - 1 - \\frac{α \\left(k - 1\\right) + 1}{α - 1}}{\\left(α - 1\\right)^{2}} + \\frac{\\left(1 - α\\right) \\left(\\frac{k - 1}{1 - α} + \\frac{α \\left(k - 1\\right) + 1}{\\left(1 - α\\right)^{2}}\\right)^{2}}{N \\left(α \\left(k - 1\\right) + 1\\right)}$"
      ],
      "text/plain": [
       "-(k - 1 - (α*(k - 1) + 1)/(α - 1))/(α - 1)**2 + (1 - α)*((k - 1)/(1 - α) + (α*(k - 1) + 1)/(1 - α)**2)**2/(N*(α*(k - 1) + 1))"
      ]
     },
     "execution_count": 40,
     "metadata": {},
     "output_type": "execute_result"
    }
   ],
   "source": [
    "s(α).diff(α)**2 / (N*s(α)) - s(α).diff(α, 2)/2"
   ]
  },
  {
   "cell_type": "markdown",
   "metadata": {},
   "source": [
    "On the homogeneous solution\n",
    "\n",
    "N= 2\n",
    "\n",
    "$$\n",
    "Ηeye =\\frac{k-1}{k-τ}\\frac{k-2τ}{τ}\n",
    "$$\n",
    "$$\n",
    "Ηout = \\frac{k-1}{k-τ}\\frac{k}{τ}\n",
    "$$"
   ]
  },
  {
   "cell_type": "code",
   "execution_count": 41,
   "metadata": {},
   "outputs": [
    {
     "data": {
      "text/latex": [
       "$\\displaystyle - \\frac{k - \\frac{τ}{-1 + \\frac{τ - 1}{k - 1}} - 1}{\\left(-1 + \\frac{τ - 1}{k - 1}\\right)^{2}} + \\frac{\\left(1 - \\frac{τ - 1}{k - 1}\\right) \\left(\\frac{τ}{\\left(1 - \\frac{τ - 1}{k - 1}\\right)^{2}} + \\frac{k - 1}{1 - \\frac{τ - 1}{k - 1}}\\right)^{2}}{N τ}$"
      ],
      "text/plain": [
       "-(k - τ/(-1 + (τ - 1)/(k - 1)) - 1)/(-1 + (τ - 1)/(k - 1))**2 + (1 - (τ - 1)/(k - 1))*(τ/(1 - (τ - 1)/(k - 1))**2 + (k - 1)/(1 - (τ - 1)/(k - 1)))**2/(N*τ)"
      ]
     },
     "execution_count": 41,
     "metadata": {},
     "output_type": "execute_result"
    }
   ],
   "source": [
    "(s(α).diff(α)**2 / (N*s(α)) - s(α).diff(α, 2)/2 ).subs({α: _α0})"
   ]
  },
  {
   "cell_type": "code",
   "execution_count": 42,
   "metadata": {},
   "outputs": [],
   "source": [
    "_hstability = ( s(α).diff(α)**2 / (N*s(α)) - s(α).diff(α, 2)/2 ).subs({α: _α0})\n",
    "hstability = sp.lambdify((τ, N, k), _hstability, 'numpy')\n"
   ]
  },
  {
   "cell_type": "code",
   "execution_count": 43,
   "metadata": {},
   "outputs": [
    {
     "data": {
      "text/plain": [
       "[<matplotlib.lines.Line2D at 0x1473d52e0>]"
      ]
     },
     "execution_count": 43,
     "metadata": {},
     "output_type": "execute_result"
    },
    {
     "ename": "FileNotFoundError",
     "evalue": "missing font metrics file: cmr17",
     "output_type": "error",
     "traceback": [
      "\u001b[0;31m---------------------------------------------------------------------------\u001b[0m",
      "\u001b[0;31mFileNotFoundError\u001b[0m                         Traceback (most recent call last)",
      "File \u001b[0;32m/opt/homebrew/lib/python3.9/site-packages/IPython/core/formatters.py:339\u001b[0m, in \u001b[0;36mBaseFormatter.__call__\u001b[0;34m(self, obj)\u001b[0m\n\u001b[1;32m    <a href='file:///opt/homebrew/lib/python3.9/site-packages/IPython/core/formatters.py?line=336'>337</a>\u001b[0m     \u001b[39mpass\u001b[39;00m\n\u001b[1;32m    <a href='file:///opt/homebrew/lib/python3.9/site-packages/IPython/core/formatters.py?line=337'>338</a>\u001b[0m \u001b[39melse\u001b[39;00m:\n\u001b[0;32m--> <a href='file:///opt/homebrew/lib/python3.9/site-packages/IPython/core/formatters.py?line=338'>339</a>\u001b[0m     \u001b[39mreturn\u001b[39;00m printer(obj)\n\u001b[1;32m    <a href='file:///opt/homebrew/lib/python3.9/site-packages/IPython/core/formatters.py?line=339'>340</a>\u001b[0m \u001b[39m# Finally look for special method names\u001b[39;00m\n\u001b[1;32m    <a href='file:///opt/homebrew/lib/python3.9/site-packages/IPython/core/formatters.py?line=340'>341</a>\u001b[0m method \u001b[39m=\u001b[39m get_real_method(obj, \u001b[39mself\u001b[39m\u001b[39m.\u001b[39mprint_method)\n",
      "File \u001b[0;32m/opt/homebrew/lib/python3.9/site-packages/IPython/core/pylabtools.py:151\u001b[0m, in \u001b[0;36mprint_figure\u001b[0;34m(fig, fmt, bbox_inches, base64, **kwargs)\u001b[0m\n\u001b[1;32m    <a href='file:///opt/homebrew/lib/python3.9/site-packages/IPython/core/pylabtools.py?line=147'>148</a>\u001b[0m     \u001b[39mfrom\u001b[39;00m \u001b[39mmatplotlib\u001b[39;00m\u001b[39m.\u001b[39;00m\u001b[39mbackend_bases\u001b[39;00m \u001b[39mimport\u001b[39;00m FigureCanvasBase\n\u001b[1;32m    <a href='file:///opt/homebrew/lib/python3.9/site-packages/IPython/core/pylabtools.py?line=148'>149</a>\u001b[0m     FigureCanvasBase(fig)\n\u001b[0;32m--> <a href='file:///opt/homebrew/lib/python3.9/site-packages/IPython/core/pylabtools.py?line=150'>151</a>\u001b[0m fig\u001b[39m.\u001b[39;49mcanvas\u001b[39m.\u001b[39;49mprint_figure(bytes_io, \u001b[39m*\u001b[39;49m\u001b[39m*\u001b[39;49mkw)\n\u001b[1;32m    <a href='file:///opt/homebrew/lib/python3.9/site-packages/IPython/core/pylabtools.py?line=151'>152</a>\u001b[0m data \u001b[39m=\u001b[39m bytes_io\u001b[39m.\u001b[39mgetvalue()\n\u001b[1;32m    <a href='file:///opt/homebrew/lib/python3.9/site-packages/IPython/core/pylabtools.py?line=152'>153</a>\u001b[0m \u001b[39mif\u001b[39;00m fmt \u001b[39m==\u001b[39m \u001b[39m'\u001b[39m\u001b[39msvg\u001b[39m\u001b[39m'\u001b[39m:\n",
      "File \u001b[0;32m/opt/homebrew/lib/python3.9/site-packages/matplotlib/backend_bases.py:2295\u001b[0m, in \u001b[0;36mFigureCanvasBase.print_figure\u001b[0;34m(self, filename, dpi, facecolor, edgecolor, orientation, format, bbox_inches, pad_inches, bbox_extra_artists, backend, **kwargs)\u001b[0m\n\u001b[1;32m   <a href='file:///opt/homebrew/lib/python3.9/site-packages/matplotlib/backend_bases.py?line=2288'>2289</a>\u001b[0m     renderer \u001b[39m=\u001b[39m _get_renderer(\n\u001b[1;32m   <a href='file:///opt/homebrew/lib/python3.9/site-packages/matplotlib/backend_bases.py?line=2289'>2290</a>\u001b[0m         \u001b[39mself\u001b[39m\u001b[39m.\u001b[39mfigure,\n\u001b[1;32m   <a href='file:///opt/homebrew/lib/python3.9/site-packages/matplotlib/backend_bases.py?line=2290'>2291</a>\u001b[0m         functools\u001b[39m.\u001b[39mpartial(\n\u001b[1;32m   <a href='file:///opt/homebrew/lib/python3.9/site-packages/matplotlib/backend_bases.py?line=2291'>2292</a>\u001b[0m             print_method, orientation\u001b[39m=\u001b[39morientation)\n\u001b[1;32m   <a href='file:///opt/homebrew/lib/python3.9/site-packages/matplotlib/backend_bases.py?line=2292'>2293</a>\u001b[0m     )\n\u001b[1;32m   <a href='file:///opt/homebrew/lib/python3.9/site-packages/matplotlib/backend_bases.py?line=2293'>2294</a>\u001b[0m     \u001b[39mwith\u001b[39;00m \u001b[39mgetattr\u001b[39m(renderer, \u001b[39m\"\u001b[39m\u001b[39m_draw_disabled\u001b[39m\u001b[39m\"\u001b[39m, nullcontext)():\n\u001b[0;32m-> <a href='file:///opt/homebrew/lib/python3.9/site-packages/matplotlib/backend_bases.py?line=2294'>2295</a>\u001b[0m         \u001b[39mself\u001b[39;49m\u001b[39m.\u001b[39;49mfigure\u001b[39m.\u001b[39;49mdraw(renderer)\n\u001b[1;32m   <a href='file:///opt/homebrew/lib/python3.9/site-packages/matplotlib/backend_bases.py?line=2296'>2297</a>\u001b[0m \u001b[39mif\u001b[39;00m bbox_inches:\n\u001b[1;32m   <a href='file:///opt/homebrew/lib/python3.9/site-packages/matplotlib/backend_bases.py?line=2297'>2298</a>\u001b[0m     \u001b[39mif\u001b[39;00m bbox_inches \u001b[39m==\u001b[39m \u001b[39m\"\u001b[39m\u001b[39mtight\u001b[39m\u001b[39m\"\u001b[39m:\n",
      "File \u001b[0;32m/opt/homebrew/lib/python3.9/site-packages/matplotlib/artist.py:73\u001b[0m, in \u001b[0;36m_finalize_rasterization.<locals>.draw_wrapper\u001b[0;34m(artist, renderer, *args, **kwargs)\u001b[0m\n\u001b[1;32m     <a href='file:///opt/homebrew/lib/python3.9/site-packages/matplotlib/artist.py?line=70'>71</a>\u001b[0m \u001b[39m@wraps\u001b[39m(draw)\n\u001b[1;32m     <a href='file:///opt/homebrew/lib/python3.9/site-packages/matplotlib/artist.py?line=71'>72</a>\u001b[0m \u001b[39mdef\u001b[39;00m \u001b[39mdraw_wrapper\u001b[39m(artist, renderer, \u001b[39m*\u001b[39margs, \u001b[39m*\u001b[39m\u001b[39m*\u001b[39mkwargs):\n\u001b[0;32m---> <a href='file:///opt/homebrew/lib/python3.9/site-packages/matplotlib/artist.py?line=72'>73</a>\u001b[0m     result \u001b[39m=\u001b[39m draw(artist, renderer, \u001b[39m*\u001b[39;49margs, \u001b[39m*\u001b[39;49m\u001b[39m*\u001b[39;49mkwargs)\n\u001b[1;32m     <a href='file:///opt/homebrew/lib/python3.9/site-packages/matplotlib/artist.py?line=73'>74</a>\u001b[0m     \u001b[39mif\u001b[39;00m renderer\u001b[39m.\u001b[39m_rasterizing:\n\u001b[1;32m     <a href='file:///opt/homebrew/lib/python3.9/site-packages/matplotlib/artist.py?line=74'>75</a>\u001b[0m         renderer\u001b[39m.\u001b[39mstop_rasterizing()\n",
      "File \u001b[0;32m/opt/homebrew/lib/python3.9/site-packages/matplotlib/artist.py:50\u001b[0m, in \u001b[0;36mallow_rasterization.<locals>.draw_wrapper\u001b[0;34m(artist, renderer)\u001b[0m\n\u001b[1;32m     <a href='file:///opt/homebrew/lib/python3.9/site-packages/matplotlib/artist.py?line=46'>47</a>\u001b[0m     \u001b[39mif\u001b[39;00m artist\u001b[39m.\u001b[39mget_agg_filter() \u001b[39mis\u001b[39;00m \u001b[39mnot\u001b[39;00m \u001b[39mNone\u001b[39;00m:\n\u001b[1;32m     <a href='file:///opt/homebrew/lib/python3.9/site-packages/matplotlib/artist.py?line=47'>48</a>\u001b[0m         renderer\u001b[39m.\u001b[39mstart_filter()\n\u001b[0;32m---> <a href='file:///opt/homebrew/lib/python3.9/site-packages/matplotlib/artist.py?line=49'>50</a>\u001b[0m     \u001b[39mreturn\u001b[39;00m draw(artist, renderer)\n\u001b[1;32m     <a href='file:///opt/homebrew/lib/python3.9/site-packages/matplotlib/artist.py?line=50'>51</a>\u001b[0m \u001b[39mfinally\u001b[39;00m:\n\u001b[1;32m     <a href='file:///opt/homebrew/lib/python3.9/site-packages/matplotlib/artist.py?line=51'>52</a>\u001b[0m     \u001b[39mif\u001b[39;00m artist\u001b[39m.\u001b[39mget_agg_filter() \u001b[39mis\u001b[39;00m \u001b[39mnot\u001b[39;00m \u001b[39mNone\u001b[39;00m:\n",
      "File \u001b[0;32m/opt/homebrew/lib/python3.9/site-packages/matplotlib/figure.py:2810\u001b[0m, in \u001b[0;36mFigure.draw\u001b[0;34m(self, renderer)\u001b[0m\n\u001b[1;32m   <a href='file:///opt/homebrew/lib/python3.9/site-packages/matplotlib/figure.py?line=2806'>2807</a>\u001b[0m         \u001b[39m# ValueError can occur when resizing a window.\u001b[39;00m\n\u001b[1;32m   <a href='file:///opt/homebrew/lib/python3.9/site-packages/matplotlib/figure.py?line=2808'>2809</a>\u001b[0m \u001b[39mself\u001b[39m\u001b[39m.\u001b[39mpatch\u001b[39m.\u001b[39mdraw(renderer)\n\u001b[0;32m-> <a href='file:///opt/homebrew/lib/python3.9/site-packages/matplotlib/figure.py?line=2809'>2810</a>\u001b[0m mimage\u001b[39m.\u001b[39;49m_draw_list_compositing_images(\n\u001b[1;32m   <a href='file:///opt/homebrew/lib/python3.9/site-packages/matplotlib/figure.py?line=2810'>2811</a>\u001b[0m     renderer, \u001b[39mself\u001b[39;49m, artists, \u001b[39mself\u001b[39;49m\u001b[39m.\u001b[39;49msuppressComposite)\n\u001b[1;32m   <a href='file:///opt/homebrew/lib/python3.9/site-packages/matplotlib/figure.py?line=2812'>2813</a>\u001b[0m \u001b[39mfor\u001b[39;00m sfig \u001b[39min\u001b[39;00m \u001b[39mself\u001b[39m\u001b[39m.\u001b[39msubfigs:\n\u001b[1;32m   <a href='file:///opt/homebrew/lib/python3.9/site-packages/matplotlib/figure.py?line=2813'>2814</a>\u001b[0m     sfig\u001b[39m.\u001b[39mdraw(renderer)\n",
      "File \u001b[0;32m/opt/homebrew/lib/python3.9/site-packages/matplotlib/image.py:132\u001b[0m, in \u001b[0;36m_draw_list_compositing_images\u001b[0;34m(renderer, parent, artists, suppress_composite)\u001b[0m\n\u001b[1;32m    <a href='file:///opt/homebrew/lib/python3.9/site-packages/matplotlib/image.py?line=129'>130</a>\u001b[0m \u001b[39mif\u001b[39;00m not_composite \u001b[39mor\u001b[39;00m \u001b[39mnot\u001b[39;00m has_images:\n\u001b[1;32m    <a href='file:///opt/homebrew/lib/python3.9/site-packages/matplotlib/image.py?line=130'>131</a>\u001b[0m     \u001b[39mfor\u001b[39;00m a \u001b[39min\u001b[39;00m artists:\n\u001b[0;32m--> <a href='file:///opt/homebrew/lib/python3.9/site-packages/matplotlib/image.py?line=131'>132</a>\u001b[0m         a\u001b[39m.\u001b[39;49mdraw(renderer)\n\u001b[1;32m    <a href='file:///opt/homebrew/lib/python3.9/site-packages/matplotlib/image.py?line=132'>133</a>\u001b[0m \u001b[39melse\u001b[39;00m:\n\u001b[1;32m    <a href='file:///opt/homebrew/lib/python3.9/site-packages/matplotlib/image.py?line=133'>134</a>\u001b[0m     \u001b[39m# Composite any adjacent images together\u001b[39;00m\n\u001b[1;32m    <a href='file:///opt/homebrew/lib/python3.9/site-packages/matplotlib/image.py?line=134'>135</a>\u001b[0m     image_group \u001b[39m=\u001b[39m []\n",
      "File \u001b[0;32m/opt/homebrew/lib/python3.9/site-packages/matplotlib/artist.py:50\u001b[0m, in \u001b[0;36mallow_rasterization.<locals>.draw_wrapper\u001b[0;34m(artist, renderer)\u001b[0m\n\u001b[1;32m     <a href='file:///opt/homebrew/lib/python3.9/site-packages/matplotlib/artist.py?line=46'>47</a>\u001b[0m     \u001b[39mif\u001b[39;00m artist\u001b[39m.\u001b[39mget_agg_filter() \u001b[39mis\u001b[39;00m \u001b[39mnot\u001b[39;00m \u001b[39mNone\u001b[39;00m:\n\u001b[1;32m     <a href='file:///opt/homebrew/lib/python3.9/site-packages/matplotlib/artist.py?line=47'>48</a>\u001b[0m         renderer\u001b[39m.\u001b[39mstart_filter()\n\u001b[0;32m---> <a href='file:///opt/homebrew/lib/python3.9/site-packages/matplotlib/artist.py?line=49'>50</a>\u001b[0m     \u001b[39mreturn\u001b[39;00m draw(artist, renderer)\n\u001b[1;32m     <a href='file:///opt/homebrew/lib/python3.9/site-packages/matplotlib/artist.py?line=50'>51</a>\u001b[0m \u001b[39mfinally\u001b[39;00m:\n\u001b[1;32m     <a href='file:///opt/homebrew/lib/python3.9/site-packages/matplotlib/artist.py?line=51'>52</a>\u001b[0m     \u001b[39mif\u001b[39;00m artist\u001b[39m.\u001b[39mget_agg_filter() \u001b[39mis\u001b[39;00m \u001b[39mnot\u001b[39;00m \u001b[39mNone\u001b[39;00m:\n",
      "File \u001b[0;32m/opt/homebrew/lib/python3.9/site-packages/matplotlib/axes/_base.py:3082\u001b[0m, in \u001b[0;36m_AxesBase.draw\u001b[0;34m(self, renderer)\u001b[0m\n\u001b[1;32m   <a href='file:///opt/homebrew/lib/python3.9/site-packages/matplotlib/axes/_base.py?line=3078'>3079</a>\u001b[0m         a\u001b[39m.\u001b[39mdraw(renderer)\n\u001b[1;32m   <a href='file:///opt/homebrew/lib/python3.9/site-packages/matplotlib/axes/_base.py?line=3079'>3080</a>\u001b[0m     renderer\u001b[39m.\u001b[39mstop_rasterizing()\n\u001b[0;32m-> <a href='file:///opt/homebrew/lib/python3.9/site-packages/matplotlib/axes/_base.py?line=3081'>3082</a>\u001b[0m mimage\u001b[39m.\u001b[39;49m_draw_list_compositing_images(\n\u001b[1;32m   <a href='file:///opt/homebrew/lib/python3.9/site-packages/matplotlib/axes/_base.py?line=3082'>3083</a>\u001b[0m     renderer, \u001b[39mself\u001b[39;49m, artists, \u001b[39mself\u001b[39;49m\u001b[39m.\u001b[39;49mfigure\u001b[39m.\u001b[39;49msuppressComposite)\n\u001b[1;32m   <a href='file:///opt/homebrew/lib/python3.9/site-packages/matplotlib/axes/_base.py?line=3084'>3085</a>\u001b[0m renderer\u001b[39m.\u001b[39mclose_group(\u001b[39m'\u001b[39m\u001b[39maxes\u001b[39m\u001b[39m'\u001b[39m)\n\u001b[1;32m   <a href='file:///opt/homebrew/lib/python3.9/site-packages/matplotlib/axes/_base.py?line=3085'>3086</a>\u001b[0m \u001b[39mself\u001b[39m\u001b[39m.\u001b[39mstale \u001b[39m=\u001b[39m \u001b[39mFalse\u001b[39;00m\n",
      "File \u001b[0;32m/opt/homebrew/lib/python3.9/site-packages/matplotlib/image.py:132\u001b[0m, in \u001b[0;36m_draw_list_compositing_images\u001b[0;34m(renderer, parent, artists, suppress_composite)\u001b[0m\n\u001b[1;32m    <a href='file:///opt/homebrew/lib/python3.9/site-packages/matplotlib/image.py?line=129'>130</a>\u001b[0m \u001b[39mif\u001b[39;00m not_composite \u001b[39mor\u001b[39;00m \u001b[39mnot\u001b[39;00m has_images:\n\u001b[1;32m    <a href='file:///opt/homebrew/lib/python3.9/site-packages/matplotlib/image.py?line=130'>131</a>\u001b[0m     \u001b[39mfor\u001b[39;00m a \u001b[39min\u001b[39;00m artists:\n\u001b[0;32m--> <a href='file:///opt/homebrew/lib/python3.9/site-packages/matplotlib/image.py?line=131'>132</a>\u001b[0m         a\u001b[39m.\u001b[39;49mdraw(renderer)\n\u001b[1;32m    <a href='file:///opt/homebrew/lib/python3.9/site-packages/matplotlib/image.py?line=132'>133</a>\u001b[0m \u001b[39melse\u001b[39;00m:\n\u001b[1;32m    <a href='file:///opt/homebrew/lib/python3.9/site-packages/matplotlib/image.py?line=133'>134</a>\u001b[0m     \u001b[39m# Composite any adjacent images together\u001b[39;00m\n\u001b[1;32m    <a href='file:///opt/homebrew/lib/python3.9/site-packages/matplotlib/image.py?line=134'>135</a>\u001b[0m     image_group \u001b[39m=\u001b[39m []\n",
      "File \u001b[0;32m/opt/homebrew/lib/python3.9/site-packages/matplotlib/artist.py:50\u001b[0m, in \u001b[0;36mallow_rasterization.<locals>.draw_wrapper\u001b[0;34m(artist, renderer)\u001b[0m\n\u001b[1;32m     <a href='file:///opt/homebrew/lib/python3.9/site-packages/matplotlib/artist.py?line=46'>47</a>\u001b[0m     \u001b[39mif\u001b[39;00m artist\u001b[39m.\u001b[39mget_agg_filter() \u001b[39mis\u001b[39;00m \u001b[39mnot\u001b[39;00m \u001b[39mNone\u001b[39;00m:\n\u001b[1;32m     <a href='file:///opt/homebrew/lib/python3.9/site-packages/matplotlib/artist.py?line=47'>48</a>\u001b[0m         renderer\u001b[39m.\u001b[39mstart_filter()\n\u001b[0;32m---> <a href='file:///opt/homebrew/lib/python3.9/site-packages/matplotlib/artist.py?line=49'>50</a>\u001b[0m     \u001b[39mreturn\u001b[39;00m draw(artist, renderer)\n\u001b[1;32m     <a href='file:///opt/homebrew/lib/python3.9/site-packages/matplotlib/artist.py?line=50'>51</a>\u001b[0m \u001b[39mfinally\u001b[39;00m:\n\u001b[1;32m     <a href='file:///opt/homebrew/lib/python3.9/site-packages/matplotlib/artist.py?line=51'>52</a>\u001b[0m     \u001b[39mif\u001b[39;00m artist\u001b[39m.\u001b[39mget_agg_filter() \u001b[39mis\u001b[39;00m \u001b[39mnot\u001b[39;00m \u001b[39mNone\u001b[39;00m:\n",
      "File \u001b[0;32m/opt/homebrew/lib/python3.9/site-packages/matplotlib/axis.py:1159\u001b[0m, in \u001b[0;36mAxis.draw\u001b[0;34m(self, renderer, *args, **kwargs)\u001b[0m\n\u001b[1;32m   <a href='file:///opt/homebrew/lib/python3.9/site-packages/matplotlib/axis.py?line=1155'>1156</a>\u001b[0m renderer\u001b[39m.\u001b[39mopen_group(\u001b[39m__name__\u001b[39m, gid\u001b[39m=\u001b[39m\u001b[39mself\u001b[39m\u001b[39m.\u001b[39mget_gid())\n\u001b[1;32m   <a href='file:///opt/homebrew/lib/python3.9/site-packages/matplotlib/axis.py?line=1157'>1158</a>\u001b[0m ticks_to_draw \u001b[39m=\u001b[39m \u001b[39mself\u001b[39m\u001b[39m.\u001b[39m_update_ticks()\n\u001b[0;32m-> <a href='file:///opt/homebrew/lib/python3.9/site-packages/matplotlib/axis.py?line=1158'>1159</a>\u001b[0m ticklabelBoxes, ticklabelBoxes2 \u001b[39m=\u001b[39m \u001b[39mself\u001b[39;49m\u001b[39m.\u001b[39;49m_get_tick_bboxes(ticks_to_draw,\n\u001b[1;32m   <a href='file:///opt/homebrew/lib/python3.9/site-packages/matplotlib/axis.py?line=1159'>1160</a>\u001b[0m                                                         renderer)\n\u001b[1;32m   <a href='file:///opt/homebrew/lib/python3.9/site-packages/matplotlib/axis.py?line=1161'>1162</a>\u001b[0m \u001b[39mfor\u001b[39;00m tick \u001b[39min\u001b[39;00m ticks_to_draw:\n\u001b[1;32m   <a href='file:///opt/homebrew/lib/python3.9/site-packages/matplotlib/axis.py?line=1162'>1163</a>\u001b[0m     tick\u001b[39m.\u001b[39mdraw(renderer)\n",
      "File \u001b[0;32m/opt/homebrew/lib/python3.9/site-packages/matplotlib/axis.py:1085\u001b[0m, in \u001b[0;36mAxis._get_tick_bboxes\u001b[0;34m(self, ticks, renderer)\u001b[0m\n\u001b[1;32m   <a href='file:///opt/homebrew/lib/python3.9/site-packages/matplotlib/axis.py?line=1082'>1083</a>\u001b[0m \u001b[39mdef\u001b[39;00m \u001b[39m_get_tick_bboxes\u001b[39m(\u001b[39mself\u001b[39m, ticks, renderer):\n\u001b[1;32m   <a href='file:///opt/homebrew/lib/python3.9/site-packages/matplotlib/axis.py?line=1083'>1084</a>\u001b[0m     \u001b[39m\"\"\"Return lists of bboxes for ticks' label1's and label2's.\"\"\"\u001b[39;00m\n\u001b[0;32m-> <a href='file:///opt/homebrew/lib/python3.9/site-packages/matplotlib/axis.py?line=1084'>1085</a>\u001b[0m     \u001b[39mreturn\u001b[39;00m ([tick\u001b[39m.\u001b[39mlabel1\u001b[39m.\u001b[39mget_window_extent(renderer)\n\u001b[1;32m   <a href='file:///opt/homebrew/lib/python3.9/site-packages/matplotlib/axis.py?line=1085'>1086</a>\u001b[0m              \u001b[39mfor\u001b[39;00m tick \u001b[39min\u001b[39;00m ticks \u001b[39mif\u001b[39;00m tick\u001b[39m.\u001b[39mlabel1\u001b[39m.\u001b[39mget_visible()],\n\u001b[1;32m   <a href='file:///opt/homebrew/lib/python3.9/site-packages/matplotlib/axis.py?line=1086'>1087</a>\u001b[0m             [tick\u001b[39m.\u001b[39mlabel2\u001b[39m.\u001b[39mget_window_extent(renderer)\n\u001b[1;32m   <a href='file:///opt/homebrew/lib/python3.9/site-packages/matplotlib/axis.py?line=1087'>1088</a>\u001b[0m              \u001b[39mfor\u001b[39;00m tick \u001b[39min\u001b[39;00m ticks \u001b[39mif\u001b[39;00m tick\u001b[39m.\u001b[39mlabel2\u001b[39m.\u001b[39mget_visible()])\n",
      "File \u001b[0;32m/opt/homebrew/lib/python3.9/site-packages/matplotlib/axis.py:1085\u001b[0m, in \u001b[0;36m<listcomp>\u001b[0;34m(.0)\u001b[0m\n\u001b[1;32m   <a href='file:///opt/homebrew/lib/python3.9/site-packages/matplotlib/axis.py?line=1082'>1083</a>\u001b[0m \u001b[39mdef\u001b[39;00m \u001b[39m_get_tick_bboxes\u001b[39m(\u001b[39mself\u001b[39m, ticks, renderer):\n\u001b[1;32m   <a href='file:///opt/homebrew/lib/python3.9/site-packages/matplotlib/axis.py?line=1083'>1084</a>\u001b[0m     \u001b[39m\"\"\"Return lists of bboxes for ticks' label1's and label2's.\"\"\"\u001b[39;00m\n\u001b[0;32m-> <a href='file:///opt/homebrew/lib/python3.9/site-packages/matplotlib/axis.py?line=1084'>1085</a>\u001b[0m     \u001b[39mreturn\u001b[39;00m ([tick\u001b[39m.\u001b[39;49mlabel1\u001b[39m.\u001b[39;49mget_window_extent(renderer)\n\u001b[1;32m   <a href='file:///opt/homebrew/lib/python3.9/site-packages/matplotlib/axis.py?line=1085'>1086</a>\u001b[0m              \u001b[39mfor\u001b[39;00m tick \u001b[39min\u001b[39;00m ticks \u001b[39mif\u001b[39;00m tick\u001b[39m.\u001b[39mlabel1\u001b[39m.\u001b[39mget_visible()],\n\u001b[1;32m   <a href='file:///opt/homebrew/lib/python3.9/site-packages/matplotlib/axis.py?line=1086'>1087</a>\u001b[0m             [tick\u001b[39m.\u001b[39mlabel2\u001b[39m.\u001b[39mget_window_extent(renderer)\n\u001b[1;32m   <a href='file:///opt/homebrew/lib/python3.9/site-packages/matplotlib/axis.py?line=1087'>1088</a>\u001b[0m              \u001b[39mfor\u001b[39;00m tick \u001b[39min\u001b[39;00m ticks \u001b[39mif\u001b[39;00m tick\u001b[39m.\u001b[39mlabel2\u001b[39m.\u001b[39mget_visible()])\n",
      "File \u001b[0;32m/opt/homebrew/lib/python3.9/site-packages/matplotlib/text.py:910\u001b[0m, in \u001b[0;36mText.get_window_extent\u001b[0;34m(self, renderer, dpi)\u001b[0m\n\u001b[1;32m    <a href='file:///opt/homebrew/lib/python3.9/site-packages/matplotlib/text.py?line=906'>907</a>\u001b[0m     \u001b[39mraise\u001b[39;00m \u001b[39mRuntimeError\u001b[39;00m(\u001b[39m'\u001b[39m\u001b[39mCannot get window extent w/o renderer\u001b[39m\u001b[39m'\u001b[39m)\n\u001b[1;32m    <a href='file:///opt/homebrew/lib/python3.9/site-packages/matplotlib/text.py?line=908'>909</a>\u001b[0m \u001b[39mwith\u001b[39;00m cbook\u001b[39m.\u001b[39m_setattr_cm(\u001b[39mself\u001b[39m\u001b[39m.\u001b[39mfigure, dpi\u001b[39m=\u001b[39mdpi):\n\u001b[0;32m--> <a href='file:///opt/homebrew/lib/python3.9/site-packages/matplotlib/text.py?line=909'>910</a>\u001b[0m     bbox, info, descent \u001b[39m=\u001b[39m \u001b[39mself\u001b[39;49m\u001b[39m.\u001b[39;49m_get_layout(\u001b[39mself\u001b[39;49m\u001b[39m.\u001b[39;49m_renderer)\n\u001b[1;32m    <a href='file:///opt/homebrew/lib/python3.9/site-packages/matplotlib/text.py?line=910'>911</a>\u001b[0m     x, y \u001b[39m=\u001b[39m \u001b[39mself\u001b[39m\u001b[39m.\u001b[39mget_unitless_position()\n\u001b[1;32m    <a href='file:///opt/homebrew/lib/python3.9/site-packages/matplotlib/text.py?line=911'>912</a>\u001b[0m     x, y \u001b[39m=\u001b[39m \u001b[39mself\u001b[39m\u001b[39m.\u001b[39mget_transform()\u001b[39m.\u001b[39mtransform((x, y))\n",
      "File \u001b[0;32m/opt/homebrew/lib/python3.9/site-packages/matplotlib/text.py:309\u001b[0m, in \u001b[0;36mText._get_layout\u001b[0;34m(self, renderer)\u001b[0m\n\u001b[1;32m    <a href='file:///opt/homebrew/lib/python3.9/site-packages/matplotlib/text.py?line=305'>306</a>\u001b[0m ys \u001b[39m=\u001b[39m []\n\u001b[1;32m    <a href='file:///opt/homebrew/lib/python3.9/site-packages/matplotlib/text.py?line=307'>308</a>\u001b[0m \u001b[39m# Full vertical extent of font, including ascenders and descenders:\u001b[39;00m\n\u001b[0;32m--> <a href='file:///opt/homebrew/lib/python3.9/site-packages/matplotlib/text.py?line=308'>309</a>\u001b[0m _, lp_h, lp_d \u001b[39m=\u001b[39m renderer\u001b[39m.\u001b[39;49mget_text_width_height_descent(\n\u001b[1;32m    <a href='file:///opt/homebrew/lib/python3.9/site-packages/matplotlib/text.py?line=309'>310</a>\u001b[0m     \u001b[39m\"\u001b[39;49m\u001b[39mlp\u001b[39;49m\u001b[39m\"\u001b[39;49m, \u001b[39mself\u001b[39;49m\u001b[39m.\u001b[39;49m_fontproperties,\n\u001b[1;32m    <a href='file:///opt/homebrew/lib/python3.9/site-packages/matplotlib/text.py?line=310'>311</a>\u001b[0m     ismath\u001b[39m=\u001b[39;49m\u001b[39m\"\u001b[39;49m\u001b[39mTeX\u001b[39;49m\u001b[39m\"\u001b[39;49m \u001b[39mif\u001b[39;49;00m \u001b[39mself\u001b[39;49m\u001b[39m.\u001b[39;49mget_usetex() \u001b[39melse\u001b[39;49;00m \u001b[39mFalse\u001b[39;49;00m)\n\u001b[1;32m    <a href='file:///opt/homebrew/lib/python3.9/site-packages/matplotlib/text.py?line=311'>312</a>\u001b[0m min_dy \u001b[39m=\u001b[39m (lp_h \u001b[39m-\u001b[39m lp_d) \u001b[39m*\u001b[39m \u001b[39mself\u001b[39m\u001b[39m.\u001b[39m_linespacing\n\u001b[1;32m    <a href='file:///opt/homebrew/lib/python3.9/site-packages/matplotlib/text.py?line=313'>314</a>\u001b[0m \u001b[39mfor\u001b[39;00m i, line \u001b[39min\u001b[39;00m \u001b[39menumerate\u001b[39m(lines):\n",
      "File \u001b[0;32m/opt/homebrew/lib/python3.9/site-packages/matplotlib/backends/backend_agg.py:259\u001b[0m, in \u001b[0;36mRendererAgg.get_text_width_height_descent\u001b[0;34m(self, s, prop, ismath)\u001b[0m\n\u001b[1;32m    <a href='file:///opt/homebrew/lib/python3.9/site-packages/matplotlib/backends/backend_agg.py?line=256'>257</a>\u001b[0m     texmanager \u001b[39m=\u001b[39m \u001b[39mself\u001b[39m\u001b[39m.\u001b[39mget_texmanager()\n\u001b[1;32m    <a href='file:///opt/homebrew/lib/python3.9/site-packages/matplotlib/backends/backend_agg.py?line=257'>258</a>\u001b[0m     fontsize \u001b[39m=\u001b[39m prop\u001b[39m.\u001b[39mget_size_in_points()\n\u001b[0;32m--> <a href='file:///opt/homebrew/lib/python3.9/site-packages/matplotlib/backends/backend_agg.py?line=258'>259</a>\u001b[0m     w, h, d \u001b[39m=\u001b[39m texmanager\u001b[39m.\u001b[39;49mget_text_width_height_descent(\n\u001b[1;32m    <a href='file:///opt/homebrew/lib/python3.9/site-packages/matplotlib/backends/backend_agg.py?line=259'>260</a>\u001b[0m         s, fontsize, renderer\u001b[39m=\u001b[39;49m\u001b[39mself\u001b[39;49m)\n\u001b[1;32m    <a href='file:///opt/homebrew/lib/python3.9/site-packages/matplotlib/backends/backend_agg.py?line=260'>261</a>\u001b[0m     \u001b[39mreturn\u001b[39;00m w, h, d\n\u001b[1;32m    <a href='file:///opt/homebrew/lib/python3.9/site-packages/matplotlib/backends/backend_agg.py?line=262'>263</a>\u001b[0m \u001b[39mif\u001b[39;00m ismath:\n",
      "File \u001b[0;32m/opt/homebrew/lib/python3.9/site-packages/matplotlib/texmanager.py:338\u001b[0m, in \u001b[0;36mTexManager.get_text_width_height_descent\u001b[0;34m(self, tex, fontsize, renderer)\u001b[0m\n\u001b[1;32m    <a href='file:///opt/homebrew/lib/python3.9/site-packages/matplotlib/texmanager.py?line=335'>336</a>\u001b[0m dpi_fraction \u001b[39m=\u001b[39m renderer\u001b[39m.\u001b[39mpoints_to_pixels(\u001b[39m1.\u001b[39m) \u001b[39mif\u001b[39;00m renderer \u001b[39melse\u001b[39;00m \u001b[39m1\u001b[39m\n\u001b[1;32m    <a href='file:///opt/homebrew/lib/python3.9/site-packages/matplotlib/texmanager.py?line=336'>337</a>\u001b[0m \u001b[39mwith\u001b[39;00m dviread\u001b[39m.\u001b[39mDvi(dvifile, \u001b[39m72\u001b[39m \u001b[39m*\u001b[39m dpi_fraction) \u001b[39mas\u001b[39;00m dvi:\n\u001b[0;32m--> <a href='file:///opt/homebrew/lib/python3.9/site-packages/matplotlib/texmanager.py?line=337'>338</a>\u001b[0m     page, \u001b[39m=\u001b[39m dvi\n\u001b[1;32m    <a href='file:///opt/homebrew/lib/python3.9/site-packages/matplotlib/texmanager.py?line=338'>339</a>\u001b[0m \u001b[39m# A total height (including the descent) needs to be returned.\u001b[39;00m\n\u001b[1;32m    <a href='file:///opt/homebrew/lib/python3.9/site-packages/matplotlib/texmanager.py?line=339'>340</a>\u001b[0m \u001b[39mreturn\u001b[39;00m page\u001b[39m.\u001b[39mwidth, page\u001b[39m.\u001b[39mheight \u001b[39m+\u001b[39m page\u001b[39m.\u001b[39mdescent, page\u001b[39m.\u001b[39mdescent\n",
      "File \u001b[0;32m/opt/homebrew/lib/python3.9/site-packages/matplotlib/dviread.py:237\u001b[0m, in \u001b[0;36mDvi.__iter__\u001b[0;34m(self)\u001b[0m\n\u001b[1;32m    <a href='file:///opt/homebrew/lib/python3.9/site-packages/matplotlib/dviread.py?line=220'>221</a>\u001b[0m \u001b[39mdef\u001b[39;00m \u001b[39m__iter__\u001b[39m(\u001b[39mself\u001b[39m):\n\u001b[1;32m    <a href='file:///opt/homebrew/lib/python3.9/site-packages/matplotlib/dviread.py?line=221'>222</a>\u001b[0m     \u001b[39m\"\"\"\u001b[39;00m\n\u001b[1;32m    <a href='file:///opt/homebrew/lib/python3.9/site-packages/matplotlib/dviread.py?line=222'>223</a>\u001b[0m \u001b[39m    Iterate through the pages of the file.\u001b[39;00m\n\u001b[1;32m    <a href='file:///opt/homebrew/lib/python3.9/site-packages/matplotlib/dviread.py?line=223'>224</a>\u001b[0m \n\u001b[0;32m   (...)\u001b[0m\n\u001b[1;32m    <a href='file:///opt/homebrew/lib/python3.9/site-packages/matplotlib/dviread.py?line=234'>235</a>\u001b[0m \u001b[39m        integers.\u001b[39;00m\n\u001b[1;32m    <a href='file:///opt/homebrew/lib/python3.9/site-packages/matplotlib/dviread.py?line=235'>236</a>\u001b[0m \u001b[39m    \"\"\"\u001b[39;00m\n\u001b[0;32m--> <a href='file:///opt/homebrew/lib/python3.9/site-packages/matplotlib/dviread.py?line=236'>237</a>\u001b[0m     \u001b[39mwhile\u001b[39;00m \u001b[39mself\u001b[39;49m\u001b[39m.\u001b[39;49m_read():\n\u001b[1;32m    <a href='file:///opt/homebrew/lib/python3.9/site-packages/matplotlib/dviread.py?line=237'>238</a>\u001b[0m         \u001b[39myield\u001b[39;00m \u001b[39mself\u001b[39m\u001b[39m.\u001b[39m_output()\n",
      "File \u001b[0;32m/opt/homebrew/lib/python3.9/site-packages/matplotlib/dviread.py:316\u001b[0m, in \u001b[0;36mDvi._read\u001b[0;34m(self)\u001b[0m\n\u001b[1;32m    <a href='file:///opt/homebrew/lib/python3.9/site-packages/matplotlib/dviread.py?line=313'>314</a>\u001b[0m \u001b[39mwhile\u001b[39;00m \u001b[39mTrue\u001b[39;00m:\n\u001b[1;32m    <a href='file:///opt/homebrew/lib/python3.9/site-packages/matplotlib/dviread.py?line=314'>315</a>\u001b[0m     byte \u001b[39m=\u001b[39m \u001b[39mself\u001b[39m\u001b[39m.\u001b[39mfile\u001b[39m.\u001b[39mread(\u001b[39m1\u001b[39m)[\u001b[39m0\u001b[39m]\n\u001b[0;32m--> <a href='file:///opt/homebrew/lib/python3.9/site-packages/matplotlib/dviread.py?line=315'>316</a>\u001b[0m     \u001b[39mself\u001b[39;49m\u001b[39m.\u001b[39;49m_dtable[byte](\u001b[39mself\u001b[39;49m, byte)\n\u001b[1;32m    <a href='file:///opt/homebrew/lib/python3.9/site-packages/matplotlib/dviread.py?line=316'>317</a>\u001b[0m     name \u001b[39m=\u001b[39m \u001b[39mself\u001b[39m\u001b[39m.\u001b[39m_dtable[byte]\u001b[39m.\u001b[39m\u001b[39m__name__\u001b[39m\n\u001b[1;32m    <a href='file:///opt/homebrew/lib/python3.9/site-packages/matplotlib/dviread.py?line=317'>318</a>\u001b[0m     \u001b[39mif\u001b[39;00m name \u001b[39m==\u001b[39m \u001b[39m\"\u001b[39m\u001b[39m_push\u001b[39m\u001b[39m\"\u001b[39m:\n",
      "File \u001b[0;32m/opt/homebrew/lib/python3.9/site-packages/matplotlib/dviread.py:166\u001b[0m, in \u001b[0;36m_dispatch.<locals>.decorate.<locals>.wrapper\u001b[0;34m(self, byte)\u001b[0m\n\u001b[1;32m    <a href='file:///opt/homebrew/lib/python3.9/site-packages/matplotlib/dviread.py?line=163'>164</a>\u001b[0m \u001b[39mif\u001b[39;00m state \u001b[39mis\u001b[39;00m \u001b[39mnot\u001b[39;00m \u001b[39mNone\u001b[39;00m \u001b[39mand\u001b[39;00m \u001b[39mself\u001b[39m\u001b[39m.\u001b[39mstate \u001b[39m!=\u001b[39m state:\n\u001b[1;32m    <a href='file:///opt/homebrew/lib/python3.9/site-packages/matplotlib/dviread.py?line=164'>165</a>\u001b[0m     \u001b[39mraise\u001b[39;00m \u001b[39mValueError\u001b[39;00m(\u001b[39m\"\u001b[39m\u001b[39mstate precondition failed\u001b[39m\u001b[39m\"\u001b[39m)\n\u001b[0;32m--> <a href='file:///opt/homebrew/lib/python3.9/site-packages/matplotlib/dviread.py?line=165'>166</a>\u001b[0m \u001b[39mreturn\u001b[39;00m method(\u001b[39mself\u001b[39;49m, \u001b[39m*\u001b[39;49m[f(\u001b[39mself\u001b[39;49m, byte\u001b[39m-\u001b[39;49m\u001b[39mmin\u001b[39;49m) \u001b[39mfor\u001b[39;49;00m f \u001b[39min\u001b[39;49;00m get_args])\n",
      "File \u001b[0;32m/opt/homebrew/lib/python3.9/site-packages/matplotlib/dviread.py:467\u001b[0m, in \u001b[0;36mDvi._fnt_def\u001b[0;34m(self, k, c, s, d, a, l)\u001b[0m\n\u001b[1;32m    <a href='file:///opt/homebrew/lib/python3.9/site-packages/matplotlib/dviread.py?line=464'>465</a>\u001b[0m \u001b[39m@_dispatch\u001b[39m(\u001b[39mmin\u001b[39m\u001b[39m=\u001b[39m\u001b[39m243\u001b[39m, \u001b[39mmax\u001b[39m\u001b[39m=\u001b[39m\u001b[39m246\u001b[39m, args\u001b[39m=\u001b[39m(\u001b[39m'\u001b[39m\u001b[39molen1\u001b[39m\u001b[39m'\u001b[39m, \u001b[39m'\u001b[39m\u001b[39mu4\u001b[39m\u001b[39m'\u001b[39m, \u001b[39m'\u001b[39m\u001b[39mu4\u001b[39m\u001b[39m'\u001b[39m, \u001b[39m'\u001b[39m\u001b[39mu4\u001b[39m\u001b[39m'\u001b[39m, \u001b[39m'\u001b[39m\u001b[39mu1\u001b[39m\u001b[39m'\u001b[39m, \u001b[39m'\u001b[39m\u001b[39mu1\u001b[39m\u001b[39m'\u001b[39m))\n\u001b[1;32m    <a href='file:///opt/homebrew/lib/python3.9/site-packages/matplotlib/dviread.py?line=465'>466</a>\u001b[0m \u001b[39mdef\u001b[39;00m \u001b[39m_fnt_def\u001b[39m(\u001b[39mself\u001b[39m, k, c, s, d, a, l):\n\u001b[0;32m--> <a href='file:///opt/homebrew/lib/python3.9/site-packages/matplotlib/dviread.py?line=466'>467</a>\u001b[0m     \u001b[39mself\u001b[39;49m\u001b[39m.\u001b[39;49m_fnt_def_real(k, c, s, d, a, l)\n",
      "File \u001b[0;32m/opt/homebrew/lib/python3.9/site-packages/matplotlib/dviread.py:474\u001b[0m, in \u001b[0;36mDvi._fnt_def_real\u001b[0;34m(self, k, c, s, d, a, l)\u001b[0m\n\u001b[1;32m    <a href='file:///opt/homebrew/lib/python3.9/site-packages/matplotlib/dviread.py?line=471'>472</a>\u001b[0m tfm \u001b[39m=\u001b[39m _tfmfile(fontname)\n\u001b[1;32m    <a href='file:///opt/homebrew/lib/python3.9/site-packages/matplotlib/dviread.py?line=472'>473</a>\u001b[0m \u001b[39mif\u001b[39;00m tfm \u001b[39mis\u001b[39;00m \u001b[39mNone\u001b[39;00m:\n\u001b[0;32m--> <a href='file:///opt/homebrew/lib/python3.9/site-packages/matplotlib/dviread.py?line=473'>474</a>\u001b[0m     \u001b[39mraise\u001b[39;00m \u001b[39mFileNotFoundError\u001b[39;00m(\u001b[39m\"\u001b[39m\u001b[39mmissing font metrics file: \u001b[39m\u001b[39m%s\u001b[39;00m\u001b[39m\"\u001b[39m \u001b[39m%\u001b[39m fontname)\n\u001b[1;32m    <a href='file:///opt/homebrew/lib/python3.9/site-packages/matplotlib/dviread.py?line=474'>475</a>\u001b[0m \u001b[39mif\u001b[39;00m c \u001b[39m!=\u001b[39m \u001b[39m0\u001b[39m \u001b[39mand\u001b[39;00m tfm\u001b[39m.\u001b[39mchecksum \u001b[39m!=\u001b[39m \u001b[39m0\u001b[39m \u001b[39mand\u001b[39;00m c \u001b[39m!=\u001b[39m tfm\u001b[39m.\u001b[39mchecksum:\n\u001b[1;32m    <a href='file:///opt/homebrew/lib/python3.9/site-packages/matplotlib/dviread.py?line=475'>476</a>\u001b[0m     \u001b[39mraise\u001b[39;00m \u001b[39mValueError\u001b[39;00m(\u001b[39m'\u001b[39m\u001b[39mtfm checksum mismatch: \u001b[39m\u001b[39m%s\u001b[39;00m\u001b[39m'\u001b[39m \u001b[39m%\u001b[39m n)\n",
      "\u001b[0;31mFileNotFoundError\u001b[0m: missing font metrics file: cmr17"
     ]
    },
    {
     "data": {
      "text/plain": [
       "<Figure size 432x288 with 1 Axes>"
      ]
     },
     "metadata": {},
     "output_type": "display_data"
    }
   ],
   "source": [
    "plt.plot(data.load, hstability(data.load, 2, 4))"
   ]
  },
  {
   "cell_type": "code",
   "execution_count": 119,
   "metadata": {},
   "outputs": [],
   "source": [
    "data.load;"
   ]
  },
  {
   "cell_type": "markdown",
   "metadata": {},
   "source": [
    "## Verification"
   ]
  },
  {
   "cell_type": "code",
   "execution_count": 69,
   "metadata": {},
   "outputs": [
    {
     "data": {
      "text/plain": [
       "[<matplotlib.lines.Line2D at 0x1282d8970>]"
      ]
     },
     "execution_count": 69,
     "metadata": {},
     "output_type": "execute_result"
    },
    {
     "data": {
      "image/png": "[encoded data removed]",
      "text/plain": [
       "<Figure size 432x288 with 1 Axes>"
      ]
     },
     "metadata": {},
     "output_type": "display_data"
    }
   ],
   "source": [
    "plt.plot(data.load, _F(0, data.load.values))\n",
    "plt.plot(data.load, data.elastic_energy, ls='dotted', lw=4)"
   ]
  },
  {
   "cell_type": "code",
   "execution_count": 70,
   "metadata": {},
   "outputs": [
    {
     "data": {
      "text/plain": [
       "{k: 4, w1: 2, N: 2, μ: 1}"
      ]
     },
     "execution_count": 70,
     "metadata": {},
     "output_type": "execute_result"
    }
   ],
   "source": [
    "\n",
    "matpar = {k: _k, w1: _w1, N: _N, μ: _mu}\n"
   ]
  },
  {
   "cell_type": "code",
   "execution_count": 120,
   "metadata": {},
   "outputs": [
    {
     "ename": "IndexError",
     "evalue": "list index out of range",
     "output_type": "error",
     "traceback": [
      "\u001b[0;31m---------------------------------------------------------------------------\u001b[0m",
      "\u001b[0;31mIndexError\u001b[0m                                Traceback (most recent call last)",
      "\u001b[1;32m/Users/kumiori/Documents/WIP/m4s-MEC647/mec647/playground/nb/cone-stability.ipynb Cell 55'\u001b[0m in \u001b[0;36m<cell line: 1>\u001b[0;34m()\u001b[0m\n\u001b[0;32m----> <a href='vscode-notebook-cell:/Users/kumiori/Documents/WIP/m4s-MEC647/mec647/playground/nb/cone-stability.ipynb#ch0000049?line=0'>1</a>\u001b[0m _tc \u001b[39m=\u001b[39m sp\u001b[39m.\u001b[39;49msolve(Fa, t)[\u001b[39m1\u001b[39;49m]\u001b[39m.\u001b[39msubs({α: \u001b[39m0\u001b[39m})\n\u001b[1;32m      <a href='vscode-notebook-cell:/Users/kumiori/Documents/WIP/m4s-MEC647/mec647/playground/nb/cone-stability.ipynb#ch0000049?line=1'>2</a>\u001b[0m _tc\n\u001b[1;32m      <a href='vscode-notebook-cell:/Users/kumiori/Documents/WIP/m4s-MEC647/mec647/playground/nb/cone-stability.ipynb#ch0000049?line=2'>3</a>\u001b[0m __tc \u001b[39m=\u001b[39m _tc\u001b[39m.\u001b[39msubs({k: \u001b[39m3\u001b[39m, w1: \u001b[39m1\u001b[39m, N: \u001b[39m2\u001b[39m, μ: \u001b[39m1\u001b[39m})\n",
      "\u001b[0;31mIndexError\u001b[0m: list index out of range"
     ]
    }
   ],
   "source": [
    "_tc = sp.solve(Fa, t)[1].subs({α: 0})\n",
    "_tc\n",
    "__tc = _tc.subs({k: 3, w1: 1, N: 2, μ: 1})\n",
    "sp.N(__tc)"
   ]
  },
  {
   "cell_type": "code",
   "execution_count": 72,
   "metadata": {},
   "outputs": [
    {
     "ename": "NameError",
     "evalue": "name '_tc' is not defined",
     "output_type": "error",
     "traceback": [
      "\u001b[0;31m---------------------------------------------------------------------------\u001b[0m",
      "\u001b[0;31mNameError\u001b[0m                                 Traceback (most recent call last)",
      "\u001b[1;32m/Users/kumiori/Documents/WIP/m4s-MEC647/mec647/playground/nb/cone-stability.ipynb Cell 51'\u001b[0m in \u001b[0;36m<cell line: 1>\u001b[0;34m()\u001b[0m\n\u001b[0;32m----> <a href='vscode-notebook-cell:/Users/kumiori/Documents/WIP/m4s-MEC647/mec647/playground/nb/cone-stability.ipynb#ch0000050?line=0'>1</a>\u001b[0m sp\u001b[39m.\u001b[39mN(_tc\u001b[39m.\u001b[39msubs(matpar))\n",
      "\u001b[0;31mNameError\u001b[0m: name '_tc' is not defined"
     ]
    }
   ],
   "source": [
    "sp.N(_tc.subs(matpar))"
   ]
  },
  {
   "cell_type": "code",
   "execution_count": null,
   "metadata": {},
   "outputs": [],
   "source": [
    "# params, data, signature = pp.load_data(experiment)\n",
    "\n",
    "plt.plot(data.load, data.fracture_energy, label = 'damage')\n",
    "plt.plot(data.load, data.elastic_energy, label = 'elastic')\n",
    "_total = data.fracture_energy + data.elastic_energy\n",
    "plt.plot(data.load, _total, label = 'total')\n",
    "# plt.axvline(__tc, c='k')\n",
    "plt.axvline(_tc.subs(matpar), c='k', lw=1)\n",
    "plt.legend()\n",
    "plt.xlabel('load')\n",
    "plt.ylabel('Energy')\n",
    "\n",
    "plt.plot(data.load, _F(0, data.load.values), ls = 'dotted')\n",
    "# plt.plot(data.load, 2*Ef(0, data.load.values), ls = 'dotted')\n",
    "\n",
    "\n",
    "plt.xticks([_tc.subs(matpar), _k], ['$t_c$', '$k$'])\n",
    "plt.title(f'N={_N}, k={_k}')\n",
    "\n"
   ]
  },
  {
   "cell_type": "code",
   "execution_count": 121,
   "metadata": {},
   "outputs": [],
   "source": [
    "## Simple Analytic \n",
    "α, α1, α2, e1, e2 = sp.symbols('α α1 α2 e1 e2')\n",
    "w1 = sp.symbols('w1', positive=True)\n",
    "τ = sp.Symbol('τ', positive=True)\n",
    "k = sp.Symbol('k', positive=True)\n",
    "\n",
    "# _N = 2\n",
    "\n",
    "Ηeye = lambda τ: w1*(k-1)/(k-τ)*(k-2*τ)/τ\n",
    "Ηout = lambda τ: w1*(k-1)/(k-τ)*k/τ\n",
    "\n",
    "matpar = {k: _k, w1: _w1, N: _N, μ: _mu}\n",
    "\n",
    "_Ηeye = N**2*w1*(k-1)/(k-τ)*(k-2*τ)/τ\n",
    "_Ηout = w1*(k-1)/(k-τ)*k/τ\n",
    "\n",
    "# _Ηeye = sp.lambdify(τ, _Ηeye.subs(matpar), 'numpy')\n",
    "# _Ηeye(0)\n"
   ]
  },
  {
   "cell_type": "code",
   "execution_count": 122,
   "metadata": {},
   "outputs": [],
   "source": [
    "# _Ηeye\n",
    "Ηeye = sp.lambdify(τ, _Ηeye.subs(matpar), 'numpy')\n",
    "Ηout = sp.lambdify(τ, _Ηout.subs(matpar), 'numpy')\n"
   ]
  },
  {
   "cell_type": "code",
   "execution_count": 123,
   "metadata": {},
   "outputs": [
    {
     "name": "stderr",
     "output_type": "stream",
     "text": [
      "<lambdifygenerated-8>:2: RuntimeWarning: divide by zero encountered in true_divide\n",
      "  return 24*(4 - 2*τ)/(τ*(4 - τ))\n",
      "<lambdifygenerated-9>:2: RuntimeWarning: divide by zero encountered in true_divide\n",
      "  return 24/(τ*(4 - τ))\n"
     ]
    },
    {
     "data": {
      "text/plain": [
       "<matplotlib.legend.Legend at 0x1284bab80>"
      ]
     },
     "execution_count": 123,
     "metadata": {},
     "output_type": "execute_result"
    },
    {
     "data": {
      "image/png": "[encoded data removed]",
      "text/plain": [
       "<Figure size 432x288 with 1 Axes>"
      ]
     },
     "metadata": {},
     "output_type": "display_data"
    }
   ],
   "source": [
    "τs = np.linspace(0.01, matpar[k], 30)\n",
    "plt.plot(τs, Ηeye(τs), label='$H_o^1$')\n",
    "plt.plot(τs, Ηout(τs), label='$H^o_1$')\n",
    "\n",
    "# for n in range(2, 3):\n",
    "    # plt.plot(τs, 4*Ηeye(τs)/n**2, label=f'$H_o^{n}$')\n",
    "    # plt.plot(τs, 4*Ηout(τs)/n**2, label=f'$H^o_{n}$')\n",
    "\n",
    "plt.ylim(0, 40)\n",
    "\n",
    "# plt.xticks([_tc.subs(matpar), _k], ['$t_c$', '$k$'])\n",
    "plt.xticks([0, _k/2, _k], ['$1 (=t_c)$', '$k/2$','$k$'])\n",
    "plt.title(\"Eye and off-diagonal elements of Hessian along the homogeneous, N=2\")\n",
    "plt.legend()"
   ]
  },
  {
   "cell_type": "code",
   "execution_count": null,
   "metadata": {},
   "outputs": [],
   "source": [
    "A, B = sp.symbols('A B')\n",
    "H = sp.Matrix([[A-B, A],\n",
    "           [A, A-B]])\n"
   ]
  },
  {
   "cell_type": "code",
   "execution_count": 124,
   "metadata": {},
   "outputs": [],
   "source": [
    "def _critical_load(matpar):\n",
    "    _mu, _k, _w1, _N = matpar[\"mu\"], matpar[\"k\"], matpar[\"w1\"], matpar[\"N\"]\n",
    "    return np.sqrt(8*_w1 / (_mu*_k)/4)\n",
    "    # independent of _N**2\n",
    "\n",
    "def a_atk(alpha):\n",
    "    return (1 - alpha) / ((_k-1) * alpha + 1)\n",
    "\n",
    "def s_atk(alpha):\n",
    "    return 1/a_atk(alpha)\n",
    "\n",
    "def _homogeneous_state(t, matpar):\n",
    "    \"\"\"docstring for _homogeneous_state\"\"\"\n",
    "    _mu, _k, _w1, _N = matpar[\"mu\"], matpar[\"k\"], matpar[\"w1\"], matpar[\"N\"]\n",
    "\n",
    "\n",
    "    # _tc = np.sqrt(matpar/k)\n",
    "    # _a = (tau - 1) / (_k - 1)\n",
    "\n",
    "    _tc = _critical_load(params[\"model\"])\n",
    "    _uh = [0 for i in range(0, _N+1)]\n",
    "    \n",
    "    if t <= _tc:\n",
    "        # elastic\n",
    "        _alphah = [0. for i in range(0, _N)]\n",
    "        _uh = [i*t/_N for i in range(0, _N+1)]\n",
    "    else:   \n",
    "        # damaging\n",
    "        _α = (t/_tc - 1) / (_k - 1)\n",
    "        _alphah = [_α for i in range(0, _N)]\n",
    "\n",
    "        # _S = reduce(lambda a, b: a+b, list(map(a_atk, _alphah)))\n",
    "        \n",
    "        _S = _N*a_atk(_α)\n",
    "\n",
    "        _e = t / _N\n",
    "        for i in range(0, _N+1):\n",
    "            if i == 0:\n",
    "                _uh[i] = 0\n",
    "            else: \n",
    "                _uh[i] = _e * i\n",
    "        # _uh = [a_atk(_α) / (_N*a_atk(_α)) * i/_N for i in range(0, _N+1)]\n",
    "        # print(t, _e)\n",
    "    return _alphah, _uh"
   ]
  },
  {
   "cell_type": "code",
   "execution_count": 125,
   "metadata": {},
   "outputs": [
    {
     "data": {
      "text/plain": [
       "([0.0, 0.0], [0.0, 0.5, 1.0])"
      ]
     },
     "execution_count": 125,
     "metadata": {},
     "output_type": "execute_result"
    }
   ],
   "source": [
    "_homogeneous_state(1, params[\"model\"])"
   ]
  },
  {
   "cell_type": "code",
   "execution_count": 127,
   "metadata": {},
   "outputs": [],
   "source": [
    "from functools import reduce"
   ]
  },
  {
   "cell_type": "code",
   "execution_count": 128,
   "metadata": {},
   "outputs": [
    {
     "data": {
      "text/plain": [
       "2.0"
      ]
     },
     "execution_count": 128,
     "metadata": {},
     "output_type": "execute_result"
    }
   ],
   "source": [
    "_α = .2\n",
    "a_atk(_α)\n",
    "_alphah = [_α for i in range(0, _N)]\n",
    "_alphah\n",
    "_S = reduce(lambda a, b: a+b, list(map(a_atk, _alphah)))\n",
    "\n",
    "s_atk(_α) / _S\n"
   ]
  },
  {
   "cell_type": "markdown",
   "metadata": {},
   "source": [
    "s"
   ]
  },
  {
   "cell_type": "code",
   "execution_count": 129,
   "metadata": {},
   "outputs": [
    {
     "data": {
      "text/plain": [
       "1.0"
      ]
     },
     "execution_count": 129,
     "metadata": {},
     "output_type": "execute_result"
    }
   ],
   "source": [
    "_critical_load(params[\"model\"])"
   ]
  },
  {
   "cell_type": "code",
   "execution_count": 141,
   "metadata": {},
   "outputs": [
    {
     "name": "stderr",
     "output_type": "stream",
     "text": [
      "/var/folders/9t/b79vbddd6cz3hhc20g8hk86m0000gn/T/ipykernel_98610/3134143365.py:10: RuntimeWarning: divide by zero encountered in double_scalars\n",
      "  return 1/a_atk(alpha)\n"
     ]
    },
    {
     "data": {
      "text/plain": [
       "(0.0, 3.0)"
      ]
     },
     "execution_count": 141,
     "metadata": {},
     "output_type": "execute_result"
    },
    {
     "data": {
      "image/png": "[encoded data removed]",
      "text/plain": [
       "<Figure size 432x288 with 1 Axes>"
      ]
     },
     "metadata": {},
     "output_type": "display_data"
    }
   ],
   "source": [
    "_alphas = [_homogeneous_state(t, params[\"model\"])[0][0] for t in data.load]\n",
    "plt.plot(data.load, _alphas, c='k')\n",
    "plt.plot(data.load, [a_atk(a) for a in _alphas], c='k')\n",
    "plt.plot(data.load, [s_atk(a) for a in _alphas])\n",
    "# plt.plot(data.load, [s_atk(a)/(_N*s_atk(a)) for a in _alphas])\n",
    "plt.ylim(0, 3)\n"
   ]
  },
  {
   "cell_type": "code",
   "execution_count": 143,
   "metadata": {},
   "outputs": [
    {
     "data": {
      "text/plain": [
       "(0.0, 4.0)"
      ]
     },
     "execution_count": 143,
     "metadata": {},
     "output_type": "execute_result"
    },
    {
     "data": {
      "image/png": "[encoded data removed]",
      "text/plain": [
       "<Figure size 432x288 with 1 Axes>"
      ]
     },
     "metadata": {},
     "output_type": "display_data"
    }
   ],
   "source": [
    "# _homogeneous_state(.1, params[\"model\"])\n",
    "\n",
    "plt.plot(data.load, [_homogeneous_state(t, params[\"model\"])[0][0] for t in data.load], c='k')\n",
    "plt.plot(data.load, [_homogeneous_state(t, params[\"model\"])[1][1] for t in data.load])\n",
    "plt.xlim([0, _tc*_k])\n",
    "# plt.ylim(0, 10)\n"
   ]
  },
  {
   "cell_type": "markdown",
   "metadata": {},
   "source": [
    "## End analysis"
   ]
  },
  {
   "cell_type": "code",
   "execution_count": null,
   "metadata": {},
   "outputs": [],
   "source": [
    "data;"
   ]
  },
  {
   "cell_type": "code",
   "execution_count": null,
   "metadata": {},
   "outputs": [],
   "source": [
    "plt.plot(data.load, data.F, label = 'stress')\n",
    "# plt.plot(data.load, data.elastic_energy, label = 'elastic')\n",
    "# _total = data.fracture_energy + data.elastic_energy\n",
    "# plt.plot(data.load, _total, label = 'total')\n",
    "plt.legend()\n",
    "plt.xlabel('load')\n",
    "plt.ylabel('stress')\n",
    "# plt.axhline(_σc/2, c='k')\n",
    "\n",
    "plt.axvline(_tc.subs(matpar), c='k', lw=1)\n",
    "\n",
    "plt.xticks([_tc.subs(matpar), _k], ['$t_c$', '$k$'])\n",
    "plt.title(f'N={_N}, k={_k}')\n"
   ]
  },
  {
   "cell_type": "code",
   "execution_count": null,
   "metadata": {},
   "outputs": [],
   "source": [
    "for k in range(model_parameters[\"N\"]):\n",
    "    plt.plot(data.load, [a[k] for a in data.alpha_t], label=f'$\\\\alpha_{k}$')\n",
    "\n",
    "plt.title(\"$\\\\alpha$\")\n",
    "plt.legend()\n",
    "plt.axhline(1, c='k')\n",
    "\n",
    "plt.axvline(_tc.subs(matpar), c='k', lw=1)\n",
    "\n",
    "plt.xticks([_tc.subs(matpar), _k], ['$t_c$', '$k$'])\n",
    "plt.title(f'N={_N}, k={_k}')\n"
   ]
  },
  {
   "cell_type": "code",
   "execution_count": null,
   "metadata": {},
   "outputs": [],
   "source": [
    "for k in range(model_parameters[\"N\"]+1):\n",
    "    plt.plot(data.load, [u[k] for u in data.u_t], label=f'$u_{k}$')\n",
    "plt.plot(data.load, 1/_mu*data.load/2, label=f'$u^*$', ls='dotted', lw=4)\n",
    "\n",
    "plt.legend()\n",
    "plt.title(\"$u$\")\n",
    "plt.axhline(data.load.values[-1], c='k')\n",
    "\n",
    "plt.axvline(_tc.subs(matpar), c='k', lw=1)\n",
    "plt.axvline(_k, c='k', lw=1)\n",
    "\n",
    "plt.xticks([_tc.subs(matpar), _k], ['$t_c$', '$k$'])\n",
    "plt.title(f'N={_N}, k={_k}')\n"
   ]
  },
  {
   "cell_type": "code",
   "execution_count": null,
   "metadata": {},
   "outputs": [],
   "source": [
    "for i in range(len(data.cone_data)):\n",
    "    plt.plot(data.cone_data[i]['error_x_L2'], label=f'step {i}')\n",
    "plt.semilogy()\n",
    "# plt.legend()\n",
    "plt.xlabel('iterations')\n",
    "plt.ylabel('$||\\Delta x_k||_{L^2}$')\n"
   ]
  },
  {
   "cell_type": "code",
   "execution_count": null,
   "metadata": {},
   "outputs": [],
   "source": [
    "data.cone_data[3].keys()"
   ]
  },
  {
   "cell_type": "code",
   "execution_count": null,
   "metadata": {},
   "outputs": [],
   "source": [
    "_stab_cnd = [0 if data[\"cone-stable\"][i]==True else 1 for i in range(len(data))]\n",
    "_stab_cnd;"
   ]
  },
  {
   "cell_type": "code",
   "execution_count": null,
   "metadata": {},
   "outputs": [],
   "source": [
    "for i in range(len(data.cone_data)):\n",
    "    plt.plot(data.cone_data[i]['y_norm_L2'], label=f'step {i}')\n",
    "# plt.semilogy()\n",
    "# plt.legend()\n",
    "plt.axhline(0, c='k')\n",
    "plt.xlabel('iterations')\n",
    "plt.ylabel('$||y_k||_{L^2}$')\n"
   ]
  },
  {
   "cell_type": "code",
   "execution_count": null,
   "metadata": {},
   "outputs": [],
   "source": [
    "for i in range(len(data.cone_data)):\n",
    "    plt.plot(data.cone_data[i]['lambda_k'], label=f'step {i}')\n",
    "plt.axhline(0, c='k')\n",
    "plt.title('Convergence of eigenvalues')\n",
    "plt.xlabel('iterations')\n"
   ]
  },
  {
   "cell_type": "code",
   "execution_count": null,
   "metadata": {},
   "outputs": [],
   "source": [
    "_asd = np.array([step[\"lambda_0\"] for step in data[\"cone_data\"]])\n",
    "# [0 if x==3 for x in _asd]\n",
    "_lambda_0 = [np.nan if type(a) is list else a for a in _asd ]\n",
    "plt.plot(data.load, _lambda_0, marker='o', ls='')\n",
    "plt.axhline(0, c='k')\n",
    "# plt.ylim([0, 1.])\n",
    "plt.xlim([0, _k])\n",
    "\n",
    "plt.axvline(_tc.subs(matpar), c='k', lw=1)\n",
    "plt.axvline(_k, c='k', lw=1)\n",
    "\n",
    "plt.xticks([_tc.subs(matpar), _k], ['$t_c$', '$k$'])\n",
    "plt.fill_between(data.load, 0, 1, where=[not s for s in _stab_cnd], color='green', alpha=0.5)\n",
    "plt.fill_between(data.load, 0, 1, where=_stab_cnd,color='red', alpha=0.5)\n",
    "\n",
    "plt.title('Minimum eigenvalue and stability')"
   ]
  },
  {
   "cell_type": "code",
   "execution_count": null,
   "metadata": {},
   "outputs": [],
   "source": [
    "plt.scatter(data.load, _lambda_0, c=_stab_cnd, cmap='RdYlGn_r', alpha=.8)\n",
    "plt.xlim([0, _k])\n",
    "plt.ylim([-1, 1])\n",
    "plt.axhline(0, c='k')\n",
    "\n",
    "plt.title('Stability, minimum K-eigen')"
   ]
  },
  {
   "cell_type": "code",
   "execution_count": null,
   "metadata": {},
   "outputs": [],
   "source": [
    "data;"
   ]
  },
  {
   "cell_type": "code",
   "execution_count": null,
   "metadata": {},
   "outputs": [],
   "source": [
    "\n",
    "\n",
    "# plt.plot(_stab_cnd)\n",
    "plt.plot(data.load, data.fracture_energy)\n",
    "plt.fill_between(data.load, 0, 1, where=_stab_cnd,color='red', alpha=0.5)\n",
    "plt.fill_between(data.load, 0, 1, where=[not s for s in _stab_cnd], color='green', alpha=0.5)"
   ]
  },
  {
   "cell_type": "code",
   "execution_count": null,
   "metadata": {},
   "outputs": [],
   "source": [
    "plt.plot(data.load, data.F, label = 'stress')\n",
    "plt.fill_between(data.load, 0, .1, where=_stab_cnd,color='red', alpha=0.5)\n",
    "plt.fill_between(data.load, 0, .1, where=[not s for s in _stab_cnd], color='green', alpha=0.5)\n",
    "plt.legend()\n",
    "\n",
    "plt.axvline(_tc.subs(matpar), c='k', lw=1)\n",
    "plt.axvline(_k, c='k', lw=1)\n",
    "plt.axvline(_k/2, c='k', lw=1)\n",
    "\n",
    "plt.xticks([_tc.subs(matpar), _k/2, _k], ['$t_c$', '$k/2$', '$k$'])\n",
    "plt.title(f'N={_N}, k={_k}')\n",
    "\n"
   ]
  },
  {
   "cell_type": "code",
   "execution_count": null,
   "metadata": {},
   "outputs": [],
   "source": [
    "[converged['iterations'] for converged in data.cone_data]\n",
    "# [converged['lambda_k'] for converged in data.cone_data]"
   ]
  },
  {
   "cell_type": "code",
   "execution_count": null,
   "metadata": {},
   "outputs": [],
   "source": [
    "asd = np.array([converged['lambda_k'][-1] for converged in data.cone_data if isinstance(converged['iterations'], int)])\n",
    "asd\n",
    "# plt.plot(asd)"
   ]
  },
  {
   "cell_type": "code",
   "execution_count": null,
   "metadata": {},
   "outputs": [],
   "source": [
    "[converged['lambda_k'][-1] for converged in data.cone_data if len(converged['lambda_k'])>0]"
   ]
  },
  {
   "cell_type": "markdown",
   "metadata": {},
   "source": [
    "## N=3"
   ]
  },
  {
   "cell_type": "markdown",
   "metadata": {},
   "source": [
    "Vivo alla base, ho  srotolato solo hardcore / mi alleno co' Alien D: pronto Ensi  per i lividi / . Missione Speciale: FeasterRootsConnect. _Complete_ co' un risultato universale..:"
   ]
  },
  {
   "cell_type": "code",
   "execution_count": null,
   "metadata": {},
   "outputs": [],
   "source": [
    "experiment = '../../practice/output/discrete-atk-N3'\n",
    "params, data, signature = pp.load_data(experiment)\n",
    "model_parameters = params.get(\"model\")\n",
    "\n",
    "_mu, _w1, _k, _N = model_parameters.get(\"mu\"), model_parameters.get(\n",
    "    \"w1\"), model_parameters.get(\"k\"), model_parameters[\"N\"]\n",
    "\n",
    "model_parameters"
   ]
  },
  {
   "cell_type": "code",
   "execution_count": null,
   "metadata": {},
   "outputs": [],
   "source": [
    "_stab_cnd = [0 if data[\"cone-stable\"][i]==True else 1 for i in range(len(data))]\n",
    "# _stab_cnd\n",
    "data[\"cone-stable\"];\n",
    "np.array([step[\"lambda_0\"] for step in data[\"cone_data\"]])"
   ]
  },
  {
   "cell_type": "code",
   "execution_count": null,
   "metadata": {},
   "outputs": [],
   "source": [
    "_postprocess_stability(data)\n",
    "b"
   ]
  },
  {
   "cell_type": "code",
   "execution_count": null,
   "metadata": {},
   "outputs": [],
   "source": [
    "_postprocess_stability2(data)\n"
   ]
  },
  {
   "cell_type": "markdown",
   "metadata": {},
   "source": [
    "## N=4"
   ]
  },
  {
   "cell_type": "markdown",
   "metadata": {},
   "source": [
    "Vivo alla base, ho  srotolato solo hardcore / mi alleno co' Alien D: pronto Ensi  per i lividi / . Missione Speciale: FeasterRootsConnect. _Complete_ co' un risultato universale..:"
   ]
  },
  {
   "cell_type": "code",
   "execution_count": null,
   "metadata": {},
   "outputs": [],
   "source": [
    "experiment = '../../test/output/discrete-atk-N4'\n",
    "params, data, signature = pp.load_data(experiment)\n",
    "model_parameters = params.get(\"model\")\n",
    "\n",
    "_mu, _w1, _k, _N = model_parameters.get(\"mu\"), model_parameters.get(\n",
    "    \"w1\"), model_parameters.get(\"k\"), model_parameters[\"N\"]\n",
    "\n",
    "model_parameters"
   ]
  },
  {
   "cell_type": "code",
   "execution_count": null,
   "metadata": {},
   "outputs": [],
   "source": [
    "_postprocess_stability(data)\n",
    "_postprocess_stability2(data)\n",
    "\n"
   ]
  },
  {
   "cell_type": "markdown",
   "metadata": {},
   "source": [
    "## N=5"
   ]
  },
  {
   "cell_type": "code",
   "execution_count": 372,
   "metadata": {},
   "outputs": [
    {
     "data": {
      "text/plain": [
       "{'N': 5,\n",
       " 'ell': 0.1,\n",
       " 'k': 4,\n",
       " 'k_res': 0,\n",
       " 'model_dimension': 1,\n",
       " 'model_type': '1D',\n",
       " 'mu': 1,\n",
       " 'w1': 2}"
      ]
     },
     "execution_count": 372,
     "metadata": {},
     "output_type": "execute_result"
    }
   ],
   "source": [
    "experiment = '../../test/output/discrete-atk-N5'\n",
    "params, data, signature = pp.load_data(experiment)\n",
    "model_parameters = params.get(\"model\")\n",
    "\n",
    "_mu, _w1, _k, _N = model_parameters.get(\"mu\"), model_parameters.get(\n",
    "    \"w1\"), model_parameters.get(\"k\"), model_parameters[\"N\"]\n",
    "\n",
    "model_parameters"
   ]
  },
  {
   "cell_type": "code",
   "execution_count": null,
   "metadata": {},
   "outputs": [],
   "source": [
    "_postprocess_stability(data)\n",
    "_postprocess_stability2(data)\n",
    "\n"
   ]
  },
  {
   "cell_type": "markdown",
   "metadata": {},
   "source": [
    "## Parametric"
   ]
  },
  {
   "cell_type": "code",
   "execution_count": null,
   "metadata": {},
   "outputs": [],
   "source": [
    "for _n in np.arange(2, 6):\n",
    "    print(_n)\n",
    "    experiment = f'../../test/output/discrete-atk-N{_n}'\n",
    "    params, data, signature = pp.load_data(experiment)\n",
    "    model_parameters = params.get(\"model\")\n",
    "\n",
    "    _mu, _w1, _k, _N = model_parameters.get(\"mu\"), model_parameters.get(\n",
    "        \"w1\"), model_parameters.get(\"k\"), model_parameters[\"N\"]\n",
    "    _postprocess_stability(data)\n",
    "    _postprocess_stability2(data)\n",
    "\n",
    "\n"
   ]
  },
  {
   "cell_type": "code",
   "execution_count": 136,
   "metadata": {},
   "outputs": [],
   "source": []
  },
  {
   "cell_type": "code",
   "execution_count": 32,
   "metadata": {},
   "outputs": [
    {
     "name": "stderr",
     "output_type": "stream",
     "text": [
      "/var/folders/9t/b79vbddd6cz3hhc20g8hk86m0000gn/T/ipykernel_98610/1708371343.py:7: VisibleDeprecationWarning: Creating an ndarray from ragged nested sequences (which is a list-or-tuple of lists-or-tuples-or ndarrays with different lengths or shapes) is deprecated. If you meant to do this, you must specify 'dtype=object' when creating the ndarray.\n",
      "  _asd = np.array([step[\"lambda_0\"] for step in data[\"cone_data\"]])\n"
     ]
    },
    {
     "data": {
      "text/plain": [
       "<AxesSubplot:title={'center':'Inf of the K-spectrum and stability'}>"
      ]
     },
     "execution_count": 32,
     "metadata": {},
     "output_type": "execute_result"
    },
    {
     "data": {
      "image/png": "[encoded data removed]",
      "text/plain": [
       "<Figure size 864x648 with 1 Axes>"
      ]
     },
     "metadata": {},
     "output_type": "display_data"
    }
   ],
   "source": [
    "experiment = f'../../test/output/discrete-atk-N2'\n",
    "params, data, signature = pp.load_data(experiment)\n",
    "\n",
    "_mu, _w1, _k, _N = params[\"model\"].get(\"mu\"), params[\"model\"].get(\n",
    "        \"w1\"), params[\"model\"].get(\"k\"), params[\"model\"][\"N\"]\n",
    "\n",
    "# _tc = _critical_load(params[\"model\"])\n",
    "# print(_tc)\n",
    "_plot_min_sigmaKappa(data, params = params[\"model\"])\n"
   ]
  },
  {
   "cell_type": "code",
   "execution_count": null,
   "metadata": {},
   "outputs": [],
   "source": []
  },
  {
   "cell_type": "code",
   "execution_count": 38,
   "metadata": {},
   "outputs": [
    {
     "data": {
      "text/plain": [
       "4"
      ]
     },
     "execution_count": 38,
     "metadata": {},
     "output_type": "execute_result"
    }
   ],
   "source": [
    "_k"
   ]
  },
  {
   "cell_type": "code",
   "execution_count": 37,
   "metadata": {},
   "outputs": [
    {
     "name": "stdout",
     "output_type": "stream",
     "text": [
      "2\n",
      "3\n",
      "4\n",
      "5\n"
     ]
    },
    {
     "name": "stderr",
     "output_type": "stream",
     "text": [
      "/var/folders/9t/b79vbddd6cz3hhc20g8hk86m0000gn/T/ipykernel_98610/1708371343.py:7: VisibleDeprecationWarning: Creating an ndarray from ragged nested sequences (which is a list-or-tuple of lists-or-tuples-or ndarrays with different lengths or shapes) is deprecated. If you meant to do this, you must specify 'dtype=object' when creating the ndarray.\n",
      "  _asd = np.array([step[\"lambda_0\"] for step in data[\"cone_data\"]])\n",
      "/var/folders/9t/b79vbddd6cz3hhc20g8hk86m0000gn/T/ipykernel_98610/1708371343.py:7: VisibleDeprecationWarning: Creating an ndarray from ragged nested sequences (which is a list-or-tuple of lists-or-tuples-or ndarrays with different lengths or shapes) is deprecated. If you meant to do this, you must specify 'dtype=object' when creating the ndarray.\n",
      "  _asd = np.array([step[\"lambda_0\"] for step in data[\"cone_data\"]])\n",
      "/var/folders/9t/b79vbddd6cz3hhc20g8hk86m0000gn/T/ipykernel_98610/1708371343.py:7: VisibleDeprecationWarning: Creating an ndarray from ragged nested sequences (which is a list-or-tuple of lists-or-tuples-or ndarrays with different lengths or shapes) is deprecated. If you meant to do this, you must specify 'dtype=object' when creating the ndarray.\n",
      "  _asd = np.array([step[\"lambda_0\"] for step in data[\"cone_data\"]])\n",
      "/var/folders/9t/b79vbddd6cz3hhc20g8hk86m0000gn/T/ipykernel_98610/1708371343.py:7: VisibleDeprecationWarning: Creating an ndarray from ragged nested sequences (which is a list-or-tuple of lists-or-tuples-or ndarrays with different lengths or shapes) is deprecated. If you meant to do this, you must specify 'dtype=object' when creating the ndarray.\n",
      "  _asd = np.array([step[\"lambda_0\"] for step in data[\"cone_data\"]])\n"
     ]
    },
    {
     "data": {
      "text/plain": [
       "<matplotlib.lines.Line2D at 0x1597959d0>"
      ]
     },
     "execution_count": 37,
     "metadata": {},
     "output_type": "execute_result"
    },
    {
     "data": {
      "image/png": "[encoded data removed]",
      "text/plain": [
       "<Figure size 576x432 with 1 Axes>"
      ]
     },
     "metadata": {},
     "output_type": "display_data"
    }
   ],
   "source": [
    "figure, axis = plt.subplots(1, 1, figsize=(8, 6))\n",
    "\n",
    "for _n in np.arange(2, 6):\n",
    "    print(_n)\n",
    "\n",
    "    experiment = f'../../test/output/discrete-atk-N{_n}'\n",
    "    params, data, signature = pp.load_data(experiment)\n",
    "    # model_parameters = params.get(\"model\")\n",
    "    _tc = _critical_load(params[\"model\"])\n",
    "    # print(_tc)\n",
    "    _mu, _w1, _k, _N = params[\"model\"].get(\"mu\"), params[\"model\"].get(\n",
    "        \"w1\"), params[\"model\"].get(\"k\"), params[\"model\"][\"N\"]\n",
    "    axis = _plot_min_sigmaKappa(data, axis, params[\"model\"])\n",
    "    # plt.axvline(_k/_N, c='k', ls='dotted', lw=1)\n",
    "    # _postprocess_stability2(data)\n",
    "plt.axvline(_tc*_k/2, c='k', lw=1)\n",
    "\n",
    "# figure.savefig('../../notes/figures/stability_vary_N.png')\n"
   ]
  },
  {
   "cell_type": "markdown",
   "metadata": {},
   "source": [
    "## Verification of homogenous"
   ]
  },
  {
   "cell_type": "code",
   "execution_count": 130,
   "metadata": {},
   "outputs": [],
   "source": [
    "\n",
    "experiment = f'../../practice/output/discrete-atk-N2-homogeneous'\n",
    "params, data, signature = pp.load_data(experiment)\n",
    "_mu, _w1, _k, _N = params[\"model\"].get(\"mu\"), params[\"model\"].get(\n",
    "        \"w1\"), params[\"model\"].get(\"k\"), params[\"model\"][\"N\"]\n",
    "\n",
    "matpar = {k: _k, w1: _w1, N: _N, μ: _mu}\n"
   ]
  },
  {
   "cell_type": "code",
   "execution_count": 131,
   "metadata": {},
   "outputs": [
    {
     "data": {
      "text/plain": [
       "[<matplotlib.lines.Line2D at 0x11fcffc70>]"
      ]
     },
     "execution_count": 131,
     "metadata": {},
     "output_type": "execute_result"
    },
    {
     "data": {
      "image/png": "[encoded data removed]",
      "text/plain": [
       "<Figure size 432x288 with 1 Axes>"
      ]
     },
     "metadata": {},
     "output_type": "display_data"
    }
   ],
   "source": [
    "plt.plot(data.load, [a[0] for a in data.alpha_t])\n",
    "plt.plot(data.load, [u[_N-1] for u in data.u_t])"
   ]
  },
  {
   "cell_type": "code",
   "execution_count": 132,
   "metadata": {},
   "outputs": [
    {
     "data": {
      "text/plain": [
       "[<matplotlib.lines.Line2D at 0x11fe20f40>]"
      ]
     },
     "execution_count": 132,
     "metadata": {},
     "output_type": "execute_result"
    },
    {
     "data": {
      "image/png": "[encoded data removed]",
      "text/plain": [
       "<Figure size 432x288 with 1 Axes>"
      ]
     },
     "metadata": {},
     "output_type": "display_data"
    }
   ],
   "source": [
    "plt.plot(data.load, data.fracture_energy, label = 'damage', marker='o')\n",
    "plt.plot(data.load, [a[0] for a in data.alpha_t])\n"
   ]
  },
  {
   "cell_type": "code",
   "execution_count": 6,
   "metadata": {},
   "outputs": [
    {
     "ename": "NameError",
     "evalue": "name 'data' is not defined",
     "output_type": "error",
     "traceback": [
      "\u001b[0;31m---------------------------------------------------------------------------\u001b[0m",
      "\u001b[0;31mNameError\u001b[0m                                 Traceback (most recent call last)",
      "\u001b[1;32m/Users/kumiori/Documents/WIP/m4s-MEC647/mec647/playground/nb/cone-stability.ipynb Cell 112'\u001b[0m in \u001b[0;36m<cell line: 6>\u001b[0;34m()\u001b[0m\n\u001b[1;32m      <a href='vscode-notebook-cell:/Users/kumiori/Documents/WIP/m4s-MEC647/mec647/playground/nb/cone-stability.ipynb#ch0000111?line=0'>1</a>\u001b[0m \u001b[39m# plt.plot(data.load, data.fracture_energy)\u001b[39;00m\n\u001b[1;32m      <a href='vscode-notebook-cell:/Users/kumiori/Documents/WIP/m4s-MEC647/mec647/playground/nb/cone-stability.ipynb#ch0000111?line=1'>2</a>\u001b[0m \u001b[39m# plt.fill_between(data.load, 0, 1, where=_stab_cnd(data),color='red', alpha=0.5)\u001b[39;00m\n\u001b[1;32m      <a href='vscode-notebook-cell:/Users/kumiori/Documents/WIP/m4s-MEC647/mec647/playground/nb/cone-stability.ipynb#ch0000111?line=2'>3</a>\u001b[0m \u001b[39m# plt.fill_between(data.load, 0, 1, where=[not s for s in _stab_cnd(data)], color='green', alpha=0.5)\u001b[39;00m\n\u001b[0;32m----> <a href='vscode-notebook-cell:/Users/kumiori/Documents/WIP/m4s-MEC647/mec647/playground/nb/cone-stability.ipynb#ch0000111?line=5'>6</a>\u001b[0m plt\u001b[39m.\u001b[39mplot(data\u001b[39m.\u001b[39mload, data\u001b[39m.\u001b[39mfracture_energy, label \u001b[39m=\u001b[39m \u001b[39m'\u001b[39m\u001b[39mdamage\u001b[39m\u001b[39m'\u001b[39m, marker\u001b[39m=\u001b[39m\u001b[39m'\u001b[39m\u001b[39mo\u001b[39m\u001b[39m'\u001b[39m)\n\u001b[1;32m      <a href='vscode-notebook-cell:/Users/kumiori/Documents/WIP/m4s-MEC647/mec647/playground/nb/cone-stability.ipynb#ch0000111?line=6'>7</a>\u001b[0m plt\u001b[39m.\u001b[39mplot(data\u001b[39m.\u001b[39mload, data\u001b[39m.\u001b[39melastic_energy, label \u001b[39m=\u001b[39m \u001b[39m'\u001b[39m\u001b[39melastic\u001b[39m\u001b[39m'\u001b[39m)\n\u001b[1;32m      <a href='vscode-notebook-cell:/Users/kumiori/Documents/WIP/m4s-MEC647/mec647/playground/nb/cone-stability.ipynb#ch0000111?line=7'>8</a>\u001b[0m _total \u001b[39m=\u001b[39m data\u001b[39m.\u001b[39mfracture_energy \u001b[39m+\u001b[39m data\u001b[39m.\u001b[39melastic_energy\n",
      "\u001b[0;31mNameError\u001b[0m: name 'data' is not defined"
     ]
    }
   ],
   "source": [
    "\n",
    "\n",
    "# plt.plot(data.load, data.fracture_energy)\n",
    "# plt.fill_between(data.load, 0, 1, where=_stab_cnd(data),color='red', alpha=0.5)\n",
    "# plt.fill_between(data.load, 0, 1, where=[not s for s in _stab_cnd(data)], color='green', alpha=0.5)\n",
    "\n",
    "\n",
    "plt.plot(data.load, data.fracture_energy, label = 'damage', marker='o')\n",
    "plt.plot(data.load, data.elastic_energy, label = 'elastic')\n",
    "_total = data.fracture_energy + data.elastic_energy\n",
    "plt.plot(data.load, _total, label = 'total')\n",
    "# plt.axvline(__tc, c='k')\n",
    "plt.axvline(_tc, c='k', lw=1)\n",
    "plt.legend()\n",
    "plt.xlabel('load')\n",
    "plt.ylabel('Energy')\n"
   ]
  },
  {
   "cell_type": "code",
   "execution_count": 134,
   "metadata": {},
   "outputs": [
    {
     "data": {
      "text/plain": [
       "[<matplotlib.lines.Line2D at 0x1286805b0>]"
      ]
     },
     "execution_count": 134,
     "metadata": {},
     "output_type": "execute_result"
    },
    {
     "data": {
      "image/png": "[encoded data removed]",
      "text/plain": [
       "<Figure size 432x288 with 1 Axes>"
      ]
     },
     "metadata": {},
     "output_type": "display_data"
    }
   ],
   "source": [
    "plt.plot(data.load, [u[1] for u in data['u_t']])\n",
    "plt.plot(data.load, [u[2] for u in data['u_t']])\n",
    "# plt.plot(data.load, data['u_t'][2])"
   ]
  },
  {
   "cell_type": "code",
   "execution_count": 137,
   "metadata": {},
   "outputs": [
    {
     "name": "stderr",
     "output_type": "stream",
     "text": [
      "/var/folders/9t/b79vbddd6cz3hhc20g8hk86m0000gn/T/ipykernel_77700/1708371343.py:7: VisibleDeprecationWarning: Creating an ndarray from ragged nested sequences (which is a list-or-tuple of lists-or-tuples-or ndarrays with different lengths or shapes) is deprecated. If you meant to do this, you must specify 'dtype=object' when creating the ndarray.\n",
      "  _asd = np.array([step[\"lambda_0\"] for step in data[\"cone_data\"]])\n"
     ]
    },
    {
     "ename": "NameError",
     "evalue": "name '_tc' is not defined",
     "output_type": "error",
     "traceback": [
      "\u001b[0;31m---------------------------------------------------------------------------\u001b[0m",
      "\u001b[0;31mNameError\u001b[0m                                 Traceback (most recent call last)",
      "\u001b[1;32m/Users/kumiori/Documents/WIP/m4s-MEC647/mec647/playground/nb/cone-stability.ipynb Cell 114'\u001b[0m in \u001b[0;36m<cell line: 9>\u001b[0;34m()\u001b[0m\n\u001b[1;32m      <a href='vscode-notebook-cell:/Users/kumiori/Documents/WIP/m4s-MEC647/mec647/playground/nb/cone-stability.ipynb#ch0000108?line=6'>7</a>\u001b[0m axis \u001b[39m=\u001b[39m _plot_min_sigmaKappa(data, axis, params[\u001b[39m\"\u001b[39m\u001b[39mmodel\u001b[39m\u001b[39m\"\u001b[39m])\n\u001b[1;32m      <a href='vscode-notebook-cell:/Users/kumiori/Documents/WIP/m4s-MEC647/mec647/playground/nb/cone-stability.ipynb#ch0000108?line=7'>8</a>\u001b[0m axis2 \u001b[39m=\u001b[39m axis\u001b[39m.\u001b[39mtwinx()\n\u001b[0;32m----> <a href='vscode-notebook-cell:/Users/kumiori/Documents/WIP/m4s-MEC647/mec647/playground/nb/cone-stability.ipynb#ch0000108?line=8'>9</a>\u001b[0m axis2\u001b[39m.\u001b[39mplot(data\u001b[39m.\u001b[39mload\u001b[39m/\u001b[39m_tc, Ηeye2(data\u001b[39m.\u001b[39mload\u001b[39m/\u001b[39m_tc)\u001b[39m/\u001b[39m\u001b[39m100\u001b[39m, label\u001b[39m=\u001b[39m\u001b[39m'\u001b[39m\u001b[39manalytical criterion\u001b[39m\u001b[39m'\u001b[39m, c\u001b[39m=\u001b[39m\u001b[39m'\u001b[39m\u001b[39mk\u001b[39m\u001b[39m'\u001b[39m)\n\u001b[1;32m     <a href='vscode-notebook-cell:/Users/kumiori/Documents/WIP/m4s-MEC647/mec647/playground/nb/cone-stability.ipynb#ch0000108?line=9'>10</a>\u001b[0m plt\u001b[39m.\u001b[39mlegend()\n\u001b[1;32m     <a href='vscode-notebook-cell:/Users/kumiori/Documents/WIP/m4s-MEC647/mec647/playground/nb/cone-stability.ipynb#ch0000108?line=11'>12</a>\u001b[0m plt\u001b[39m.\u001b[39maxvline(_tc\u001b[39m*\u001b[39m_k\u001b[39m/\u001b[39m\u001b[39m2\u001b[39m, c\u001b[39m=\u001b[39m\u001b[39m'\u001b[39m\u001b[39mk\u001b[39m\u001b[39m'\u001b[39m, lw\u001b[39m=\u001b[39m\u001b[39m1\u001b[39m)\n",
      "\u001b[0;31mNameError\u001b[0m: name '_tc' is not defined"
     ]
    },
    {
     "data": {
      "image/png": "[encoded data removed]",
      "text/plain": [
       "<Figure size 576x432 with 2 Axes>"
      ]
     },
     "metadata": {},
     "output_type": "display_data"
    }
   ],
   "source": [
    "# τs = np.linspace(0.01, matpar[k], 30)\n",
    "\n",
    "figure, axis = plt.subplots(1, 1, figsize=(8, 6))\n",
    "\n",
    "# plt.plot(data.load/_tc, 4*Ηeye(data.load/_tc), label='$H_o^1$')\n",
    "# plt.plot(data.load/_tc, 4*Ηout(data.load/_tc), label='$H^o_1$')\n",
    "axis = _plot_min_sigmaKappa(data, axis, params[\"model\"])\n",
    "axis2 = axis.twinx()\n",
    "axis2.plot(data.load/_tc, Ηeye2(data.load/_tc)/100, label='analytical criterion', c='k')\n",
    "plt.legend()\n",
    "\n",
    "plt.axvline(_tc*_k/2, c='k', lw=1)\n",
    "plt.ylim(-.5, 1)\n",
    "# figure.savefig('../../notes/figures/stability_N2.png')\n"
   ]
  },
  {
   "cell_type": "markdown",
   "metadata": {},
   "source": [
    "verify Nd hessian"
   ]
  },
  {
   "cell_type": "code",
   "execution_count": 139,
   "metadata": {},
   "outputs": [],
   "source": [
    "α = sp.symbols('α')\n",
    "t, N, k = sp.symbols('t N k')\n",
    "τ = sp.Symbol('τ', positive=True)\n",
    "\n",
    "_α0 = (τ-1)/(k-1)\n",
    "\n",
    "# Ηeye = lambda τ: w1*(k-1)/(k-τ)*(k-2*τ)/τ\n",
    "# Ηout = lambda τ: w1*(k-1)/(k-τ)*k/τ\n",
    "\n",
    "matpar = {k: _k, w1: _w1, N: _N, μ: _mu}\n",
    "\n",
    "_Ηeye2 = N**2*w1*(k-1)/(k-τ)*(k-2*τ)/τ\n",
    "_Ηout2 = N**2*w1*(k-1)/(k-τ)*k/τ\n",
    "\n",
    "# _Ηeye\n",
    "Ηeye2 = sp.lambdify(τ, _Ηeye2.subs(matpar), 'numpy')\n",
    "Ηout2 = sp.lambdify(τ, _Ηout2.subs(matpar), 'numpy')\n",
    "\n",
    "\n",
    "_ΗeyeN = t**2/(N*s(α))**2 * ((s(α).diff(α))**2 / (N*s(α)) - 1./2.*s(α).diff(α, 2)) \n",
    "_ΗoutN = t**2*(s(α).diff(α))**2 / (N*s(α))**3\n"
   ]
  },
  {
   "cell_type": "code",
   "execution_count": 140,
   "metadata": {},
   "outputs": [
    {
     "data": {
      "text/latex": [
       "$\\displaystyle \\frac{N^{2} w_{1} \\left(k - 1\\right) \\left(k - 2 τ\\right)}{τ \\left(k - τ\\right)}$"
      ],
      "text/plain": [
       "N**2*w1*(k - 1)*(k - 2*τ)/(τ*(k - τ))"
      ]
     },
     "execution_count": 140,
     "metadata": {},
     "output_type": "execute_result"
    }
   ],
   "source": [
    "_Ηeye2"
   ]
  },
  {
   "cell_type": "code",
   "execution_count": 143,
   "metadata": {},
   "outputs": [
    {
     "data": {
      "text/latex": [
       "$\\displaystyle \\frac{1.0 k t^{2} \\left(- N k τ + N τ + k^{2} - k\\right)}{N^{3} τ^{3} \\left(k - τ\\right)}$"
      ],
      "text/plain": [
       "1.0*k*t**2*(-N*k*τ + N*τ + k**2 - k)/(N**3*τ**3*(k - τ))"
      ]
     },
     "execution_count": 143,
     "metadata": {},
     "output_type": "execute_result"
    }
   ],
   "source": [
    "_ΗeyeN.subs({α: _α0}).simplify()"
   ]
  },
  {
   "cell_type": "code",
   "execution_count": 144,
   "metadata": {},
   "outputs": [
    {
     "data": {
      "text/plain": [
       "'\\\\frac{1.0 k t^{2} \\\\left(- N k τ + N τ + k^{2} - k\\\\right)}{N^{3} τ^{3} \\\\left(k - τ\\\\right)}'"
      ]
     },
     "execution_count": 144,
     "metadata": {},
     "output_type": "execute_result"
    }
   ],
   "source": [
    "sp.latex(_ΗeyeN.subs({α: _α0}).simplify())"
   ]
  },
  {
   "cell_type": "code",
   "execution_count": 145,
   "metadata": {},
   "outputs": [
    {
     "data": {
      "text/latex": [
       "$\\displaystyle \\frac{k t^{2} \\cdot \\left(1.0 k - 1.0\\right) \\left(1.0 k - 1.0 τ\\right)^{3} \\left(- 1.0 N τ + 1.0 k\\right)}{N^{3} τ^{3} \\left(k - τ\\right)^{4}}$"
      ],
      "text/plain": [
       "k*t**2*(1.0*k - 1.0)*(1.0*k - 1.0*τ)**3*(-1.0*N*τ + 1.0*k)/(N**3*τ**3*(k - τ)**4)"
      ]
     },
     "execution_count": 145,
     "metadata": {},
     "output_type": "execute_result"
    }
   ],
   "source": [
    "sp.factor(_ΗeyeN.subs({α: _α0}))"
   ]
  },
  {
   "cell_type": "code",
   "execution_count": 146,
   "metadata": {},
   "outputs": [
    {
     "data": {
      "text/plain": [
       "'\\\\frac{k t^{2} \\\\cdot \\\\left(1.0 k - 1.0\\\\right) \\\\left(1.0 k - 1.0 τ\\\\right)^{3} \\\\left(- 1.0 N τ + 1.0 k\\\\right)}{N^{3} τ^{3} \\\\left(k - τ\\\\right)^{4}}'"
      ]
     },
     "execution_count": 146,
     "metadata": {},
     "output_type": "execute_result"
    }
   ],
   "source": [
    "sp.latex(sp.factor(_ΗeyeN.subs({α: _α0})))"
   ]
  },
  {
   "cell_type": "code",
   "execution_count": 150,
   "metadata": {},
   "outputs": [
    {
     "data": {
      "text/latex": [
       "$\\displaystyle \\frac{k \\left(1.0 k - 1.0\\right) \\left(1.0 k - 1.0 τ\\right)^{3} \\left(- 1.0 N τ + 1.0 k\\right)}{N^{3} τ \\left(k - τ\\right)^{4}}$"
      ],
      "text/plain": [
       "k*(1.0*k - 1.0)*(1.0*k - 1.0*τ)**3*(-1.0*N*τ + 1.0*k)/(N**3*τ*(k - τ)**4)"
      ]
     },
     "execution_count": 150,
     "metadata": {},
     "output_type": "execute_result"
    }
   ],
   "source": [
    "sp.factor(_ΗeyeN.subs({α: _α0}).subs({t: τ}))"
   ]
  },
  {
   "cell_type": "code",
   "execution_count": 151,
   "metadata": {},
   "outputs": [
    {
     "data": {
      "text/plain": [
       "'\\\\frac{k \\\\left(1.0 k - 1.0\\\\right) \\\\left(1.0 k - 1.0 τ\\\\right)^{3} \\\\left(- 1.0 N τ + 1.0 k\\\\right)}{N^{3} τ \\\\left(k - τ\\\\right)^{4}}'"
      ]
     },
     "execution_count": 151,
     "metadata": {},
     "output_type": "execute_result"
    }
   ],
   "source": [
    "sp.latex(sp.factor(_ΗeyeN.subs({α: _α0}).subs({t: τ})))"
   ]
  },
  {
   "cell_type": "code",
   "execution_count": 153,
   "metadata": {},
   "outputs": [
    {
     "data": {
      "text/plain": [
       "[k/N]"
      ]
     },
     "execution_count": 153,
     "metadata": {},
     "output_type": "execute_result"
    }
   ],
   "source": [
    "sp.solve(_ΗeyeN.subs({α: _α0}).subs({t: τ}), τ)"
   ]
  },
  {
   "cell_type": "code",
   "execution_count": 242,
   "metadata": {},
   "outputs": [
    {
     "data": {
      "text/latex": [
       "$\\displaystyle \\frac{t^{2} \\left(\\frac{4}{3} - \\frac{τ}{3}\\right)^{2} \\left(- \\frac{1.0 \\left(- \\frac{τ}{\\frac{τ}{3} - \\frac{4}{3}} + 3\\right)}{\\left(\\frac{τ}{3} - \\frac{4}{3}\\right)^{2}} + \\frac{\\left(\\frac{4}{3} - \\frac{τ}{3}\\right) \\left(\\frac{τ}{\\left(\\frac{4}{3} - \\frac{τ}{3}\\right)^{2}} + \\frac{3}{\\frac{4}{3} - \\frac{τ}{3}}\\right)^{2}}{2 τ}\\right)}{4 τ^{2}}$"
      ],
      "text/plain": [
       "t**2*(4/3 - τ/3)**2*(-1.0*(-τ/(τ/3 - 4/3) + 3)/(τ/3 - 4/3)**2 + (4/3 - τ/3)*(τ/(4/3 - τ/3)**2 + 3/(4/3 - τ/3))**2/(2*τ))/(4*τ**2)"
      ]
     },
     "execution_count": 242,
     "metadata": {},
     "output_type": "execute_result"
    }
   ],
   "source": [
    "_ΗeyeN.subs({α: _α0, N: 2}).subs(matpar)\n"
   ]
  },
  {
   "cell_type": "code",
   "execution_count": 258,
   "metadata": {},
   "outputs": [
    {
     "data": {
      "text/plain": [
       "{k: 4, w1: 2, N: 2, μ: 1}"
      ]
     },
     "execution_count": 258,
     "metadata": {},
     "output_type": "execute_result"
    }
   ],
   "source": [
    "matpar"
   ]
  },
  {
   "cell_type": "code",
   "execution_count": 286,
   "metadata": {},
   "outputs": [
    {
     "data": {
      "text/plain": [
       "4"
      ]
     },
     "execution_count": 286,
     "metadata": {},
     "output_type": "execute_result"
    }
   ],
   "source": [
    "_k"
   ]
  },
  {
   "cell_type": "code",
   "execution_count": 289,
   "metadata": {},
   "outputs": [
    {
     "data": {
      "text/plain": [
       "-0.1111111111111111"
      ]
     },
     "execution_count": 289,
     "metadata": {},
     "output_type": "execute_result"
    }
   ],
   "source": [
    "ΗeyeN = sp.lambdify((τ, N), _ΗeyeN.subs({α: _α0, t:1}).subs({k: _k}), 'numpy')\n",
    "ΗeyeN(3, 2)"
   ]
  },
  {
   "cell_type": "code",
   "execution_count": 259,
   "metadata": {},
   "outputs": [],
   "source": [
    "\n",
    "\n",
    "ΗeyeN = sp.lambdify(τ, _ΗeyeN.subs({α: _α0, t:1}).subs(matpar), 'numpy')\n",
    "# ΗeyeN(3)\n",
    "# plt.plot(data.load, HeyeN(data.load))\n",
    "# ΗeyeN(1)\n"
   ]
  },
  {
   "cell_type": "code",
   "execution_count": 1,
   "metadata": {},
   "outputs": [
    {
     "ename": "NameError",
     "evalue": "name '_Ηeye2' is not defined",
     "output_type": "error",
     "traceback": [
      "\u001b[0;31m---------------------------------------------------------------------------\u001b[0m",
      "\u001b[0;31mNameError\u001b[0m                                 Traceback (most recent call last)",
      "\u001b[1;32m/Users/kumiori/Documents/WIP/m4s-MEC647/mec647/playground/nb/cone-stability.ipynb Cell 118'\u001b[0m in \u001b[0;36m<cell line: 1>\u001b[0;34m()\u001b[0m\n\u001b[0;32m----> <a href='vscode-notebook-cell:/Users/kumiori/Documents/WIP/m4s-MEC647/mec647/playground/nb/cone-stability.ipynb#ch0000117?line=0'>1</a>\u001b[0m _Ηeye2\n",
      "\u001b[0;31mNameError\u001b[0m: name '_Ηeye2' is not defined"
     ]
    }
   ],
   "source": [
    "_Ηeye2"
   ]
  },
  {
   "cell_type": "code",
   "execution_count": 301,
   "metadata": {},
   "outputs": [
    {
     "data": {
      "text/plain": [
       "<matplotlib.legend.Legend at 0x15f60fdf0>"
      ]
     },
     "execution_count": 301,
     "metadata": {},
     "output_type": "execute_result"
    },
    {
     "data": {
      "image/png": "[encoded data removed]",
      "text/plain": [
       "<Figure size 432x288 with 1 Axes>"
      ]
     },
     "metadata": {},
     "output_type": "display_data"
    }
   ],
   "source": [
    "for _n in np.arange(2, 6):\n",
    "    plt.plot(data.load, ΗeyeN(data.load, _n), label=f'N={_n}')\n",
    "# ΗeyeN(3, 2)\n",
    "\n",
    "plt.plot(data.load, Ηeye2(data.load)/100, c='k')\n",
    "plt.ylim(-.5, .5)\n",
    "plt.axvline(_tc, c='k')\n",
    "plt.axhline(0, c='k')\n",
    "plt.legend()"
   ]
  },
  {
   "cell_type": "code",
   "execution_count": 321,
   "metadata": {},
   "outputs": [
    {
     "name": "stderr",
     "output_type": "stream",
     "text": [
      "/var/folders/9t/b79vbddd6cz3hhc20g8hk86m0000gn/T/ipykernel_98610/1708371343.py:7: VisibleDeprecationWarning: Creating an ndarray from ragged nested sequences (which is a list-or-tuple of lists-or-tuples-or ndarrays with different lengths or shapes) is deprecated. If you meant to do this, you must specify 'dtype=object' when creating the ndarray.\n",
      "  _asd = np.array([step[\"lambda_0\"] for step in data[\"cone_data\"]])\n",
      "/var/folders/9t/b79vbddd6cz3hhc20g8hk86m0000gn/T/ipykernel_98610/1708371343.py:7: VisibleDeprecationWarning: Creating an ndarray from ragged nested sequences (which is a list-or-tuple of lists-or-tuples-or ndarrays with different lengths or shapes) is deprecated. If you meant to do this, you must specify 'dtype=object' when creating the ndarray.\n",
      "  _asd = np.array([step[\"lambda_0\"] for step in data[\"cone_data\"]])\n",
      "/var/folders/9t/b79vbddd6cz3hhc20g8hk86m0000gn/T/ipykernel_98610/1708371343.py:7: VisibleDeprecationWarning: Creating an ndarray from ragged nested sequences (which is a list-or-tuple of lists-or-tuples-or ndarrays with different lengths or shapes) is deprecated. If you meant to do this, you must specify 'dtype=object' when creating the ndarray.\n",
      "  _asd = np.array([step[\"lambda_0\"] for step in data[\"cone_data\"]])\n",
      "/var/folders/9t/b79vbddd6cz3hhc20g8hk86m0000gn/T/ipykernel_98610/1708371343.py:7: VisibleDeprecationWarning: Creating an ndarray from ragged nested sequences (which is a list-or-tuple of lists-or-tuples-or ndarrays with different lengths or shapes) is deprecated. If you meant to do this, you must specify 'dtype=object' when creating the ndarray.\n",
      "  _asd = np.array([step[\"lambda_0\"] for step in data[\"cone_data\"]])\n"
     ]
    },
    {
     "data": {
      "text/plain": [
       "[<matplotlib.axis.XTick at 0x14a2b4760>,\n",
       " <matplotlib.axis.XTick at 0x14a2b4730>,\n",
       " <matplotlib.axis.XTick at 0x14a8b5cd0>,\n",
       " <matplotlib.axis.XTick at 0x14a6f4d00>]"
      ]
     },
     "execution_count": 321,
     "metadata": {},
     "output_type": "execute_result"
    },
    {
     "data": {
      "image/png": "[encoded data removed]",
      "text/plain": [
       "<Figure size 576x432 with 1 Axes>"
      ]
     },
     "metadata": {},
     "output_type": "display_data"
    }
   ],
   "source": [
    "figure, axis = plt.subplots(1, 1, figsize=(8, 6))\n",
    "\n",
    "for _n in np.arange(2, 6):\n",
    "    experiment = f'../../test/output/discrete-atk-N{_n}'\n",
    "    params, data, signature = pp.load_data(experiment)\n",
    "    # model_parameters = params.get(\"model\")\n",
    "    plt.plot(data.load, 10*ΗeyeN(data.load, _n), label=f'N={_n}', c=f'C{_n-2}')\n",
    "    _tc = _critical_load(params[\"model\"])\n",
    "    # print(_tc)\n",
    "    _mu, _w1, _k, _N = params[\"model\"].get(\"mu\"), params[\"model\"].get(\n",
    "        \"w1\"), params[\"model\"].get(\"k\"), params[\"model\"][\"N\"]\n",
    "    axis = _plot_min_sigmaKappa(data, axis, params[\"model\"])\n",
    "    plt.axvline(_k/_N, c='k', ls='dotted')\n",
    "    \n",
    "plt.axvline(_tc*_k/2, c='k', lw=1)\n",
    "plt.ylim(-1, 1)\n",
    "axis.set_yticks([-1, 0, 1], ['-1', '0', '1'])\n",
    "axis.set_xticks([_tc, _k/2, _k/3, _k/5], ['$t_c$',  '$k/2$', '$k/3$',  '$k/5$'])\n",
    "\n",
    "# figure.savefig('../../notes/figures/stability_vary_N.png')\n"
   ]
  },
  {
   "cell_type": "code",
   "execution_count": 310,
   "metadata": {},
   "outputs": [
    {
     "data": {
      "text/latex": [
       "$\\displaystyle \\frac{1.0 k \\left(- N k τ + N τ + k^{2} - k\\right)}{N^{3} τ^{3} \\left(k - τ\\right)}$"
      ],
      "text/plain": [
       "1.0*k*(-N*k*τ + N*τ + k**2 - k)/(N**3*τ**3*(k - τ))"
      ]
     },
     "execution_count": 310,
     "metadata": {},
     "output_type": "execute_result"
    }
   ],
   "source": [
    "_ΗeyeN.subs({α: _α0, t:1}).simplify()"
   ]
  },
  {
   "cell_type": "code",
   "execution_count": 311,
   "metadata": {},
   "outputs": [],
   "source": [
    "__eye = _ΗeyeN.subs({α: _α0, t:1}).simplify()"
   ]
  },
  {
   "cell_type": "code",
   "execution_count": 353,
   "metadata": {},
   "outputs": [],
   "source": [
    "asd = [_k/N for N in _Ns]\n",
    "_filter = np.where(np.array(asd) > _tc)[0]\n"
   ]
  },
  {
   "cell_type": "code",
   "execution_count": 361,
   "metadata": {},
   "outputs": [
    {
     "data": {
      "text/plain": [
       "[2.0, 1.3333333333333333, 1.0, 1.0, 1.0]"
      ]
     },
     "execution_count": 361,
     "metadata": {},
     "output_type": "execute_result"
    }
   ],
   "source": [
    "[_k/N if _k/N>=_tc else _tc for N in _Ns ]"
   ]
  },
  {
   "cell_type": "code",
   "execution_count": 371,
   "metadata": {},
   "outputs": [
    {
     "data": {
      "text/plain": [
       "Text(0, 0.5, '$\\\\delta_s$')"
      ]
     },
     "execution_count": 371,
     "metadata": {},
     "output_type": "execute_result"
    },
    {
     "data": {
      "image/png": "[encoded data removed]",
      "text/plain": [
       "<Figure size 432x288 with 1 Axes>"
      ]
     },
     "metadata": {},
     "output_type": "display_data"
    }
   ],
   "source": [
    "_gap = sp.solve(__eye, τ)[0]\n",
    "\n",
    "_gap.subs({k: _k})\n",
    "_Ns = np.arange(2, 7)\n",
    "plt.plot(_Ns, [_k/N - _tc if _k/N>=_tc else 0 for N in _Ns ])\n",
    "plt.title(f'Stability gap vs. N, k={_k}')\n",
    "plt.xlabel(\"N\")\n",
    "plt.ylabel(\"$\\delta_s$\")\n"
   ]
  },
  {
   "cell_type": "markdown",
   "metadata": {},
   "source": [
    "## Test NLB"
   ]
  },
  {
   "cell_type": "code",
   "execution_count": 380,
   "metadata": {},
   "outputs": [
    {
     "data": {
      "text/plain": [
       "{'N': 3,\n",
       " 'ell': 0.1,\n",
       " 'k': 4,\n",
       " 'k_res': 0.0001,\n",
       " 'model_dimension': 1,\n",
       " 'model_type': '1D',\n",
       " 'mu': 1,\n",
       " 'w1': 2}"
      ]
     },
     "execution_count": 380,
     "metadata": {},
     "output_type": "execute_result"
    }
   ],
   "source": [
    "experiment = '../../test/output/test_NLB'\n",
    "params, data, signature = pp.load_data(experiment)\n",
    "model_parameters = params.get(\"model\")\n",
    "\n",
    "_mu, _w1, _k, _N = model_parameters.get(\"mu\"), model_parameters.get(\n",
    "    \"w1\"), model_parameters.get(\"k\"), model_parameters[\"N\"]\n",
    "\n",
    "model_parameters"
   ]
  },
  {
   "cell_type": "code",
   "execution_count": 382,
   "metadata": {},
   "outputs": [
    {
     "data": {
      "text/plain": [
       "(0.0, 4.0)"
      ]
     },
     "execution_count": 382,
     "metadata": {},
     "output_type": "execute_result"
    },
    {
     "data": {
      "image/png": "[encoded data removed]",
      "text/plain": [
       "<Figure size 432x288 with 1 Axes>"
      ]
     },
     "metadata": {},
     "output_type": "display_data"
    }
   ],
   "source": [
    "plt.plot(data.load, data[\"Hii\"])\n",
    "plt.ylim(0, 4)"
   ]
  },
  {
   "cell_type": "markdown",
   "metadata": {},
   "source": [
    "## Stability of a bar"
   ]
  },
  {
   "cell_type": "markdown",
   "metadata": {},
   "source": [
    "$$\n",
    "E(u):=\\frac{1}{2} \\int_0^1 a(\\alpha)u'^2 dx + w_1 \\int_0^1 w(\\alpha) + \\ell^2 (\\alpha')^2 dx\n",
    "$$"
   ]
  },
  {
   "cell_type": "markdown",
   "metadata": {},
   "source": [
    "$$\n",
    "w(\\alpha):= \\alpha, \\qquad a(\\alpha):= (1-\\alpha)^2 =: a_{AT_1}\n",
    "$$"
   ]
  },
  {
   "cell_type": "code",
   "execution_count": 155,
   "metadata": {},
   "outputs": [],
   "source": [
    "## Simple Analytic \n",
    "α = sp.symbols('α')\n",
    "u = sp.symbols('u')\n",
    "# s1, s2 = sp.symbols('s1 s2', positive=True)\n",
    "# μ, N = sp.symbols('μ N', positive=True)\n",
    "w1 = sp.symbols('w1', positive=True)\n",
    "t = sp.Symbol('t', positive=True)\n",
    "\n",
    "aAT1 = lambda α: (1-α)**2\n",
    "s = lambda α: 1/aAT1(α)\n",
    "\n",
    "# U = 1/2*μ*(K1*u1**2 + K2*(t-u1)**2)\n",
    "# S = w1*(α1 + α2) / N**2\n",
    "\n",
    "# sol_u = sp.solve(U.diff(u1), u1)\n",
    "\n"
   ]
  },
  {
   "cell_type": "code",
   "execution_count": null,
   "metadata": {},
   "outputs": [],
   "source": []
  },
  {
   "cell_type": "code",
   "execution_count": null,
   "metadata": {},
   "outputs": [],
   "source": [
    "plt.plot(data.load, [a[0] for a in data.alpha_t])\n"
   ]
  },
  {
   "cell_type": "code",
   "execution_count": null,
   "metadata": {},
   "outputs": [],
   "source": [
    "!ls ../../playground/"
   ]
  },
  {
   "cell_type": "markdown",
   "metadata": {},
   "source": [
    "### Traction AT1"
   ]
  },
  {
   "cell_type": "code",
   "execution_count": 314,
   "metadata": {},
   "outputs": [],
   "source": [
    "experiment = '../../practice/output/traction_AT1_cone'\n",
    "# experiment = '../../practice/output/traction_AT1_cone-zoom'\n",
    "params, data, signature = pp.load_data(experiment)\n"
   ]
  },
  {
   "cell_type": "code",
   "execution_count": null,
   "metadata": {},
   "outputs": [],
   "source": []
  },
  {
   "cell_type": "code",
   "execution_count": 315,
   "metadata": {},
   "outputs": [],
   "source": [
    "def _inf_Kspectrum(_data):\n",
    "    \"\"\"docstring for _spectrum\"\"\"\n",
    "    _asd = np.array([step[\"lambda_0\"] for step in _data[\"cone_data\"]])\n",
    "    _lambda_0 = [np.nan if type(a) is list else a for a in _asd ]\n",
    "    return _lambda_0\n",
    "\n",
    "def get_stability_load(_lambda_0):\n",
    "    \"\"\"docstring for get_stability_load\"\"\"\n",
    "    _ts_i = np.where(np.array(_lambda_0) < 0)[0][0]\n",
    "    _ts = data.load[_ts_i]\n",
    "    return _ts\n",
    "\n",
    "def get_crack_load(_data):\n",
    "    \"\"\"docstring for get_crack_load\"\"\"\n",
    "    return np.where(np.abs(np.diff(_data.elastic_energy))>.02)\n"
   ]
  },
  {
   "cell_type": "code",
   "execution_count": 317,
   "metadata": {},
   "outputs": [
    {
     "name": "stderr",
     "output_type": "stream",
     "text": [
      "/var/folders/9t/b79vbddd6cz3hhc20g8hk86m0000gn/T/ipykernel_22585/1702601885.py:8: VisibleDeprecationWarning: Creating an ndarray from ragged nested sequences (which is a list-or-tuple of lists-or-tuples-or ndarrays with different lengths or shapes) is deprecated. If you meant to do this, you must specify 'dtype=object' when creating the ndarray.\n",
      "  _asd = np.array([step[\"lambda_0\"] for step in _data[\"cone_data\"]])\n",
      "/var/folders/9t/b79vbddd6cz3hhc20g8hk86m0000gn/T/ipykernel_22585/3171659484.py:3: VisibleDeprecationWarning: Creating an ndarray from ragged nested sequences (which is a list-or-tuple of lists-or-tuples-or ndarrays with different lengths or shapes) is deprecated. If you meant to do this, you must specify 'dtype=object' when creating the ndarray.\n",
      "  _asd = np.array([step[\"lambda_0\"] for step in _data[\"cone_data\"]])\n",
      "/var/folders/9t/b79vbddd6cz3hhc20g8hk86m0000gn/T/ipykernel_22585/3837981387.py:17: UserWarning: This figure includes Axes that are not compatible with tight_layout, so results might be incorrect.\n",
      "  plt.tight_layout()\n"
     ]
    },
    {
     "data": {
      "image/png": "[encoded data removed]",
      "text/plain": [
       "<Figure size 576x432 with 2 Axes>"
      ]
     },
     "metadata": {},
     "output_type": "display_data"
    }
   ],
   "source": [
    "with plt.style.context('tableau-colorblind10'):\n",
    "    _fig, (_ax, _zax) = plot_energy_spectrum(data, inset_xbounds=[.98, 1.1])\n",
    "\n",
    "\n",
    "_lambda_0 = _inf_Kspectrum(data)\n",
    "\n",
    "_ts = get_stability_load(_lambda_0)\n",
    "_tr = get_crack_load(data)\n",
    "\n",
    "_ax.set_xticks([0., data.load[_tr[0]].values[0], 1, _ts], [\"$$0$$\", \"$$t_?$$\", \"$$t_c$$\", \"$$t_s$$\"])\n",
    "_zax.set_xticks([1, _ts], [\"$$1$$\", \"$$t_s$$\"])\n",
    "_zax.set_yticks([0], [\"$$0$$\"])\n",
    "\n",
    "_ax.set_yticks([0], [\"$$0$$\"])\n",
    "_ax.set_title(\"Evolution of a brittle bar with an elastic phase\")\n",
    "\n",
    "plt.tight_layout()\n",
    "_fig.savefig('../../notes/figures/energy-stability_bar-AT1.png')\n"
   ]
  },
  {
   "cell_type": "markdown",
   "metadata": {},
   "source": [
    "$$\n",
    "s:= t + \\int_0^t ||\\dot \\alpha||_{1, 2} dx\n",
    "$$"
   ]
  },
  {
   "cell_type": "code",
   "execution_count": 282,
   "metadata": {},
   "outputs": [],
   "source": [
    "sell = []\n",
    "s0 = []\n",
    "_dt = (params.get(\"loading\").get(\"max\") - params.get(\"loading\").get(\"min\")) /params.get(\"loading\").get(\"steps\")\n",
    "\n",
    "for i, t in enumerate(data.get(\"load\")):\n",
    "    sell.append(np.trapz(data.get(\"rate_12_norm\")[0:i], data.get(\"load\")[0:i])/_dt)\n",
    "\n",
    "for i, t in enumerate(data.get(\"load\")):\n",
    "    s0.append(np.trapz(data.get(\"unscaled_rate_12_norm\")[0:i], data.get(\"load\")[0:i])/_dt)\n",
    "    \n",
    "# s = data.get(\"load\") + s0"
   ]
  },
  {
   "cell_type": "code",
   "execution_count": 283,
   "metadata": {},
   "outputs": [
    {
     "data": {
      "text/plain": [
       "<matplotlib.legend.Legend at 0x17e18d100>"
      ]
     },
     "execution_count": 283,
     "metadata": {},
     "output_type": "execute_result"
    },
    {
     "data": {
      "image/png": "[encoded data removed]",
      "text/plain": [
       "<Figure size 432x288 with 2 Axes>"
      ]
     },
     "metadata": {},
     "output_type": "display_data"
    }
   ],
   "source": [
    "plt.title(\"Evolution Jumps?\")\n",
    "# plt.plot(data.get(\"load\"), s, marker = 'o', label='s')\n",
    "plt.plot(data.get(\"load\"), sell, marker = 'o', label='$s_\\ell$')\n",
    "plt.plot(data.get(\"load\"), s0, marker = 'o', label='$s_0$')\n",
    "plt.plot(data.get(\"load\"), data.get(\"load\"), marker = 'o', label='t')\n",
    "plt.ylabel('$t, s_0, s$')\n",
    "plt.xlabel('t')\n",
    "plt.legend()\n",
    "plt.twinx()\n",
    "plt.plot(data.get(\"load\"), data.get(\"fracture_energy\")/params.get(\"geometry\").get(\"Ly\"),\n",
    "    marker = 's', c='k', label='fracture')\n",
    "plt.ylabel('energy')\n",
    "plt.legend(loc=4)\n",
    "# plt.savefig('jumps_evo_multifiss.png')"
   ]
  },
  {
   "cell_type": "code",
   "execution_count": 155,
   "metadata": {},
   "outputs": [
    {
     "name": "stderr",
     "output_type": "stream",
     "text": [
      "/var/folders/9t/b79vbddd6cz3hhc20g8hk86m0000gn/T/ipykernel_22585/746436038.py:7: VisibleDeprecationWarning: Creating an ndarray from ragged nested sequences (which is a list-or-tuple of lists-or-tuples-or ndarrays with different lengths or shapes) is deprecated. If you meant to do this, you must specify 'dtype=object' when creating the ndarray.\n",
      "  _asd = np.array([step[\"lambda_0\"] for step in data[\"cone_data\"]])\n"
     ]
    },
    {
     "data": {
      "image/png": "[encoded data removed]",
      "text/plain": [
       "<Figure size 576x432 with 3 Axes>"
      ]
     },
     "metadata": {},
     "output_type": "display_data"
    }
   ],
   "source": [
    "from mpl_toolkits.axes_grid1.inset_locator import zoomed_inset_axes, inset_axes\n",
    "\n",
    "figure, axis = plt.subplots(1, 1, figsize=(8, 6))\n",
    "# _ax = axis[0]\n",
    "_ax = axis\n",
    "\n",
    "_asd = np.array([step[\"lambda_0\"] for step in data[\"cone_data\"]])\n",
    "_lambda_0 = [np.nan if type(a) is list else a for a in _asd ]\n",
    "_stab_cnd = [0 if data[\"cone-stable\"][i]==True else 1 for i in range(len(data))]\n",
    "\n",
    "_ax.plot(data.load, _lambda_0, marker='o', ls='')\n",
    "_ax.axhline(0, c='k')\n",
    "_ax2 = _ax.twinx()\n",
    "\n",
    "_ax2.fill_between(data.load, 0, .001, where=[not s for s in _stab_cnd], color='green', alpha=0.5)\n",
    "_ax2.fill_between(data.load, 0, .001, where=_stab_cnd,color='red', alpha=0.5)\n",
    "_ax.set_title('Minimum K-eigenvalue and stability - 1D Bar w/ elastic phase')\n",
    "_ax.axvline(1., c='k', lw=3)\n",
    "_ax2.set_yticks([])\n",
    "# _ax = axis[1]\n",
    "\n",
    "# for i in range(len(data.cone_data)):\n",
    "#     _ax.plot(data.cone_data[i]['error_x_L2'], label=f'step {i}')\n",
    "# _ax.semilogy()\n",
    "# # _ax.legend()\n",
    "# _ax.set_xlabel('iterations')\n",
    "# _ax.set_ylabel('$||\\Delta x_k||_{L^2}$')\n",
    "# zax = zoomed_inset_axes(_ax, .4, loc=1)\n",
    "zax = inset_axes(_ax,  width='40%', height='40%', loc=3,\n",
    "    bbox_to_anchor=(.1,1-.7,1,1), bbox_transform=_ax.transAxes)\n",
    "# plot again (PLOT AGAIN) the same stuff as before in the new axes\n",
    "zax.plot(data.load, _lambda_0, marker='o', ls='')\n",
    "zax.axhline(0, c='grey')\n",
    "# _zax2 = zax.twinx()\n",
    "\n",
    "# _zax2.fill_between(data.load, 0, .001, where=[not s for s in _stab_cnd], color='green', alpha=0.5)\n",
    "# _zax2.fill_between(data.load, 0, .001, where=_stab_cnd,color='red', alpha=0.5)\n",
    "# _zax2.set_yticks([])\n",
    "\n",
    "\n",
    "\n",
    "# and eventually specify the x, y limits for the zoomed plot,\n",
    "# as well as the tick positions\n",
    "zax.set_xlim((1., 1.09)) ; \n",
    "_ts_i = np.where(np.array(_lambda_0) < 0)[0][0]\n",
    "_ts = data.load[_ts_i]\n",
    "\n",
    "_ax.set_xticks([0., 1.], [\"$$0$$\",\"$$t_c=t_b$$\"])\n",
    "zax.set_xticks([1., _ts], [\"$$t_c=t_b$$\", \"$$t_s$$\"])\n",
    "zax.axvline(_ts, c='grey')\n",
    "zax.set_ylim((-7e-5, 7e-5)) ; \n",
    "# zax.set_yticks([1]+[-i*0.5 for i in range(12)]) ;\n",
    "rectpatch, connects= _ax.indicate_inset_zoom(zax, lw=2, ec='g', alpha=.7, capstyle='butt', edgecolor='g')\n",
    "zax.set_facecolor((1.0, 1., 1.))\n",
    "\n",
    "connects[0].set_visible(True)\n",
    "connects[1].set_visible(True)\n",
    "connects[2].set_visible(True)\n",
    "connects[3].set_visible(True)\n",
    "\n",
    "figure.savefig('../../notes/figures/spectrum-stability_bar-AT1.png')\n"
   ]
  },
  {
   "cell_type": "code",
   "execution_count": 292,
   "metadata": {},
   "outputs": [
    {
     "data": {
      "text/plain": [
       "<matplotlib.legend.Legend at 0x15889fb20>"
      ]
     },
     "execution_count": 292,
     "metadata": {},
     "output_type": "execute_result"
    },
    {
     "data": {
      "image/png": "[encoded data removed]",
      "text/plain": [
       "<Figure size 432x288 with 1 Axes>"
      ]
     },
     "metadata": {},
     "output_type": "display_data"
    }
   ],
   "source": [
    "_stab_cnd = lambda data: [0 if data[\"cone-stable\"][i]==True else 1 for i in range(len(data))]\n",
    "\n",
    "\"\"\"docstring for plotSpaceVsCone\"\"\"\n",
    "figure, axis = plt.subplots(1, 1)\n",
    "__lambda_0 = [e[0] for e in data['eigs']]\n",
    "\n",
    "axis.scatter(data.load, _lambda_0, c=_stab_cnd(data), cmap='RdYlGn_r', alpha=.8, marker=\"*\", s=200, label='cone')\n",
    "axis.scatter(data.load, __lambda_0, c=_stab_cnd(data), cmap='RdYlGn_r', alpha=.8, label='space')\n",
    "axis.axhline(0., c='k')\n",
    "axis.set_title('Min eig in cone vs. space')\n",
    "axis.legend()"
   ]
  },
  {
   "cell_type": "markdown",
   "metadata": {},
   "source": [
    "## Traction AT2"
   ]
  },
  {
   "cell_type": "code",
   "execution_count": 309,
   "metadata": {},
   "outputs": [],
   "source": [
    "experiment = '../../practice/output/traction_AT2_cone'\n",
    "params, data, signature = pp.load_data(experiment)\n"
   ]
  },
  {
   "cell_type": "code",
   "execution_count": 217,
   "metadata": {},
   "outputs": [
    {
     "name": "stderr",
     "output_type": "stream",
     "text": [
      "/var/folders/9t/b79vbddd6cz3hhc20g8hk86m0000gn/T/ipykernel_22585/3611149770.py:13: VisibleDeprecationWarning: Creating an ndarray from ragged nested sequences (which is a list-or-tuple of lists-or-tuples-or ndarrays with different lengths or shapes) is deprecated. If you meant to do this, you must specify 'dtype=object' when creating the ndarray.\n",
      "  _asd = np.array([step[\"lambda_0\"] for step in data[\"cone_data\"]])\n"
     ]
    }
   ],
   "source": [
    "_dt = (params.get(\"loading\").get(\"max\") - params.get(\"loading\").get(\"min\")) /params.get(\"loading\").get(\"steps\")\n",
    "\n",
    "sell = []\n",
    "for i, t in enumerate(data.get(\"load\")):\n",
    "    sell.append(np.trapz(data.get(\"rate_12_norm\")[0:i], data.get(\"load\")[0:i])/_dt)\n",
    "\n",
    "s0 = []\n",
    "for i, t in enumerate(data.get(\"load\")):\n",
    "    s0.append(np.trapz(data.get(\"unscaled_rate_12_norm\")[0:i], data.get(\"load\")[0:i])/_dt)\n",
    "    \n",
    "# s = data.get(\"load\") + s0\n",
    "\n",
    "_asd = np.array([step[\"lambda_0\"] for step in data[\"cone_data\"]])\n",
    "_lambda_0 = [np.nan if type(a) is list else a for a in _asd ]\n",
    "_stab_cnd = [0 if data[\"cone-stable\"][i]==True else 1 for i in range(len(data))]\n",
    "\n"
   ]
  },
  {
   "cell_type": "code",
   "execution_count": 220,
   "metadata": {},
   "outputs": [
    {
     "name": "stdout",
     "output_type": "stream",
     "text": [
      "['Solarize_Light2', '_classic_test_patch', '_mpl-gallery', '_mpl-gallery-nogrid', 'bmh', 'classic', 'dark_background', 'fast', 'fivethirtyeight', 'ggplot', 'grayscale', 'seaborn', 'seaborn-bright', 'seaborn-colorblind', 'seaborn-dark', 'seaborn-dark-palette', 'seaborn-darkgrid', 'seaborn-deep', 'seaborn-muted', 'seaborn-notebook', 'seaborn-paper', 'seaborn-pastel', 'seaborn-poster', 'seaborn-talk', 'seaborn-ticks', 'seaborn-white', 'seaborn-whitegrid', 'tableau-colorblind10']\n"
     ]
    }
   ],
   "source": [
    "print(plt.style.available)"
   ]
  },
  {
   "cell_type": "code",
   "execution_count": 243,
   "metadata": {},
   "outputs": [
    {
     "data": {
      "image/png": "[encoded data removed]",
      "text/plain": [
       "<Figure size 432x288 with 2 Axes>"
      ]
     },
     "metadata": {},
     "output_type": "display_data"
    }
   ],
   "source": [
    "\n",
    "\n",
    "# for i, style in enumerate(plt.style.available):\n",
    "with plt.style.context('tableau-colorblind10'):\n",
    "    figure, axis = plt.subplots(1, 1)\n",
    "    # , figsize=(9, 9)\n",
    "    axis.set_title(\"Evolution Jumps?\")\n",
    "    # plt.plot(data.get(\"load\"), s, marker = 'o', label='s')\n",
    "    axis.plot(data.get(\"load\"), sell, marker = 'o', label='$s_\\ell$')\n",
    "    axis.plot(data.get(\"load\"), s0, marker = 'o', label='$s_0$')\n",
    "    axis.plot(data.get(\"load\"), data.get(\"load\"), marker = 'o', label='t')\n",
    "    axis.set_ylabel('$t, s_0, s$', fontsize=24, color='k')\n",
    "    axis.set_xlabel('$t$', fontsize=24, color='k')\n",
    "    axis.legend()\n",
    "    axis.twinx()\n",
    "    axis.plot(data.get(\"load\"), data.get(\"fracture_energy\")/params.get(\"geometry\").get(\"Ly\"),\n",
    "        marker = 's', c='k', label='fracture')\n",
    "    axis.set_ylabel('Energy')\n",
    "    axis.legend(loc=2)\n",
    "plt.show()\n",
    "# plt.savefig(f'jumps_evo_multifiss-style-{style}-{i}.png')\n"
   ]
  },
  {
   "cell_type": "code",
   "execution_count": 272,
   "metadata": {},
   "outputs": [],
   "source": []
  },
  {
   "cell_type": "code",
   "execution_count": 312,
   "metadata": {},
   "outputs": [
    {
     "name": "stderr",
     "output_type": "stream",
     "text": [
      "/var/folders/9t/b79vbddd6cz3hhc20g8hk86m0000gn/T/ipykernel_22585/3579149260.py:8: VisibleDeprecationWarning: Creating an ndarray from ragged nested sequences (which is a list-or-tuple of lists-or-tuples-or ndarrays with different lengths or shapes) is deprecated. If you meant to do this, you must specify 'dtype=object' when creating the ndarray.\n",
      "  _asd = np.array([step[\"lambda_0\"] for step in _data[\"cone_data\"]])\n",
      "/var/folders/9t/b79vbddd6cz3hhc20g8hk86m0000gn/T/ipykernel_22585/3171659484.py:3: VisibleDeprecationWarning: Creating an ndarray from ragged nested sequences (which is a list-or-tuple of lists-or-tuples-or ndarrays with different lengths or shapes) is deprecated. If you meant to do this, you must specify 'dtype=object' when creating the ndarray.\n",
      "  _asd = np.array([step[\"lambda_0\"] for step in _data[\"cone_data\"]])\n",
      "/var/folders/9t/b79vbddd6cz3hhc20g8hk86m0000gn/T/ipykernel_22585/203835035.py:17: UserWarning: This figure includes Axes that are not compatible with tight_layout, so results might be incorrect.\n",
      "  plt.tight_layout()\n"
     ]
    },
    {
     "data": {
      "image/png": "[encoded data removed]",
      "text/plain": [
       "<Figure size 576x432 with 2 Axes>"
      ]
     },
     "metadata": {},
     "output_type": "display_data"
    }
   ],
   "source": [
    "with plt.style.context('tableau-colorblind10'):\n",
    "    _fig, (_ax, _zax) = plot_energy_spectrum(data, inset_xbounds=[0.6, 1.1])\n",
    "\n",
    "\n",
    "_lambda_0 = _inf_Kspectrum(data)\n",
    "\n",
    "_ts = get_stability_load(_lambda_0)\n",
    "_tr = get_crack_load(data)\n",
    "\n",
    "# _ax.set_xticks([0., data.load[_tr[0]].values[0], 1, _ts], [\"$$0$$\", \"$$t_?$$\", \"$$t_c$$\", \"$$t_s$$\"])\n",
    "# _zax.set_xticks([1, _ts], [\"$$1$$\", \"$$t_s$$\"])\n",
    "# _zax.set_yticks([0], [\"$$0$$\"])\n",
    "\n",
    "# _ax.set_yticks([0], [\"$$0$$\"])\n",
    "_ax.set_title(\"Evolution of a brittle bar without an elastic phase\")\n",
    "\n",
    "plt.tight_layout()\n",
    "_fig.savefig('../../notes/figures/energy-stability_bar-AT2.png')"
   ]
  },
  {
   "cell_type": "code",
   "execution_count": 193,
   "metadata": {},
   "outputs": [
    {
     "data": {
      "text/plain": [
       "1.3417085427135678"
      ]
     },
     "execution_count": 193,
     "metadata": {},
     "output_type": "execute_result"
    }
   ],
   "source": [
    "data.load[_tr[0]].values[0]"
   ]
  },
  {
   "cell_type": "code",
   "execution_count": 186,
   "metadata": {},
   "outputs": [
    {
     "data": {
      "text/plain": [
       "178    1.341709\n",
       "Name: load, dtype: float64"
      ]
     },
     "execution_count": 186,
     "metadata": {},
     "output_type": "execute_result"
    }
   ],
   "source": [
    "_tr = np.where(np.abs(np.diff(data.elastic_energy))>.02)\n",
    "data.load[_tr[0]]"
   ]
  },
  {
   "cell_type": "code",
   "execution_count": null,
   "metadata": {},
   "outputs": [],
   "source": [
    "\n",
    "    \"\"\"docstring for _postprocess_stability\"\"\"\n",
    "    figure, axis = plt.subplots(2, 2, figsize=(12, 9))\n",
    "    \n",
    "    _asd = np.array([step[\"lambda_0\"] for step in data[\"cone_data\"]])\n",
    "    _lambda_0 = [np.nan if type(a) is list else a for a in _asd ]\n",
    "    _stab_cnd = [0 if data[\"cone-stable\"][i]==True else 1 for i in range(len(data))]\n",
    "\n",
    "    _ax = axis[0, 0]\n",
    "    \n",
    "    for i in range(len(data.cone_data)):\n",
    "        _ax.plot(data.cone_data[i]['error_x_L2'], label=f'step {i}')\n",
    "    _ax.semilogy()\n",
    "    # _ax.legend()\n",
    "    _ax.set_xlabel('iterations')\n",
    "    _ax.set_ylabel('$||\\Delta x_k||_{L^2}$')\n",
    "\n",
    "    _ax = axis[0, 1]\n",
    "\n",
    "    _ax.scatter(data.load, _lambda_0, c=_stab_cnd, cmap='RdYlGn_r', alpha=.8)\n",
    "    _ax.set_xlim([0, _k])\n",
    "    _ax.set_ylim([-1, 1])\n",
    "    _ax.axhline(0, c='k')\n",
    "\n",
    "    _ax.set_title('Stability, minimum K-eigen')\n",
    "    _ax.legend()\n",
    "    _ax.set_xlabel('load')\n",
    "    _ax.set_ylabel('$min \\\\sigma_K$')\n",
    "\n",
    "    _ax = axis[1, 0]\n",
    "    # [0 if x==3 for x in _asd]\n",
    "    _ax.plot(data.load, _lambda_0, marker='o', ls='')\n",
    "    _ax.axhline(0, c='k')\n",
    "    # _ax.ylim([0, 1.])\n",
    "    _ax.set_xlim([0, _k])\n",
    "\n",
    "    _ax.axvline(_tc.subs(matpar), c='k', lw=1)\n",
    "    _ax.axvline(_k, c='k', lw=1)\n",
    "\n",
    "    _ax.set_xticks([_tc.subs(matpar), _k], ['$t_c$', '$k$'])\n",
    "    _ax.fill_between(data.load, 0, 1, where=[not s for s in _stab_cnd], color='green', alpha=0.5)\n",
    "    _ax.fill_between(data.load, 0, 1, where=_stab_cnd,color='red', alpha=0.5)\n",
    "    _ax.set_title('Minimum eigenvalue and stability')\n",
    "\n",
    "    _ax.legend()\n",
    "\n",
    "    _ax = axis[1, 1]\n",
    "    _ax.plot(data.load, data.F, label = 'stress')\n",
    "    _ax.fill_between(data.load, 0, .1, where=_stab_cnd,color='red', alpha=0.5)\n",
    "    _ax.fill_between(data.load, 0, .1, where=[not s for s in _stab_cnd], color='green', alpha=0.5)\n",
    "    _ax.legend()\n",
    "\n",
    "    _ax.axvline(_tc.subs(matpar), c='k', lw=1)\n",
    "    _ax.axvline(_k, c='k', lw=1)\n",
    "    _ax.axvline(_k/2, c='k', lw=1)\n",
    "\n",
    "    _ax.set_xticks([_tc.subs(matpar), _k/2, _k], ['$t_c$', '$k/2$', '$k$'])\n",
    "    _ax.set_title(f'N={_N}, k={_k}')\n",
    "\n",
    "\n",
    "    for _ax in axis.reshape(-1):\n",
    "        _ax.axvline(_tc.subs(matpar), c='k', lw=1)\n",
    "\n",
    "    plt.show()"
   ]
  },
  {
   "cell_type": "code",
   "execution_count": 239,
   "metadata": {},
   "outputs": [
    {
     "name": "stderr",
     "output_type": "stream",
     "text": [
      "/var/folders/9t/b79vbddd6cz3hhc20g8hk86m0000gn/T/ipykernel_77700/836895863.py:4: VisibleDeprecationWarning: Creating an ndarray from ragged nested sequences (which is a list-or-tuple of lists-or-tuples-or ndarrays with different lengths or shapes) is deprecated. If you meant to do this, you must specify 'dtype=object' when creating the ndarray.\n",
      "  _asd = np.array([step[\"lambda_0\"] for step in data[\"cone_data\"]])\n"
     ]
    },
    {
     "data": {
      "text/plain": [
       "Text(0, 0.5, '$||\\\\Delta x_k||_{L^2}$')"
      ]
     },
     "execution_count": 239,
     "metadata": {},
     "output_type": "execute_result"
    },
    {
     "data": {
      "image/png": "[encoded data removed]",
      "text/plain": [
       "<Figure size 864x648 with 3 Axes>"
      ]
     },
     "metadata": {},
     "output_type": "display_data"
    }
   ],
   "source": [
    "figure, axis = plt.subplots(1, 2, figsize=(12, 9))\n",
    "_ax = axis[0]\n",
    "\n",
    "_asd = np.array([step[\"lambda_0\"] for step in data[\"cone_data\"]])\n",
    "_lambda_0 = [np.nan if type(a) is list else a for a in _asd ]\n",
    "_stab_cnd = [0 if data[\"cone-stable\"][i]==True else 1 for i in range(len(data))]\n",
    "\n",
    "_ax.plot(data.load, _lambda_0, marker='o', ls='')\n",
    "_ax.axhline(0, c='k')\n",
    "_ax2 = _ax.twinx()\n",
    "\n",
    "_ax2.fill_between(data.load, 0, .001, where=[not s for s in _stab_cnd], color='green', alpha=0.5)\n",
    "_ax2.fill_between(data.load, 0, .001, where=_stab_cnd,color='red', alpha=0.5)\n",
    "_ax.set_title('Minimum eigenvalue and stability')\n",
    "\n",
    "_ax = axis[1]\n",
    "\n",
    "for i in range(len(data.cone_data)):\n",
    "    _ax.plot(data.cone_data[i]['error_x_L2'], label=f'step {i}')\n",
    "_ax.semilogy()\n",
    "# _ax.legend()\n",
    "_ax.set_xlabel('iterations')\n",
    "_ax.set_ylabel('$||\\Delta x_k||_{L^2}$')\n"
   ]
  },
  {
   "cell_type": "code",
   "execution_count": 273,
   "metadata": {},
   "outputs": [],
   "source": []
  },
  {
   "cell_type": "code",
   "execution_count": 274,
   "metadata": {},
   "outputs": [
    {
     "data": {
      "image/png": "[encoded data removed]",
      "text/plain": [
       "<Figure size 432x288 with 1 Axes>"
      ]
     },
     "metadata": {},
     "output_type": "display_data"
    }
   ],
   "source": [
    "plotSpaceVsCone(data)"
   ]
  },
  {
   "cell_type": "code",
   "execution_count": null,
   "metadata": {},
   "outputs": [],
   "source": []
  }
 ],
 "metadata": {
  "interpreter": {
   "hash": "b0fa6594d8f4cbf19f97940f81e996739fb7646882a419484c72d19e05852a7e"
  },
  "kernelspec": {
   "display_name": "Python 3.9.13 64-bit",
   "language": "python",
   "name": "python3"
  },
  "language_info": {
   "codemirror_mode": {
    "name": "ipython",
    "version": 3
   },
   "file_extension": ".py",
   "mimetype": "text/x-python",
   "name": "python",
   "nbconvert_exporter": "python",
   "pygments_lexer": "ipython3",
   "version": "3.9.13"
  },
  "orig_nbformat": 4
 },
 "nbformat": 4,
 "nbformat_minor": 2
}
