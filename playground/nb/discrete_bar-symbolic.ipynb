{
 "cells": [
  {
   "cell_type": "code",
   "execution_count": 1,
   "metadata": {},
   "outputs": [],
   "source": [
    "import sympy as sp\n",
    "import numpy as np\n",
    "import matplotlib.pyplot as plt\n",
    "import json\n",
    "import pandas as pd\n",
    "import os\n",
    "\n",
    "import yaml\n",
    "import hashlib"
   ]
  },
  {
   "cell_type": "code",
   "execution_count": 2,
   "metadata": {},
   "outputs": [],
   "source": [
    "class SymbolicDiscreteDamage:\n",
    "    def __init__(self, state, matpar, \n",
    "                 name = \"discrete generalised damage\",\n",
    "                 slug = \"general damage\"):\n",
    "        self.state = state\n",
    "        self.matpar = matpar\n",
    "        self.str = name\n",
    "        self.slug = slug\n",
    "\n",
    "    def _s(self, αi):\n",
    "        s = sp.Function('s')\n",
    "        # s = 1/self._a(αi)\n",
    "        return s(αi)\n",
    "\n",
    "    def _a(self, αi):\n",
    "        γ = self.matpar[\"γ\"]\n",
    "        a = sp.Function('a')\n",
    "        return a(αi)\n",
    "    \n",
    "    def energy(self, state):\n",
    "        \"\"\"Total energy\"\"\"\n",
    "        return self._elastic(state) + self._damage(state) - self.work(state)\n",
    "\n",
    "    def work(self, state):\n",
    "        return 0\n",
    "\n",
    "    def _elastic(self, state):\n",
    "        _e = state[\"e\"]\n",
    "        _α = state[\"α\"]\n",
    "        # _w1 = matpar[\"w1\"]\n",
    "        _E0 = self.matpar[\"E0\"]\n",
    "        _N = self.matpar[\"N\"]\n",
    "    \n",
    "        return sum([1./2. * E0 * self._a(α[i]) * e[i]**2 for i in range(len(α))])\n",
    "\n",
    "    def _w(self, αi):\n",
    "        w = sp.Function('w')\n",
    "\n",
    "        return w(αi)\n",
    "\n",
    "    def _damage(self, state):\n",
    "        _α = state[\"α\"]\n",
    "        _w1 = self.matpar[\"w1\"]\n",
    "\n",
    "        _N = self.matpar[\"N\"]\n",
    "\n",
    "        return sum([_w1 * self._w(_α[i]) for i in range(len(_α))]) \n",
    "        # return _w1 * self._w(_α)\n",
    "\n",
    "\n",
    "    # Explicit expressions\n",
    "    def w(self, αi):\n",
    "        return αi\n",
    "\n",
    "    def a(self, αi):\n",
    "        γ = self.matpar[\"γ\"]\n",
    "\n",
    "        return (1 - self._w(αi)) / ((γ-1) * self._w(αi) + 1)\n",
    "\n",
    "    def s(self, αi):\n",
    "\n",
    "        return 1. / self.a(αi)\n",
    "\n",
    "\n",
    "    def __str__(self):\n",
    "     return self.str\n"
   ]
  },
  {
   "cell_type": "code",
   "execution_count": 3,
   "metadata": {},
   "outputs": [],
   "source": [
    "class ModelAnalysis:\n",
    "    \"\"\"Helper class to analyse (stability) properties of a model\"\"\"\n",
    "\n",
    "    def __init__(self, model):\n",
    "        self.model = model\n",
    "        self.state = model.state\n",
    "        _state = self.state\n",
    "        self.matpar = model.matpar\n",
    "\n",
    "        _β = sp.symbols('β')\n",
    "        _e = sp.symbols('e')\n",
    "        self._β = _β\n",
    "        self._e = _e\n",
    "        \n",
    "        self._s = model._s(_β)\n",
    "        self._sp = sp.diff(self._s, _β, 1)\n",
    "        self._spp = sp.diff(self._s, _β, 2)\n",
    "\n",
    "        self._a = model._a(_β)\n",
    "        self._ap = sp.diff(self._a, _β, 1)\n",
    "        self._app = sp.diff(self._a, _β, 2)\n",
    "\n",
    "        self._w = model._w(_β)\n",
    "        self._wp = sp.diff(self._w, _β)\n",
    "        self._wpp = sp.diff(self._w, _β, 2)\n",
    "\n",
    "        self.criterion()\n",
    "\n",
    "\n",
    "    def criterion(self):\n",
    "        \"\"\"Damage onset\"\"\"\n",
    "        model, state = self.model, self.state\n",
    "        x = sp.symbols('x')\n",
    "\n",
    "        β = self._β\n",
    "        e = self._e\n",
    "\n",
    "        _u0 = t*x/L\n",
    "        _e0 = t/L\n",
    "        _alpha0 = 0\n",
    "\n",
    "        _homogeneous_damage = {a: β for a in state[\"α\"]}\n",
    "        _homogeneous_strain = {ε: e for ε in state[\"e\"]}\n",
    "        _sound = {a: 0 for a in state[\"α\"]}\n",
    "\n",
    "        _crit = sp.diff(\n",
    "            model.energy(state)                 \\\n",
    "                .subs(_homogeneous_damage)      \\\n",
    "                .subs(_homogeneous_strain), β)  \\\n",
    "                .subs({e: _e0, β: _alpha0})    \n",
    "\n",
    "        self.crit = _crit\n",
    "\n",
    "        return _crit\n",
    "\n",
    "    def critical_load(self, matpar = {}):\n",
    "        \"\"\"Critical load\"\"\"\n",
    "\n",
    "        criterion = self.crit           \\\n",
    "            .replace(_a, self.model.a)  \\\n",
    "            .replace(_w, self.model.w)\n",
    "\n",
    "        tc = sp.solve(criterion, t)\n",
    "        \n",
    "        if matpar:\n",
    "            tc = [_tc.subs(_matpar) for _tc in tc if _tc.subs(_matpar).is_positive]\n",
    "        \n",
    "        return tc, criterion\n",
    "\n",
    "\n",
    "    def _equilirbrium_e(self):\n",
    "        state = self.state\n",
    "        _S = sum([self.model._s(αi) for αi in state[\"α\"]])\n",
    "\n",
    "        _e = [(t/L * self.model._s(αi) / _S).simplify() \\\n",
    "                    for αi in state[\"α\"]]\n",
    "\n",
    "        return _e\n",
    "    \n",
    "    def energy_fc_alpha(self):\n",
    "        _ei = self._equilirbrium_e()\n",
    "        state = self.state\n",
    "        equilibrium_subs = {v[0]: v[1] for v in zip(state[\"e\"], _ei)}\n",
    "        \n",
    "        return self.model.energy(state).subs(equilibrium_subs)\n",
    "\n",
    "\n",
    "    def _state_split(self, m, state, matpar):\n",
    "        \"\"\"Split the state into homogeneous and bifurcated parts\"\"\"\n",
    "\n",
    "        assert m < matpar[N]\n",
    "\n",
    "        _bif_α = [state[\"α\"][k+1] for k in range(m)]\n",
    "        _bif_e = [state[\"e\"][k+1] for k in range(m)]\n",
    "\n",
    "        _homo_α = set(state[\"α\"]) - set(_bif_α)\n",
    "        _homo_e = set(state[\"e\"]) - set(_bif_e)\n",
    "\n",
    "        return _bif_α, _homo_α, _bif_e, _homo_e\n",
    "\n",
    "    def _state_homog_substitutions(self, state, matpar):\n",
    "        \"\"\"Substitutions for the homogeneous state\"\"\"\n",
    "        αt = sp.symbols('α_t')\n",
    "        et = sp.symbols('e_t')\n",
    "\n",
    "        _subs_αh = {a: αt for a in state[\"α\"]}\n",
    "        _subs_eh = {e: et for e in state[\"e\"]}\n",
    "\n",
    "        return _subs_αh, _subs_eh\n",
    "\n",
    "\n",
    "    def _state_bifurcation_substitutions(self, m, state, matpar):\n",
    "        \"\"\"Computes substitutions for bifurcated states\"\"\"\n",
    "\n",
    "        assert m < matpar[N]\n",
    "        _bif, _homo, _bif_e, _homo_e = self._state_split(m, state, matpar)\n",
    "        _αb = sp.symbols(\"a^*\")\n",
    "        _eb = sp.symbols(\"e^*\")\n",
    "        αt = sp.symbols('α_t')\n",
    "        et = sp.symbols('e_t')\n",
    "\n",
    "        _subs_αb = {a: _αb for a in _bif}\n",
    "        _subs_eb = {e: _eb for e in _bif_e}\n",
    "\n",
    "        _subs_αt = {a: αt for a in _homo}\n",
    "        _subs_et = {e: et for e in _homo_e}\n",
    "\n",
    "        return {**_subs_αb, **_subs_αt}, {**_subs_eb, **_subs_et}\n",
    "\n",
    "\n",
    "    def homogeneous_α(self, matpar = {}):\n",
    "        \"\"\"Solves the (homogeneous) evolution law for damage\"\"\"\n",
    "        αt = sp.symbols('α_t')\n",
    "        \n",
    "        if matpar:\n",
    "            return [sol.subs(matpar) for sol in \\\n",
    "                    list(map(sp.simplify, sp.solve(self.evo_α(matpar), αt)))]\n",
    "        else:\n",
    "            return list(map(sp.simplify, sp.solve(self.evo_α(), αt)))\n",
    "\n",
    "    def evo_α(self, matpar = {}):\n",
    "        \"\"\"Evolution law for damage\"\"\"\n",
    "        αt = sp.symbols('α_t')\n",
    "        subs_homog_α, _ =  self._state_homog_substitutions(state, matpar)\n",
    "\n",
    "        return sp.diff(self.energy_fc_alpha().subs(subs_homog_α), αt)                   \\\n",
    "            .replace(_a, self.model.a)                  \\\n",
    "            .replace(_w, self.model.w)                  \\\n",
    "            .doit().simplify()\n"
   ]
  },
  {
   "cell_type": "code",
   "execution_count": 4,
   "metadata": {},
   "outputs": [],
   "source": [
    "N = sp.symbols(\"N\", integer=True)\n",
    "t = sp.symbols('t')\n",
    "_N = 2\n",
    "\n",
    "γ = sp.symbols('γ')\n",
    "E0, L, w1, σc = sp.symbols('E0 L w1 σc', positive = True)\n",
    "\n",
    "u = sp.symbols([f\"u{i}\" for i in range(0, _N)])\n",
    "e = sp.symbols([f\"e{i}\" for i in range(1, _N+1)])\n",
    "α = sp.symbols([f\"α{i}\" for i in range(1, _N+1)])\n",
    "_α = sp.symbols(\"α\")\n",
    "\n",
    "\n",
    "\n",
    "β = sp.symbols('β')\n",
    "\n",
    "state = {\"u\": u, \"α\": α, \"e\": e}\n",
    "_matpar = {N: _N, γ: 2, E0: 1, w1: 1, L: 1}\n",
    "matpar = {\"N\": N, \"γ\": γ, \"E0\": E0, \"w1\": w1, \"L\": L}\n",
    "\n"
   ]
  },
  {
   "cell_type": "code",
   "execution_count": 134,
   "metadata": {},
   "outputs": [],
   "source": [
    "_a = sp.Function('a')\n",
    "_w = sp.Function('w')\n",
    "_s = sp.Function('s')\n"
   ]
  },
  {
   "cell_type": "code",
   "execution_count": 135,
   "metadata": {},
   "outputs": [],
   "source": [
    "_s = 1/_a(_α)"
   ]
  },
  {
   "cell_type": "code",
   "execution_count": 136,
   "metadata": {},
   "outputs": [
    {
     "data": {
      "text/latex": [
       "$\\displaystyle \\frac{1}{a{\\left(α \\right)}}$"
      ],
      "text/plain": [
       "1/a(α)"
      ]
     },
     "execution_count": 136,
     "metadata": {},
     "output_type": "execute_result"
    }
   ],
   "source": [
    "_s"
   ]
  },
  {
   "cell_type": "markdown",
   "metadata": {},
   "source": [
    "$$\n",
    "\\begin{aligned}\n",
    "\\mathcal E_N (e, \\alpha) &=  E_0\\sum_{i=0}^N \\frac{1}{2}    a(\\alpha_i)  e_i^2  + \\sum_{i=0}^N {w_1}w(\\alpha_i) \\\\\n",
    "\\tilde {\\mathcal E}_N (u, \\alpha) &=  E_0 N\\sum_{i=0}^N \\frac{1}{2}  a(\\alpha_i)  (u_i-u_{i-1})^2  + \\frac{w_1}{N} \\sum_{i=0}^N w(\\alpha_i) \n",
    "\\end{aligned}\n",
    "$$"
   ]
  },
  {
   "cell_type": "code",
   "execution_count": 5,
   "metadata": {},
   "outputs": [],
   "source": [
    "atls = SymbolicDiscreteDamage(state, matpar)\n"
   ]
  },
  {
   "cell_type": "code",
   "execution_count": 6,
   "metadata": {},
   "outputs": [
    {
     "data": {
      "text/plain": [
       "(s(α1), 1.0*((γ - 1)*w(α1) + 1)/(1 - w(α1)))"
      ]
     },
     "execution_count": 6,
     "metadata": {},
     "output_type": "execute_result"
    }
   ],
   "source": [
    "# Keeping track of both symboilic and explicit expressions\n",
    "\n",
    "atls._s(α[0]), atls.s(α[0])"
   ]
  },
  {
   "cell_type": "code",
   "execution_count": 7,
   "metadata": {},
   "outputs": [
    {
     "data": {
      "text/latex": [
       "$\\displaystyle 0.5 E_{0} e_{1}^{2} a{\\left(α_{1} \\right)} + 0.5 E_{0} e_{2}^{2} a{\\left(α_{2} \\right)} + w_{1} w{\\left(α_{1} \\right)} + w_{1} w{\\left(α_{2} \\right)}$"
      ],
      "text/plain": [
       "0.5*E0*e1**2*a(α1) + 0.5*E0*e2**2*a(α2) + w1*w(α1) + w1*w(α2)"
      ]
     },
     "execution_count": 7,
     "metadata": {},
     "output_type": "execute_result"
    }
   ],
   "source": [
    "atls.energy(state)"
   ]
  },
  {
   "cell_type": "code",
   "execution_count": 8,
   "metadata": {},
   "outputs": [
    {
     "data": {
      "text/latex": [
       "$\\displaystyle \\frac{1.0 E_{0} t^{2} \\left. \\frac{d}{d β} a{\\left(β \\right)} \\right|_{\\substack{ β=0 }}}{L^{2}} + 2 w_{1} \\left. \\frac{d}{d β} w{\\left(β \\right)} \\right|_{\\substack{ β=0 }}$"
      ],
      "text/plain": [
       "1.0*E0*t**2*Subs(Derivative(a(β), β), β, 0)/L**2 + 2*w1*Subs(Derivative(w(β), β), β, 0)"
      ]
     },
     "execution_count": 8,
     "metadata": {},
     "output_type": "execute_result"
    }
   ],
   "source": [
    "model = ModelAnalysis(atls)\n",
    "model.criterion()"
   ]
  },
  {
   "cell_type": "code",
   "execution_count": 143,
   "metadata": {},
   "outputs": [
    {
     "data": {
      "text/latex": [
       "$\\displaystyle \\frac{t s{\\left(α_{1} \\right)}}{L \\left(s{\\left(α_{1} \\right)} + s{\\left(α_{2} \\right)} + s{\\left(α_{3} \\right)}\\right)}$"
      ],
      "text/plain": [
       "t*s(α1)/(L*(s(α1) + s(α2) + s(α3)))"
      ]
     },
     "execution_count": 143,
     "metadata": {},
     "output_type": "execute_result"
    }
   ],
   "source": [
    "model._equilirbrium_e()[0]"
   ]
  },
  {
   "cell_type": "code",
   "execution_count": 144,
   "metadata": {},
   "outputs": [
    {
     "data": {
      "text/latex": [
       "$\\displaystyle 0.5 E_{0} e_{1}^{2} a{\\left(α_{1} \\right)} + 0.5 E_{0} e_{2}^{2} a{\\left(α_{2} \\right)} + 0.5 E_{0} e_{3}^{2} a{\\left(α_{3} \\right)} + w_{1} w{\\left(α_{1} \\right)} + w_{1} w{\\left(α_{2} \\right)} + w_{1} w{\\left(α_{3} \\right)}$"
      ],
      "text/plain": [
       "0.5*E0*e1**2*a(α1) + 0.5*E0*e2**2*a(α2) + 0.5*E0*e3**2*a(α3) + w1*w(α1) + w1*w(α2) + w1*w(α3)"
      ]
     },
     "execution_count": 144,
     "metadata": {},
     "output_type": "execute_result"
    }
   ],
   "source": [
    "model.model.energy(state)\n",
    "\n",
    "# _homogeneous_damage = {a: β for a in state[\"α\"]}\n",
    "# _homogeneous_strain = {e: model._e for e in state[\"e\"]}\n",
    "# _homogeneous_damage, _homogeneous_strain\n"
   ]
  },
  {
   "cell_type": "code",
   "execution_count": 145,
   "metadata": {},
   "outputs": [],
   "source": [
    "tc, criterion = model.critical_load()"
   ]
  },
  {
   "cell_type": "code",
   "execution_count": 146,
   "metadata": {},
   "outputs": [
    {
     "data": {
      "text/plain": [
       "[-1.4142135623731*L*sqrt(w1)*sqrt(1/γ)/sqrt(E0),\n",
       " 1.4142135623731*L*sqrt(w1)*sqrt(1/γ)/sqrt(E0)]"
      ]
     },
     "execution_count": 146,
     "metadata": {},
     "output_type": "execute_result"
    }
   ],
   "source": [
    "tc"
   ]
  },
  {
   "cell_type": "code",
   "execution_count": 147,
   "metadata": {},
   "outputs": [],
   "source": [
    "tc, criterion = model.critical_load(_matpar)"
   ]
  },
  {
   "cell_type": "code",
   "execution_count": 148,
   "metadata": {},
   "outputs": [
    {
     "data": {
      "text/plain": [
       "([0.707106781186548*sqrt(2)],\n",
       " 1.5*E0*t**2*Subs(Derivative((1 - β)/(β*(γ - 1) + 1), β), β, 0)/L**2 + 3*w1*Subs(Derivative(β, β), β, 0))"
      ]
     },
     "execution_count": 148,
     "metadata": {},
     "output_type": "execute_result"
    }
   ],
   "source": [
    "tc, criterion"
   ]
  },
  {
   "cell_type": "code",
   "execution_count": 149,
   "metadata": {},
   "outputs": [
    {
     "data": {
      "text/latex": [
       "$\\displaystyle 0.707106781186548 \\sqrt{2}$"
      ],
      "text/plain": [
       "0.707106781186548*sqrt(2)"
      ]
     },
     "execution_count": 149,
     "metadata": {},
     "output_type": "execute_result"
    }
   ],
   "source": [
    "_tc = [_t.subs(_matpar) for _t in tc if _t.subs(_matpar).is_positive][0]\n",
    "_tc"
   ]
  },
  {
   "cell_type": "code",
   "execution_count": 150,
   "metadata": {},
   "outputs": [
    {
     "data": {
      "text/latex": [
       "$\\displaystyle \\frac{1.5 E_{0} t^{2} \\left. \\frac{d}{d β} a{\\left(β \\right)} \\right|_{\\substack{ β=0 }}}{L^{2}} + 3 w_{1} \\left. \\frac{d}{d β} w{\\left(β \\right)} \\right|_{\\substack{ β=0 }}$"
      ],
      "text/plain": [
       "1.5*E0*t**2*Subs(Derivative(a(β), β), β, 0)/L**2 + 3*w1*Subs(Derivative(w(β), β), β, 0)"
      ]
     },
     "execution_count": 150,
     "metadata": {},
     "output_type": "execute_result"
    }
   ],
   "source": [
    "ModelAnalysis(atls).criterion().doit()"
   ]
  },
  {
   "cell_type": "code",
   "execution_count": 10,
   "metadata": {},
   "outputs": [
    {
     "ename": "NameError",
     "evalue": "name '_a' is not defined",
     "output_type": "error",
     "traceback": [
      "\u001b[0;31m---------------------------------------------------------------------------\u001b[0m",
      "\u001b[0;31mNameError\u001b[0m                                 Traceback (most recent call last)",
      "\u001b[1;32m/Users/kumiori/Documents/WIP/m4s-MEC647/mec647/playground/nb/discrete_bar-symbolic.ipynb Cell 21\u001b[0m in \u001b[0;36m<cell line: 1>\u001b[0;34m()\u001b[0m\n\u001b[1;32m      <a href='vscode-notebook-cell:/Users/kumiori/Documents/WIP/m4s-MEC647/mec647/playground/nb/discrete_bar-symbolic.ipynb#Y135sZmlsZQ%3D%3D?line=0'>1</a>\u001b[0m ModelAnalysis(atls)\u001b[39m.\u001b[39mcriterion()  \\\n\u001b[0;32m----> <a href='vscode-notebook-cell:/Users/kumiori/Documents/WIP/m4s-MEC647/mec647/playground/nb/discrete_bar-symbolic.ipynb#Y135sZmlsZQ%3D%3D?line=1'>2</a>\u001b[0m     \u001b[39m.\u001b[39mreplace(_a, model\u001b[39m.\u001b[39mmodel\u001b[39m.\u001b[39ma )    \\\n\u001b[1;32m      <a href='vscode-notebook-cell:/Users/kumiori/Documents/WIP/m4s-MEC647/mec647/playground/nb/discrete_bar-symbolic.ipynb#Y135sZmlsZQ%3D%3D?line=2'>3</a>\u001b[0m     \u001b[39m.\u001b[39mreplace(_w, model\u001b[39m.\u001b[39mmodel\u001b[39m.\u001b[39mw)\u001b[39m.\u001b[39mdoit()\n",
      "\u001b[0;31mNameError\u001b[0m: name '_a' is not defined"
     ]
    }
   ],
   "source": [
    "ModelAnalysis(atls).criterion()  \\\n",
    "    .replace(_a, model.model.a )    \\\n",
    "    .replace(_w, model.model.w).doit()"
   ]
  },
  {
   "cell_type": "code",
   "execution_count": 151,
   "metadata": {},
   "outputs": [
    {
     "data": {
      "text/latex": [
       "$\\displaystyle - \\frac{1.5 E_{0} t^{2} γ}{L^{2}} + 3 w_{1}$"
      ],
      "text/plain": [
       "-1.5*E0*t**2*γ/L**2 + 3*w1"
      ]
     },
     "execution_count": 151,
     "metadata": {},
     "output_type": "execute_result"
    }
   ],
   "source": [
    "_asd = ModelAnalysis(atls).criterion()  \\\n",
    "    .replace(_a, model.model.a )    \\\n",
    "    .replace(_w, model.model.w).doit()\n",
    "_asd"
   ]
  },
  {
   "cell_type": "code",
   "execution_count": 159,
   "metadata": {},
   "outputs": [
    {
     "data": {
      "text/latex": [
       "$\\displaystyle - γ$"
      ],
      "text/plain": [
       "-γ"
      ]
     },
     "execution_count": 159,
     "metadata": {},
     "output_type": "execute_result"
    }
   ],
   "source": [
    "sp.diff(model.model.a(_α)       \\\n",
    "        .replace(_w, model.model.w), \n",
    "    _α)                         \\\n",
    "        .subs({_α: 0}).doit()"
   ]
  },
  {
   "cell_type": "code",
   "execution_count": 160,
   "metadata": {},
   "outputs": [
    {
     "data": {
      "text/latex": [
       "$\\displaystyle \\frac{1.5 E_{0} t^{2} \\left. \\frac{d}{d β} a{\\left(β \\right)} \\right|_{\\substack{ β=0 }}}{L^{2}} + 3 w_{1} \\left. \\frac{d}{d β} w{\\left(β \\right)} \\right|_{\\substack{ β=0 }}$"
      ],
      "text/plain": [
       "1.5*E0*t**2*Subs(Derivative(a(β), β), β, 0)/L**2 + 3*w1*Subs(Derivative(w(β), β), β, 0)"
      ]
     },
     "execution_count": 160,
     "metadata": {},
     "output_type": "execute_result"
    }
   ],
   "source": [
    "_asd = ModelAnalysis(atls).criterion()\n",
    "_asd"
   ]
  },
  {
   "cell_type": "code",
   "execution_count": 161,
   "metadata": {},
   "outputs": [],
   "source": [
    "_homogeneous = {a: β for a in state[\"α\"]}\n",
    "_sound = {a: 0 for a in state[\"α\"]}"
   ]
  },
  {
   "cell_type": "code",
   "execution_count": 162,
   "metadata": {},
   "outputs": [
    {
     "data": {
      "text/plain": [
       "({α1: 0, α2: 0, α3: 0}, {α1: β, α2: β, α3: β})"
      ]
     },
     "execution_count": 162,
     "metadata": {},
     "output_type": "execute_result"
    }
   ],
   "source": [
    "_sound, _homogeneous"
   ]
  },
  {
   "cell_type": "code",
   "execution_count": 163,
   "metadata": {},
   "outputs": [
    {
     "data": {
      "text/latex": [
       "$\\displaystyle 0.5 E_{0} e_{1}^{2} \\frac{d}{d β} a{\\left(β \\right)} + 0.5 E_{0} e_{2}^{2} \\frac{d}{d β} a{\\left(β \\right)} + 0.5 E_{0} e_{3}^{2} \\frac{d}{d β} a{\\left(β \\right)} + 3 w_{1} \\frac{d}{d β} w{\\left(β \\right)}$"
      ],
      "text/plain": [
       "0.5*E0*e1**2*Derivative(a(β), β) + 0.5*E0*e2**2*Derivative(a(β), β) + 0.5*E0*e3**2*Derivative(a(β), β) + 3*w1*Derivative(w(β), β)"
      ]
     },
     "execution_count": 163,
     "metadata": {},
     "output_type": "execute_result"
    }
   ],
   "source": [
    "sp.diff(atls.energy(state).subs(_homogeneous), β).simplify()"
   ]
  },
  {
   "cell_type": "markdown",
   "metadata": {},
   "source": [
    "## Model Analysis\n",
    "\n",
    "- (constitutive assumptions)\n",
    "- equilibrium\n",
    "- homogeneous solution\n",
    "- homogeneous energy\n",
    "- bifurcations\n",
    "- stability"
   ]
  },
  {
   "cell_type": "code",
   "execution_count": 185,
   "metadata": {},
   "outputs": [],
   "source": [
    "N = sp.symbols(\"N\", integer=True)\n",
    "t = sp.symbols('t')\n",
    "_N = 2\n",
    "\n",
    "γ = sp.symbols('γ')\n",
    "E0, L, w1, σc = sp.symbols('E0 L w1 σc', positive = True)\n",
    "\n",
    "u = sp.symbols([f\"u{i}\" for i in range(0, _N)])\n",
    "e = sp.symbols([f\"e{i}\" for i in range(1, _N+1)])\n",
    "α = sp.symbols([f\"α{i}\" for i in range(1, _N+1)])\n",
    "_α = sp.symbols(\"α\")\n",
    "\n",
    "β = sp.symbols('β')\n",
    "αt = sp.symbols('α_t')\n",
    "\n",
    "\n",
    "state = {\"u\": u, \"α\": α, \"e\": e}\n",
    "_matpar = {N: _N, γ: 2, E0: 1, w1: 1, L: 1}\n",
    "matpar = {\"N\": N, \"γ\": γ, \"E0\": E0, \"w1\": w1, \"L\": L}\n",
    "\n"
   ]
  },
  {
   "cell_type": "code",
   "execution_count": 186,
   "metadata": {},
   "outputs": [
    {
     "data": {
      "text/latex": [
       "$\\displaystyle \\frac{1.0 E_{0} t^{2} \\left. \\frac{d}{d β} a{\\left(β \\right)} \\right|_{\\substack{ β=0 }}}{L^{2}} + 2 w_{1} \\left. \\frac{d}{d β} w{\\left(β \\right)} \\right|_{\\substack{ β=0 }}$"
      ],
      "text/plain": [
       "1.0*E0*t**2*Subs(Derivative(a(β), β), β, 0)/L**2 + 2*w1*Subs(Derivative(w(β), β), β, 0)"
      ]
     },
     "execution_count": 186,
     "metadata": {},
     "output_type": "execute_result"
    }
   ],
   "source": [
    "atls = SymbolicDiscreteDamage(state, matpar)\n",
    "model = ModelAnalysis(atls)\n",
    "model.criterion()"
   ]
  },
  {
   "cell_type": "code",
   "execution_count": 187,
   "metadata": {},
   "outputs": [
    {
     "data": {
      "text/latex": [
       "$\\displaystyle 0.5 E_{0} e_{1}^{2} a{\\left(α_{1} \\right)} + 0.5 E_{0} e_{2}^{2} a{\\left(α_{2} \\right)} + w_{1} w{\\left(α_{1} \\right)} + w_{1} w{\\left(α_{2} \\right)}$"
      ],
      "text/plain": [
       "0.5*E0*e1**2*a(α1) + 0.5*E0*e2**2*a(α2) + w1*w(α1) + w1*w(α2)"
      ]
     },
     "execution_count": 187,
     "metadata": {},
     "output_type": "execute_result"
    }
   ],
   "source": [
    "atls.energy(state)"
   ]
  },
  {
   "cell_type": "code",
   "execution_count": 188,
   "metadata": {},
   "outputs": [
    {
     "data": {
      "text/plain": [
       "{'u': [u0, u1], 'α': [α1, α2], 'e': [e1, e2]}"
      ]
     },
     "execution_count": 188,
     "metadata": {},
     "output_type": "execute_result"
    }
   ],
   "source": [
    "state"
   ]
  },
  {
   "cell_type": "code",
   "execution_count": 189,
   "metadata": {},
   "outputs": [
    {
     "data": {
      "text/latex": [
       "$\\displaystyle \\frac{0.5 E_{0} t^{2} a{\\left(α_{1} \\right)} s^{2}{\\left(α_{1} \\right)}}{L^{2} \\left(s{\\left(α_{1} \\right)} + s{\\left(α_{2} \\right)}\\right)^{2}} + \\frac{0.5 E_{0} t^{2} a{\\left(α_{2} \\right)} s^{2}{\\left(α_{2} \\right)}}{L^{2} \\left(s{\\left(α_{1} \\right)} + s{\\left(α_{2} \\right)}\\right)^{2}} + w_{1} w{\\left(α_{1} \\right)} + w_{1} w{\\left(α_{2} \\right)}$"
      ],
      "text/plain": [
       "0.5*E0*t**2*a(α1)*s(α1)**2/(L**2*(s(α1) + s(α2))**2) + 0.5*E0*t**2*a(α2)*s(α2)**2/(L**2*(s(α1) + s(α2))**2) + w1*w(α1) + w1*w(α2)"
      ]
     },
     "execution_count": 189,
     "metadata": {},
     "output_type": "execute_result"
    }
   ],
   "source": [
    "model.energy_fc_alpha()"
   ]
  },
  {
   "cell_type": "markdown",
   "metadata": {},
   "source": [
    "### homogeneous solution"
   ]
  },
  {
   "cell_type": "code",
   "execution_count": 198,
   "metadata": {},
   "outputs": [
    {
     "data": {
      "text/plain": [
       "{e1: t*s(α1)/(L*(s(α1) + s(α2))), e2: t*s(α2)/(L*(s(α1) + s(α2)))}"
      ]
     },
     "execution_count": 198,
     "metadata": {},
     "output_type": "execute_result"
    }
   ],
   "source": [
    "_ei = model._equilirbrium_e()\n",
    "# state = model.state\n",
    "equilibrium_subs = {v[0]: v[1] for v in zip(state[\"e\"], _ei)}\n",
    "# \n",
    "# return self.model.energy(state).subs(equilibrium_subs)\n",
    "# _ei, state, \n",
    "equilibrium_subs"
   ]
  },
  {
   "cell_type": "code",
   "execution_count": 199,
   "metadata": {},
   "outputs": [],
   "source": [
    "subs_homog_α, subs_homog_e =  model._state_homog_substitutions(state, _matpar)"
   ]
  },
  {
   "cell_type": "code",
   "execution_count": 200,
   "metadata": {},
   "outputs": [
    {
     "data": {
      "text/plain": [
       "({α1: α_t, α2: α_t}, {e1: e_t, e2: e_t})"
      ]
     },
     "execution_count": 200,
     "metadata": {},
     "output_type": "execute_result"
    }
   ],
   "source": [
    "# Substitutions to compute homogeneous solutions\n",
    "subs_homog_α, subs_homog_e"
   ]
  },
  {
   "cell_type": "code",
   "execution_count": 208,
   "metadata": {},
   "outputs": [
    {
     "data": {
      "text/latex": [
       "$\\displaystyle \\frac{0.5 E_{0} t^{2} a{\\left(α_{1} \\right)} s^{2}{\\left(α_{1} \\right)}}{L^{2} \\left(s{\\left(α_{1} \\right)} + s{\\left(α_{2} \\right)}\\right)^{2}} + \\frac{0.5 E_{0} t^{2} a{\\left(α_{2} \\right)} s^{2}{\\left(α_{2} \\right)}}{L^{2} \\left(s{\\left(α_{1} \\right)} + s{\\left(α_{2} \\right)}\\right)^{2}} + w_{1} w{\\left(α_{1} \\right)} + w_{1} w{\\left(α_{2} \\right)}$"
      ],
      "text/plain": [
       "0.5*E0*t**2*a(α1)*s(α1)**2/(L**2*(s(α1) + s(α2))**2) + 0.5*E0*t**2*a(α2)*s(α2)**2/(L**2*(s(α1) + s(α2))**2) + w1*w(α1) + w1*w(α2)"
      ]
     },
     "execution_count": 208,
     "metadata": {},
     "output_type": "execute_result"
    }
   ],
   "source": [
    "model.energy_fc_alpha() \n",
    "# \\\n",
    "# .subs(subs_homog_α)"
   ]
  },
  {
   "cell_type": "code",
   "execution_count": 209,
   "metadata": {},
   "outputs": [
    {
     "data": {
      "text/plain": [
       "a"
      ]
     },
     "execution_count": 209,
     "metadata": {},
     "output_type": "execute_result"
    }
   ],
   "source": [
    "_a"
   ]
  },
  {
   "cell_type": "code",
   "execution_count": 210,
   "metadata": {},
   "outputs": [],
   "source": [
    "def _evo_α(model, matpar = {}):\n",
    "    \"\"\"Evolution law for damage\"\"\"\n",
    "    αt = sp.symbols('α_t')\n",
    "    subs_homog_α, _ =  model._state_homog_substitutions(state, matpar)\n",
    "\n",
    "    return sp.diff(model.energy_fc_alpha().subs(subs_homog_α), αt)                   \\\n",
    "        .replace(_a, model.model.a)                  \\\n",
    "        .replace(_w, model.model.w)                  \\\n",
    "        .doit().simplify()"
   ]
  },
  {
   "cell_type": "code",
   "execution_count": 212,
   "metadata": {},
   "outputs": [
    {
     "data": {
      "text/plain": [
       "[(-0.353553390593274*sqrt(E0)*t*sqrt(γ)*(γ - 1.0)**2 - L*sqrt(w1)*(γ**2 - 2.0*γ + 1.0))/(L*sqrt(w1)*(γ - 1.0)*(γ**2 - 2.0*γ + 1.0)),\n",
       " (0.353553390593274*sqrt(E0)*t*sqrt(γ)*(γ - 1.0)**2 - L*sqrt(w1)*(γ**2 - 2.0*γ + 1.0))/(L*sqrt(w1)*(γ - 1.0)*(γ**2 - 2.0*γ + 1.0))]"
      ]
     },
     "execution_count": 212,
     "metadata": {},
     "output_type": "execute_result"
    }
   ],
   "source": [
    "sp.solve(_evo_α(model), αt)"
   ]
  },
  {
   "cell_type": "code",
   "execution_count": 213,
   "metadata": {},
   "outputs": [
    {
     "data": {
      "text/plain": [
       "[-0.353553390593274*sqrt(2)*t - 1.0, 0.353553390593274*sqrt(2)*t - 1.0]"
      ]
     },
     "execution_count": 213,
     "metadata": {},
     "output_type": "execute_result"
    }
   ],
   "source": [
    "model.homogeneous_α(_matpar)"
   ]
  },
  {
   "cell_type": "code",
   "execution_count": 174,
   "metadata": {},
   "outputs": [],
   "source": [
    "_homo_α_fc_t = model.homogeneous_α(_matpar)[1]      \\\n",
    "            .replace(_a, model.model.a)  \\\n",
    "            .replace(_w, model.model.w).doit()"
   ]
  },
  {
   "cell_type": "code",
   "execution_count": 216,
   "metadata": {},
   "outputs": [
    {
     "name": "stderr",
     "output_type": "stream",
     "text": [
      "/var/folders/9t/b79vbddd6cz3hhc20g8hk86m0000gn/T/ipykernel_1823/4291762865.py:2: DeprecationWarning: `np.float` is a deprecated alias for the builtin `float`. To silence this warning, use `float` by itself. Doing this will not modify any behavior and is safe. If you specifically wanted the numpy scalar type, use `np.float64` here.\n",
      "Deprecated in NumPy 1.20; for more details and guidance: https://numpy.org/devdocs/release/1.20.0-notes.html#deprecations\n",
      "  _loads = np.linspace(0., np.float(γ.subs(_matpar)), 30)\n"
     ]
    },
    {
     "data": {
      "text/plain": [
       "<matplotlib.lines.Line2D at 0x1362bdb80>"
      ]
     },
     "execution_count": 216,
     "metadata": {},
     "output_type": "execute_result"
    },
    {
     "data": {
      "image/png": "[encoded data removed]",
      "text/plain": [
       "<Figure size 432x288 with 1 Axes>"
      ]
     },
     "metadata": {
      "needs_background": "light"
     },
     "output_type": "display_data"
    }
   ],
   "source": [
    "evos = model.homogeneous_α(_matpar)\n",
    "_loads = np.linspace(0., np.float(γ.subs(_matpar)), 30)\n",
    "\n",
    "for alphas in evos:\n",
    "    _f = sp.lambdify(t, alphas, 'numpy')\n",
    "    plt.plot(_loads, _f(_loads), c='k')\n",
    "\n",
    "plt.axhline(0)"
   ]
  },
  {
   "cell_type": "code",
   "execution_count": 175,
   "metadata": {},
   "outputs": [
    {
     "data": {
      "text/latex": [
       "$\\displaystyle 0.235702260395516 \\sqrt{2} t - 1.0$"
      ],
      "text/plain": [
       "0.235702260395516*sqrt(2)*t - 1.0"
      ]
     },
     "execution_count": 175,
     "metadata": {},
     "output_type": "execute_result"
    }
   ],
   "source": [
    "_homo_α_fc_t"
   ]
  },
  {
   "cell_type": "code",
   "execution_count": 176,
   "metadata": {},
   "outputs": [
    {
     "data": {
      "text/plain": [
       "[α1, α2, α3]"
      ]
     },
     "execution_count": 176,
     "metadata": {},
     "output_type": "execute_result"
    }
   ],
   "source": [
    "α"
   ]
  },
  {
   "cell_type": "code",
   "execution_count": 177,
   "metadata": {},
   "outputs": [],
   "source": [
    "cond = (_α > 0).subs(_α, _homo_α_fc_t)"
   ]
  },
  {
   "cell_type": "code",
   "execution_count": 178,
   "metadata": {},
   "outputs": [
    {
     "data": {
      "text/latex": [
       "$\\displaystyle - \\frac{0.166666666666667 E_{0} t^{2} γ}{L^{2} \\left(α_{t} γ - α_{t} + 1\\right)^{2}} + 3 w_{1}$"
      ],
      "text/plain": [
       "-0.166666666666667*E0*t**2*γ/(L**2*(α_t*γ - α_t + 1)**2) + 3*w1"
      ]
     },
     "execution_count": 178,
     "metadata": {},
     "output_type": "execute_result"
    }
   ],
   "source": [
    "model.evo_α()"
   ]
  },
  {
   "cell_type": "code",
   "execution_count": 179,
   "metadata": {},
   "outputs": [
    {
     "data": {
      "text/latex": [
       "$\\displaystyle - \\frac{0.166666666666667 E_{0} t^{2} γ}{L^{2} \\left(α_{t} γ - α_{t} + 1\\right)^{2}} + 3 w_{1}$"
      ],
      "text/plain": [
       "-0.166666666666667*E0*t**2*γ/(L**2*(α_t*γ - α_t + 1)**2) + 3*w1"
      ]
     },
     "execution_count": 179,
     "metadata": {},
     "output_type": "execute_result"
    }
   ],
   "source": [
    "model.evo_α(_matpar)"
   ]
  },
  {
   "cell_type": "code",
   "execution_count": 180,
   "metadata": {},
   "outputs": [
    {
     "data": {
      "text/plain": [
       "[(-0.235702260395516*sqrt(E0)*t*sqrt(γ)*(γ - 1.0)**2 - L*sqrt(w1)*(γ**2 - 2.0*γ + 1.0))/(L*sqrt(w1)*(γ - 1.0)*(γ**2 - 2.0*γ + 1.0)),\n",
       " (0.235702260395516*sqrt(E0)*t*sqrt(γ)*(γ - 1.0)**2 - L*sqrt(w1)*(γ**2 - 2.0*γ + 1.0))/(L*sqrt(w1)*(γ - 1.0)*(γ**2 - 2.0*γ + 1.0))]"
      ]
     },
     "execution_count": 180,
     "metadata": {},
     "output_type": "execute_result"
    }
   ],
   "source": [
    "model.homogeneous_α()"
   ]
  },
  {
   "cell_type": "code",
   "execution_count": 181,
   "metadata": {},
   "outputs": [
    {
     "data": {
      "text/plain": [
       "[-0.235702260395516*sqrt(2)*t - 1.0, 0.235702260395516*sqrt(2)*t - 1.0]"
      ]
     },
     "execution_count": 181,
     "metadata": {},
     "output_type": "execute_result"
    }
   ],
   "source": [
    "model.homogeneous_α(_matpar)"
   ]
  },
  {
   "cell_type": "markdown",
   "metadata": {},
   "source": [
    "### Plots of homogeneous response"
   ]
  },
  {
   "cell_type": "code",
   "execution_count": 182,
   "metadata": {},
   "outputs": [
    {
     "data": {
      "text/plain": [
       "{α1: α_t, α2: α_t, α3: α_t}"
      ]
     },
     "execution_count": 182,
     "metadata": {},
     "output_type": "execute_result"
    }
   ],
   "source": [
    "subs_homog_α"
   ]
  },
  {
   "cell_type": "code",
   "execution_count": 183,
   "metadata": {},
   "outputs": [
    {
     "data": {
      "text/latex": [
       "$\\displaystyle 0.235702260395516 \\sqrt{2} t - 1.0$"
      ],
      "text/plain": [
       "0.235702260395516*sqrt(2)*t - 1.0"
      ]
     },
     "execution_count": 183,
     "metadata": {},
     "output_type": "execute_result"
    }
   ],
   "source": [
    "_homo_α_fc_t"
   ]
  },
  {
   "cell_type": "code",
   "execution_count": 184,
   "metadata": {},
   "outputs": [
    {
     "name": "stderr",
     "output_type": "stream",
     "text": [
      "/var/folders/9t/b79vbddd6cz3hhc20g8hk86m0000gn/T/ipykernel_1823/1927182374.py:2: DeprecationWarning: `np.float` is a deprecated alias for the builtin `float`. To silence this warning, use `float` by itself. Doing this will not modify any behavior and is safe. If you specifically wanted the numpy scalar type, use `np.float64` here.\n",
      "Deprecated in NumPy 1.20; for more details and guidance: https://numpy.org/devdocs/release/1.20.0-notes.html#deprecations\n",
      "  _loads = np.linspace(0., np.float(γ.subs(_matpar)), 30)\n"
     ]
    },
    {
     "data": {
      "text/plain": [
       "array([-1.        , -0.97701149, -0.95402299, -0.93103448, -0.90804598,\n",
       "       -0.88505747, -0.86206897, -0.83908046, -0.81609195, -0.79310345,\n",
       "       -0.77011494, -0.74712644, -0.72413793, -0.70114943, -0.67816092,\n",
       "       -0.65517241, -0.63218391, -0.6091954 , -0.5862069 , -0.56321839,\n",
       "       -0.54022989, -0.51724138, -0.49425287, -0.47126437, -0.44827586,\n",
       "       -0.42528736, -0.40229885, -0.37931034, -0.35632184, -0.33333333])"
      ]
     },
     "execution_count": 184,
     "metadata": {},
     "output_type": "execute_result"
    }
   ],
   "source": [
    "_f = sp.lambdify(t, _homo_α_fc_t, 'numpy')\n",
    "_loads = np.linspace(0., np.float(γ.subs(_matpar)), 30)\n",
    "\n",
    "_f(_loads)"
   ]
  },
  {
   "cell_type": "code",
   "execution_count": 70,
   "metadata": {},
   "outputs": [
    {
     "name": "stderr",
     "output_type": "stream",
     "text": [
      "/var/folders/9t/b79vbddd6cz3hhc20g8hk86m0000gn/T/ipykernel_1823/241540292.py:4: DeprecationWarning: `np.float` is a deprecated alias for the builtin `float`. To silence this warning, use `float` by itself. Doing this will not modify any behavior and is safe. If you specifically wanted the numpy scalar type, use `np.float64` here.\n",
      "Deprecated in NumPy 1.20; for more details and guidance: https://numpy.org/devdocs/release/1.20.0-notes.html#deprecations\n",
      "  _loads = np.linspace(0., np.float(γ.subs(_matpar)), 100)\n",
      "/var/folders/9t/b79vbddd6cz3hhc20g8hk86m0000gn/T/ipykernel_1823/241540292.py:10: DeprecationWarning: `np.float` is a deprecated alias for the builtin `float`. To silence this warning, use `float` by itself. Doing this will not modify any behavior and is safe. If you specifically wanted the numpy scalar type, use `np.float64` here.\n",
      "Deprecated in NumPy 1.20; for more details and guidance: https://numpy.org/devdocs/release/1.20.0-notes.html#deprecations\n",
      "  plt.xticks([0, np.float(γ.subs(_matpar))], [0, '$\\\\gamma$'])\n"
     ]
    },
    {
     "data": {
      "text/plain": [
       "([<matplotlib.axis.YTick at 0x1271e9f70>,\n",
       "  <matplotlib.axis.YTick at 0x1360e7d60>],\n",
       " [Text(0, 0, '0'), Text(0, 1, '1')])"
      ]
     },
     "execution_count": 70,
     "metadata": {},
     "output_type": "execute_result"
    },
    {
     "data": {
      "image/png": "[encoded data removed]",
      "text/plain": [
       "<Figure size 432x288 with 1 Axes>"
      ]
     },
     "metadata": {
      "needs_background": "light"
     },
     "output_type": "display_data"
    }
   ],
   "source": [
    "# _cond = (_α > 0).subs(_α, _homo_α_fc_t)\n",
    "# _alpha = sp.Piecewise((0, True), (_homo_α_fc_t, _cond))\n",
    "_f = sp.lambdify(t, _homo_α_fc_t, 'numpy')\n",
    "_loads = np.linspace(0., np.float(γ.subs(_matpar)), 100)\n",
    "plt.axhline(0)\n",
    "plt.plot(_loads, np.maximum(_f(_loads), np.zeros_like(_loads)), c='k')\n",
    "# plt.plot(_loads, _f(_loads))\n",
    "plt.xlabel('t')\n",
    "plt.ylabel('$\\\\alpha$')\n",
    "plt.xticks([0, np.float(γ.subs(_matpar))], [0, '$\\\\gamma$'])\n",
    "plt.yticks([0, 1], [0, 1])"
   ]
  },
  {
   "cell_type": "code",
   "execution_count": null,
   "metadata": {},
   "outputs": [],
   "source": []
  },
  {
   "cell_type": "code",
   "execution_count": 253,
   "metadata": {},
   "outputs": [
    {
     "data": {
      "text/latex": [
       "$\\displaystyle \\frac{0.5 t^{2} \\cdot \\left(1 - α_{t}\\right) + α_{t} \\left(α_{t} + 1\\right)}{α_{t} + 1}$"
      ],
      "text/plain": [
       "(0.5*t**2*(1 - α_t) + α_t*(α_t + 1))/(α_t + 1)"
      ]
     },
     "execution_count": 253,
     "metadata": {},
     "output_type": "execute_result"
    }
   ],
   "source": [
    "    # .replace(sp.Function('a'), atls.a)      \\\n",
    "\n",
    "model.energy_fc_alpha().subs(subs_homog_α)  \\\n",
    "    .replace(sp.Function('w'), atls.w)      \\\n",
    "    .replace(_a, model.model.a)             \\\n",
    "    .replace(_w, model.model.w)             \\\n",
    "    .subs(_matpar).simplify()\n",
    "\n",
    "# _bif_crit"
   ]
  },
  {
   "cell_type": "markdown",
   "metadata": {},
   "source": [
    "### Bifurcations\n",
    "\n",
    "Compute bifurcated solutions with $m$ damaging springs out of the available $N$, with $m<N$"
   ]
  },
  {
   "cell_type": "code",
   "execution_count": 143,
   "metadata": {},
   "outputs": [
    {
     "data": {
      "text/latex": [
       "$\\displaystyle \\frac{1.0 E_{0} N t^{2} \\left. \\frac{d}{d β} a{\\left(β \\right)} \\right|_{\\substack{ β=0 }}}{L^{2}} + \\frac{2 w_{1} \\left. \\frac{d}{d β} w{\\left(β \\right)} \\right|_{\\substack{ β=0 }}}{N}$"
      ],
      "text/plain": [
       "1.0*E0*N*t**2*Subs(Derivative(a(β), β), β, 0)/L**2 + 2*w1*Subs(Derivative(w(β), β), β, 0)/N"
      ]
     },
     "execution_count": 143,
     "metadata": {},
     "output_type": "execute_result"
    }
   ],
   "source": [
    "atls = SymbolicDiscreteDamage(state, matpar)\n",
    "model = ModelAnalysis(atls)\n",
    "model.criterion()"
   ]
  },
  {
   "cell_type": "code",
   "execution_count": 144,
   "metadata": {},
   "outputs": [],
   "source": [
    "# we bifurcate m springs\n",
    "\n",
    "m = 1\n",
    "\n",
    "assert m < _matpar[N]"
   ]
  },
  {
   "cell_type": "code",
   "execution_count": 145,
   "metadata": {},
   "outputs": [
    {
     "name": "stdout",
     "output_type": "stream",
     "text": [
      "set of bifurcated springs [α2]\n",
      "set of homogeneous springs {α1}\n"
     ]
    }
   ],
   "source": [
    "bif_α, homo_α, bif_e, homo_e = model._state_split(m, state, _matpar)\n",
    "print(f'set of bifurcated springs {bif_α}')\n",
    "print(f'set of homogeneous springs {homo_α}')"
   ]
  },
  {
   "cell_type": "code",
   "execution_count": 147,
   "metadata": {},
   "outputs": [],
   "source": [
    "subs_bif_α, subs_bif_e =  model._state_bifurcation_substitutions(1, state, _matpar)"
   ]
  },
  {
   "cell_type": "code",
   "execution_count": 149,
   "metadata": {},
   "outputs": [
    {
     "data": {
      "text/plain": [
       "{α2: a^*, α1: α_t}"
      ]
     },
     "execution_count": 149,
     "metadata": {},
     "output_type": "execute_result"
    }
   ],
   "source": [
    "# substitutions for damage \n",
    "subs_bif_α"
   ]
  },
  {
   "cell_type": "code",
   "execution_count": 150,
   "metadata": {},
   "outputs": [
    {
     "data": {
      "text/plain": [
       "{e2: e^*, e1: e_t}"
      ]
     },
     "execution_count": 150,
     "metadata": {},
     "output_type": "execute_result"
    }
   ],
   "source": [
    "# substitutions for strain\n",
    "\n",
    "subs_bif_e"
   ]
  },
  {
   "cell_type": "code",
   "execution_count": 151,
   "metadata": {},
   "outputs": [],
   "source": [
    "# The energy of the bifurcated system\n",
    "\n",
    "_en_alpha_bifurcations = model.energy_fc_alpha().subs(subs_bif_α).subs({sp.symbols('α_t'): 0})\n",
    "\n",
    "# The derivative of the energy in the direction of bifurcations, \n",
    "# computed for the model at hand, for the bifurcated solutions \n",
    "\n",
    "_en_bif_model_prime = sp.diff(_en_alpha_bifurcations, sp.symbols(\"a^*\")) \\\n",
    "            .replace(_a, model.model.a)  \\\n",
    "            .replace(_w, model.model.w).doit()\n"
   ]
  },
  {
   "cell_type": "code",
   "execution_count": 156,
   "metadata": {},
   "outputs": [
    {
     "data": {
      "text/latex": [
       "$\\displaystyle \\frac{0.5 E_{0} N t^{2} a{\\left(0 \\right)} s^{2}{\\left(0 \\right)}}{L^{2} \\left(s{\\left(0 \\right)} + s{\\left(a^{*} \\right)}\\right)^{2}} + \\frac{0.5 E_{0} N t^{2} a{\\left(a^{*} \\right)} s^{2}{\\left(a^{*} \\right)}}{L^{2} \\left(s{\\left(0 \\right)} + s{\\left(a^{*} \\right)}\\right)^{2}} + \\frac{w_{1} w{\\left(0 \\right)}}{N} + \\frac{w_{1} w{\\left(a^{*} \\right)}}{N}$"
      ],
      "text/plain": [
       "0.5*E0*N*t**2*a(0)*s(0)**2/(L**2*(s(0) + s(a^*))**2) + 0.5*E0*N*t**2*a(a^*)*s(a^*)**2/(L**2*(s(0) + s(a^*))**2) + w1*w(0)/N + w1*w(a^*)/N"
      ]
     },
     "execution_count": 156,
     "metadata": {},
     "output_type": "execute_result"
    }
   ],
   "source": [
    "_en_alpha_bifurcations"
   ]
  },
  {
   "cell_type": "code",
   "execution_count": 157,
   "metadata": {},
   "outputs": [
    {
     "data": {
      "text/latex": [
       "$\\displaystyle 0.25 \\left(a^{*}\\right)^{2} t^{2} \\left(- \\frac{1 - a^{*}}{\\left(a^{*} + 1\\right)^{2}} - \\frac{1}{a^{*} + 1}\\right) + 0.5 a^{*} t^{2} \\left(- \\frac{1 - a^{*}}{\\left(a^{*} + 1\\right)^{2}} - \\frac{1}{a^{*} + 1}\\right) + 0.25 t^{2} \\left(- \\frac{1 - a^{*}}{\\left(a^{*} + 1\\right)^{2}} - \\frac{1}{a^{*} + 1}\\right) + 0.5$"
      ],
      "text/plain": [
       "0.25*a^***2*t**2*(-(1 - a^*)/(a^* + 1)**2 - 1/(a^* + 1)) + 0.5*a^**t**2*(-(1 - a^*)/(a^* + 1)**2 - 1/(a^* + 1)) + 0.25*t**2*(-(1 - a^*)/(a^* + 1)**2 - 1/(a^* + 1)) + 0.5"
      ]
     },
     "execution_count": 157,
     "metadata": {},
     "output_type": "execute_result"
    }
   ],
   "source": [
    "_bif_crit = sp.diff(_en_alpha_bifurcations, sp.symbols(\"a^*\"))      \\\n",
    "    .replace(sp.Function('s'), atls.s)      \\\n",
    "    .replace(sp.Function('w'), atls.w)      \\\n",
    "    .replace(_a, model.model.a)             \\\n",
    "    .replace(_w, model.model.w)             \\\n",
    "    .subs(_matpar).simplify()\n",
    "\n",
    "_bif_crit"
   ]
  },
  {
   "cell_type": "code",
   "execution_count": 161,
   "metadata": {},
   "outputs": [
    {
     "data": {
      "text/latex": [
       "$\\displaystyle \\frac{\\left(0.5 - 0.5 t^{2}\\right) \\left(1.0 a^{*} + 1.0\\right)^{2}}{\\left(a^{*} + 1\\right)^{2}}$"
      ],
      "text/plain": [
       "(0.5 - 0.5*t**2)*(1.0*a^* + 1.0)**2/(a^* + 1)**2"
      ]
     },
     "execution_count": 161,
     "metadata": {},
     "output_type": "execute_result"
    }
   ],
   "source": [
    "_bif_crit.factor(sp.symbols(\"a^*\")), "
   ]
  },
  {
   "cell_type": "code",
   "execution_count": 162,
   "metadata": {},
   "outputs": [
    {
     "data": {
      "text/plain": [
       "[]"
      ]
     },
     "execution_count": 162,
     "metadata": {},
     "output_type": "execute_result"
    }
   ],
   "source": [
    "sp.solve(_bif_crit.factor(sp.symbols(\"a^*\")), sp.symbols(\"a^*\"))"
   ]
  },
  {
   "cell_type": "code",
   "execution_count": null,
   "metadata": {},
   "outputs": [],
   "source": []
  }
 ],
 "metadata": {
  "kernelspec": {
   "display_name": "Python 3",
   "language": "python",
   "name": "python3"
  },
  "language_info": {
   "codemirror_mode": {
    "name": "ipython",
    "version": 3
   },
   "file_extension": ".py",
   "mimetype": "text/x-python",
   "name": "python",
   "nbconvert_exporter": "python",
   "pygments_lexer": "ipython3",
   "version": "3.9.13"
  },
  "orig_nbformat": 4
 },
 "nbformat": 4,
 "nbformat_minor": 2
}
