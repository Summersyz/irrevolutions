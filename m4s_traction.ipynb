{
  "nbformat": 4,
  "nbformat_minor": 0,
  "metadata": {
    "colab": {
      "name": "m4s-1dtraction.ipynb",
      "provenance": [],
      "collapsed_sections": [],
      "authorship_tag": "ABX9TyMJEApQvnpghX9MeQig7Qas",
      "include_colab_link": true
    },
    "kernelspec": {
      "name": "python3",
      "display_name": "Python 3"
    }
  },
  "cells": [
    {
      "cell_type": "markdown",
      "metadata": {
        "id": "view-in-github",
        "colab_type": "text"
      },
      "source": [
        "<a href=\"https://colab.research.google.com/github/kumiori/mec647/blob/main/m4s_traction.ipynb\" target=\"_parent\"><img src=\"https://colab.research.google.com/assets/colab-badge.svg\" alt=\"Open In Colab\"/></a>"
      ]
    },
    {
      "cell_type": "markdown",
      "metadata": {
        "id": "PkHzmE0FJp5a"
      },
      "source": [
        "# A tutorial\n",
        "- Variational problem setup (static)\n",
        "- Elastic problem\n",
        "\n",
        "\n",
        "**Goal:**\n",
        "\n",
        "Denoting by $u$ the displacement field (vector valued) and by $\\alpha$ the scalar damage field we consider the energy functional\n",
        "\n",
        "$$\n",
        "\t\t\\mathcal{E}_{\\ell}(u, \\alpha)=\n",
        "\t\t\\dfrac{1}{2}\\int_{\\Omega} a({\\alpha})\n",
        "\t\tA_0\\,\\epsilon(u)\\cdot\\epsilon(u)\\,dx\n",
        "\t\t+\n",
        "         \\,\n",
        "\t\t\\dfrac{G_c}{c_w} \\int_{\\Omega}\\left(\n",
        "\t\t\\dfrac{w(\\alpha)}{\\ell}+\n",
        "\t\t{\\ell}\\,\\nabla {\\alpha}\\cdot\\nabla{\\alpha}\\right)dx\n",
        "$$\n",
        "\n",
        "where $\\epsilon(u)$ is the strain tensor, $\\sigma_0(u)=A_0\\,\\epsilon(u) = 2{\\mu} \\epsilon(u) + {\\lambda}tr(\\epsilon(u))I_2$ the stress of the undamaged material, $a({\\alpha})$  the stiffness modulation function though the damage field, $w(\\alpha)$ the energy dissipation in an homogeouns process and $\\ell$ the internal length.\n",
        "\n",
        "In the following we will solve, at each time step $t_i$ the minimization problem \n",
        "\n",
        "$$\n",
        "\\min\\mathcal{E}_{\\ell}(u, \\alpha),\\quad u\\in\\mathcal{C}_i, \\alpha\\in \\mathcal{D}_i\n",
        "$$\n",
        "\n",
        "where $\\mathcal{C}_i$ is the space of kinematically admissible displacement at \n",
        "time $t_i$ and $\\mathcal{D}_i$ the admissible damage fields, that should respect the irreversibility conditions \n",
        "$\\alpha\\geq\\alpha_{i-1}$. \n",
        "\n",
        "\n"
      ]
    },
    {
      "cell_type": "code",
      "metadata": {
        "colab": {
          "base_uri": "https://localhost:8080/"
        },
        "id": "nKlTPaNuFP8E",
        "outputId": "64ad12bc-6d6b-49fa-dff4-eb3216264e93"
      },
      "source": [
        "import site\n",
        "import sys\n",
        "\n",
        "\n",
        "try : \n",
        "    from google.colab import files\n",
        "except:\n",
        "    pass\n",
        "    \n",
        "try:\n",
        "    from fenics import *; from mshr import *\n",
        "except ImportError as e:\n",
        "    !apt-get install software-properties-common\n",
        "    !add-apt-repository -y ppa:fenics-packages/fenics\n",
        "    !apt-get update -qq\n",
        "    !apt install -y fenics    \n",
        "    site.addsitedir('/usr/lib/petsc/lib/python3/dist-packages')  # Always appends to end\n",
        "\n",
        "    from fenics import *; from mshr import *\n",
        "    from ufl import replace\n",
        "\n",
        "!fenics-version"
      ],
      "execution_count": 55,
      "outputs": [
        {
          "output_type": "stream",
          "text": [
            "2019.2.0.dev0\n"
          ],
          "name": "stdout"
        }
      ]
    },
    {
      "cell_type": "code",
      "metadata": {
        "id": "6BJfjkChQbB2"
      },
      "source": [
        "import matplotlib.pyplot as plt;\n",
        "import numpy as np;\n",
        "from IPython.display import clear_output, display, update_display; import time; \n",
        "# import dolfin.common.plotting as fenicsplot \n",
        "import time\n",
        "%matplotlib inline\n",
        "plt.rcParams['image.cmap'] = 'viridis'\n"
      ],
      "execution_count": 56,
      "outputs": []
    },
    {
      "cell_type": "code",
      "metadata": {
        "colab": {
          "base_uri": "https://localhost:8080/",
          "height": 118
        },
        "id": "Q6DH_IzoHtcv",
        "outputId": "20d993a2-3706-4e84-af76-c27a96266887"
      },
      "source": [
        "L = 1.; H = .1\n",
        "cell_size = 0.02\n",
        "nel = int(L/cell_size)\n",
        "\n",
        "geom= Rectangle(Point(0., 0.), Point(L, H))\n",
        "mesh = generate_mesh(geom, nel)\n",
        "plot(mesh)"
      ],
      "execution_count": 42,
      "outputs": [
        {
          "output_type": "execute_result",
          "data": {
            "text/plain": [
              "[<matplotlib.lines.Line2D at 0x7f90640fc0b8>,\n",
              " <matplotlib.lines.Line2D at 0x7f90640fc240>]"
            ]
          },
          "metadata": {
            "tags": []
          },
          "execution_count": 42
        },
        {
          "output_type": "display_data",
          "data": {
            "image/png": "[encoded data removed]",
            "text/plain": [
              "<Figure size 432x288 with 1 Axes>"
            ]
          },
          "metadata": {
            "tags": [],
            "needs_background": "light"
          }
        }
      ]
    },
    {
      "cell_type": "code",
      "metadata": {
        "id": "m3RXEoCXIRqX"
      },
      "source": [
        "left = CompiledSubDomain('near(x[0], 0, 1e-4)')\n",
        "right = CompiledSubDomain('near(x[0], {}, 1e-4)'.format(L))\n",
        "\n",
        "boundaries = MeshFunction('size_t', mesh, 1)\n",
        "boundaries.set_all(0)\n",
        "\n",
        "left.mark(boundaries, 1) # mark left as 1\n",
        "right.mark(boundaries,2) # mark right as 2\n",
        "ds = Measure('ds', subdomain_data=boundaries) # surface measures ds(1), ds(2)\n",
        "\n",
        "\n"
      ],
      "execution_count": 43,
      "outputs": []
    },
    {
      "cell_type": "code",
      "metadata": {
        "id": "TRp0dP73JJcT"
      },
      "source": [
        "# Constitutive functions\n",
        "\n",
        "E, nu = Constant(1.), Constant(.3)\n",
        "Gc = Constant(1.)\n",
        "ell = Constant(0.1)\n",
        "\n",
        "ndim = mesh.topology().dim()\n",
        "\n",
        "# w(a), \n",
        "\n",
        "def w(alpha):\n",
        "  return alpha\n",
        "\n",
        "def a(alpha):\n",
        "  return (1-alpha)**2\n",
        "\n",
        "def eps(u):\n",
        "  return sym(grad(u))\n",
        "\n",
        "def sigma0(u):\n",
        "  mu = E/(2.*(1.+nu))\n",
        "  lmbda = E*nu/(1-nu**2.)\n",
        "  return 2*mu*eps(u) + lmbda*tr(eps(u))*Identity(ndim)\n",
        "\n",
        "def sigma(alpha, u):\n",
        "  return a(alpha)*sigma0(u)"
      ],
      "execution_count": 44,
      "outputs": []
    },
    {
      "cell_type": "code",
      "metadata": {
        "id": "aJOdIrl6KmUf"
      },
      "source": [
        "# Function spaces\n",
        "\n",
        "V_u = VectorFunctionSpace(mesh, 'P', 1)\n",
        "V_alpha = FunctionSpace(mesh, 'P', 1)\n",
        "\n",
        "u = Function(V_u)\n",
        "du = TrialFunction(V_u)\n",
        "v = TestFunction(V_u)\n",
        "alpha = Function(V_alpha)\n",
        "beta = TestFunction(V_alpha)\n",
        "dalpha = TrialFunction(V_alpha)\n"
      ],
      "execution_count": 45,
      "outputs": []
    },
    {
      "cell_type": "code",
      "metadata": {
        "id": "LUlIVwhOK9R7"
      },
      "source": [
        "cw = 8/3\n",
        "\n",
        "elastic_energy = 0.5*inner(sigma(alpha, u), eps(u))*dx\n",
        "dissipated_energy = Gc/cw * (w(alpha)/ell + ell* inner(grad(alpha), grad(alpha)))*dx\n",
        "\n",
        "total_energy = elastic_energy + dissipated_energy \n",
        "\n",
        "E_u = derivative(total_energy, u, v)\n",
        "\n",
        "E_du = replace(E_u, {u: du})\n",
        "\n",
        "E_alpha = derivative(total_energy, alpha, beta)\n",
        "E_alpha_alpha = derivative(E_alpha,alpha, dalpha)\n",
        "\n"
      ],
      "execution_count": 46,
      "outputs": []
    },
    {
      "cell_type": "code",
      "metadata": {
        "id": "7Q3kg1xzLIPw"
      },
      "source": [
        "# Boundary conditions\n",
        "u_R = Expression(('t', 0), t=0., degree=0)\n",
        "\n",
        "bcu_0 = DirichletBC(V_u, u_R, boundaries, 2)\n",
        "bcu_1 = DirichletBC(V_u, Constant((0., 0.)), boundaries, 1)\n",
        "bc_u = [bcu_0, bcu_1]\n",
        "\n",
        "\n",
        "bca_0 = DirichletBC(V_alpha, Constant(0.), boundaries, 2)\n",
        "bca_1 = DirichletBC(V_alpha, Constant(0.), boundaries, 1)\n",
        "\n",
        "bc_a = [bca_0, bca_1]\n"
      ],
      "execution_count": 47,
      "outputs": []
    },
    {
      "cell_type": "code",
      "metadata": {
        "id": "jjE4UtJKNSRM"
      },
      "source": [
        "# Solve displacement problem\n",
        "\n",
        "\n",
        "problem_u = LinearVariationalProblem(lhs(E_du), rhs(E_du), u, bc_u)\n",
        "solver_u = LinearVariationalSolver(problem_u)\n",
        "solver_u.parameters.update({\"linear_solver\" : \"umfpack\"})"
      ],
      "execution_count": 54,
      "outputs": []
    },
    {
      "cell_type": "code",
      "metadata": {
        "id": "ylwhws8hO4RM"
      },
      "source": [
        "u_R.t = .1\n",
        "solver_u.solve()"
      ],
      "execution_count": 51,
      "outputs": []
    },
    {
      "cell_type": "code",
      "metadata": {
        "colab": {
          "base_uri": "https://localhost:8080/",
          "height": 101
        },
        "id": "NtkVkB7lTb3K",
        "outputId": "e2e74af3-f4eb-41f5-cbeb-ae29503aee9a"
      },
      "source": [
        "plot(u)"
      ],
      "execution_count": 53,
      "outputs": [
        {
          "output_type": "execute_result",
          "data": {
            "text/plain": [
              "<matplotlib.quiver.Quiver at 0x7f90617d41d0>"
            ]
          },
          "metadata": {
            "tags": []
          },
          "execution_count": 53
        },
        {
          "output_type": "display_data",
          "data": {
            "image/png": "[encoded data removed]",
            "text/plain": [
              "<Figure size 432x288 with 1 Axes>"
            ]
          },
          "metadata": {
            "tags": [],
            "needs_background": "light"
          }
        }
      ]
    },
    {
      "cell_type": "code",
      "metadata": {
        "id": "W9HYiCxLTe_l"
      },
      "source": [
        ""
      ],
      "execution_count": null,
      "outputs": []
    }
  ]
}