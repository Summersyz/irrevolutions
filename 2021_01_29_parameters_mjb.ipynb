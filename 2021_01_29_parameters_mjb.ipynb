{
  "nbformat": 4,
  "nbformat_minor": 0,
  "metadata": {
    "colab": {
      "name": "Copy of parameters.ipynb",
      "provenance": [],
      "collapsed_sections": [],
      "include_colab_link": true
    },
    "kernelspec": {
      "name": "python3",
      "display_name": "Python 3"
    }
  },
  "cells": [
    {
      "cell_type": "markdown",
      "metadata": {
        "id": "view-in-github",
        "colab_type": "text"
      },
      "source": [
        "<a href=\"https://colab.research.google.com/github/kumiori/mec647/blob/main/2021_01_29_parameters_mjb.ipynb\" target=\"_parent\"><img src=\"https://colab.research.google.com/assets/colab-badge.svg\" alt=\"Open In Colab\"/></a>"
      ]
    },
    {
      "cell_type": "code",
      "metadata": {
        "id": "ESa1rf9vS1Yn"
      },
      "source": [
        "\n"
      ],
      "execution_count": null,
      "outputs": []
    },
    {
      "cell_type": "code",
      "metadata": {
        "id": "T7N7Kt-JJho1"
      },
      "source": [
        "numexp = \\\n",
        "\"\"\"\n",
        "### Numerical experiment, MEC647 \n",
        "### Crack Propagation in Brittle Materials\n",
        "authors:\n",
        "    - Michael Bilynsky\n",
        "    - mbilynsky@gmail.com\n",
        "##\n",
        "## Rk: experiment id has to be unique\n",
        "id:  20210129           #\n",
        "\n",
        "mechanics:\n",
        "    timestepping:\n",
        "        type: quasistatic   # {quasistatic,static}\n",
        "\n",
        "numerical:\n",
        "    meshsize:  0.03             #\n",
        "    refinement:      True           # True or False\n",
        "    elasticity: 2.855           # YM for Plexiglass\n",
        "        solver: default\n",
        "    damage:\n",
        "        solver: snes            #\n",
        "        atol: 1e-10             \n",
        "\n",
        "geometry:\n",
        "    Lx:  1.                                                 #\n",
        "    Ly:  2.                                                 #\n",
        "# new\n",
        "domain: Rectangle(Point(-Lx/2., -Ly/2), Point(Lx/2, Ly/2))\n",
        "     a:  0.4                                                # Crack Length (total)                     \n",
        " theta:  45                                                 # degrees\n",
        " thick:  0.005\n",
        " crack:  Rectangle(Point(-a/2, -crack_thick/2), Point(a/2, crack_thick/2))\n",
        "  geom:  domain - CSGRotation(cut_out, Point(0,0), theta)\n",
        "    # other geom. parameters                       \n",
        "\n",
        "load:\n",
        "    min:             0           #\n",
        "    max:             2.5           #\n",
        "    numsteps:         30          #\n",
        "\n",
        "material:\n",
        "    HookesLaw:\n",
        "        YoungModulus: 2.855     #  GPa\n",
        "        PoissonRatio: 0.3       #\n",
        "    fractureToughness: 2.0         #  Kic - MPA*(m**0.5) \n",
        "    internalLength: 0.4            #\n",
        "\n",
        "experimental:\n",
        "    HookesLaw:\n",
        "        YoungModulus:  2.855         #\n",
        "        PoissonRatio: 0.3          #\n",
        "    fractureToughness: 2.0         #  Kic - MPA*(m**0.5)\n",
        "    criticalStress:    10         # MPa\n",
        "\n",
        "# Notes: \n",
        "#\n",
        "\n",
        "\"\"\"\n"
      ],
      "execution_count": null,
      "outputs": []
    },
    {
      "cell_type": "code",
      "metadata": {
        "id": "rDKYs7NqJjJO"
      },
      "source": [
        "# parameters"
      ],
      "execution_count": null,
      "outputs": []
    },
    {
      "cell_type": "code",
      "metadata": {
        "id": "ZjQgCRECKEev"
      },
      "source": [
        "import yaml"
      ],
      "execution_count": null,
      "outputs": []
    },
    {
      "cell_type": "code",
      "metadata": {
        "id": "2SwoRUwXKLGR"
      },
      "source": [
        "parameters = yaml.load(numexp)"
      ],
      "execution_count": null,
      "outputs": []
    },
    {
      "cell_type": "code",
      "metadata": {
        "colab": {
          "base_uri": "https://localhost:8080/"
        },
        "id": "Lowosjz2KOFb",
        "outputId": "e82776a0-7daa-4f9d-895b-64d57c575aaf"
      },
      "source": [
        "# loads as a python dict\n",
        "parameters"
      ],
      "execution_count": null,
      "outputs": [
        {
          "output_type": "execute_result",
          "data": {
            "text/plain": [
              "{'authors': ['name', 'email@host.smt'],\n",
              " 'experimental': {'HookesLaw': {'PoissonRatio': None, 'YoungModulus': None},\n",
              "  'criticalStress': None,\n",
              "  'fractureToughness': None},\n",
              " 'geometry': {'Lx': None, 'Ly': None},\n",
              " 'id': None,\n",
              " 'load': {'max': None, 'min': None, 'numsteps': None},\n",
              " 'material': {'HookesLaw': {'PoissonRatio': None, 'YoungModulus': None},\n",
              "  'fractureToughness': None,\n",
              "  'internalLength': None},\n",
              " 'mechanics': {'timestepping': {'type': {'quasistatic': None,\n",
              "    'static': None}}},\n",
              " 'numerical': {'damage': {'atol': None, 'solver': 'snes'},\n",
              "  'elasticity': {'solver': 'default'},\n",
              "  'meshsize': None,\n",
              "  'refinement': None}}"
            ]
          },
          "metadata": {
            "tags": []
          },
          "execution_count": 32
        }
      ]
    },
    {
      "cell_type": "code",
      "metadata": {
        "colab": {
          "base_uri": "https://localhost:8080/"
        },
        "id": "HX4eTSqCKWTx",
        "outputId": "e937e6f8-6837-496e-9d86-376792a546e0"
      },
      "source": [
        "# Read a value\n",
        "parameters['geometry']['Lx']"
      ],
      "execution_count": null,
      "outputs": [
        {
          "output_type": "execute_result",
          "data": {
            "text/plain": [
              "1.0"
            ]
          },
          "metadata": {
            "tags": []
          },
          "execution_count": 37
        }
      ]
    },
    {
      "cell_type": "code",
      "metadata": {
        "id": "nT_mxI_nKtUr"
      },
      "source": [
        "# Set a value\n",
        "parameters['geometry']['Lx'] = 3.1"
      ],
      "execution_count": null,
      "outputs": []
    },
    {
      "cell_type": "code",
      "metadata": {
        "colab": {
          "base_uri": "https://localhost:8080/",
          "height": 52
        },
        "id": "lmEbjIbrTa9g",
        "outputId": "b046c932-66c2-4e43-ddc2-4054e8ed801b"
      },
      "source": [
        "# Print a variable using string formatting\n",
        "\n",
        "_var = parameters['geometry']['Lx']\n",
        "print('Var = {}'.format(_var))"
      ],
      "execution_count": null,
      "outputs": [
        {
          "output_type": "stream",
          "text": [
            "Var = 3.1\n"
          ],
          "name": "stdout"
        },
        {
          "output_type": "execute_result",
          "data": {
            "application/vnd.google.colaboratory.intrinsic+json": {
              "type": "string"
            },
            "text/plain": [
              "'3.1'"
            ]
          },
          "metadata": {
            "tags": []
          },
          "execution_count": 50
        }
      ]
    },
    {
      "cell_type": "code",
      "metadata": {
        "colab": {
          "base_uri": "https://localhost:8080/",
          "height": 35
        },
        "id": "Dd8yriZET1mA",
        "outputId": "136e1e10-0375-4106-c0aa-80efde027d48"
      },
      "source": [
        "# Alternative form\n",
        "print(f'(alt. form) Var = { _var }')\n"
      ],
      "execution_count": null,
      "outputs": [
        {
          "output_type": "execute_result",
          "data": {
            "application/vnd.google.colaboratory.intrinsic+json": {
              "type": "string"
            },
            "text/plain": [
              "'Var (2nd form) = 3.1'"
            ]
          },
          "metadata": {
            "tags": []
          },
          "execution_count": 51
        }
      ]
    },
    {
      "cell_type": "code",
      "metadata": {
        "colab": {
          "base_uri": "https://localhost:8080/"
        },
        "id": "h_edm26zT-NG",
        "outputId": "0bf7bb27-5f68-4429-eff5-b50b3528e747"
      },
      "source": [
        "# Cycle by setting parameters\n",
        "import numpy as np\n",
        "\n",
        "for p in np.linspace(0., 1., 30):\n",
        "  parameters['geometry']['l0'] = p\n",
        "  print(f'Parametric p = { p }')"
      ],
      "execution_count": null,
      "outputs": [
        {
          "output_type": "stream",
          "text": [
            "Parametric p = 0.0\n",
            "Parametric p = 0.034482758620689655\n",
            "Parametric p = 0.06896551724137931\n",
            "Parametric p = 0.10344827586206896\n",
            "Parametric p = 0.13793103448275862\n",
            "Parametric p = 0.1724137931034483\n",
            "Parametric p = 0.20689655172413793\n",
            "Parametric p = 0.24137931034482757\n",
            "Parametric p = 0.27586206896551724\n",
            "Parametric p = 0.3103448275862069\n",
            "Parametric p = 0.3448275862068966\n",
            "Parametric p = 0.3793103448275862\n",
            "Parametric p = 0.41379310344827586\n",
            "Parametric p = 0.4482758620689655\n",
            "Parametric p = 0.48275862068965514\n",
            "Parametric p = 0.5172413793103449\n",
            "Parametric p = 0.5517241379310345\n",
            "Parametric p = 0.5862068965517241\n",
            "Parametric p = 0.6206896551724138\n",
            "Parametric p = 0.6551724137931034\n",
            "Parametric p = 0.6896551724137931\n",
            "Parametric p = 0.7241379310344828\n",
            "Parametric p = 0.7586206896551724\n",
            "Parametric p = 0.7931034482758621\n",
            "Parametric p = 0.8275862068965517\n",
            "Parametric p = 0.8620689655172413\n",
            "Parametric p = 0.896551724137931\n",
            "Parametric p = 0.9310344827586207\n",
            "Parametric p = 0.9655172413793103\n",
            "Parametric p = 1.0\n"
          ],
          "name": "stdout"
        }
      ]
    },
    {
      "cell_type": "code",
      "metadata": {
        "id": "68jh7yzoUsP-"
      },
      "source": [
        ""
      ],
      "execution_count": null,
      "outputs": []
    }
  ]
}