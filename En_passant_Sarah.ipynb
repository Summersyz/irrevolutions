{
  "nbformat": 4,
  "nbformat_minor": 0,
  "metadata": {
    "colab": {
      "name": "Untitled1.ipynb",
      "provenance": [],
      "include_colab_link": true
    },
    "kernelspec": {
      "name": "python3",
      "display_name": "Python 3"
    }
  },
  "cells": [
    {
      "cell_type": "markdown",
      "metadata": {
        "id": "view-in-github",
        "colab_type": "text"
      },
      "source": [
        "<a href=\"https://colab.research.google.com/github/kumiori/mec647/blob/main/En_passant_Sarah.ipynb\" target=\"_parent\"><img src=\"https://colab.research.google.com/assets/colab-badge.svg\" alt=\"Open In Colab\"/></a>"
      ]
    },
    {
      "cell_type": "code",
      "metadata": {
        "id": "ojy_mqcwQ9gw"
      },
      "source": [
        ""
      ],
      "execution_count": null,
      "outputs": []
    },
    {
      "cell_type": "code",
      "metadata": {
        "id": "tcQ-vfVB-Oao",
        "colab": {
          "base_uri": "https://localhost:8080/"
        },
        "outputId": "b72a466a-f927-4351-abba-05ae4fbfa570"
      },
      "source": [
        "import site\r\n",
        "import sys\r\n",
        "\r\n",
        "\r\n",
        "try : \r\n",
        "    from google.colab import files\r\n",
        "except:\r\n",
        "    pass\r\n",
        "    \r\n",
        "try:\r\n",
        "    from fenics import *; from mshr import *\r\n",
        "except ImportError as e:\r\n",
        "    !apt-get install software-properties-common\r\n",
        "    !add-apt-repository -y ppa:fenics-packages/fenics\r\n",
        "    !apt-get update -qq\r\n",
        "    !apt install -y fenics    \r\n",
        "    site.addsitedir('/usr/lib/petsc/lib/python3/dist-packages')  # Always appends to end\r\n",
        "\r\n",
        "    from fenics import *; from mshr import *\r\n",
        "    from ufl import replace\r\n",
        "\r\n",
        "!fenics-version"
      ],
      "execution_count": 1,
      "outputs": [
        {
          "output_type": "stream",
          "text": [
            "Reading package lists... Done\n",
            "Building dependency tree       \n",
            "Reading state information... Done\n",
            "software-properties-common is already the newest version (0.96.24.32.14).\n",
            "0 upgraded, 0 newly installed, 0 to remove and 13 not upgraded.\n",
            "Ign:1 https://developer.download.nvidia.com/compute/cuda/repos/ubuntu1804/x86_64  InRelease\n",
            "Hit:2 http://archive.ubuntu.com/ubuntu bionic InRelease\n",
            "Get:3 http://ppa.launchpad.net/c2d4u.team/c2d4u4.0+/ubuntu bionic InRelease [15.9 kB]\n",
            "Get:4 http://security.ubuntu.com/ubuntu bionic-security InRelease [88.7 kB]\n",
            "Ign:5 https://developer.download.nvidia.com/compute/machine-learning/repos/ubuntu1804/x86_64  InRelease\n",
            "Get:6 https://cloud.r-project.org/bin/linux/ubuntu bionic-cran40/ InRelease [3,626 B]\n",
            "Get:7 https://developer.download.nvidia.com/compute/cuda/repos/ubuntu1804/x86_64  Release [697 B]\n",
            "Hit:8 https://developer.download.nvidia.com/compute/machine-learning/repos/ubuntu1804/x86_64  Release\n",
            "Get:9 https://developer.download.nvidia.com/compute/cuda/repos/ubuntu1804/x86_64  Release.gpg [836 B]\n",
            "Get:10 http://archive.ubuntu.com/ubuntu bionic-updates InRelease [88.7 kB]\n",
            "Hit:11 http://ppa.launchpad.net/cran/libgit2/ubuntu bionic InRelease\n",
            "Get:12 http://archive.ubuntu.com/ubuntu bionic-backports InRelease [74.6 kB]\n",
            "Get:13 http://ppa.launchpad.net/fenics-packages/fenics/ubuntu bionic InRelease [15.4 kB]\n",
            "Get:14 http://ppa.launchpad.net/graphics-drivers/ppa/ubuntu bionic InRelease [21.3 kB]\n",
            "Get:15 https://cloud.r-project.org/bin/linux/ubuntu bionic-cran40/ Packages [44.4 kB]\n",
            "Ign:17 https://developer.download.nvidia.com/compute/cuda/repos/ubuntu1804/x86_64  Packages\n",
            "Get:17 https://developer.download.nvidia.com/compute/cuda/repos/ubuntu1804/x86_64  Packages [550 kB]\n",
            "Get:18 http://ppa.launchpad.net/c2d4u.team/c2d4u4.0+/ubuntu bionic/main Sources [1,724 kB]\n",
            "Get:19 http://security.ubuntu.com/ubuntu bionic-security/main amd64 Packages [1,919 kB]\n",
            "Get:20 http://archive.ubuntu.com/ubuntu bionic-updates/multiverse amd64 Packages [42.6 kB]\n",
            "Get:21 http://security.ubuntu.com/ubuntu bionic-security/universe amd64 Packages [1,386 kB]\n",
            "Get:22 http://security.ubuntu.com/ubuntu bionic-security/restricted amd64 Packages [293 kB]\n",
            "Get:23 http://archive.ubuntu.com/ubuntu bionic-updates/universe amd64 Packages [2,157 kB]\n",
            "Get:24 http://ppa.launchpad.net/c2d4u.team/c2d4u4.0+/ubuntu bionic/main amd64 Packages [882 kB]\n",
            "Get:25 http://archive.ubuntu.com/ubuntu bionic-updates/main amd64 Packages [2,350 kB]\n",
            "Get:26 http://archive.ubuntu.com/ubuntu bionic-updates/restricted amd64 Packages [323 kB]\n",
            "Get:27 http://ppa.launchpad.net/fenics-packages/fenics/ubuntu bionic/main amd64 Packages [7,029 B]\n",
            "Get:28 http://ppa.launchpad.net/graphics-drivers/ppa/ubuntu bionic/main amd64 Packages [49.2 kB]\n",
            "Fetched 12.0 MB in 4s (3,396 kB/s)\n",
            "Reading package lists... Done\n",
            "Reading package lists... Done\n",
            "Building dependency tree       \n",
            "Reading state information... Done\n",
            "The following additional packages will be installed:\n",
            "  binfmt-support dolfin-bin dolfin-doc fonts-font-awesome fonts-lato fonts-lyx\n",
            "  ipython3 javascript-common ksh libamd2 libarpack2-dev libblas-dev libblas3\n",
            "  libbtf1 libcamd2 libccolamd2 libcholmod3 libcolamd2 libcxsparse3\n",
            "  libdolfin-dev libdolfin-dev-common libdolfin2019.2 libeigen3-dev\n",
            "  libfftw3-bin libfftw3-dev libfftw3-long3 libfftw3-mpi-dev libfftw3-mpi3\n",
            "  libfftw3-quad3 libfftw3-single3 libgraphblas1 libhdf5-mpi-dev\n",
            "  libhdf5-openmpi-dev libhypre-2.13.0 libhypre-dev libjs-jquery\n",
            "  libjs-jquery-ui libjs-modernizr libjs-sphinxdoc libjs-underscore libklu1\n",
            "  libldl2 libmetis5 libmshr-dev libmshr-dev-common libmshr2019.2\n",
            "  libmumps-5.1.2 libmumps-dev libparpack2 libparpack2-dev libpetsc3.7-dev\n",
            "  libpetsc3.7.7 libpetsc3.7.7-dev libproj-dev libptscotch-6.0 libptscotch-dev\n",
            "  librbio2 libscalapack-mpi-dev libscalapack-openmpi-dev\n",
            "  libscalapack-openmpi2.0 libscotch-6.0 libscotch-dev libslepc3.7-dev\n",
            "  libslepc3.7.4 libslepc3.7.4-dev libspooles-dev libspooles2.2 libspqr2\n",
            "  libsuitesparse-dev libsuitesparseconfig5 libsuperlu-dev libsuperlu-dist5\n",
            "  libtet1.5 libumfpack5 pybind11-dev python-matplotlib-data\n",
            "  python-petsc4py-docs python-slepc4py-docs python-ufl-doc python3-cycler\n",
            "  python3-dateutil python3-decorator python3-dijitso python3-dolfin\n",
            "  python3-dolfin-real python3-ffc python3-fiat python3-ipython\n",
            "  python3-ipython-genutils python3-matplotlib python3-mpi4py python3-mpmath\n",
            "  python3-mshr python3-mshr-real python3-olefile python3-petsc4py\n",
            "  python3-pexpect python3-pickleshare python3-pil python3-pkg-resources\n",
            "  python3-pkgconfig python3-ply python3-prompt-toolkit python3-ptyprocess\n",
            "  python3-pybind11 python3-pygments python3-pyparsing python3-simplegeneric\n",
            "  python3-six python3-slepc4py python3-sympy python3-traitlets python3-tz\n",
            "  python3-ufl python3-wcwidth sphinx-rtd-theme-common tcsh ttf-bitstream-vera\n",
            "Suggested packages:\n",
            "  apache2 | lighttpd | httpd liblapack-doc libeigen3-doc libmrpt-dev\n",
            "  libfftw3-doc libhdf5-doc libjs-jquery-ui-docs petsc-dev libpetsc3.7.7-dbg\n",
            "  petsc3.7.7-doc libluminate-dev proj-bin scalapack-doc slepc3.7.4-doc\n",
            "  spooles-doc libsuperlu-doc pybind11-doc python-cycler-doc python-dijitso-doc\n",
            "  dvipng gir1.2-gtk-3.0 ghostscript inkscape python-matplotlib-doc\n",
            "  python3-cairocffi python3-gi-cairo python3-gobject python3-nose\n",
            "  python3-pyqt4 python3-scipy python3-sip python3-tornado texlive-extra-utils\n",
            "  texlive-latex-extra ttf-staypuft python3-gmpy2 python-mpmath-doc\n",
            "  python-pexpect-doc python-pil-doc python3-pil-dbg python3-setuptools\n",
            "  python-ply-doc python-pyparsing-doc texlive-fonts-extra python-sympy-doc\n",
            "The following NEW packages will be installed:\n",
            "  binfmt-support dolfin-bin dolfin-doc fenics fonts-font-awesome fonts-lato\n",
            "  fonts-lyx ipython3 javascript-common ksh libamd2 libarpack2-dev libblas-dev\n",
            "  libblas3 libbtf1 libcamd2 libccolamd2 libcholmod3 libcolamd2 libcxsparse3\n",
            "  libdolfin-dev libdolfin-dev-common libdolfin2019.2 libeigen3-dev\n",
            "  libfftw3-bin libfftw3-dev libfftw3-long3 libfftw3-mpi-dev libfftw3-mpi3\n",
            "  libfftw3-quad3 libfftw3-single3 libgraphblas1 libhdf5-mpi-dev\n",
            "  libhdf5-openmpi-dev libhypre-2.13.0 libhypre-dev libjs-jquery\n",
            "  libjs-jquery-ui libjs-modernizr libjs-sphinxdoc libjs-underscore libklu1\n",
            "  libldl2 libmetis5 libmshr-dev libmshr-dev-common libmshr2019.2\n",
            "  libmumps-5.1.2 libmumps-dev libparpack2 libparpack2-dev libpetsc3.7-dev\n",
            "  libpetsc3.7.7 libpetsc3.7.7-dev libproj-dev libptscotch-6.0 libptscotch-dev\n",
            "  librbio2 libscalapack-mpi-dev libscalapack-openmpi-dev\n",
            "  libscalapack-openmpi2.0 libscotch-6.0 libscotch-dev libslepc3.7-dev\n",
            "  libslepc3.7.4 libslepc3.7.4-dev libspooles-dev libspooles2.2 libspqr2\n",
            "  libsuitesparse-dev libsuitesparseconfig5 libsuperlu-dev libsuperlu-dist5\n",
            "  libtet1.5 libumfpack5 pybind11-dev python-matplotlib-data\n",
            "  python-petsc4py-docs python-slepc4py-docs python-ufl-doc python3-cycler\n",
            "  python3-dateutil python3-decorator python3-dijitso python3-dolfin\n",
            "  python3-dolfin-real python3-ffc python3-fiat python3-ipython\n",
            "  python3-ipython-genutils python3-matplotlib python3-mpi4py python3-mpmath\n",
            "  python3-mshr python3-mshr-real python3-olefile python3-petsc4py\n",
            "  python3-pexpect python3-pickleshare python3-pil python3-pkg-resources\n",
            "  python3-pkgconfig python3-ply python3-prompt-toolkit python3-ptyprocess\n",
            "  python3-pybind11 python3-pygments python3-pyparsing python3-simplegeneric\n",
            "  python3-six python3-slepc4py python3-sympy python3-traitlets python3-tz\n",
            "  python3-ufl python3-wcwidth sphinx-rtd-theme-common tcsh ttf-bitstream-vera\n",
            "0 upgraded, 119 newly installed, 0 to remove and 52 not upgraded.\n",
            "Need to get 70.7 MB of archives.\n",
            "After this operation, 365 MB of additional disk space will be used.\n",
            "Get:1 http://ppa.launchpad.net/fenics-packages/fenics/ubuntu bionic/main amd64 libdolfin-dev-common all 2019.2.0~git20200629.946dbd3-2~ppa1~bionic4 [204 kB]\n",
            "Get:2 http://archive.ubuntu.com/ubuntu bionic/main amd64 fonts-lato all 2.0-2 [2,698 kB]\n",
            "Get:3 http://ppa.launchpad.net/fenics-packages/fenics/ubuntu bionic/main amd64 libdolfin2019.2 amd64 2019.2.0~git20200629.946dbd3-2~ppa1~bionic4 [1,767 kB]\n",
            "Get:4 http://archive.ubuntu.com/ubuntu bionic/main amd64 binfmt-support amd64 2.1.8-2 [51.6 kB]\n",
            "Get:5 http://archive.ubuntu.com/ubuntu bionic/main amd64 libsuitesparseconfig5 amd64 1:5.1.2-2 [9,044 B]\n",
            "Get:6 http://archive.ubuntu.com/ubuntu bionic/main amd64 libamd2 amd64 1:5.1.2-2 [19.5 kB]\n",
            "Get:7 http://archive.ubuntu.com/ubuntu bionic/main amd64 libblas3 amd64 3.7.1-4ubuntu1 [140 kB]\n",
            "Get:8 http://archive.ubuntu.com/ubuntu bionic/main amd64 libcamd2 amd64 1:5.1.2-2 [20.9 kB]\n",
            "Get:9 http://archive.ubuntu.com/ubuntu bionic/main amd64 libccolamd2 amd64 1:5.1.2-2 [21.7 kB]\n",
            "Get:10 http://archive.ubuntu.com/ubuntu bionic/main amd64 libcolamd2 amd64 1:5.1.2-2 [16.2 kB]\n",
            "Get:11 http://archive.ubuntu.com/ubuntu bionic/main amd64 libmetis5 amd64 5.1.0.dfsg-5 [169 kB]\n",
            "Get:12 http://archive.ubuntu.com/ubuntu bionic/main amd64 libcholmod3 amd64 1:5.1.2-2 [300 kB]\n",
            "Get:13 http://archive.ubuntu.com/ubuntu bionic/main amd64 libfftw3-long3 amd64 3.3.7-1 [308 kB]\n",
            "Get:14 http://archive.ubuntu.com/ubuntu bionic/main amd64 libfftw3-single3 amd64 3.3.7-1 [764 kB]\n",
            "Get:15 http://archive.ubuntu.com/ubuntu bionic/universe amd64 libfftw3-mpi3 amd64 3.3.7-1 [47.5 kB]\n",
            "Get:16 http://archive.ubuntu.com/ubuntu bionic/universe amd64 libscotch-6.0 amd64 6.0.4.dfsg1-8 [403 kB]\n",
            "Get:17 http://archive.ubuntu.com/ubuntu bionic/universe amd64 libptscotch-6.0 amd64 6.0.4.dfsg1-8 [654 kB]\n",
            "Get:18 http://archive.ubuntu.com/ubuntu bionic/universe amd64 libsuperlu-dist5 amd64 5.3.0+dfsg1-1 [213 kB]\n",
            "Get:19 http://archive.ubuntu.com/ubuntu bionic/universe amd64 libhypre-2.13.0 amd64 2.13.0-2 [1,718 kB]\n",
            "Get:20 http://archive.ubuntu.com/ubuntu bionic/main amd64 libbtf1 amd64 1:5.1.2-2 [10.6 kB]\n",
            "Get:21 http://archive.ubuntu.com/ubuntu bionic/main amd64 libklu1 amd64 1:5.1.2-2 [69.3 kB]\n",
            "Get:22 http://archive.ubuntu.com/ubuntu bionic/universe amd64 libscalapack-openmpi2.0 amd64 2.0.2-4 [1,473 kB]\n",
            "Get:23 http://archive.ubuntu.com/ubuntu bionic/universe amd64 libmumps-5.1.2 amd64 5.1.2-4 [1,103 kB]\n",
            "Get:24 http://archive.ubuntu.com/ubuntu bionic/main amd64 libumfpack5 amd64 1:5.1.2-2 [229 kB]\n",
            "Get:25 http://archive.ubuntu.com/ubuntu bionic/universe amd64 libpetsc3.7.7 amd64 3.7.7+dfsg1-2build5 [3,935 kB]\n",
            "Get:26 http://archive.ubuntu.com/ubuntu bionic/universe amd64 libparpack2 amd64 3.5.0+real-2 [84.5 kB]\n",
            "Get:27 http://archive.ubuntu.com/ubuntu bionic/universe amd64 libslepc3.7.4 amd64 3.7.4+dfsg1-2build8 [743 kB]\n",
            "Get:28 http://archive.ubuntu.com/ubuntu bionic/universe amd64 libeigen3-dev all 3.3.4-4 [810 kB]\n",
            "Get:29 http://archive.ubuntu.com/ubuntu bionic/universe amd64 libhdf5-openmpi-dev amd64 1.10.0-patch1+docs-4 [2,392 kB]\n",
            "Get:30 http://archive.ubuntu.com/ubuntu bionic/universe amd64 libhdf5-mpi-dev amd64 1.10.0-patch1+docs-4 [3,074 B]\n",
            "Get:31 http://archive.ubuntu.com/ubuntu bionic/main amd64 libcxsparse3 amd64 1:5.1.2-2 [63.9 kB]\n",
            "Get:32 http://ppa.launchpad.net/fenics-packages/fenics/ubuntu bionic/main amd64 python3-fiat all 2019.2.0~git20200919.42ceef3-1~ppa1~bionic2 [68.6 kB]\n",
            "Get:33 http://archive.ubuntu.com/ubuntu bionic/main amd64 libgraphblas1 amd64 1:5.1.2-2 [384 kB]\n",
            "Get:34 http://archive.ubuntu.com/ubuntu bionic/main amd64 libldl2 amd64 1:5.1.2-2 [10.3 kB]\n",
            "Get:35 http://archive.ubuntu.com/ubuntu bionic/main amd64 librbio2 amd64 1:5.1.2-2 [24.0 kB]\n",
            "Get:36 http://archive.ubuntu.com/ubuntu bionic/main amd64 libspqr2 amd64 1:5.1.2-2 [64.2 kB]\n",
            "Get:37 http://archive.ubuntu.com/ubuntu bionic/main amd64 libblas-dev amd64 3.7.1-4ubuntu1 [143 kB]\n",
            "Get:38 http://archive.ubuntu.com/ubuntu bionic/main amd64 libsuitesparse-dev amd64 1:5.1.2-2 [1,235 kB]\n",
            "Get:39 http://archive.ubuntu.com/ubuntu bionic/universe amd64 libscotch-dev amd64 6.0.4.dfsg1-8 [1,791 kB]\n",
            "Get:40 http://archive.ubuntu.com/ubuntu bionic/universe amd64 python3-mpmath all 1.0.0-1 [400 kB]\n",
            "Get:41 http://archive.ubuntu.com/ubuntu bionic/universe amd64 python3-sympy all 1.1.1-5 [2,569 kB]\n",
            "Get:42 http://archive.ubuntu.com/ubuntu bionic/main amd64 python3-pkg-resources all 39.0.1-2 [98.8 kB]\n",
            "Get:43 http://archive.ubuntu.com/ubuntu bionic/universe amd64 python3-mpi4py amd64 2.0.0-3 [420 kB]\n",
            "Get:44 http://archive.ubuntu.com/ubuntu bionic/universe amd64 libspooles2.2 amd64 2.2-12build1 [458 kB]\n",
            "Get:45 http://archive.ubuntu.com/ubuntu bionic/universe amd64 libspooles-dev amd64 2.2-12build1 [587 kB]\n",
            "Get:46 http://archive.ubuntu.com/ubuntu bionic/universe amd64 libsuperlu-dev amd64 5.2.1+dfsg1-3 [16.3 kB]\n",
            "Get:47 http://archive.ubuntu.com/ubuntu bionic/universe amd64 libhypre-dev amd64 2.13.0-2 [134 kB]\n",
            "Get:48 http://archive.ubuntu.com/ubuntu bionic/universe amd64 libptscotch-dev amd64 6.0.4.dfsg1-8 [5,416 kB]\n",
            "Get:49 http://ppa.launchpad.net/fenics-packages/fenics/ubuntu bionic/main amd64 python3-ufl all 2019.2.0~git20200928.057c5f6-1~ppa1~bionic2 [150 kB]\n",
            "Get:50 http://archive.ubuntu.com/ubuntu bionic/universe amd64 libscalapack-openmpi-dev amd64 2.0.2-4 [6,068 B]\n",
            "Get:51 http://archive.ubuntu.com/ubuntu bionic/universe amd64 libscalapack-mpi-dev amd64 2.0.2-4 [2,108 B]\n",
            "Get:52 http://archive.ubuntu.com/ubuntu bionic/universe amd64 libmumps-dev amd64 5.1.2-4 [984 kB]\n",
            "Get:53 http://archive.ubuntu.com/ubuntu bionic/main amd64 libfftw3-quad3 amd64 3.3.7-1 [552 kB]\n",
            "Get:54 http://archive.ubuntu.com/ubuntu bionic/main amd64 libfftw3-bin amd64 3.3.7-1 [32.7 kB]\n",
            "Get:55 http://archive.ubuntu.com/ubuntu bionic/main amd64 libfftw3-dev amd64 3.3.7-1 [2,108 kB]\n",
            "Get:56 http://archive.ubuntu.com/ubuntu bionic/universe amd64 libfftw3-mpi-dev amd64 3.3.7-1 [47.6 kB]\n",
            "Get:57 http://archive.ubuntu.com/ubuntu bionic/universe amd64 libpetsc3.7.7-dev amd64 3.7.7+dfsg1-2build5 [3,495 kB]\n",
            "Get:58 http://archive.ubuntu.com/ubuntu bionic/universe amd64 libpetsc3.7-dev amd64 3.7.7+dfsg1-2build5 [4,048 B]\n",
            "Get:59 http://archive.ubuntu.com/ubuntu bionic/universe amd64 libarpack2-dev amd64 3.5.0+real-2 [97.3 kB]\n",
            "Get:60 http://archive.ubuntu.com/ubuntu bionic/universe amd64 libparpack2-dev amd64 3.5.0+real-2 [92.0 kB]\n",
            "Get:61 http://archive.ubuntu.com/ubuntu bionic/universe amd64 libslepc3.7.4-dev amd64 3.7.4+dfsg1-2build8 [1,701 kB]\n",
            "Get:62 http://archive.ubuntu.com/ubuntu bionic/universe amd64 libslepc3.7-dev amd64 3.7.4+dfsg1-2build8 [2,096 B]\n",
            "Get:63 http://archive.ubuntu.com/ubuntu bionic/universe amd64 python3-petsc4py amd64 3.7.0-3build2 [719 kB]\n",
            "Get:64 http://archive.ubuntu.com/ubuntu bionic/universe amd64 python3-slepc4py amd64 3.7.0-3build1 [155 kB]\n",
            "Get:65 http://archive.ubuntu.com/ubuntu bionic/main amd64 python3-ply all 3.11-1 [46.6 kB]\n",
            "Get:66 http://archive.ubuntu.com/ubuntu bionic/main amd64 python3-six all 1.11.0-2 [11.4 kB]\n",
            "Get:67 http://ppa.launchpad.net/fenics-packages/fenics/ubuntu bionic/main amd64 python3-dijitso all 2019.2.0~git20190418.c92dcb0-2~ppa1~bionic3 [24.6 kB]\n",
            "Get:68 http://archive.ubuntu.com/ubuntu bionic/universe amd64 python3-pkgconfig all 1.3.1-1 [6,328 B]\n",
            "Get:69 http://archive.ubuntu.com/ubuntu bionic/main amd64 libjs-jquery all 3.2.1-1 [152 kB]\n",
            "Get:70 http://archive.ubuntu.com/ubuntu bionic/main amd64 libjs-underscore all 1.8.3~dfsg-1 [59.9 kB]\n",
            "Get:71 http://archive.ubuntu.com/ubuntu bionic/main amd64 libjs-sphinxdoc all 1.6.7-1ubuntu1 [85.6 kB]\n",
            "Get:72 http://archive.ubuntu.com/ubuntu bionic/main amd64 fonts-font-awesome all 4.7.0~dfsg-3 [513 kB]\n",
            "Get:73 http://archive.ubuntu.com/ubuntu bionic/main amd64 libjs-modernizr all 2.6.2+ds1-1ubuntu1 [46.7 kB]\n",
            "Get:74 http://archive.ubuntu.com/ubuntu bionic/main amd64 sphinx-rtd-theme-common all 0.2.4-1 [224 kB]\n",
            "Get:75 http://archive.ubuntu.com/ubuntu bionic/universe amd64 libtet1.5 amd64 1.5.0-4 [235 kB]\n",
            "Get:76 http://archive.ubuntu.com/ubuntu bionic/universe amd64 libproj-dev amd64 4.9.3-2 [199 kB]\n",
            "Get:77 http://archive.ubuntu.com/ubuntu bionic-updates/universe amd64 fonts-lyx all 2.2.4-0ubuntu0.18.04.1 [155 kB]\n",
            "Get:78 http://archive.ubuntu.com/ubuntu bionic/universe amd64 python3-decorator all 4.1.2-1 [9,364 B]\n",
            "Get:79 http://archive.ubuntu.com/ubuntu bionic/main amd64 python3-ptyprocess all 0.5.2-1 [12.7 kB]\n",
            "Get:80 http://archive.ubuntu.com/ubuntu bionic/main amd64 python3-pexpect all 4.2.1-1 [42.4 kB]\n",
            "Get:81 http://archive.ubuntu.com/ubuntu bionic/universe amd64 python3-pickleshare all 0.7.4-2 [6,904 B]\n",
            "Get:82 http://ppa.launchpad.net/fenics-packages/fenics/ubuntu bionic/main amd64 python3-ffc all 2019.2.0~git20200123.6b621eb-3~ppa1~bionic1 [226 kB]\n",
            "Get:83 http://archive.ubuntu.com/ubuntu bionic/universe amd64 python3-wcwidth all 0.1.7+dfsg1-1 [14.7 kB]\n",
            "Get:84 http://archive.ubuntu.com/ubuntu bionic/universe amd64 python3-prompt-toolkit all 1.0.15-1 [163 kB]\n",
            "Get:85 http://archive.ubuntu.com/ubuntu bionic/main amd64 python3-pygments all 2.2.0+dfsg-1 [574 kB]\n",
            "Get:86 http://archive.ubuntu.com/ubuntu bionic/universe amd64 python3-simplegeneric all 0.8.1-1 [11.5 kB]\n",
            "Get:87 http://archive.ubuntu.com/ubuntu bionic/universe amd64 python3-ipython-genutils all 0.2.0-1 [20.9 kB]\n",
            "Get:88 http://archive.ubuntu.com/ubuntu bionic/universe amd64 python3-traitlets all 4.3.2-1 [59.1 kB]\n",
            "Get:89 http://archive.ubuntu.com/ubuntu bionic/universe amd64 python3-ipython all 5.5.0-1 [381 kB]\n",
            "Get:90 http://archive.ubuntu.com/ubuntu bionic/universe amd64 ipython3 all 5.5.0-1 [5,304 B]\n",
            "Get:91 http://archive.ubuntu.com/ubuntu bionic/main amd64 javascript-common all 11 [6,066 B]\n",
            "Get:92 http://archive.ubuntu.com/ubuntu bionic/universe amd64 ksh amd64 93u+20120801-3.1ubuntu1 [844 kB]\n",
            "Get:93 http://archive.ubuntu.com/ubuntu bionic/universe amd64 libjs-jquery-ui all 1.12.1+dfsg-5 [232 kB]\n",
            "Get:94 http://archive.ubuntu.com/ubuntu bionic/universe amd64 ttf-bitstream-vera all 1.10-8 [352 kB]\n",
            "Get:95 http://archive.ubuntu.com/ubuntu bionic/universe amd64 python-matplotlib-data all 2.1.1-2ubuntu3 [3,774 kB]\n",
            "Get:96 http://archive.ubuntu.com/ubuntu bionic/universe amd64 python3-cycler all 0.10.0-1 [7,622 B]\n",
            "Get:97 http://archive.ubuntu.com/ubuntu bionic/main amd64 python3-dateutil all 2.6.1-1 [52.3 kB]\n",
            "Get:98 http://archive.ubuntu.com/ubuntu bionic/main amd64 python3-pyparsing all 2.2.0+dfsg1-2 [52.2 kB]\n",
            "Get:99 http://archive.ubuntu.com/ubuntu bionic/main amd64 python3-tz all 2018.3-2 [25.1 kB]\n",
            "Get:100 http://archive.ubuntu.com/ubuntu bionic/universe amd64 python3-matplotlib amd64 2.1.1-2ubuntu3 [3,907 kB]\n",
            "Get:101 http://archive.ubuntu.com/ubuntu bionic/main amd64 python3-olefile all 0.45.1-1 [33.3 kB]\n",
            "Get:102 http://archive.ubuntu.com/ubuntu bionic-updates/main amd64 python3-pil amd64 5.1.0-1ubuntu0.4 [329 kB]\n",
            "Get:103 http://archive.ubuntu.com/ubuntu bionic/universe amd64 tcsh amd64 6.20.00-7 [428 kB]\n",
            "Get:104 http://archive.ubuntu.com/ubuntu bionic/universe amd64 python-petsc4py-docs all 3.7.0-3build2 [476 kB]\n",
            "Get:105 http://archive.ubuntu.com/ubuntu bionic/universe amd64 python-slepc4py-docs all 3.7.0-3build1 [405 kB]\n",
            "Get:106 http://ppa.launchpad.net/fenics-packages/fenics/ubuntu bionic/main amd64 libdolfin-dev amd64 2019.2.0~git20200629.946dbd3-2~ppa1~bionic4 [25.5 kB]\n",
            "Get:107 http://ppa.launchpad.net/fenics-packages/fenics/ubuntu bionic/main amd64 python3-dolfin-real amd64 2019.2.0~git20200629.946dbd3-2~ppa1~bionic4 [718 kB]\n",
            "Get:108 http://ppa.launchpad.net/fenics-packages/fenics/ubuntu bionic/main amd64 pybind11-dev all 2.2.3-1fenics1bionic1 [129 kB]\n",
            "Get:109 http://ppa.launchpad.net/fenics-packages/fenics/ubuntu bionic/main amd64 python3-pybind11 all 2.2.3-1fenics1bionic1 [21.5 kB]\n",
            "Get:110 http://ppa.launchpad.net/fenics-packages/fenics/ubuntu bionic/main amd64 python3-dolfin amd64 2019.2.0~git20200629.946dbd3-2~ppa1~bionic4 [38.8 kB]\n",
            "Get:111 http://ppa.launchpad.net/fenics-packages/fenics/ubuntu bionic/main amd64 dolfin-bin all 2019.2.0~git20200629.946dbd3-2~ppa1~bionic4 [26.0 kB]\n",
            "Get:112 http://ppa.launchpad.net/fenics-packages/fenics/ubuntu bionic/main amd64 dolfin-doc all 2019.2.0~git20200629.946dbd3-2~ppa1~bionic4 [9,474 kB]\n",
            "Get:113 http://ppa.launchpad.net/fenics-packages/fenics/ubuntu bionic/main amd64 python-ufl-doc all 2019.2.0~git20200928.057c5f6-1~ppa1~bionic2 [14.0 kB]\n",
            "Get:114 http://ppa.launchpad.net/fenics-packages/fenics/ubuntu bionic/main amd64 libmshr2019.2 amd64 2019.2.0~git20200924.c27eb18+git1-1~ppa1~bionic4 [1,466 kB]\n",
            "Get:115 http://ppa.launchpad.net/fenics-packages/fenics/ubuntu bionic/main amd64 libmshr-dev-common amd64 2019.2.0~git20200924.c27eb18+git1-1~ppa1~bionic4 [15.8 kB]\n",
            "Get:116 http://ppa.launchpad.net/fenics-packages/fenics/ubuntu bionic/main amd64 libmshr-dev amd64 2019.2.0~git20200924.c27eb18+git1-1~ppa1~bionic4 [52.4 kB]\n",
            "Get:117 http://ppa.launchpad.net/fenics-packages/fenics/ubuntu bionic/main amd64 python3-mshr-real amd64 2019.2.0~git20200924.c27eb18+git1-1~ppa1~bionic4 [88.0 kB]\n",
            "Get:118 http://ppa.launchpad.net/fenics-packages/fenics/ubuntu bionic/main amd64 python3-mshr all 2019.2.0~git20200924.c27eb18+git1-1~ppa1~bionic4 [8,936 B]\n",
            "Get:119 http://ppa.launchpad.net/fenics-packages/fenics/ubuntu bionic/main amd64 fenics amd64 1:2019.2.0.5~ppa1~bionic1 [4,908 B]\n",
            "Fetched 70.7 MB in 8s (8,562 kB/s)\n",
            "Extracting templates from packages: 100%\n",
            "Selecting previously unselected package fonts-lato.\n",
            "(Reading database ... 146374 files and directories currently installed.)\n",
            "Preparing to unpack .../000-fonts-lato_2.0-2_all.deb ...\n",
            "Unpacking fonts-lato (2.0-2) ...\n",
            "Selecting previously unselected package binfmt-support.\n",
            "Preparing to unpack .../001-binfmt-support_2.1.8-2_amd64.deb ...\n",
            "Unpacking binfmt-support (2.1.8-2) ...\n",
            "Selecting previously unselected package libdolfin-dev-common.\n",
            "Preparing to unpack .../002-libdolfin-dev-common_2019.2.0~git20200629.946dbd3-2~ppa1~bionic4_all.deb ...\n",
            "Unpacking libdolfin-dev-common (2019.2.0~git20200629.946dbd3-2~ppa1~bionic4) ...\n",
            "Selecting previously unselected package libsuitesparseconfig5:amd64.\n",
            "Preparing to unpack .../003-libsuitesparseconfig5_1%3a5.1.2-2_amd64.deb ...\n",
            "Unpacking libsuitesparseconfig5:amd64 (1:5.1.2-2) ...\n",
            "Selecting previously unselected package libamd2:amd64.\n",
            "Preparing to unpack .../004-libamd2_1%3a5.1.2-2_amd64.deb ...\n",
            "Unpacking libamd2:amd64 (1:5.1.2-2) ...\n",
            "Selecting previously unselected package libblas3:amd64.\n",
            "Preparing to unpack .../005-libblas3_3.7.1-4ubuntu1_amd64.deb ...\n",
            "Unpacking libblas3:amd64 (3.7.1-4ubuntu1) ...\n",
            "Selecting previously unselected package libcamd2:amd64.\n",
            "Preparing to unpack .../006-libcamd2_1%3a5.1.2-2_amd64.deb ...\n",
            "Unpacking libcamd2:amd64 (1:5.1.2-2) ...\n",
            "Selecting previously unselected package libccolamd2:amd64.\n",
            "Preparing to unpack .../007-libccolamd2_1%3a5.1.2-2_amd64.deb ...\n",
            "Unpacking libccolamd2:amd64 (1:5.1.2-2) ...\n",
            "Selecting previously unselected package libcolamd2:amd64.\n",
            "Preparing to unpack .../008-libcolamd2_1%3a5.1.2-2_amd64.deb ...\n",
            "Unpacking libcolamd2:amd64 (1:5.1.2-2) ...\n",
            "Selecting previously unselected package libmetis5:amd64.\n",
            "Preparing to unpack .../009-libmetis5_5.1.0.dfsg-5_amd64.deb ...\n",
            "Unpacking libmetis5:amd64 (5.1.0.dfsg-5) ...\n",
            "Selecting previously unselected package libcholmod3:amd64.\n",
            "Preparing to unpack .../010-libcholmod3_1%3a5.1.2-2_amd64.deb ...\n",
            "Unpacking libcholmod3:amd64 (1:5.1.2-2) ...\n",
            "Selecting previously unselected package libfftw3-long3:amd64.\n",
            "Preparing to unpack .../011-libfftw3-long3_3.3.7-1_amd64.deb ...\n",
            "Unpacking libfftw3-long3:amd64 (3.3.7-1) ...\n",
            "Selecting previously unselected package libfftw3-single3:amd64.\n",
            "Preparing to unpack .../012-libfftw3-single3_3.3.7-1_amd64.deb ...\n",
            "Unpacking libfftw3-single3:amd64 (3.3.7-1) ...\n",
            "Selecting previously unselected package libfftw3-mpi3:amd64.\n",
            "Preparing to unpack .../013-libfftw3-mpi3_3.3.7-1_amd64.deb ...\n",
            "Unpacking libfftw3-mpi3:amd64 (3.3.7-1) ...\n",
            "Selecting previously unselected package libscotch-6.0.\n",
            "Preparing to unpack .../014-libscotch-6.0_6.0.4.dfsg1-8_amd64.deb ...\n",
            "Unpacking libscotch-6.0 (6.0.4.dfsg1-8) ...\n",
            "Selecting previously unselected package libptscotch-6.0.\n",
            "Preparing to unpack .../015-libptscotch-6.0_6.0.4.dfsg1-8_amd64.deb ...\n",
            "Unpacking libptscotch-6.0 (6.0.4.dfsg1-8) ...\n",
            "Selecting previously unselected package libsuperlu-dist5.\n",
            "Preparing to unpack .../016-libsuperlu-dist5_5.3.0+dfsg1-1_amd64.deb ...\n",
            "Unpacking libsuperlu-dist5 (5.3.0+dfsg1-1) ...\n",
            "Selecting previously unselected package libhypre-2.13.0:amd64.\n",
            "Preparing to unpack .../017-libhypre-2.13.0_2.13.0-2_amd64.deb ...\n",
            "Unpacking libhypre-2.13.0:amd64 (2.13.0-2) ...\n",
            "Selecting previously unselected package libbtf1:amd64.\n",
            "Preparing to unpack .../018-libbtf1_1%3a5.1.2-2_amd64.deb ...\n",
            "Unpacking libbtf1:amd64 (1:5.1.2-2) ...\n",
            "Selecting previously unselected package libklu1:amd64.\n",
            "Preparing to unpack .../019-libklu1_1%3a5.1.2-2_amd64.deb ...\n",
            "Unpacking libklu1:amd64 (1:5.1.2-2) ...\n",
            "Selecting previously unselected package libscalapack-openmpi2.0.\n",
            "Preparing to unpack .../020-libscalapack-openmpi2.0_2.0.2-4_amd64.deb ...\n",
            "Unpacking libscalapack-openmpi2.0 (2.0.2-4) ...\n",
            "Selecting previously unselected package libmumps-5.1.2:amd64.\n",
            "Preparing to unpack .../021-libmumps-5.1.2_5.1.2-4_amd64.deb ...\n",
            "Unpacking libmumps-5.1.2:amd64 (5.1.2-4) ...\n",
            "Selecting previously unselected package libumfpack5:amd64.\n",
            "Preparing to unpack .../022-libumfpack5_1%3a5.1.2-2_amd64.deb ...\n",
            "Unpacking libumfpack5:amd64 (1:5.1.2-2) ...\n",
            "Selecting previously unselected package libpetsc3.7.7:amd64.\n",
            "Preparing to unpack .../023-libpetsc3.7.7_3.7.7+dfsg1-2build5_amd64.deb ...\n",
            "Unpacking libpetsc3.7.7:amd64 (3.7.7+dfsg1-2build5) ...\n",
            "Selecting previously unselected package libparpack2:amd64.\n",
            "Preparing to unpack .../024-libparpack2_3.5.0+real-2_amd64.deb ...\n",
            "Unpacking libparpack2:amd64 (3.5.0+real-2) ...\n",
            "Selecting previously unselected package libslepc3.7.4.\n",
            "Preparing to unpack .../025-libslepc3.7.4_3.7.4+dfsg1-2build8_amd64.deb ...\n",
            "Unpacking libslepc3.7.4 (3.7.4+dfsg1-2build8) ...\n",
            "Selecting previously unselected package libdolfin2019.2:amd64.\n",
            "Preparing to unpack .../026-libdolfin2019.2_2019.2.0~git20200629.946dbd3-2~ppa1~bionic4_amd64.deb ...\n",
            "Unpacking libdolfin2019.2:amd64 (2019.2.0~git20200629.946dbd3-2~ppa1~bionic4) ...\n",
            "Selecting previously unselected package libeigen3-dev.\n",
            "Preparing to unpack .../027-libeigen3-dev_3.3.4-4_all.deb ...\n",
            "Unpacking libeigen3-dev (3.3.4-4) ...\n",
            "Selecting previously unselected package libhdf5-openmpi-dev.\n",
            "Preparing to unpack .../028-libhdf5-openmpi-dev_1.10.0-patch1+docs-4_amd64.deb ...\n",
            "Unpacking libhdf5-openmpi-dev (1.10.0-patch1+docs-4) ...\n",
            "Selecting previously unselected package libhdf5-mpi-dev.\n",
            "Preparing to unpack .../029-libhdf5-mpi-dev_1.10.0-patch1+docs-4_amd64.deb ...\n",
            "Unpacking libhdf5-mpi-dev (1.10.0-patch1+docs-4) ...\n",
            "Selecting previously unselected package libcxsparse3:amd64.\n",
            "Preparing to unpack .../030-libcxsparse3_1%3a5.1.2-2_amd64.deb ...\n",
            "Unpacking libcxsparse3:amd64 (1:5.1.2-2) ...\n",
            "Selecting previously unselected package libgraphblas1:amd64.\n",
            "Preparing to unpack .../031-libgraphblas1_1%3a5.1.2-2_amd64.deb ...\n",
            "Unpacking libgraphblas1:amd64 (1:5.1.2-2) ...\n",
            "Selecting previously unselected package libldl2:amd64.\n",
            "Preparing to unpack .../032-libldl2_1%3a5.1.2-2_amd64.deb ...\n",
            "Unpacking libldl2:amd64 (1:5.1.2-2) ...\n",
            "Selecting previously unselected package librbio2:amd64.\n",
            "Preparing to unpack .../033-librbio2_1%3a5.1.2-2_amd64.deb ...\n",
            "Unpacking librbio2:amd64 (1:5.1.2-2) ...\n",
            "Selecting previously unselected package libspqr2:amd64.\n",
            "Preparing to unpack .../034-libspqr2_1%3a5.1.2-2_amd64.deb ...\n",
            "Unpacking libspqr2:amd64 (1:5.1.2-2) ...\n",
            "Selecting previously unselected package libblas-dev:amd64.\n",
            "Preparing to unpack .../035-libblas-dev_3.7.1-4ubuntu1_amd64.deb ...\n",
            "Unpacking libblas-dev:amd64 (3.7.1-4ubuntu1) ...\n",
            "Selecting previously unselected package libsuitesparse-dev:amd64.\n",
            "Preparing to unpack .../036-libsuitesparse-dev_1%3a5.1.2-2_amd64.deb ...\n",
            "Unpacking libsuitesparse-dev:amd64 (1:5.1.2-2) ...\n",
            "Selecting previously unselected package libscotch-dev.\n",
            "Preparing to unpack .../037-libscotch-dev_6.0.4.dfsg1-8_amd64.deb ...\n",
            "Unpacking libscotch-dev (6.0.4.dfsg1-8) ...\n",
            "Selecting previously unselected package python3-mpmath.\n",
            "Preparing to unpack .../038-python3-mpmath_1.0.0-1_all.deb ...\n",
            "Unpacking python3-mpmath (1.0.0-1) ...\n",
            "Selecting previously unselected package python3-sympy.\n",
            "Preparing to unpack .../039-python3-sympy_1.1.1-5_all.deb ...\n",
            "Unpacking python3-sympy (1.1.1-5) ...\n",
            "Selecting previously unselected package python3-pkg-resources.\n",
            "Preparing to unpack .../040-python3-pkg-resources_39.0.1-2_all.deb ...\n",
            "Unpacking python3-pkg-resources (39.0.1-2) ...\n",
            "Selecting previously unselected package python3-fiat.\n",
            "Preparing to unpack .../041-python3-fiat_2019.2.0~git20200919.42ceef3-1~ppa1~bionic2_all.deb ...\n",
            "Unpacking python3-fiat (2019.2.0~git20200919.42ceef3-1~ppa1~bionic2) ...\n",
            "Selecting previously unselected package python3-ufl.\n",
            "Preparing to unpack .../042-python3-ufl_2019.2.0~git20200928.057c5f6-1~ppa1~bionic2_all.deb ...\n",
            "Unpacking python3-ufl (2019.2.0~git20200928.057c5f6-1~ppa1~bionic2) ...\n",
            "Selecting previously unselected package python3-mpi4py.\n",
            "Preparing to unpack .../043-python3-mpi4py_2.0.0-3_amd64.deb ...\n",
            "Unpacking python3-mpi4py (2.0.0-3) ...\n",
            "Selecting previously unselected package python3-dijitso.\n",
            "Preparing to unpack .../044-python3-dijitso_2019.2.0~git20190418.c92dcb0-2~ppa1~bionic3_all.deb ...\n",
            "Unpacking python3-dijitso (2019.2.0~git20190418.c92dcb0-2~ppa1~bionic3) ...\n",
            "Selecting previously unselected package python3-ffc.\n",
            "Preparing to unpack .../045-python3-ffc_2019.2.0~git20200123.6b621eb-3~ppa1~bionic1_all.deb ...\n",
            "Unpacking python3-ffc (2019.2.0~git20200123.6b621eb-3~ppa1~bionic1) ...\n",
            "Selecting previously unselected package libspooles2.2:amd64.\n",
            "Preparing to unpack .../046-libspooles2.2_2.2-12build1_amd64.deb ...\n",
            "Unpacking libspooles2.2:amd64 (2.2-12build1) ...\n",
            "Selecting previously unselected package libspooles-dev:amd64.\n",
            "Preparing to unpack .../047-libspooles-dev_2.2-12build1_amd64.deb ...\n",
            "Unpacking libspooles-dev:amd64 (2.2-12build1) ...\n",
            "Selecting previously unselected package libsuperlu-dev:amd64.\n",
            "Preparing to unpack .../048-libsuperlu-dev_5.2.1+dfsg1-3_amd64.deb ...\n",
            "Unpacking libsuperlu-dev:amd64 (5.2.1+dfsg1-3) ...\n",
            "Selecting previously unselected package libhypre-dev:amd64.\n",
            "Preparing to unpack .../049-libhypre-dev_2.13.0-2_amd64.deb ...\n",
            "Unpacking libhypre-dev:amd64 (2.13.0-2) ...\n",
            "Selecting previously unselected package libptscotch-dev.\n",
            "Preparing to unpack .../050-libptscotch-dev_6.0.4.dfsg1-8_amd64.deb ...\n",
            "Unpacking libptscotch-dev (6.0.4.dfsg1-8) ...\n",
            "Selecting previously unselected package libscalapack-openmpi-dev.\n",
            "Preparing to unpack .../051-libscalapack-openmpi-dev_2.0.2-4_amd64.deb ...\n",
            "Unpacking libscalapack-openmpi-dev (2.0.2-4) ...\n",
            "Selecting previously unselected package libscalapack-mpi-dev.\n",
            "Preparing to unpack .../052-libscalapack-mpi-dev_2.0.2-4_amd64.deb ...\n",
            "Unpacking libscalapack-mpi-dev (2.0.2-4) ...\n",
            "Selecting previously unselected package libmumps-dev:amd64.\n",
            "Preparing to unpack .../053-libmumps-dev_5.1.2-4_amd64.deb ...\n",
            "Unpacking libmumps-dev:amd64 (5.1.2-4) ...\n",
            "Selecting previously unselected package libfftw3-quad3:amd64.\n",
            "Preparing to unpack .../054-libfftw3-quad3_3.3.7-1_amd64.deb ...\n",
            "Unpacking libfftw3-quad3:amd64 (3.3.7-1) ...\n",
            "Selecting previously unselected package libfftw3-bin.\n",
            "Preparing to unpack .../055-libfftw3-bin_3.3.7-1_amd64.deb ...\n",
            "Unpacking libfftw3-bin (3.3.7-1) ...\n",
            "Selecting previously unselected package libfftw3-dev:amd64.\n",
            "Preparing to unpack .../056-libfftw3-dev_3.3.7-1_amd64.deb ...\n",
            "Unpacking libfftw3-dev:amd64 (3.3.7-1) ...\n",
            "Selecting previously unselected package libfftw3-mpi-dev:amd64.\n",
            "Preparing to unpack .../057-libfftw3-mpi-dev_3.3.7-1_amd64.deb ...\n",
            "Unpacking libfftw3-mpi-dev:amd64 (3.3.7-1) ...\n",
            "Selecting previously unselected package libpetsc3.7.7-dev:amd64.\n",
            "Preparing to unpack .../058-libpetsc3.7.7-dev_3.7.7+dfsg1-2build5_amd64.deb ...\n",
            "Unpacking libpetsc3.7.7-dev:amd64 (3.7.7+dfsg1-2build5) ...\n",
            "Selecting previously unselected package libpetsc3.7-dev:amd64.\n",
            "Preparing to unpack .../059-libpetsc3.7-dev_3.7.7+dfsg1-2build5_amd64.deb ...\n",
            "Unpacking libpetsc3.7-dev:amd64 (3.7.7+dfsg1-2build5) ...\n",
            "Selecting previously unselected package libarpack2-dev:amd64.\n",
            "Preparing to unpack .../060-libarpack2-dev_3.5.0+real-2_amd64.deb ...\n",
            "Unpacking libarpack2-dev:amd64 (3.5.0+real-2) ...\n",
            "Selecting previously unselected package libparpack2-dev:amd64.\n",
            "Preparing to unpack .../061-libparpack2-dev_3.5.0+real-2_amd64.deb ...\n",
            "Unpacking libparpack2-dev:amd64 (3.5.0+real-2) ...\n",
            "Selecting previously unselected package libslepc3.7.4-dev.\n",
            "Preparing to unpack .../062-libslepc3.7.4-dev_3.7.4+dfsg1-2build8_amd64.deb ...\n",
            "Unpacking libslepc3.7.4-dev (3.7.4+dfsg1-2build8) ...\n",
            "Selecting previously unselected package libslepc3.7-dev.\n",
            "Preparing to unpack .../063-libslepc3.7-dev_3.7.4+dfsg1-2build8_amd64.deb ...\n",
            "Unpacking libslepc3.7-dev (3.7.4+dfsg1-2build8) ...\n",
            "Selecting previously unselected package libdolfin-dev:amd64.\n",
            "Preparing to unpack .../064-libdolfin-dev_2019.2.0~git20200629.946dbd3-2~ppa1~bionic4_amd64.deb ...\n",
            "Unpacking libdolfin-dev:amd64 (2019.2.0~git20200629.946dbd3-2~ppa1~bionic4) ...\n",
            "Selecting previously unselected package python3-petsc4py.\n",
            "Preparing to unpack .../065-python3-petsc4py_3.7.0-3build2_amd64.deb ...\n",
            "Unpacking python3-petsc4py (3.7.0-3build2) ...\n",
            "Selecting previously unselected package python3-slepc4py.\n",
            "Preparing to unpack .../066-python3-slepc4py_3.7.0-3build1_amd64.deb ...\n",
            "Unpacking python3-slepc4py (3.7.0-3build1) ...\n",
            "Selecting previously unselected package python3-dolfin-real.\n",
            "Preparing to unpack .../067-python3-dolfin-real_2019.2.0~git20200629.946dbd3-2~ppa1~bionic4_amd64.deb ...\n",
            "Unpacking python3-dolfin-real (2019.2.0~git20200629.946dbd3-2~ppa1~bionic4) ...\n",
            "Selecting previously unselected package python3-ply.\n",
            "Preparing to unpack .../068-python3-ply_3.11-1_all.deb ...\n",
            "Unpacking python3-ply (3.11-1) ...\n",
            "Selecting previously unselected package pybind11-dev.\n",
            "Preparing to unpack .../069-pybind11-dev_2.2.3-1fenics1bionic1_all.deb ...\n",
            "Unpacking pybind11-dev (2.2.3-1fenics1bionic1) ...\n",
            "Selecting previously unselected package python3-pybind11.\n",
            "Preparing to unpack .../070-python3-pybind11_2.2.3-1fenics1bionic1_all.deb ...\n",
            "Unpacking python3-pybind11 (2.2.3-1fenics1bionic1) ...\n",
            "Selecting previously unselected package python3-six.\n",
            "Preparing to unpack .../071-python3-six_1.11.0-2_all.deb ...\n",
            "Unpacking python3-six (1.11.0-2) ...\n",
            "Selecting previously unselected package python3-pkgconfig.\n",
            "Preparing to unpack .../072-python3-pkgconfig_1.3.1-1_all.deb ...\n",
            "Unpacking python3-pkgconfig (1.3.1-1) ...\n",
            "Selecting previously unselected package python3-dolfin.\n",
            "Preparing to unpack .../073-python3-dolfin_2019.2.0~git20200629.946dbd3-2~ppa1~bionic4_amd64.deb ...\n",
            "Unpacking python3-dolfin (2019.2.0~git20200629.946dbd3-2~ppa1~bionic4) ...\n",
            "Selecting previously unselected package dolfin-bin.\n",
            "Preparing to unpack .../074-dolfin-bin_2019.2.0~git20200629.946dbd3-2~ppa1~bionic4_all.deb ...\n",
            "Unpacking dolfin-bin (2019.2.0~git20200629.946dbd3-2~ppa1~bionic4) ...\n",
            "Selecting previously unselected package libjs-jquery.\n",
            "Preparing to unpack .../075-libjs-jquery_3.2.1-1_all.deb ...\n",
            "Unpacking libjs-jquery (3.2.1-1) ...\n",
            "Selecting previously unselected package libjs-underscore.\n",
            "Preparing to unpack .../076-libjs-underscore_1.8.3~dfsg-1_all.deb ...\n",
            "Unpacking libjs-underscore (1.8.3~dfsg-1) ...\n",
            "Selecting previously unselected package libjs-sphinxdoc.\n",
            "Preparing to unpack .../077-libjs-sphinxdoc_1.6.7-1ubuntu1_all.deb ...\n",
            "Unpacking libjs-sphinxdoc (1.6.7-1ubuntu1) ...\n",
            "Selecting previously unselected package fonts-font-awesome.\n",
            "Preparing to unpack .../078-fonts-font-awesome_4.7.0~dfsg-3_all.deb ...\n",
            "Unpacking fonts-font-awesome (4.7.0~dfsg-3) ...\n",
            "Selecting previously unselected package libjs-modernizr.\n",
            "Preparing to unpack .../079-libjs-modernizr_2.6.2+ds1-1ubuntu1_all.deb ...\n",
            "Unpacking libjs-modernizr (2.6.2+ds1-1ubuntu1) ...\n",
            "Selecting previously unselected package sphinx-rtd-theme-common.\n",
            "Preparing to unpack .../080-sphinx-rtd-theme-common_0.2.4-1_all.deb ...\n",
            "Unpacking sphinx-rtd-theme-common (0.2.4-1) ...\n",
            "Selecting previously unselected package dolfin-doc.\n",
            "Preparing to unpack .../081-dolfin-doc_2019.2.0~git20200629.946dbd3-2~ppa1~bionic4_all.deb ...\n",
            "Unpacking dolfin-doc (2019.2.0~git20200629.946dbd3-2~ppa1~bionic4) ...\n",
            "Selecting previously unselected package python-ufl-doc.\n",
            "Preparing to unpack .../082-python-ufl-doc_2019.2.0~git20200928.057c5f6-1~ppa1~bionic2_all.deb ...\n",
            "Unpacking python-ufl-doc (2019.2.0~git20200928.057c5f6-1~ppa1~bionic2) ...\n",
            "Selecting previously unselected package libtet1.5:amd64.\n",
            "Preparing to unpack .../083-libtet1.5_1.5.0-4_amd64.deb ...\n",
            "Unpacking libtet1.5:amd64 (1.5.0-4) ...\n",
            "Selecting previously unselected package libmshr2019.2:amd64.\n",
            "Preparing to unpack .../084-libmshr2019.2_2019.2.0~git20200924.c27eb18+git1-1~ppa1~bionic4_amd64.deb ...\n",
            "Unpacking libmshr2019.2:amd64 (2019.2.0~git20200924.c27eb18+git1-1~ppa1~bionic4) ...\n",
            "Selecting previously unselected package libproj-dev:amd64.\n",
            "Preparing to unpack .../085-libproj-dev_4.9.3-2_amd64.deb ...\n",
            "Unpacking libproj-dev:amd64 (4.9.3-2) ...\n",
            "Selecting previously unselected package libmshr-dev-common:amd64.\n",
            "Preparing to unpack .../086-libmshr-dev-common_2019.2.0~git20200924.c27eb18+git1-1~ppa1~bionic4_amd64.deb ...\n",
            "Unpacking libmshr-dev-common:amd64 (2019.2.0~git20200924.c27eb18+git1-1~ppa1~bionic4) ...\n",
            "Selecting previously unselected package libmshr-dev.\n",
            "Preparing to unpack .../087-libmshr-dev_2019.2.0~git20200924.c27eb18+git1-1~ppa1~bionic4_amd64.deb ...\n",
            "Unpacking libmshr-dev (2019.2.0~git20200924.c27eb18+git1-1~ppa1~bionic4) ...\n",
            "Selecting previously unselected package python3-mshr-real.\n",
            "Preparing to unpack .../088-python3-mshr-real_2019.2.0~git20200924.c27eb18+git1-1~ppa1~bionic4_amd64.deb ...\n",
            "Unpacking python3-mshr-real (2019.2.0~git20200924.c27eb18+git1-1~ppa1~bionic4) ...\n",
            "Selecting previously unselected package python3-mshr.\n",
            "Preparing to unpack .../089-python3-mshr_2019.2.0~git20200924.c27eb18+git1-1~ppa1~bionic4_all.deb ...\n",
            "Unpacking python3-mshr (2019.2.0~git20200924.c27eb18+git1-1~ppa1~bionic4) ...\n",
            "Selecting previously unselected package fenics:amd64.\n",
            "Preparing to unpack .../090-fenics_1%3a2019.2.0.5~ppa1~bionic1_amd64.deb ...\n",
            "Unpacking fenics:amd64 (1:2019.2.0.5~ppa1~bionic1) ...\n",
            "Selecting previously unselected package fonts-lyx.\n",
            "Preparing to unpack .../091-fonts-lyx_2.2.4-0ubuntu0.18.04.1_all.deb ...\n",
            "Unpacking fonts-lyx (2.2.4-0ubuntu0.18.04.1) ...\n",
            "Selecting previously unselected package python3-decorator.\n",
            "Preparing to unpack .../092-python3-decorator_4.1.2-1_all.deb ...\n",
            "Unpacking python3-decorator (4.1.2-1) ...\n",
            "Selecting previously unselected package python3-ptyprocess.\n",
            "Preparing to unpack .../093-python3-ptyprocess_0.5.2-1_all.deb ...\n",
            "Unpacking python3-ptyprocess (0.5.2-1) ...\n",
            "Selecting previously unselected package python3-pexpect.\n",
            "Preparing to unpack .../094-python3-pexpect_4.2.1-1_all.deb ...\n",
            "Unpacking python3-pexpect (4.2.1-1) ...\n",
            "Selecting previously unselected package python3-pickleshare.\n",
            "Preparing to unpack .../095-python3-pickleshare_0.7.4-2_all.deb ...\n",
            "Unpacking python3-pickleshare (0.7.4-2) ...\n",
            "Selecting previously unselected package python3-wcwidth.\n",
            "Preparing to unpack .../096-python3-wcwidth_0.1.7+dfsg1-1_all.deb ...\n",
            "Unpacking python3-wcwidth (0.1.7+dfsg1-1) ...\n",
            "Selecting previously unselected package python3-prompt-toolkit.\n",
            "Preparing to unpack .../097-python3-prompt-toolkit_1.0.15-1_all.deb ...\n",
            "Unpacking python3-prompt-toolkit (1.0.15-1) ...\n",
            "Selecting previously unselected package python3-pygments.\n",
            "Preparing to unpack .../098-python3-pygments_2.2.0+dfsg-1_all.deb ...\n",
            "Unpacking python3-pygments (2.2.0+dfsg-1) ...\n",
            "Selecting previously unselected package python3-simplegeneric.\n",
            "Preparing to unpack .../099-python3-simplegeneric_0.8.1-1_all.deb ...\n",
            "Unpacking python3-simplegeneric (0.8.1-1) ...\n",
            "Selecting previously unselected package python3-ipython-genutils.\n",
            "Preparing to unpack .../100-python3-ipython-genutils_0.2.0-1_all.deb ...\n",
            "Unpacking python3-ipython-genutils (0.2.0-1) ...\n",
            "Selecting previously unselected package python3-traitlets.\n",
            "Preparing to unpack .../101-python3-traitlets_4.3.2-1_all.deb ...\n",
            "Unpacking python3-traitlets (4.3.2-1) ...\n",
            "Selecting previously unselected package python3-ipython.\n",
            "Preparing to unpack .../102-python3-ipython_5.5.0-1_all.deb ...\n",
            "Unpacking python3-ipython (5.5.0-1) ...\n",
            "Selecting previously unselected package ipython3.\n",
            "Preparing to unpack .../103-ipython3_5.5.0-1_all.deb ...\n",
            "Unpacking ipython3 (5.5.0-1) ...\n",
            "Selecting previously unselected package javascript-common.\n",
            "Preparing to unpack .../104-javascript-common_11_all.deb ...\n",
            "Unpacking javascript-common (11) ...\n",
            "Selecting previously unselected package ksh.\n",
            "Preparing to unpack .../105-ksh_93u+20120801-3.1ubuntu1_amd64.deb ...\n",
            "Unpacking ksh (93u+20120801-3.1ubuntu1) ...\n",
            "Selecting previously unselected package libjs-jquery-ui.\n",
            "Preparing to unpack .../106-libjs-jquery-ui_1.12.1+dfsg-5_all.deb ...\n",
            "Unpacking libjs-jquery-ui (1.12.1+dfsg-5) ...\n",
            "Selecting previously unselected package ttf-bitstream-vera.\n",
            "Preparing to unpack .../107-ttf-bitstream-vera_1.10-8_all.deb ...\n",
            "Unpacking ttf-bitstream-vera (1.10-8) ...\n",
            "Selecting previously unselected package python-matplotlib-data.\n",
            "Preparing to unpack .../108-python-matplotlib-data_2.1.1-2ubuntu3_all.deb ...\n",
            "Unpacking python-matplotlib-data (2.1.1-2ubuntu3) ...\n",
            "Selecting previously unselected package python3-cycler.\n",
            "Preparing to unpack .../109-python3-cycler_0.10.0-1_all.deb ...\n",
            "Unpacking python3-cycler (0.10.0-1) ...\n",
            "Selecting previously unselected package python3-dateutil.\n",
            "Preparing to unpack .../110-python3-dateutil_2.6.1-1_all.deb ...\n",
            "Unpacking python3-dateutil (2.6.1-1) ...\n",
            "Selecting previously unselected package python3-pyparsing.\n",
            "Preparing to unpack .../111-python3-pyparsing_2.2.0+dfsg1-2_all.deb ...\n",
            "Unpacking python3-pyparsing (2.2.0+dfsg1-2) ...\n",
            "Selecting previously unselected package python3-tz.\n",
            "Preparing to unpack .../112-python3-tz_2018.3-2_all.deb ...\n",
            "Unpacking python3-tz (2018.3-2) ...\n",
            "Selecting previously unselected package python3-matplotlib.\n",
            "Preparing to unpack .../113-python3-matplotlib_2.1.1-2ubuntu3_amd64.deb ...\n",
            "Unpacking python3-matplotlib (2.1.1-2ubuntu3) ...\n",
            "Selecting previously unselected package python3-olefile.\n",
            "Preparing to unpack .../114-python3-olefile_0.45.1-1_all.deb ...\n",
            "Unpacking python3-olefile (0.45.1-1) ...\n",
            "Selecting previously unselected package python3-pil:amd64.\n",
            "Preparing to unpack .../115-python3-pil_5.1.0-1ubuntu0.4_amd64.deb ...\n",
            "Unpacking python3-pil:amd64 (5.1.0-1ubuntu0.4) ...\n",
            "Selecting previously unselected package tcsh.\n",
            "Preparing to unpack .../116-tcsh_6.20.00-7_amd64.deb ...\n",
            "Unpacking tcsh (6.20.00-7) ...\n",
            "Selecting previously unselected package python-petsc4py-docs.\n",
            "Preparing to unpack .../117-python-petsc4py-docs_3.7.0-3build2_all.deb ...\n",
            "Unpacking python-petsc4py-docs (3.7.0-3build2) ...\n",
            "Selecting previously unselected package python-slepc4py-docs.\n",
            "Preparing to unpack .../118-python-slepc4py-docs_3.7.0-3build1_all.deb ...\n",
            "Unpacking python-slepc4py-docs (3.7.0-3build1) ...\n",
            "Setting up python3-pkgconfig (1.3.1-1) ...\n",
            "Setting up libbtf1:amd64 (1:5.1.2-2) ...\n",
            "Setting up libldl2:amd64 (1:5.1.2-2) ...\n",
            "Setting up libjs-jquery (3.2.1-1) ...\n",
            "Setting up libscotch-6.0 (6.0.4.dfsg1-8) ...\n",
            "Setting up binfmt-support (2.1.8-2) ...\n",
            "Created symlink /etc/systemd/system/multi-user.target.wants/binfmt-support.service → /lib/systemd/system/binfmt-support.service.\n",
            "invoke-rc.d: could not determine current runlevel\n",
            "invoke-rc.d: policy-rc.d denied execution of start.\n",
            "Setting up libcxsparse3:amd64 (1:5.1.2-2) ...\n",
            "Setting up python3-pickleshare (0.7.4-2) ...\n",
            "Setting up libproj-dev:amd64 (4.9.3-2) ...\n",
            "Setting up python-ufl-doc (2019.2.0~git20200928.057c5f6-1~ppa1~bionic2) ...\n",
            "Setting up python3-pil:amd64 (5.1.0-1ubuntu0.4) ...\n",
            "Setting up python3-simplegeneric (0.8.1-1) ...\n",
            "Setting up python-slepc4py-docs (3.7.0-3build1) ...\n",
            "Setting up libjs-underscore (1.8.3~dfsg-1) ...\n",
            "Setting up libdolfin-dev-common (2019.2.0~git20200629.946dbd3-2~ppa1~bionic4) ...\n",
            "Setting up python3-olefile (0.45.1-1) ...\n",
            "Setting up libtet1.5:amd64 (1.5.0-4) ...\n",
            "Setting up libscalapack-openmpi2.0 (2.0.2-4) ...\n",
            "Setting up libeigen3-dev (3.3.4-4) ...\n",
            "Setting up libgraphblas1:amd64 (1:5.1.2-2) ...\n",
            "Setting up python3-six (1.11.0-2) ...\n",
            "Setting up ksh (93u+20120801-3.1ubuntu1) ...\n",
            "update-alternatives: using /bin/ksh93 to provide /bin/ksh (ksh) in auto mode\n",
            "Setting up libptscotch-6.0 (6.0.4.dfsg1-8) ...\n",
            "Setting up python3-pyparsing (2.2.0+dfsg1-2) ...\n",
            "Setting up libparpack2:amd64 (3.5.0+real-2) ...\n",
            "Setting up python3-cycler (0.10.0-1) ...\n",
            "Setting up libjs-sphinxdoc (1.6.7-1ubuntu1) ...\n",
            "Setting up libspooles2.2:amd64 (2.2-12build1) ...\n",
            "Setting up python3-pkg-resources (39.0.1-2) ...\n",
            "Setting up python3-mpmath (1.0.0-1) ...\n",
            "Setting up python3-ufl (2019.2.0~git20200928.057c5f6-1~ppa1~bionic2) ...\n",
            "Setting up fonts-font-awesome (4.7.0~dfsg-3) ...\n",
            "Setting up libscalapack-openmpi-dev (2.0.2-4) ...\n",
            "Setting up python3-wcwidth (0.1.7+dfsg1-1) ...\n",
            "Setting up fonts-lato (2.0-2) ...\n",
            "Setting up libhdf5-openmpi-dev (1.10.0-patch1+docs-4) ...\n",
            "update-alternatives: using /usr/bin/h5pcc.openmpi to provide /usr/bin/h5pcc (h5pcc) in auto mode\n",
            "Setting up libfftw3-quad3:amd64 (3.3.7-1) ...\n",
            "Setting up tcsh (6.20.00-7) ...\n",
            "update-alternatives: using /bin/tcsh to provide /bin/csh (csh) in auto mode\n",
            "Setting up libblas3:amd64 (3.7.1-4ubuntu1) ...\n",
            "Setting up libscotch-dev (6.0.4.dfsg1-8) ...\n",
            "Setting up python3-ipython-genutils (0.2.0-1) ...\n",
            "Setting up libsuperlu-dist5 (5.3.0+dfsg1-1) ...\n",
            "Setting up libsuitesparseconfig5:amd64 (1:5.1.2-2) ...\n",
            "Setting up libmetis5:amd64 (5.1.0.dfsg-5) ...\n",
            "Setting up pybind11-dev (2.2.3-1fenics1bionic1) ...\n",
            "Setting up libjs-jquery-ui (1.12.1+dfsg-5) ...\n",
            "Setting up python-petsc4py-docs (3.7.0-3build2) ...\n",
            "Setting up libcolamd2:amd64 (1:5.1.2-2) ...\n",
            "Setting up libarpack2-dev:amd64 (3.5.0+real-2) ...\n",
            "Setting up ttf-bitstream-vera (1.10-8) ...\n",
            "Setting up libccolamd2:amd64 (1:5.1.2-2) ...\n",
            "Setting up libfftw3-single3:amd64 (3.3.7-1) ...\n",
            "Setting up python3-mpi4py (2.0.0-3) ...\n",
            "Setting up python3-ply (3.11-1) ...\n",
            "Setting up javascript-common (11) ...\n",
            "Setting up python3-sympy (1.1.1-5) ...\n",
            "Setting up libspooles-dev:amd64 (2.2-12build1) ...\n",
            "Setting up libfftw3-long3:amd64 (3.3.7-1) ...\n",
            "Setting up python3-decorator (4.1.2-1) ...\n",
            "Setting up python3-traitlets (4.3.2-1) ...\n",
            "Setting up python3-ptyprocess (0.5.2-1) ...\n",
            "Setting up python3-tz (2018.3-2) ...\n",
            "Setting up libjs-modernizr (2.6.2+ds1-1ubuntu1) ...\n",
            "Setting up python3-dateutil (2.6.1-1) ...\n",
            "Setting up fonts-lyx (2.2.4-0ubuntu0.18.04.1) ...\n",
            "Setting up python3-pybind11 (2.2.3-1fenics1bionic1) ...\n",
            "Setting up python3-pygments (2.2.0+dfsg-1) ...\n",
            "Setting up python3-fiat (2019.2.0~git20200919.42ceef3-1~ppa1~bionic2) ...\n",
            "Setting up libparpack2-dev:amd64 (3.5.0+real-2) ...\n",
            "Setting up libfftw3-bin (3.3.7-1) ...\n",
            "Setting up libmumps-5.1.2:amd64 (5.1.2-4) ...\n",
            "Setting up libptscotch-dev (6.0.4.dfsg1-8) ...\n",
            "Setting up python3-prompt-toolkit (1.0.15-1) ...\n",
            "Setting up python-matplotlib-data (2.1.1-2ubuntu3) ...\n",
            "Setting up libblas-dev:amd64 (3.7.1-4ubuntu1) ...\n",
            "Setting up libscalapack-mpi-dev (2.0.2-4) ...\n",
            "Setting up libhypre-2.13.0:amd64 (2.13.0-2) ...\n",
            "Setting up librbio2:amd64 (1:5.1.2-2) ...\n",
            "Setting up libcamd2:amd64 (1:5.1.2-2) ...\n",
            "Setting up libfftw3-mpi3:amd64 (3.3.7-1) ...\n",
            "Setting up libmumps-dev:amd64 (5.1.2-4) ...\n",
            "Setting up python3-dijitso (2019.2.0~git20190418.c92dcb0-2~ppa1~bionic3) ...\n",
            "Setting up libhdf5-mpi-dev (1.10.0-patch1+docs-4) ...\n",
            "Setting up libamd2:amd64 (1:5.1.2-2) ...\n",
            "Setting up libsuperlu-dev:amd64 (5.2.1+dfsg1-3) ...\n",
            "Setting up python3-pexpect (4.2.1-1) ...\n",
            "Setting up sphinx-rtd-theme-common (0.2.4-1) ...\n",
            "Setting up libfftw3-dev:amd64 (3.3.7-1) ...\n",
            "Setting up python3-matplotlib (2.1.1-2ubuntu3) ...\n",
            "Setting up python3-ffc (2019.2.0~git20200123.6b621eb-3~ppa1~bionic1) ...\n",
            "Setting up libfftw3-mpi-dev:amd64 (3.3.7-1) ...\n",
            "Setting up libhypre-dev:amd64 (2.13.0-2) ...\n",
            "Setting up python3-ipython (5.5.0-1) ...\n",
            "Setting up libmshr-dev-common:amd64 (2019.2.0~git20200924.c27eb18+git1-1~ppa1~bionic4) ...\n",
            "Setting up libklu1:amd64 (1:5.1.2-2) ...\n",
            "Setting up libcholmod3:amd64 (1:5.1.2-2) ...\n",
            "Setting up libspqr2:amd64 (1:5.1.2-2) ...\n",
            "Setting up ipython3 (5.5.0-1) ...\n",
            "Setting up libumfpack5:amd64 (1:5.1.2-2) ...\n",
            "Setting up libpetsc3.7.7:amd64 (3.7.7+dfsg1-2build5) ...\n",
            "update-alternatives: using /usr/lib/x86_64-linux-gnu/libpetsc_real.so.3.7.7 to provide /usr/lib/x86_64-linux-gnu/libpetsc.so.3.7 (libpetsc.so.3.7) in auto mode\n",
            "update-alternatives: using /usr/lib/x86_64-linux-gnu/libpetsc_real.so.3.7.7 to provide /usr/lib/x86_64-linux-gnu/libpetsc_real.so.3.7 (libpetsc_real.so.3.7) in auto mode\n",
            "Setting up python3-petsc4py (3.7.0-3build2) ...\n",
            "Setting up libsuitesparse-dev:amd64 (1:5.1.2-2) ...\n",
            "Setting up libpetsc3.7.7-dev:amd64 (3.7.7+dfsg1-2build5) ...\n",
            "update-alternatives: error: no alternatives for petsc\n",
            "update-alternatives: using /usr/lib/petscdir/3.7.7/x86_64-linux-gnu-real to provide /usr/lib/petsc (petsc) in auto mode\n",
            "update-alternatives: using /usr/lib/x86_64-linux-gnu/libpetsc_real.so.3.7.7 to provide /usr/lib/x86_64-linux-gnu/libpetsc_real.so (libpetsc_real.so) in auto mode\n",
            "update-alternatives: using /usr/lib/petscdir/3.7.7/x86_64-linux-gnu-real to provide /usr/lib/petscdir/3.7 (petsc3.7) in auto mode\n",
            "update-alternatives: using /usr/lib/petscdir/3.7.7/x86_64-linux-gnu-real to provide /usr/lib/petscdir/3.7-real (petsc3.7-real) in auto mode\n",
            "Setting up libslepc3.7.4 (3.7.4+dfsg1-2build8) ...\n",
            "update-alternatives: using /usr/lib/x86_64-linux-gnu/libslepc_real.so.3.7.4 to provide /usr/lib/x86_64-linux-gnu/libslepc.so.3.7 (libslepc.so.3.7) in auto mode\n",
            "update-alternatives: using /usr/lib/x86_64-linux-gnu/libslepc_real.so.3.7.4 to provide /usr/lib/x86_64-linux-gnu/libslepc_real.so.3.7 (libslepc_real.so.3.7) in auto mode\n",
            "Setting up python3-slepc4py (3.7.0-3build1) ...\n",
            "Setting up libpetsc3.7-dev:amd64 (3.7.7+dfsg1-2build5) ...\n",
            "Setting up libslepc3.7.4-dev (3.7.4+dfsg1-2build8) ...\n",
            "update-alternatives: error: no alternatives for slepc\n",
            "update-alternatives: using /usr/lib/slepcdir/3.7.4/x86_64-linux-gnu-real to provide /usr/lib/slepc (slepc) in auto mode\n",
            "update-alternatives: using /usr/lib/x86_64-linux-gnu/libslepc_real.so.3.7.4 to provide /usr/lib/x86_64-linux-gnu/libslepc_real.so (libslepc_real.so) in auto mode\n",
            "update-alternatives: using /usr/lib/slepcdir/3.7.4/x86_64-linux-gnu-real to provide /usr/lib/slepcdir/3.7 (slepc3.7) in auto mode\n",
            "update-alternatives: using /usr/lib/slepcdir/3.7.4/x86_64-linux-gnu-real to provide /usr/lib/slepcdir/3.7-real (slepc3.7-real) in auto mode\n",
            "Setting up libdolfin2019.2:amd64 (2019.2.0~git20200629.946dbd3-2~ppa1~bionic4) ...\n",
            "Setting up libmshr2019.2:amd64 (2019.2.0~git20200924.c27eb18+git1-1~ppa1~bionic4) ...\n",
            "Setting up libdolfin-dev:amd64 (2019.2.0~git20200629.946dbd3-2~ppa1~bionic4) ...\n",
            "Setting up libslepc3.7-dev (3.7.4+dfsg1-2build8) ...\n",
            "Setting up libmshr-dev (2019.2.0~git20200924.c27eb18+git1-1~ppa1~bionic4) ...\n",
            "Setting up python3-dolfin-real (2019.2.0~git20200629.946dbd3-2~ppa1~bionic4) ...\n",
            "Setting up python3-dolfin (2019.2.0~git20200629.946dbd3-2~ppa1~bionic4) ...\n",
            "Setting up dolfin-doc (2019.2.0~git20200629.946dbd3-2~ppa1~bionic4) ...\n",
            "Setting up dolfin-bin (2019.2.0~git20200629.946dbd3-2~ppa1~bionic4) ...\n",
            "Setting up python3-mshr-real (2019.2.0~git20200924.c27eb18+git1-1~ppa1~bionic4) ...\n",
            "Setting up python3-mshr (2019.2.0~git20200924.c27eb18+git1-1~ppa1~bionic4) ...\n",
            "Setting up fenics:amd64 (1:2019.2.0.5~ppa1~bionic1) ...\n",
            "Processing triggers for systemd (237-3ubuntu10.44) ...\n",
            "Processing triggers for man-db (2.8.3-2ubuntu0.1) ...\n",
            "Processing triggers for fontconfig (2.12.6-0ubuntu2) ...\n",
            "Processing triggers for libc-bin (2.27-3ubuntu1.3) ...\n",
            "/sbin/ldconfig.real: /usr/local/lib/python3.6/dist-packages/ideep4py/lib/libmkldnn.so.0 is not a symbolic link\n",
            "\n",
            "2019.2.0.dev0\n"
          ],
          "name": "stdout"
        }
      ]
    },
    {
      "cell_type": "code",
      "metadata": {
        "id": "sLjw3BTVEaFW"
      },
      "source": [
        "import matplotlib.pyplot as plt\r\n",
        "import numpy as np"
      ],
      "execution_count": 2,
      "outputs": []
    },
    {
      "cell_type": "markdown",
      "metadata": {
        "id": "0CltstuGTeYf"
      },
      "source": [
        "**Energy**\n",
        "$$\n",
        "E(u, \\alpha):= \\frac{1}{2}\\int_\\Omega \n",
        "\\underbrace{a(\\alpha) E \\mathbb{C(\\nu)}}_{\\sigma(\\alpha)} e(u) : e(u) + \\frac{G_c}{c_w}\\int \\frac{\\alpha}{\\ell}+\\ell |\\nabla \\alpha|^2 dx\n",
        "$$\n",
        "\n",
        "where $u = ..., \\ell=$"
      ]
    },
    {
      "cell_type": "code",
      "metadata": {
        "id": "WvTtsEU3Eyqq"
      },
      "source": [
        "# Geometry\r\n",
        "\r\n",
        "L1=10;\r\n",
        "L = 10/L1; H = 5/L1;\r\n",
        "l0 = 1/L1; w = 2/L1;\r\n",
        "L1=(L-w)/2;\r\n",
        "L2=(L+w)/2;\r\n",
        "H1=H-l0;\r\n",
        "epsilon = 0.005; \r\n",
        "\r\n",
        "\r\n",
        "plate = Rectangle(Point(0,0), Point(L, H))\r\n",
        "\r\n",
        "notchVertices1 = [Point(L2-epsilon, H), Point(L2 , H1), Point(L2 + epsilon , H)]\r\n",
        "notch1 = Polygon(notchVertices1)\r\n",
        "notchVertices2 = [Point(L1+epsilon, 0), Point(L1 , l0), Point(L1 - epsilon ,0)]\r\n",
        "notch2 = Polygon(notchVertices2)\r\n",
        "\r\n",
        "domain = plate - notch1 - notch2 \r\n",
        "\r\n",
        "cellSize = .03\r\n",
        "nel = H / cellSize\r\n",
        "mesh   = generate_mesh(domain, nel)\r\n"
      ],
      "execution_count": 3,
      "outputs": []
    },
    {
      "cell_type": "code",
      "metadata": {
        "id": "WTiI0lBAHLxx",
        "colab": {
          "base_uri": "https://localhost:8080/"
        },
        "outputId": "d08cfcee-dd74-44fc-8a2d-8717e54022d8"
      },
      "source": [
        "# plot(mesh)"
      ],
      "execution_count": 59,
      "outputs": [
        {
          "output_type": "stream",
          "text": [
            "h min 0.0076097784028043266\n"
          ],
          "name": "stdout"
        }
      ]
    },
    {
      "cell_type": "code",
      "metadata": {
        "id": "nMEYxFVxDfO4"
      },
      "source": [
        "ndim = mesh.topology().dim()\r\n",
        "\r\n",
        "cell_mrk = MeshFunction('bool', mesh, ndim)\r\n",
        "cell_mrk.set_all(False)"
      ],
      "execution_count": 5,
      "outputs": []
    },
    {
      "cell_type": "code",
      "metadata": {
        "id": "pV3KSsmrDrNe",
        "colab": {
          "base_uri": "https://localhost:8080/",
          "height": 215
        },
        "outputId": "1b3b37cd-4651-4161-9586-fc543750eb45"
      },
      "source": [
        "for cell in cells(mesh):\r\n",
        "  if 0.3 < cell.midpoint()[0] < 0.7:\r\n",
        "    cell_mrk[cell] = True\r\n",
        "\r\n",
        "plot(cell_mrk)\r\n",
        "\r\n",
        "for i in range(2): mesh = refine(mesh, cell_mrk)\r\n",
        "# mesh = refine(mesh, cell_mrk)"
      ],
      "execution_count": 6,
      "outputs": [
        {
          "output_type": "display_data",
          "data": {
            "image/png": "[encoded data removed]",
            "text/plain": [
              "<Figure size 432x288 with 1 Axes>"
            ]
          },
          "metadata": {
            "tags": [],
            "needs_background": "light"
          }
        }
      ]
    },
    {
      "cell_type": "code",
      "metadata": {
        "id": "a9b_yB8TKUw8",
        "colab": {
          "base_uri": "https://localhost:8080/",
          "height": 249
        },
        "outputId": "867d7a73-5c16-4135-9aaa-ec9ff2d55773"
      },
      "source": [
        "plot(mesh)"
      ],
      "execution_count": 7,
      "outputs": [
        {
          "output_type": "execute_result",
          "data": {
            "text/plain": [
              "[<matplotlib.lines.Line2D at 0x7f1763645668>,\n",
              " <matplotlib.lines.Line2D at 0x7f17636457f0>]"
            ]
          },
          "metadata": {
            "tags": []
          },
          "execution_count": 7
        },
        {
          "output_type": "display_data",
          "data": {
            "image/png": "[encoded data removed]",
            "text/plain": [
              "<Figure size 432x288 with 1 Axes>"
            ]
          },
          "metadata": {
            "tags": [],
            "needs_background": "light"
          }
        }
      ]
    },
    {
      "cell_type": "code",
      "metadata": {
        "id": "GNZz1v_PKhDB",
        "outputId": "8fdba4b3-615a-4fdf-e93b-1e3d9548da74",
        "colab": {
          "base_uri": "https://localhost:8080/"
        }
      },
      "source": [
        "V_u = VectorFunctionSpace(mesh, 'CG', 1)\r\n",
        "V_alpha = FunctionSpace(mesh, 'CG', 1)\r\n",
        "\r\n",
        "u = Function(V_u)\r\n",
        "du = TrialFunction(V_u)\r\n",
        "v = TestFunction(V_u)\r\n",
        "\r\n",
        "alpha = Function(V_alpha)\r\n",
        "beta = TestFunction(V_alpha)\r\n",
        "dalpha = TrialFunction(V_alpha)"
      ],
      "execution_count": 8,
      "outputs": [
        {
          "output_type": "stream",
          "text": [
            "Calling FFC just-in-time (JIT) compiler, this may take some time.\n",
            "Calling FFC just-in-time (JIT) compiler, this may take some time.\n"
          ],
          "name": "stdout"
        }
      ]
    },
    {
      "cell_type": "code",
      "metadata": {
        "id": "F-NLJy0yKqnj"
      },
      "source": [
        "ut = Expression('t', t=0., degree=0)\r\n",
        "\r\n",
        "bcs_u = [DirichletBC(V_u.sub(0), ut, 'near(x[0], {}, 1e-5)'.format(0)), \r\n",
        "         DirichletBC(V_u.sub(0), Constant(0.), 'near(x[0], {}, 1e-5)'.format(L))]\r\n",
        "\r\n",
        "\r\n",
        "bca_0 = DirichletBC(V_alpha, Constant(0.), 'near(x[0], {}, 1e-5)'.format(0))\r\n",
        "bca_1 = DirichletBC(V_alpha, Constant(0.), 'near(x[0], {}, 1e-5)'.format(L))\r\n",
        "\r\n",
        "bc_alpha = [bca_0, bca_1]"
      ],
      "execution_count": 33,
      "outputs": []
    },
    {
      "cell_type": "code",
      "metadata": {
        "id": "TxZWrl_6MUMR"
      },
      "source": [
        "# Constitutive\r\n",
        "\r\n",
        "# Constitutive functions\r\n",
        "\r\n",
        "E, nu = Constant(1.), Constant(.0)\r\n",
        "Gc = Constant(1.)\r\n",
        "ell = Constant(0.05)\r\n",
        "\r\n",
        "ndim = mesh.topology().dim()\r\n",
        "\r\n",
        "def w(alpha):\r\n",
        "  return alpha\r\n",
        "\r\n",
        "def a(alpha):\r\n",
        "  return (1-alpha)**2\r\n",
        "\r\n",
        "def eps(u):\r\n",
        "  return sym(grad(u))\r\n",
        "\r\n",
        "def sigma0(u):\r\n",
        "  mu = E/(2.*(1.+nu))\r\n",
        "  lmbda = E*nu/(1-nu**2.)\r\n",
        "  return 2*mu*eps(u) + lmbda*tr(eps(u))*Identity(ndim)\r\n",
        "\r\n",
        "def sigma(alpha, u):\r\n",
        "  return a(alpha)*sigma0(u)"
      ],
      "execution_count": 34,
      "outputs": []
    },
    {
      "cell_type": "code",
      "metadata": {
        "id": "SP_wob6nUg3n",
        "outputId": "5c141f77-398a-4120-cd08-eb266930a6e9",
        "colab": {
          "base_uri": "https://localhost:8080/"
        }
      },
      "source": [
        "print(f'ell {ell.values()[0]}')\n",
        "print(f'h min {mesh.hmin():2f}')\n"
      ],
      "execution_count": 62,
      "outputs": [
        {
          "output_type": "stream",
          "text": [
            "ell 0.05\n",
            "h min 0.007610\n"
          ],
          "name": "stdout"
        }
      ]
    },
    {
      "cell_type": "code",
      "metadata": {
        "id": "QdncPJ6-MsuO"
      },
      "source": [
        "# import sympy\r\n",
        "\r\n",
        "# s = sympy.Symbol('s')\r\n",
        "# cw = float(sympy.integrate(4*sympy.sqrt(w(s)), (s, 0, 1)))\r\n",
        "\r\n",
        "# tmp = 2*(sympy.diff(w(s),s)/sympy.diff(1/a(s),s)).subs({\"s\":0})\r\n",
        "\r\n",
        "# print(\"Gc = %2.3f\"%((ell*cw)/tmp))\r\n",
        "\r\n",
        "# Gc = Constant((ell*cw)/tmp)\r\n",
        "\r\n",
        "Gc = 1.\r\n"
      ],
      "execution_count": 35,
      "outputs": []
    },
    {
      "cell_type": "code",
      "metadata": {
        "id": "l_btb-E5Mx3V"
      },
      "source": [
        "# Energetics\r\n",
        "\r\n",
        "elastic_energy = 0.5*inner(sigma(alpha, u), eps(u))*dx\r\n",
        "dissipated_energy = Gc/cw * (w(alpha)/ell + ell* inner(grad(alpha), grad(alpha)))*dx\r\n",
        "\r\n",
        "total_energy = elastic_energy + dissipated_energy \r\n",
        "\r\n",
        "E_u = derivative(total_energy, u, v)\r\n",
        "\r\n",
        "from ufl import replace\r\n",
        "E_du = replace(E_u, {u: du})\r\n",
        "\r\n",
        "E_alpha = derivative(total_energy, alpha, beta)\r\n",
        "E_alpha_alpha = derivative(E_alpha,alpha, dalpha)"
      ],
      "execution_count": 36,
      "outputs": []
    },
    {
      "cell_type": "code",
      "metadata": {
        "id": "-3UqVZo6NBLf"
      },
      "source": [
        "# Construction of linear and bilinear forms\r\n",
        "\r\n",
        "# problem_u = LinearVariationalProblem()\r\n",
        "problem_u = LinearVariationalProblem(lhs(E_du), rhs(E_du), u, bcs_u)\r\n",
        "solver_u = LinearVariationalSolver(problem_u)\r\n",
        "solver_u.parameters.update({\"linear_solver\" : \"umfpack\"})\r\n",
        "\r\n",
        "# Alternatively, compute explicitly:\r\n",
        "\r\n",
        "A = inner(sigma(alpha, du), eps(v))*dx\r\n",
        "# f0, g0 exist in L^2(\\Omega), L^2(\\partial\\Omega)\r\n",
        "# LL = dot(f0, v)*dx + dot(g0, v)*ds\r\n",
        "zero = project(Constant((0., 0.)), V_u)\r\n",
        "LL = dot(zero, v)*dx\r\n",
        "\r\n",
        "problem_u = LinearVariationalProblem(A, LL, u, bcs_u)"
      ],
      "execution_count": 37,
      "outputs": []
    },
    {
      "cell_type": "code",
      "metadata": {
        "id": "fpXzLkEPNHdS"
      },
      "source": [
        "# u = TrialFunction(V_u)\r\n",
        "ut.t = -.1\r\n",
        "solver_u.solve()"
      ],
      "execution_count": 40,
      "outputs": []
    },
    {
      "cell_type": "code",
      "metadata": {
        "id": "kRP5l1BLQ_ES",
        "outputId": "e2e729e1-83d3-4e10-d9ab-8c33ff037c6c",
        "colab": {
          "base_uri": "https://localhost:8080/",
          "height": 226
        }
      },
      "source": [
        "plot(u, mode='displacement')"
      ],
      "execution_count": 41,
      "outputs": [
        {
          "output_type": "execute_result",
          "data": {
            "text/plain": [
              "<matplotlib.collections.PolyCollection at 0x7f175c885da0>"
            ]
          },
          "metadata": {
            "tags": []
          },
          "execution_count": 41
        },
        {
          "output_type": "display_data",
          "data": {
            "image/png": "[encoded data removed]",
            "text/plain": [
              "<Figure size 432x288 with 1 Axes>"
            ]
          },
          "metadata": {
            "tags": [],
            "needs_background": "light"
          }
        }
      ]
    },
    {
      "cell_type": "code",
      "metadata": {
        "id": "lFCGCiFxNL5X"
      },
      "source": [
        "# dir(plot, mo)\r\n",
        "# plot(dot(u,u))"
      ],
      "execution_count": 43,
      "outputs": []
    },
    {
      "cell_type": "code",
      "metadata": {
        "id": "r3UXMhAaNT0i",
        "colab": {
          "base_uri": "https://localhost:8080/"
        },
        "outputId": "3007efba-c124-405c-8755-c999c6d6c639"
      },
      "source": [
        "# Bounds\r\n",
        "\r\n",
        "upperbound = project(Constant(1.), V_alpha)\r\n",
        "lowerbound = project(Constant(0.), V_alpha)\r\n",
        "\r\n",
        "# Boundary conditions\r\n",
        "# set damage = 0 where we impose displacement boundary conditions\r\n",
        "\r\n",
        "# bc_a1 = DirichletBC(V_alpha, Constant(0.), left)\r\n",
        "# bc_a2 = DirichletBC(V_alpha, Constant(0.), right)\r\n",
        "\r\n",
        "# bc_a = [bc_a1, bc_a2]\r\n",
        "\r\n",
        "# Nonlinear problem and solver\r\n",
        "\r\n",
        "problem_alpha = NonlinearVariationalProblem(E_alpha, alpha, bc_alpha, J=E_alpha_alpha)\r\n",
        "problem_alpha.set_bounds(lowerbound, upperbound)\r\n",
        "\r\n",
        "# solver able to solve with bounds: SNES\r\n",
        "\r\n",
        "solver_alpha = NonlinearVariationalSolver(problem_alpha)\r\n",
        "# info(solver_alpha.parameters, True)\r\n",
        "\r\n",
        "snes_solver_parameters_bounds = {\"nonlinear_solver\": \"snes\", \r\n",
        "                                 \"snes_solver\": {\"maximum_iterations\": 300,\r\n",
        "                                                 \"absolute_tolerance\": 1e-10,\r\n",
        "                                                 \"relative_tolerance\": 1e-5,\r\n",
        "                                                 \"solution_tolerance\": 1e-5,\r\n",
        "                                                 \"report\": True,\r\n",
        "                                                 \"linear_solver\" : \"mumps\"\r\n",
        "                                                 }\r\n",
        "                                }\r\n",
        "# Solver method  |  Description                                                 \r\n",
        "# ------------------------------------------------------------------------------\r\n",
        "# bicgstab       |  Biconjugate gradient stabilized method                      \r\n",
        "# cg             |  Conjugate gradient method                                   \r\n",
        "# default        |  default linear solver                                       \r\n",
        "# gmres          |  Generalized minimal residual method                         \r\n",
        "# minres         |  Minimal residual method                                     \r\n",
        "# mumps          |  MUMPS (MUltifrontal Massively Parallel Sparse direct Solver)\r\n",
        "# petsc          |  PETSc built in LU solver                                    \r\n",
        "# richardson     |  Richardson method                                           \r\n",
        "# superlu        |  SuperLU                                                     \r\n",
        "# tfqmr          |  Transpose-free quasi-minimal residual method                \r\n",
        "# umfpack        |  UMFPACK (Unsymmetric MultiFrontal sparse LU factorization)  \r\n",
        "\r\n",
        "solver_alpha.parameters.update(snes_solver_parameters_bounds)\r\n",
        "solver_alpha.solve()\r\n",
        "\r\n"
      ],
      "execution_count": 44,
      "outputs": [
        {
          "output_type": "stream",
          "text": [
            "Calling FFC just-in-time (JIT) compiler, this may take some time.\n",
            "Calling FFC just-in-time (JIT) compiler, this may take some time.\n"
          ],
          "name": "stdout"
        },
        {
          "output_type": "execute_result",
          "data": {
            "text/plain": [
              "(0, True)"
            ]
          },
          "metadata": {
            "tags": []
          },
          "execution_count": 44
        }
      ]
    },
    {
      "cell_type": "code",
      "metadata": {
        "id": "NXvHwSkRN3LG"
      },
      "source": [
        "# boundaries\r\n",
        "gauche = CompiledSubDomain(\"near(x[0], {}, 1e-4)\".format(0))\r\n",
        "droite = CompiledSubDomain(\"near(x[0], {}, 1e-4)\".format(L))\r\n",
        "\r\n",
        "# right = CompiledSubDomain(\"near(x[0], {}, 1e-4)\".format(Lx/2.))\r\n",
        "\r\n",
        "boundaries = MeshFunction(\"size_t\", mesh, 1)\r\n",
        "boundaries.set_all(0)\r\n",
        "gauche.mark(boundaries, 1) # mark gauche as 1\r\n",
        "droite.mark(boundaries, 2) # mark droite as 2\r\n",
        "#right.mark(boundaries, 3) # mark right as 3\r\n",
        "ds = Measure(\"ds\",subdomain_data=boundaries) # gauche: ds(1), droite: ds(2), right\r\n"
      ],
      "execution_count": 45,
      "outputs": []
    },
    {
      "cell_type": "code",
      "metadata": {
        "id": "7n8q4HSIU5pM"
      },
      "source": [
        "def alternate_minimisation(alpha, u,\r\n",
        "                           alpha_0 = project(Constant(0.), V_alpha),\r\n",
        "                           tol=1e-5, maxiter=100):\r\n",
        "  alpha_diff = Function(V_alpha)\r\n",
        "  iter = 1; error = 1\r\n",
        "  alpha.vector()[:] = alpha_0.vector()\r\n",
        "  \r\n",
        "  while iter < maxiter and error > tol:\r\n",
        "    solver_u.solve()\r\n",
        "    # u: solution\r\n",
        "\r\n",
        "    solver_alpha.solve()\r\n",
        "    # alpha: solution\r\n",
        "    # alpha0: alpha at previous timestep\r\n",
        "\r\n",
        "    alpha_diff.vector()[:] = alpha.vector() - alpha_0.vector()\r\n",
        "    error = norm(alpha_diff.vector(), 'l2')\r\n",
        "    print(\"Iteration %d, error %e, alpha_max=%.3f\"%(iter, error, max(alpha.vector())))\r\n",
        "    alpha_0.assign(alpha)\r\n",
        "\r\n",
        "    iter = iter+1\r\n",
        "\r\n",
        "  return (iter, error)"
      ],
      "execution_count": 46,
      "outputs": []
    },
    {
      "cell_type": "code",
      "metadata": {
        "id": "-YyOovEcVE6A",
        "outputId": "b5805956-cc21-45e2-f92b-23a19863f330",
        "colab": {
          "base_uri": "https://localhost:8080/"
        }
      },
      "source": [
        "# alpha = Function(V_alpha)\r\n",
        "ut.t = -2.4\r\n",
        "alternate_minimisation(alpha, u)"
      ],
      "execution_count": 50,
      "outputs": [
        {
          "output_type": "stream",
          "text": [
            "Iteration 1, error 3.030250e+00, alpha_max=0.334\n",
            "Iteration 2, error 3.725176e+00, alpha_max=0.591\n",
            "Iteration 3, error 4.387428e+00, alpha_max=0.832\n",
            "Iteration 4, error 4.003533e+00, alpha_max=0.975\n",
            "Iteration 5, error 3.029057e+00, alpha_max=1.000\n",
            "Iteration 6, error 2.593759e+00, alpha_max=1.000\n",
            "Iteration 7, error 2.280559e+00, alpha_max=1.000\n",
            "Iteration 8, error 1.257018e+00, alpha_max=1.000\n",
            "Iteration 9, error 3.212872e-01, alpha_max=1.000\n",
            "Iteration 10, error 1.127105e-01, alpha_max=1.000\n",
            "Iteration 11, error 8.530116e-02, alpha_max=1.000\n",
            "Iteration 12, error 6.672038e-02, alpha_max=1.000\n",
            "Iteration 13, error 3.414722e-02, alpha_max=1.000\n",
            "Iteration 14, error 1.622413e-02, alpha_max=1.000\n",
            "Iteration 15, error 1.234543e-03, alpha_max=1.000\n",
            "Iteration 16, error 8.229208e-05, alpha_max=1.000\n",
            "Iteration 17, error 7.698111e-06, alpha_max=1.000\n"
          ],
          "name": "stdout"
        },
        {
          "output_type": "execute_result",
          "data": {
            "text/plain": [
              "(18, 7.698111052484122e-06)"
            ]
          },
          "metadata": {
            "tags": []
          },
          "execution_count": 50
        }
      ]
    },
    {
      "cell_type": "code",
      "metadata": {
        "id": "3f8-cariVKJB",
        "colab": {
          "base_uri": "https://localhost:8080/",
          "height": 236
        },
        "outputId": "14a1497a-349d-4782-8c60-52f3c3835bdb"
      },
      "source": [
        "plot(alpha)"
      ],
      "execution_count": 51,
      "outputs": [
        {
          "output_type": "execute_result",
          "data": {
            "text/plain": [
              "<matplotlib.tri.tricontour.TriContourSet at 0x7f175c0da048>"
            ]
          },
          "metadata": {
            "tags": []
          },
          "execution_count": 51
        },
        {
          "output_type": "display_data",
          "data": {
            "image/png": "[encoded data removed]",
            "text/plain": [
              "<Figure size 432x288 with 1 Axes>"
            ]
          },
          "metadata": {
            "tags": [],
            "needs_background": "light"
          }
        }
      ]
    },
    {
      "cell_type": "code",
      "metadata": {
        "id": "WcaWIC-fVRJC"
      },
      "source": [
        "def postprocess():\r\n",
        "    tot_en.append(assemble(total_energy))\r\n",
        "    sur_en.append(assemble(dissipated_energy))\r\n",
        "    ela_en.append(assemble(elastic_energy))\r\n",
        "    # assemble(sigma(alpha, u)[1,1]*ds(1))\r\n",
        "    react_gauche.append(assemble(sigma(alpha,u)[1,1]*ds(1)))\r\n",
        "    print(\"** elastic = {:.3f}, surface = {:.3f}, total = {:.3f}\"\r\n",
        "      .format(ela_en[-1], sur_en[-1], tot_en[-1]))\r\n",
        "    print(\"** Converged in {:d} iterations, error = {:.3f}\"\r\n",
        "      .format(iter, error))"
      ],
      "execution_count": 52,
      "outputs": []
    },
    {
      "cell_type": "code",
      "metadata": {
        "id": "p5RbhV5IVevg"
      },
      "source": [
        "import os\r\n",
        "import shutil\r\n",
        "\r\n",
        "savedir = \"results/plate\"\r\n",
        "if os.path.isdir(savedir):\r\n",
        "    shutil.rmtree(savedir)\r\n",
        "    \r\n",
        "file_alpha = File(savedir+\"/alpha.pvd\") \r\n",
        "file_u = File(savedir+\"/u.pvd\")"
      ],
      "execution_count": 22,
      "outputs": []
    },
    {
      "cell_type": "code",
      "metadata": {
        "id": "aXSRfvtwViG9"
      },
      "source": [
        "file_u << u"
      ],
      "execution_count": 23,
      "outputs": []
    },
    {
      "cell_type": "code",
      "metadata": {
        "id": "npYgVL1aVji0",
        "colab": {
          "base_uri": "https://localhost:8080/"
        },
        "outputId": "a3d1f035-8da9-4678-bffa-ca7253e631a0"
      },
      "source": [
        "# Evolution monotonically increasing load\r\n",
        "\r\n",
        "loads = np.linspace(.0, -1.5, 10)\r\n",
        "\r\n",
        "energies = []\r\n",
        "\r\n",
        "tot_en = []\r\n",
        "sur_en = []\r\n",
        "ela_en = []\r\n",
        "react_gauche = []\r\n",
        "\r\n",
        "for (i, t) in enumerate(loads):\r\n",
        "  ut.t = t\r\n",
        "  print('')\r\n",
        "  print(\"** Load step: t=%.2f\"%t)\r\n",
        "  (iter, error) = alternate_minimisation(alpha, u, maxiter=200)\r\n",
        "  lowerbound.vector()[:] = alpha.vector()\r\n",
        "  # postproc\r\n",
        "  postprocess()\r\n",
        "\r\n",
        "\r\n",
        "energies = {'elastic': ela_en, 'surface': sur_en, 'total': tot_en}"
      ],
      "execution_count": 53,
      "outputs": [
        {
          "output_type": "stream",
          "text": [
            "\n",
            "** Load step: t=0.00\n",
            "Iteration 1, error 1.430297e+01, alpha_max=0.000\n",
            "Iteration 2, error 7.538383e-08, alpha_max=0.000\n",
            "Calling FFC just-in-time (JIT) compiler, this may take some time.\n",
            "Calling FFC just-in-time (JIT) compiler, this may take some time.\n",
            "** elastic = 0.000, surface = 0.000, total = 0.000\n",
            "** Converged in 3 iterations, error = 0.000\n",
            "\n",
            "** Load step: t=-0.17\n",
            "Iteration 1, error 0.000000e+00, alpha_max=0.000\n",
            "** elastic = 0.006, surface = 0.000, total = 0.006\n",
            "** Converged in 2 iterations, error = 0.000\n",
            "\n",
            "** Load step: t=-0.33\n",
            "Iteration 1, error 0.000000e+00, alpha_max=0.000\n",
            "** elastic = 0.024, surface = 0.000, total = 0.024\n",
            "** Converged in 2 iterations, error = 0.000\n",
            "\n",
            "** Load step: t=-0.50\n",
            "Iteration 1, error 0.000000e+00, alpha_max=0.000\n",
            "** elastic = 0.054, surface = 0.000, total = 0.054\n",
            "** Converged in 2 iterations, error = 0.000\n",
            "\n",
            "** Load step: t=-0.67\n",
            "Iteration 1, error 0.000000e+00, alpha_max=0.000\n",
            "** elastic = 0.096, surface = 0.000, total = 0.096\n",
            "** Converged in 2 iterations, error = 0.000\n",
            "\n",
            "** Load step: t=-0.83\n",
            "Iteration 1, error 5.672008e-04, alpha_max=0.000\n",
            "Iteration 2, error 2.309661e-06, alpha_max=0.000\n",
            "** elastic = 0.150, surface = 0.000, total = 0.150\n",
            "** Converged in 3 iterations, error = 0.000\n",
            "\n",
            "** Load step: t=-1.00\n",
            "Iteration 1, error 9.112254e-03, alpha_max=0.005\n",
            "Iteration 2, error 2.242702e-04, alpha_max=0.005\n",
            "Iteration 3, error 5.909815e-06, alpha_max=0.005\n",
            "** elastic = 0.216, surface = 0.000, total = 0.216\n",
            "** Converged in 4 iterations, error = 0.000\n",
            "\n",
            "** Load step: t=-1.17\n",
            "Iteration 1, error 2.543052e-02, alpha_max=0.015\n",
            "Iteration 2, error 1.569361e-03, alpha_max=0.016\n",
            "Iteration 3, error 9.801727e-05, alpha_max=0.016\n",
            "Iteration 4, error 6.134336e-06, alpha_max=0.016\n",
            "** elastic = 0.294, surface = 0.000, total = 0.294\n",
            "** Converged in 5 iterations, error = 0.000\n",
            "\n",
            "** Load step: t=-1.33\n",
            "Iteration 1, error 5.611983e-02, alpha_max=0.032\n",
            "Iteration 2, error 6.974382e-03, alpha_max=0.034\n",
            "Iteration 3, error 8.950899e-04, alpha_max=0.034\n",
            "Iteration 4, error 1.151725e-04, alpha_max=0.034\n",
            "Iteration 5, error 1.483166e-05, alpha_max=0.034\n",
            "Iteration 6, error 1.910793e-06, alpha_max=0.034\n",
            "** elastic = 0.384, surface = 0.001, total = 0.384\n",
            "** Converged in 7 iterations, error = 0.000\n",
            "\n",
            "** Load step: t=-1.50\n",
            "Iteration 1, error 1.130938e-01, alpha_max=0.059\n",
            "Iteration 2, error 2.537084e-02, alpha_max=0.065\n",
            "Iteration 3, error 6.037472e-03, alpha_max=0.066\n",
            "Iteration 4, error 1.447353e-03, alpha_max=0.066\n",
            "Iteration 5, error 3.470792e-04, alpha_max=0.066\n",
            "Iteration 6, error 8.333218e-05, alpha_max=0.066\n",
            "Iteration 7, error 2.002916e-05, alpha_max=0.066\n",
            "Iteration 8, error 4.818718e-06, alpha_max=0.066\n",
            "** elastic = 0.484, surface = 0.002, total = 0.486\n",
            "** Converged in 9 iterations, error = 0.000\n"
          ],
          "name": "stdout"
        }
      ]
    },
    {
      "cell_type": "code",
      "metadata": {
        "id": "dEPgCz6qV6I7",
        "colab": {
          "base_uri": "https://localhost:8080/",
          "height": 348
        },
        "outputId": "d94f3402-1b63-4044-b7ce-899004abe8a1"
      },
      "source": [
        "plt.figure(figsize=(10, 8))\r\n",
        "plot(alpha)"
      ],
      "execution_count": 25,
      "outputs": [
        {
          "output_type": "execute_result",
          "data": {
            "text/plain": [
              "<matplotlib.tri.tricontour.TriContourSet at 0x7f176be993c8>"
            ]
          },
          "metadata": {
            "tags": []
          },
          "execution_count": 25
        },
        {
          "output_type": "display_data",
          "data": {
            "image/png": "[encoded data removed]",
            "text/plain": [
              "<Figure size 720x576 with 1 Axes>"
            ]
          },
          "metadata": {
            "tags": [],
            "needs_background": "light"
          }
        }
      ]
    },
    {
      "cell_type": "code",
      "metadata": {
        "id": "J-RNXniVWBcl",
        "colab": {
          "base_uri": "https://localhost:8080/",
          "height": 279
        },
        "outputId": "a6d0a2af-5ad3-4196-94dc-0ccfd6909c19"
      },
      "source": [
        "def plot_stress():\r\n",
        "    plt.plot(loads, react_gauche, 'b*', linewidth = 2)\r\n",
        "    plt.xlabel('Displacement')\r\n",
        "    plt.ylabel('Force')\r\n",
        "\r\n",
        "def plot_energy():\r\n",
        "    p1, = plt.plot(loads, energies['elastic'],'b*',linewidth=2)\r\n",
        "    p2, = plt.plot(loads, energies['surface'],'r^',linewidth=2)\r\n",
        "    p3, = plt.plot(loads, energies['total'],'ko',linewidth=2)\r\n",
        "    plt.legend([p1, p2, p3], [\"Elastic\",\"Dissipated\",\"Total\"])\r\n",
        "    plt.xlabel('Displacement')\r\n",
        "    plt.ylabel('Energies')\r\n",
        "\r\n",
        "\r\n",
        "def plot_energy_stress():\r\n",
        "    plt.subplot(211)\r\n",
        "    plot_stress()\r\n",
        "    plt.subplot(212)\r\n",
        "    plot_energy()\r\n",
        "    plt.savefig('./energies_force.png')\r\n",
        "    plt.show()\r\n",
        "\r\n",
        "plot_energy_stress()\r\n"
      ],
      "execution_count": 54,
      "outputs": [
        {
          "output_type": "display_data",
          "data": {
            "image/png": "[encoded data removed]",
            "text/plain": [
              "<Figure size 432x288 with 2 Axes>"
            ]
          },
          "metadata": {
            "tags": [],
            "needs_background": "light"
          }
        }
      ]
    },
    {
      "cell_type": "code",
      "metadata": {
        "id": "x--ZTWmLQ7an"
      },
      "source": [
        ""
      ],
      "execution_count": null,
      "outputs": []
    }
  ]
}