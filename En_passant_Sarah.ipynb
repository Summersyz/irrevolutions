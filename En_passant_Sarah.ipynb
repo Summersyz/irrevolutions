{
  "nbformat": 4,
  "nbformat_minor": 0,
  "metadata": {
    "colab": {
      "name": "Untitled1.ipynb",
      "provenance": [],
      "authorship_tag": "ABX9TyMhVoJ0Cq7uEuemVeycY/S9",
      "include_colab_link": true
    },
    "kernelspec": {
      "name": "python3",
      "display_name": "Python 3"
    }
  },
  "cells": [
    {
      "cell_type": "markdown",
      "metadata": {
        "id": "view-in-github",
        "colab_type": "text"
      },
      "source": [
        "<a href=\"https://colab.research.google.com/github/kumiori/mec647/blob/main/En_passant_Sarah.ipynb\" target=\"_parent\"><img src=\"https://colab.research.google.com/assets/colab-badge.svg\" alt=\"Open In Colab\"/></a>"
      ]
    },
    {
      "cell_type": "code",
      "metadata": {
        "id": "tcQ-vfVB-Oao",
        "colab": {
          "base_uri": "https://localhost:8080/"
        },
        "outputId": "59259e69-6ee1-46db-f8d1-1a3128b5a0bd"
      },
      "source": [
        "import site\r\n",
        "import sys\r\n",
        "\r\n",
        "\r\n",
        "try : \r\n",
        "    from google.colab import files\r\n",
        "except:\r\n",
        "    pass\r\n",
        "    \r\n",
        "try:\r\n",
        "    from fenics import *; from mshr import *\r\n",
        "except ImportError as e:\r\n",
        "    !apt-get install software-properties-common\r\n",
        "    !add-apt-repository -y ppa:fenics-packages/fenics\r\n",
        "    !apt-get update -qq\r\n",
        "    !apt install -y fenics    \r\n",
        "    site.addsitedir('/usr/lib/petsc/lib/python3/dist-packages')  # Always appends to end\r\n",
        "\r\n",
        "    from fenics import *; from mshr import *\r\n",
        "    from ufl import replace\r\n",
        "\r\n",
        "!fenics-version"
      ],
      "execution_count": 2,
      "outputs": [
        {
          "output_type": "stream",
          "text": [
            "2019.2.0.dev0\n"
          ],
          "name": "stdout"
        }
      ]
    }
  ]
}